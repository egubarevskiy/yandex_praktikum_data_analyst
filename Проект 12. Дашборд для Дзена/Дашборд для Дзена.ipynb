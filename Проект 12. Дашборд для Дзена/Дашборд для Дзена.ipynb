{
 "cells": [
  {
   "cell_type": "markdown",
   "id": "4070d0e5",
   "metadata": {
    "toc": true
   },
   "source": [
    "<h1>Table of Contents<span class=\"tocSkip\"></span></h1>\n",
    "<div class=\"toc\"><ul class=\"toc-item\"><li><span><a href=\"#Импорт-данных-из-SQL-и-выгрузка-в-csv-формат-для-работы-в-Tableau\" data-toc-modified-id=\"Импорт-данных-из-SQL-и-выгрузка-в-csv-формат-для-работы-в-Tableau-1\"><span class=\"toc-item-num\">1&nbsp;&nbsp;</span>Импорт данных из SQL и выгрузка в csv-формат для работы в Tableau</a></span></li><li><span><a href=\"#Ссылка-на-дашборд-и-презентацию\" data-toc-modified-id=\"Ссылка-на-дашборд-и-презентацию-2\"><span class=\"toc-item-num\">2&nbsp;&nbsp;</span>Ссылка на дашборд и презентацию</a></span></li></ul></div>"
   ]
  },
  {
   "cell_type": "markdown",
   "id": "aa7c9a72",
   "metadata": {},
   "source": [
    "# Дашборд для Дзена"
   ]
  },
  {
   "cell_type": "markdown",
   "id": "576e5b53",
   "metadata": {},
   "source": [
    "**Цель проекта**  \n",
    "\n",
    "Ответить на следующие вопросы менеджеров Яндекс.Дзена, используя дашборд в Tableau:\n",
    "\n",
    "- Сколько взаимодействий пользователей с карточками происходит в системе с \n",
    "разбивкой по темам карточек?\n",
    "- Как много карточек генерируют источники с разными темами?\n",
    "- Как соотносятся темы карточек и темы источников? "
   ]
  },
  {
   "cell_type": "markdown",
   "id": "10d026b3",
   "metadata": {},
   "source": [
    "**Описание проекта**  \n",
    "\n",
    "Каждую карточку статьи определяют её тема и источник (у него тоже есть тема). Примеры тем: «Красота и здоровье», «Россия», «Путешествия».\n",
    "\n",
    "Пользователей системы характеризует возрастная категория. Скажем, «26-30» или «45+».\n",
    "\n",
    "Есть три способа взаимодействия пользователей с системой:\n",
    "- Карточка отображена для пользователя (show);\n",
    "- Пользователь кликнул на карточку (click);\n",
    "- Пользователь просмотрел статью карточки (view)."
   ]
  },
  {
   "cell_type": "markdown",
   "id": "68161d55",
   "metadata": {},
   "source": [
    "## Импорт данных из SQL и выгрузка в csv-формат для работы в Tableau"
   ]
  },
  {
   "cell_type": "code",
   "execution_count": 1,
   "id": "ebd8536b",
   "metadata": {},
   "outputs": [],
   "source": [
    "# импортируем библиотеки\n",
    "import pandas as pd\n",
    "from sqlalchemy import create_engine"
   ]
  },
  {
   "cell_type": "code",
   "execution_count": 2,
   "id": "bca757c9",
   "metadata": {},
   "outputs": [],
   "source": [
    "db_config = {'user': 'praktikum_student', # имя пользователя\n",
    "            'pwd': 'Sdf4$2;d-d30pp', # пароль\n",
    "            'host': 'rc1b-wcoijxj3yxfsf3fs.mdb.yandexcloud.net',\n",
    "            'port': 6432, # порт подключения\n",
    "            'db': 'data-analyst-zen-project-db'} # название базы данных\n",
    "\n",
    "connection_string = 'postgresql://{}:{}@{}:{}/{}'.format(db_config['user'],\n",
    "                                                db_config['pwd'],\n",
    "                                                db_config['host'],\n",
    "                                                db_config['port'],\n",
    "                                                db_config['db'])\n",
    "\n",
    "engine = create_engine(connection_string) "
   ]
  },
  {
   "cell_type": "code",
   "execution_count": 3,
   "id": "3535cbcc",
   "metadata": {},
   "outputs": [],
   "source": [
    "query = '''SELECT *\n",
    "           FROM dash_visits'''"
   ]
  },
  {
   "cell_type": "code",
   "execution_count": 4,
   "id": "965da758",
   "metadata": {},
   "outputs": [],
   "source": [
    "dash_visits = pd.io.sql.read_sql(query, con = engine) "
   ]
  },
  {
   "cell_type": "code",
   "execution_count": 5,
   "id": "f9af656d",
   "metadata": {},
   "outputs": [
    {
     "data": {
      "text/html": [
       "<div>\n",
       "<style scoped>\n",
       "    .dataframe tbody tr th:only-of-type {\n",
       "        vertical-align: middle;\n",
       "    }\n",
       "\n",
       "    .dataframe tbody tr th {\n",
       "        vertical-align: top;\n",
       "    }\n",
       "\n",
       "    .dataframe thead th {\n",
       "        text-align: right;\n",
       "    }\n",
       "</style>\n",
       "<table border=\"1\" class=\"dataframe\">\n",
       "  <thead>\n",
       "    <tr style=\"text-align: right;\">\n",
       "      <th></th>\n",
       "      <th>record_id</th>\n",
       "      <th>item_topic</th>\n",
       "      <th>source_topic</th>\n",
       "      <th>age_segment</th>\n",
       "      <th>dt</th>\n",
       "      <th>visits</th>\n",
       "    </tr>\n",
       "  </thead>\n",
       "  <tbody>\n",
       "    <tr>\n",
       "      <th>0</th>\n",
       "      <td>1040597</td>\n",
       "      <td>Деньги</td>\n",
       "      <td>Авто</td>\n",
       "      <td>18-25</td>\n",
       "      <td>2019-09-24 18:32:00</td>\n",
       "      <td>3</td>\n",
       "    </tr>\n",
       "    <tr>\n",
       "      <th>1</th>\n",
       "      <td>1040598</td>\n",
       "      <td>Деньги</td>\n",
       "      <td>Авто</td>\n",
       "      <td>18-25</td>\n",
       "      <td>2019-09-24 18:35:00</td>\n",
       "      <td>1</td>\n",
       "    </tr>\n",
       "    <tr>\n",
       "      <th>2</th>\n",
       "      <td>1040599</td>\n",
       "      <td>Деньги</td>\n",
       "      <td>Авто</td>\n",
       "      <td>18-25</td>\n",
       "      <td>2019-09-24 18:54:00</td>\n",
       "      <td>4</td>\n",
       "    </tr>\n",
       "    <tr>\n",
       "      <th>3</th>\n",
       "      <td>1040600</td>\n",
       "      <td>Деньги</td>\n",
       "      <td>Авто</td>\n",
       "      <td>18-25</td>\n",
       "      <td>2019-09-24 18:55:00</td>\n",
       "      <td>17</td>\n",
       "    </tr>\n",
       "    <tr>\n",
       "      <th>4</th>\n",
       "      <td>1040601</td>\n",
       "      <td>Деньги</td>\n",
       "      <td>Авто</td>\n",
       "      <td>18-25</td>\n",
       "      <td>2019-09-24 18:56:00</td>\n",
       "      <td>27</td>\n",
       "    </tr>\n",
       "  </tbody>\n",
       "</table>\n",
       "</div>"
      ],
      "text/plain": [
       "   record_id item_topic source_topic age_segment                  dt  visits\n",
       "0    1040597     Деньги         Авто       18-25 2019-09-24 18:32:00       3\n",
       "1    1040598     Деньги         Авто       18-25 2019-09-24 18:35:00       1\n",
       "2    1040599     Деньги         Авто       18-25 2019-09-24 18:54:00       4\n",
       "3    1040600     Деньги         Авто       18-25 2019-09-24 18:55:00      17\n",
       "4    1040601     Деньги         Авто       18-25 2019-09-24 18:56:00      27"
      ]
     },
     "execution_count": 5,
     "metadata": {},
     "output_type": "execute_result"
    }
   ],
   "source": [
    "dash_visits.head()"
   ]
  },
  {
   "cell_type": "code",
   "execution_count": 6,
   "id": "c8073112",
   "metadata": {},
   "outputs": [
    {
     "name": "stdout",
     "output_type": "stream",
     "text": [
      "<class 'pandas.core.frame.DataFrame'>\n",
      "RangeIndex: 30745 entries, 0 to 30744\n",
      "Data columns (total 6 columns):\n",
      " #   Column        Non-Null Count  Dtype         \n",
      "---  ------        --------------  -----         \n",
      " 0   record_id     30745 non-null  int64         \n",
      " 1   item_topic    30745 non-null  object        \n",
      " 2   source_topic  30745 non-null  object        \n",
      " 3   age_segment   30745 non-null  object        \n",
      " 4   dt            30745 non-null  datetime64[ns]\n",
      " 5   visits        30745 non-null  int64         \n",
      "dtypes: datetime64[ns](1), int64(2), object(3)\n",
      "memory usage: 1.4+ MB\n"
     ]
    }
   ],
   "source": [
    "dash_visits.info()"
   ]
  },
  {
   "cell_type": "code",
   "execution_count": 7,
   "id": "a67d6cd4",
   "metadata": {
    "scrolled": true
   },
   "outputs": [],
   "source": [
    "dash_visits.to_csv(r'dash_visits.csv', index=False)"
   ]
  },
  {
   "cell_type": "markdown",
   "id": "df293c26",
   "metadata": {},
   "source": [
    "## Ссылка на дашборд и презентацию"
   ]
  },
  {
   "cell_type": "markdown",
   "id": "7af44b40",
   "metadata": {},
   "source": [
    "Дашборд опубликован [на сайте Tableau Public](https://public.tableau.com/app/profile/evgeniy.gubarevskiy/viz/project_automatization_16876242113670/sheet4?publish=yes)."
   ]
  },
  {
   "cell_type": "markdown",
   "id": "1a148fdb",
   "metadata": {},
   "source": [
    "Презентация доступна [по ссылке](https://disk.yandex.ru/i/mNonjx3zhEWrUQ)."
   ]
  }
 ],
 "metadata": {
  "kernelspec": {
   "display_name": "Python 3 (ipykernel)",
   "language": "python",
   "name": "python3"
  },
  "language_info": {
   "codemirror_mode": {
    "name": "ipython",
    "version": 3
   },
   "file_extension": ".py",
   "mimetype": "text/x-python",
   "name": "python",
   "nbconvert_exporter": "python",
   "pygments_lexer": "ipython3",
   "version": "3.9.15"
  },
  "toc": {
   "base_numbering": 1,
   "nav_menu": {},
   "number_sections": true,
   "sideBar": true,
   "skip_h1_title": true,
   "title_cell": "Table of Contents",
   "title_sidebar": "Contents",
   "toc_cell": true,
   "toc_position": {},
   "toc_section_display": true,
   "toc_window_display": false
  }
 },
 "nbformat": 4,
 "nbformat_minor": 5
}
