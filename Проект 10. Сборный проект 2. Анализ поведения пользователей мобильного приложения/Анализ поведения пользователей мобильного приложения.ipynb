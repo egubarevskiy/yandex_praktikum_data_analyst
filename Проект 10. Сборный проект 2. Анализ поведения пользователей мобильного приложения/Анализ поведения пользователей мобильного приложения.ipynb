{
  "cells": [
    {
      "cell_type": "markdown",
      "metadata": {
        "id": "btQxBlOMNNuW"
      },
      "source": [
        "# Сборный проект - 2"
      ]
    },
    {
      "cell_type": "markdown",
      "metadata": {
        "id": "yEJzhWteNNuX"
      },
      "source": [
        "**Описание проекта**\n",
        "\n",
        "Стартап, который продаёт продукты питания, планирует разобраться в поведении пользователей мобильного приложения."
      ]
    },
    {
      "cell_type": "markdown",
      "metadata": {
        "id": "WwegoJvENNuX"
      },
      "source": [
        "**Цель проекта**\n",
        "\n",
        "Изучить воронку продаж и исследовать результаты A/A/B-эксперимента по изменению шрифтов в приложении."
      ]
    },
    {
      "cell_type": "markdown",
      "metadata": {
        "id": "ew5-vdcYNNuX"
      },
      "source": [
        "**Ход исследования**\n",
        "\n",
        "Исследование пройдёт в пять этапов:\n",
        "1. Обзор данных\n",
        "2. Подготовка данных\n",
        "3. Изучение и проверка данных\n",
        "4. Анализ воронки событий\n",
        "5. Анализ результатов эксперимента"
      ]
    },
    {
      "cell_type": "markdown",
      "metadata": {
        "id": "FI8mTy0YNNuY"
      },
      "source": [
        "**Описание данных**\n",
        "\n",
        "Каждая запись в логе — это действие пользователя, или событие.  \n",
        "- EventName — название события;\n",
        "- DeviceIDHash — уникальный идентификатор пользователя;\n",
        "- EventTimestamp — время события;\n",
        "- ExpId — номер эксперимента: 246 и 247 — контрольные группы, а 248 — экспериментальная."
      ]
    },
    {
      "cell_type": "markdown",
      "metadata": {
        "id": "ocJZIRApNNuZ"
      },
      "source": [
        "## Шаг 1. Обзор данных"
      ]
    },
    {
      "cell_type": "code",
      "execution_count": null,
      "metadata": {
        "id": "0keUW7aQNNuZ"
      },
      "outputs": [],
      "source": [
        "import pandas as pd # импортируем необходимые библиотеки\n",
        "import numpy as np\n",
        "import matplotlib.pyplot as plt\n",
        "import datetime as dt\n",
        "from scipy import stats as st\n",
        "import math as mth\n",
        "from plotly import graph_objects as go"
      ]
    },
    {
      "cell_type": "code",
      "execution_count": null,
      "metadata": {
        "id": "BRgkJ-zKNNub"
      },
      "outputs": [],
      "source": [
        "pd.set_option('display.max_columns', None) # код для того, чтобы отображались все столбцы датафрейма при выводе их на экран\n",
        "pd.set_option('max_colwidth', 200) # код для того, чтобы столбцы отображались полностью"
      ]
    },
    {
      "cell_type": "code",
      "execution_count": null,
      "metadata": {
        "scrolled": true,
        "colab": {
          "base_uri": "https://localhost:8080/",
          "height": 206
        },
        "id": "lJEdlS6YNNub",
        "outputId": "c965f5c5-71a5-4a0e-87da-795bc6fbf826"
      },
      "outputs": [
        {
          "output_type": "execute_result",
          "data": {
            "text/plain": [
              "                 EventName         DeviceIDHash  EventTimestamp  ExpId\n",
              "0         MainScreenAppear  4575588528974610257      1564029816    246\n",
              "1         MainScreenAppear  7416695313311560658      1564053102    246\n",
              "2  PaymentScreenSuccessful  3518123091307005509      1564054127    248\n",
              "3         CartScreenAppear  3518123091307005509      1564054127    248\n",
              "4  PaymentScreenSuccessful  6217807653094995999      1564055322    248"
            ],
            "text/html": [
              "\n",
              "  <div id=\"df-05407758-595b-4c88-8522-fe3bf5ffe17d\" class=\"colab-df-container\">\n",
              "    <div>\n",
              "<style scoped>\n",
              "    .dataframe tbody tr th:only-of-type {\n",
              "        vertical-align: middle;\n",
              "    }\n",
              "\n",
              "    .dataframe tbody tr th {\n",
              "        vertical-align: top;\n",
              "    }\n",
              "\n",
              "    .dataframe thead th {\n",
              "        text-align: right;\n",
              "    }\n",
              "</style>\n",
              "<table border=\"1\" class=\"dataframe\">\n",
              "  <thead>\n",
              "    <tr style=\"text-align: right;\">\n",
              "      <th></th>\n",
              "      <th>EventName</th>\n",
              "      <th>DeviceIDHash</th>\n",
              "      <th>EventTimestamp</th>\n",
              "      <th>ExpId</th>\n",
              "    </tr>\n",
              "  </thead>\n",
              "  <tbody>\n",
              "    <tr>\n",
              "      <th>0</th>\n",
              "      <td>MainScreenAppear</td>\n",
              "      <td>4575588528974610257</td>\n",
              "      <td>1564029816</td>\n",
              "      <td>246</td>\n",
              "    </tr>\n",
              "    <tr>\n",
              "      <th>1</th>\n",
              "      <td>MainScreenAppear</td>\n",
              "      <td>7416695313311560658</td>\n",
              "      <td>1564053102</td>\n",
              "      <td>246</td>\n",
              "    </tr>\n",
              "    <tr>\n",
              "      <th>2</th>\n",
              "      <td>PaymentScreenSuccessful</td>\n",
              "      <td>3518123091307005509</td>\n",
              "      <td>1564054127</td>\n",
              "      <td>248</td>\n",
              "    </tr>\n",
              "    <tr>\n",
              "      <th>3</th>\n",
              "      <td>CartScreenAppear</td>\n",
              "      <td>3518123091307005509</td>\n",
              "      <td>1564054127</td>\n",
              "      <td>248</td>\n",
              "    </tr>\n",
              "    <tr>\n",
              "      <th>4</th>\n",
              "      <td>PaymentScreenSuccessful</td>\n",
              "      <td>6217807653094995999</td>\n",
              "      <td>1564055322</td>\n",
              "      <td>248</td>\n",
              "    </tr>\n",
              "  </tbody>\n",
              "</table>\n",
              "</div>\n",
              "    <div class=\"colab-df-buttons\">\n",
              "\n",
              "  <div class=\"colab-df-container\">\n",
              "    <button class=\"colab-df-convert\" onclick=\"convertToInteractive('df-05407758-595b-4c88-8522-fe3bf5ffe17d')\"\n",
              "            title=\"Convert this dataframe to an interactive table.\"\n",
              "            style=\"display:none;\">\n",
              "\n",
              "  <svg xmlns=\"http://www.w3.org/2000/svg\" height=\"24px\" viewBox=\"0 -960 960 960\">\n",
              "    <path d=\"M120-120v-720h720v720H120Zm60-500h600v-160H180v160Zm220 220h160v-160H400v160Zm0 220h160v-160H400v160ZM180-400h160v-160H180v160Zm440 0h160v-160H620v160ZM180-180h160v-160H180v160Zm440 0h160v-160H620v160Z\"/>\n",
              "  </svg>\n",
              "    </button>\n",
              "\n",
              "  <style>\n",
              "    .colab-df-container {\n",
              "      display:flex;\n",
              "      gap: 12px;\n",
              "    }\n",
              "\n",
              "    .colab-df-convert {\n",
              "      background-color: #E8F0FE;\n",
              "      border: none;\n",
              "      border-radius: 50%;\n",
              "      cursor: pointer;\n",
              "      display: none;\n",
              "      fill: #1967D2;\n",
              "      height: 32px;\n",
              "      padding: 0 0 0 0;\n",
              "      width: 32px;\n",
              "    }\n",
              "\n",
              "    .colab-df-convert:hover {\n",
              "      background-color: #E2EBFA;\n",
              "      box-shadow: 0px 1px 2px rgba(60, 64, 67, 0.3), 0px 1px 3px 1px rgba(60, 64, 67, 0.15);\n",
              "      fill: #174EA6;\n",
              "    }\n",
              "\n",
              "    .colab-df-buttons div {\n",
              "      margin-bottom: 4px;\n",
              "    }\n",
              "\n",
              "    [theme=dark] .colab-df-convert {\n",
              "      background-color: #3B4455;\n",
              "      fill: #D2E3FC;\n",
              "    }\n",
              "\n",
              "    [theme=dark] .colab-df-convert:hover {\n",
              "      background-color: #434B5C;\n",
              "      box-shadow: 0px 1px 3px 1px rgba(0, 0, 0, 0.15);\n",
              "      filter: drop-shadow(0px 1px 2px rgba(0, 0, 0, 0.3));\n",
              "      fill: #FFFFFF;\n",
              "    }\n",
              "  </style>\n",
              "\n",
              "    <script>\n",
              "      const buttonEl =\n",
              "        document.querySelector('#df-05407758-595b-4c88-8522-fe3bf5ffe17d button.colab-df-convert');\n",
              "      buttonEl.style.display =\n",
              "        google.colab.kernel.accessAllowed ? 'block' : 'none';\n",
              "\n",
              "      async function convertToInteractive(key) {\n",
              "        const element = document.querySelector('#df-05407758-595b-4c88-8522-fe3bf5ffe17d');\n",
              "        const dataTable =\n",
              "          await google.colab.kernel.invokeFunction('convertToInteractive',\n",
              "                                                    [key], {});\n",
              "        if (!dataTable) return;\n",
              "\n",
              "        const docLinkHtml = 'Like what you see? Visit the ' +\n",
              "          '<a target=\"_blank\" href=https://colab.research.google.com/notebooks/data_table.ipynb>data table notebook</a>'\n",
              "          + ' to learn more about interactive tables.';\n",
              "        element.innerHTML = '';\n",
              "        dataTable['output_type'] = 'display_data';\n",
              "        await google.colab.output.renderOutput(dataTable, element);\n",
              "        const docLink = document.createElement('div');\n",
              "        docLink.innerHTML = docLinkHtml;\n",
              "        element.appendChild(docLink);\n",
              "      }\n",
              "    </script>\n",
              "  </div>\n",
              "\n",
              "\n",
              "<div id=\"df-5bb7c9ef-b9fa-482d-a9dd-7fce193a87b1\">\n",
              "  <button class=\"colab-df-quickchart\" onclick=\"quickchart('df-5bb7c9ef-b9fa-482d-a9dd-7fce193a87b1')\"\n",
              "            title=\"Suggest charts.\"\n",
              "            style=\"display:none;\">\n",
              "\n",
              "<svg xmlns=\"http://www.w3.org/2000/svg\" height=\"24px\"viewBox=\"0 0 24 24\"\n",
              "     width=\"24px\">\n",
              "    <g>\n",
              "        <path d=\"M19 3H5c-1.1 0-2 .9-2 2v14c0 1.1.9 2 2 2h14c1.1 0 2-.9 2-2V5c0-1.1-.9-2-2-2zM9 17H7v-7h2v7zm4 0h-2V7h2v10zm4 0h-2v-4h2v4z\"/>\n",
              "    </g>\n",
              "</svg>\n",
              "  </button>\n",
              "\n",
              "<style>\n",
              "  .colab-df-quickchart {\n",
              "      --bg-color: #E8F0FE;\n",
              "      --fill-color: #1967D2;\n",
              "      --hover-bg-color: #E2EBFA;\n",
              "      --hover-fill-color: #174EA6;\n",
              "      --disabled-fill-color: #AAA;\n",
              "      --disabled-bg-color: #DDD;\n",
              "  }\n",
              "\n",
              "  [theme=dark] .colab-df-quickchart {\n",
              "      --bg-color: #3B4455;\n",
              "      --fill-color: #D2E3FC;\n",
              "      --hover-bg-color: #434B5C;\n",
              "      --hover-fill-color: #FFFFFF;\n",
              "      --disabled-bg-color: #3B4455;\n",
              "      --disabled-fill-color: #666;\n",
              "  }\n",
              "\n",
              "  .colab-df-quickchart {\n",
              "    background-color: var(--bg-color);\n",
              "    border: none;\n",
              "    border-radius: 50%;\n",
              "    cursor: pointer;\n",
              "    display: none;\n",
              "    fill: var(--fill-color);\n",
              "    height: 32px;\n",
              "    padding: 0;\n",
              "    width: 32px;\n",
              "  }\n",
              "\n",
              "  .colab-df-quickchart:hover {\n",
              "    background-color: var(--hover-bg-color);\n",
              "    box-shadow: 0 1px 2px rgba(60, 64, 67, 0.3), 0 1px 3px 1px rgba(60, 64, 67, 0.15);\n",
              "    fill: var(--button-hover-fill-color);\n",
              "  }\n",
              "\n",
              "  .colab-df-quickchart-complete:disabled,\n",
              "  .colab-df-quickchart-complete:disabled:hover {\n",
              "    background-color: var(--disabled-bg-color);\n",
              "    fill: var(--disabled-fill-color);\n",
              "    box-shadow: none;\n",
              "  }\n",
              "\n",
              "  .colab-df-spinner {\n",
              "    border: 2px solid var(--fill-color);\n",
              "    border-color: transparent;\n",
              "    border-bottom-color: var(--fill-color);\n",
              "    animation:\n",
              "      spin 1s steps(1) infinite;\n",
              "  }\n",
              "\n",
              "  @keyframes spin {\n",
              "    0% {\n",
              "      border-color: transparent;\n",
              "      border-bottom-color: var(--fill-color);\n",
              "      border-left-color: var(--fill-color);\n",
              "    }\n",
              "    20% {\n",
              "      border-color: transparent;\n",
              "      border-left-color: var(--fill-color);\n",
              "      border-top-color: var(--fill-color);\n",
              "    }\n",
              "    30% {\n",
              "      border-color: transparent;\n",
              "      border-left-color: var(--fill-color);\n",
              "      border-top-color: var(--fill-color);\n",
              "      border-right-color: var(--fill-color);\n",
              "    }\n",
              "    40% {\n",
              "      border-color: transparent;\n",
              "      border-right-color: var(--fill-color);\n",
              "      border-top-color: var(--fill-color);\n",
              "    }\n",
              "    60% {\n",
              "      border-color: transparent;\n",
              "      border-right-color: var(--fill-color);\n",
              "    }\n",
              "    80% {\n",
              "      border-color: transparent;\n",
              "      border-right-color: var(--fill-color);\n",
              "      border-bottom-color: var(--fill-color);\n",
              "    }\n",
              "    90% {\n",
              "      border-color: transparent;\n",
              "      border-bottom-color: var(--fill-color);\n",
              "    }\n",
              "  }\n",
              "</style>\n",
              "\n",
              "  <script>\n",
              "    async function quickchart(key) {\n",
              "      const quickchartButtonEl =\n",
              "        document.querySelector('#' + key + ' button');\n",
              "      quickchartButtonEl.disabled = true;  // To prevent multiple clicks.\n",
              "      quickchartButtonEl.classList.add('colab-df-spinner');\n",
              "      try {\n",
              "        const charts = await google.colab.kernel.invokeFunction(\n",
              "            'suggestCharts', [key], {});\n",
              "      } catch (error) {\n",
              "        console.error('Error during call to suggestCharts:', error);\n",
              "      }\n",
              "      quickchartButtonEl.classList.remove('colab-df-spinner');\n",
              "      quickchartButtonEl.classList.add('colab-df-quickchart-complete');\n",
              "    }\n",
              "    (() => {\n",
              "      let quickchartButtonEl =\n",
              "        document.querySelector('#df-5bb7c9ef-b9fa-482d-a9dd-7fce193a87b1 button');\n",
              "      quickchartButtonEl.style.display =\n",
              "        google.colab.kernel.accessAllowed ? 'block' : 'none';\n",
              "    })();\n",
              "  </script>\n",
              "</div>\n",
              "    </div>\n",
              "  </div>\n"
            ]
          },
          "metadata": {},
          "execution_count": 72
        }
      ],
      "source": [
        "logs = pd.read_csv('/datasets/logs_exp.csv',sep= '\\t') # откроем файл '/datasets/logs_exp.csv' и сохраним его в переменную logs\n",
        "logs.head() # отобразим первые 5 строк датафрейма"
      ]
    },
    {
      "cell_type": "markdown",
      "metadata": {
        "id": "0vIN70tWNNuc"
      },
      "source": [
        "## Шаг 2. Подготовка данных"
      ]
    },
    {
      "cell_type": "markdown",
      "metadata": {
        "id": "13NX2onENNuc"
      },
      "source": [
        "### Шаг 2.1. Замените названия столбцов на удобные для вас."
      ]
    },
    {
      "cell_type": "code",
      "execution_count": null,
      "metadata": {
        "scrolled": true,
        "colab": {
          "base_uri": "https://localhost:8080/",
          "height": 206
        },
        "id": "OeK7o_MANNuc",
        "outputId": "3bf569d7-296b-4631-9c77-6b22434ee0dc"
      },
      "outputs": [
        {
          "output_type": "execute_result",
          "data": {
            "text/plain": [
              "                event_name       device_id_hash  event_timestamp  exp_id\n",
              "0         MainScreenAppear  4575588528974610257       1564029816     246\n",
              "1         MainScreenAppear  7416695313311560658       1564053102     246\n",
              "2  PaymentScreenSuccessful  3518123091307005509       1564054127     248\n",
              "3         CartScreenAppear  3518123091307005509       1564054127     248\n",
              "4  PaymentScreenSuccessful  6217807653094995999       1564055322     248"
            ],
            "text/html": [
              "\n",
              "  <div id=\"df-f8dd5c24-2274-4c37-b455-26257bf5e011\" class=\"colab-df-container\">\n",
              "    <div>\n",
              "<style scoped>\n",
              "    .dataframe tbody tr th:only-of-type {\n",
              "        vertical-align: middle;\n",
              "    }\n",
              "\n",
              "    .dataframe tbody tr th {\n",
              "        vertical-align: top;\n",
              "    }\n",
              "\n",
              "    .dataframe thead th {\n",
              "        text-align: right;\n",
              "    }\n",
              "</style>\n",
              "<table border=\"1\" class=\"dataframe\">\n",
              "  <thead>\n",
              "    <tr style=\"text-align: right;\">\n",
              "      <th></th>\n",
              "      <th>event_name</th>\n",
              "      <th>device_id_hash</th>\n",
              "      <th>event_timestamp</th>\n",
              "      <th>exp_id</th>\n",
              "    </tr>\n",
              "  </thead>\n",
              "  <tbody>\n",
              "    <tr>\n",
              "      <th>0</th>\n",
              "      <td>MainScreenAppear</td>\n",
              "      <td>4575588528974610257</td>\n",
              "      <td>1564029816</td>\n",
              "      <td>246</td>\n",
              "    </tr>\n",
              "    <tr>\n",
              "      <th>1</th>\n",
              "      <td>MainScreenAppear</td>\n",
              "      <td>7416695313311560658</td>\n",
              "      <td>1564053102</td>\n",
              "      <td>246</td>\n",
              "    </tr>\n",
              "    <tr>\n",
              "      <th>2</th>\n",
              "      <td>PaymentScreenSuccessful</td>\n",
              "      <td>3518123091307005509</td>\n",
              "      <td>1564054127</td>\n",
              "      <td>248</td>\n",
              "    </tr>\n",
              "    <tr>\n",
              "      <th>3</th>\n",
              "      <td>CartScreenAppear</td>\n",
              "      <td>3518123091307005509</td>\n",
              "      <td>1564054127</td>\n",
              "      <td>248</td>\n",
              "    </tr>\n",
              "    <tr>\n",
              "      <th>4</th>\n",
              "      <td>PaymentScreenSuccessful</td>\n",
              "      <td>6217807653094995999</td>\n",
              "      <td>1564055322</td>\n",
              "      <td>248</td>\n",
              "    </tr>\n",
              "  </tbody>\n",
              "</table>\n",
              "</div>\n",
              "    <div class=\"colab-df-buttons\">\n",
              "\n",
              "  <div class=\"colab-df-container\">\n",
              "    <button class=\"colab-df-convert\" onclick=\"convertToInteractive('df-f8dd5c24-2274-4c37-b455-26257bf5e011')\"\n",
              "            title=\"Convert this dataframe to an interactive table.\"\n",
              "            style=\"display:none;\">\n",
              "\n",
              "  <svg xmlns=\"http://www.w3.org/2000/svg\" height=\"24px\" viewBox=\"0 -960 960 960\">\n",
              "    <path d=\"M120-120v-720h720v720H120Zm60-500h600v-160H180v160Zm220 220h160v-160H400v160Zm0 220h160v-160H400v160ZM180-400h160v-160H180v160Zm440 0h160v-160H620v160ZM180-180h160v-160H180v160Zm440 0h160v-160H620v160Z\"/>\n",
              "  </svg>\n",
              "    </button>\n",
              "\n",
              "  <style>\n",
              "    .colab-df-container {\n",
              "      display:flex;\n",
              "      gap: 12px;\n",
              "    }\n",
              "\n",
              "    .colab-df-convert {\n",
              "      background-color: #E8F0FE;\n",
              "      border: none;\n",
              "      border-radius: 50%;\n",
              "      cursor: pointer;\n",
              "      display: none;\n",
              "      fill: #1967D2;\n",
              "      height: 32px;\n",
              "      padding: 0 0 0 0;\n",
              "      width: 32px;\n",
              "    }\n",
              "\n",
              "    .colab-df-convert:hover {\n",
              "      background-color: #E2EBFA;\n",
              "      box-shadow: 0px 1px 2px rgba(60, 64, 67, 0.3), 0px 1px 3px 1px rgba(60, 64, 67, 0.15);\n",
              "      fill: #174EA6;\n",
              "    }\n",
              "\n",
              "    .colab-df-buttons div {\n",
              "      margin-bottom: 4px;\n",
              "    }\n",
              "\n",
              "    [theme=dark] .colab-df-convert {\n",
              "      background-color: #3B4455;\n",
              "      fill: #D2E3FC;\n",
              "    }\n",
              "\n",
              "    [theme=dark] .colab-df-convert:hover {\n",
              "      background-color: #434B5C;\n",
              "      box-shadow: 0px 1px 3px 1px rgba(0, 0, 0, 0.15);\n",
              "      filter: drop-shadow(0px 1px 2px rgba(0, 0, 0, 0.3));\n",
              "      fill: #FFFFFF;\n",
              "    }\n",
              "  </style>\n",
              "\n",
              "    <script>\n",
              "      const buttonEl =\n",
              "        document.querySelector('#df-f8dd5c24-2274-4c37-b455-26257bf5e011 button.colab-df-convert');\n",
              "      buttonEl.style.display =\n",
              "        google.colab.kernel.accessAllowed ? 'block' : 'none';\n",
              "\n",
              "      async function convertToInteractive(key) {\n",
              "        const element = document.querySelector('#df-f8dd5c24-2274-4c37-b455-26257bf5e011');\n",
              "        const dataTable =\n",
              "          await google.colab.kernel.invokeFunction('convertToInteractive',\n",
              "                                                    [key], {});\n",
              "        if (!dataTable) return;\n",
              "\n",
              "        const docLinkHtml = 'Like what you see? Visit the ' +\n",
              "          '<a target=\"_blank\" href=https://colab.research.google.com/notebooks/data_table.ipynb>data table notebook</a>'\n",
              "          + ' to learn more about interactive tables.';\n",
              "        element.innerHTML = '';\n",
              "        dataTable['output_type'] = 'display_data';\n",
              "        await google.colab.output.renderOutput(dataTable, element);\n",
              "        const docLink = document.createElement('div');\n",
              "        docLink.innerHTML = docLinkHtml;\n",
              "        element.appendChild(docLink);\n",
              "      }\n",
              "    </script>\n",
              "  </div>\n",
              "\n",
              "\n",
              "<div id=\"df-92164c3f-4878-4443-904e-6df0d6f920c7\">\n",
              "  <button class=\"colab-df-quickchart\" onclick=\"quickchart('df-92164c3f-4878-4443-904e-6df0d6f920c7')\"\n",
              "            title=\"Suggest charts.\"\n",
              "            style=\"display:none;\">\n",
              "\n",
              "<svg xmlns=\"http://www.w3.org/2000/svg\" height=\"24px\"viewBox=\"0 0 24 24\"\n",
              "     width=\"24px\">\n",
              "    <g>\n",
              "        <path d=\"M19 3H5c-1.1 0-2 .9-2 2v14c0 1.1.9 2 2 2h14c1.1 0 2-.9 2-2V5c0-1.1-.9-2-2-2zM9 17H7v-7h2v7zm4 0h-2V7h2v10zm4 0h-2v-4h2v4z\"/>\n",
              "    </g>\n",
              "</svg>\n",
              "  </button>\n",
              "\n",
              "<style>\n",
              "  .colab-df-quickchart {\n",
              "      --bg-color: #E8F0FE;\n",
              "      --fill-color: #1967D2;\n",
              "      --hover-bg-color: #E2EBFA;\n",
              "      --hover-fill-color: #174EA6;\n",
              "      --disabled-fill-color: #AAA;\n",
              "      --disabled-bg-color: #DDD;\n",
              "  }\n",
              "\n",
              "  [theme=dark] .colab-df-quickchart {\n",
              "      --bg-color: #3B4455;\n",
              "      --fill-color: #D2E3FC;\n",
              "      --hover-bg-color: #434B5C;\n",
              "      --hover-fill-color: #FFFFFF;\n",
              "      --disabled-bg-color: #3B4455;\n",
              "      --disabled-fill-color: #666;\n",
              "  }\n",
              "\n",
              "  .colab-df-quickchart {\n",
              "    background-color: var(--bg-color);\n",
              "    border: none;\n",
              "    border-radius: 50%;\n",
              "    cursor: pointer;\n",
              "    display: none;\n",
              "    fill: var(--fill-color);\n",
              "    height: 32px;\n",
              "    padding: 0;\n",
              "    width: 32px;\n",
              "  }\n",
              "\n",
              "  .colab-df-quickchart:hover {\n",
              "    background-color: var(--hover-bg-color);\n",
              "    box-shadow: 0 1px 2px rgba(60, 64, 67, 0.3), 0 1px 3px 1px rgba(60, 64, 67, 0.15);\n",
              "    fill: var(--button-hover-fill-color);\n",
              "  }\n",
              "\n",
              "  .colab-df-quickchart-complete:disabled,\n",
              "  .colab-df-quickchart-complete:disabled:hover {\n",
              "    background-color: var(--disabled-bg-color);\n",
              "    fill: var(--disabled-fill-color);\n",
              "    box-shadow: none;\n",
              "  }\n",
              "\n",
              "  .colab-df-spinner {\n",
              "    border: 2px solid var(--fill-color);\n",
              "    border-color: transparent;\n",
              "    border-bottom-color: var(--fill-color);\n",
              "    animation:\n",
              "      spin 1s steps(1) infinite;\n",
              "  }\n",
              "\n",
              "  @keyframes spin {\n",
              "    0% {\n",
              "      border-color: transparent;\n",
              "      border-bottom-color: var(--fill-color);\n",
              "      border-left-color: var(--fill-color);\n",
              "    }\n",
              "    20% {\n",
              "      border-color: transparent;\n",
              "      border-left-color: var(--fill-color);\n",
              "      border-top-color: var(--fill-color);\n",
              "    }\n",
              "    30% {\n",
              "      border-color: transparent;\n",
              "      border-left-color: var(--fill-color);\n",
              "      border-top-color: var(--fill-color);\n",
              "      border-right-color: var(--fill-color);\n",
              "    }\n",
              "    40% {\n",
              "      border-color: transparent;\n",
              "      border-right-color: var(--fill-color);\n",
              "      border-top-color: var(--fill-color);\n",
              "    }\n",
              "    60% {\n",
              "      border-color: transparent;\n",
              "      border-right-color: var(--fill-color);\n",
              "    }\n",
              "    80% {\n",
              "      border-color: transparent;\n",
              "      border-right-color: var(--fill-color);\n",
              "      border-bottom-color: var(--fill-color);\n",
              "    }\n",
              "    90% {\n",
              "      border-color: transparent;\n",
              "      border-bottom-color: var(--fill-color);\n",
              "    }\n",
              "  }\n",
              "</style>\n",
              "\n",
              "  <script>\n",
              "    async function quickchart(key) {\n",
              "      const quickchartButtonEl =\n",
              "        document.querySelector('#' + key + ' button');\n",
              "      quickchartButtonEl.disabled = true;  // To prevent multiple clicks.\n",
              "      quickchartButtonEl.classList.add('colab-df-spinner');\n",
              "      try {\n",
              "        const charts = await google.colab.kernel.invokeFunction(\n",
              "            'suggestCharts', [key], {});\n",
              "      } catch (error) {\n",
              "        console.error('Error during call to suggestCharts:', error);\n",
              "      }\n",
              "      quickchartButtonEl.classList.remove('colab-df-spinner');\n",
              "      quickchartButtonEl.classList.add('colab-df-quickchart-complete');\n",
              "    }\n",
              "    (() => {\n",
              "      let quickchartButtonEl =\n",
              "        document.querySelector('#df-92164c3f-4878-4443-904e-6df0d6f920c7 button');\n",
              "      quickchartButtonEl.style.display =\n",
              "        google.colab.kernel.accessAllowed ? 'block' : 'none';\n",
              "    })();\n",
              "  </script>\n",
              "</div>\n",
              "    </div>\n",
              "  </div>\n"
            ]
          },
          "metadata": {},
          "execution_count": 73
        }
      ],
      "source": [
        "logs.columns = ['event_name', 'device_id_hash', 'event_timestamp', 'exp_id']\n",
        "logs.head()"
      ]
    },
    {
      "cell_type": "markdown",
      "metadata": {
        "id": "BFkoRbioNNud"
      },
      "source": [
        "### Шаг 2.2. Проверьте пропуски и типы данных. Откорректируйте, если нужно."
      ]
    },
    {
      "cell_type": "code",
      "execution_count": null,
      "metadata": {
        "scrolled": false,
        "colab": {
          "base_uri": "https://localhost:8080/"
        },
        "id": "bYXSh6TKNNud",
        "outputId": "a532ad3d-b43e-405c-9717-9c6945b32f61"
      },
      "outputs": [
        {
          "output_type": "stream",
          "name": "stdout",
          "text": [
            "<class 'pandas.core.frame.DataFrame'>\n",
            "RangeIndex: 244126 entries, 0 to 244125\n",
            "Data columns (total 4 columns):\n",
            " #   Column           Non-Null Count   Dtype \n",
            "---  ------           --------------   ----- \n",
            " 0   event_name       244126 non-null  object\n",
            " 1   device_id_hash   244126 non-null  int64 \n",
            " 2   event_timestamp  244126 non-null  int64 \n",
            " 3   exp_id           244126 non-null  int64 \n",
            "dtypes: int64(3), object(1)\n",
            "memory usage: 7.5+ MB\n"
          ]
        }
      ],
      "source": [
        "logs.info()"
      ]
    },
    {
      "cell_type": "markdown",
      "metadata": {
        "id": "Ngf31EpGNNud"
      },
      "source": [
        "Видим, что пропусков в столбцах датафрейма logs нет.\n",
        "В столбце event_timestamp указано время в формате unix time, тип данных указан 'int64'. Оставим данный столбец без изменений, так как мы добавим столбцы с привычным временем в следующем задании."
      ]
    },
    {
      "cell_type": "markdown",
      "metadata": {
        "id": "AptaPrbsNNud"
      },
      "source": [
        "Проверим датафрейм на наличие явных дубликатов:"
      ]
    },
    {
      "cell_type": "code",
      "execution_count": null,
      "metadata": {
        "colab": {
          "base_uri": "https://localhost:8080/"
        },
        "id": "OAQGoacDNNud",
        "outputId": "20793a5b-701e-4e2e-bada-cce022d82384"
      },
      "outputs": [
        {
          "output_type": "execute_result",
          "data": {
            "text/plain": [
              "413"
            ]
          },
          "metadata": {},
          "execution_count": 75
        }
      ],
      "source": [
        "logs.duplicated().sum()"
      ]
    },
    {
      "cell_type": "markdown",
      "metadata": {
        "id": "4ddYEADwNNue"
      },
      "source": [
        "Видим, что есть 413 строк с явными дубликатами."
      ]
    },
    {
      "cell_type": "code",
      "execution_count": null,
      "metadata": {
        "colab": {
          "base_uri": "https://localhost:8080/"
        },
        "id": "FG2bVQOONNue",
        "outputId": "1c8b0963-eae0-492a-a64b-18e049596a15"
      },
      "outputs": [
        {
          "output_type": "stream",
          "name": "stdout",
          "text": [
            "Количество дубликатов от общего числа строк составляет: 0.17%\n"
          ]
        }
      ],
      "source": [
        "print(f'Количество дубликатов от общего числа строк составляет: {logs.duplicated().sum()/len(logs):.2%}')"
      ]
    },
    {
      "cell_type": "markdown",
      "source": [
        "Удалим явные дубликаты:"
      ],
      "metadata": {
        "id": "nf55dj36SiXu"
      }
    },
    {
      "cell_type": "code",
      "execution_count": null,
      "metadata": {
        "scrolled": true,
        "id": "re34oCPoNNuf"
      },
      "outputs": [],
      "source": [
        "logs = logs.drop_duplicates()"
      ]
    },
    {
      "cell_type": "code",
      "execution_count": null,
      "metadata": {
        "colab": {
          "base_uri": "https://localhost:8080/"
        },
        "id": "Bk7h5rGsNNuf",
        "outputId": "c253385a-0763-4dd6-a098-fcf70d7dda1f"
      },
      "outputs": [
        {
          "output_type": "execute_result",
          "data": {
            "text/plain": [
              "0"
            ]
          },
          "metadata": {},
          "execution_count": 78
        }
      ],
      "source": [
        "logs.duplicated().sum()"
      ]
    },
    {
      "cell_type": "markdown",
      "metadata": {
        "id": "kU5xOWweNNuf"
      },
      "source": [
        "### Шаг 2.3. Добавьте столбец даты и времени, а также отдельный столбец дат."
      ]
    },
    {
      "cell_type": "code",
      "execution_count": null,
      "metadata": {
        "colab": {
          "base_uri": "https://localhost:8080/",
          "height": 206
        },
        "id": "PwjOpQ_fNNuf",
        "outputId": "aee5b7bb-0da1-43c2-d01d-7ceb46535c69"
      },
      "outputs": [
        {
          "output_type": "execute_result",
          "data": {
            "text/plain": [
              "                event_name       device_id_hash  event_timestamp  exp_id  \\\n",
              "0         MainScreenAppear  4575588528974610257       1564029816     246   \n",
              "1         MainScreenAppear  7416695313311560658       1564053102     246   \n",
              "2  PaymentScreenSuccessful  3518123091307005509       1564054127     248   \n",
              "3         CartScreenAppear  3518123091307005509       1564054127     248   \n",
              "4  PaymentScreenSuccessful  6217807653094995999       1564055322     248   \n",
              "\n",
              "             datetime  \n",
              "0 2019-07-25 04:43:36  \n",
              "1 2019-07-25 11:11:42  \n",
              "2 2019-07-25 11:28:47  \n",
              "3 2019-07-25 11:28:47  \n",
              "4 2019-07-25 11:48:42  "
            ],
            "text/html": [
              "\n",
              "  <div id=\"df-ae95561b-fb5c-4fcd-9666-72608f112da7\" class=\"colab-df-container\">\n",
              "    <div>\n",
              "<style scoped>\n",
              "    .dataframe tbody tr th:only-of-type {\n",
              "        vertical-align: middle;\n",
              "    }\n",
              "\n",
              "    .dataframe tbody tr th {\n",
              "        vertical-align: top;\n",
              "    }\n",
              "\n",
              "    .dataframe thead th {\n",
              "        text-align: right;\n",
              "    }\n",
              "</style>\n",
              "<table border=\"1\" class=\"dataframe\">\n",
              "  <thead>\n",
              "    <tr style=\"text-align: right;\">\n",
              "      <th></th>\n",
              "      <th>event_name</th>\n",
              "      <th>device_id_hash</th>\n",
              "      <th>event_timestamp</th>\n",
              "      <th>exp_id</th>\n",
              "      <th>datetime</th>\n",
              "    </tr>\n",
              "  </thead>\n",
              "  <tbody>\n",
              "    <tr>\n",
              "      <th>0</th>\n",
              "      <td>MainScreenAppear</td>\n",
              "      <td>4575588528974610257</td>\n",
              "      <td>1564029816</td>\n",
              "      <td>246</td>\n",
              "      <td>2019-07-25 04:43:36</td>\n",
              "    </tr>\n",
              "    <tr>\n",
              "      <th>1</th>\n",
              "      <td>MainScreenAppear</td>\n",
              "      <td>7416695313311560658</td>\n",
              "      <td>1564053102</td>\n",
              "      <td>246</td>\n",
              "      <td>2019-07-25 11:11:42</td>\n",
              "    </tr>\n",
              "    <tr>\n",
              "      <th>2</th>\n",
              "      <td>PaymentScreenSuccessful</td>\n",
              "      <td>3518123091307005509</td>\n",
              "      <td>1564054127</td>\n",
              "      <td>248</td>\n",
              "      <td>2019-07-25 11:28:47</td>\n",
              "    </tr>\n",
              "    <tr>\n",
              "      <th>3</th>\n",
              "      <td>CartScreenAppear</td>\n",
              "      <td>3518123091307005509</td>\n",
              "      <td>1564054127</td>\n",
              "      <td>248</td>\n",
              "      <td>2019-07-25 11:28:47</td>\n",
              "    </tr>\n",
              "    <tr>\n",
              "      <th>4</th>\n",
              "      <td>PaymentScreenSuccessful</td>\n",
              "      <td>6217807653094995999</td>\n",
              "      <td>1564055322</td>\n",
              "      <td>248</td>\n",
              "      <td>2019-07-25 11:48:42</td>\n",
              "    </tr>\n",
              "  </tbody>\n",
              "</table>\n",
              "</div>\n",
              "    <div class=\"colab-df-buttons\">\n",
              "\n",
              "  <div class=\"colab-df-container\">\n",
              "    <button class=\"colab-df-convert\" onclick=\"convertToInteractive('df-ae95561b-fb5c-4fcd-9666-72608f112da7')\"\n",
              "            title=\"Convert this dataframe to an interactive table.\"\n",
              "            style=\"display:none;\">\n",
              "\n",
              "  <svg xmlns=\"http://www.w3.org/2000/svg\" height=\"24px\" viewBox=\"0 -960 960 960\">\n",
              "    <path d=\"M120-120v-720h720v720H120Zm60-500h600v-160H180v160Zm220 220h160v-160H400v160Zm0 220h160v-160H400v160ZM180-400h160v-160H180v160Zm440 0h160v-160H620v160ZM180-180h160v-160H180v160Zm440 0h160v-160H620v160Z\"/>\n",
              "  </svg>\n",
              "    </button>\n",
              "\n",
              "  <style>\n",
              "    .colab-df-container {\n",
              "      display:flex;\n",
              "      gap: 12px;\n",
              "    }\n",
              "\n",
              "    .colab-df-convert {\n",
              "      background-color: #E8F0FE;\n",
              "      border: none;\n",
              "      border-radius: 50%;\n",
              "      cursor: pointer;\n",
              "      display: none;\n",
              "      fill: #1967D2;\n",
              "      height: 32px;\n",
              "      padding: 0 0 0 0;\n",
              "      width: 32px;\n",
              "    }\n",
              "\n",
              "    .colab-df-convert:hover {\n",
              "      background-color: #E2EBFA;\n",
              "      box-shadow: 0px 1px 2px rgba(60, 64, 67, 0.3), 0px 1px 3px 1px rgba(60, 64, 67, 0.15);\n",
              "      fill: #174EA6;\n",
              "    }\n",
              "\n",
              "    .colab-df-buttons div {\n",
              "      margin-bottom: 4px;\n",
              "    }\n",
              "\n",
              "    [theme=dark] .colab-df-convert {\n",
              "      background-color: #3B4455;\n",
              "      fill: #D2E3FC;\n",
              "    }\n",
              "\n",
              "    [theme=dark] .colab-df-convert:hover {\n",
              "      background-color: #434B5C;\n",
              "      box-shadow: 0px 1px 3px 1px rgba(0, 0, 0, 0.15);\n",
              "      filter: drop-shadow(0px 1px 2px rgba(0, 0, 0, 0.3));\n",
              "      fill: #FFFFFF;\n",
              "    }\n",
              "  </style>\n",
              "\n",
              "    <script>\n",
              "      const buttonEl =\n",
              "        document.querySelector('#df-ae95561b-fb5c-4fcd-9666-72608f112da7 button.colab-df-convert');\n",
              "      buttonEl.style.display =\n",
              "        google.colab.kernel.accessAllowed ? 'block' : 'none';\n",
              "\n",
              "      async function convertToInteractive(key) {\n",
              "        const element = document.querySelector('#df-ae95561b-fb5c-4fcd-9666-72608f112da7');\n",
              "        const dataTable =\n",
              "          await google.colab.kernel.invokeFunction('convertToInteractive',\n",
              "                                                    [key], {});\n",
              "        if (!dataTable) return;\n",
              "\n",
              "        const docLinkHtml = 'Like what you see? Visit the ' +\n",
              "          '<a target=\"_blank\" href=https://colab.research.google.com/notebooks/data_table.ipynb>data table notebook</a>'\n",
              "          + ' to learn more about interactive tables.';\n",
              "        element.innerHTML = '';\n",
              "        dataTable['output_type'] = 'display_data';\n",
              "        await google.colab.output.renderOutput(dataTable, element);\n",
              "        const docLink = document.createElement('div');\n",
              "        docLink.innerHTML = docLinkHtml;\n",
              "        element.appendChild(docLink);\n",
              "      }\n",
              "    </script>\n",
              "  </div>\n",
              "\n",
              "\n",
              "<div id=\"df-1ae15c32-efe5-4bf6-905f-ea58c1967d17\">\n",
              "  <button class=\"colab-df-quickchart\" onclick=\"quickchart('df-1ae15c32-efe5-4bf6-905f-ea58c1967d17')\"\n",
              "            title=\"Suggest charts.\"\n",
              "            style=\"display:none;\">\n",
              "\n",
              "<svg xmlns=\"http://www.w3.org/2000/svg\" height=\"24px\"viewBox=\"0 0 24 24\"\n",
              "     width=\"24px\">\n",
              "    <g>\n",
              "        <path d=\"M19 3H5c-1.1 0-2 .9-2 2v14c0 1.1.9 2 2 2h14c1.1 0 2-.9 2-2V5c0-1.1-.9-2-2-2zM9 17H7v-7h2v7zm4 0h-2V7h2v10zm4 0h-2v-4h2v4z\"/>\n",
              "    </g>\n",
              "</svg>\n",
              "  </button>\n",
              "\n",
              "<style>\n",
              "  .colab-df-quickchart {\n",
              "      --bg-color: #E8F0FE;\n",
              "      --fill-color: #1967D2;\n",
              "      --hover-bg-color: #E2EBFA;\n",
              "      --hover-fill-color: #174EA6;\n",
              "      --disabled-fill-color: #AAA;\n",
              "      --disabled-bg-color: #DDD;\n",
              "  }\n",
              "\n",
              "  [theme=dark] .colab-df-quickchart {\n",
              "      --bg-color: #3B4455;\n",
              "      --fill-color: #D2E3FC;\n",
              "      --hover-bg-color: #434B5C;\n",
              "      --hover-fill-color: #FFFFFF;\n",
              "      --disabled-bg-color: #3B4455;\n",
              "      --disabled-fill-color: #666;\n",
              "  }\n",
              "\n",
              "  .colab-df-quickchart {\n",
              "    background-color: var(--bg-color);\n",
              "    border: none;\n",
              "    border-radius: 50%;\n",
              "    cursor: pointer;\n",
              "    display: none;\n",
              "    fill: var(--fill-color);\n",
              "    height: 32px;\n",
              "    padding: 0;\n",
              "    width: 32px;\n",
              "  }\n",
              "\n",
              "  .colab-df-quickchart:hover {\n",
              "    background-color: var(--hover-bg-color);\n",
              "    box-shadow: 0 1px 2px rgba(60, 64, 67, 0.3), 0 1px 3px 1px rgba(60, 64, 67, 0.15);\n",
              "    fill: var(--button-hover-fill-color);\n",
              "  }\n",
              "\n",
              "  .colab-df-quickchart-complete:disabled,\n",
              "  .colab-df-quickchart-complete:disabled:hover {\n",
              "    background-color: var(--disabled-bg-color);\n",
              "    fill: var(--disabled-fill-color);\n",
              "    box-shadow: none;\n",
              "  }\n",
              "\n",
              "  .colab-df-spinner {\n",
              "    border: 2px solid var(--fill-color);\n",
              "    border-color: transparent;\n",
              "    border-bottom-color: var(--fill-color);\n",
              "    animation:\n",
              "      spin 1s steps(1) infinite;\n",
              "  }\n",
              "\n",
              "  @keyframes spin {\n",
              "    0% {\n",
              "      border-color: transparent;\n",
              "      border-bottom-color: var(--fill-color);\n",
              "      border-left-color: var(--fill-color);\n",
              "    }\n",
              "    20% {\n",
              "      border-color: transparent;\n",
              "      border-left-color: var(--fill-color);\n",
              "      border-top-color: var(--fill-color);\n",
              "    }\n",
              "    30% {\n",
              "      border-color: transparent;\n",
              "      border-left-color: var(--fill-color);\n",
              "      border-top-color: var(--fill-color);\n",
              "      border-right-color: var(--fill-color);\n",
              "    }\n",
              "    40% {\n",
              "      border-color: transparent;\n",
              "      border-right-color: var(--fill-color);\n",
              "      border-top-color: var(--fill-color);\n",
              "    }\n",
              "    60% {\n",
              "      border-color: transparent;\n",
              "      border-right-color: var(--fill-color);\n",
              "    }\n",
              "    80% {\n",
              "      border-color: transparent;\n",
              "      border-right-color: var(--fill-color);\n",
              "      border-bottom-color: var(--fill-color);\n",
              "    }\n",
              "    90% {\n",
              "      border-color: transparent;\n",
              "      border-bottom-color: var(--fill-color);\n",
              "    }\n",
              "  }\n",
              "</style>\n",
              "\n",
              "  <script>\n",
              "    async function quickchart(key) {\n",
              "      const quickchartButtonEl =\n",
              "        document.querySelector('#' + key + ' button');\n",
              "      quickchartButtonEl.disabled = true;  // To prevent multiple clicks.\n",
              "      quickchartButtonEl.classList.add('colab-df-spinner');\n",
              "      try {\n",
              "        const charts = await google.colab.kernel.invokeFunction(\n",
              "            'suggestCharts', [key], {});\n",
              "      } catch (error) {\n",
              "        console.error('Error during call to suggestCharts:', error);\n",
              "      }\n",
              "      quickchartButtonEl.classList.remove('colab-df-spinner');\n",
              "      quickchartButtonEl.classList.add('colab-df-quickchart-complete');\n",
              "    }\n",
              "    (() => {\n",
              "      let quickchartButtonEl =\n",
              "        document.querySelector('#df-1ae15c32-efe5-4bf6-905f-ea58c1967d17 button');\n",
              "      quickchartButtonEl.style.display =\n",
              "        google.colab.kernel.accessAllowed ? 'block' : 'none';\n",
              "    })();\n",
              "  </script>\n",
              "</div>\n",
              "    </div>\n",
              "  </div>\n"
            ]
          },
          "metadata": {},
          "execution_count": 79
        }
      ],
      "source": [
        "logs['datetime'] = pd.to_datetime(logs['event_timestamp'], unit='s')\n",
        "logs.head()"
      ]
    },
    {
      "cell_type": "code",
      "execution_count": null,
      "metadata": {
        "scrolled": false,
        "colab": {
          "base_uri": "https://localhost:8080/",
          "height": 206
        },
        "id": "Qgm-cHCaNNuf",
        "outputId": "d1592a77-09e4-4538-b7d3-d079dca0d910"
      },
      "outputs": [
        {
          "output_type": "execute_result",
          "data": {
            "text/plain": [
              "                event_name       device_id_hash  event_timestamp  exp_id  \\\n",
              "0         MainScreenAppear  4575588528974610257       1564029816     246   \n",
              "1         MainScreenAppear  7416695313311560658       1564053102     246   \n",
              "2  PaymentScreenSuccessful  3518123091307005509       1564054127     248   \n",
              "3         CartScreenAppear  3518123091307005509       1564054127     248   \n",
              "4  PaymentScreenSuccessful  6217807653094995999       1564055322     248   \n",
              "\n",
              "             datetime        date  \n",
              "0 2019-07-25 04:43:36  2019-07-25  \n",
              "1 2019-07-25 11:11:42  2019-07-25  \n",
              "2 2019-07-25 11:28:47  2019-07-25  \n",
              "3 2019-07-25 11:28:47  2019-07-25  \n",
              "4 2019-07-25 11:48:42  2019-07-25  "
            ],
            "text/html": [
              "\n",
              "  <div id=\"df-be76cb06-ae3a-4bb9-8b11-148511335627\" class=\"colab-df-container\">\n",
              "    <div>\n",
              "<style scoped>\n",
              "    .dataframe tbody tr th:only-of-type {\n",
              "        vertical-align: middle;\n",
              "    }\n",
              "\n",
              "    .dataframe tbody tr th {\n",
              "        vertical-align: top;\n",
              "    }\n",
              "\n",
              "    .dataframe thead th {\n",
              "        text-align: right;\n",
              "    }\n",
              "</style>\n",
              "<table border=\"1\" class=\"dataframe\">\n",
              "  <thead>\n",
              "    <tr style=\"text-align: right;\">\n",
              "      <th></th>\n",
              "      <th>event_name</th>\n",
              "      <th>device_id_hash</th>\n",
              "      <th>event_timestamp</th>\n",
              "      <th>exp_id</th>\n",
              "      <th>datetime</th>\n",
              "      <th>date</th>\n",
              "    </tr>\n",
              "  </thead>\n",
              "  <tbody>\n",
              "    <tr>\n",
              "      <th>0</th>\n",
              "      <td>MainScreenAppear</td>\n",
              "      <td>4575588528974610257</td>\n",
              "      <td>1564029816</td>\n",
              "      <td>246</td>\n",
              "      <td>2019-07-25 04:43:36</td>\n",
              "      <td>2019-07-25</td>\n",
              "    </tr>\n",
              "    <tr>\n",
              "      <th>1</th>\n",
              "      <td>MainScreenAppear</td>\n",
              "      <td>7416695313311560658</td>\n",
              "      <td>1564053102</td>\n",
              "      <td>246</td>\n",
              "      <td>2019-07-25 11:11:42</td>\n",
              "      <td>2019-07-25</td>\n",
              "    </tr>\n",
              "    <tr>\n",
              "      <th>2</th>\n",
              "      <td>PaymentScreenSuccessful</td>\n",
              "      <td>3518123091307005509</td>\n",
              "      <td>1564054127</td>\n",
              "      <td>248</td>\n",
              "      <td>2019-07-25 11:28:47</td>\n",
              "      <td>2019-07-25</td>\n",
              "    </tr>\n",
              "    <tr>\n",
              "      <th>3</th>\n",
              "      <td>CartScreenAppear</td>\n",
              "      <td>3518123091307005509</td>\n",
              "      <td>1564054127</td>\n",
              "      <td>248</td>\n",
              "      <td>2019-07-25 11:28:47</td>\n",
              "      <td>2019-07-25</td>\n",
              "    </tr>\n",
              "    <tr>\n",
              "      <th>4</th>\n",
              "      <td>PaymentScreenSuccessful</td>\n",
              "      <td>6217807653094995999</td>\n",
              "      <td>1564055322</td>\n",
              "      <td>248</td>\n",
              "      <td>2019-07-25 11:48:42</td>\n",
              "      <td>2019-07-25</td>\n",
              "    </tr>\n",
              "  </tbody>\n",
              "</table>\n",
              "</div>\n",
              "    <div class=\"colab-df-buttons\">\n",
              "\n",
              "  <div class=\"colab-df-container\">\n",
              "    <button class=\"colab-df-convert\" onclick=\"convertToInteractive('df-be76cb06-ae3a-4bb9-8b11-148511335627')\"\n",
              "            title=\"Convert this dataframe to an interactive table.\"\n",
              "            style=\"display:none;\">\n",
              "\n",
              "  <svg xmlns=\"http://www.w3.org/2000/svg\" height=\"24px\" viewBox=\"0 -960 960 960\">\n",
              "    <path d=\"M120-120v-720h720v720H120Zm60-500h600v-160H180v160Zm220 220h160v-160H400v160Zm0 220h160v-160H400v160ZM180-400h160v-160H180v160Zm440 0h160v-160H620v160ZM180-180h160v-160H180v160Zm440 0h160v-160H620v160Z\"/>\n",
              "  </svg>\n",
              "    </button>\n",
              "\n",
              "  <style>\n",
              "    .colab-df-container {\n",
              "      display:flex;\n",
              "      gap: 12px;\n",
              "    }\n",
              "\n",
              "    .colab-df-convert {\n",
              "      background-color: #E8F0FE;\n",
              "      border: none;\n",
              "      border-radius: 50%;\n",
              "      cursor: pointer;\n",
              "      display: none;\n",
              "      fill: #1967D2;\n",
              "      height: 32px;\n",
              "      padding: 0 0 0 0;\n",
              "      width: 32px;\n",
              "    }\n",
              "\n",
              "    .colab-df-convert:hover {\n",
              "      background-color: #E2EBFA;\n",
              "      box-shadow: 0px 1px 2px rgba(60, 64, 67, 0.3), 0px 1px 3px 1px rgba(60, 64, 67, 0.15);\n",
              "      fill: #174EA6;\n",
              "    }\n",
              "\n",
              "    .colab-df-buttons div {\n",
              "      margin-bottom: 4px;\n",
              "    }\n",
              "\n",
              "    [theme=dark] .colab-df-convert {\n",
              "      background-color: #3B4455;\n",
              "      fill: #D2E3FC;\n",
              "    }\n",
              "\n",
              "    [theme=dark] .colab-df-convert:hover {\n",
              "      background-color: #434B5C;\n",
              "      box-shadow: 0px 1px 3px 1px rgba(0, 0, 0, 0.15);\n",
              "      filter: drop-shadow(0px 1px 2px rgba(0, 0, 0, 0.3));\n",
              "      fill: #FFFFFF;\n",
              "    }\n",
              "  </style>\n",
              "\n",
              "    <script>\n",
              "      const buttonEl =\n",
              "        document.querySelector('#df-be76cb06-ae3a-4bb9-8b11-148511335627 button.colab-df-convert');\n",
              "      buttonEl.style.display =\n",
              "        google.colab.kernel.accessAllowed ? 'block' : 'none';\n",
              "\n",
              "      async function convertToInteractive(key) {\n",
              "        const element = document.querySelector('#df-be76cb06-ae3a-4bb9-8b11-148511335627');\n",
              "        const dataTable =\n",
              "          await google.colab.kernel.invokeFunction('convertToInteractive',\n",
              "                                                    [key], {});\n",
              "        if (!dataTable) return;\n",
              "\n",
              "        const docLinkHtml = 'Like what you see? Visit the ' +\n",
              "          '<a target=\"_blank\" href=https://colab.research.google.com/notebooks/data_table.ipynb>data table notebook</a>'\n",
              "          + ' to learn more about interactive tables.';\n",
              "        element.innerHTML = '';\n",
              "        dataTable['output_type'] = 'display_data';\n",
              "        await google.colab.output.renderOutput(dataTable, element);\n",
              "        const docLink = document.createElement('div');\n",
              "        docLink.innerHTML = docLinkHtml;\n",
              "        element.appendChild(docLink);\n",
              "      }\n",
              "    </script>\n",
              "  </div>\n",
              "\n",
              "\n",
              "<div id=\"df-b11e1c2f-71f7-472a-a5c6-722a994db50c\">\n",
              "  <button class=\"colab-df-quickchart\" onclick=\"quickchart('df-b11e1c2f-71f7-472a-a5c6-722a994db50c')\"\n",
              "            title=\"Suggest charts.\"\n",
              "            style=\"display:none;\">\n",
              "\n",
              "<svg xmlns=\"http://www.w3.org/2000/svg\" height=\"24px\"viewBox=\"0 0 24 24\"\n",
              "     width=\"24px\">\n",
              "    <g>\n",
              "        <path d=\"M19 3H5c-1.1 0-2 .9-2 2v14c0 1.1.9 2 2 2h14c1.1 0 2-.9 2-2V5c0-1.1-.9-2-2-2zM9 17H7v-7h2v7zm4 0h-2V7h2v10zm4 0h-2v-4h2v4z\"/>\n",
              "    </g>\n",
              "</svg>\n",
              "  </button>\n",
              "\n",
              "<style>\n",
              "  .colab-df-quickchart {\n",
              "      --bg-color: #E8F0FE;\n",
              "      --fill-color: #1967D2;\n",
              "      --hover-bg-color: #E2EBFA;\n",
              "      --hover-fill-color: #174EA6;\n",
              "      --disabled-fill-color: #AAA;\n",
              "      --disabled-bg-color: #DDD;\n",
              "  }\n",
              "\n",
              "  [theme=dark] .colab-df-quickchart {\n",
              "      --bg-color: #3B4455;\n",
              "      --fill-color: #D2E3FC;\n",
              "      --hover-bg-color: #434B5C;\n",
              "      --hover-fill-color: #FFFFFF;\n",
              "      --disabled-bg-color: #3B4455;\n",
              "      --disabled-fill-color: #666;\n",
              "  }\n",
              "\n",
              "  .colab-df-quickchart {\n",
              "    background-color: var(--bg-color);\n",
              "    border: none;\n",
              "    border-radius: 50%;\n",
              "    cursor: pointer;\n",
              "    display: none;\n",
              "    fill: var(--fill-color);\n",
              "    height: 32px;\n",
              "    padding: 0;\n",
              "    width: 32px;\n",
              "  }\n",
              "\n",
              "  .colab-df-quickchart:hover {\n",
              "    background-color: var(--hover-bg-color);\n",
              "    box-shadow: 0 1px 2px rgba(60, 64, 67, 0.3), 0 1px 3px 1px rgba(60, 64, 67, 0.15);\n",
              "    fill: var(--button-hover-fill-color);\n",
              "  }\n",
              "\n",
              "  .colab-df-quickchart-complete:disabled,\n",
              "  .colab-df-quickchart-complete:disabled:hover {\n",
              "    background-color: var(--disabled-bg-color);\n",
              "    fill: var(--disabled-fill-color);\n",
              "    box-shadow: none;\n",
              "  }\n",
              "\n",
              "  .colab-df-spinner {\n",
              "    border: 2px solid var(--fill-color);\n",
              "    border-color: transparent;\n",
              "    border-bottom-color: var(--fill-color);\n",
              "    animation:\n",
              "      spin 1s steps(1) infinite;\n",
              "  }\n",
              "\n",
              "  @keyframes spin {\n",
              "    0% {\n",
              "      border-color: transparent;\n",
              "      border-bottom-color: var(--fill-color);\n",
              "      border-left-color: var(--fill-color);\n",
              "    }\n",
              "    20% {\n",
              "      border-color: transparent;\n",
              "      border-left-color: var(--fill-color);\n",
              "      border-top-color: var(--fill-color);\n",
              "    }\n",
              "    30% {\n",
              "      border-color: transparent;\n",
              "      border-left-color: var(--fill-color);\n",
              "      border-top-color: var(--fill-color);\n",
              "      border-right-color: var(--fill-color);\n",
              "    }\n",
              "    40% {\n",
              "      border-color: transparent;\n",
              "      border-right-color: var(--fill-color);\n",
              "      border-top-color: var(--fill-color);\n",
              "    }\n",
              "    60% {\n",
              "      border-color: transparent;\n",
              "      border-right-color: var(--fill-color);\n",
              "    }\n",
              "    80% {\n",
              "      border-color: transparent;\n",
              "      border-right-color: var(--fill-color);\n",
              "      border-bottom-color: var(--fill-color);\n",
              "    }\n",
              "    90% {\n",
              "      border-color: transparent;\n",
              "      border-bottom-color: var(--fill-color);\n",
              "    }\n",
              "  }\n",
              "</style>\n",
              "\n",
              "  <script>\n",
              "    async function quickchart(key) {\n",
              "      const quickchartButtonEl =\n",
              "        document.querySelector('#' + key + ' button');\n",
              "      quickchartButtonEl.disabled = true;  // To prevent multiple clicks.\n",
              "      quickchartButtonEl.classList.add('colab-df-spinner');\n",
              "      try {\n",
              "        const charts = await google.colab.kernel.invokeFunction(\n",
              "            'suggestCharts', [key], {});\n",
              "      } catch (error) {\n",
              "        console.error('Error during call to suggestCharts:', error);\n",
              "      }\n",
              "      quickchartButtonEl.classList.remove('colab-df-spinner');\n",
              "      quickchartButtonEl.classList.add('colab-df-quickchart-complete');\n",
              "    }\n",
              "    (() => {\n",
              "      let quickchartButtonEl =\n",
              "        document.querySelector('#df-b11e1c2f-71f7-472a-a5c6-722a994db50c button');\n",
              "      quickchartButtonEl.style.display =\n",
              "        google.colab.kernel.accessAllowed ? 'block' : 'none';\n",
              "    })();\n",
              "  </script>\n",
              "</div>\n",
              "    </div>\n",
              "  </div>\n"
            ]
          },
          "metadata": {},
          "execution_count": 80
        }
      ],
      "source": [
        "logs['date'] = logs['datetime'].dt.date\n",
        "logs.head()"
      ]
    },
    {
      "cell_type": "code",
      "execution_count": null,
      "metadata": {
        "scrolled": true,
        "colab": {
          "base_uri": "https://localhost:8080/"
        },
        "id": "Y-L1J4NkNNug",
        "outputId": "f5193049-75c8-49cd-d723-3876b8169957"
      },
      "outputs": [
        {
          "output_type": "stream",
          "name": "stdout",
          "text": [
            "<class 'pandas.core.frame.DataFrame'>\n",
            "Int64Index: 243713 entries, 0 to 244125\n",
            "Data columns (total 6 columns):\n",
            " #   Column           Non-Null Count   Dtype         \n",
            "---  ------           --------------   -----         \n",
            " 0   event_name       243713 non-null  object        \n",
            " 1   device_id_hash   243713 non-null  int64         \n",
            " 2   event_timestamp  243713 non-null  int64         \n",
            " 3   exp_id           243713 non-null  int64         \n",
            " 4   datetime         243713 non-null  datetime64[ns]\n",
            " 5   date             243713 non-null  object        \n",
            "dtypes: datetime64[ns](1), int64(3), object(2)\n",
            "memory usage: 13.0+ MB\n"
          ]
        }
      ],
      "source": [
        "logs.info()"
      ]
    },
    {
      "cell_type": "markdown",
      "metadata": {
        "id": "N7Md2Z5hNNug"
      },
      "source": [
        "**Вывод к шагу 2.**\n",
        "\n",
        "В датафрейме logs 4 столбца. Изменили названия столбцов на привычный змеиный регистр: 'event_name', 'device_id_hash', 'event_timestamp', 'exp_id'. Обнаружили, что пропусков в датафрейме нет. Зато есть явные дубликаты в количестве 413 строк, которые мы удалили. Добавили два столбца 'datetime' и 'date' с датой и временем и только с датой, соответственно."
      ]
    },
    {
      "cell_type": "markdown",
      "metadata": {
        "id": "QklB_Kz8NNug"
      },
      "source": [
        "## Шаг 3. Изучение и проверка данных\n",
        "\n"
      ]
    },
    {
      "cell_type": "markdown",
      "metadata": {
        "id": "Xw9FWKCQNNug"
      },
      "source": [
        "### Шаг 3.1. Сколько всего событий в логе?"
      ]
    },
    {
      "cell_type": "code",
      "execution_count": null,
      "metadata": {
        "colab": {
          "base_uri": "https://localhost:8080/"
        },
        "id": "65SVpPs_NNug",
        "outputId": "9e25ca37-f1e9-4ece-8d8b-63ab96389d69"
      },
      "outputs": [
        {
          "output_type": "stream",
          "name": "stdout",
          "text": [
            "В логе 243713 событий\n"
          ]
        }
      ],
      "source": [
        "print(f'В логе {logs.shape[0]} событий')"
      ]
    },
    {
      "cell_type": "markdown",
      "metadata": {
        "id": "_oQCTdqHNNuh"
      },
      "source": [
        "### Шаг 3.2. Сколько всего пользователей в логе?"
      ]
    },
    {
      "cell_type": "code",
      "execution_count": null,
      "metadata": {
        "colab": {
          "base_uri": "https://localhost:8080/"
        },
        "id": "vpzBzV9DNNui",
        "outputId": "5b927f41-4465-4748-a68a-af416b354596"
      },
      "outputs": [
        {
          "output_type": "stream",
          "name": "stdout",
          "text": [
            "В логе 7551 пользователей\n"
          ]
        }
      ],
      "source": [
        "print(f\"В логе {len(logs['device_id_hash'].unique())} пользователей\")"
      ]
    },
    {
      "cell_type": "markdown",
      "metadata": {
        "id": "m9LC7cmvNNui"
      },
      "source": [
        "### Шаг 3.3. Сколько в среднем событий приходится на пользователя?"
      ]
    },
    {
      "cell_type": "code",
      "execution_count": null,
      "metadata": {
        "colab": {
          "base_uri": "https://localhost:8080/"
        },
        "id": "qcjxQqSeNNui",
        "outputId": "91f857f9-b9dc-4206-9b40-39b30b45d538"
      },
      "outputs": [
        {
          "output_type": "stream",
          "name": "stdout",
          "text": [
            "В среднем на пользователя приходится 32.28 события\n"
          ]
        }
      ],
      "source": [
        "print(f\"В среднем на пользователя приходится {len(logs)/len(logs['device_id_hash'].unique()):.2f} события\")"
      ]
    },
    {
      "cell_type": "code",
      "execution_count": null,
      "metadata": {
        "colab": {
          "base_uri": "https://localhost:8080/",
          "height": 545
        },
        "id": "1v-EqZAVNNuj",
        "outputId": "0f645851-3b9d-441b-f201-7421b3b816f1"
      },
      "outputs": [
        {
          "output_type": "display_data",
          "data": {
            "text/plain": [
              "<Figure size 1400x600 with 1 Axes>"
            ],
            "image/png": "[encoded data removed]"
          },
          "metadata": {}
        }
      ],
      "source": [
        "plt.figure(figsize=(14, 6))\n",
        "logs.groupby('device_id_hash').agg({'event_name':'count'}).boxplot(column='event_name',vert=False)\n",
        "plt.title('Диаграмма размаха для количества событий на одного пользователя');"
      ]
    },
    {
      "cell_type": "code",
      "execution_count": null,
      "metadata": {
        "scrolled": true,
        "colab": {
          "base_uri": "https://localhost:8080/"
        },
        "id": "HkCDRKMyNNuj",
        "outputId": "c6174d47-bd8a-4738-cd5a-c5276e2d5cef"
      },
      "outputs": [
        {
          "output_type": "execute_result",
          "data": {
            "text/plain": [
              "count    7551.000000\n",
              "mean       32.275593\n",
              "std        65.154219\n",
              "min         1.000000\n",
              "25%         9.000000\n",
              "50%        20.000000\n",
              "75%        37.000000\n",
              "max      2307.000000\n",
              "Name: event_name, dtype: float64"
            ]
          },
          "metadata": {},
          "execution_count": 86
        }
      ],
      "source": [
        "logs.groupby('device_id_hash').agg({'event_name':'count'})['event_name'].describe()"
      ]
    },
    {
      "cell_type": "markdown",
      "metadata": {
        "id": "ALy_hlvzNNuj"
      },
      "source": [
        "Видим, что в количестве событий на одного пользователя есть выбросы. Поэтому в данном случае более подходящим параметром будет не среднее, а медиана. Медианное значение количества событий на одного пользователя составляет 20 событий на пользователя."
      ]
    },
    {
      "cell_type": "markdown",
      "metadata": {
        "id": "1pGxIn3PNNuk"
      },
      "source": [
        "### Шаг 3.4.  Данными за какой период вы располагаете?\n",
        "**Найдите максимальную и минимальную дату. Постройте гистограмму по дате и времени. Можно ли быть уверенным, что у вас одинаково полные данные за весь период? Технически в логи новых дней по некоторым пользователям могут «доезжать» события из прошлого — это может «перекашивать данные». Определите, с какого момента данные полные и отбросьте более старые. Данными за какой период времени вы располагаете на самом деле?**"
      ]
    },
    {
      "cell_type": "code",
      "execution_count": null,
      "metadata": {
        "colab": {
          "base_uri": "https://localhost:8080/"
        },
        "id": "a3Xo3vmdNNuk",
        "outputId": "3814a37f-3797-42ea-f47e-208168c0e3cf"
      },
      "outputs": [
        {
          "output_type": "stream",
          "name": "stdout",
          "text": [
            "Минимальная дата - 2019-07-25\n",
            "Максимальная дата - 2019-08-07\n"
          ]
        }
      ],
      "source": [
        "print(f\"Минимальная дата - {logs['date'].min()}\")\n",
        "print(f\"Максимальная дата - {logs['date'].max()}\")"
      ]
    },
    {
      "cell_type": "code",
      "execution_count": null,
      "metadata": {
        "colab": {
          "base_uri": "https://localhost:8080/",
          "height": 597
        },
        "id": "Dle7WnhONNuk",
        "outputId": "461d13da-0d99-4d4e-c839-b5dd0fd6da20"
      },
      "outputs": [
        {
          "output_type": "display_data",
          "data": {
            "text/plain": [
              "<Figure size 1400x600 with 1 Axes>"
            ],
            "image/png": "[encoded data removed]"
          },
          "metadata": {}
        }
      ],
      "source": [
        "plt.figure(figsize=(14, 6))\n",
        "logs['datetime'].hist()\n",
        "# Rotating X-axis labels\n",
        "plt.xticks(rotation = 45)\n",
        "plt.title('Гистограмма событий по дате и времени')\n",
        "plt.ylabel(\"Количество событий\");"
      ]
    },
    {
      "cell_type": "markdown",
      "metadata": {
        "id": "i5SsMi2jNNul"
      },
      "source": [
        "По гистограмме видим, что данных за июль значительно меньше, чем данных за август. Мы не можем утверждать, что у нас одинаково полные данные за весь период."
      ]
    },
    {
      "cell_type": "markdown",
      "metadata": {
        "id": "x4d1-Y2FNNul"
      },
      "source": [
        "Технически в логи новых дней по некоторым пользователям могут «доезжать» события из прошлого — это может «перекашивать данные». По гистограмме видим, что с 2019-08-01 данные полные, поэтому отбросим более старые данные.  \n",
        "На самом деле располагаем данными с 2019-08-01 по 2019-08-07."
      ]
    },
    {
      "cell_type": "code",
      "execution_count": null,
      "metadata": {
        "scrolled": false,
        "colab": {
          "base_uri": "https://localhost:8080/",
          "height": 206
        },
        "id": "4ymVXeoBNNul",
        "outputId": "6fe0a28e-4d26-490f-d646-66b95c021cbc"
      },
      "outputs": [
        {
          "output_type": "execute_result",
          "data": {
            "text/plain": [
              "              event_name       device_id_hash  event_timestamp  exp_id  \\\n",
              "2828            Tutorial  3737462046622621720       1564618048     246   \n",
              "2829    MainScreenAppear  3737462046622621720       1564618080     246   \n",
              "2830    MainScreenAppear  3737462046622621720       1564618135     246   \n",
              "2831  OffersScreenAppear  3737462046622621720       1564618138     246   \n",
              "2832    MainScreenAppear  1433840883824088890       1564618139     247   \n",
              "\n",
              "                datetime        date  \n",
              "2828 2019-08-01 00:07:28  2019-08-01  \n",
              "2829 2019-08-01 00:08:00  2019-08-01  \n",
              "2830 2019-08-01 00:08:55  2019-08-01  \n",
              "2831 2019-08-01 00:08:58  2019-08-01  \n",
              "2832 2019-08-01 00:08:59  2019-08-01  "
            ],
            "text/html": [
              "\n",
              "  <div id=\"df-5fa22d40-ff54-4294-93b8-d2f816cd2082\" class=\"colab-df-container\">\n",
              "    <div>\n",
              "<style scoped>\n",
              "    .dataframe tbody tr th:only-of-type {\n",
              "        vertical-align: middle;\n",
              "    }\n",
              "\n",
              "    .dataframe tbody tr th {\n",
              "        vertical-align: top;\n",
              "    }\n",
              "\n",
              "    .dataframe thead th {\n",
              "        text-align: right;\n",
              "    }\n",
              "</style>\n",
              "<table border=\"1\" class=\"dataframe\">\n",
              "  <thead>\n",
              "    <tr style=\"text-align: right;\">\n",
              "      <th></th>\n",
              "      <th>event_name</th>\n",
              "      <th>device_id_hash</th>\n",
              "      <th>event_timestamp</th>\n",
              "      <th>exp_id</th>\n",
              "      <th>datetime</th>\n",
              "      <th>date</th>\n",
              "    </tr>\n",
              "  </thead>\n",
              "  <tbody>\n",
              "    <tr>\n",
              "      <th>2828</th>\n",
              "      <td>Tutorial</td>\n",
              "      <td>3737462046622621720</td>\n",
              "      <td>1564618048</td>\n",
              "      <td>246</td>\n",
              "      <td>2019-08-01 00:07:28</td>\n",
              "      <td>2019-08-01</td>\n",
              "    </tr>\n",
              "    <tr>\n",
              "      <th>2829</th>\n",
              "      <td>MainScreenAppear</td>\n",
              "      <td>3737462046622621720</td>\n",
              "      <td>1564618080</td>\n",
              "      <td>246</td>\n",
              "      <td>2019-08-01 00:08:00</td>\n",
              "      <td>2019-08-01</td>\n",
              "    </tr>\n",
              "    <tr>\n",
              "      <th>2830</th>\n",
              "      <td>MainScreenAppear</td>\n",
              "      <td>3737462046622621720</td>\n",
              "      <td>1564618135</td>\n",
              "      <td>246</td>\n",
              "      <td>2019-08-01 00:08:55</td>\n",
              "      <td>2019-08-01</td>\n",
              "    </tr>\n",
              "    <tr>\n",
              "      <th>2831</th>\n",
              "      <td>OffersScreenAppear</td>\n",
              "      <td>3737462046622621720</td>\n",
              "      <td>1564618138</td>\n",
              "      <td>246</td>\n",
              "      <td>2019-08-01 00:08:58</td>\n",
              "      <td>2019-08-01</td>\n",
              "    </tr>\n",
              "    <tr>\n",
              "      <th>2832</th>\n",
              "      <td>MainScreenAppear</td>\n",
              "      <td>1433840883824088890</td>\n",
              "      <td>1564618139</td>\n",
              "      <td>247</td>\n",
              "      <td>2019-08-01 00:08:59</td>\n",
              "      <td>2019-08-01</td>\n",
              "    </tr>\n",
              "  </tbody>\n",
              "</table>\n",
              "</div>\n",
              "    <div class=\"colab-df-buttons\">\n",
              "\n",
              "  <div class=\"colab-df-container\">\n",
              "    <button class=\"colab-df-convert\" onclick=\"convertToInteractive('df-5fa22d40-ff54-4294-93b8-d2f816cd2082')\"\n",
              "            title=\"Convert this dataframe to an interactive table.\"\n",
              "            style=\"display:none;\">\n",
              "\n",
              "  <svg xmlns=\"http://www.w3.org/2000/svg\" height=\"24px\" viewBox=\"0 -960 960 960\">\n",
              "    <path d=\"M120-120v-720h720v720H120Zm60-500h600v-160H180v160Zm220 220h160v-160H400v160Zm0 220h160v-160H400v160ZM180-400h160v-160H180v160Zm440 0h160v-160H620v160ZM180-180h160v-160H180v160Zm440 0h160v-160H620v160Z\"/>\n",
              "  </svg>\n",
              "    </button>\n",
              "\n",
              "  <style>\n",
              "    .colab-df-container {\n",
              "      display:flex;\n",
              "      gap: 12px;\n",
              "    }\n",
              "\n",
              "    .colab-df-convert {\n",
              "      background-color: #E8F0FE;\n",
              "      border: none;\n",
              "      border-radius: 50%;\n",
              "      cursor: pointer;\n",
              "      display: none;\n",
              "      fill: #1967D2;\n",
              "      height: 32px;\n",
              "      padding: 0 0 0 0;\n",
              "      width: 32px;\n",
              "    }\n",
              "\n",
              "    .colab-df-convert:hover {\n",
              "      background-color: #E2EBFA;\n",
              "      box-shadow: 0px 1px 2px rgba(60, 64, 67, 0.3), 0px 1px 3px 1px rgba(60, 64, 67, 0.15);\n",
              "      fill: #174EA6;\n",
              "    }\n",
              "\n",
              "    .colab-df-buttons div {\n",
              "      margin-bottom: 4px;\n",
              "    }\n",
              "\n",
              "    [theme=dark] .colab-df-convert {\n",
              "      background-color: #3B4455;\n",
              "      fill: #D2E3FC;\n",
              "    }\n",
              "\n",
              "    [theme=dark] .colab-df-convert:hover {\n",
              "      background-color: #434B5C;\n",
              "      box-shadow: 0px 1px 3px 1px rgba(0, 0, 0, 0.15);\n",
              "      filter: drop-shadow(0px 1px 2px rgba(0, 0, 0, 0.3));\n",
              "      fill: #FFFFFF;\n",
              "    }\n",
              "  </style>\n",
              "\n",
              "    <script>\n",
              "      const buttonEl =\n",
              "        document.querySelector('#df-5fa22d40-ff54-4294-93b8-d2f816cd2082 button.colab-df-convert');\n",
              "      buttonEl.style.display =\n",
              "        google.colab.kernel.accessAllowed ? 'block' : 'none';\n",
              "\n",
              "      async function convertToInteractive(key) {\n",
              "        const element = document.querySelector('#df-5fa22d40-ff54-4294-93b8-d2f816cd2082');\n",
              "        const dataTable =\n",
              "          await google.colab.kernel.invokeFunction('convertToInteractive',\n",
              "                                                    [key], {});\n",
              "        if (!dataTable) return;\n",
              "\n",
              "        const docLinkHtml = 'Like what you see? Visit the ' +\n",
              "          '<a target=\"_blank\" href=https://colab.research.google.com/notebooks/data_table.ipynb>data table notebook</a>'\n",
              "          + ' to learn more about interactive tables.';\n",
              "        element.innerHTML = '';\n",
              "        dataTable['output_type'] = 'display_data';\n",
              "        await google.colab.output.renderOutput(dataTable, element);\n",
              "        const docLink = document.createElement('div');\n",
              "        docLink.innerHTML = docLinkHtml;\n",
              "        element.appendChild(docLink);\n",
              "      }\n",
              "    </script>\n",
              "  </div>\n",
              "\n",
              "\n",
              "<div id=\"df-17f8d282-bd31-4c5f-b7d7-31ff75ebbe7d\">\n",
              "  <button class=\"colab-df-quickchart\" onclick=\"quickchart('df-17f8d282-bd31-4c5f-b7d7-31ff75ebbe7d')\"\n",
              "            title=\"Suggest charts.\"\n",
              "            style=\"display:none;\">\n",
              "\n",
              "<svg xmlns=\"http://www.w3.org/2000/svg\" height=\"24px\"viewBox=\"0 0 24 24\"\n",
              "     width=\"24px\">\n",
              "    <g>\n",
              "        <path d=\"M19 3H5c-1.1 0-2 .9-2 2v14c0 1.1.9 2 2 2h14c1.1 0 2-.9 2-2V5c0-1.1-.9-2-2-2zM9 17H7v-7h2v7zm4 0h-2V7h2v10zm4 0h-2v-4h2v4z\"/>\n",
              "    </g>\n",
              "</svg>\n",
              "  </button>\n",
              "\n",
              "<style>\n",
              "  .colab-df-quickchart {\n",
              "      --bg-color: #E8F0FE;\n",
              "      --fill-color: #1967D2;\n",
              "      --hover-bg-color: #E2EBFA;\n",
              "      --hover-fill-color: #174EA6;\n",
              "      --disabled-fill-color: #AAA;\n",
              "      --disabled-bg-color: #DDD;\n",
              "  }\n",
              "\n",
              "  [theme=dark] .colab-df-quickchart {\n",
              "      --bg-color: #3B4455;\n",
              "      --fill-color: #D2E3FC;\n",
              "      --hover-bg-color: #434B5C;\n",
              "      --hover-fill-color: #FFFFFF;\n",
              "      --disabled-bg-color: #3B4455;\n",
              "      --disabled-fill-color: #666;\n",
              "  }\n",
              "\n",
              "  .colab-df-quickchart {\n",
              "    background-color: var(--bg-color);\n",
              "    border: none;\n",
              "    border-radius: 50%;\n",
              "    cursor: pointer;\n",
              "    display: none;\n",
              "    fill: var(--fill-color);\n",
              "    height: 32px;\n",
              "    padding: 0;\n",
              "    width: 32px;\n",
              "  }\n",
              "\n",
              "  .colab-df-quickchart:hover {\n",
              "    background-color: var(--hover-bg-color);\n",
              "    box-shadow: 0 1px 2px rgba(60, 64, 67, 0.3), 0 1px 3px 1px rgba(60, 64, 67, 0.15);\n",
              "    fill: var(--button-hover-fill-color);\n",
              "  }\n",
              "\n",
              "  .colab-df-quickchart-complete:disabled,\n",
              "  .colab-df-quickchart-complete:disabled:hover {\n",
              "    background-color: var(--disabled-bg-color);\n",
              "    fill: var(--disabled-fill-color);\n",
              "    box-shadow: none;\n",
              "  }\n",
              "\n",
              "  .colab-df-spinner {\n",
              "    border: 2px solid var(--fill-color);\n",
              "    border-color: transparent;\n",
              "    border-bottom-color: var(--fill-color);\n",
              "    animation:\n",
              "      spin 1s steps(1) infinite;\n",
              "  }\n",
              "\n",
              "  @keyframes spin {\n",
              "    0% {\n",
              "      border-color: transparent;\n",
              "      border-bottom-color: var(--fill-color);\n",
              "      border-left-color: var(--fill-color);\n",
              "    }\n",
              "    20% {\n",
              "      border-color: transparent;\n",
              "      border-left-color: var(--fill-color);\n",
              "      border-top-color: var(--fill-color);\n",
              "    }\n",
              "    30% {\n",
              "      border-color: transparent;\n",
              "      border-left-color: var(--fill-color);\n",
              "      border-top-color: var(--fill-color);\n",
              "      border-right-color: var(--fill-color);\n",
              "    }\n",
              "    40% {\n",
              "      border-color: transparent;\n",
              "      border-right-color: var(--fill-color);\n",
              "      border-top-color: var(--fill-color);\n",
              "    }\n",
              "    60% {\n",
              "      border-color: transparent;\n",
              "      border-right-color: var(--fill-color);\n",
              "    }\n",
              "    80% {\n",
              "      border-color: transparent;\n",
              "      border-right-color: var(--fill-color);\n",
              "      border-bottom-color: var(--fill-color);\n",
              "    }\n",
              "    90% {\n",
              "      border-color: transparent;\n",
              "      border-bottom-color: var(--fill-color);\n",
              "    }\n",
              "  }\n",
              "</style>\n",
              "\n",
              "  <script>\n",
              "    async function quickchart(key) {\n",
              "      const quickchartButtonEl =\n",
              "        document.querySelector('#' + key + ' button');\n",
              "      quickchartButtonEl.disabled = true;  // To prevent multiple clicks.\n",
              "      quickchartButtonEl.classList.add('colab-df-spinner');\n",
              "      try {\n",
              "        const charts = await google.colab.kernel.invokeFunction(\n",
              "            'suggestCharts', [key], {});\n",
              "      } catch (error) {\n",
              "        console.error('Error during call to suggestCharts:', error);\n",
              "      }\n",
              "      quickchartButtonEl.classList.remove('colab-df-spinner');\n",
              "      quickchartButtonEl.classList.add('colab-df-quickchart-complete');\n",
              "    }\n",
              "    (() => {\n",
              "      let quickchartButtonEl =\n",
              "        document.querySelector('#df-17f8d282-bd31-4c5f-b7d7-31ff75ebbe7d button');\n",
              "      quickchartButtonEl.style.display =\n",
              "        google.colab.kernel.accessAllowed ? 'block' : 'none';\n",
              "    })();\n",
              "  </script>\n",
              "</div>\n",
              "    </div>\n",
              "  </div>\n"
            ]
          },
          "metadata": {},
          "execution_count": 89
        }
      ],
      "source": [
        "filtered_logs = logs[logs['datetime'] >= '2019-08-01']\n",
        "filtered_logs.head()"
      ]
    },
    {
      "cell_type": "code",
      "execution_count": null,
      "metadata": {
        "colab": {
          "base_uri": "https://localhost:8080/",
          "height": 545
        },
        "id": "FE5JSXaJNNul",
        "outputId": "5755ff6b-b051-47f0-e6dc-92503a2bfa4d"
      },
      "outputs": [
        {
          "output_type": "display_data",
          "data": {
            "text/plain": [
              "<Figure size 1400x600 with 1 Axes>"
            ],
            "image/png": "[encoded data removed]"
          },
          "metadata": {}
        }
      ],
      "source": [
        "plt.figure(figsize=(14, 6))\n",
        "filtered_logs['datetime'].hist(bins=7)\n",
        "plt.title('Гистограмма событий по дате и времени после удаления неактуальных данных')\n",
        "plt.ylabel(\"Количество событий\");"
      ]
    },
    {
      "cell_type": "markdown",
      "metadata": {
        "id": "rvQ6PvJZNNum"
      },
      "source": [
        "### Шаг 3.5. Много ли событий и пользователей вы потеряли, отбросив старые данные?"
      ]
    },
    {
      "cell_type": "markdown",
      "metadata": {
        "id": "GYpmToZONNum"
      },
      "source": [
        "Отобразим последние 5 строчек удалённых логов"
      ]
    },
    {
      "cell_type": "code",
      "execution_count": null,
      "metadata": {
        "colab": {
          "base_uri": "https://localhost:8080/",
          "height": 206
        },
        "id": "PgJdtqEONNum",
        "outputId": "6e61c633-974a-4250-f28b-6a5ec2892759"
      },
      "outputs": [
        {
          "output_type": "execute_result",
          "data": {
            "text/plain": [
              "              event_name       device_id_hash  event_timestamp  exp_id  \\\n",
              "2823  OffersScreenAppear  2413191300976302222       1564617295     247   \n",
              "2824    MainScreenAppear  5505110279185484837       1564617450     247   \n",
              "2825    MainScreenAppear  5505110279185484837       1564617462     247   \n",
              "2826    MainScreenAppear  5505110279185484837       1564617472     247   \n",
              "2827    MainScreenAppear  2413191300976302222       1564617599     247   \n",
              "\n",
              "                datetime        date  \n",
              "2823 2019-07-31 23:54:55  2019-07-31  \n",
              "2824 2019-07-31 23:57:30  2019-07-31  \n",
              "2825 2019-07-31 23:57:42  2019-07-31  \n",
              "2826 2019-07-31 23:57:52  2019-07-31  \n",
              "2827 2019-07-31 23:59:59  2019-07-31  "
            ],
            "text/html": [
              "\n",
              "  <div id=\"df-6d51b8d9-4b57-4879-9c7e-2162d9fd7995\" class=\"colab-df-container\">\n",
              "    <div>\n",
              "<style scoped>\n",
              "    .dataframe tbody tr th:only-of-type {\n",
              "        vertical-align: middle;\n",
              "    }\n",
              "\n",
              "    .dataframe tbody tr th {\n",
              "        vertical-align: top;\n",
              "    }\n",
              "\n",
              "    .dataframe thead th {\n",
              "        text-align: right;\n",
              "    }\n",
              "</style>\n",
              "<table border=\"1\" class=\"dataframe\">\n",
              "  <thead>\n",
              "    <tr style=\"text-align: right;\">\n",
              "      <th></th>\n",
              "      <th>event_name</th>\n",
              "      <th>device_id_hash</th>\n",
              "      <th>event_timestamp</th>\n",
              "      <th>exp_id</th>\n",
              "      <th>datetime</th>\n",
              "      <th>date</th>\n",
              "    </tr>\n",
              "  </thead>\n",
              "  <tbody>\n",
              "    <tr>\n",
              "      <th>2823</th>\n",
              "      <td>OffersScreenAppear</td>\n",
              "      <td>2413191300976302222</td>\n",
              "      <td>1564617295</td>\n",
              "      <td>247</td>\n",
              "      <td>2019-07-31 23:54:55</td>\n",
              "      <td>2019-07-31</td>\n",
              "    </tr>\n",
              "    <tr>\n",
              "      <th>2824</th>\n",
              "      <td>MainScreenAppear</td>\n",
              "      <td>5505110279185484837</td>\n",
              "      <td>1564617450</td>\n",
              "      <td>247</td>\n",
              "      <td>2019-07-31 23:57:30</td>\n",
              "      <td>2019-07-31</td>\n",
              "    </tr>\n",
              "    <tr>\n",
              "      <th>2825</th>\n",
              "      <td>MainScreenAppear</td>\n",
              "      <td>5505110279185484837</td>\n",
              "      <td>1564617462</td>\n",
              "      <td>247</td>\n",
              "      <td>2019-07-31 23:57:42</td>\n",
              "      <td>2019-07-31</td>\n",
              "    </tr>\n",
              "    <tr>\n",
              "      <th>2826</th>\n",
              "      <td>MainScreenAppear</td>\n",
              "      <td>5505110279185484837</td>\n",
              "      <td>1564617472</td>\n",
              "      <td>247</td>\n",
              "      <td>2019-07-31 23:57:52</td>\n",
              "      <td>2019-07-31</td>\n",
              "    </tr>\n",
              "    <tr>\n",
              "      <th>2827</th>\n",
              "      <td>MainScreenAppear</td>\n",
              "      <td>2413191300976302222</td>\n",
              "      <td>1564617599</td>\n",
              "      <td>247</td>\n",
              "      <td>2019-07-31 23:59:59</td>\n",
              "      <td>2019-07-31</td>\n",
              "    </tr>\n",
              "  </tbody>\n",
              "</table>\n",
              "</div>\n",
              "    <div class=\"colab-df-buttons\">\n",
              "\n",
              "  <div class=\"colab-df-container\">\n",
              "    <button class=\"colab-df-convert\" onclick=\"convertToInteractive('df-6d51b8d9-4b57-4879-9c7e-2162d9fd7995')\"\n",
              "            title=\"Convert this dataframe to an interactive table.\"\n",
              "            style=\"display:none;\">\n",
              "\n",
              "  <svg xmlns=\"http://www.w3.org/2000/svg\" height=\"24px\" viewBox=\"0 -960 960 960\">\n",
              "    <path d=\"M120-120v-720h720v720H120Zm60-500h600v-160H180v160Zm220 220h160v-160H400v160Zm0 220h160v-160H400v160ZM180-400h160v-160H180v160Zm440 0h160v-160H620v160ZM180-180h160v-160H180v160Zm440 0h160v-160H620v160Z\"/>\n",
              "  </svg>\n",
              "    </button>\n",
              "\n",
              "  <style>\n",
              "    .colab-df-container {\n",
              "      display:flex;\n",
              "      gap: 12px;\n",
              "    }\n",
              "\n",
              "    .colab-df-convert {\n",
              "      background-color: #E8F0FE;\n",
              "      border: none;\n",
              "      border-radius: 50%;\n",
              "      cursor: pointer;\n",
              "      display: none;\n",
              "      fill: #1967D2;\n",
              "      height: 32px;\n",
              "      padding: 0 0 0 0;\n",
              "      width: 32px;\n",
              "    }\n",
              "\n",
              "    .colab-df-convert:hover {\n",
              "      background-color: #E2EBFA;\n",
              "      box-shadow: 0px 1px 2px rgba(60, 64, 67, 0.3), 0px 1px 3px 1px rgba(60, 64, 67, 0.15);\n",
              "      fill: #174EA6;\n",
              "    }\n",
              "\n",
              "    .colab-df-buttons div {\n",
              "      margin-bottom: 4px;\n",
              "    }\n",
              "\n",
              "    [theme=dark] .colab-df-convert {\n",
              "      background-color: #3B4455;\n",
              "      fill: #D2E3FC;\n",
              "    }\n",
              "\n",
              "    [theme=dark] .colab-df-convert:hover {\n",
              "      background-color: #434B5C;\n",
              "      box-shadow: 0px 1px 3px 1px rgba(0, 0, 0, 0.15);\n",
              "      filter: drop-shadow(0px 1px 2px rgba(0, 0, 0, 0.3));\n",
              "      fill: #FFFFFF;\n",
              "    }\n",
              "  </style>\n",
              "\n",
              "    <script>\n",
              "      const buttonEl =\n",
              "        document.querySelector('#df-6d51b8d9-4b57-4879-9c7e-2162d9fd7995 button.colab-df-convert');\n",
              "      buttonEl.style.display =\n",
              "        google.colab.kernel.accessAllowed ? 'block' : 'none';\n",
              "\n",
              "      async function convertToInteractive(key) {\n",
              "        const element = document.querySelector('#df-6d51b8d9-4b57-4879-9c7e-2162d9fd7995');\n",
              "        const dataTable =\n",
              "          await google.colab.kernel.invokeFunction('convertToInteractive',\n",
              "                                                    [key], {});\n",
              "        if (!dataTable) return;\n",
              "\n",
              "        const docLinkHtml = 'Like what you see? Visit the ' +\n",
              "          '<a target=\"_blank\" href=https://colab.research.google.com/notebooks/data_table.ipynb>data table notebook</a>'\n",
              "          + ' to learn more about interactive tables.';\n",
              "        element.innerHTML = '';\n",
              "        dataTable['output_type'] = 'display_data';\n",
              "        await google.colab.output.renderOutput(dataTable, element);\n",
              "        const docLink = document.createElement('div');\n",
              "        docLink.innerHTML = docLinkHtml;\n",
              "        element.appendChild(docLink);\n",
              "      }\n",
              "    </script>\n",
              "  </div>\n",
              "\n",
              "\n",
              "<div id=\"df-5423976d-e645-4183-8dd8-e083a2baa8c7\">\n",
              "  <button class=\"colab-df-quickchart\" onclick=\"quickchart('df-5423976d-e645-4183-8dd8-e083a2baa8c7')\"\n",
              "            title=\"Suggest charts.\"\n",
              "            style=\"display:none;\">\n",
              "\n",
              "<svg xmlns=\"http://www.w3.org/2000/svg\" height=\"24px\"viewBox=\"0 0 24 24\"\n",
              "     width=\"24px\">\n",
              "    <g>\n",
              "        <path d=\"M19 3H5c-1.1 0-2 .9-2 2v14c0 1.1.9 2 2 2h14c1.1 0 2-.9 2-2V5c0-1.1-.9-2-2-2zM9 17H7v-7h2v7zm4 0h-2V7h2v10zm4 0h-2v-4h2v4z\"/>\n",
              "    </g>\n",
              "</svg>\n",
              "  </button>\n",
              "\n",
              "<style>\n",
              "  .colab-df-quickchart {\n",
              "      --bg-color: #E8F0FE;\n",
              "      --fill-color: #1967D2;\n",
              "      --hover-bg-color: #E2EBFA;\n",
              "      --hover-fill-color: #174EA6;\n",
              "      --disabled-fill-color: #AAA;\n",
              "      --disabled-bg-color: #DDD;\n",
              "  }\n",
              "\n",
              "  [theme=dark] .colab-df-quickchart {\n",
              "      --bg-color: #3B4455;\n",
              "      --fill-color: #D2E3FC;\n",
              "      --hover-bg-color: #434B5C;\n",
              "      --hover-fill-color: #FFFFFF;\n",
              "      --disabled-bg-color: #3B4455;\n",
              "      --disabled-fill-color: #666;\n",
              "  }\n",
              "\n",
              "  .colab-df-quickchart {\n",
              "    background-color: var(--bg-color);\n",
              "    border: none;\n",
              "    border-radius: 50%;\n",
              "    cursor: pointer;\n",
              "    display: none;\n",
              "    fill: var(--fill-color);\n",
              "    height: 32px;\n",
              "    padding: 0;\n",
              "    width: 32px;\n",
              "  }\n",
              "\n",
              "  .colab-df-quickchart:hover {\n",
              "    background-color: var(--hover-bg-color);\n",
              "    box-shadow: 0 1px 2px rgba(60, 64, 67, 0.3), 0 1px 3px 1px rgba(60, 64, 67, 0.15);\n",
              "    fill: var(--button-hover-fill-color);\n",
              "  }\n",
              "\n",
              "  .colab-df-quickchart-complete:disabled,\n",
              "  .colab-df-quickchart-complete:disabled:hover {\n",
              "    background-color: var(--disabled-bg-color);\n",
              "    fill: var(--disabled-fill-color);\n",
              "    box-shadow: none;\n",
              "  }\n",
              "\n",
              "  .colab-df-spinner {\n",
              "    border: 2px solid var(--fill-color);\n",
              "    border-color: transparent;\n",
              "    border-bottom-color: var(--fill-color);\n",
              "    animation:\n",
              "      spin 1s steps(1) infinite;\n",
              "  }\n",
              "\n",
              "  @keyframes spin {\n",
              "    0% {\n",
              "      border-color: transparent;\n",
              "      border-bottom-color: var(--fill-color);\n",
              "      border-left-color: var(--fill-color);\n",
              "    }\n",
              "    20% {\n",
              "      border-color: transparent;\n",
              "      border-left-color: var(--fill-color);\n",
              "      border-top-color: var(--fill-color);\n",
              "    }\n",
              "    30% {\n",
              "      border-color: transparent;\n",
              "      border-left-color: var(--fill-color);\n",
              "      border-top-color: var(--fill-color);\n",
              "      border-right-color: var(--fill-color);\n",
              "    }\n",
              "    40% {\n",
              "      border-color: transparent;\n",
              "      border-right-color: var(--fill-color);\n",
              "      border-top-color: var(--fill-color);\n",
              "    }\n",
              "    60% {\n",
              "      border-color: transparent;\n",
              "      border-right-color: var(--fill-color);\n",
              "    }\n",
              "    80% {\n",
              "      border-color: transparent;\n",
              "      border-right-color: var(--fill-color);\n",
              "      border-bottom-color: var(--fill-color);\n",
              "    }\n",
              "    90% {\n",
              "      border-color: transparent;\n",
              "      border-bottom-color: var(--fill-color);\n",
              "    }\n",
              "  }\n",
              "</style>\n",
              "\n",
              "  <script>\n",
              "    async function quickchart(key) {\n",
              "      const quickchartButtonEl =\n",
              "        document.querySelector('#' + key + ' button');\n",
              "      quickchartButtonEl.disabled = true;  // To prevent multiple clicks.\n",
              "      quickchartButtonEl.classList.add('colab-df-spinner');\n",
              "      try {\n",
              "        const charts = await google.colab.kernel.invokeFunction(\n",
              "            'suggestCharts', [key], {});\n",
              "      } catch (error) {\n",
              "        console.error('Error during call to suggestCharts:', error);\n",
              "      }\n",
              "      quickchartButtonEl.classList.remove('colab-df-spinner');\n",
              "      quickchartButtonEl.classList.add('colab-df-quickchart-complete');\n",
              "    }\n",
              "    (() => {\n",
              "      let quickchartButtonEl =\n",
              "        document.querySelector('#df-5423976d-e645-4183-8dd8-e083a2baa8c7 button');\n",
              "      quickchartButtonEl.style.display =\n",
              "        google.colab.kernel.accessAllowed ? 'block' : 'none';\n",
              "    })();\n",
              "  </script>\n",
              "</div>\n",
              "    </div>\n",
              "  </div>\n"
            ]
          },
          "metadata": {},
          "execution_count": 91
        }
      ],
      "source": [
        "discarded_logs = logs[logs['datetime'] < '2019-08-01']\n",
        "discarded_logs.tail()"
      ]
    },
    {
      "cell_type": "code",
      "execution_count": null,
      "metadata": {
        "colab": {
          "base_uri": "https://localhost:8080/"
        },
        "id": "wTIxXb8ZNNun",
        "outputId": "8f88f0df-45c0-42df-ae8c-c1c36e04e5df"
      },
      "outputs": [
        {
          "output_type": "stream",
          "name": "stdout",
          "text": [
            "В датафрейме logs 7551 уникальных пользователей.\n"
          ]
        }
      ],
      "source": [
        "print(f\"В датафрейме logs {len(logs['device_id_hash'].unique())} уникальных пользователей.\")"
      ]
    },
    {
      "cell_type": "code",
      "execution_count": null,
      "metadata": {
        "colab": {
          "base_uri": "https://localhost:8080/"
        },
        "id": "W38wvaTWNNun",
        "outputId": "97a6ca67-7e12-482b-c8ee-e935ace6a81b"
      },
      "outputs": [
        {
          "output_type": "stream",
          "name": "stdout",
          "text": [
            "В датафрейме filtered_logs 7534 уникальных пользователей.\n"
          ]
        }
      ],
      "source": [
        "print(f\"В датафрейме filtered_logs {len(filtered_logs['device_id_hash'].unique())} уникальных пользователей.\")"
      ]
    },
    {
      "cell_type": "code",
      "execution_count": null,
      "metadata": {
        "colab": {
          "base_uri": "https://localhost:8080/"
        },
        "id": "KKuPPV0LNNun",
        "outputId": "61095345-84bb-4cbf-f6de-6825c797fd71"
      },
      "outputs": [
        {
          "output_type": "stream",
          "name": "stdout",
          "text": [
            "Потери уникальных пользователей после удаления старых данных составляют: 17 пользователей.\n"
          ]
        }
      ],
      "source": [
        "print(f\"Потери уникальных пользователей после удаления старых данных составляют: \\\n",
        "{len(logs['device_id_hash'].unique()) - len(filtered_logs['device_id_hash'].unique())} \\\n",
        "пользователей.\")"
      ]
    },
    {
      "cell_type": "code",
      "execution_count": null,
      "metadata": {
        "colab": {
          "base_uri": "https://localhost:8080/"
        },
        "id": "16Q0Z_u2NNuo",
        "outputId": "a7d7e021-0ab9-4896-db46-c1bcc6ae1d12"
      },
      "outputs": [
        {
          "output_type": "stream",
          "name": "stdout",
          "text": [
            "Относителные потери уникальных пользователей после удаления старых данных: 0.23%\n"
          ]
        }
      ],
      "source": [
        "print(f\"Относителные потери уникальных пользователей после удаления старых данных: \\\n",
        "{(len(logs['device_id_hash'].unique())-len(filtered_logs['device_id_hash'].unique()))/len(logs['device_id_hash'].unique()):.2%}\\\n",
        "\")"
      ]
    },
    {
      "cell_type": "code",
      "execution_count": null,
      "metadata": {
        "colab": {
          "base_uri": "https://localhost:8080/"
        },
        "id": "RnVs6K1iNNuo",
        "outputId": "9e006525-2e03-43d0-a740-152c28335c31"
      },
      "outputs": [
        {
          "output_type": "stream",
          "name": "stdout",
          "text": [
            "В датафрейме logs 243713 событий.\n"
          ]
        }
      ],
      "source": [
        "print(f\"В датафрейме logs {len(logs)} событий.\")"
      ]
    },
    {
      "cell_type": "code",
      "execution_count": null,
      "metadata": {
        "scrolled": false,
        "colab": {
          "base_uri": "https://localhost:8080/"
        },
        "id": "OS_vfannNNuo",
        "outputId": "04ccc688-3676-43e2-cb67-3a83806d5cb8"
      },
      "outputs": [
        {
          "output_type": "stream",
          "name": "stdout",
          "text": [
            "В датафрейме filtered_logs 240887 событий.\n"
          ]
        }
      ],
      "source": [
        "print(f\"В датафрейме filtered_logs {len(filtered_logs)} событий.\")"
      ]
    },
    {
      "cell_type": "code",
      "execution_count": null,
      "metadata": {
        "colab": {
          "base_uri": "https://localhost:8080/"
        },
        "id": "ep9vk8kZNNuo",
        "outputId": "1ea708d4-9bed-4f91-d6ae-107fb9789083"
      },
      "outputs": [
        {
          "output_type": "stream",
          "name": "stdout",
          "text": [
            "После удаления старых данных потеряли 2826 события\n"
          ]
        }
      ],
      "source": [
        "print(f\"После удаления старых данных потеряли \\\n",
        "{len(logs) - len(filtered_logs)} \\\n",
        "события\")"
      ]
    },
    {
      "cell_type": "code",
      "execution_count": null,
      "metadata": {
        "colab": {
          "base_uri": "https://localhost:8080/"
        },
        "id": "zI0krxsiNNup",
        "outputId": "5442679d-cc39-4217-99ac-22a1c32bf831"
      },
      "outputs": [
        {
          "output_type": "stream",
          "name": "stdout",
          "text": [
            "Относительные потери событий после удаления старых данных: 1.16% \n"
          ]
        }
      ],
      "source": [
        "print(f\"Относительные потери событий после удаления старых данных: \\\n",
        "{(len(logs) - len(filtered_logs)) / len(logs):.2%} \\\n",
        "\")"
      ]
    },
    {
      "cell_type": "markdown",
      "metadata": {
        "id": "SG52ihiUNNup"
      },
      "source": [
        "### Шаг 3.6. Проверьте, что у вас есть пользователи из всех трёх экспериментальных групп."
      ]
    },
    {
      "cell_type": "code",
      "execution_count": null,
      "metadata": {
        "colab": {
          "base_uri": "https://localhost:8080/"
        },
        "id": "P6HRQbe3NNup",
        "outputId": "267de28d-c765-45c8-8f8e-d90f00271ea7"
      },
      "outputs": [
        {
          "output_type": "stream",
          "name": "stdout",
          "text": [
            "В отфильтованных данных есть пользователи из всех трёх экспериментальных групп.\n"
          ]
        }
      ],
      "source": [
        "if len(filtered_logs['exp_id'].unique()) == 3:\n",
        "    print(\"В отфильтованных данных есть пользователи из всех трёх экспериментальных групп.\")\n",
        "else:\n",
        "    print(\"в отфильтованных данных нет пользователей из всех трёх экспериментальных групп.\")"
      ]
    },
    {
      "cell_type": "markdown",
      "metadata": {
        "id": "XAalspwCNNup"
      },
      "source": [
        "Также проверим, есть ли пользователи, которые присутствуют одновременно в группе 246 и 247."
      ]
    },
    {
      "cell_type": "code",
      "execution_count": null,
      "metadata": {
        "colab": {
          "base_uri": "https://localhost:8080/"
        },
        "id": "0a2EHPY1NNuq",
        "outputId": "c162e2ad-1e01-4dd6-c89a-8d0543dc78a7"
      },
      "outputs": [
        {
          "output_type": "execute_result",
          "data": {
            "text/plain": [
              "0"
            ]
          },
          "metadata": {},
          "execution_count": 101
        }
      ],
      "source": [
        "device_in_both_groups_246_and_247 = (\n",
        "    pd.DataFrame(filtered_logs.query('exp_id == 246')['device_id_hash'].unique())\n",
        "    .merge(pd.DataFrame(filtered_logs.query('exp_id == 247')['device_id_hash'].unique()))\n",
        ")\n",
        "device_in_both_groups_246_and_247.shape[0]"
      ]
    },
    {
      "cell_type": "markdown",
      "metadata": {
        "id": "CC7gOHwFNNuq"
      },
      "source": [
        "Проверим, есть ли пользователи, которые присутствуют одновременно в группе 246 и 248."
      ]
    },
    {
      "cell_type": "code",
      "execution_count": null,
      "metadata": {
        "colab": {
          "base_uri": "https://localhost:8080/"
        },
        "id": "uBGCAhnlNNuq",
        "outputId": "c13c3d1b-b04b-4713-e0dc-bde6dda4e63f"
      },
      "outputs": [
        {
          "output_type": "execute_result",
          "data": {
            "text/plain": [
              "0"
            ]
          },
          "metadata": {},
          "execution_count": 102
        }
      ],
      "source": [
        "device_in_both_groups_246_and_248 = (\n",
        "    pd.DataFrame(filtered_logs.query('exp_id == 246')['device_id_hash'].unique())\n",
        "    .merge(pd.DataFrame(filtered_logs.query('exp_id == 248')['device_id_hash'].unique()))\n",
        ")\n",
        "device_in_both_groups_246_and_248.shape[0]"
      ]
    },
    {
      "cell_type": "markdown",
      "metadata": {
        "id": "A2XEO3pUNNuq"
      },
      "source": [
        "Проверим, есть ли пользователи, которые присутствуют одновременно в группе 247 и 248."
      ]
    },
    {
      "cell_type": "code",
      "execution_count": null,
      "metadata": {
        "colab": {
          "base_uri": "https://localhost:8080/"
        },
        "id": "u6Srb3AcNNur",
        "outputId": "40c7d39d-d7f7-494a-ab0b-3f82d68af918"
      },
      "outputs": [
        {
          "output_type": "execute_result",
          "data": {
            "text/plain": [
              "0"
            ]
          },
          "metadata": {},
          "execution_count": 103
        }
      ],
      "source": [
        "device_in_both_groups_247_and_248 = (\n",
        "    pd.DataFrame(filtered_logs.query('exp_id == 247')['device_id_hash'].unique())\n",
        "    .merge(pd.DataFrame(filtered_logs.query('exp_id == 248')['device_id_hash'].unique()))\n",
        ")\n",
        "device_in_both_groups_247_and_248.shape[0]"
      ]
    },
    {
      "cell_type": "markdown",
      "metadata": {
        "id": "JEQpr0SDNNur"
      },
      "source": [
        "Пользователей, которые присутствуют одновременно в нескольких группах, в датафрейме filtered_logs нет."
      ]
    },
    {
      "cell_type": "markdown",
      "metadata": {
        "id": "WKWz44YQNNur"
      },
      "source": [
        "**Вывод к шагу 3**\n",
        "\n",
        "Выяснили, что в логе 243713 событий и 7551 пользователей.   \n",
        "По гистограмме даты и времени событий выяснили, что только с 2019-08-01 данные полные, поэтому отбросим более старые данные. На самом деле располагаем данными с 2019-08-01 по 2019-08-07.  \n",
        "Отбросив старые данные, мы потеряли 2826 событий и 17 пользователей.\n",
        "Убедились, что в отфильтрованных данных остались пользователи из всех трёх экспериментальных групп, а также в том, что нет пользователей, которые одновременно присутствуют в разных группах.  \n"
      ]
    },
    {
      "cell_type": "markdown",
      "metadata": {
        "id": "0ZGJruUrNNus"
      },
      "source": [
        "## Шаг 4. Анализ воронки событий"
      ]
    },
    {
      "cell_type": "markdown",
      "metadata": {
        "id": "PUNGYUGhNNus"
      },
      "source": [
        "### Шаг 4.1. Посмотрите, какие события есть в логах, как часто они встречаются. Отсортируйте события по частоте."
      ]
    },
    {
      "cell_type": "code",
      "execution_count": null,
      "metadata": {
        "colab": {
          "base_uri": "https://localhost:8080/"
        },
        "id": "KCcY9eftNNus",
        "outputId": "ca55dbec-1f06-4e9d-c053-670faee528d6"
      },
      "outputs": [
        {
          "output_type": "execute_result",
          "data": {
            "text/plain": [
              "MainScreenAppear           117328\n",
              "OffersScreenAppear          46333\n",
              "CartScreenAppear            42303\n",
              "PaymentScreenSuccessful     33918\n",
              "Tutorial                     1005\n",
              "Name: event_name, dtype: int64"
            ]
          },
          "metadata": {},
          "execution_count": 104
        }
      ],
      "source": [
        "filtered_logs['event_name'].value_counts()"
      ]
    },
    {
      "cell_type": "markdown",
      "metadata": {
        "id": "UO3_LzFGNNus"
      },
      "source": [
        "Видим, что в логах всего 5 событий: MainScreenAppear, OffersScreenAppear, CartScreenAppear, PaymentScreenSuccessful, Tutorial. Самое популярное событие - MainScreenAppear, оно встречается 117328 раз."
      ]
    },
    {
      "cell_type": "markdown",
      "metadata": {
        "id": "wp2Q9kYeNNut"
      },
      "source": [
        "### Шаг 4.2. Посчитайте, сколько пользователей совершали каждое из этих событий. Отсортируйте события по числу пользователей. Посчитайте долю пользователей, которые хоть раз совершали событие."
      ]
    },
    {
      "cell_type": "code",
      "execution_count": null,
      "metadata": {
        "colab": {
          "base_uri": "https://localhost:8080/",
          "height": 206
        },
        "id": "49ApNZx2NNut",
        "outputId": "6e7a27a6-f490-4a2b-c006-a9149b9f5d7b"
      },
      "outputs": [
        {
          "output_type": "execute_result",
          "data": {
            "text/plain": [
              "                event_name  device_id_hash  percent_of_all_unique_devices,%\n",
              "1         MainScreenAppear            7419                            98.47\n",
              "2       OffersScreenAppear            4593                            60.96\n",
              "0         CartScreenAppear            3734                            49.56\n",
              "3  PaymentScreenSuccessful            3539                            46.97\n",
              "4                 Tutorial             840                            11.15"
            ],
            "text/html": [
              "\n",
              "  <div id=\"df-66f9a5f4-1a74-4ca5-a425-0d6082d2527d\" class=\"colab-df-container\">\n",
              "    <div>\n",
              "<style scoped>\n",
              "    .dataframe tbody tr th:only-of-type {\n",
              "        vertical-align: middle;\n",
              "    }\n",
              "\n",
              "    .dataframe tbody tr th {\n",
              "        vertical-align: top;\n",
              "    }\n",
              "\n",
              "    .dataframe thead th {\n",
              "        text-align: right;\n",
              "    }\n",
              "</style>\n",
              "<table border=\"1\" class=\"dataframe\">\n",
              "  <thead>\n",
              "    <tr style=\"text-align: right;\">\n",
              "      <th></th>\n",
              "      <th>event_name</th>\n",
              "      <th>device_id_hash</th>\n",
              "      <th>percent_of_all_unique_devices,%</th>\n",
              "    </tr>\n",
              "  </thead>\n",
              "  <tbody>\n",
              "    <tr>\n",
              "      <th>1</th>\n",
              "      <td>MainScreenAppear</td>\n",
              "      <td>7419</td>\n",
              "      <td>98.47</td>\n",
              "    </tr>\n",
              "    <tr>\n",
              "      <th>2</th>\n",
              "      <td>OffersScreenAppear</td>\n",
              "      <td>4593</td>\n",
              "      <td>60.96</td>\n",
              "    </tr>\n",
              "    <tr>\n",
              "      <th>0</th>\n",
              "      <td>CartScreenAppear</td>\n",
              "      <td>3734</td>\n",
              "      <td>49.56</td>\n",
              "    </tr>\n",
              "    <tr>\n",
              "      <th>3</th>\n",
              "      <td>PaymentScreenSuccessful</td>\n",
              "      <td>3539</td>\n",
              "      <td>46.97</td>\n",
              "    </tr>\n",
              "    <tr>\n",
              "      <th>4</th>\n",
              "      <td>Tutorial</td>\n",
              "      <td>840</td>\n",
              "      <td>11.15</td>\n",
              "    </tr>\n",
              "  </tbody>\n",
              "</table>\n",
              "</div>\n",
              "    <div class=\"colab-df-buttons\">\n",
              "\n",
              "  <div class=\"colab-df-container\">\n",
              "    <button class=\"colab-df-convert\" onclick=\"convertToInteractive('df-66f9a5f4-1a74-4ca5-a425-0d6082d2527d')\"\n",
              "            title=\"Convert this dataframe to an interactive table.\"\n",
              "            style=\"display:none;\">\n",
              "\n",
              "  <svg xmlns=\"http://www.w3.org/2000/svg\" height=\"24px\" viewBox=\"0 -960 960 960\">\n",
              "    <path d=\"M120-120v-720h720v720H120Zm60-500h600v-160H180v160Zm220 220h160v-160H400v160Zm0 220h160v-160H400v160ZM180-400h160v-160H180v160Zm440 0h160v-160H620v160ZM180-180h160v-160H180v160Zm440 0h160v-160H620v160Z\"/>\n",
              "  </svg>\n",
              "    </button>\n",
              "\n",
              "  <style>\n",
              "    .colab-df-container {\n",
              "      display:flex;\n",
              "      gap: 12px;\n",
              "    }\n",
              "\n",
              "    .colab-df-convert {\n",
              "      background-color: #E8F0FE;\n",
              "      border: none;\n",
              "      border-radius: 50%;\n",
              "      cursor: pointer;\n",
              "      display: none;\n",
              "      fill: #1967D2;\n",
              "      height: 32px;\n",
              "      padding: 0 0 0 0;\n",
              "      width: 32px;\n",
              "    }\n",
              "\n",
              "    .colab-df-convert:hover {\n",
              "      background-color: #E2EBFA;\n",
              "      box-shadow: 0px 1px 2px rgba(60, 64, 67, 0.3), 0px 1px 3px 1px rgba(60, 64, 67, 0.15);\n",
              "      fill: #174EA6;\n",
              "    }\n",
              "\n",
              "    .colab-df-buttons div {\n",
              "      margin-bottom: 4px;\n",
              "    }\n",
              "\n",
              "    [theme=dark] .colab-df-convert {\n",
              "      background-color: #3B4455;\n",
              "      fill: #D2E3FC;\n",
              "    }\n",
              "\n",
              "    [theme=dark] .colab-df-convert:hover {\n",
              "      background-color: #434B5C;\n",
              "      box-shadow: 0px 1px 3px 1px rgba(0, 0, 0, 0.15);\n",
              "      filter: drop-shadow(0px 1px 2px rgba(0, 0, 0, 0.3));\n",
              "      fill: #FFFFFF;\n",
              "    }\n",
              "  </style>\n",
              "\n",
              "    <script>\n",
              "      const buttonEl =\n",
              "        document.querySelector('#df-66f9a5f4-1a74-4ca5-a425-0d6082d2527d button.colab-df-convert');\n",
              "      buttonEl.style.display =\n",
              "        google.colab.kernel.accessAllowed ? 'block' : 'none';\n",
              "\n",
              "      async function convertToInteractive(key) {\n",
              "        const element = document.querySelector('#df-66f9a5f4-1a74-4ca5-a425-0d6082d2527d');\n",
              "        const dataTable =\n",
              "          await google.colab.kernel.invokeFunction('convertToInteractive',\n",
              "                                                    [key], {});\n",
              "        if (!dataTable) return;\n",
              "\n",
              "        const docLinkHtml = 'Like what you see? Visit the ' +\n",
              "          '<a target=\"_blank\" href=https://colab.research.google.com/notebooks/data_table.ipynb>data table notebook</a>'\n",
              "          + ' to learn more about interactive tables.';\n",
              "        element.innerHTML = '';\n",
              "        dataTable['output_type'] = 'display_data';\n",
              "        await google.colab.output.renderOutput(dataTable, element);\n",
              "        const docLink = document.createElement('div');\n",
              "        docLink.innerHTML = docLinkHtml;\n",
              "        element.appendChild(docLink);\n",
              "      }\n",
              "    </script>\n",
              "  </div>\n",
              "\n",
              "\n",
              "<div id=\"df-83662a68-749f-4117-8bb7-499a978ad0b3\">\n",
              "  <button class=\"colab-df-quickchart\" onclick=\"quickchart('df-83662a68-749f-4117-8bb7-499a978ad0b3')\"\n",
              "            title=\"Suggest charts.\"\n",
              "            style=\"display:none;\">\n",
              "\n",
              "<svg xmlns=\"http://www.w3.org/2000/svg\" height=\"24px\"viewBox=\"0 0 24 24\"\n",
              "     width=\"24px\">\n",
              "    <g>\n",
              "        <path d=\"M19 3H5c-1.1 0-2 .9-2 2v14c0 1.1.9 2 2 2h14c1.1 0 2-.9 2-2V5c0-1.1-.9-2-2-2zM9 17H7v-7h2v7zm4 0h-2V7h2v10zm4 0h-2v-4h2v4z\"/>\n",
              "    </g>\n",
              "</svg>\n",
              "  </button>\n",
              "\n",
              "<style>\n",
              "  .colab-df-quickchart {\n",
              "      --bg-color: #E8F0FE;\n",
              "      --fill-color: #1967D2;\n",
              "      --hover-bg-color: #E2EBFA;\n",
              "      --hover-fill-color: #174EA6;\n",
              "      --disabled-fill-color: #AAA;\n",
              "      --disabled-bg-color: #DDD;\n",
              "  }\n",
              "\n",
              "  [theme=dark] .colab-df-quickchart {\n",
              "      --bg-color: #3B4455;\n",
              "      --fill-color: #D2E3FC;\n",
              "      --hover-bg-color: #434B5C;\n",
              "      --hover-fill-color: #FFFFFF;\n",
              "      --disabled-bg-color: #3B4455;\n",
              "      --disabled-fill-color: #666;\n",
              "  }\n",
              "\n",
              "  .colab-df-quickchart {\n",
              "    background-color: var(--bg-color);\n",
              "    border: none;\n",
              "    border-radius: 50%;\n",
              "    cursor: pointer;\n",
              "    display: none;\n",
              "    fill: var(--fill-color);\n",
              "    height: 32px;\n",
              "    padding: 0;\n",
              "    width: 32px;\n",
              "  }\n",
              "\n",
              "  .colab-df-quickchart:hover {\n",
              "    background-color: var(--hover-bg-color);\n",
              "    box-shadow: 0 1px 2px rgba(60, 64, 67, 0.3), 0 1px 3px 1px rgba(60, 64, 67, 0.15);\n",
              "    fill: var(--button-hover-fill-color);\n",
              "  }\n",
              "\n",
              "  .colab-df-quickchart-complete:disabled,\n",
              "  .colab-df-quickchart-complete:disabled:hover {\n",
              "    background-color: var(--disabled-bg-color);\n",
              "    fill: var(--disabled-fill-color);\n",
              "    box-shadow: none;\n",
              "  }\n",
              "\n",
              "  .colab-df-spinner {\n",
              "    border: 2px solid var(--fill-color);\n",
              "    border-color: transparent;\n",
              "    border-bottom-color: var(--fill-color);\n",
              "    animation:\n",
              "      spin 1s steps(1) infinite;\n",
              "  }\n",
              "\n",
              "  @keyframes spin {\n",
              "    0% {\n",
              "      border-color: transparent;\n",
              "      border-bottom-color: var(--fill-color);\n",
              "      border-left-color: var(--fill-color);\n",
              "    }\n",
              "    20% {\n",
              "      border-color: transparent;\n",
              "      border-left-color: var(--fill-color);\n",
              "      border-top-color: var(--fill-color);\n",
              "    }\n",
              "    30% {\n",
              "      border-color: transparent;\n",
              "      border-left-color: var(--fill-color);\n",
              "      border-top-color: var(--fill-color);\n",
              "      border-right-color: var(--fill-color);\n",
              "    }\n",
              "    40% {\n",
              "      border-color: transparent;\n",
              "      border-right-color: var(--fill-color);\n",
              "      border-top-color: var(--fill-color);\n",
              "    }\n",
              "    60% {\n",
              "      border-color: transparent;\n",
              "      border-right-color: var(--fill-color);\n",
              "    }\n",
              "    80% {\n",
              "      border-color: transparent;\n",
              "      border-right-color: var(--fill-color);\n",
              "      border-bottom-color: var(--fill-color);\n",
              "    }\n",
              "    90% {\n",
              "      border-color: transparent;\n",
              "      border-bottom-color: var(--fill-color);\n",
              "    }\n",
              "  }\n",
              "</style>\n",
              "\n",
              "  <script>\n",
              "    async function quickchart(key) {\n",
              "      const quickchartButtonEl =\n",
              "        document.querySelector('#' + key + ' button');\n",
              "      quickchartButtonEl.disabled = true;  // To prevent multiple clicks.\n",
              "      quickchartButtonEl.classList.add('colab-df-spinner');\n",
              "      try {\n",
              "        const charts = await google.colab.kernel.invokeFunction(\n",
              "            'suggestCharts', [key], {});\n",
              "      } catch (error) {\n",
              "        console.error('Error during call to suggestCharts:', error);\n",
              "      }\n",
              "      quickchartButtonEl.classList.remove('colab-df-spinner');\n",
              "      quickchartButtonEl.classList.add('colab-df-quickchart-complete');\n",
              "    }\n",
              "    (() => {\n",
              "      let quickchartButtonEl =\n",
              "        document.querySelector('#df-83662a68-749f-4117-8bb7-499a978ad0b3 button');\n",
              "      quickchartButtonEl.style.display =\n",
              "        google.colab.kernel.accessAllowed ? 'block' : 'none';\n",
              "    })();\n",
              "  </script>\n",
              "</div>\n",
              "    </div>\n",
              "  </div>\n"
            ]
          },
          "metadata": {},
          "execution_count": 105
        }
      ],
      "source": [
        "users_in_event = (\n",
        "    filtered_logs.groupby('event_name',as_index=False).agg({'device_id_hash':'nunique'})\\\n",
        "    .sort_values(by='device_id_hash',ascending=False)\n",
        ")\n",
        "users_in_event['percent_of_all_unique_devices,%'] = round(users_in_event['device_id_hash']*100/\\\n",
        "len(filtered_logs['device_id_hash'].unique()),2)\n",
        "users_in_event"
      ]
    },
    {
      "cell_type": "markdown",
      "metadata": {
        "id": "EQdb-tjFNNut"
      },
      "source": [
        "Посчитали, сколько уникальных пользователей совершили каждое из событий. Также отобразили процент пользователей, совершивших событие, к общему числу пользователей в колонке 'percent_of_all_unique_devices,%'."
      ]
    },
    {
      "cell_type": "markdown",
      "metadata": {
        "id": "NygvyQUVNNut"
      },
      "source": [
        "### Шаг 4.3. Предположите, в каком порядке происходят события. Все ли они выстраиваются в последовательную цепочку? Их не нужно учитывать при расчёте воронки."
      ]
    },
    {
      "cell_type": "markdown",
      "metadata": {
        "id": "_ZfHhm86NNut"
      },
      "source": [
        "События могут происходить в следующем порядке по убыванию процентов в столбце 'percent_of_all_unique_devices,%': MainScreenAppear -> OffersScreenAppear -> CartScreenAppear -> PaymentScreenSuccessful. Tutorial  может появляться после любой из страниц, которые мы указали ранее, у нас нет данных об этом."
      ]
    },
    {
      "cell_type": "markdown",
      "metadata": {
        "id": "aVCShlkCNNuu"
      },
      "source": [
        "### Шаг 4.4. По воронке событий посчитайте, какая доля пользователей проходит на следующий шаг воронки (от числа пользователей на предыдущем).\n",
        "**То есть для последовательности событий A → B → C посчитайте отношение числа пользователей с событием B к количеству пользователей с событием A, а также отношение числа пользователей с событием C к количеству пользователей с событием B.**"
      ]
    },
    {
      "cell_type": "code",
      "execution_count": null,
      "metadata": {
        "colab": {
          "base_uri": "https://localhost:8080/",
          "height": 175
        },
        "id": "8Op4dtm_NNuu",
        "outputId": "d32c2f04-11cf-4f87-a7d3-6266824b2423"
      },
      "outputs": [
        {
          "output_type": "execute_result",
          "data": {
            "text/plain": [
              "                event_name  device_id_hash  percent_of_all_unique_devices,%\n",
              "0         MainScreenAppear            7419                            98.47\n",
              "1       OffersScreenAppear            4593                            60.96\n",
              "2         CartScreenAppear            3734                            49.56\n",
              "3  PaymentScreenSuccessful            3539                            46.97"
            ],
            "text/html": [
              "\n",
              "  <div id=\"df-695fb29a-8175-40a5-914f-4871e84e972b\" class=\"colab-df-container\">\n",
              "    <div>\n",
              "<style scoped>\n",
              "    .dataframe tbody tr th:only-of-type {\n",
              "        vertical-align: middle;\n",
              "    }\n",
              "\n",
              "    .dataframe tbody tr th {\n",
              "        vertical-align: top;\n",
              "    }\n",
              "\n",
              "    .dataframe thead th {\n",
              "        text-align: right;\n",
              "    }\n",
              "</style>\n",
              "<table border=\"1\" class=\"dataframe\">\n",
              "  <thead>\n",
              "    <tr style=\"text-align: right;\">\n",
              "      <th></th>\n",
              "      <th>event_name</th>\n",
              "      <th>device_id_hash</th>\n",
              "      <th>percent_of_all_unique_devices,%</th>\n",
              "    </tr>\n",
              "  </thead>\n",
              "  <tbody>\n",
              "    <tr>\n",
              "      <th>0</th>\n",
              "      <td>MainScreenAppear</td>\n",
              "      <td>7419</td>\n",
              "      <td>98.47</td>\n",
              "    </tr>\n",
              "    <tr>\n",
              "      <th>1</th>\n",
              "      <td>OffersScreenAppear</td>\n",
              "      <td>4593</td>\n",
              "      <td>60.96</td>\n",
              "    </tr>\n",
              "    <tr>\n",
              "      <th>2</th>\n",
              "      <td>CartScreenAppear</td>\n",
              "      <td>3734</td>\n",
              "      <td>49.56</td>\n",
              "    </tr>\n",
              "    <tr>\n",
              "      <th>3</th>\n",
              "      <td>PaymentScreenSuccessful</td>\n",
              "      <td>3539</td>\n",
              "      <td>46.97</td>\n",
              "    </tr>\n",
              "  </tbody>\n",
              "</table>\n",
              "</div>\n",
              "    <div class=\"colab-df-buttons\">\n",
              "\n",
              "  <div class=\"colab-df-container\">\n",
              "    <button class=\"colab-df-convert\" onclick=\"convertToInteractive('df-695fb29a-8175-40a5-914f-4871e84e972b')\"\n",
              "            title=\"Convert this dataframe to an interactive table.\"\n",
              "            style=\"display:none;\">\n",
              "\n",
              "  <svg xmlns=\"http://www.w3.org/2000/svg\" height=\"24px\" viewBox=\"0 -960 960 960\">\n",
              "    <path d=\"M120-120v-720h720v720H120Zm60-500h600v-160H180v160Zm220 220h160v-160H400v160Zm0 220h160v-160H400v160ZM180-400h160v-160H180v160Zm440 0h160v-160H620v160ZM180-180h160v-160H180v160Zm440 0h160v-160H620v160Z\"/>\n",
              "  </svg>\n",
              "    </button>\n",
              "\n",
              "  <style>\n",
              "    .colab-df-container {\n",
              "      display:flex;\n",
              "      gap: 12px;\n",
              "    }\n",
              "\n",
              "    .colab-df-convert {\n",
              "      background-color: #E8F0FE;\n",
              "      border: none;\n",
              "      border-radius: 50%;\n",
              "      cursor: pointer;\n",
              "      display: none;\n",
              "      fill: #1967D2;\n",
              "      height: 32px;\n",
              "      padding: 0 0 0 0;\n",
              "      width: 32px;\n",
              "    }\n",
              "\n",
              "    .colab-df-convert:hover {\n",
              "      background-color: #E2EBFA;\n",
              "      box-shadow: 0px 1px 2px rgba(60, 64, 67, 0.3), 0px 1px 3px 1px rgba(60, 64, 67, 0.15);\n",
              "      fill: #174EA6;\n",
              "    }\n",
              "\n",
              "    .colab-df-buttons div {\n",
              "      margin-bottom: 4px;\n",
              "    }\n",
              "\n",
              "    [theme=dark] .colab-df-convert {\n",
              "      background-color: #3B4455;\n",
              "      fill: #D2E3FC;\n",
              "    }\n",
              "\n",
              "    [theme=dark] .colab-df-convert:hover {\n",
              "      background-color: #434B5C;\n",
              "      box-shadow: 0px 1px 3px 1px rgba(0, 0, 0, 0.15);\n",
              "      filter: drop-shadow(0px 1px 2px rgba(0, 0, 0, 0.3));\n",
              "      fill: #FFFFFF;\n",
              "    }\n",
              "  </style>\n",
              "\n",
              "    <script>\n",
              "      const buttonEl =\n",
              "        document.querySelector('#df-695fb29a-8175-40a5-914f-4871e84e972b button.colab-df-convert');\n",
              "      buttonEl.style.display =\n",
              "        google.colab.kernel.accessAllowed ? 'block' : 'none';\n",
              "\n",
              "      async function convertToInteractive(key) {\n",
              "        const element = document.querySelector('#df-695fb29a-8175-40a5-914f-4871e84e972b');\n",
              "        const dataTable =\n",
              "          await google.colab.kernel.invokeFunction('convertToInteractive',\n",
              "                                                    [key], {});\n",
              "        if (!dataTable) return;\n",
              "\n",
              "        const docLinkHtml = 'Like what you see? Visit the ' +\n",
              "          '<a target=\"_blank\" href=https://colab.research.google.com/notebooks/data_table.ipynb>data table notebook</a>'\n",
              "          + ' to learn more about interactive tables.';\n",
              "        element.innerHTML = '';\n",
              "        dataTable['output_type'] = 'display_data';\n",
              "        await google.colab.output.renderOutput(dataTable, element);\n",
              "        const docLink = document.createElement('div');\n",
              "        docLink.innerHTML = docLinkHtml;\n",
              "        element.appendChild(docLink);\n",
              "      }\n",
              "    </script>\n",
              "  </div>\n",
              "\n",
              "\n",
              "<div id=\"df-b8e1c69b-34c6-41f5-8fc2-bbde4c8c310a\">\n",
              "  <button class=\"colab-df-quickchart\" onclick=\"quickchart('df-b8e1c69b-34c6-41f5-8fc2-bbde4c8c310a')\"\n",
              "            title=\"Suggest charts.\"\n",
              "            style=\"display:none;\">\n",
              "\n",
              "<svg xmlns=\"http://www.w3.org/2000/svg\" height=\"24px\"viewBox=\"0 0 24 24\"\n",
              "     width=\"24px\">\n",
              "    <g>\n",
              "        <path d=\"M19 3H5c-1.1 0-2 .9-2 2v14c0 1.1.9 2 2 2h14c1.1 0 2-.9 2-2V5c0-1.1-.9-2-2-2zM9 17H7v-7h2v7zm4 0h-2V7h2v10zm4 0h-2v-4h2v4z\"/>\n",
              "    </g>\n",
              "</svg>\n",
              "  </button>\n",
              "\n",
              "<style>\n",
              "  .colab-df-quickchart {\n",
              "      --bg-color: #E8F0FE;\n",
              "      --fill-color: #1967D2;\n",
              "      --hover-bg-color: #E2EBFA;\n",
              "      --hover-fill-color: #174EA6;\n",
              "      --disabled-fill-color: #AAA;\n",
              "      --disabled-bg-color: #DDD;\n",
              "  }\n",
              "\n",
              "  [theme=dark] .colab-df-quickchart {\n",
              "      --bg-color: #3B4455;\n",
              "      --fill-color: #D2E3FC;\n",
              "      --hover-bg-color: #434B5C;\n",
              "      --hover-fill-color: #FFFFFF;\n",
              "      --disabled-bg-color: #3B4455;\n",
              "      --disabled-fill-color: #666;\n",
              "  }\n",
              "\n",
              "  .colab-df-quickchart {\n",
              "    background-color: var(--bg-color);\n",
              "    border: none;\n",
              "    border-radius: 50%;\n",
              "    cursor: pointer;\n",
              "    display: none;\n",
              "    fill: var(--fill-color);\n",
              "    height: 32px;\n",
              "    padding: 0;\n",
              "    width: 32px;\n",
              "  }\n",
              "\n",
              "  .colab-df-quickchart:hover {\n",
              "    background-color: var(--hover-bg-color);\n",
              "    box-shadow: 0 1px 2px rgba(60, 64, 67, 0.3), 0 1px 3px 1px rgba(60, 64, 67, 0.15);\n",
              "    fill: var(--button-hover-fill-color);\n",
              "  }\n",
              "\n",
              "  .colab-df-quickchart-complete:disabled,\n",
              "  .colab-df-quickchart-complete:disabled:hover {\n",
              "    background-color: var(--disabled-bg-color);\n",
              "    fill: var(--disabled-fill-color);\n",
              "    box-shadow: none;\n",
              "  }\n",
              "\n",
              "  .colab-df-spinner {\n",
              "    border: 2px solid var(--fill-color);\n",
              "    border-color: transparent;\n",
              "    border-bottom-color: var(--fill-color);\n",
              "    animation:\n",
              "      spin 1s steps(1) infinite;\n",
              "  }\n",
              "\n",
              "  @keyframes spin {\n",
              "    0% {\n",
              "      border-color: transparent;\n",
              "      border-bottom-color: var(--fill-color);\n",
              "      border-left-color: var(--fill-color);\n",
              "    }\n",
              "    20% {\n",
              "      border-color: transparent;\n",
              "      border-left-color: var(--fill-color);\n",
              "      border-top-color: var(--fill-color);\n",
              "    }\n",
              "    30% {\n",
              "      border-color: transparent;\n",
              "      border-left-color: var(--fill-color);\n",
              "      border-top-color: var(--fill-color);\n",
              "      border-right-color: var(--fill-color);\n",
              "    }\n",
              "    40% {\n",
              "      border-color: transparent;\n",
              "      border-right-color: var(--fill-color);\n",
              "      border-top-color: var(--fill-color);\n",
              "    }\n",
              "    60% {\n",
              "      border-color: transparent;\n",
              "      border-right-color: var(--fill-color);\n",
              "    }\n",
              "    80% {\n",
              "      border-color: transparent;\n",
              "      border-right-color: var(--fill-color);\n",
              "      border-bottom-color: var(--fill-color);\n",
              "    }\n",
              "    90% {\n",
              "      border-color: transparent;\n",
              "      border-bottom-color: var(--fill-color);\n",
              "    }\n",
              "  }\n",
              "</style>\n",
              "\n",
              "  <script>\n",
              "    async function quickchart(key) {\n",
              "      const quickchartButtonEl =\n",
              "        document.querySelector('#' + key + ' button');\n",
              "      quickchartButtonEl.disabled = true;  // To prevent multiple clicks.\n",
              "      quickchartButtonEl.classList.add('colab-df-spinner');\n",
              "      try {\n",
              "        const charts = await google.colab.kernel.invokeFunction(\n",
              "            'suggestCharts', [key], {});\n",
              "      } catch (error) {\n",
              "        console.error('Error during call to suggestCharts:', error);\n",
              "      }\n",
              "      quickchartButtonEl.classList.remove('colab-df-spinner');\n",
              "      quickchartButtonEl.classList.add('colab-df-quickchart-complete');\n",
              "    }\n",
              "    (() => {\n",
              "      let quickchartButtonEl =\n",
              "        document.querySelector('#df-b8e1c69b-34c6-41f5-8fc2-bbde4c8c310a button');\n",
              "      quickchartButtonEl.style.display =\n",
              "        google.colab.kernel.accessAllowed ? 'block' : 'none';\n",
              "    })();\n",
              "  </script>\n",
              "</div>\n",
              "    </div>\n",
              "  </div>\n"
            ]
          },
          "metadata": {},
          "execution_count": 106
        }
      ],
      "source": [
        "# удалим строку с со значением 'Tutorial' в столбце event_name\n",
        "users_in_event_filtered = users_in_event.query('event_name != \"Tutorial\"').reset_index(drop=True)\n",
        "users_in_event_filtered"
      ]
    },
    {
      "cell_type": "code",
      "execution_count": null,
      "metadata": {
        "colab": {
          "base_uri": "https://localhost:8080/",
          "height": 175
        },
        "id": "7sRpON0XNNuu",
        "outputId": "e8fa4ecb-00d0-438b-ef51-21edb726bc1d"
      },
      "outputs": [
        {
          "output_type": "execute_result",
          "data": {
            "text/plain": [
              "                event_name  device_id_hash  percent_of_all_unique_devices,%  \\\n",
              "0         MainScreenAppear            7419                            98.47   \n",
              "1       OffersScreenAppear            4593                            60.96   \n",
              "2         CartScreenAppear            3734                            49.56   \n",
              "3  PaymentScreenSuccessful            3539                            46.97   \n",
              "\n",
              "   previous_device_id_hash  \n",
              "0                     7534  \n",
              "1                     7419  \n",
              "2                     4593  \n",
              "3                     3734  "
            ],
            "text/html": [
              "\n",
              "  <div id=\"df-3e1856eb-cf73-44d0-911b-7d88ac92b206\" class=\"colab-df-container\">\n",
              "    <div>\n",
              "<style scoped>\n",
              "    .dataframe tbody tr th:only-of-type {\n",
              "        vertical-align: middle;\n",
              "    }\n",
              "\n",
              "    .dataframe tbody tr th {\n",
              "        vertical-align: top;\n",
              "    }\n",
              "\n",
              "    .dataframe thead th {\n",
              "        text-align: right;\n",
              "    }\n",
              "</style>\n",
              "<table border=\"1\" class=\"dataframe\">\n",
              "  <thead>\n",
              "    <tr style=\"text-align: right;\">\n",
              "      <th></th>\n",
              "      <th>event_name</th>\n",
              "      <th>device_id_hash</th>\n",
              "      <th>percent_of_all_unique_devices,%</th>\n",
              "      <th>previous_device_id_hash</th>\n",
              "    </tr>\n",
              "  </thead>\n",
              "  <tbody>\n",
              "    <tr>\n",
              "      <th>0</th>\n",
              "      <td>MainScreenAppear</td>\n",
              "      <td>7419</td>\n",
              "      <td>98.47</td>\n",
              "      <td>7534</td>\n",
              "    </tr>\n",
              "    <tr>\n",
              "      <th>1</th>\n",
              "      <td>OffersScreenAppear</td>\n",
              "      <td>4593</td>\n",
              "      <td>60.96</td>\n",
              "      <td>7419</td>\n",
              "    </tr>\n",
              "    <tr>\n",
              "      <th>2</th>\n",
              "      <td>CartScreenAppear</td>\n",
              "      <td>3734</td>\n",
              "      <td>49.56</td>\n",
              "      <td>4593</td>\n",
              "    </tr>\n",
              "    <tr>\n",
              "      <th>3</th>\n",
              "      <td>PaymentScreenSuccessful</td>\n",
              "      <td>3539</td>\n",
              "      <td>46.97</td>\n",
              "      <td>3734</td>\n",
              "    </tr>\n",
              "  </tbody>\n",
              "</table>\n",
              "</div>\n",
              "    <div class=\"colab-df-buttons\">\n",
              "\n",
              "  <div class=\"colab-df-container\">\n",
              "    <button class=\"colab-df-convert\" onclick=\"convertToInteractive('df-3e1856eb-cf73-44d0-911b-7d88ac92b206')\"\n",
              "            title=\"Convert this dataframe to an interactive table.\"\n",
              "            style=\"display:none;\">\n",
              "\n",
              "  <svg xmlns=\"http://www.w3.org/2000/svg\" height=\"24px\" viewBox=\"0 -960 960 960\">\n",
              "    <path d=\"M120-120v-720h720v720H120Zm60-500h600v-160H180v160Zm220 220h160v-160H400v160Zm0 220h160v-160H400v160ZM180-400h160v-160H180v160Zm440 0h160v-160H620v160ZM180-180h160v-160H180v160Zm440 0h160v-160H620v160Z\"/>\n",
              "  </svg>\n",
              "    </button>\n",
              "\n",
              "  <style>\n",
              "    .colab-df-container {\n",
              "      display:flex;\n",
              "      gap: 12px;\n",
              "    }\n",
              "\n",
              "    .colab-df-convert {\n",
              "      background-color: #E8F0FE;\n",
              "      border: none;\n",
              "      border-radius: 50%;\n",
              "      cursor: pointer;\n",
              "      display: none;\n",
              "      fill: #1967D2;\n",
              "      height: 32px;\n",
              "      padding: 0 0 0 0;\n",
              "      width: 32px;\n",
              "    }\n",
              "\n",
              "    .colab-df-convert:hover {\n",
              "      background-color: #E2EBFA;\n",
              "      box-shadow: 0px 1px 2px rgba(60, 64, 67, 0.3), 0px 1px 3px 1px rgba(60, 64, 67, 0.15);\n",
              "      fill: #174EA6;\n",
              "    }\n",
              "\n",
              "    .colab-df-buttons div {\n",
              "      margin-bottom: 4px;\n",
              "    }\n",
              "\n",
              "    [theme=dark] .colab-df-convert {\n",
              "      background-color: #3B4455;\n",
              "      fill: #D2E3FC;\n",
              "    }\n",
              "\n",
              "    [theme=dark] .colab-df-convert:hover {\n",
              "      background-color: #434B5C;\n",
              "      box-shadow: 0px 1px 3px 1px rgba(0, 0, 0, 0.15);\n",
              "      filter: drop-shadow(0px 1px 2px rgba(0, 0, 0, 0.3));\n",
              "      fill: #FFFFFF;\n",
              "    }\n",
              "  </style>\n",
              "\n",
              "    <script>\n",
              "      const buttonEl =\n",
              "        document.querySelector('#df-3e1856eb-cf73-44d0-911b-7d88ac92b206 button.colab-df-convert');\n",
              "      buttonEl.style.display =\n",
              "        google.colab.kernel.accessAllowed ? 'block' : 'none';\n",
              "\n",
              "      async function convertToInteractive(key) {\n",
              "        const element = document.querySelector('#df-3e1856eb-cf73-44d0-911b-7d88ac92b206');\n",
              "        const dataTable =\n",
              "          await google.colab.kernel.invokeFunction('convertToInteractive',\n",
              "                                                    [key], {});\n",
              "        if (!dataTable) return;\n",
              "\n",
              "        const docLinkHtml = 'Like what you see? Visit the ' +\n",
              "          '<a target=\"_blank\" href=https://colab.research.google.com/notebooks/data_table.ipynb>data table notebook</a>'\n",
              "          + ' to learn more about interactive tables.';\n",
              "        element.innerHTML = '';\n",
              "        dataTable['output_type'] = 'display_data';\n",
              "        await google.colab.output.renderOutput(dataTable, element);\n",
              "        const docLink = document.createElement('div');\n",
              "        docLink.innerHTML = docLinkHtml;\n",
              "        element.appendChild(docLink);\n",
              "      }\n",
              "    </script>\n",
              "  </div>\n",
              "\n",
              "\n",
              "<div id=\"df-d4bee155-a88e-47b9-b4e9-b3bb02181249\">\n",
              "  <button class=\"colab-df-quickchart\" onclick=\"quickchart('df-d4bee155-a88e-47b9-b4e9-b3bb02181249')\"\n",
              "            title=\"Suggest charts.\"\n",
              "            style=\"display:none;\">\n",
              "\n",
              "<svg xmlns=\"http://www.w3.org/2000/svg\" height=\"24px\"viewBox=\"0 0 24 24\"\n",
              "     width=\"24px\">\n",
              "    <g>\n",
              "        <path d=\"M19 3H5c-1.1 0-2 .9-2 2v14c0 1.1.9 2 2 2h14c1.1 0 2-.9 2-2V5c0-1.1-.9-2-2-2zM9 17H7v-7h2v7zm4 0h-2V7h2v10zm4 0h-2v-4h2v4z\"/>\n",
              "    </g>\n",
              "</svg>\n",
              "  </button>\n",
              "\n",
              "<style>\n",
              "  .colab-df-quickchart {\n",
              "      --bg-color: #E8F0FE;\n",
              "      --fill-color: #1967D2;\n",
              "      --hover-bg-color: #E2EBFA;\n",
              "      --hover-fill-color: #174EA6;\n",
              "      --disabled-fill-color: #AAA;\n",
              "      --disabled-bg-color: #DDD;\n",
              "  }\n",
              "\n",
              "  [theme=dark] .colab-df-quickchart {\n",
              "      --bg-color: #3B4455;\n",
              "      --fill-color: #D2E3FC;\n",
              "      --hover-bg-color: #434B5C;\n",
              "      --hover-fill-color: #FFFFFF;\n",
              "      --disabled-bg-color: #3B4455;\n",
              "      --disabled-fill-color: #666;\n",
              "  }\n",
              "\n",
              "  .colab-df-quickchart {\n",
              "    background-color: var(--bg-color);\n",
              "    border: none;\n",
              "    border-radius: 50%;\n",
              "    cursor: pointer;\n",
              "    display: none;\n",
              "    fill: var(--fill-color);\n",
              "    height: 32px;\n",
              "    padding: 0;\n",
              "    width: 32px;\n",
              "  }\n",
              "\n",
              "  .colab-df-quickchart:hover {\n",
              "    background-color: var(--hover-bg-color);\n",
              "    box-shadow: 0 1px 2px rgba(60, 64, 67, 0.3), 0 1px 3px 1px rgba(60, 64, 67, 0.15);\n",
              "    fill: var(--button-hover-fill-color);\n",
              "  }\n",
              "\n",
              "  .colab-df-quickchart-complete:disabled,\n",
              "  .colab-df-quickchart-complete:disabled:hover {\n",
              "    background-color: var(--disabled-bg-color);\n",
              "    fill: var(--disabled-fill-color);\n",
              "    box-shadow: none;\n",
              "  }\n",
              "\n",
              "  .colab-df-spinner {\n",
              "    border: 2px solid var(--fill-color);\n",
              "    border-color: transparent;\n",
              "    border-bottom-color: var(--fill-color);\n",
              "    animation:\n",
              "      spin 1s steps(1) infinite;\n",
              "  }\n",
              "\n",
              "  @keyframes spin {\n",
              "    0% {\n",
              "      border-color: transparent;\n",
              "      border-bottom-color: var(--fill-color);\n",
              "      border-left-color: var(--fill-color);\n",
              "    }\n",
              "    20% {\n",
              "      border-color: transparent;\n",
              "      border-left-color: var(--fill-color);\n",
              "      border-top-color: var(--fill-color);\n",
              "    }\n",
              "    30% {\n",
              "      border-color: transparent;\n",
              "      border-left-color: var(--fill-color);\n",
              "      border-top-color: var(--fill-color);\n",
              "      border-right-color: var(--fill-color);\n",
              "    }\n",
              "    40% {\n",
              "      border-color: transparent;\n",
              "      border-right-color: var(--fill-color);\n",
              "      border-top-color: var(--fill-color);\n",
              "    }\n",
              "    60% {\n",
              "      border-color: transparent;\n",
              "      border-right-color: var(--fill-color);\n",
              "    }\n",
              "    80% {\n",
              "      border-color: transparent;\n",
              "      border-right-color: var(--fill-color);\n",
              "      border-bottom-color: var(--fill-color);\n",
              "    }\n",
              "    90% {\n",
              "      border-color: transparent;\n",
              "      border-bottom-color: var(--fill-color);\n",
              "    }\n",
              "  }\n",
              "</style>\n",
              "\n",
              "  <script>\n",
              "    async function quickchart(key) {\n",
              "      const quickchartButtonEl =\n",
              "        document.querySelector('#' + key + ' button');\n",
              "      quickchartButtonEl.disabled = true;  // To prevent multiple clicks.\n",
              "      quickchartButtonEl.classList.add('colab-df-spinner');\n",
              "      try {\n",
              "        const charts = await google.colab.kernel.invokeFunction(\n",
              "            'suggestCharts', [key], {});\n",
              "      } catch (error) {\n",
              "        console.error('Error during call to suggestCharts:', error);\n",
              "      }\n",
              "      quickchartButtonEl.classList.remove('colab-df-spinner');\n",
              "      quickchartButtonEl.classList.add('colab-df-quickchart-complete');\n",
              "    }\n",
              "    (() => {\n",
              "      let quickchartButtonEl =\n",
              "        document.querySelector('#df-d4bee155-a88e-47b9-b4e9-b3bb02181249 button');\n",
              "      quickchartButtonEl.style.display =\n",
              "        google.colab.kernel.accessAllowed ? 'block' : 'none';\n",
              "    })();\n",
              "  </script>\n",
              "</div>\n",
              "    </div>\n",
              "  </div>\n"
            ]
          },
          "metadata": {},
          "execution_count": 107
        }
      ],
      "source": [
        "# создадим столбец 'previous_device_id_hash', чтобы посчитать далее конверсию из одного события в другое\n",
        "users_in_event_filtered['previous_device_id_hash'] = users_in_event_filtered['device_id_hash']\\\n",
        ".shift(1,fill_value=len(filtered_logs['device_id_hash'].unique()))\n",
        "users_in_event_filtered"
      ]
    },
    {
      "cell_type": "code",
      "execution_count": null,
      "metadata": {
        "scrolled": true,
        "colab": {
          "base_uri": "https://localhost:8080/",
          "height": 175
        },
        "id": "ZJiEjsI6NNuv",
        "outputId": "a577d663-aeff-4231-8cd9-b53a8bee4600"
      },
      "outputs": [
        {
          "output_type": "execute_result",
          "data": {
            "text/plain": [
              "                event_name  device_id_hash  percent_of_all_unique_devices,%  \\\n",
              "0         MainScreenAppear            7419                            98.47   \n",
              "1       OffersScreenAppear            4593                            60.96   \n",
              "2         CartScreenAppear            3734                            49.56   \n",
              "3  PaymentScreenSuccessful            3539                            46.97   \n",
              "\n",
              "   previous_device_id_hash  conversion,%  \n",
              "0                     7534         98.47  \n",
              "1                     7419         61.91  \n",
              "2                     4593         81.30  \n",
              "3                     3734         94.78  "
            ],
            "text/html": [
              "\n",
              "  <div id=\"df-4e68e58a-81bf-4e57-8487-5b2dc8388de8\" class=\"colab-df-container\">\n",
              "    <div>\n",
              "<style scoped>\n",
              "    .dataframe tbody tr th:only-of-type {\n",
              "        vertical-align: middle;\n",
              "    }\n",
              "\n",
              "    .dataframe tbody tr th {\n",
              "        vertical-align: top;\n",
              "    }\n",
              "\n",
              "    .dataframe thead th {\n",
              "        text-align: right;\n",
              "    }\n",
              "</style>\n",
              "<table border=\"1\" class=\"dataframe\">\n",
              "  <thead>\n",
              "    <tr style=\"text-align: right;\">\n",
              "      <th></th>\n",
              "      <th>event_name</th>\n",
              "      <th>device_id_hash</th>\n",
              "      <th>percent_of_all_unique_devices,%</th>\n",
              "      <th>previous_device_id_hash</th>\n",
              "      <th>conversion,%</th>\n",
              "    </tr>\n",
              "  </thead>\n",
              "  <tbody>\n",
              "    <tr>\n",
              "      <th>0</th>\n",
              "      <td>MainScreenAppear</td>\n",
              "      <td>7419</td>\n",
              "      <td>98.47</td>\n",
              "      <td>7534</td>\n",
              "      <td>98.47</td>\n",
              "    </tr>\n",
              "    <tr>\n",
              "      <th>1</th>\n",
              "      <td>OffersScreenAppear</td>\n",
              "      <td>4593</td>\n",
              "      <td>60.96</td>\n",
              "      <td>7419</td>\n",
              "      <td>61.91</td>\n",
              "    </tr>\n",
              "    <tr>\n",
              "      <th>2</th>\n",
              "      <td>CartScreenAppear</td>\n",
              "      <td>3734</td>\n",
              "      <td>49.56</td>\n",
              "      <td>4593</td>\n",
              "      <td>81.30</td>\n",
              "    </tr>\n",
              "    <tr>\n",
              "      <th>3</th>\n",
              "      <td>PaymentScreenSuccessful</td>\n",
              "      <td>3539</td>\n",
              "      <td>46.97</td>\n",
              "      <td>3734</td>\n",
              "      <td>94.78</td>\n",
              "    </tr>\n",
              "  </tbody>\n",
              "</table>\n",
              "</div>\n",
              "    <div class=\"colab-df-buttons\">\n",
              "\n",
              "  <div class=\"colab-df-container\">\n",
              "    <button class=\"colab-df-convert\" onclick=\"convertToInteractive('df-4e68e58a-81bf-4e57-8487-5b2dc8388de8')\"\n",
              "            title=\"Convert this dataframe to an interactive table.\"\n",
              "            style=\"display:none;\">\n",
              "\n",
              "  <svg xmlns=\"http://www.w3.org/2000/svg\" height=\"24px\" viewBox=\"0 -960 960 960\">\n",
              "    <path d=\"M120-120v-720h720v720H120Zm60-500h600v-160H180v160Zm220 220h160v-160H400v160Zm0 220h160v-160H400v160ZM180-400h160v-160H180v160Zm440 0h160v-160H620v160ZM180-180h160v-160H180v160Zm440 0h160v-160H620v160Z\"/>\n",
              "  </svg>\n",
              "    </button>\n",
              "\n",
              "  <style>\n",
              "    .colab-df-container {\n",
              "      display:flex;\n",
              "      gap: 12px;\n",
              "    }\n",
              "\n",
              "    .colab-df-convert {\n",
              "      background-color: #E8F0FE;\n",
              "      border: none;\n",
              "      border-radius: 50%;\n",
              "      cursor: pointer;\n",
              "      display: none;\n",
              "      fill: #1967D2;\n",
              "      height: 32px;\n",
              "      padding: 0 0 0 0;\n",
              "      width: 32px;\n",
              "    }\n",
              "\n",
              "    .colab-df-convert:hover {\n",
              "      background-color: #E2EBFA;\n",
              "      box-shadow: 0px 1px 2px rgba(60, 64, 67, 0.3), 0px 1px 3px 1px rgba(60, 64, 67, 0.15);\n",
              "      fill: #174EA6;\n",
              "    }\n",
              "\n",
              "    .colab-df-buttons div {\n",
              "      margin-bottom: 4px;\n",
              "    }\n",
              "\n",
              "    [theme=dark] .colab-df-convert {\n",
              "      background-color: #3B4455;\n",
              "      fill: #D2E3FC;\n",
              "    }\n",
              "\n",
              "    [theme=dark] .colab-df-convert:hover {\n",
              "      background-color: #434B5C;\n",
              "      box-shadow: 0px 1px 3px 1px rgba(0, 0, 0, 0.15);\n",
              "      filter: drop-shadow(0px 1px 2px rgba(0, 0, 0, 0.3));\n",
              "      fill: #FFFFFF;\n",
              "    }\n",
              "  </style>\n",
              "\n",
              "    <script>\n",
              "      const buttonEl =\n",
              "        document.querySelector('#df-4e68e58a-81bf-4e57-8487-5b2dc8388de8 button.colab-df-convert');\n",
              "      buttonEl.style.display =\n",
              "        google.colab.kernel.accessAllowed ? 'block' : 'none';\n",
              "\n",
              "      async function convertToInteractive(key) {\n",
              "        const element = document.querySelector('#df-4e68e58a-81bf-4e57-8487-5b2dc8388de8');\n",
              "        const dataTable =\n",
              "          await google.colab.kernel.invokeFunction('convertToInteractive',\n",
              "                                                    [key], {});\n",
              "        if (!dataTable) return;\n",
              "\n",
              "        const docLinkHtml = 'Like what you see? Visit the ' +\n",
              "          '<a target=\"_blank\" href=https://colab.research.google.com/notebooks/data_table.ipynb>data table notebook</a>'\n",
              "          + ' to learn more about interactive tables.';\n",
              "        element.innerHTML = '';\n",
              "        dataTable['output_type'] = 'display_data';\n",
              "        await google.colab.output.renderOutput(dataTable, element);\n",
              "        const docLink = document.createElement('div');\n",
              "        docLink.innerHTML = docLinkHtml;\n",
              "        element.appendChild(docLink);\n",
              "      }\n",
              "    </script>\n",
              "  </div>\n",
              "\n",
              "\n",
              "<div id=\"df-d1b5d3cc-6ac4-42a7-856f-b3571d4340c3\">\n",
              "  <button class=\"colab-df-quickchart\" onclick=\"quickchart('df-d1b5d3cc-6ac4-42a7-856f-b3571d4340c3')\"\n",
              "            title=\"Suggest charts.\"\n",
              "            style=\"display:none;\">\n",
              "\n",
              "<svg xmlns=\"http://www.w3.org/2000/svg\" height=\"24px\"viewBox=\"0 0 24 24\"\n",
              "     width=\"24px\">\n",
              "    <g>\n",
              "        <path d=\"M19 3H5c-1.1 0-2 .9-2 2v14c0 1.1.9 2 2 2h14c1.1 0 2-.9 2-2V5c0-1.1-.9-2-2-2zM9 17H7v-7h2v7zm4 0h-2V7h2v10zm4 0h-2v-4h2v4z\"/>\n",
              "    </g>\n",
              "</svg>\n",
              "  </button>\n",
              "\n",
              "<style>\n",
              "  .colab-df-quickchart {\n",
              "      --bg-color: #E8F0FE;\n",
              "      --fill-color: #1967D2;\n",
              "      --hover-bg-color: #E2EBFA;\n",
              "      --hover-fill-color: #174EA6;\n",
              "      --disabled-fill-color: #AAA;\n",
              "      --disabled-bg-color: #DDD;\n",
              "  }\n",
              "\n",
              "  [theme=dark] .colab-df-quickchart {\n",
              "      --bg-color: #3B4455;\n",
              "      --fill-color: #D2E3FC;\n",
              "      --hover-bg-color: #434B5C;\n",
              "      --hover-fill-color: #FFFFFF;\n",
              "      --disabled-bg-color: #3B4455;\n",
              "      --disabled-fill-color: #666;\n",
              "  }\n",
              "\n",
              "  .colab-df-quickchart {\n",
              "    background-color: var(--bg-color);\n",
              "    border: none;\n",
              "    border-radius: 50%;\n",
              "    cursor: pointer;\n",
              "    display: none;\n",
              "    fill: var(--fill-color);\n",
              "    height: 32px;\n",
              "    padding: 0;\n",
              "    width: 32px;\n",
              "  }\n",
              "\n",
              "  .colab-df-quickchart:hover {\n",
              "    background-color: var(--hover-bg-color);\n",
              "    box-shadow: 0 1px 2px rgba(60, 64, 67, 0.3), 0 1px 3px 1px rgba(60, 64, 67, 0.15);\n",
              "    fill: var(--button-hover-fill-color);\n",
              "  }\n",
              "\n",
              "  .colab-df-quickchart-complete:disabled,\n",
              "  .colab-df-quickchart-complete:disabled:hover {\n",
              "    background-color: var(--disabled-bg-color);\n",
              "    fill: var(--disabled-fill-color);\n",
              "    box-shadow: none;\n",
              "  }\n",
              "\n",
              "  .colab-df-spinner {\n",
              "    border: 2px solid var(--fill-color);\n",
              "    border-color: transparent;\n",
              "    border-bottom-color: var(--fill-color);\n",
              "    animation:\n",
              "      spin 1s steps(1) infinite;\n",
              "  }\n",
              "\n",
              "  @keyframes spin {\n",
              "    0% {\n",
              "      border-color: transparent;\n",
              "      border-bottom-color: var(--fill-color);\n",
              "      border-left-color: var(--fill-color);\n",
              "    }\n",
              "    20% {\n",
              "      border-color: transparent;\n",
              "      border-left-color: var(--fill-color);\n",
              "      border-top-color: var(--fill-color);\n",
              "    }\n",
              "    30% {\n",
              "      border-color: transparent;\n",
              "      border-left-color: var(--fill-color);\n",
              "      border-top-color: var(--fill-color);\n",
              "      border-right-color: var(--fill-color);\n",
              "    }\n",
              "    40% {\n",
              "      border-color: transparent;\n",
              "      border-right-color: var(--fill-color);\n",
              "      border-top-color: var(--fill-color);\n",
              "    }\n",
              "    60% {\n",
              "      border-color: transparent;\n",
              "      border-right-color: var(--fill-color);\n",
              "    }\n",
              "    80% {\n",
              "      border-color: transparent;\n",
              "      border-right-color: var(--fill-color);\n",
              "      border-bottom-color: var(--fill-color);\n",
              "    }\n",
              "    90% {\n",
              "      border-color: transparent;\n",
              "      border-bottom-color: var(--fill-color);\n",
              "    }\n",
              "  }\n",
              "</style>\n",
              "\n",
              "  <script>\n",
              "    async function quickchart(key) {\n",
              "      const quickchartButtonEl =\n",
              "        document.querySelector('#' + key + ' button');\n",
              "      quickchartButtonEl.disabled = true;  // To prevent multiple clicks.\n",
              "      quickchartButtonEl.classList.add('colab-df-spinner');\n",
              "      try {\n",
              "        const charts = await google.colab.kernel.invokeFunction(\n",
              "            'suggestCharts', [key], {});\n",
              "      } catch (error) {\n",
              "        console.error('Error during call to suggestCharts:', error);\n",
              "      }\n",
              "      quickchartButtonEl.classList.remove('colab-df-spinner');\n",
              "      quickchartButtonEl.classList.add('colab-df-quickchart-complete');\n",
              "    }\n",
              "    (() => {\n",
              "      let quickchartButtonEl =\n",
              "        document.querySelector('#df-d1b5d3cc-6ac4-42a7-856f-b3571d4340c3 button');\n",
              "      quickchartButtonEl.style.display =\n",
              "        google.colab.kernel.accessAllowed ? 'block' : 'none';\n",
              "    })();\n",
              "  </script>\n",
              "</div>\n",
              "    </div>\n",
              "  </div>\n"
            ]
          },
          "metadata": {},
          "execution_count": 108
        }
      ],
      "source": [
        "# В столбце 'conversion,%' посчитаем, какая доля пользователей проходит на следующий шаг воронки\n",
        "# (от числа пользователей на предыдущем шаге)\n",
        "users_in_event_filtered['conversion,%'] = round(users_in_event_filtered['device_id_hash']*100/\\\n",
        "                                              users_in_event_filtered['previous_device_id_hash'],2)\n",
        "users_in_event_filtered"
      ]
    },
    {
      "cell_type": "markdown",
      "metadata": {
        "id": "KDKCjeLbNNuv"
      },
      "source": [
        "По воронке событий посчитали, какая доля пользователей проходит на следующий шаг воронки (от числа пользователей на предыдущем). Конверсия события 'MainScreenAppear' от общего числа уникальных пользователей - 98.47%; конверсия 'OffersScreenAppear' от 'MainScreenAppear' - 61.91%; конверсия события 'CartScreenAppear' от 'OffersScreenAppear' - 81.30%; конверсия события 'PaymentScreenSuccessful' от события 'OffersScreenAppear' - 94.78%."
      ]
    },
    {
      "cell_type": "markdown",
      "metadata": {
        "id": "_Yiw1CBSNNuv"
      },
      "source": [
        "### Шаг 4.5. На каком шаге теряете больше всего пользователей?"
      ]
    },
    {
      "cell_type": "code",
      "execution_count": null,
      "metadata": {
        "colab": {
          "base_uri": "https://localhost:8080/",
          "height": 175
        },
        "id": "sM5qfHh1NNuv",
        "outputId": "658058b3-3ec3-4143-dc37-4eec75923ac9"
      },
      "outputs": [
        {
          "output_type": "execute_result",
          "data": {
            "text/plain": [
              "                event_name  difference\n",
              "0         MainScreenAppear         115\n",
              "1       OffersScreenAppear        2826\n",
              "2         CartScreenAppear         859\n",
              "3  PaymentScreenSuccessful         195"
            ],
            "text/html": [
              "\n",
              "  <div id=\"df-174a027b-2d7c-414d-932e-c17e2e6355be\" class=\"colab-df-container\">\n",
              "    <div>\n",
              "<style scoped>\n",
              "    .dataframe tbody tr th:only-of-type {\n",
              "        vertical-align: middle;\n",
              "    }\n",
              "\n",
              "    .dataframe tbody tr th {\n",
              "        vertical-align: top;\n",
              "    }\n",
              "\n",
              "    .dataframe thead th {\n",
              "        text-align: right;\n",
              "    }\n",
              "</style>\n",
              "<table border=\"1\" class=\"dataframe\">\n",
              "  <thead>\n",
              "    <tr style=\"text-align: right;\">\n",
              "      <th></th>\n",
              "      <th>event_name</th>\n",
              "      <th>difference</th>\n",
              "    </tr>\n",
              "  </thead>\n",
              "  <tbody>\n",
              "    <tr>\n",
              "      <th>0</th>\n",
              "      <td>MainScreenAppear</td>\n",
              "      <td>115</td>\n",
              "    </tr>\n",
              "    <tr>\n",
              "      <th>1</th>\n",
              "      <td>OffersScreenAppear</td>\n",
              "      <td>2826</td>\n",
              "    </tr>\n",
              "    <tr>\n",
              "      <th>2</th>\n",
              "      <td>CartScreenAppear</td>\n",
              "      <td>859</td>\n",
              "    </tr>\n",
              "    <tr>\n",
              "      <th>3</th>\n",
              "      <td>PaymentScreenSuccessful</td>\n",
              "      <td>195</td>\n",
              "    </tr>\n",
              "  </tbody>\n",
              "</table>\n",
              "</div>\n",
              "    <div class=\"colab-df-buttons\">\n",
              "\n",
              "  <div class=\"colab-df-container\">\n",
              "    <button class=\"colab-df-convert\" onclick=\"convertToInteractive('df-174a027b-2d7c-414d-932e-c17e2e6355be')\"\n",
              "            title=\"Convert this dataframe to an interactive table.\"\n",
              "            style=\"display:none;\">\n",
              "\n",
              "  <svg xmlns=\"http://www.w3.org/2000/svg\" height=\"24px\" viewBox=\"0 -960 960 960\">\n",
              "    <path d=\"M120-120v-720h720v720H120Zm60-500h600v-160H180v160Zm220 220h160v-160H400v160Zm0 220h160v-160H400v160ZM180-400h160v-160H180v160Zm440 0h160v-160H620v160ZM180-180h160v-160H180v160Zm440 0h160v-160H620v160Z\"/>\n",
              "  </svg>\n",
              "    </button>\n",
              "\n",
              "  <style>\n",
              "    .colab-df-container {\n",
              "      display:flex;\n",
              "      gap: 12px;\n",
              "    }\n",
              "\n",
              "    .colab-df-convert {\n",
              "      background-color: #E8F0FE;\n",
              "      border: none;\n",
              "      border-radius: 50%;\n",
              "      cursor: pointer;\n",
              "      display: none;\n",
              "      fill: #1967D2;\n",
              "      height: 32px;\n",
              "      padding: 0 0 0 0;\n",
              "      width: 32px;\n",
              "    }\n",
              "\n",
              "    .colab-df-convert:hover {\n",
              "      background-color: #E2EBFA;\n",
              "      box-shadow: 0px 1px 2px rgba(60, 64, 67, 0.3), 0px 1px 3px 1px rgba(60, 64, 67, 0.15);\n",
              "      fill: #174EA6;\n",
              "    }\n",
              "\n",
              "    .colab-df-buttons div {\n",
              "      margin-bottom: 4px;\n",
              "    }\n",
              "\n",
              "    [theme=dark] .colab-df-convert {\n",
              "      background-color: #3B4455;\n",
              "      fill: #D2E3FC;\n",
              "    }\n",
              "\n",
              "    [theme=dark] .colab-df-convert:hover {\n",
              "      background-color: #434B5C;\n",
              "      box-shadow: 0px 1px 3px 1px rgba(0, 0, 0, 0.15);\n",
              "      filter: drop-shadow(0px 1px 2px rgba(0, 0, 0, 0.3));\n",
              "      fill: #FFFFFF;\n",
              "    }\n",
              "  </style>\n",
              "\n",
              "    <script>\n",
              "      const buttonEl =\n",
              "        document.querySelector('#df-174a027b-2d7c-414d-932e-c17e2e6355be button.colab-df-convert');\n",
              "      buttonEl.style.display =\n",
              "        google.colab.kernel.accessAllowed ? 'block' : 'none';\n",
              "\n",
              "      async function convertToInteractive(key) {\n",
              "        const element = document.querySelector('#df-174a027b-2d7c-414d-932e-c17e2e6355be');\n",
              "        const dataTable =\n",
              "          await google.colab.kernel.invokeFunction('convertToInteractive',\n",
              "                                                    [key], {});\n",
              "        if (!dataTable) return;\n",
              "\n",
              "        const docLinkHtml = 'Like what you see? Visit the ' +\n",
              "          '<a target=\"_blank\" href=https://colab.research.google.com/notebooks/data_table.ipynb>data table notebook</a>'\n",
              "          + ' to learn more about interactive tables.';\n",
              "        element.innerHTML = '';\n",
              "        dataTable['output_type'] = 'display_data';\n",
              "        await google.colab.output.renderOutput(dataTable, element);\n",
              "        const docLink = document.createElement('div');\n",
              "        docLink.innerHTML = docLinkHtml;\n",
              "        element.appendChild(docLink);\n",
              "      }\n",
              "    </script>\n",
              "  </div>\n",
              "\n",
              "\n",
              "<div id=\"df-aea30334-ab41-41a2-9c61-a64c0e39b4bf\">\n",
              "  <button class=\"colab-df-quickchart\" onclick=\"quickchart('df-aea30334-ab41-41a2-9c61-a64c0e39b4bf')\"\n",
              "            title=\"Suggest charts.\"\n",
              "            style=\"display:none;\">\n",
              "\n",
              "<svg xmlns=\"http://www.w3.org/2000/svg\" height=\"24px\"viewBox=\"0 0 24 24\"\n",
              "     width=\"24px\">\n",
              "    <g>\n",
              "        <path d=\"M19 3H5c-1.1 0-2 .9-2 2v14c0 1.1.9 2 2 2h14c1.1 0 2-.9 2-2V5c0-1.1-.9-2-2-2zM9 17H7v-7h2v7zm4 0h-2V7h2v10zm4 0h-2v-4h2v4z\"/>\n",
              "    </g>\n",
              "</svg>\n",
              "  </button>\n",
              "\n",
              "<style>\n",
              "  .colab-df-quickchart {\n",
              "      --bg-color: #E8F0FE;\n",
              "      --fill-color: #1967D2;\n",
              "      --hover-bg-color: #E2EBFA;\n",
              "      --hover-fill-color: #174EA6;\n",
              "      --disabled-fill-color: #AAA;\n",
              "      --disabled-bg-color: #DDD;\n",
              "  }\n",
              "\n",
              "  [theme=dark] .colab-df-quickchart {\n",
              "      --bg-color: #3B4455;\n",
              "      --fill-color: #D2E3FC;\n",
              "      --hover-bg-color: #434B5C;\n",
              "      --hover-fill-color: #FFFFFF;\n",
              "      --disabled-bg-color: #3B4455;\n",
              "      --disabled-fill-color: #666;\n",
              "  }\n",
              "\n",
              "  .colab-df-quickchart {\n",
              "    background-color: var(--bg-color);\n",
              "    border: none;\n",
              "    border-radius: 50%;\n",
              "    cursor: pointer;\n",
              "    display: none;\n",
              "    fill: var(--fill-color);\n",
              "    height: 32px;\n",
              "    padding: 0;\n",
              "    width: 32px;\n",
              "  }\n",
              "\n",
              "  .colab-df-quickchart:hover {\n",
              "    background-color: var(--hover-bg-color);\n",
              "    box-shadow: 0 1px 2px rgba(60, 64, 67, 0.3), 0 1px 3px 1px rgba(60, 64, 67, 0.15);\n",
              "    fill: var(--button-hover-fill-color);\n",
              "  }\n",
              "\n",
              "  .colab-df-quickchart-complete:disabled,\n",
              "  .colab-df-quickchart-complete:disabled:hover {\n",
              "    background-color: var(--disabled-bg-color);\n",
              "    fill: var(--disabled-fill-color);\n",
              "    box-shadow: none;\n",
              "  }\n",
              "\n",
              "  .colab-df-spinner {\n",
              "    border: 2px solid var(--fill-color);\n",
              "    border-color: transparent;\n",
              "    border-bottom-color: var(--fill-color);\n",
              "    animation:\n",
              "      spin 1s steps(1) infinite;\n",
              "  }\n",
              "\n",
              "  @keyframes spin {\n",
              "    0% {\n",
              "      border-color: transparent;\n",
              "      border-bottom-color: var(--fill-color);\n",
              "      border-left-color: var(--fill-color);\n",
              "    }\n",
              "    20% {\n",
              "      border-color: transparent;\n",
              "      border-left-color: var(--fill-color);\n",
              "      border-top-color: var(--fill-color);\n",
              "    }\n",
              "    30% {\n",
              "      border-color: transparent;\n",
              "      border-left-color: var(--fill-color);\n",
              "      border-top-color: var(--fill-color);\n",
              "      border-right-color: var(--fill-color);\n",
              "    }\n",
              "    40% {\n",
              "      border-color: transparent;\n",
              "      border-right-color: var(--fill-color);\n",
              "      border-top-color: var(--fill-color);\n",
              "    }\n",
              "    60% {\n",
              "      border-color: transparent;\n",
              "      border-right-color: var(--fill-color);\n",
              "    }\n",
              "    80% {\n",
              "      border-color: transparent;\n",
              "      border-right-color: var(--fill-color);\n",
              "      border-bottom-color: var(--fill-color);\n",
              "    }\n",
              "    90% {\n",
              "      border-color: transparent;\n",
              "      border-bottom-color: var(--fill-color);\n",
              "    }\n",
              "  }\n",
              "</style>\n",
              "\n",
              "  <script>\n",
              "    async function quickchart(key) {\n",
              "      const quickchartButtonEl =\n",
              "        document.querySelector('#' + key + ' button');\n",
              "      quickchartButtonEl.disabled = true;  // To prevent multiple clicks.\n",
              "      quickchartButtonEl.classList.add('colab-df-spinner');\n",
              "      try {\n",
              "        const charts = await google.colab.kernel.invokeFunction(\n",
              "            'suggestCharts', [key], {});\n",
              "      } catch (error) {\n",
              "        console.error('Error during call to suggestCharts:', error);\n",
              "      }\n",
              "      quickchartButtonEl.classList.remove('colab-df-spinner');\n",
              "      quickchartButtonEl.classList.add('colab-df-quickchart-complete');\n",
              "    }\n",
              "    (() => {\n",
              "      let quickchartButtonEl =\n",
              "        document.querySelector('#df-aea30334-ab41-41a2-9c61-a64c0e39b4bf button');\n",
              "      quickchartButtonEl.style.display =\n",
              "        google.colab.kernel.accessAllowed ? 'block' : 'none';\n",
              "    })();\n",
              "  </script>\n",
              "</div>\n",
              "    </div>\n",
              "  </div>\n"
            ]
          },
          "metadata": {},
          "execution_count": 109
        }
      ],
      "source": [
        "# в столбце 'difference' отобразим число человек, которые мы потеряли с предыдущего шага\n",
        "pd.concat([users_in_event_filtered['event_name'],\n",
        "           pd.Series(users_in_event_filtered['previous_device_id_hash']-users_in_event_filtered['device_id_hash'],\n",
        "                     name='difference')], axis=1)"
      ]
    },
    {
      "cell_type": "code",
      "execution_count": null,
      "metadata": {
        "colab": {
          "base_uri": "https://localhost:8080/"
        },
        "id": "A4vzpwCxNNuw",
        "outputId": "3c08f2d9-2dc9-4376-cb52-5f7a180c0650"
      },
      "outputs": [
        {
          "output_type": "stream",
          "name": "stdout",
          "text": [
            "На шаге OffersScreenAppear теряем больше всего пользователей.\n"
          ]
        }
      ],
      "source": [
        "print(f\"\"\"На шаге {users_in_event_filtered['event_name'][(users_in_event_filtered['previous_device_id_hash']-\n",
        "users_in_event_filtered['device_id_hash']).argmax()]} теряем больше всего пользователей.\"\"\")"
      ]
    },
    {
      "cell_type": "markdown",
      "metadata": {
        "id": "uN8q2VAwNNuw"
      },
      "source": [
        "### Шаг 4.6. Какая доля пользователей доходит от первого события до оплаты?"
      ]
    },
    {
      "cell_type": "code",
      "execution_count": null,
      "metadata": {
        "scrolled": true,
        "colab": {
          "base_uri": "https://localhost:8080/"
        },
        "id": "pbkFn21bNNuw",
        "outputId": "f80a7d70-52d7-4ba9-ef08-be20859dbbc7"
      },
      "outputs": [
        {
          "output_type": "stream",
          "name": "stdout",
          "text": [
            "47.70% пользователей доходит от первого события до оплаты.\n"
          ]
        }
      ],
      "source": [
        "print(f\"{users_in_event_filtered.loc[3,'device_id_hash']/users_in_event_filtered.loc[0,'device_id_hash']:.2%} \\\n",
        "пользователей доходит от первого события до оплаты.\")"
      ]
    },
    {
      "cell_type": "code",
      "execution_count": null,
      "metadata": {
        "colab": {
          "base_uri": "https://localhost:8080/",
          "height": 542
        },
        "id": "FNmylXzBNNux",
        "outputId": "a8551829-1aba-4194-d95f-64f7b5c2bfcd"
      },
      "outputs": [
        {
          "output_type": "display_data",
          "data": {
            "text/html": [
              "<html>\n",
              "<head><meta charset=\"utf-8\" /></head>\n",
              "<body>\n",
              "    <div>            <script src=\"https://cdnjs.cloudflare.com/ajax/libs/mathjax/2.7.5/MathJax.js?config=TeX-AMS-MML_SVG\"></script><script type=\"text/javascript\">if (window.MathJax && window.MathJax.Hub && window.MathJax.Hub.Config) {window.MathJax.Hub.Config({SVG: {font: \"STIX-Web\"}});}</script>                <script type=\"text/javascript\">window.PlotlyConfig = {MathJaxConfig: 'local'};</script>\n",
              "        <script charset=\"utf-8\" src=\"https://cdn.plot.ly/plotly-2.24.1.min.js\"></script>                <div id=\"e04177ce-70a8-4efb-8e3e-514809cd507f\" class=\"plotly-graph-div\" style=\"height:525px; width:100%;\"></div>            <script type=\"text/javascript\">                                    window.PLOTLYENV=window.PLOTLYENV || {};                                    if (document.getElementById(\"e04177ce-70a8-4efb-8e3e-514809cd507f\")) {                    Plotly.newPlot(                        \"e04177ce-70a8-4efb-8e3e-514809cd507f\",                        [{\"connector\":{\"line\":{\"color\":\"royalblue\",\"dash\":\"dot\",\"width\":3}},\"marker\":{\"color\":[\"deepskyblue\",\"lightsalmon\",\"tan\",\"teal\",\"silver\"],\"line\":{\"color\":[\"wheat\",\"wheat\",\"blue\",\"wheat\",\"wheat\"],\"width\":[4,2,2,3,1,1]}},\"opacity\":0.65,\"textinfo\":\"value+percent initial\",\"textposition\":\"inside\",\"x\":[7534,7419,4593,3734,3539],\"y\":[\"AllUsers\",\"MainScreenAppear\",\"OffersScreenAppear\",\"CartScreenAppear\",\"PaymentScreenSuccessful\"],\"type\":\"funnel\"}],                        {\"template\":{\"data\":{\"histogram2dcontour\":[{\"type\":\"histogram2dcontour\",\"colorbar\":{\"outlinewidth\":0,\"ticks\":\"\"},\"colorscale\":[[0.0,\"#0d0887\"],[0.1111111111111111,\"#46039f\"],[0.2222222222222222,\"#7201a8\"],[0.3333333333333333,\"#9c179e\"],[0.4444444444444444,\"#bd3786\"],[0.5555555555555556,\"#d8576b\"],[0.6666666666666666,\"#ed7953\"],[0.7777777777777778,\"#fb9f3a\"],[0.8888888888888888,\"#fdca26\"],[1.0,\"#f0f921\"]]}],\"choropleth\":[{\"type\":\"choropleth\",\"colorbar\":{\"outlinewidth\":0,\"ticks\":\"\"}}],\"histogram2d\":[{\"type\":\"histogram2d\",\"colorbar\":{\"outlinewidth\":0,\"ticks\":\"\"},\"colorscale\":[[0.0,\"#0d0887\"],[0.1111111111111111,\"#46039f\"],[0.2222222222222222,\"#7201a8\"],[0.3333333333333333,\"#9c179e\"],[0.4444444444444444,\"#bd3786\"],[0.5555555555555556,\"#d8576b\"],[0.6666666666666666,\"#ed7953\"],[0.7777777777777778,\"#fb9f3a\"],[0.8888888888888888,\"#fdca26\"],[1.0,\"#f0f921\"]]}],\"heatmap\":[{\"type\":\"heatmap\",\"colorbar\":{\"outlinewidth\":0,\"ticks\":\"\"},\"colorscale\":[[0.0,\"#0d0887\"],[0.1111111111111111,\"#46039f\"],[0.2222222222222222,\"#7201a8\"],[0.3333333333333333,\"#9c179e\"],[0.4444444444444444,\"#bd3786\"],[0.5555555555555556,\"#d8576b\"],[0.6666666666666666,\"#ed7953\"],[0.7777777777777778,\"#fb9f3a\"],[0.8888888888888888,\"#fdca26\"],[1.0,\"#f0f921\"]]}],\"heatmapgl\":[{\"type\":\"heatmapgl\",\"colorbar\":{\"outlinewidth\":0,\"ticks\":\"\"},\"colorscale\":[[0.0,\"#0d0887\"],[0.1111111111111111,\"#46039f\"],[0.2222222222222222,\"#7201a8\"],[0.3333333333333333,\"#9c179e\"],[0.4444444444444444,\"#bd3786\"],[0.5555555555555556,\"#d8576b\"],[0.6666666666666666,\"#ed7953\"],[0.7777777777777778,\"#fb9f3a\"],[0.8888888888888888,\"#fdca26\"],[1.0,\"#f0f921\"]]}],\"contourcarpet\":[{\"type\":\"contourcarpet\",\"colorbar\":{\"outlinewidth\":0,\"ticks\":\"\"}}],\"contour\":[{\"type\":\"contour\",\"colorbar\":{\"outlinewidth\":0,\"ticks\":\"\"},\"colorscale\":[[0.0,\"#0d0887\"],[0.1111111111111111,\"#46039f\"],[0.2222222222222222,\"#7201a8\"],[0.3333333333333333,\"#9c179e\"],[0.4444444444444444,\"#bd3786\"],[0.5555555555555556,\"#d8576b\"],[0.6666666666666666,\"#ed7953\"],[0.7777777777777778,\"#fb9f3a\"],[0.8888888888888888,\"#fdca26\"],[1.0,\"#f0f921\"]]}],\"surface\":[{\"type\":\"surface\",\"colorbar\":{\"outlinewidth\":0,\"ticks\":\"\"},\"colorscale\":[[0.0,\"#0d0887\"],[0.1111111111111111,\"#46039f\"],[0.2222222222222222,\"#7201a8\"],[0.3333333333333333,\"#9c179e\"],[0.4444444444444444,\"#bd3786\"],[0.5555555555555556,\"#d8576b\"],[0.6666666666666666,\"#ed7953\"],[0.7777777777777778,\"#fb9f3a\"],[0.8888888888888888,\"#fdca26\"],[1.0,\"#f0f921\"]]}],\"mesh3d\":[{\"type\":\"mesh3d\",\"colorbar\":{\"outlinewidth\":0,\"ticks\":\"\"}}],\"scatter\":[{\"fillpattern\":{\"fillmode\":\"overlay\",\"size\":10,\"solidity\":0.2},\"type\":\"scatter\"}],\"parcoords\":[{\"type\":\"parcoords\",\"line\":{\"colorbar\":{\"outlinewidth\":0,\"ticks\":\"\"}}}],\"scatterpolargl\":[{\"type\":\"scatterpolargl\",\"marker\":{\"colorbar\":{\"outlinewidth\":0,\"ticks\":\"\"}}}],\"bar\":[{\"error_x\":{\"color\":\"#2a3f5f\"},\"error_y\":{\"color\":\"#2a3f5f\"},\"marker\":{\"line\":{\"color\":\"#E5ECF6\",\"width\":0.5},\"pattern\":{\"fillmode\":\"overlay\",\"size\":10,\"solidity\":0.2}},\"type\":\"bar\"}],\"scattergeo\":[{\"type\":\"scattergeo\",\"marker\":{\"colorbar\":{\"outlinewidth\":0,\"ticks\":\"\"}}}],\"scatterpolar\":[{\"type\":\"scatterpolar\",\"marker\":{\"colorbar\":{\"outlinewidth\":0,\"ticks\":\"\"}}}],\"histogram\":[{\"marker\":{\"pattern\":{\"fillmode\":\"overlay\",\"size\":10,\"solidity\":0.2}},\"type\":\"histogram\"}],\"scattergl\":[{\"type\":\"scattergl\",\"marker\":{\"colorbar\":{\"outlinewidth\":0,\"ticks\":\"\"}}}],\"scatter3d\":[{\"type\":\"scatter3d\",\"line\":{\"colorbar\":{\"outlinewidth\":0,\"ticks\":\"\"}},\"marker\":{\"colorbar\":{\"outlinewidth\":0,\"ticks\":\"\"}}}],\"scattermapbox\":[{\"type\":\"scattermapbox\",\"marker\":{\"colorbar\":{\"outlinewidth\":0,\"ticks\":\"\"}}}],\"scatterternary\":[{\"type\":\"scatterternary\",\"marker\":{\"colorbar\":{\"outlinewidth\":0,\"ticks\":\"\"}}}],\"scattercarpet\":[{\"type\":\"scattercarpet\",\"marker\":{\"colorbar\":{\"outlinewidth\":0,\"ticks\":\"\"}}}],\"carpet\":[{\"aaxis\":{\"endlinecolor\":\"#2a3f5f\",\"gridcolor\":\"white\",\"linecolor\":\"white\",\"minorgridcolor\":\"white\",\"startlinecolor\":\"#2a3f5f\"},\"baxis\":{\"endlinecolor\":\"#2a3f5f\",\"gridcolor\":\"white\",\"linecolor\":\"white\",\"minorgridcolor\":\"white\",\"startlinecolor\":\"#2a3f5f\"},\"type\":\"carpet\"}],\"table\":[{\"cells\":{\"fill\":{\"color\":\"#EBF0F8\"},\"line\":{\"color\":\"white\"}},\"header\":{\"fill\":{\"color\":\"#C8D4E3\"},\"line\":{\"color\":\"white\"}},\"type\":\"table\"}],\"barpolar\":[{\"marker\":{\"line\":{\"color\":\"#E5ECF6\",\"width\":0.5},\"pattern\":{\"fillmode\":\"overlay\",\"size\":10,\"solidity\":0.2}},\"type\":\"barpolar\"}],\"pie\":[{\"automargin\":true,\"type\":\"pie\"}]},\"layout\":{\"autotypenumbers\":\"strict\",\"colorway\":[\"#636efa\",\"#EF553B\",\"#00cc96\",\"#ab63fa\",\"#FFA15A\",\"#19d3f3\",\"#FF6692\",\"#B6E880\",\"#FF97FF\",\"#FECB52\"],\"font\":{\"color\":\"#2a3f5f\"},\"hovermode\":\"closest\",\"hoverlabel\":{\"align\":\"left\"},\"paper_bgcolor\":\"white\",\"plot_bgcolor\":\"#E5ECF6\",\"polar\":{\"bgcolor\":\"#E5ECF6\",\"angularaxis\":{\"gridcolor\":\"white\",\"linecolor\":\"white\",\"ticks\":\"\"},\"radialaxis\":{\"gridcolor\":\"white\",\"linecolor\":\"white\",\"ticks\":\"\"}},\"ternary\":{\"bgcolor\":\"#E5ECF6\",\"aaxis\":{\"gridcolor\":\"white\",\"linecolor\":\"white\",\"ticks\":\"\"},\"baxis\":{\"gridcolor\":\"white\",\"linecolor\":\"white\",\"ticks\":\"\"},\"caxis\":{\"gridcolor\":\"white\",\"linecolor\":\"white\",\"ticks\":\"\"}},\"coloraxis\":{\"colorbar\":{\"outlinewidth\":0,\"ticks\":\"\"}},\"colorscale\":{\"sequential\":[[0.0,\"#0d0887\"],[0.1111111111111111,\"#46039f\"],[0.2222222222222222,\"#7201a8\"],[0.3333333333333333,\"#9c179e\"],[0.4444444444444444,\"#bd3786\"],[0.5555555555555556,\"#d8576b\"],[0.6666666666666666,\"#ed7953\"],[0.7777777777777778,\"#fb9f3a\"],[0.8888888888888888,\"#fdca26\"],[1.0,\"#f0f921\"]],\"sequentialminus\":[[0.0,\"#0d0887\"],[0.1111111111111111,\"#46039f\"],[0.2222222222222222,\"#7201a8\"],[0.3333333333333333,\"#9c179e\"],[0.4444444444444444,\"#bd3786\"],[0.5555555555555556,\"#d8576b\"],[0.6666666666666666,\"#ed7953\"],[0.7777777777777778,\"#fb9f3a\"],[0.8888888888888888,\"#fdca26\"],[1.0,\"#f0f921\"]],\"diverging\":[[0,\"#8e0152\"],[0.1,\"#c51b7d\"],[0.2,\"#de77ae\"],[0.3,\"#f1b6da\"],[0.4,\"#fde0ef\"],[0.5,\"#f7f7f7\"],[0.6,\"#e6f5d0\"],[0.7,\"#b8e186\"],[0.8,\"#7fbc41\"],[0.9,\"#4d9221\"],[1,\"#276419\"]]},\"xaxis\":{\"gridcolor\":\"white\",\"linecolor\":\"white\",\"ticks\":\"\",\"title\":{\"standoff\":15},\"zerolinecolor\":\"white\",\"automargin\":true,\"zerolinewidth\":2},\"yaxis\":{\"gridcolor\":\"white\",\"linecolor\":\"white\",\"ticks\":\"\",\"title\":{\"standoff\":15},\"zerolinecolor\":\"white\",\"automargin\":true,\"zerolinewidth\":2},\"scene\":{\"xaxis\":{\"backgroundcolor\":\"#E5ECF6\",\"gridcolor\":\"white\",\"linecolor\":\"white\",\"showbackground\":true,\"ticks\":\"\",\"zerolinecolor\":\"white\",\"gridwidth\":2},\"yaxis\":{\"backgroundcolor\":\"#E5ECF6\",\"gridcolor\":\"white\",\"linecolor\":\"white\",\"showbackground\":true,\"ticks\":\"\",\"zerolinecolor\":\"white\",\"gridwidth\":2},\"zaxis\":{\"backgroundcolor\":\"#E5ECF6\",\"gridcolor\":\"white\",\"linecolor\":\"white\",\"showbackground\":true,\"ticks\":\"\",\"zerolinecolor\":\"white\",\"gridwidth\":2}},\"shapedefaults\":{\"line\":{\"color\":\"#2a3f5f\"}},\"annotationdefaults\":{\"arrowcolor\":\"#2a3f5f\",\"arrowhead\":0,\"arrowwidth\":1},\"geo\":{\"bgcolor\":\"white\",\"landcolor\":\"#E5ECF6\",\"subunitcolor\":\"white\",\"showland\":true,\"showlakes\":true,\"lakecolor\":\"white\"},\"title\":{\"x\":0.05},\"mapbox\":{\"style\":\"light\"}}},\"title\":{\"text\":\"\\u0413\\u0440\\u0430\\u0444\\u0438\\u043a \\u0432\\u043e\\u0440\\u043e\\u043d\\u043a\\u0438\",\"x\":0.5}},                        {\"responsive\": true}                    ).then(function(){\n",
              "                            \n",
              "var gd = document.getElementById('e04177ce-70a8-4efb-8e3e-514809cd507f');\n",
              "var x = new MutationObserver(function (mutations, observer) {{\n",
              "        var display = window.getComputedStyle(gd).display;\n",
              "        if (!display || display === 'none') {{\n",
              "            console.log([gd, 'removed!']);\n",
              "            Plotly.purge(gd);\n",
              "            observer.disconnect();\n",
              "        }}\n",
              "}});\n",
              "\n",
              "// Listen for the removal of the full notebook cells\n",
              "var notebookContainer = gd.closest('#notebook-container');\n",
              "if (notebookContainer) {{\n",
              "    x.observe(notebookContainer, {childList: true});\n",
              "}}\n",
              "\n",
              "// Listen for the clearing of the current output cell\n",
              "var outputEl = gd.closest('.output');\n",
              "if (outputEl) {{\n",
              "    x.observe(outputEl, {childList: true});\n",
              "}}\n",
              "\n",
              "                        })                };                            </script>        </div>\n",
              "</body>\n",
              "</html>"
            ]
          },
          "metadata": {}
        }
      ],
      "source": [
        "fig = go.Figure(go.Funnel(\n",
        "    y = [\"AllUsers\", users_in_event_filtered.loc[0,'event_name'],\n",
        "         users_in_event_filtered.loc[1,'event_name'], users_in_event_filtered.loc[2,'event_name'],\n",
        "         users_in_event_filtered.loc[3,'event_name']],\n",
        "    x = [users_in_event_filtered.loc[0,'previous_device_id_hash'], users_in_event_filtered.loc[0,'device_id_hash'],\n",
        "         users_in_event_filtered.loc[1,'device_id_hash'], users_in_event_filtered.loc[2,'device_id_hash'],\n",
        "         users_in_event_filtered.loc[3,'device_id_hash']],\n",
        "    textposition = \"inside\",\n",
        "    textinfo = \"value+percent initial\",\n",
        "    opacity = 0.65, marker = {\"color\": [\"deepskyblue\", \"lightsalmon\", \"tan\", \"teal\", \"silver\"],\n",
        "    \"line\": {\"width\": [4, 2, 2, 3, 1, 1], \"color\": [\"wheat\", \"wheat\", \"blue\", \"wheat\", \"wheat\"]}},\n",
        "    connector = {\"line\": {\"color\": \"royalblue\", \"dash\": \"dot\", \"width\": 3}})\n",
        "    )\n",
        "\n",
        "fig.update_layout(title_text='График воронки', title_x=0.5)\n",
        "fig.show()"
      ]
    },
    {
      "cell_type": "markdown",
      "source": [
        "![Скриншот 18-10-2023 011205.jpg](data:image/jpeg;base64,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)"
      ],
      "metadata": {
        "id": "9DnkItBmsyL-"
      }
    },
    {
      "cell_type": "markdown",
      "metadata": {
        "id": "jo0A4aOTNNux"
      },
      "source": [
        "**Вывод к главе 4**  \n",
        "\n"
      ]
    },
    {
      "cell_type": "markdown",
      "metadata": {
        "id": "uSxRC3goNNux"
      },
      "source": [
        "- Выяснили, что в логах всего 5 событий: MainScreenAppear, OffersScreenAppear, CartScreenAppear, PaymentScreenSuccessful, Tutorial. Самое популярное событие - MainScreenAppear, оно встречается 117328 раз.  \n",
        "- Посчитали, сколько уникальных пользователей совершили каждое из событий. Также отобразили процент пользователей, совершивших событие, к общему числу пользователей в колонке 'percent_of_all_unique_devices,%'.\n",
        "- События могут происходить в следующем порядке по убыванию процентов в столбце 'percent_of_all_unique_devices,%': MainScreenAppear -> OffersScreenAppear -> CartScreenAppear -> PaymentScreenSuccessful. Tutorial может появляться после любой из страниц, которые мы указали ранее, у нас нет данных об этом. Поэтому мы не будем далее в воронке рассматривать это событие.\n",
        "- Далее по воронке событий посчитали, какая доля пользователей проходит на следующий шаг воронки (от числа пользователей на предыдущем). Конверсия события 'MainScreenAppear' от общего числа уникальных пользователей - 98.47%; конверсия 'OffersScreenAppear' от 'MainScreenAppear' - 61.91%; конверсия события 'CartScreenAppear' от 'OffersScreenAppear' - 81.30%; конверсия события 'PaymentScreenSuccessful' от события 'OffersScreenAppear' - 94.78%.  \n",
        "- Выяснили, что на шаге OffersScreenAppear теряем больше всего пользователей.\n",
        "- 47.70% пользователей доходит от первого события до оплаты."
      ]
    },
    {
      "cell_type": "markdown",
      "metadata": {
        "id": "TksfRs9lNNuy"
      },
      "source": [
        "## Шаг 5. Анализ результатов эксперимента"
      ]
    },
    {
      "cell_type": "markdown",
      "metadata": {
        "id": "pPIJUhAONNuy"
      },
      "source": [
        "### Шаг 5.1. Сколько пользователей в каждой экспериментальной группе?"
      ]
    },
    {
      "cell_type": "markdown",
      "metadata": {
        "id": "Jas8IzjFNNuy"
      },
      "source": [
        "Преобразуем для выполнения этого задания датафрейм filtered_logs в new_filtered_logs. Уберём из столбца 'event_name' событие 'Tutorial', так как мы не знаем, из какого другого события можно перейти на данную страницу."
      ]
    },
    {
      "cell_type": "code",
      "execution_count": null,
      "metadata": {
        "colab": {
          "base_uri": "https://localhost:8080/"
        },
        "id": "WO1Em7QTNNuz",
        "outputId": "6df1c26a-9160-4180-e035-4a65c1e38264"
      },
      "outputs": [
        {
          "output_type": "execute_result",
          "data": {
            "text/plain": [
              "MainScreenAppear           117328\n",
              "OffersScreenAppear          46333\n",
              "CartScreenAppear            42303\n",
              "PaymentScreenSuccessful     33918\n",
              "Name: event_name, dtype: int64"
            ]
          },
          "metadata": {},
          "execution_count": 113
        }
      ],
      "source": [
        "new_filtered_logs = filtered_logs.query('event_name != \"Tutorial\"')\n",
        "new_filtered_logs['event_name'].value_counts() # Проверим удаление событий 'Tutorial'"
      ]
    },
    {
      "cell_type": "code",
      "execution_count": null,
      "metadata": {
        "scrolled": false,
        "colab": {
          "base_uri": "https://localhost:8080/",
          "height": 143
        },
        "id": "gHWNtiE-NNuz",
        "outputId": "f7d67877-fd45-4a8e-f363-9fd8dff6902d"
      },
      "outputs": [
        {
          "output_type": "execute_result",
          "data": {
            "text/plain": [
              "   exp_id  device_id_hash\n",
              "0     246            2483\n",
              "1     247            2512\n",
              "2     248            2535"
            ],
            "text/html": [
              "\n",
              "  <div id=\"df-8f2ae957-c221-43a9-8af9-fafa8fb02063\" class=\"colab-df-container\">\n",
              "    <div>\n",
              "<style scoped>\n",
              "    .dataframe tbody tr th:only-of-type {\n",
              "        vertical-align: middle;\n",
              "    }\n",
              "\n",
              "    .dataframe tbody tr th {\n",
              "        vertical-align: top;\n",
              "    }\n",
              "\n",
              "    .dataframe thead th {\n",
              "        text-align: right;\n",
              "    }\n",
              "</style>\n",
              "<table border=\"1\" class=\"dataframe\">\n",
              "  <thead>\n",
              "    <tr style=\"text-align: right;\">\n",
              "      <th></th>\n",
              "      <th>exp_id</th>\n",
              "      <th>device_id_hash</th>\n",
              "    </tr>\n",
              "  </thead>\n",
              "  <tbody>\n",
              "    <tr>\n",
              "      <th>0</th>\n",
              "      <td>246</td>\n",
              "      <td>2483</td>\n",
              "    </tr>\n",
              "    <tr>\n",
              "      <th>1</th>\n",
              "      <td>247</td>\n",
              "      <td>2512</td>\n",
              "    </tr>\n",
              "    <tr>\n",
              "      <th>2</th>\n",
              "      <td>248</td>\n",
              "      <td>2535</td>\n",
              "    </tr>\n",
              "  </tbody>\n",
              "</table>\n",
              "</div>\n",
              "    <div class=\"colab-df-buttons\">\n",
              "\n",
              "  <div class=\"colab-df-container\">\n",
              "    <button class=\"colab-df-convert\" onclick=\"convertToInteractive('df-8f2ae957-c221-43a9-8af9-fafa8fb02063')\"\n",
              "            title=\"Convert this dataframe to an interactive table.\"\n",
              "            style=\"display:none;\">\n",
              "\n",
              "  <svg xmlns=\"http://www.w3.org/2000/svg\" height=\"24px\" viewBox=\"0 -960 960 960\">\n",
              "    <path d=\"M120-120v-720h720v720H120Zm60-500h600v-160H180v160Zm220 220h160v-160H400v160Zm0 220h160v-160H400v160ZM180-400h160v-160H180v160Zm440 0h160v-160H620v160ZM180-180h160v-160H180v160Zm440 0h160v-160H620v160Z\"/>\n",
              "  </svg>\n",
              "    </button>\n",
              "\n",
              "  <style>\n",
              "    .colab-df-container {\n",
              "      display:flex;\n",
              "      gap: 12px;\n",
              "    }\n",
              "\n",
              "    .colab-df-convert {\n",
              "      background-color: #E8F0FE;\n",
              "      border: none;\n",
              "      border-radius: 50%;\n",
              "      cursor: pointer;\n",
              "      display: none;\n",
              "      fill: #1967D2;\n",
              "      height: 32px;\n",
              "      padding: 0 0 0 0;\n",
              "      width: 32px;\n",
              "    }\n",
              "\n",
              "    .colab-df-convert:hover {\n",
              "      background-color: #E2EBFA;\n",
              "      box-shadow: 0px 1px 2px rgba(60, 64, 67, 0.3), 0px 1px 3px 1px rgba(60, 64, 67, 0.15);\n",
              "      fill: #174EA6;\n",
              "    }\n",
              "\n",
              "    .colab-df-buttons div {\n",
              "      margin-bottom: 4px;\n",
              "    }\n",
              "\n",
              "    [theme=dark] .colab-df-convert {\n",
              "      background-color: #3B4455;\n",
              "      fill: #D2E3FC;\n",
              "    }\n",
              "\n",
              "    [theme=dark] .colab-df-convert:hover {\n",
              "      background-color: #434B5C;\n",
              "      box-shadow: 0px 1px 3px 1px rgba(0, 0, 0, 0.15);\n",
              "      filter: drop-shadow(0px 1px 2px rgba(0, 0, 0, 0.3));\n",
              "      fill: #FFFFFF;\n",
              "    }\n",
              "  </style>\n",
              "\n",
              "    <script>\n",
              "      const buttonEl =\n",
              "        document.querySelector('#df-8f2ae957-c221-43a9-8af9-fafa8fb02063 button.colab-df-convert');\n",
              "      buttonEl.style.display =\n",
              "        google.colab.kernel.accessAllowed ? 'block' : 'none';\n",
              "\n",
              "      async function convertToInteractive(key) {\n",
              "        const element = document.querySelector('#df-8f2ae957-c221-43a9-8af9-fafa8fb02063');\n",
              "        const dataTable =\n",
              "          await google.colab.kernel.invokeFunction('convertToInteractive',\n",
              "                                                    [key], {});\n",
              "        if (!dataTable) return;\n",
              "\n",
              "        const docLinkHtml = 'Like what you see? Visit the ' +\n",
              "          '<a target=\"_blank\" href=https://colab.research.google.com/notebooks/data_table.ipynb>data table notebook</a>'\n",
              "          + ' to learn more about interactive tables.';\n",
              "        element.innerHTML = '';\n",
              "        dataTable['output_type'] = 'display_data';\n",
              "        await google.colab.output.renderOutput(dataTable, element);\n",
              "        const docLink = document.createElement('div');\n",
              "        docLink.innerHTML = docLinkHtml;\n",
              "        element.appendChild(docLink);\n",
              "      }\n",
              "    </script>\n",
              "  </div>\n",
              "\n",
              "\n",
              "<div id=\"df-fd51cc0d-36a4-4403-a6c9-b9b01528d965\">\n",
              "  <button class=\"colab-df-quickchart\" onclick=\"quickchart('df-fd51cc0d-36a4-4403-a6c9-b9b01528d965')\"\n",
              "            title=\"Suggest charts.\"\n",
              "            style=\"display:none;\">\n",
              "\n",
              "<svg xmlns=\"http://www.w3.org/2000/svg\" height=\"24px\"viewBox=\"0 0 24 24\"\n",
              "     width=\"24px\">\n",
              "    <g>\n",
              "        <path d=\"M19 3H5c-1.1 0-2 .9-2 2v14c0 1.1.9 2 2 2h14c1.1 0 2-.9 2-2V5c0-1.1-.9-2-2-2zM9 17H7v-7h2v7zm4 0h-2V7h2v10zm4 0h-2v-4h2v4z\"/>\n",
              "    </g>\n",
              "</svg>\n",
              "  </button>\n",
              "\n",
              "<style>\n",
              "  .colab-df-quickchart {\n",
              "      --bg-color: #E8F0FE;\n",
              "      --fill-color: #1967D2;\n",
              "      --hover-bg-color: #E2EBFA;\n",
              "      --hover-fill-color: #174EA6;\n",
              "      --disabled-fill-color: #AAA;\n",
              "      --disabled-bg-color: #DDD;\n",
              "  }\n",
              "\n",
              "  [theme=dark] .colab-df-quickchart {\n",
              "      --bg-color: #3B4455;\n",
              "      --fill-color: #D2E3FC;\n",
              "      --hover-bg-color: #434B5C;\n",
              "      --hover-fill-color: #FFFFFF;\n",
              "      --disabled-bg-color: #3B4455;\n",
              "      --disabled-fill-color: #666;\n",
              "  }\n",
              "\n",
              "  .colab-df-quickchart {\n",
              "    background-color: var(--bg-color);\n",
              "    border: none;\n",
              "    border-radius: 50%;\n",
              "    cursor: pointer;\n",
              "    display: none;\n",
              "    fill: var(--fill-color);\n",
              "    height: 32px;\n",
              "    padding: 0;\n",
              "    width: 32px;\n",
              "  }\n",
              "\n",
              "  .colab-df-quickchart:hover {\n",
              "    background-color: var(--hover-bg-color);\n",
              "    box-shadow: 0 1px 2px rgba(60, 64, 67, 0.3), 0 1px 3px 1px rgba(60, 64, 67, 0.15);\n",
              "    fill: var(--button-hover-fill-color);\n",
              "  }\n",
              "\n",
              "  .colab-df-quickchart-complete:disabled,\n",
              "  .colab-df-quickchart-complete:disabled:hover {\n",
              "    background-color: var(--disabled-bg-color);\n",
              "    fill: var(--disabled-fill-color);\n",
              "    box-shadow: none;\n",
              "  }\n",
              "\n",
              "  .colab-df-spinner {\n",
              "    border: 2px solid var(--fill-color);\n",
              "    border-color: transparent;\n",
              "    border-bottom-color: var(--fill-color);\n",
              "    animation:\n",
              "      spin 1s steps(1) infinite;\n",
              "  }\n",
              "\n",
              "  @keyframes spin {\n",
              "    0% {\n",
              "      border-color: transparent;\n",
              "      border-bottom-color: var(--fill-color);\n",
              "      border-left-color: var(--fill-color);\n",
              "    }\n",
              "    20% {\n",
              "      border-color: transparent;\n",
              "      border-left-color: var(--fill-color);\n",
              "      border-top-color: var(--fill-color);\n",
              "    }\n",
              "    30% {\n",
              "      border-color: transparent;\n",
              "      border-left-color: var(--fill-color);\n",
              "      border-top-color: var(--fill-color);\n",
              "      border-right-color: var(--fill-color);\n",
              "    }\n",
              "    40% {\n",
              "      border-color: transparent;\n",
              "      border-right-color: var(--fill-color);\n",
              "      border-top-color: var(--fill-color);\n",
              "    }\n",
              "    60% {\n",
              "      border-color: transparent;\n",
              "      border-right-color: var(--fill-color);\n",
              "    }\n",
              "    80% {\n",
              "      border-color: transparent;\n",
              "      border-right-color: var(--fill-color);\n",
              "      border-bottom-color: var(--fill-color);\n",
              "    }\n",
              "    90% {\n",
              "      border-color: transparent;\n",
              "      border-bottom-color: var(--fill-color);\n",
              "    }\n",
              "  }\n",
              "</style>\n",
              "\n",
              "  <script>\n",
              "    async function quickchart(key) {\n",
              "      const quickchartButtonEl =\n",
              "        document.querySelector('#' + key + ' button');\n",
              "      quickchartButtonEl.disabled = true;  // To prevent multiple clicks.\n",
              "      quickchartButtonEl.classList.add('colab-df-spinner');\n",
              "      try {\n",
              "        const charts = await google.colab.kernel.invokeFunction(\n",
              "            'suggestCharts', [key], {});\n",
              "      } catch (error) {\n",
              "        console.error('Error during call to suggestCharts:', error);\n",
              "      }\n",
              "      quickchartButtonEl.classList.remove('colab-df-spinner');\n",
              "      quickchartButtonEl.classList.add('colab-df-quickchart-complete');\n",
              "    }\n",
              "    (() => {\n",
              "      let quickchartButtonEl =\n",
              "        document.querySelector('#df-fd51cc0d-36a4-4403-a6c9-b9b01528d965 button');\n",
              "      quickchartButtonEl.style.display =\n",
              "        google.colab.kernel.accessAllowed ? 'block' : 'none';\n",
              "    })();\n",
              "  </script>\n",
              "</div>\n",
              "    </div>\n",
              "  </div>\n"
            ]
          },
          "metadata": {},
          "execution_count": 114
        }
      ],
      "source": [
        "new_filtered_logs.groupby('exp_id', as_index=False).agg({'device_id_hash':'nunique'})"
      ]
    },
    {
      "cell_type": "code",
      "execution_count": null,
      "metadata": {
        "colab": {
          "base_uri": "https://localhost:8080/",
          "height": 472
        },
        "id": "LHhT7Yq6NNuz",
        "outputId": "f314683f-945c-48ad-8097-ebd754b85c5e"
      },
      "outputs": [
        {
          "output_type": "display_data",
          "data": {
            "text/plain": [
              "<Figure size 640x480 with 1 Axes>"
            ],
            "image/png": "[encoded data removed]"
          },
          "metadata": {}
        }
      ],
      "source": [
        "(\n",
        "    new_filtered_logs\n",
        "    .groupby('exp_id', as_index=False)\n",
        "    .agg({'device_id_hash':'nunique'})\n",
        "    .plot(x='exp_id',y='device_id_hash',kind='bar', legend=None)\n",
        ")\n",
        "plt.xticks(rotation = 0)\n",
        "plt.title('Пользователи в каждой экспериментальной группе')\n",
        "plt.xlabel('Номер экспериментальной группы')\n",
        "plt.ylabel('Количество человек в группе');"
      ]
    },
    {
      "cell_type": "markdown",
      "metadata": {
        "id": "OyizTo2tNNuz"
      },
      "source": [
        "Выяснили, что в группе 246 - 2483 пользователя; в группе 247 - 2512 пользователей; в группе 248 - 2535 пользователей."
      ]
    },
    {
      "cell_type": "markdown",
      "metadata": {
        "id": "A9KiED7VNNuz"
      },
      "source": [
        "### Шаг 5.2. Есть 2 контрольные группы для А/А-эксперимента, чтобы проверить корректность всех механизмов и расчётов. Проверьте, находят ли статистические критерии разницу между выборками 246 и 247."
      ]
    },
    {
      "cell_type": "markdown",
      "metadata": {
        "id": "I4IDcSzRNNu0"
      },
      "source": [
        "Создадим два датафрейма: с количеством уникальных пользователей в каждой группе для каждого события и с общим количеством уникальных пользователей в каждой группе."
      ]
    },
    {
      "cell_type": "code",
      "execution_count": null,
      "metadata": {
        "colab": {
          "base_uri": "https://localhost:8080/",
          "height": 206
        },
        "id": "qgebItkSNNu0",
        "outputId": "878f3b01-9d8f-4d34-86a0-8aa4133e1e25"
      },
      "outputs": [
        {
          "output_type": "execute_result",
          "data": {
            "text/plain": [
              "exp_id                    246   247   248\n",
              "event_name                               \n",
              "MainScreenAppear         2450  2476  2493\n",
              "OffersScreenAppear       1542  1520  1531\n",
              "CartScreenAppear         1266  1238  1230\n",
              "PaymentScreenSuccessful  1200  1158  1181"
            ],
            "text/html": [
              "\n",
              "  <div id=\"df-f65d6dc4-e857-43db-bd1b-acfd24df73ae\" class=\"colab-df-container\">\n",
              "    <div>\n",
              "<style scoped>\n",
              "    .dataframe tbody tr th:only-of-type {\n",
              "        vertical-align: middle;\n",
              "    }\n",
              "\n",
              "    .dataframe tbody tr th {\n",
              "        vertical-align: top;\n",
              "    }\n",
              "\n",
              "    .dataframe thead th {\n",
              "        text-align: right;\n",
              "    }\n",
              "</style>\n",
              "<table border=\"1\" class=\"dataframe\">\n",
              "  <thead>\n",
              "    <tr style=\"text-align: right;\">\n",
              "      <th>exp_id</th>\n",
              "      <th>246</th>\n",
              "      <th>247</th>\n",
              "      <th>248</th>\n",
              "    </tr>\n",
              "    <tr>\n",
              "      <th>event_name</th>\n",
              "      <th></th>\n",
              "      <th></th>\n",
              "      <th></th>\n",
              "    </tr>\n",
              "  </thead>\n",
              "  <tbody>\n",
              "    <tr>\n",
              "      <th>MainScreenAppear</th>\n",
              "      <td>2450</td>\n",
              "      <td>2476</td>\n",
              "      <td>2493</td>\n",
              "    </tr>\n",
              "    <tr>\n",
              "      <th>OffersScreenAppear</th>\n",
              "      <td>1542</td>\n",
              "      <td>1520</td>\n",
              "      <td>1531</td>\n",
              "    </tr>\n",
              "    <tr>\n",
              "      <th>CartScreenAppear</th>\n",
              "      <td>1266</td>\n",
              "      <td>1238</td>\n",
              "      <td>1230</td>\n",
              "    </tr>\n",
              "    <tr>\n",
              "      <th>PaymentScreenSuccessful</th>\n",
              "      <td>1200</td>\n",
              "      <td>1158</td>\n",
              "      <td>1181</td>\n",
              "    </tr>\n",
              "  </tbody>\n",
              "</table>\n",
              "</div>\n",
              "    <div class=\"colab-df-buttons\">\n",
              "\n",
              "  <div class=\"colab-df-container\">\n",
              "    <button class=\"colab-df-convert\" onclick=\"convertToInteractive('df-f65d6dc4-e857-43db-bd1b-acfd24df73ae')\"\n",
              "            title=\"Convert this dataframe to an interactive table.\"\n",
              "            style=\"display:none;\">\n",
              "\n",
              "  <svg xmlns=\"http://www.w3.org/2000/svg\" height=\"24px\" viewBox=\"0 -960 960 960\">\n",
              "    <path d=\"M120-120v-720h720v720H120Zm60-500h600v-160H180v160Zm220 220h160v-160H400v160Zm0 220h160v-160H400v160ZM180-400h160v-160H180v160Zm440 0h160v-160H620v160ZM180-180h160v-160H180v160Zm440 0h160v-160H620v160Z\"/>\n",
              "  </svg>\n",
              "    </button>\n",
              "\n",
              "  <style>\n",
              "    .colab-df-container {\n",
              "      display:flex;\n",
              "      gap: 12px;\n",
              "    }\n",
              "\n",
              "    .colab-df-convert {\n",
              "      background-color: #E8F0FE;\n",
              "      border: none;\n",
              "      border-radius: 50%;\n",
              "      cursor: pointer;\n",
              "      display: none;\n",
              "      fill: #1967D2;\n",
              "      height: 32px;\n",
              "      padding: 0 0 0 0;\n",
              "      width: 32px;\n",
              "    }\n",
              "\n",
              "    .colab-df-convert:hover {\n",
              "      background-color: #E2EBFA;\n",
              "      box-shadow: 0px 1px 2px rgba(60, 64, 67, 0.3), 0px 1px 3px 1px rgba(60, 64, 67, 0.15);\n",
              "      fill: #174EA6;\n",
              "    }\n",
              "\n",
              "    .colab-df-buttons div {\n",
              "      margin-bottom: 4px;\n",
              "    }\n",
              "\n",
              "    [theme=dark] .colab-df-convert {\n",
              "      background-color: #3B4455;\n",
              "      fill: #D2E3FC;\n",
              "    }\n",
              "\n",
              "    [theme=dark] .colab-df-convert:hover {\n",
              "      background-color: #434B5C;\n",
              "      box-shadow: 0px 1px 3px 1px rgba(0, 0, 0, 0.15);\n",
              "      filter: drop-shadow(0px 1px 2px rgba(0, 0, 0, 0.3));\n",
              "      fill: #FFFFFF;\n",
              "    }\n",
              "  </style>\n",
              "\n",
              "    <script>\n",
              "      const buttonEl =\n",
              "        document.querySelector('#df-f65d6dc4-e857-43db-bd1b-acfd24df73ae button.colab-df-convert');\n",
              "      buttonEl.style.display =\n",
              "        google.colab.kernel.accessAllowed ? 'block' : 'none';\n",
              "\n",
              "      async function convertToInteractive(key) {\n",
              "        const element = document.querySelector('#df-f65d6dc4-e857-43db-bd1b-acfd24df73ae');\n",
              "        const dataTable =\n",
              "          await google.colab.kernel.invokeFunction('convertToInteractive',\n",
              "                                                    [key], {});\n",
              "        if (!dataTable) return;\n",
              "\n",
              "        const docLinkHtml = 'Like what you see? Visit the ' +\n",
              "          '<a target=\"_blank\" href=https://colab.research.google.com/notebooks/data_table.ipynb>data table notebook</a>'\n",
              "          + ' to learn more about interactive tables.';\n",
              "        element.innerHTML = '';\n",
              "        dataTable['output_type'] = 'display_data';\n",
              "        await google.colab.output.renderOutput(dataTable, element);\n",
              "        const docLink = document.createElement('div');\n",
              "        docLink.innerHTML = docLinkHtml;\n",
              "        element.appendChild(docLink);\n",
              "      }\n",
              "    </script>\n",
              "  </div>\n",
              "\n",
              "\n",
              "<div id=\"df-6cc1873b-0fc2-4a01-8cfe-2ba710cc4de6\">\n",
              "  <button class=\"colab-df-quickchart\" onclick=\"quickchart('df-6cc1873b-0fc2-4a01-8cfe-2ba710cc4de6')\"\n",
              "            title=\"Suggest charts.\"\n",
              "            style=\"display:none;\">\n",
              "\n",
              "<svg xmlns=\"http://www.w3.org/2000/svg\" height=\"24px\"viewBox=\"0 0 24 24\"\n",
              "     width=\"24px\">\n",
              "    <g>\n",
              "        <path d=\"M19 3H5c-1.1 0-2 .9-2 2v14c0 1.1.9 2 2 2h14c1.1 0 2-.9 2-2V5c0-1.1-.9-2-2-2zM9 17H7v-7h2v7zm4 0h-2V7h2v10zm4 0h-2v-4h2v4z\"/>\n",
              "    </g>\n",
              "</svg>\n",
              "  </button>\n",
              "\n",
              "<style>\n",
              "  .colab-df-quickchart {\n",
              "      --bg-color: #E8F0FE;\n",
              "      --fill-color: #1967D2;\n",
              "      --hover-bg-color: #E2EBFA;\n",
              "      --hover-fill-color: #174EA6;\n",
              "      --disabled-fill-color: #AAA;\n",
              "      --disabled-bg-color: #DDD;\n",
              "  }\n",
              "\n",
              "  [theme=dark] .colab-df-quickchart {\n",
              "      --bg-color: #3B4455;\n",
              "      --fill-color: #D2E3FC;\n",
              "      --hover-bg-color: #434B5C;\n",
              "      --hover-fill-color: #FFFFFF;\n",
              "      --disabled-bg-color: #3B4455;\n",
              "      --disabled-fill-color: #666;\n",
              "  }\n",
              "\n",
              "  .colab-df-quickchart {\n",
              "    background-color: var(--bg-color);\n",
              "    border: none;\n",
              "    border-radius: 50%;\n",
              "    cursor: pointer;\n",
              "    display: none;\n",
              "    fill: var(--fill-color);\n",
              "    height: 32px;\n",
              "    padding: 0;\n",
              "    width: 32px;\n",
              "  }\n",
              "\n",
              "  .colab-df-quickchart:hover {\n",
              "    background-color: var(--hover-bg-color);\n",
              "    box-shadow: 0 1px 2px rgba(60, 64, 67, 0.3), 0 1px 3px 1px rgba(60, 64, 67, 0.15);\n",
              "    fill: var(--button-hover-fill-color);\n",
              "  }\n",
              "\n",
              "  .colab-df-quickchart-complete:disabled,\n",
              "  .colab-df-quickchart-complete:disabled:hover {\n",
              "    background-color: var(--disabled-bg-color);\n",
              "    fill: var(--disabled-fill-color);\n",
              "    box-shadow: none;\n",
              "  }\n",
              "\n",
              "  .colab-df-spinner {\n",
              "    border: 2px solid var(--fill-color);\n",
              "    border-color: transparent;\n",
              "    border-bottom-color: var(--fill-color);\n",
              "    animation:\n",
              "      spin 1s steps(1) infinite;\n",
              "  }\n",
              "\n",
              "  @keyframes spin {\n",
              "    0% {\n",
              "      border-color: transparent;\n",
              "      border-bottom-color: var(--fill-color);\n",
              "      border-left-color: var(--fill-color);\n",
              "    }\n",
              "    20% {\n",
              "      border-color: transparent;\n",
              "      border-left-color: var(--fill-color);\n",
              "      border-top-color: var(--fill-color);\n",
              "    }\n",
              "    30% {\n",
              "      border-color: transparent;\n",
              "      border-left-color: var(--fill-color);\n",
              "      border-top-color: var(--fill-color);\n",
              "      border-right-color: var(--fill-color);\n",
              "    }\n",
              "    40% {\n",
              "      border-color: transparent;\n",
              "      border-right-color: var(--fill-color);\n",
              "      border-top-color: var(--fill-color);\n",
              "    }\n",
              "    60% {\n",
              "      border-color: transparent;\n",
              "      border-right-color: var(--fill-color);\n",
              "    }\n",
              "    80% {\n",
              "      border-color: transparent;\n",
              "      border-right-color: var(--fill-color);\n",
              "      border-bottom-color: var(--fill-color);\n",
              "    }\n",
              "    90% {\n",
              "      border-color: transparent;\n",
              "      border-bottom-color: var(--fill-color);\n",
              "    }\n",
              "  }\n",
              "</style>\n",
              "\n",
              "  <script>\n",
              "    async function quickchart(key) {\n",
              "      const quickchartButtonEl =\n",
              "        document.querySelector('#' + key + ' button');\n",
              "      quickchartButtonEl.disabled = true;  // To prevent multiple clicks.\n",
              "      quickchartButtonEl.classList.add('colab-df-spinner');\n",
              "      try {\n",
              "        const charts = await google.colab.kernel.invokeFunction(\n",
              "            'suggestCharts', [key], {});\n",
              "      } catch (error) {\n",
              "        console.error('Error during call to suggestCharts:', error);\n",
              "      }\n",
              "      quickchartButtonEl.classList.remove('colab-df-spinner');\n",
              "      quickchartButtonEl.classList.add('colab-df-quickchart-complete');\n",
              "    }\n",
              "    (() => {\n",
              "      let quickchartButtonEl =\n",
              "        document.querySelector('#df-6cc1873b-0fc2-4a01-8cfe-2ba710cc4de6 button');\n",
              "      quickchartButtonEl.style.display =\n",
              "        google.colab.kernel.accessAllowed ? 'block' : 'none';\n",
              "    })();\n",
              "  </script>\n",
              "</div>\n",
              "    </div>\n",
              "  </div>\n"
            ]
          },
          "metadata": {},
          "execution_count": 116
        }
      ],
      "source": [
        "events_in_each_group = (\n",
        "    new_filtered_logs.pivot_table(index='event_name', columns='exp_id',values='device_id_hash', aggfunc='nunique')\n",
        "    .sort_values(by=246,ascending=False)#.reset_index()\n",
        ")\n",
        "events_in_each_group"
      ]
    },
    {
      "cell_type": "code",
      "execution_count": null,
      "metadata": {
        "colab": {
          "base_uri": "https://localhost:8080/",
          "height": 81
        },
        "id": "jWMNEfF_NNu0",
        "outputId": "cc282614-30c4-4e1e-fc83-35a919f6f2f0"
      },
      "outputs": [
        {
          "output_type": "execute_result",
          "data": {
            "text/plain": [
              "exp_id           246   247   248\n",
              "device_id_hash  2483  2512  2535"
            ],
            "text/html": [
              "\n",
              "  <div id=\"df-c0d9a894-f0f9-41b7-91cf-3cceec939f26\" class=\"colab-df-container\">\n",
              "    <div>\n",
              "<style scoped>\n",
              "    .dataframe tbody tr th:only-of-type {\n",
              "        vertical-align: middle;\n",
              "    }\n",
              "\n",
              "    .dataframe tbody tr th {\n",
              "        vertical-align: top;\n",
              "    }\n",
              "\n",
              "    .dataframe thead th {\n",
              "        text-align: right;\n",
              "    }\n",
              "</style>\n",
              "<table border=\"1\" class=\"dataframe\">\n",
              "  <thead>\n",
              "    <tr style=\"text-align: right;\">\n",
              "      <th>exp_id</th>\n",
              "      <th>246</th>\n",
              "      <th>247</th>\n",
              "      <th>248</th>\n",
              "    </tr>\n",
              "  </thead>\n",
              "  <tbody>\n",
              "    <tr>\n",
              "      <th>device_id_hash</th>\n",
              "      <td>2483</td>\n",
              "      <td>2512</td>\n",
              "      <td>2535</td>\n",
              "    </tr>\n",
              "  </tbody>\n",
              "</table>\n",
              "</div>\n",
              "    <div class=\"colab-df-buttons\">\n",
              "\n",
              "  <div class=\"colab-df-container\">\n",
              "    <button class=\"colab-df-convert\" onclick=\"convertToInteractive('df-c0d9a894-f0f9-41b7-91cf-3cceec939f26')\"\n",
              "            title=\"Convert this dataframe to an interactive table.\"\n",
              "            style=\"display:none;\">\n",
              "\n",
              "  <svg xmlns=\"http://www.w3.org/2000/svg\" height=\"24px\" viewBox=\"0 -960 960 960\">\n",
              "    <path d=\"M120-120v-720h720v720H120Zm60-500h600v-160H180v160Zm220 220h160v-160H400v160Zm0 220h160v-160H400v160ZM180-400h160v-160H180v160Zm440 0h160v-160H620v160ZM180-180h160v-160H180v160Zm440 0h160v-160H620v160Z\"/>\n",
              "  </svg>\n",
              "    </button>\n",
              "\n",
              "  <style>\n",
              "    .colab-df-container {\n",
              "      display:flex;\n",
              "      gap: 12px;\n",
              "    }\n",
              "\n",
              "    .colab-df-convert {\n",
              "      background-color: #E8F0FE;\n",
              "      border: none;\n",
              "      border-radius: 50%;\n",
              "      cursor: pointer;\n",
              "      display: none;\n",
              "      fill: #1967D2;\n",
              "      height: 32px;\n",
              "      padding: 0 0 0 0;\n",
              "      width: 32px;\n",
              "    }\n",
              "\n",
              "    .colab-df-convert:hover {\n",
              "      background-color: #E2EBFA;\n",
              "      box-shadow: 0px 1px 2px rgba(60, 64, 67, 0.3), 0px 1px 3px 1px rgba(60, 64, 67, 0.15);\n",
              "      fill: #174EA6;\n",
              "    }\n",
              "\n",
              "    .colab-df-buttons div {\n",
              "      margin-bottom: 4px;\n",
              "    }\n",
              "\n",
              "    [theme=dark] .colab-df-convert {\n",
              "      background-color: #3B4455;\n",
              "      fill: #D2E3FC;\n",
              "    }\n",
              "\n",
              "    [theme=dark] .colab-df-convert:hover {\n",
              "      background-color: #434B5C;\n",
              "      box-shadow: 0px 1px 3px 1px rgba(0, 0, 0, 0.15);\n",
              "      filter: drop-shadow(0px 1px 2px rgba(0, 0, 0, 0.3));\n",
              "      fill: #FFFFFF;\n",
              "    }\n",
              "  </style>\n",
              "\n",
              "    <script>\n",
              "      const buttonEl =\n",
              "        document.querySelector('#df-c0d9a894-f0f9-41b7-91cf-3cceec939f26 button.colab-df-convert');\n",
              "      buttonEl.style.display =\n",
              "        google.colab.kernel.accessAllowed ? 'block' : 'none';\n",
              "\n",
              "      async function convertToInteractive(key) {\n",
              "        const element = document.querySelector('#df-c0d9a894-f0f9-41b7-91cf-3cceec939f26');\n",
              "        const dataTable =\n",
              "          await google.colab.kernel.invokeFunction('convertToInteractive',\n",
              "                                                    [key], {});\n",
              "        if (!dataTable) return;\n",
              "\n",
              "        const docLinkHtml = 'Like what you see? Visit the ' +\n",
              "          '<a target=\"_blank\" href=https://colab.research.google.com/notebooks/data_table.ipynb>data table notebook</a>'\n",
              "          + ' to learn more about interactive tables.';\n",
              "        element.innerHTML = '';\n",
              "        dataTable['output_type'] = 'display_data';\n",
              "        await google.colab.output.renderOutput(dataTable, element);\n",
              "        const docLink = document.createElement('div');\n",
              "        docLink.innerHTML = docLinkHtml;\n",
              "        element.appendChild(docLink);\n",
              "      }\n",
              "    </script>\n",
              "  </div>\n",
              "\n",
              "    </div>\n",
              "  </div>\n"
            ]
          },
          "metadata": {},
          "execution_count": 117
        }
      ],
      "source": [
        "users_in_each_group = new_filtered_logs.pivot_table(columns='exp_id', values='device_id_hash',\n",
        "                                                    aggfunc='nunique')#.reset_index()\n",
        "users_in_each_group"
      ]
    },
    {
      "cell_type": "markdown",
      "metadata": {
        "id": "T2ZCXWSuNNu0"
      },
      "source": [
        "**Проверьте, находят ли статистические критерии разницу между выборками 246 и 247.**\n",
        "\n",
        "Нулевая гипотеза: Статистически значимых различий нет для доли пользователей, совершивших каждое из событий, к общему количеству человек в соответствующей группе.\n",
        "\n",
        "Альтернативная гипотеза: Статистически значимые различия есть для доли пользователей, совершивших каждое из событий, к общему количеству человек в соответствующей группе.\n",
        "\n",
        "Примем уровень статистической значимости, равный 5%."
      ]
    },
    {
      "cell_type": "code",
      "execution_count": null,
      "metadata": {
        "id": "w5AckREuNNu1"
      },
      "outputs": [],
      "source": [
        "# создадим функцию для расчёта p_value при проверке гипотезы о равенстве долей\n",
        "\n",
        "def hypothesis_about_equality_shares_between_2_events(group1, group2, alpha, count_hypothesis):\n",
        "\n",
        "    # count_hypothesis - это количество гипотез, которые мы проверяем, подставляем это значение в формулу с поправкой Бонферрони\n",
        "\n",
        "    success_one = events_in_each_group.loc[event,group1]\n",
        "    success_two = events_in_each_group.loc[event,group2]\n",
        "\n",
        "    trials_one = users_in_each_group.loc['device_id_hash',group1]\n",
        "    trials_two = users_in_each_group.loc['device_id_hash',group2]\n",
        "\n",
        "    # пропорция успехов в первой группе:\n",
        "    p1 = success_one/trials_one\n",
        "\n",
        "    # пропорция успехов во второй группе:\n",
        "    p2 = success_two/trials_two\n",
        "\n",
        "    # пропорция успехов при комбинации данных:о\n",
        "    p_combined = (success_one + success_two) / (trials_one + trials_two)\n",
        "\n",
        "\n",
        "    # разница пропорций в датасетах\n",
        "    difference = p1 - p2\n",
        "\n",
        "    # считаем статистику в ст.отклонениях стандартного нормального распределения\n",
        "    z_value = difference / mth.sqrt(p_combined * (1 - p_combined) * (1/trials_one + 1/trials_two))\n",
        "\n",
        "    # задаем стандартное нормальное распределение (среднее 0, ст.отклонение 1)\n",
        "    distr = st.norm(0, 1)\n",
        "\n",
        "    p_value = (1 - distr.cdf(abs(z_value))) * 2\n",
        "\n",
        "    # Рассчитываем поправку Бонферрони. Необходимо поделить alpha на число гипотез, которое мы проверяем. Сейчас мы сравниваем\n",
        "    # группы 246 и 247. Для сравнения пары групп используем 4 проверки по количеству событий (событий 4). Но нам интересен\n",
        "    # результат проверки гипотез о равенстве долей для групп 246 и 247, 246 и 248, 247 и 248, а также для объединённой группы\n",
        "    # 246 и 247 с группой 248 одновременно. Всего получается 4x4 проверки гипотез, то есть 16 проверок. Подставим в\n",
        "    # count_hypothesis значение 16.\n",
        "\n",
        "    bonferroni_alpha = alpha / count_hypothesis\n",
        "\n",
        "    print(f'p-value при сравнения долей двух групп для события {event}: {p_value}')\n",
        "\n",
        "    if p_value < bonferroni_alpha:\n",
        "        print(f\"Отвергаем нулевую гипотезу для сравнения двух групп, совершивших событие {event}\")\n",
        "    else:\n",
        "        print(f\"Не получилось отвергнуть нулевую гипотезу для сравнения двух групп, совершивших событие {event}\")\n",
        "\n",
        "    print()"
      ]
    },
    {
      "cell_type": "code",
      "execution_count": null,
      "metadata": {
        "scrolled": false,
        "colab": {
          "base_uri": "https://localhost:8080/"
        },
        "id": "Z2ZC4gLSNNu1",
        "outputId": "2b70949c-0e2a-4854-ddb1-71506be194f1"
      },
      "outputs": [
        {
          "output_type": "stream",
          "name": "stdout",
          "text": [
            "p-value при сравнения долей двух групп для события MainScreenAppear: 0.7526703436483038\n",
            "Не получилось отвергнуть нулевую гипотезу для сравнения двух групп, совершивших событие MainScreenAppear\n",
            "\n",
            "p-value при сравнения долей двух групп для события OffersScreenAppear: 0.24786096925282264\n",
            "Не получилось отвергнуть нулевую гипотезу для сравнения двух групп, совершивших событие OffersScreenAppear\n",
            "\n",
            "p-value при сравнения долей двух групп для события CartScreenAppear: 0.22867643757335676\n",
            "Не получилось отвергнуть нулевую гипотезу для сравнения двух групп, совершивших событие CartScreenAppear\n",
            "\n",
            "p-value при сравнения долей двух групп для события PaymentScreenSuccessful: 0.11446627829276612\n",
            "Не получилось отвергнуть нулевую гипотезу для сравнения двух групп, совершивших событие PaymentScreenSuccessful\n",
            "\n"
          ]
        }
      ],
      "source": [
        "for event in events_in_each_group.index:\n",
        "    # используем функцию для расчёта p_value для сравнения каждого события для двух групп.\n",
        "    hypothesis_about_equality_shares_between_2_events(246, 247, 0.05, 16)\n"
      ]
    },
    {
      "cell_type": "markdown",
      "metadata": {
        "id": "mEFbjQsoNNu1"
      },
      "source": [
        "Статистические критерии разницу между выборками 246 и 247 не находят."
      ]
    },
    {
      "cell_type": "markdown",
      "metadata": {
        "id": "lJ-vhPJtNNu2"
      },
      "source": [
        "Проверяя гипотезу для контрольных групп мы проверили, что механизм разбиения работает коррекно"
      ]
    },
    {
      "cell_type": "markdown",
      "metadata": {
        "id": "PtqrXmw_NNu2"
      },
      "source": [
        "### Шаг. 5.3. Выберите самое популярное событие. Посчитайте число пользователей, совершивших это событие в каждой из контрольных групп. Посчитайте долю пользователей, совершивших это событие. Проверьте, будет ли отличие между группами статистически достоверным. Проделайте то же самое для всех других событий (удобно обернуть проверку в отдельную функцию). Можно ли сказать, что разбиение на группы работает корректно?"
      ]
    },
    {
      "cell_type": "markdown",
      "metadata": {
        "id": "gIZ7_1_PNNu2"
      },
      "source": [
        "**Выберем самое популярное событие.**\n",
        "\n",
        "Выведем на экран датафрейм users_in_event_filtered. Именно из данного датафрейма найдём самое популярное событие."
      ]
    },
    {
      "cell_type": "code",
      "execution_count": null,
      "metadata": {
        "colab": {
          "base_uri": "https://localhost:8080/",
          "height": 175
        },
        "id": "dZWo-w18NNu2",
        "outputId": "aff8eb48-e472-4faf-9843-5870e510b17d"
      },
      "outputs": [
        {
          "output_type": "execute_result",
          "data": {
            "text/plain": [
              "                event_name  device_id_hash  percent_of_all_unique_devices,%  \\\n",
              "0         MainScreenAppear            7419                            98.47   \n",
              "1       OffersScreenAppear            4593                            60.96   \n",
              "2         CartScreenAppear            3734                            49.56   \n",
              "3  PaymentScreenSuccessful            3539                            46.97   \n",
              "\n",
              "   previous_device_id_hash  conversion,%  \n",
              "0                     7534         98.47  \n",
              "1                     7419         61.91  \n",
              "2                     4593         81.30  \n",
              "3                     3734         94.78  "
            ],
            "text/html": [
              "\n",
              "  <div id=\"df-3b866b15-a87b-4eac-ac7c-56ce8f0b7f64\" class=\"colab-df-container\">\n",
              "    <div>\n",
              "<style scoped>\n",
              "    .dataframe tbody tr th:only-of-type {\n",
              "        vertical-align: middle;\n",
              "    }\n",
              "\n",
              "    .dataframe tbody tr th {\n",
              "        vertical-align: top;\n",
              "    }\n",
              "\n",
              "    .dataframe thead th {\n",
              "        text-align: right;\n",
              "    }\n",
              "</style>\n",
              "<table border=\"1\" class=\"dataframe\">\n",
              "  <thead>\n",
              "    <tr style=\"text-align: right;\">\n",
              "      <th></th>\n",
              "      <th>event_name</th>\n",
              "      <th>device_id_hash</th>\n",
              "      <th>percent_of_all_unique_devices,%</th>\n",
              "      <th>previous_device_id_hash</th>\n",
              "      <th>conversion,%</th>\n",
              "    </tr>\n",
              "  </thead>\n",
              "  <tbody>\n",
              "    <tr>\n",
              "      <th>0</th>\n",
              "      <td>MainScreenAppear</td>\n",
              "      <td>7419</td>\n",
              "      <td>98.47</td>\n",
              "      <td>7534</td>\n",
              "      <td>98.47</td>\n",
              "    </tr>\n",
              "    <tr>\n",
              "      <th>1</th>\n",
              "      <td>OffersScreenAppear</td>\n",
              "      <td>4593</td>\n",
              "      <td>60.96</td>\n",
              "      <td>7419</td>\n",
              "      <td>61.91</td>\n",
              "    </tr>\n",
              "    <tr>\n",
              "      <th>2</th>\n",
              "      <td>CartScreenAppear</td>\n",
              "      <td>3734</td>\n",
              "      <td>49.56</td>\n",
              "      <td>4593</td>\n",
              "      <td>81.30</td>\n",
              "    </tr>\n",
              "    <tr>\n",
              "      <th>3</th>\n",
              "      <td>PaymentScreenSuccessful</td>\n",
              "      <td>3539</td>\n",
              "      <td>46.97</td>\n",
              "      <td>3734</td>\n",
              "      <td>94.78</td>\n",
              "    </tr>\n",
              "  </tbody>\n",
              "</table>\n",
              "</div>\n",
              "    <div class=\"colab-df-buttons\">\n",
              "\n",
              "  <div class=\"colab-df-container\">\n",
              "    <button class=\"colab-df-convert\" onclick=\"convertToInteractive('df-3b866b15-a87b-4eac-ac7c-56ce8f0b7f64')\"\n",
              "            title=\"Convert this dataframe to an interactive table.\"\n",
              "            style=\"display:none;\">\n",
              "\n",
              "  <svg xmlns=\"http://www.w3.org/2000/svg\" height=\"24px\" viewBox=\"0 -960 960 960\">\n",
              "    <path d=\"M120-120v-720h720v720H120Zm60-500h600v-160H180v160Zm220 220h160v-160H400v160Zm0 220h160v-160H400v160ZM180-400h160v-160H180v160Zm440 0h160v-160H620v160ZM180-180h160v-160H180v160Zm440 0h160v-160H620v160Z\"/>\n",
              "  </svg>\n",
              "    </button>\n",
              "\n",
              "  <style>\n",
              "    .colab-df-container {\n",
              "      display:flex;\n",
              "      gap: 12px;\n",
              "    }\n",
              "\n",
              "    .colab-df-convert {\n",
              "      background-color: #E8F0FE;\n",
              "      border: none;\n",
              "      border-radius: 50%;\n",
              "      cursor: pointer;\n",
              "      display: none;\n",
              "      fill: #1967D2;\n",
              "      height: 32px;\n",
              "      padding: 0 0 0 0;\n",
              "      width: 32px;\n",
              "    }\n",
              "\n",
              "    .colab-df-convert:hover {\n",
              "      background-color: #E2EBFA;\n",
              "      box-shadow: 0px 1px 2px rgba(60, 64, 67, 0.3), 0px 1px 3px 1px rgba(60, 64, 67, 0.15);\n",
              "      fill: #174EA6;\n",
              "    }\n",
              "\n",
              "    .colab-df-buttons div {\n",
              "      margin-bottom: 4px;\n",
              "    }\n",
              "\n",
              "    [theme=dark] .colab-df-convert {\n",
              "      background-color: #3B4455;\n",
              "      fill: #D2E3FC;\n",
              "    }\n",
              "\n",
              "    [theme=dark] .colab-df-convert:hover {\n",
              "      background-color: #434B5C;\n",
              "      box-shadow: 0px 1px 3px 1px rgba(0, 0, 0, 0.15);\n",
              "      filter: drop-shadow(0px 1px 2px rgba(0, 0, 0, 0.3));\n",
              "      fill: #FFFFFF;\n",
              "    }\n",
              "  </style>\n",
              "\n",
              "    <script>\n",
              "      const buttonEl =\n",
              "        document.querySelector('#df-3b866b15-a87b-4eac-ac7c-56ce8f0b7f64 button.colab-df-convert');\n",
              "      buttonEl.style.display =\n",
              "        google.colab.kernel.accessAllowed ? 'block' : 'none';\n",
              "\n",
              "      async function convertToInteractive(key) {\n",
              "        const element = document.querySelector('#df-3b866b15-a87b-4eac-ac7c-56ce8f0b7f64');\n",
              "        const dataTable =\n",
              "          await google.colab.kernel.invokeFunction('convertToInteractive',\n",
              "                                                    [key], {});\n",
              "        if (!dataTable) return;\n",
              "\n",
              "        const docLinkHtml = 'Like what you see? Visit the ' +\n",
              "          '<a target=\"_blank\" href=https://colab.research.google.com/notebooks/data_table.ipynb>data table notebook</a>'\n",
              "          + ' to learn more about interactive tables.';\n",
              "        element.innerHTML = '';\n",
              "        dataTable['output_type'] = 'display_data';\n",
              "        await google.colab.output.renderOutput(dataTable, element);\n",
              "        const docLink = document.createElement('div');\n",
              "        docLink.innerHTML = docLinkHtml;\n",
              "        element.appendChild(docLink);\n",
              "      }\n",
              "    </script>\n",
              "  </div>\n",
              "\n",
              "\n",
              "<div id=\"df-cbac81aa-ebb2-4f38-96b3-6215c5554e72\">\n",
              "  <button class=\"colab-df-quickchart\" onclick=\"quickchart('df-cbac81aa-ebb2-4f38-96b3-6215c5554e72')\"\n",
              "            title=\"Suggest charts.\"\n",
              "            style=\"display:none;\">\n",
              "\n",
              "<svg xmlns=\"http://www.w3.org/2000/svg\" height=\"24px\"viewBox=\"0 0 24 24\"\n",
              "     width=\"24px\">\n",
              "    <g>\n",
              "        <path d=\"M19 3H5c-1.1 0-2 .9-2 2v14c0 1.1.9 2 2 2h14c1.1 0 2-.9 2-2V5c0-1.1-.9-2-2-2zM9 17H7v-7h2v7zm4 0h-2V7h2v10zm4 0h-2v-4h2v4z\"/>\n",
              "    </g>\n",
              "</svg>\n",
              "  </button>\n",
              "\n",
              "<style>\n",
              "  .colab-df-quickchart {\n",
              "      --bg-color: #E8F0FE;\n",
              "      --fill-color: #1967D2;\n",
              "      --hover-bg-color: #E2EBFA;\n",
              "      --hover-fill-color: #174EA6;\n",
              "      --disabled-fill-color: #AAA;\n",
              "      --disabled-bg-color: #DDD;\n",
              "  }\n",
              "\n",
              "  [theme=dark] .colab-df-quickchart {\n",
              "      --bg-color: #3B4455;\n",
              "      --fill-color: #D2E3FC;\n",
              "      --hover-bg-color: #434B5C;\n",
              "      --hover-fill-color: #FFFFFF;\n",
              "      --disabled-bg-color: #3B4455;\n",
              "      --disabled-fill-color: #666;\n",
              "  }\n",
              "\n",
              "  .colab-df-quickchart {\n",
              "    background-color: var(--bg-color);\n",
              "    border: none;\n",
              "    border-radius: 50%;\n",
              "    cursor: pointer;\n",
              "    display: none;\n",
              "    fill: var(--fill-color);\n",
              "    height: 32px;\n",
              "    padding: 0;\n",
              "    width: 32px;\n",
              "  }\n",
              "\n",
              "  .colab-df-quickchart:hover {\n",
              "    background-color: var(--hover-bg-color);\n",
              "    box-shadow: 0 1px 2px rgba(60, 64, 67, 0.3), 0 1px 3px 1px rgba(60, 64, 67, 0.15);\n",
              "    fill: var(--button-hover-fill-color);\n",
              "  }\n",
              "\n",
              "  .colab-df-quickchart-complete:disabled,\n",
              "  .colab-df-quickchart-complete:disabled:hover {\n",
              "    background-color: var(--disabled-bg-color);\n",
              "    fill: var(--disabled-fill-color);\n",
              "    box-shadow: none;\n",
              "  }\n",
              "\n",
              "  .colab-df-spinner {\n",
              "    border: 2px solid var(--fill-color);\n",
              "    border-color: transparent;\n",
              "    border-bottom-color: var(--fill-color);\n",
              "    animation:\n",
              "      spin 1s steps(1) infinite;\n",
              "  }\n",
              "\n",
              "  @keyframes spin {\n",
              "    0% {\n",
              "      border-color: transparent;\n",
              "      border-bottom-color: var(--fill-color);\n",
              "      border-left-color: var(--fill-color);\n",
              "    }\n",
              "    20% {\n",
              "      border-color: transparent;\n",
              "      border-left-color: var(--fill-color);\n",
              "      border-top-color: var(--fill-color);\n",
              "    }\n",
              "    30% {\n",
              "      border-color: transparent;\n",
              "      border-left-color: var(--fill-color);\n",
              "      border-top-color: var(--fill-color);\n",
              "      border-right-color: var(--fill-color);\n",
              "    }\n",
              "    40% {\n",
              "      border-color: transparent;\n",
              "      border-right-color: var(--fill-color);\n",
              "      border-top-color: var(--fill-color);\n",
              "    }\n",
              "    60% {\n",
              "      border-color: transparent;\n",
              "      border-right-color: var(--fill-color);\n",
              "    }\n",
              "    80% {\n",
              "      border-color: transparent;\n",
              "      border-right-color: var(--fill-color);\n",
              "      border-bottom-color: var(--fill-color);\n",
              "    }\n",
              "    90% {\n",
              "      border-color: transparent;\n",
              "      border-bottom-color: var(--fill-color);\n",
              "    }\n",
              "  }\n",
              "</style>\n",
              "\n",
              "  <script>\n",
              "    async function quickchart(key) {\n",
              "      const quickchartButtonEl =\n",
              "        document.querySelector('#' + key + ' button');\n",
              "      quickchartButtonEl.disabled = true;  // To prevent multiple clicks.\n",
              "      quickchartButtonEl.classList.add('colab-df-spinner');\n",
              "      try {\n",
              "        const charts = await google.colab.kernel.invokeFunction(\n",
              "            'suggestCharts', [key], {});\n",
              "      } catch (error) {\n",
              "        console.error('Error during call to suggestCharts:', error);\n",
              "      }\n",
              "      quickchartButtonEl.classList.remove('colab-df-spinner');\n",
              "      quickchartButtonEl.classList.add('colab-df-quickchart-complete');\n",
              "    }\n",
              "    (() => {\n",
              "      let quickchartButtonEl =\n",
              "        document.querySelector('#df-cbac81aa-ebb2-4f38-96b3-6215c5554e72 button');\n",
              "      quickchartButtonEl.style.display =\n",
              "        google.colab.kernel.accessAllowed ? 'block' : 'none';\n",
              "    })();\n",
              "  </script>\n",
              "</div>\n",
              "    </div>\n",
              "  </div>\n"
            ]
          },
          "metadata": {},
          "execution_count": 120
        }
      ],
      "source": [
        "users_in_event_filtered"
      ]
    },
    {
      "cell_type": "code",
      "execution_count": null,
      "metadata": {
        "colab": {
          "base_uri": "https://localhost:8080/"
        },
        "id": "wK_5G2mKNNu3",
        "outputId": "0cbb29f3-fceb-4cee-8b67-7d189baa074a"
      },
      "outputs": [
        {
          "output_type": "stream",
          "name": "stdout",
          "text": [
            "Самым популярным событием является MainScreenAppear.\n"
          ]
        }
      ],
      "source": [
        "print(f\"Самым популярным событием является {users_in_event_filtered.loc[0,'event_name']}.\")"
      ]
    },
    {
      "cell_type": "markdown",
      "metadata": {
        "id": "O7FuuKXcNNu3"
      },
      "source": [
        "**Посчитайте число пользователей, совершивших это событие в каждой из контрольных групп.**\n",
        "\n",
        "Выведем на экран датафрейм events_in_each_group. Именно из данного датафрейма найдём число пользователей, совершивших самое пулярное событие в каждой группе. Также в данном датафрейме указано число пользователей из каждой группы, совершивших другие события."
      ]
    },
    {
      "cell_type": "code",
      "execution_count": null,
      "metadata": {
        "colab": {
          "base_uri": "https://localhost:8080/",
          "height": 206
        },
        "id": "fxrc_8BrNNu3",
        "outputId": "2b67c1f3-6df3-49b8-cf21-74858e734bfa"
      },
      "outputs": [
        {
          "output_type": "execute_result",
          "data": {
            "text/plain": [
              "exp_id                    246   247   248\n",
              "event_name                               \n",
              "MainScreenAppear         2450  2476  2493\n",
              "OffersScreenAppear       1542  1520  1531\n",
              "CartScreenAppear         1266  1238  1230\n",
              "PaymentScreenSuccessful  1200  1158  1181"
            ],
            "text/html": [
              "\n",
              "  <div id=\"df-d162f954-a620-4522-af09-4c4745a93fd5\" class=\"colab-df-container\">\n",
              "    <div>\n",
              "<style scoped>\n",
              "    .dataframe tbody tr th:only-of-type {\n",
              "        vertical-align: middle;\n",
              "    }\n",
              "\n",
              "    .dataframe tbody tr th {\n",
              "        vertical-align: top;\n",
              "    }\n",
              "\n",
              "    .dataframe thead th {\n",
              "        text-align: right;\n",
              "    }\n",
              "</style>\n",
              "<table border=\"1\" class=\"dataframe\">\n",
              "  <thead>\n",
              "    <tr style=\"text-align: right;\">\n",
              "      <th>exp_id</th>\n",
              "      <th>246</th>\n",
              "      <th>247</th>\n",
              "      <th>248</th>\n",
              "    </tr>\n",
              "    <tr>\n",
              "      <th>event_name</th>\n",
              "      <th></th>\n",
              "      <th></th>\n",
              "      <th></th>\n",
              "    </tr>\n",
              "  </thead>\n",
              "  <tbody>\n",
              "    <tr>\n",
              "      <th>MainScreenAppear</th>\n",
              "      <td>2450</td>\n",
              "      <td>2476</td>\n",
              "      <td>2493</td>\n",
              "    </tr>\n",
              "    <tr>\n",
              "      <th>OffersScreenAppear</th>\n",
              "      <td>1542</td>\n",
              "      <td>1520</td>\n",
              "      <td>1531</td>\n",
              "    </tr>\n",
              "    <tr>\n",
              "      <th>CartScreenAppear</th>\n",
              "      <td>1266</td>\n",
              "      <td>1238</td>\n",
              "      <td>1230</td>\n",
              "    </tr>\n",
              "    <tr>\n",
              "      <th>PaymentScreenSuccessful</th>\n",
              "      <td>1200</td>\n",
              "      <td>1158</td>\n",
              "      <td>1181</td>\n",
              "    </tr>\n",
              "  </tbody>\n",
              "</table>\n",
              "</div>\n",
              "    <div class=\"colab-df-buttons\">\n",
              "\n",
              "  <div class=\"colab-df-container\">\n",
              "    <button class=\"colab-df-convert\" onclick=\"convertToInteractive('df-d162f954-a620-4522-af09-4c4745a93fd5')\"\n",
              "            title=\"Convert this dataframe to an interactive table.\"\n",
              "            style=\"display:none;\">\n",
              "\n",
              "  <svg xmlns=\"http://www.w3.org/2000/svg\" height=\"24px\" viewBox=\"0 -960 960 960\">\n",
              "    <path d=\"M120-120v-720h720v720H120Zm60-500h600v-160H180v160Zm220 220h160v-160H400v160Zm0 220h160v-160H400v160ZM180-400h160v-160H180v160Zm440 0h160v-160H620v160ZM180-180h160v-160H180v160Zm440 0h160v-160H620v160Z\"/>\n",
              "  </svg>\n",
              "    </button>\n",
              "\n",
              "  <style>\n",
              "    .colab-df-container {\n",
              "      display:flex;\n",
              "      gap: 12px;\n",
              "    }\n",
              "\n",
              "    .colab-df-convert {\n",
              "      background-color: #E8F0FE;\n",
              "      border: none;\n",
              "      border-radius: 50%;\n",
              "      cursor: pointer;\n",
              "      display: none;\n",
              "      fill: #1967D2;\n",
              "      height: 32px;\n",
              "      padding: 0 0 0 0;\n",
              "      width: 32px;\n",
              "    }\n",
              "\n",
              "    .colab-df-convert:hover {\n",
              "      background-color: #E2EBFA;\n",
              "      box-shadow: 0px 1px 2px rgba(60, 64, 67, 0.3), 0px 1px 3px 1px rgba(60, 64, 67, 0.15);\n",
              "      fill: #174EA6;\n",
              "    }\n",
              "\n",
              "    .colab-df-buttons div {\n",
              "      margin-bottom: 4px;\n",
              "    }\n",
              "\n",
              "    [theme=dark] .colab-df-convert {\n",
              "      background-color: #3B4455;\n",
              "      fill: #D2E3FC;\n",
              "    }\n",
              "\n",
              "    [theme=dark] .colab-df-convert:hover {\n",
              "      background-color: #434B5C;\n",
              "      box-shadow: 0px 1px 3px 1px rgba(0, 0, 0, 0.15);\n",
              "      filter: drop-shadow(0px 1px 2px rgba(0, 0, 0, 0.3));\n",
              "      fill: #FFFFFF;\n",
              "    }\n",
              "  </style>\n",
              "\n",
              "    <script>\n",
              "      const buttonEl =\n",
              "        document.querySelector('#df-d162f954-a620-4522-af09-4c4745a93fd5 button.colab-df-convert');\n",
              "      buttonEl.style.display =\n",
              "        google.colab.kernel.accessAllowed ? 'block' : 'none';\n",
              "\n",
              "      async function convertToInteractive(key) {\n",
              "        const element = document.querySelector('#df-d162f954-a620-4522-af09-4c4745a93fd5');\n",
              "        const dataTable =\n",
              "          await google.colab.kernel.invokeFunction('convertToInteractive',\n",
              "                                                    [key], {});\n",
              "        if (!dataTable) return;\n",
              "\n",
              "        const docLinkHtml = 'Like what you see? Visit the ' +\n",
              "          '<a target=\"_blank\" href=https://colab.research.google.com/notebooks/data_table.ipynb>data table notebook</a>'\n",
              "          + ' to learn more about interactive tables.';\n",
              "        element.innerHTML = '';\n",
              "        dataTable['output_type'] = 'display_data';\n",
              "        await google.colab.output.renderOutput(dataTable, element);\n",
              "        const docLink = document.createElement('div');\n",
              "        docLink.innerHTML = docLinkHtml;\n",
              "        element.appendChild(docLink);\n",
              "      }\n",
              "    </script>\n",
              "  </div>\n",
              "\n",
              "\n",
              "<div id=\"df-062b3642-5bce-4019-b707-3cfc1a7f9938\">\n",
              "  <button class=\"colab-df-quickchart\" onclick=\"quickchart('df-062b3642-5bce-4019-b707-3cfc1a7f9938')\"\n",
              "            title=\"Suggest charts.\"\n",
              "            style=\"display:none;\">\n",
              "\n",
              "<svg xmlns=\"http://www.w3.org/2000/svg\" height=\"24px\"viewBox=\"0 0 24 24\"\n",
              "     width=\"24px\">\n",
              "    <g>\n",
              "        <path d=\"M19 3H5c-1.1 0-2 .9-2 2v14c0 1.1.9 2 2 2h14c1.1 0 2-.9 2-2V5c0-1.1-.9-2-2-2zM9 17H7v-7h2v7zm4 0h-2V7h2v10zm4 0h-2v-4h2v4z\"/>\n",
              "    </g>\n",
              "</svg>\n",
              "  </button>\n",
              "\n",
              "<style>\n",
              "  .colab-df-quickchart {\n",
              "      --bg-color: #E8F0FE;\n",
              "      --fill-color: #1967D2;\n",
              "      --hover-bg-color: #E2EBFA;\n",
              "      --hover-fill-color: #174EA6;\n",
              "      --disabled-fill-color: #AAA;\n",
              "      --disabled-bg-color: #DDD;\n",
              "  }\n",
              "\n",
              "  [theme=dark] .colab-df-quickchart {\n",
              "      --bg-color: #3B4455;\n",
              "      --fill-color: #D2E3FC;\n",
              "      --hover-bg-color: #434B5C;\n",
              "      --hover-fill-color: #FFFFFF;\n",
              "      --disabled-bg-color: #3B4455;\n",
              "      --disabled-fill-color: #666;\n",
              "  }\n",
              "\n",
              "  .colab-df-quickchart {\n",
              "    background-color: var(--bg-color);\n",
              "    border: none;\n",
              "    border-radius: 50%;\n",
              "    cursor: pointer;\n",
              "    display: none;\n",
              "    fill: var(--fill-color);\n",
              "    height: 32px;\n",
              "    padding: 0;\n",
              "    width: 32px;\n",
              "  }\n",
              "\n",
              "  .colab-df-quickchart:hover {\n",
              "    background-color: var(--hover-bg-color);\n",
              "    box-shadow: 0 1px 2px rgba(60, 64, 67, 0.3), 0 1px 3px 1px rgba(60, 64, 67, 0.15);\n",
              "    fill: var(--button-hover-fill-color);\n",
              "  }\n",
              "\n",
              "  .colab-df-quickchart-complete:disabled,\n",
              "  .colab-df-quickchart-complete:disabled:hover {\n",
              "    background-color: var(--disabled-bg-color);\n",
              "    fill: var(--disabled-fill-color);\n",
              "    box-shadow: none;\n",
              "  }\n",
              "\n",
              "  .colab-df-spinner {\n",
              "    border: 2px solid var(--fill-color);\n",
              "    border-color: transparent;\n",
              "    border-bottom-color: var(--fill-color);\n",
              "    animation:\n",
              "      spin 1s steps(1) infinite;\n",
              "  }\n",
              "\n",
              "  @keyframes spin {\n",
              "    0% {\n",
              "      border-color: transparent;\n",
              "      border-bottom-color: var(--fill-color);\n",
              "      border-left-color: var(--fill-color);\n",
              "    }\n",
              "    20% {\n",
              "      border-color: transparent;\n",
              "      border-left-color: var(--fill-color);\n",
              "      border-top-color: var(--fill-color);\n",
              "    }\n",
              "    30% {\n",
              "      border-color: transparent;\n",
              "      border-left-color: var(--fill-color);\n",
              "      border-top-color: var(--fill-color);\n",
              "      border-right-color: var(--fill-color);\n",
              "    }\n",
              "    40% {\n",
              "      border-color: transparent;\n",
              "      border-right-color: var(--fill-color);\n",
              "      border-top-color: var(--fill-color);\n",
              "    }\n",
              "    60% {\n",
              "      border-color: transparent;\n",
              "      border-right-color: var(--fill-color);\n",
              "    }\n",
              "    80% {\n",
              "      border-color: transparent;\n",
              "      border-right-color: var(--fill-color);\n",
              "      border-bottom-color: var(--fill-color);\n",
              "    }\n",
              "    90% {\n",
              "      border-color: transparent;\n",
              "      border-bottom-color: var(--fill-color);\n",
              "    }\n",
              "  }\n",
              "</style>\n",
              "\n",
              "  <script>\n",
              "    async function quickchart(key) {\n",
              "      const quickchartButtonEl =\n",
              "        document.querySelector('#' + key + ' button');\n",
              "      quickchartButtonEl.disabled = true;  // To prevent multiple clicks.\n",
              "      quickchartButtonEl.classList.add('colab-df-spinner');\n",
              "      try {\n",
              "        const charts = await google.colab.kernel.invokeFunction(\n",
              "            'suggestCharts', [key], {});\n",
              "      } catch (error) {\n",
              "        console.error('Error during call to suggestCharts:', error);\n",
              "      }\n",
              "      quickchartButtonEl.classList.remove('colab-df-spinner');\n",
              "      quickchartButtonEl.classList.add('colab-df-quickchart-complete');\n",
              "    }\n",
              "    (() => {\n",
              "      let quickchartButtonEl =\n",
              "        document.querySelector('#df-062b3642-5bce-4019-b707-3cfc1a7f9938 button');\n",
              "      quickchartButtonEl.style.display =\n",
              "        google.colab.kernel.accessAllowed ? 'block' : 'none';\n",
              "    })();\n",
              "  </script>\n",
              "</div>\n",
              "    </div>\n",
              "  </div>\n"
            ]
          },
          "metadata": {},
          "execution_count": 122
        }
      ],
      "source": [
        "events_in_each_group"
      ]
    },
    {
      "cell_type": "code",
      "execution_count": null,
      "metadata": {
        "colab": {
          "base_uri": "https://localhost:8080/"
        },
        "id": "f2R4_y1qNNu3",
        "outputId": "25323066-70ee-4a02-daa7-b8df6efdfa91"
      },
      "outputs": [
        {
          "output_type": "stream",
          "name": "stdout",
          "text": [
            "Отобразим число пользователей, совершивших событие MainScreenAppear в каждой из контрольных групп, то есть в группах 246 и 247.\n"
          ]
        },
        {
          "output_type": "execute_result",
          "data": {
            "text/plain": [
              "exp_id\n",
              "246    2450\n",
              "247    2476\n",
              "Name: MainScreenAppear, dtype: int64"
            ]
          },
          "metadata": {},
          "execution_count": 123
        }
      ],
      "source": [
        "print(f\"Отобразим число пользователей, совершивших событие {users_in_event_filtered.loc[0,'event_name']} в каждой из \\\n",
        "контрольных групп, то есть в группах 246 и 247.\")\n",
        "events_in_each_group.loc[users_in_event_filtered.loc[0,'event_name'],[246,247]]"
      ]
    },
    {
      "cell_type": "markdown",
      "metadata": {
        "id": "PIe9DOoaNNu3"
      },
      "source": [
        "**Посчитаем долю пользователей, совершивших каждое из событий, к общему числу пользователей в данной группе.**"
      ]
    },
    {
      "cell_type": "code",
      "execution_count": null,
      "metadata": {
        "scrolled": true,
        "colab": {
          "base_uri": "https://localhost:8080/",
          "height": 206
        },
        "id": "y7MKeRaiNNu4",
        "outputId": "505b0472-5081-498a-d199-f4037a31ddb3"
      },
      "outputs": [
        {
          "output_type": "execute_result",
          "data": {
            "text/plain": [
              "exp_id                      246     247     248\n",
              "event_name                                     \n",
              "MainScreenAppear         0.9867  0.9857  0.9834\n",
              "OffersScreenAppear       0.6210  0.6051  0.6039\n",
              "CartScreenAppear         0.5099  0.4928  0.4852\n",
              "PaymentScreenSuccessful  0.4833  0.4610  0.4659"
            ],
            "text/html": [
              "\n",
              "  <div id=\"df-3245731a-22e6-41f7-8b30-948a78e11ad2\" class=\"colab-df-container\">\n",
              "    <div>\n",
              "<style scoped>\n",
              "    .dataframe tbody tr th:only-of-type {\n",
              "        vertical-align: middle;\n",
              "    }\n",
              "\n",
              "    .dataframe tbody tr th {\n",
              "        vertical-align: top;\n",
              "    }\n",
              "\n",
              "    .dataframe thead th {\n",
              "        text-align: right;\n",
              "    }\n",
              "</style>\n",
              "<table border=\"1\" class=\"dataframe\">\n",
              "  <thead>\n",
              "    <tr style=\"text-align: right;\">\n",
              "      <th>exp_id</th>\n",
              "      <th>246</th>\n",
              "      <th>247</th>\n",
              "      <th>248</th>\n",
              "    </tr>\n",
              "    <tr>\n",
              "      <th>event_name</th>\n",
              "      <th></th>\n",
              "      <th></th>\n",
              "      <th></th>\n",
              "    </tr>\n",
              "  </thead>\n",
              "  <tbody>\n",
              "    <tr>\n",
              "      <th>MainScreenAppear</th>\n",
              "      <td>0.9867</td>\n",
              "      <td>0.9857</td>\n",
              "      <td>0.9834</td>\n",
              "    </tr>\n",
              "    <tr>\n",
              "      <th>OffersScreenAppear</th>\n",
              "      <td>0.6210</td>\n",
              "      <td>0.6051</td>\n",
              "      <td>0.6039</td>\n",
              "    </tr>\n",
              "    <tr>\n",
              "      <th>CartScreenAppear</th>\n",
              "      <td>0.5099</td>\n",
              "      <td>0.4928</td>\n",
              "      <td>0.4852</td>\n",
              "    </tr>\n",
              "    <tr>\n",
              "      <th>PaymentScreenSuccessful</th>\n",
              "      <td>0.4833</td>\n",
              "      <td>0.4610</td>\n",
              "      <td>0.4659</td>\n",
              "    </tr>\n",
              "  </tbody>\n",
              "</table>\n",
              "</div>\n",
              "    <div class=\"colab-df-buttons\">\n",
              "\n",
              "  <div class=\"colab-df-container\">\n",
              "    <button class=\"colab-df-convert\" onclick=\"convertToInteractive('df-3245731a-22e6-41f7-8b30-948a78e11ad2')\"\n",
              "            title=\"Convert this dataframe to an interactive table.\"\n",
              "            style=\"display:none;\">\n",
              "\n",
              "  <svg xmlns=\"http://www.w3.org/2000/svg\" height=\"24px\" viewBox=\"0 -960 960 960\">\n",
              "    <path d=\"M120-120v-720h720v720H120Zm60-500h600v-160H180v160Zm220 220h160v-160H400v160Zm0 220h160v-160H400v160ZM180-400h160v-160H180v160Zm440 0h160v-160H620v160ZM180-180h160v-160H180v160Zm440 0h160v-160H620v160Z\"/>\n",
              "  </svg>\n",
              "    </button>\n",
              "\n",
              "  <style>\n",
              "    .colab-df-container {\n",
              "      display:flex;\n",
              "      gap: 12px;\n",
              "    }\n",
              "\n",
              "    .colab-df-convert {\n",
              "      background-color: #E8F0FE;\n",
              "      border: none;\n",
              "      border-radius: 50%;\n",
              "      cursor: pointer;\n",
              "      display: none;\n",
              "      fill: #1967D2;\n",
              "      height: 32px;\n",
              "      padding: 0 0 0 0;\n",
              "      width: 32px;\n",
              "    }\n",
              "\n",
              "    .colab-df-convert:hover {\n",
              "      background-color: #E2EBFA;\n",
              "      box-shadow: 0px 1px 2px rgba(60, 64, 67, 0.3), 0px 1px 3px 1px rgba(60, 64, 67, 0.15);\n",
              "      fill: #174EA6;\n",
              "    }\n",
              "\n",
              "    .colab-df-buttons div {\n",
              "      margin-bottom: 4px;\n",
              "    }\n",
              "\n",
              "    [theme=dark] .colab-df-convert {\n",
              "      background-color: #3B4455;\n",
              "      fill: #D2E3FC;\n",
              "    }\n",
              "\n",
              "    [theme=dark] .colab-df-convert:hover {\n",
              "      background-color: #434B5C;\n",
              "      box-shadow: 0px 1px 3px 1px rgba(0, 0, 0, 0.15);\n",
              "      filter: drop-shadow(0px 1px 2px rgba(0, 0, 0, 0.3));\n",
              "      fill: #FFFFFF;\n",
              "    }\n",
              "  </style>\n",
              "\n",
              "    <script>\n",
              "      const buttonEl =\n",
              "        document.querySelector('#df-3245731a-22e6-41f7-8b30-948a78e11ad2 button.colab-df-convert');\n",
              "      buttonEl.style.display =\n",
              "        google.colab.kernel.accessAllowed ? 'block' : 'none';\n",
              "\n",
              "      async function convertToInteractive(key) {\n",
              "        const element = document.querySelector('#df-3245731a-22e6-41f7-8b30-948a78e11ad2');\n",
              "        const dataTable =\n",
              "          await google.colab.kernel.invokeFunction('convertToInteractive',\n",
              "                                                    [key], {});\n",
              "        if (!dataTable) return;\n",
              "\n",
              "        const docLinkHtml = 'Like what you see? Visit the ' +\n",
              "          '<a target=\"_blank\" href=https://colab.research.google.com/notebooks/data_table.ipynb>data table notebook</a>'\n",
              "          + ' to learn more about interactive tables.';\n",
              "        element.innerHTML = '';\n",
              "        dataTable['output_type'] = 'display_data';\n",
              "        await google.colab.output.renderOutput(dataTable, element);\n",
              "        const docLink = document.createElement('div');\n",
              "        docLink.innerHTML = docLinkHtml;\n",
              "        element.appendChild(docLink);\n",
              "      }\n",
              "    </script>\n",
              "  </div>\n",
              "\n",
              "\n",
              "<div id=\"df-62000fca-17c8-4c53-a5b3-c5e4c34b793a\">\n",
              "  <button class=\"colab-df-quickchart\" onclick=\"quickchart('df-62000fca-17c8-4c53-a5b3-c5e4c34b793a')\"\n",
              "            title=\"Suggest charts.\"\n",
              "            style=\"display:none;\">\n",
              "\n",
              "<svg xmlns=\"http://www.w3.org/2000/svg\" height=\"24px\"viewBox=\"0 0 24 24\"\n",
              "     width=\"24px\">\n",
              "    <g>\n",
              "        <path d=\"M19 3H5c-1.1 0-2 .9-2 2v14c0 1.1.9 2 2 2h14c1.1 0 2-.9 2-2V5c0-1.1-.9-2-2-2zM9 17H7v-7h2v7zm4 0h-2V7h2v10zm4 0h-2v-4h2v4z\"/>\n",
              "    </g>\n",
              "</svg>\n",
              "  </button>\n",
              "\n",
              "<style>\n",
              "  .colab-df-quickchart {\n",
              "      --bg-color: #E8F0FE;\n",
              "      --fill-color: #1967D2;\n",
              "      --hover-bg-color: #E2EBFA;\n",
              "      --hover-fill-color: #174EA6;\n",
              "      --disabled-fill-color: #AAA;\n",
              "      --disabled-bg-color: #DDD;\n",
              "  }\n",
              "\n",
              "  [theme=dark] .colab-df-quickchart {\n",
              "      --bg-color: #3B4455;\n",
              "      --fill-color: #D2E3FC;\n",
              "      --hover-bg-color: #434B5C;\n",
              "      --hover-fill-color: #FFFFFF;\n",
              "      --disabled-bg-color: #3B4455;\n",
              "      --disabled-fill-color: #666;\n",
              "  }\n",
              "\n",
              "  .colab-df-quickchart {\n",
              "    background-color: var(--bg-color);\n",
              "    border: none;\n",
              "    border-radius: 50%;\n",
              "    cursor: pointer;\n",
              "    display: none;\n",
              "    fill: var(--fill-color);\n",
              "    height: 32px;\n",
              "    padding: 0;\n",
              "    width: 32px;\n",
              "  }\n",
              "\n",
              "  .colab-df-quickchart:hover {\n",
              "    background-color: var(--hover-bg-color);\n",
              "    box-shadow: 0 1px 2px rgba(60, 64, 67, 0.3), 0 1px 3px 1px rgba(60, 64, 67, 0.15);\n",
              "    fill: var(--button-hover-fill-color);\n",
              "  }\n",
              "\n",
              "  .colab-df-quickchart-complete:disabled,\n",
              "  .colab-df-quickchart-complete:disabled:hover {\n",
              "    background-color: var(--disabled-bg-color);\n",
              "    fill: var(--disabled-fill-color);\n",
              "    box-shadow: none;\n",
              "  }\n",
              "\n",
              "  .colab-df-spinner {\n",
              "    border: 2px solid var(--fill-color);\n",
              "    border-color: transparent;\n",
              "    border-bottom-color: var(--fill-color);\n",
              "    animation:\n",
              "      spin 1s steps(1) infinite;\n",
              "  }\n",
              "\n",
              "  @keyframes spin {\n",
              "    0% {\n",
              "      border-color: transparent;\n",
              "      border-bottom-color: var(--fill-color);\n",
              "      border-left-color: var(--fill-color);\n",
              "    }\n",
              "    20% {\n",
              "      border-color: transparent;\n",
              "      border-left-color: var(--fill-color);\n",
              "      border-top-color: var(--fill-color);\n",
              "    }\n",
              "    30% {\n",
              "      border-color: transparent;\n",
              "      border-left-color: var(--fill-color);\n",
              "      border-top-color: var(--fill-color);\n",
              "      border-right-color: var(--fill-color);\n",
              "    }\n",
              "    40% {\n",
              "      border-color: transparent;\n",
              "      border-right-color: var(--fill-color);\n",
              "      border-top-color: var(--fill-color);\n",
              "    }\n",
              "    60% {\n",
              "      border-color: transparent;\n",
              "      border-right-color: var(--fill-color);\n",
              "    }\n",
              "    80% {\n",
              "      border-color: transparent;\n",
              "      border-right-color: var(--fill-color);\n",
              "      border-bottom-color: var(--fill-color);\n",
              "    }\n",
              "    90% {\n",
              "      border-color: transparent;\n",
              "      border-bottom-color: var(--fill-color);\n",
              "    }\n",
              "  }\n",
              "</style>\n",
              "\n",
              "  <script>\n",
              "    async function quickchart(key) {\n",
              "      const quickchartButtonEl =\n",
              "        document.querySelector('#' + key + ' button');\n",
              "      quickchartButtonEl.disabled = true;  // To prevent multiple clicks.\n",
              "      quickchartButtonEl.classList.add('colab-df-spinner');\n",
              "      try {\n",
              "        const charts = await google.colab.kernel.invokeFunction(\n",
              "            'suggestCharts', [key], {});\n",
              "      } catch (error) {\n",
              "        console.error('Error during call to suggestCharts:', error);\n",
              "      }\n",
              "      quickchartButtonEl.classList.remove('colab-df-spinner');\n",
              "      quickchartButtonEl.classList.add('colab-df-quickchart-complete');\n",
              "    }\n",
              "    (() => {\n",
              "      let quickchartButtonEl =\n",
              "        document.querySelector('#df-62000fca-17c8-4c53-a5b3-c5e4c34b793a button');\n",
              "      quickchartButtonEl.style.display =\n",
              "        google.colab.kernel.accessAllowed ? 'block' : 'none';\n",
              "    })();\n",
              "  </script>\n",
              "</div>\n",
              "    </div>\n",
              "  </div>\n"
            ]
          },
          "metadata": {},
          "execution_count": 124
        }
      ],
      "source": [
        "share_in_each_group = events_in_each_group.copy()\n",
        "\n",
        "for column in share_in_each_group.columns:\n",
        "    share_in_each_group[[column]] = round(share_in_each_group[[column]].div(users_in_each_group.loc['device_id_hash',column]),4)\n",
        "\n",
        "share_in_each_group"
      ]
    },
    {
      "cell_type": "code",
      "execution_count": null,
      "metadata": {
        "colab": {
          "base_uri": "https://localhost:8080/"
        },
        "id": "IDCEAs8iNNu4",
        "outputId": "05335240-307d-4d4f-dcbf-a56b9a279864"
      },
      "outputs": [
        {
          "output_type": "stream",
          "name": "stdout",
          "text": [
            "Отобразим долю пользователей, совершивших событие MainScreenAppear в каждой из контрольных групп к общему количеству пользователей в соответствующей группе, то есть в группах 246 и 247.\n"
          ]
        },
        {
          "output_type": "execute_result",
          "data": {
            "text/plain": [
              "exp_id\n",
              "246    0.9867\n",
              "247    0.9857\n",
              "Name: MainScreenAppear, dtype: float64"
            ]
          },
          "metadata": {},
          "execution_count": 125
        }
      ],
      "source": [
        "print(f\"Отобразим долю пользователей, совершивших событие {users_in_event_filtered.loc[0,'event_name']} в каждой из \\\n",
        "контрольных групп к общему количеству пользователей в соответствующей группе, то есть в группах 246 и 247.\")\n",
        "share_in_each_group.loc[users_in_event_filtered.loc[0,'event_name'],[246,247]]"
      ]
    },
    {
      "cell_type": "markdown",
      "metadata": {
        "id": "QYH1y72YNNu4"
      },
      "source": [
        "**Проверьте, будет ли отличие между контрольными группами статистически достоверным.**\n"
      ]
    },
    {
      "cell_type": "markdown",
      "metadata": {
        "id": "YTTYPaoXNNu4"
      },
      "source": [
        "На шаге 5.2 проверили, является ли отличие между контрольными группами, то есть группами 246 и 247, статистически достоверным. Выяснили, что отличие между группами 246 и 247 не является статистически достоверным."
      ]
    },
    {
      "cell_type": "markdown",
      "metadata": {
        "id": "1hLTKUT3NNu4"
      },
      "source": [
        "**Можно ли сказать, что разбиение на группы работает корректно?**"
      ]
    },
    {
      "cell_type": "markdown",
      "metadata": {
        "id": "CfqE2E-sNNu4"
      },
      "source": [
        "Критерии успешного A/A-теста:\n",
        "- Количество пользователей в различных группах различается не более, чем на 1%;\n",
        "- Для всех групп фиксируют и отправляют в системы аналитики данные об одном и том же;\n",
        "- Различие ключевых метрик по группам не превышает 1% и не имеет статистической значимости;\n",
        "- Попавший в одну из групп посетитель остаётся в этой группе до конца теста. Если пользователь видит разные версии исследуемой страницы в ходе одного исследования, неизвестно, какая именно повлияла на его решения. Значит, и результаты такого теста нельзя интерпретировать однозначно."
      ]
    },
    {
      "cell_type": "markdown",
      "metadata": {
        "id": "Fwx6QHwyNNu5"
      },
      "source": [
        "Для первого и третьего пунктов важно, был ли преодалён порог в количестве необходимых пользователей в каждой группе, в нашем случае мы не знаем минимальный размер выборки. Поэтому данные пункты не учитываем в проверке. Для третьего пункта ранее (на шаге 5.2) выяснили, что отличие между группами 246 и 247 не является статистически достоверным.  \n",
        "На шаге 3.6 совершили проверку для 4 пункта, выяснили, что нет пересечения пользователей в группах 246, 247 и 248.  \n",
        "Критерии успешного  A/A-теста выполнены."
      ]
    },
    {
      "cell_type": "markdown",
      "metadata": {
        "id": "NUm9bNDBNNu5"
      },
      "source": [
        "### Шаг 5.4. Аналогично поступите с группой с изменённым шрифтом. Сравните результаты с каждой из контрольных групп в отдельности по каждому событию. Сравните результаты с объединённой контрольной группой. Какие выводы из эксперимента можно сделать?"
      ]
    },
    {
      "cell_type": "markdown",
      "metadata": {
        "id": "Fg9PQhH1NNu5"
      },
      "source": [
        "Создадим объединённую группу 246 и 247 для последующей проверки."
      ]
    },
    {
      "cell_type": "code",
      "execution_count": null,
      "metadata": {
        "colab": {
          "base_uri": "https://localhost:8080/",
          "height": 206
        },
        "id": "bZAlqh6jNNu5",
        "outputId": "ec89c5e4-964d-4415-f046-2a813c4d7f4c"
      },
      "outputs": [
        {
          "output_type": "execute_result",
          "data": {
            "text/plain": [
              "exp_id                    246   247   248  246_and_247\n",
              "event_name                                            \n",
              "MainScreenAppear         2450  2476  2493         4926\n",
              "OffersScreenAppear       1542  1520  1531         3062\n",
              "CartScreenAppear         1266  1238  1230         2504\n",
              "PaymentScreenSuccessful  1200  1158  1181         2358"
            ],
            "text/html": [
              "\n",
              "  <div id=\"df-98e769f7-d912-497f-b324-9bee277c8710\" class=\"colab-df-container\">\n",
              "    <div>\n",
              "<style scoped>\n",
              "    .dataframe tbody tr th:only-of-type {\n",
              "        vertical-align: middle;\n",
              "    }\n",
              "\n",
              "    .dataframe tbody tr th {\n",
              "        vertical-align: top;\n",
              "    }\n",
              "\n",
              "    .dataframe thead th {\n",
              "        text-align: right;\n",
              "    }\n",
              "</style>\n",
              "<table border=\"1\" class=\"dataframe\">\n",
              "  <thead>\n",
              "    <tr style=\"text-align: right;\">\n",
              "      <th>exp_id</th>\n",
              "      <th>246</th>\n",
              "      <th>247</th>\n",
              "      <th>248</th>\n",
              "      <th>246_and_247</th>\n",
              "    </tr>\n",
              "    <tr>\n",
              "      <th>event_name</th>\n",
              "      <th></th>\n",
              "      <th></th>\n",
              "      <th></th>\n",
              "      <th></th>\n",
              "    </tr>\n",
              "  </thead>\n",
              "  <tbody>\n",
              "    <tr>\n",
              "      <th>MainScreenAppear</th>\n",
              "      <td>2450</td>\n",
              "      <td>2476</td>\n",
              "      <td>2493</td>\n",
              "      <td>4926</td>\n",
              "    </tr>\n",
              "    <tr>\n",
              "      <th>OffersScreenAppear</th>\n",
              "      <td>1542</td>\n",
              "      <td>1520</td>\n",
              "      <td>1531</td>\n",
              "      <td>3062</td>\n",
              "    </tr>\n",
              "    <tr>\n",
              "      <th>CartScreenAppear</th>\n",
              "      <td>1266</td>\n",
              "      <td>1238</td>\n",
              "      <td>1230</td>\n",
              "      <td>2504</td>\n",
              "    </tr>\n",
              "    <tr>\n",
              "      <th>PaymentScreenSuccessful</th>\n",
              "      <td>1200</td>\n",
              "      <td>1158</td>\n",
              "      <td>1181</td>\n",
              "      <td>2358</td>\n",
              "    </tr>\n",
              "  </tbody>\n",
              "</table>\n",
              "</div>\n",
              "    <div class=\"colab-df-buttons\">\n",
              "\n",
              "  <div class=\"colab-df-container\">\n",
              "    <button class=\"colab-df-convert\" onclick=\"convertToInteractive('df-98e769f7-d912-497f-b324-9bee277c8710')\"\n",
              "            title=\"Convert this dataframe to an interactive table.\"\n",
              "            style=\"display:none;\">\n",
              "\n",
              "  <svg xmlns=\"http://www.w3.org/2000/svg\" height=\"24px\" viewBox=\"0 -960 960 960\">\n",
              "    <path d=\"M120-120v-720h720v720H120Zm60-500h600v-160H180v160Zm220 220h160v-160H400v160Zm0 220h160v-160H400v160ZM180-400h160v-160H180v160Zm440 0h160v-160H620v160ZM180-180h160v-160H180v160Zm440 0h160v-160H620v160Z\"/>\n",
              "  </svg>\n",
              "    </button>\n",
              "\n",
              "  <style>\n",
              "    .colab-df-container {\n",
              "      display:flex;\n",
              "      gap: 12px;\n",
              "    }\n",
              "\n",
              "    .colab-df-convert {\n",
              "      background-color: #E8F0FE;\n",
              "      border: none;\n",
              "      border-radius: 50%;\n",
              "      cursor: pointer;\n",
              "      display: none;\n",
              "      fill: #1967D2;\n",
              "      height: 32px;\n",
              "      padding: 0 0 0 0;\n",
              "      width: 32px;\n",
              "    }\n",
              "\n",
              "    .colab-df-convert:hover {\n",
              "      background-color: #E2EBFA;\n",
              "      box-shadow: 0px 1px 2px rgba(60, 64, 67, 0.3), 0px 1px 3px 1px rgba(60, 64, 67, 0.15);\n",
              "      fill: #174EA6;\n",
              "    }\n",
              "\n",
              "    .colab-df-buttons div {\n",
              "      margin-bottom: 4px;\n",
              "    }\n",
              "\n",
              "    [theme=dark] .colab-df-convert {\n",
              "      background-color: #3B4455;\n",
              "      fill: #D2E3FC;\n",
              "    }\n",
              "\n",
              "    [theme=dark] .colab-df-convert:hover {\n",
              "      background-color: #434B5C;\n",
              "      box-shadow: 0px 1px 3px 1px rgba(0, 0, 0, 0.15);\n",
              "      filter: drop-shadow(0px 1px 2px rgba(0, 0, 0, 0.3));\n",
              "      fill: #FFFFFF;\n",
              "    }\n",
              "  </style>\n",
              "\n",
              "    <script>\n",
              "      const buttonEl =\n",
              "        document.querySelector('#df-98e769f7-d912-497f-b324-9bee277c8710 button.colab-df-convert');\n",
              "      buttonEl.style.display =\n",
              "        google.colab.kernel.accessAllowed ? 'block' : 'none';\n",
              "\n",
              "      async function convertToInteractive(key) {\n",
              "        const element = document.querySelector('#df-98e769f7-d912-497f-b324-9bee277c8710');\n",
              "        const dataTable =\n",
              "          await google.colab.kernel.invokeFunction('convertToInteractive',\n",
              "                                                    [key], {});\n",
              "        if (!dataTable) return;\n",
              "\n",
              "        const docLinkHtml = 'Like what you see? Visit the ' +\n",
              "          '<a target=\"_blank\" href=https://colab.research.google.com/notebooks/data_table.ipynb>data table notebook</a>'\n",
              "          + ' to learn more about interactive tables.';\n",
              "        element.innerHTML = '';\n",
              "        dataTable['output_type'] = 'display_data';\n",
              "        await google.colab.output.renderOutput(dataTable, element);\n",
              "        const docLink = document.createElement('div');\n",
              "        docLink.innerHTML = docLinkHtml;\n",
              "        element.appendChild(docLink);\n",
              "      }\n",
              "    </script>\n",
              "  </div>\n",
              "\n",
              "\n",
              "<div id=\"df-4196caf3-876b-4456-91c5-a160b3401f3b\">\n",
              "  <button class=\"colab-df-quickchart\" onclick=\"quickchart('df-4196caf3-876b-4456-91c5-a160b3401f3b')\"\n",
              "            title=\"Suggest charts.\"\n",
              "            style=\"display:none;\">\n",
              "\n",
              "<svg xmlns=\"http://www.w3.org/2000/svg\" height=\"24px\"viewBox=\"0 0 24 24\"\n",
              "     width=\"24px\">\n",
              "    <g>\n",
              "        <path d=\"M19 3H5c-1.1 0-2 .9-2 2v14c0 1.1.9 2 2 2h14c1.1 0 2-.9 2-2V5c0-1.1-.9-2-2-2zM9 17H7v-7h2v7zm4 0h-2V7h2v10zm4 0h-2v-4h2v4z\"/>\n",
              "    </g>\n",
              "</svg>\n",
              "  </button>\n",
              "\n",
              "<style>\n",
              "  .colab-df-quickchart {\n",
              "      --bg-color: #E8F0FE;\n",
              "      --fill-color: #1967D2;\n",
              "      --hover-bg-color: #E2EBFA;\n",
              "      --hover-fill-color: #174EA6;\n",
              "      --disabled-fill-color: #AAA;\n",
              "      --disabled-bg-color: #DDD;\n",
              "  }\n",
              "\n",
              "  [theme=dark] .colab-df-quickchart {\n",
              "      --bg-color: #3B4455;\n",
              "      --fill-color: #D2E3FC;\n",
              "      --hover-bg-color: #434B5C;\n",
              "      --hover-fill-color: #FFFFFF;\n",
              "      --disabled-bg-color: #3B4455;\n",
              "      --disabled-fill-color: #666;\n",
              "  }\n",
              "\n",
              "  .colab-df-quickchart {\n",
              "    background-color: var(--bg-color);\n",
              "    border: none;\n",
              "    border-radius: 50%;\n",
              "    cursor: pointer;\n",
              "    display: none;\n",
              "    fill: var(--fill-color);\n",
              "    height: 32px;\n",
              "    padding: 0;\n",
              "    width: 32px;\n",
              "  }\n",
              "\n",
              "  .colab-df-quickchart:hover {\n",
              "    background-color: var(--hover-bg-color);\n",
              "    box-shadow: 0 1px 2px rgba(60, 64, 67, 0.3), 0 1px 3px 1px rgba(60, 64, 67, 0.15);\n",
              "    fill: var(--button-hover-fill-color);\n",
              "  }\n",
              "\n",
              "  .colab-df-quickchart-complete:disabled,\n",
              "  .colab-df-quickchart-complete:disabled:hover {\n",
              "    background-color: var(--disabled-bg-color);\n",
              "    fill: var(--disabled-fill-color);\n",
              "    box-shadow: none;\n",
              "  }\n",
              "\n",
              "  .colab-df-spinner {\n",
              "    border: 2px solid var(--fill-color);\n",
              "    border-color: transparent;\n",
              "    border-bottom-color: var(--fill-color);\n",
              "    animation:\n",
              "      spin 1s steps(1) infinite;\n",
              "  }\n",
              "\n",
              "  @keyframes spin {\n",
              "    0% {\n",
              "      border-color: transparent;\n",
              "      border-bottom-color: var(--fill-color);\n",
              "      border-left-color: var(--fill-color);\n",
              "    }\n",
              "    20% {\n",
              "      border-color: transparent;\n",
              "      border-left-color: var(--fill-color);\n",
              "      border-top-color: var(--fill-color);\n",
              "    }\n",
              "    30% {\n",
              "      border-color: transparent;\n",
              "      border-left-color: var(--fill-color);\n",
              "      border-top-color: var(--fill-color);\n",
              "      border-right-color: var(--fill-color);\n",
              "    }\n",
              "    40% {\n",
              "      border-color: transparent;\n",
              "      border-right-color: var(--fill-color);\n",
              "      border-top-color: var(--fill-color);\n",
              "    }\n",
              "    60% {\n",
              "      border-color: transparent;\n",
              "      border-right-color: var(--fill-color);\n",
              "    }\n",
              "    80% {\n",
              "      border-color: transparent;\n",
              "      border-right-color: var(--fill-color);\n",
              "      border-bottom-color: var(--fill-color);\n",
              "    }\n",
              "    90% {\n",
              "      border-color: transparent;\n",
              "      border-bottom-color: var(--fill-color);\n",
              "    }\n",
              "  }\n",
              "</style>\n",
              "\n",
              "  <script>\n",
              "    async function quickchart(key) {\n",
              "      const quickchartButtonEl =\n",
              "        document.querySelector('#' + key + ' button');\n",
              "      quickchartButtonEl.disabled = true;  // To prevent multiple clicks.\n",
              "      quickchartButtonEl.classList.add('colab-df-spinner');\n",
              "      try {\n",
              "        const charts = await google.colab.kernel.invokeFunction(\n",
              "            'suggestCharts', [key], {});\n",
              "      } catch (error) {\n",
              "        console.error('Error during call to suggestCharts:', error);\n",
              "      }\n",
              "      quickchartButtonEl.classList.remove('colab-df-spinner');\n",
              "      quickchartButtonEl.classList.add('colab-df-quickchart-complete');\n",
              "    }\n",
              "    (() => {\n",
              "      let quickchartButtonEl =\n",
              "        document.querySelector('#df-4196caf3-876b-4456-91c5-a160b3401f3b button');\n",
              "      quickchartButtonEl.style.display =\n",
              "        google.colab.kernel.accessAllowed ? 'block' : 'none';\n",
              "    })();\n",
              "  </script>\n",
              "</div>\n",
              "    </div>\n",
              "  </div>\n"
            ]
          },
          "metadata": {},
          "execution_count": 126
        }
      ],
      "source": [
        "events_in_each_group['246_and_247'] = events_in_each_group[246] + events_in_each_group[247]\n",
        "events_in_each_group"
      ]
    },
    {
      "cell_type": "code",
      "execution_count": null,
      "metadata": {
        "scrolled": true,
        "colab": {
          "base_uri": "https://localhost:8080/",
          "height": 81
        },
        "id": "6iJ_d5LHNNu6",
        "outputId": "cb5421e2-23d8-4698-a6ea-e5f29b5c4154"
      },
      "outputs": [
        {
          "output_type": "execute_result",
          "data": {
            "text/plain": [
              "exp_id           246   247   248  246_and_247\n",
              "device_id_hash  2483  2512  2535         4995"
            ],
            "text/html": [
              "\n",
              "  <div id=\"df-52dd5350-9679-4558-bf56-760d995a8dc1\" class=\"colab-df-container\">\n",
              "    <div>\n",
              "<style scoped>\n",
              "    .dataframe tbody tr th:only-of-type {\n",
              "        vertical-align: middle;\n",
              "    }\n",
              "\n",
              "    .dataframe tbody tr th {\n",
              "        vertical-align: top;\n",
              "    }\n",
              "\n",
              "    .dataframe thead th {\n",
              "        text-align: right;\n",
              "    }\n",
              "</style>\n",
              "<table border=\"1\" class=\"dataframe\">\n",
              "  <thead>\n",
              "    <tr style=\"text-align: right;\">\n",
              "      <th>exp_id</th>\n",
              "      <th>246</th>\n",
              "      <th>247</th>\n",
              "      <th>248</th>\n",
              "      <th>246_and_247</th>\n",
              "    </tr>\n",
              "  </thead>\n",
              "  <tbody>\n",
              "    <tr>\n",
              "      <th>device_id_hash</th>\n",
              "      <td>2483</td>\n",
              "      <td>2512</td>\n",
              "      <td>2535</td>\n",
              "      <td>4995</td>\n",
              "    </tr>\n",
              "  </tbody>\n",
              "</table>\n",
              "</div>\n",
              "    <div class=\"colab-df-buttons\">\n",
              "\n",
              "  <div class=\"colab-df-container\">\n",
              "    <button class=\"colab-df-convert\" onclick=\"convertToInteractive('df-52dd5350-9679-4558-bf56-760d995a8dc1')\"\n",
              "            title=\"Convert this dataframe to an interactive table.\"\n",
              "            style=\"display:none;\">\n",
              "\n",
              "  <svg xmlns=\"http://www.w3.org/2000/svg\" height=\"24px\" viewBox=\"0 -960 960 960\">\n",
              "    <path d=\"M120-120v-720h720v720H120Zm60-500h600v-160H180v160Zm220 220h160v-160H400v160Zm0 220h160v-160H400v160ZM180-400h160v-160H180v160Zm440 0h160v-160H620v160ZM180-180h160v-160H180v160Zm440 0h160v-160H620v160Z\"/>\n",
              "  </svg>\n",
              "    </button>\n",
              "\n",
              "  <style>\n",
              "    .colab-df-container {\n",
              "      display:flex;\n",
              "      gap: 12px;\n",
              "    }\n",
              "\n",
              "    .colab-df-convert {\n",
              "      background-color: #E8F0FE;\n",
              "      border: none;\n",
              "      border-radius: 50%;\n",
              "      cursor: pointer;\n",
              "      display: none;\n",
              "      fill: #1967D2;\n",
              "      height: 32px;\n",
              "      padding: 0 0 0 0;\n",
              "      width: 32px;\n",
              "    }\n",
              "\n",
              "    .colab-df-convert:hover {\n",
              "      background-color: #E2EBFA;\n",
              "      box-shadow: 0px 1px 2px rgba(60, 64, 67, 0.3), 0px 1px 3px 1px rgba(60, 64, 67, 0.15);\n",
              "      fill: #174EA6;\n",
              "    }\n",
              "\n",
              "    .colab-df-buttons div {\n",
              "      margin-bottom: 4px;\n",
              "    }\n",
              "\n",
              "    [theme=dark] .colab-df-convert {\n",
              "      background-color: #3B4455;\n",
              "      fill: #D2E3FC;\n",
              "    }\n",
              "\n",
              "    [theme=dark] .colab-df-convert:hover {\n",
              "      background-color: #434B5C;\n",
              "      box-shadow: 0px 1px 3px 1px rgba(0, 0, 0, 0.15);\n",
              "      filter: drop-shadow(0px 1px 2px rgba(0, 0, 0, 0.3));\n",
              "      fill: #FFFFFF;\n",
              "    }\n",
              "  </style>\n",
              "\n",
              "    <script>\n",
              "      const buttonEl =\n",
              "        document.querySelector('#df-52dd5350-9679-4558-bf56-760d995a8dc1 button.colab-df-convert');\n",
              "      buttonEl.style.display =\n",
              "        google.colab.kernel.accessAllowed ? 'block' : 'none';\n",
              "\n",
              "      async function convertToInteractive(key) {\n",
              "        const element = document.querySelector('#df-52dd5350-9679-4558-bf56-760d995a8dc1');\n",
              "        const dataTable =\n",
              "          await google.colab.kernel.invokeFunction('convertToInteractive',\n",
              "                                                    [key], {});\n",
              "        if (!dataTable) return;\n",
              "\n",
              "        const docLinkHtml = 'Like what you see? Visit the ' +\n",
              "          '<a target=\"_blank\" href=https://colab.research.google.com/notebooks/data_table.ipynb>data table notebook</a>'\n",
              "          + ' to learn more about interactive tables.';\n",
              "        element.innerHTML = '';\n",
              "        dataTable['output_type'] = 'display_data';\n",
              "        await google.colab.output.renderOutput(dataTable, element);\n",
              "        const docLink = document.createElement('div');\n",
              "        docLink.innerHTML = docLinkHtml;\n",
              "        element.appendChild(docLink);\n",
              "      }\n",
              "    </script>\n",
              "  </div>\n",
              "\n",
              "    </div>\n",
              "  </div>\n"
            ]
          },
          "metadata": {},
          "execution_count": 127
        }
      ],
      "source": [
        "users_in_each_group['246_and_247'] = users_in_each_group[246] + users_in_each_group[247]\n",
        "users_in_each_group"
      ]
    },
    {
      "cell_type": "code",
      "execution_count": null,
      "metadata": {
        "colab": {
          "base_uri": "https://localhost:8080/",
          "height": 206
        },
        "id": "ImItn2TrNNu6",
        "outputId": "e7dc196b-6ad7-4d01-d5be-b599b2c0c3f4"
      },
      "outputs": [
        {
          "output_type": "execute_result",
          "data": {
            "text/plain": [
              "exp_id                      246     247     248  246_and_247\n",
              "event_name                                                  \n",
              "MainScreenAppear         0.9867  0.9857  0.9834       0.9862\n",
              "OffersScreenAppear       0.6210  0.6051  0.6039       0.6130\n",
              "CartScreenAppear         0.5099  0.4928  0.4852       0.5013\n",
              "PaymentScreenSuccessful  0.4833  0.4610  0.4659       0.4721"
            ],
            "text/html": [
              "\n",
              "  <div id=\"df-0a40a15c-df47-4c47-9da4-f60b14927230\" class=\"colab-df-container\">\n",
              "    <div>\n",
              "<style scoped>\n",
              "    .dataframe tbody tr th:only-of-type {\n",
              "        vertical-align: middle;\n",
              "    }\n",
              "\n",
              "    .dataframe tbody tr th {\n",
              "        vertical-align: top;\n",
              "    }\n",
              "\n",
              "    .dataframe thead th {\n",
              "        text-align: right;\n",
              "    }\n",
              "</style>\n",
              "<table border=\"1\" class=\"dataframe\">\n",
              "  <thead>\n",
              "    <tr style=\"text-align: right;\">\n",
              "      <th>exp_id</th>\n",
              "      <th>246</th>\n",
              "      <th>247</th>\n",
              "      <th>248</th>\n",
              "      <th>246_and_247</th>\n",
              "    </tr>\n",
              "    <tr>\n",
              "      <th>event_name</th>\n",
              "      <th></th>\n",
              "      <th></th>\n",
              "      <th></th>\n",
              "      <th></th>\n",
              "    </tr>\n",
              "  </thead>\n",
              "  <tbody>\n",
              "    <tr>\n",
              "      <th>MainScreenAppear</th>\n",
              "      <td>0.9867</td>\n",
              "      <td>0.9857</td>\n",
              "      <td>0.9834</td>\n",
              "      <td>0.9862</td>\n",
              "    </tr>\n",
              "    <tr>\n",
              "      <th>OffersScreenAppear</th>\n",
              "      <td>0.6210</td>\n",
              "      <td>0.6051</td>\n",
              "      <td>0.6039</td>\n",
              "      <td>0.6130</td>\n",
              "    </tr>\n",
              "    <tr>\n",
              "      <th>CartScreenAppear</th>\n",
              "      <td>0.5099</td>\n",
              "      <td>0.4928</td>\n",
              "      <td>0.4852</td>\n",
              "      <td>0.5013</td>\n",
              "    </tr>\n",
              "    <tr>\n",
              "      <th>PaymentScreenSuccessful</th>\n",
              "      <td>0.4833</td>\n",
              "      <td>0.4610</td>\n",
              "      <td>0.4659</td>\n",
              "      <td>0.4721</td>\n",
              "    </tr>\n",
              "  </tbody>\n",
              "</table>\n",
              "</div>\n",
              "    <div class=\"colab-df-buttons\">\n",
              "\n",
              "  <div class=\"colab-df-container\">\n",
              "    <button class=\"colab-df-convert\" onclick=\"convertToInteractive('df-0a40a15c-df47-4c47-9da4-f60b14927230')\"\n",
              "            title=\"Convert this dataframe to an interactive table.\"\n",
              "            style=\"display:none;\">\n",
              "\n",
              "  <svg xmlns=\"http://www.w3.org/2000/svg\" height=\"24px\" viewBox=\"0 -960 960 960\">\n",
              "    <path d=\"M120-120v-720h720v720H120Zm60-500h600v-160H180v160Zm220 220h160v-160H400v160Zm0 220h160v-160H400v160ZM180-400h160v-160H180v160Zm440 0h160v-160H620v160ZM180-180h160v-160H180v160Zm440 0h160v-160H620v160Z\"/>\n",
              "  </svg>\n",
              "    </button>\n",
              "\n",
              "  <style>\n",
              "    .colab-df-container {\n",
              "      display:flex;\n",
              "      gap: 12px;\n",
              "    }\n",
              "\n",
              "    .colab-df-convert {\n",
              "      background-color: #E8F0FE;\n",
              "      border: none;\n",
              "      border-radius: 50%;\n",
              "      cursor: pointer;\n",
              "      display: none;\n",
              "      fill: #1967D2;\n",
              "      height: 32px;\n",
              "      padding: 0 0 0 0;\n",
              "      width: 32px;\n",
              "    }\n",
              "\n",
              "    .colab-df-convert:hover {\n",
              "      background-color: #E2EBFA;\n",
              "      box-shadow: 0px 1px 2px rgba(60, 64, 67, 0.3), 0px 1px 3px 1px rgba(60, 64, 67, 0.15);\n",
              "      fill: #174EA6;\n",
              "    }\n",
              "\n",
              "    .colab-df-buttons div {\n",
              "      margin-bottom: 4px;\n",
              "    }\n",
              "\n",
              "    [theme=dark] .colab-df-convert {\n",
              "      background-color: #3B4455;\n",
              "      fill: #D2E3FC;\n",
              "    }\n",
              "\n",
              "    [theme=dark] .colab-df-convert:hover {\n",
              "      background-color: #434B5C;\n",
              "      box-shadow: 0px 1px 3px 1px rgba(0, 0, 0, 0.15);\n",
              "      filter: drop-shadow(0px 1px 2px rgba(0, 0, 0, 0.3));\n",
              "      fill: #FFFFFF;\n",
              "    }\n",
              "  </style>\n",
              "\n",
              "    <script>\n",
              "      const buttonEl =\n",
              "        document.querySelector('#df-0a40a15c-df47-4c47-9da4-f60b14927230 button.colab-df-convert');\n",
              "      buttonEl.style.display =\n",
              "        google.colab.kernel.accessAllowed ? 'block' : 'none';\n",
              "\n",
              "      async function convertToInteractive(key) {\n",
              "        const element = document.querySelector('#df-0a40a15c-df47-4c47-9da4-f60b14927230');\n",
              "        const dataTable =\n",
              "          await google.colab.kernel.invokeFunction('convertToInteractive',\n",
              "                                                    [key], {});\n",
              "        if (!dataTable) return;\n",
              "\n",
              "        const docLinkHtml = 'Like what you see? Visit the ' +\n",
              "          '<a target=\"_blank\" href=https://colab.research.google.com/notebooks/data_table.ipynb>data table notebook</a>'\n",
              "          + ' to learn more about interactive tables.';\n",
              "        element.innerHTML = '';\n",
              "        dataTable['output_type'] = 'display_data';\n",
              "        await google.colab.output.renderOutput(dataTable, element);\n",
              "        const docLink = document.createElement('div');\n",
              "        docLink.innerHTML = docLinkHtml;\n",
              "        element.appendChild(docLink);\n",
              "      }\n",
              "    </script>\n",
              "  </div>\n",
              "\n",
              "\n",
              "<div id=\"df-97f6b242-125b-47a3-a925-fc958538ce42\">\n",
              "  <button class=\"colab-df-quickchart\" onclick=\"quickchart('df-97f6b242-125b-47a3-a925-fc958538ce42')\"\n",
              "            title=\"Suggest charts.\"\n",
              "            style=\"display:none;\">\n",
              "\n",
              "<svg xmlns=\"http://www.w3.org/2000/svg\" height=\"24px\"viewBox=\"0 0 24 24\"\n",
              "     width=\"24px\">\n",
              "    <g>\n",
              "        <path d=\"M19 3H5c-1.1 0-2 .9-2 2v14c0 1.1.9 2 2 2h14c1.1 0 2-.9 2-2V5c0-1.1-.9-2-2-2zM9 17H7v-7h2v7zm4 0h-2V7h2v10zm4 0h-2v-4h2v4z\"/>\n",
              "    </g>\n",
              "</svg>\n",
              "  </button>\n",
              "\n",
              "<style>\n",
              "  .colab-df-quickchart {\n",
              "      --bg-color: #E8F0FE;\n",
              "      --fill-color: #1967D2;\n",
              "      --hover-bg-color: #E2EBFA;\n",
              "      --hover-fill-color: #174EA6;\n",
              "      --disabled-fill-color: #AAA;\n",
              "      --disabled-bg-color: #DDD;\n",
              "  }\n",
              "\n",
              "  [theme=dark] .colab-df-quickchart {\n",
              "      --bg-color: #3B4455;\n",
              "      --fill-color: #D2E3FC;\n",
              "      --hover-bg-color: #434B5C;\n",
              "      --hover-fill-color: #FFFFFF;\n",
              "      --disabled-bg-color: #3B4455;\n",
              "      --disabled-fill-color: #666;\n",
              "  }\n",
              "\n",
              "  .colab-df-quickchart {\n",
              "    background-color: var(--bg-color);\n",
              "    border: none;\n",
              "    border-radius: 50%;\n",
              "    cursor: pointer;\n",
              "    display: none;\n",
              "    fill: var(--fill-color);\n",
              "    height: 32px;\n",
              "    padding: 0;\n",
              "    width: 32px;\n",
              "  }\n",
              "\n",
              "  .colab-df-quickchart:hover {\n",
              "    background-color: var(--hover-bg-color);\n",
              "    box-shadow: 0 1px 2px rgba(60, 64, 67, 0.3), 0 1px 3px 1px rgba(60, 64, 67, 0.15);\n",
              "    fill: var(--button-hover-fill-color);\n",
              "  }\n",
              "\n",
              "  .colab-df-quickchart-complete:disabled,\n",
              "  .colab-df-quickchart-complete:disabled:hover {\n",
              "    background-color: var(--disabled-bg-color);\n",
              "    fill: var(--disabled-fill-color);\n",
              "    box-shadow: none;\n",
              "  }\n",
              "\n",
              "  .colab-df-spinner {\n",
              "    border: 2px solid var(--fill-color);\n",
              "    border-color: transparent;\n",
              "    border-bottom-color: var(--fill-color);\n",
              "    animation:\n",
              "      spin 1s steps(1) infinite;\n",
              "  }\n",
              "\n",
              "  @keyframes spin {\n",
              "    0% {\n",
              "      border-color: transparent;\n",
              "      border-bottom-color: var(--fill-color);\n",
              "      border-left-color: var(--fill-color);\n",
              "    }\n",
              "    20% {\n",
              "      border-color: transparent;\n",
              "      border-left-color: var(--fill-color);\n",
              "      border-top-color: var(--fill-color);\n",
              "    }\n",
              "    30% {\n",
              "      border-color: transparent;\n",
              "      border-left-color: var(--fill-color);\n",
              "      border-top-color: var(--fill-color);\n",
              "      border-right-color: var(--fill-color);\n",
              "    }\n",
              "    40% {\n",
              "      border-color: transparent;\n",
              "      border-right-color: var(--fill-color);\n",
              "      border-top-color: var(--fill-color);\n",
              "    }\n",
              "    60% {\n",
              "      border-color: transparent;\n",
              "      border-right-color: var(--fill-color);\n",
              "    }\n",
              "    80% {\n",
              "      border-color: transparent;\n",
              "      border-right-color: var(--fill-color);\n",
              "      border-bottom-color: var(--fill-color);\n",
              "    }\n",
              "    90% {\n",
              "      border-color: transparent;\n",
              "      border-bottom-color: var(--fill-color);\n",
              "    }\n",
              "  }\n",
              "</style>\n",
              "\n",
              "  <script>\n",
              "    async function quickchart(key) {\n",
              "      const quickchartButtonEl =\n",
              "        document.querySelector('#' + key + ' button');\n",
              "      quickchartButtonEl.disabled = true;  // To prevent multiple clicks.\n",
              "      quickchartButtonEl.classList.add('colab-df-spinner');\n",
              "      try {\n",
              "        const charts = await google.colab.kernel.invokeFunction(\n",
              "            'suggestCharts', [key], {});\n",
              "      } catch (error) {\n",
              "        console.error('Error during call to suggestCharts:', error);\n",
              "      }\n",
              "      quickchartButtonEl.classList.remove('colab-df-spinner');\n",
              "      quickchartButtonEl.classList.add('colab-df-quickchart-complete');\n",
              "    }\n",
              "    (() => {\n",
              "      let quickchartButtonEl =\n",
              "        document.querySelector('#df-97f6b242-125b-47a3-a925-fc958538ce42 button');\n",
              "      quickchartButtonEl.style.display =\n",
              "        google.colab.kernel.accessAllowed ? 'block' : 'none';\n",
              "    })();\n",
              "  </script>\n",
              "</div>\n",
              "    </div>\n",
              "  </div>\n"
            ]
          },
          "metadata": {},
          "execution_count": 128
        }
      ],
      "source": [
        "share_in_each_group['246_and_247'] = round(events_in_each_group[['246_and_247']]\n",
        "                                           .div(users_in_each_group.loc['device_id_hash','246_and_247']),4)\n",
        "share_in_each_group"
      ]
    },
    {
      "cell_type": "markdown",
      "metadata": {
        "id": "8e6n-3a7NNu6"
      },
      "source": [
        "**Сравним группы 246 и 248**"
      ]
    },
    {
      "cell_type": "code",
      "execution_count": null,
      "metadata": {
        "scrolled": true,
        "colab": {
          "base_uri": "https://localhost:8080/"
        },
        "id": "jPjrKl0WNNu6",
        "outputId": "63dc7118-f74d-492f-ed6c-748b5066c231"
      },
      "outputs": [
        {
          "output_type": "stream",
          "name": "stdout",
          "text": [
            "p-value при сравнения долей двух групп для события MainScreenAppear: 0.3387114076159288\n",
            "Не получилось отвергнуть нулевую гипотезу для сравнения двух групп, совершивших событие MainScreenAppear\n",
            "\n",
            "p-value при сравнения долей двух групп для события OffersScreenAppear: 0.21442476639710506\n",
            "Не получилось отвергнуть нулевую гипотезу для сравнения двух групп, совершивших событие OffersScreenAppear\n",
            "\n",
            "p-value при сравнения долей двух групп для события CartScreenAppear: 0.08067367598823139\n",
            "Не получилось отвергнуть нулевую гипотезу для сравнения двух групп, совершивших событие CartScreenAppear\n",
            "\n",
            "p-value при сравнения долей двух групп для события PaymentScreenSuccessful: 0.21693033984516674\n",
            "Не получилось отвергнуть нулевую гипотезу для сравнения двух групп, совершивших событие PaymentScreenSuccessful\n",
            "\n"
          ]
        }
      ],
      "source": [
        "for event in events_in_each_group.index:\n",
        "    # используем функцию для расчёта p_value для сравнения каждого события для двух групп.\n",
        "    hypothesis_about_equality_shares_between_2_events(246, 248, 0.05, 16)\n"
      ]
    },
    {
      "cell_type": "markdown",
      "metadata": {
        "id": "7MfVKqk9NNu6"
      },
      "source": [
        "Статистические критерии разницу между выборками 246 и 248 не находят."
      ]
    },
    {
      "cell_type": "markdown",
      "metadata": {
        "id": "wLk20wvlNNu7"
      },
      "source": [
        "**Сравним группы 247 и 248**"
      ]
    },
    {
      "cell_type": "code",
      "execution_count": null,
      "metadata": {
        "scrolled": true,
        "colab": {
          "base_uri": "https://localhost:8080/"
        },
        "id": "ZxNAVCQENNu7",
        "outputId": "5310445b-43cc-4e58-8a66-55a6262dbda6"
      },
      "outputs": [
        {
          "output_type": "stream",
          "name": "stdout",
          "text": [
            "p-value при сравнения долей двух групп для события MainScreenAppear: 0.5194964354051703\n",
            "Не получилось отвергнуть нулевую гипотезу для сравнения двух групп, совершивших событие MainScreenAppear\n",
            "\n",
            "p-value при сравнения долей двух групп для события OffersScreenAppear: 0.9333751305879443\n",
            "Не получилось отвергнуть нулевую гипотезу для сравнения двух групп, совершивших событие OffersScreenAppear\n",
            "\n",
            "p-value при сравнения долей двух групп для события CartScreenAppear: 0.5878284605111943\n",
            "Не получилось отвергнуть нулевую гипотезу для сравнения двух групп, совершивших событие CartScreenAppear\n",
            "\n",
            "p-value при сравнения долей двух групп для события PaymentScreenSuccessful: 0.7275718682261119\n",
            "Не получилось отвергнуть нулевую гипотезу для сравнения двух групп, совершивших событие PaymentScreenSuccessful\n",
            "\n"
          ]
        }
      ],
      "source": [
        "for event in events_in_each_group.index:\n",
        "    # используем функцию для расчёта p_value для сравнения каждого события для двух групп.\n",
        "    hypothesis_about_equality_shares_between_2_events(247, 248, 0.05, 16)\n"
      ]
    },
    {
      "cell_type": "markdown",
      "metadata": {
        "id": "D2noD9JINNu7"
      },
      "source": [
        "Статистические критерии разницу между выборками 246 и 248 не находят."
      ]
    },
    {
      "cell_type": "markdown",
      "metadata": {
        "id": "5GIBszwCNNu7"
      },
      "source": [
        "**Сравним объединённую группу из контрольных групп 246 и 247 с группой 248**"
      ]
    },
    {
      "cell_type": "code",
      "execution_count": null,
      "metadata": {
        "scrolled": true,
        "colab": {
          "base_uri": "https://localhost:8080/"
        },
        "id": "dn4-knSrNNu7",
        "outputId": "be93dccb-bfb8-4b2f-db84-d9d788042d5f"
      },
      "outputs": [
        {
          "output_type": "stream",
          "name": "stdout",
          "text": [
            "p-value при сравнения долей двух групп для события MainScreenAppear: 0.3486684291093256\n",
            "Не получилось отвергнуть нулевую гипотезу для сравнения двух групп, совершивших событие MainScreenAppear\n",
            "\n",
            "p-value при сравнения долей двух групп для события OffersScreenAppear: 0.44582745409482394\n",
            "Не получилось отвергнуть нулевую гипотезу для сравнения двух групп, совершивших событие OffersScreenAppear\n",
            "\n",
            "p-value при сравнения долей двух групп для события CartScreenAppear: 0.18683558686831558\n",
            "Не получилось отвергнуть нулевую гипотезу для сравнения двух групп, совершивших событие CartScreenAppear\n",
            "\n",
            "p-value при сравнения долей двух групп для события PaymentScreenSuccessful: 0.6107918742187335\n",
            "Не получилось отвергнуть нулевую гипотезу для сравнения двух групп, совершивших событие PaymentScreenSuccessful\n",
            "\n"
          ]
        }
      ],
      "source": [
        "for event in events_in_each_group.index:\n",
        "    # используем функцию для расчёта p_value для сравнения каждого события для двух групп.\n",
        "    hypothesis_about_equality_shares_between_2_events('246_and_247', 248, 0.05, 16)\n"
      ]
    },
    {
      "cell_type": "markdown",
      "metadata": {
        "id": "pT1xScAtNNu8"
      },
      "source": [
        "Статистические критерии разницу между объединённой группой 246 и 247 с группой 248 не находят."
      ]
    },
    {
      "cell_type": "markdown",
      "metadata": {
        "id": "dtoQ6erbNNu8"
      },
      "source": [
        "Мы провели 16 проверок, и ни одна из них не опровергла гипотезу H₀ о равенстве долей 2-х групп. По результатам эксперимента мы не отвергаем нулевую гипотезу."
      ]
    },
    {
      "cell_type": "markdown",
      "metadata": {
        "id": "WXVewY2fNNu8"
      },
      "source": [
        "### Шаг 5.5. Какой уровень значимости вы выбрали при проверке статистических гипотез выше? Посчитайте, сколько проверок статистических гипотез вы сделали. При уровне значимости 0.1 каждый десятый раз можно получать ложный результат. Какой уровень значимости стоит применить? Если вы хотите изменить его, проделайте предыдущие пункты и проверьте свои выводы."
      ]
    },
    {
      "cell_type": "markdown",
      "metadata": {
        "id": "9DJvvVhhNNu8"
      },
      "source": [
        "При проверке статистических гипотез был выбран уровень значимости, равный 5%, так как данный уровень значимости является общепринятым. Было сделано 16 проверок статистических гипотез."
      ]
    },
    {
      "cell_type": "markdown",
      "metadata": {
        "id": "Hu790aiFNNu8"
      },
      "source": [
        "**Сделаем проверку для уровня статистической значимости, равного 10%.**"
      ]
    },
    {
      "cell_type": "markdown",
      "metadata": {
        "id": "lZK7CC7eNNu8"
      },
      "source": [
        "Нулевая гипотеза: Статистически значимых различий нет для доли пользователей, совершивших каждое из событий, к общему количеству человек в соответствующей группе.\n",
        "\n",
        "Альтернативная гипотеза: Статистически значимые различия есть для доли пользователей, совершивших каждое из событий, к общему количеству человек в соответствующей группе.  \n",
        "\n",
        "Примем уровень статистической значимости, равный 10%."
      ]
    },
    {
      "cell_type": "code",
      "execution_count": null,
      "metadata": {
        "colab": {
          "base_uri": "https://localhost:8080/"
        },
        "id": "w3KyhQj6NNu9",
        "outputId": "0e85dde4-7425-4b29-e799-99e572eb4b2c"
      },
      "outputs": [
        {
          "output_type": "stream",
          "name": "stdout",
          "text": [
            "p-value при сравнения долей двух групп для события MainScreenAppear: 0.7526703436483038\n",
            "Не получилось отвергнуть нулевую гипотезу для сравнения двух групп, совершивших событие MainScreenAppear\n",
            "\n",
            "p-value при сравнения долей двух групп для события OffersScreenAppear: 0.24786096925282264\n",
            "Не получилось отвергнуть нулевую гипотезу для сравнения двух групп, совершивших событие OffersScreenAppear\n",
            "\n",
            "p-value при сравнения долей двух групп для события CartScreenAppear: 0.22867643757335676\n",
            "Не получилось отвергнуть нулевую гипотезу для сравнения двух групп, совершивших событие CartScreenAppear\n",
            "\n",
            "p-value при сравнения долей двух групп для события PaymentScreenSuccessful: 0.11446627829276612\n",
            "Не получилось отвергнуть нулевую гипотезу для сравнения двух групп, совершивших событие PaymentScreenSuccessful\n",
            "\n"
          ]
        }
      ],
      "source": [
        "# сравним группы 246 и 247\n",
        "for event in events_in_each_group.index:\n",
        "    # используем функцию для расчёта p_value для сравнения каждого события для двух групп.\n",
        "    hypothesis_about_equality_shares_between_2_events(246, 247, 0.1, 16)"
      ]
    },
    {
      "cell_type": "code",
      "execution_count": null,
      "metadata": {
        "colab": {
          "base_uri": "https://localhost:8080/"
        },
        "id": "GcBMcCxtNNu9",
        "outputId": "f111b354-4881-4b38-928a-f25b869ff315"
      },
      "outputs": [
        {
          "output_type": "stream",
          "name": "stdout",
          "text": [
            "p-value при сравнения долей двух групп для события MainScreenAppear: 0.3387114076159288\n",
            "Не получилось отвергнуть нулевую гипотезу для сравнения двух групп, совершивших событие MainScreenAppear\n",
            "\n",
            "p-value при сравнения долей двух групп для события OffersScreenAppear: 0.21442476639710506\n",
            "Не получилось отвергнуть нулевую гипотезу для сравнения двух групп, совершивших событие OffersScreenAppear\n",
            "\n",
            "p-value при сравнения долей двух групп для события CartScreenAppear: 0.08067367598823139\n",
            "Не получилось отвергнуть нулевую гипотезу для сравнения двух групп, совершивших событие CartScreenAppear\n",
            "\n",
            "p-value при сравнения долей двух групп для события PaymentScreenSuccessful: 0.21693033984516674\n",
            "Не получилось отвергнуть нулевую гипотезу для сравнения двух групп, совершивших событие PaymentScreenSuccessful\n",
            "\n"
          ]
        }
      ],
      "source": [
        "# сравним группы 246 и 248\n",
        "for event in events_in_each_group.index:\n",
        "    # используем функцию для расчёта p_value для сравнения каждого события для двух групп.\n",
        "    hypothesis_about_equality_shares_between_2_events(246, 248, 0.1, 16)"
      ]
    },
    {
      "cell_type": "code",
      "execution_count": null,
      "metadata": {
        "colab": {
          "base_uri": "https://localhost:8080/"
        },
        "id": "oqr1bE7fNNu9",
        "outputId": "03bd4eb6-bf8b-4427-c9c7-2b4fc5197769"
      },
      "outputs": [
        {
          "output_type": "stream",
          "name": "stdout",
          "text": [
            "p-value при сравнения долей двух групп для события MainScreenAppear: 0.5194964354051703\n",
            "Не получилось отвергнуть нулевую гипотезу для сравнения двух групп, совершивших событие MainScreenAppear\n",
            "\n",
            "p-value при сравнения долей двух групп для события OffersScreenAppear: 0.9333751305879443\n",
            "Не получилось отвергнуть нулевую гипотезу для сравнения двух групп, совершивших событие OffersScreenAppear\n",
            "\n",
            "p-value при сравнения долей двух групп для события CartScreenAppear: 0.5878284605111943\n",
            "Не получилось отвергнуть нулевую гипотезу для сравнения двух групп, совершивших событие CartScreenAppear\n",
            "\n",
            "p-value при сравнения долей двух групп для события PaymentScreenSuccessful: 0.7275718682261119\n",
            "Не получилось отвергнуть нулевую гипотезу для сравнения двух групп, совершивших событие PaymentScreenSuccessful\n",
            "\n"
          ]
        }
      ],
      "source": [
        "# сравним группы 247 и 248\n",
        "for event in events_in_each_group.index:\n",
        "    # используем функцию для расчёта p_value для сравнения каждого события для двух групп.\n",
        "    hypothesis_about_equality_shares_between_2_events(247, 248, 0.1, 16)"
      ]
    },
    {
      "cell_type": "code",
      "execution_count": null,
      "metadata": {
        "colab": {
          "base_uri": "https://localhost:8080/"
        },
        "id": "luB6GIqTNNu9",
        "outputId": "dca23f8c-93a8-4258-f394-25b6373ef2b4"
      },
      "outputs": [
        {
          "output_type": "stream",
          "name": "stdout",
          "text": [
            "p-value при сравнения долей двух групп для события MainScreenAppear: 0.3486684291093256\n",
            "Не получилось отвергнуть нулевую гипотезу для сравнения двух групп, совершивших событие MainScreenAppear\n",
            "\n",
            "p-value при сравнения долей двух групп для события OffersScreenAppear: 0.44582745409482394\n",
            "Не получилось отвергнуть нулевую гипотезу для сравнения двух групп, совершивших событие OffersScreenAppear\n",
            "\n",
            "p-value при сравнения долей двух групп для события CartScreenAppear: 0.18683558686831558\n",
            "Не получилось отвергнуть нулевую гипотезу для сравнения двух групп, совершивших событие CartScreenAppear\n",
            "\n",
            "p-value при сравнения долей двух групп для события PaymentScreenSuccessful: 0.6107918742187335\n",
            "Не получилось отвергнуть нулевую гипотезу для сравнения двух групп, совершивших событие PaymentScreenSuccessful\n",
            "\n"
          ]
        }
      ],
      "source": [
        "# сравним объединённую группу из контрольных групп 246 и 247 с группой 248\n",
        "for event in events_in_each_group.index:\n",
        "    # используем функцию для расчёта p_value для сравнения каждого события для двух групп.\n",
        "    hypothesis_about_equality_shares_between_2_events('246_and_247', 248, 0.1, 16)"
      ]
    },
    {
      "cell_type": "markdown",
      "metadata": {
        "id": "j-KlbQPuNNu-"
      },
      "source": [
        "Ни в одной из проверок мы не смогли отвергнуть нулевую гипотезу для уровня статистической значимости 10%.\n",
        "Сделаем вывод, что  изменение шрифта не повлияло ни на один этап воронки продаж."
      ]
    },
    {
      "cell_type": "markdown",
      "metadata": {
        "id": "x1z28ffcNNu-"
      },
      "source": [
        "**Вывод к главе 5**  \n",
        "\n",
        "- Выяснили, что в группе 246 - 2483 пользователя; в группе 247 - 2512 пользователей; в группе 248 - 2535 пользователей.   \n",
        "- Мы проверили нулевую гипотезу с уровнем статистической значимости 5%, а также с уровнем статистической значимости 10%. Таким образом, мы  совершили 16 проверок с уровнем статистической значимости 5%, а также 16 проверок нулевой гипотезы с уровнем статистической значимости 10%. Ни одна из проверок не опровергла гипотезу H₀ о том, что статистически значимых различий нет для доли пользователей, совершивших каждое из событий, к общему количеству человек в соответствующей группе. Из этого можем сделать вывод, что при изменении шрифта в приложении, это не повлияет на конверсию."
      ]
    },
    {
      "cell_type": "markdown",
      "metadata": {
        "id": "yfDTbunvNNu-"
      },
      "source": [
        "## Шаг 6. Общий вывод.\n",
        "\n",
        "1. На первом шаге мы открыли файл '/datasets/logs_exp.csv' и назвали его logs.\n",
        "2. На втором шаге выяснили, что в датафрейме logs четыре столбца. Изменили названия столбцов на привычный змеиный регистр: 'event_name', 'device_id_hash', 'event_timestamp', 'exp_id'. Обнаружили, что пропусков в датафрейме нет. Зато есть явные дубликаты в количестве 413 строк, которые мы удалили. Добавили два столбца 'datetime' и 'date': первый - с датой и временем, второй - только с датой.  \n",
        "3. На третьем шаге выяснили, что в логе 243713 событий и 7551 пользователей. По гистограмме даты и времени событий выяснили, что только с 2019-08-01 данные полные, поэтому отбросим более старые данные. На самом деле располагаем данными с 2019-08-01 по 2019-08-07. Отбросив старые данные, мы потеряли 2826 событий и 17 пользователей. Убедились, что в отфильтрованных данных остались пользователи из всех трёх экспериментальных групп, а также в том, что нет пользователей, которые одновременно присутствуют в разных группах.\n",
        "4. На шаге 4:\n",
        "    - Выяснили, что в логах всего 5 событий: MainScreenAppear, OffersScreenAppear, CartScreenAppear, PaymentScreenSuccessful, Tutorial. Самое популярное событие - MainScreenAppear, оно встречается 117328 раз.  \n",
        "    - Посчитали, сколько уникальных пользователей совершили каждое из событий. Также отобразили процент пользователей, совершивших событие, к общему числу пользователей в колонке 'percent_of_all_unique_devices,%'.\n",
        "    - События могут происходить в следующем порядке по убыванию процентов в столбце 'percent_of_all_unique_devices,%': MainScreenAppear -> OffersScreenAppear -> CartScreenAppear -> PaymentScreenSuccessful. Tutorial может появляться после любой из страниц, которые мы указали ранее, у нас нет данных об этом. Поэтому мы не будем далее в воронке рассматривать это событие.\n",
        "    - Далее по воронке событий посчитали, какая доля пользователей проходит на следующий шаг воронки (от числа пользователей на предыдущем). Конверсия события 'MainScreenAppear' от общего числа уникальных пользователей - 98.47%; конверсия 'OffersScreenAppear' от 'MainScreenAppear' - 61.91%; конверсия события 'CartScreenAppear' от 'OffersScreenAppear' - 81.30%; конверсия события 'PaymentScreenSuccessful' от события 'OffersScreenAppear' - 94.78%.  \n",
        "    - Выяснили, что на шаге OffersScreenAppear теряем больше всего пользователей.\n",
        "    - 47.70% пользователей доходит от первого события до оплаты.\n",
        "5. На шаге 5 выяснили, что в группе 246 - 2483 пользователя; в группе 247 - 2512 пользователей; в группе 248 - 2535 пользователей. Мы проверили нулевую гипотезу с уровнем статистической значимости 5%, а также с уровнем статистической значимости 10%. Таким образом, мы совершили 16 проверок с уровнем статистической значимости 5%, а также 16 проверок нулевой гипотезы с уровнем статистической значимости 10%. Ни одна из проверок не опровергла гипотезу H₀ о том, что статистически значимых различий нет для доли пользователей, совершивших каждое из событий, к общему количеству человек в соответствующей группе. Из этого можем сделать вывод, что при изменении шрифта в приложении, это не повлияет на конверсию."
      ]
    }
  ],
  "metadata": {
    "ExecuteTimeLog": [
      {
        "duration": 90,
        "start_time": "2023-05-13T11:17:41.888Z"
      },
      {
        "duration": 73,
        "start_time": "2023-05-13T11:17:56.916Z"
      },
      {
        "duration": 2251,
        "start_time": "2023-05-13T13:36:24.953Z"
      },
      {
        "duration": 23,
        "start_time": "2023-05-13T13:37:06.391Z"
      },
      {
        "duration": 1494,
        "start_time": "2023-05-13T13:37:57.947Z"
      },
      {
        "duration": 175,
        "start_time": "2023-05-13T13:38:13.448Z"
      },
      {
        "duration": 131,
        "start_time": "2023-05-13T13:38:24.599Z"
      },
      {
        "duration": 478,
        "start_time": "2023-05-13T13:38:31.849Z"
      },
      {
        "duration": 227,
        "start_time": "2023-05-13T13:38:39.129Z"
      },
      {
        "duration": 261,
        "start_time": "2023-05-13T13:39:14.597Z"
      },
      {
        "duration": 699,
        "start_time": "2023-05-13T13:52:04.376Z"
      },
      {
        "duration": 21,
        "start_time": "2023-05-13T13:57:02.579Z"
      },
      {
        "duration": 74,
        "start_time": "2023-05-13T13:58:41.352Z"
      },
      {
        "duration": 7,
        "start_time": "2023-05-13T13:59:36.932Z"
      },
      {
        "duration": 16,
        "start_time": "2023-05-13T14:11:42.768Z"
      },
      {
        "duration": 269,
        "start_time": "2023-05-13T14:15:37.961Z"
      },
      {
        "duration": 121,
        "start_time": "2023-05-13T14:16:01.024Z"
      },
      {
        "duration": 1713,
        "start_time": "2023-05-13T14:20:39.768Z"
      },
      {
        "duration": 435,
        "start_time": "2023-05-13T14:21:01.898Z"
      },
      {
        "duration": 46,
        "start_time": "2023-05-13T14:27:20.474Z"
      },
      {
        "duration": 22,
        "start_time": "2023-05-13T14:28:27.218Z"
      },
      {
        "duration": 23,
        "start_time": "2023-05-13T14:28:27.777Z"
      },
      {
        "duration": 132,
        "start_time": "2023-05-13T14:34:43.089Z"
      },
      {
        "duration": 48,
        "start_time": "2023-05-13T14:34:45.924Z"
      },
      {
        "duration": 35,
        "start_time": "2023-05-13T14:36:38.931Z"
      },
      {
        "duration": 29,
        "start_time": "2023-05-13T14:36:41.209Z"
      },
      {
        "duration": 130,
        "start_time": "2023-05-13T14:37:41.371Z"
      },
      {
        "duration": 44,
        "start_time": "2023-05-13T14:37:42.002Z"
      },
      {
        "duration": 39,
        "start_time": "2023-05-13T14:38:35.890Z"
      },
      {
        "duration": 43,
        "start_time": "2023-05-13T14:39:21.338Z"
      },
      {
        "duration": 39,
        "start_time": "2023-05-13T14:39:27.005Z"
      },
      {
        "duration": 15,
        "start_time": "2023-05-13T14:39:36.916Z"
      },
      {
        "duration": 41,
        "start_time": "2023-05-13T14:39:39.668Z"
      },
      {
        "duration": 55,
        "start_time": "2023-05-13T14:39:46.839Z"
      },
      {
        "duration": 31,
        "start_time": "2023-05-13T14:39:47.238Z"
      },
      {
        "duration": 40,
        "start_time": "2023-05-13T14:45:29.650Z"
      },
      {
        "duration": 32,
        "start_time": "2023-05-13T14:45:34.826Z"
      },
      {
        "duration": 27,
        "start_time": "2023-05-13T14:45:48.810Z"
      },
      {
        "duration": 22,
        "start_time": "2023-05-13T14:45:54.617Z"
      },
      {
        "duration": 14,
        "start_time": "2023-05-13T14:46:10.026Z"
      },
      {
        "duration": 20,
        "start_time": "2023-05-13T14:46:10.378Z"
      },
      {
        "duration": 30,
        "start_time": "2023-05-13T14:46:15.747Z"
      },
      {
        "duration": 17,
        "start_time": "2023-05-13T14:47:30.548Z"
      },
      {
        "duration": 28,
        "start_time": "2023-05-13T14:47:38.508Z"
      },
      {
        "duration": 83,
        "start_time": "2023-05-13T14:47:45.588Z"
      },
      {
        "duration": 39,
        "start_time": "2023-05-13T14:47:45.858Z"
      },
      {
        "duration": 115,
        "start_time": "2023-05-13T14:50:46.287Z"
      },
      {
        "duration": 129,
        "start_time": "2023-05-13T14:55:16.085Z"
      },
      {
        "duration": 430,
        "start_time": "2023-05-13T14:55:31.580Z"
      },
      {
        "duration": 6,
        "start_time": "2023-05-13T14:55:35.792Z"
      },
      {
        "duration": 5,
        "start_time": "2023-05-13T14:55:35.941Z"
      },
      {
        "duration": 1043,
        "start_time": "2023-05-13T14:55:36.285Z"
      },
      {
        "duration": 11,
        "start_time": "2023-05-13T14:55:40.378Z"
      },
      {
        "duration": 29,
        "start_time": "2023-05-13T14:55:41.777Z"
      },
      {
        "duration": 85,
        "start_time": "2023-05-13T14:55:43.013Z"
      },
      {
        "duration": 82,
        "start_time": "2023-05-13T14:56:23.998Z"
      },
      {
        "duration": 83,
        "start_time": "2023-05-13T14:56:30.517Z"
      },
      {
        "duration": 62,
        "start_time": "2023-05-13T15:26:50.360Z"
      },
      {
        "duration": 8,
        "start_time": "2023-05-13T15:27:20.571Z"
      },
      {
        "duration": 70,
        "start_time": "2023-05-13T15:27:27.933Z"
      },
      {
        "duration": 90,
        "start_time": "2023-05-13T15:30:01.754Z"
      },
      {
        "duration": 63,
        "start_time": "2023-05-13T15:30:24.471Z"
      },
      {
        "duration": 67,
        "start_time": "2023-05-13T15:30:43.769Z"
      },
      {
        "duration": 85,
        "start_time": "2023-05-13T15:30:44.433Z"
      },
      {
        "duration": 87,
        "start_time": "2023-05-13T15:30:49.617Z"
      },
      {
        "duration": 69,
        "start_time": "2023-05-13T15:31:07.522Z"
      },
      {
        "duration": 68,
        "start_time": "2023-05-13T15:31:12.370Z"
      },
      {
        "duration": 57,
        "start_time": "2023-05-13T15:31:12.786Z"
      },
      {
        "duration": 5,
        "start_time": "2023-05-13T19:50:04.448Z"
      },
      {
        "duration": 4,
        "start_time": "2023-05-13T19:50:11.483Z"
      },
      {
        "duration": 4,
        "start_time": "2023-05-13T19:51:18.075Z"
      },
      {
        "duration": 4,
        "start_time": "2023-05-13T19:51:27.267Z"
      },
      {
        "duration": 90,
        "start_time": "2023-05-13T19:51:37.980Z"
      },
      {
        "duration": 4,
        "start_time": "2023-05-13T19:51:42.505Z"
      },
      {
        "duration": 4,
        "start_time": "2023-05-13T19:52:51.180Z"
      },
      {
        "duration": 87,
        "start_time": "2023-05-13T19:54:18.839Z"
      },
      {
        "duration": 6,
        "start_time": "2023-05-13T19:54:32.526Z"
      },
      {
        "duration": 5,
        "start_time": "2023-05-13T19:54:48.023Z"
      },
      {
        "duration": 9,
        "start_time": "2023-05-13T20:16:15.476Z"
      },
      {
        "duration": 4,
        "start_time": "2023-05-13T20:17:43.325Z"
      },
      {
        "duration": 7,
        "start_time": "2023-05-13T20:18:50.492Z"
      },
      {
        "duration": 5,
        "start_time": "2023-05-13T20:20:37.376Z"
      },
      {
        "duration": 5,
        "start_time": "2023-05-13T20:20:52.731Z"
      },
      {
        "duration": 1147,
        "start_time": "2023-05-13T20:26:48.254Z"
      },
      {
        "duration": 1173,
        "start_time": "2023-05-13T20:27:17.407Z"
      },
      {
        "duration": 8,
        "start_time": "2023-05-13T20:27:38.473Z"
      },
      {
        "duration": 1160,
        "start_time": "2023-05-13T20:27:46.236Z"
      },
      {
        "duration": 4,
        "start_time": "2023-05-13T20:27:47.398Z"
      },
      {
        "duration": 173,
        "start_time": "2023-05-13T20:27:47.403Z"
      },
      {
        "duration": 7,
        "start_time": "2023-05-13T20:27:47.577Z"
      },
      {
        "duration": 20,
        "start_time": "2023-05-13T20:27:47.587Z"
      },
      {
        "duration": 94,
        "start_time": "2023-05-13T20:27:47.609Z"
      },
      {
        "duration": 81,
        "start_time": "2023-05-13T20:27:47.705Z"
      },
      {
        "duration": 71,
        "start_time": "2023-05-13T20:27:47.787Z"
      },
      {
        "duration": 18,
        "start_time": "2023-05-13T20:27:47.860Z"
      },
      {
        "duration": 95,
        "start_time": "2023-05-13T20:27:47.880Z"
      },
      {
        "duration": 26,
        "start_time": "2023-05-13T20:27:47.977Z"
      },
      {
        "duration": 3,
        "start_time": "2023-05-13T20:27:48.004Z"
      },
      {
        "duration": 8,
        "start_time": "2023-05-13T20:27:48.009Z"
      },
      {
        "duration": 31,
        "start_time": "2023-05-13T20:27:48.019Z"
      },
      {
        "duration": 27,
        "start_time": "2023-05-13T20:27:48.052Z"
      },
      {
        "duration": 255,
        "start_time": "2023-05-13T20:28:29.628Z"
      },
      {
        "duration": 102,
        "start_time": "2023-05-13T20:28:46.744Z"
      },
      {
        "duration": 170,
        "start_time": "2023-05-13T20:28:52.177Z"
      },
      {
        "duration": 163,
        "start_time": "2023-05-13T20:30:52.883Z"
      },
      {
        "duration": 163,
        "start_time": "2023-05-13T20:30:58.971Z"
      },
      {
        "duration": 181,
        "start_time": "2023-05-13T20:31:03.442Z"
      },
      {
        "duration": 186,
        "start_time": "2023-05-13T20:31:40.875Z"
      },
      {
        "duration": 198,
        "start_time": "2023-05-13T20:35:39.482Z"
      },
      {
        "duration": 194,
        "start_time": "2023-05-13T20:35:53.906Z"
      },
      {
        "duration": 280,
        "start_time": "2023-05-13T20:36:19.577Z"
      },
      {
        "duration": 163,
        "start_time": "2023-05-13T20:36:35.477Z"
      },
      {
        "duration": 172,
        "start_time": "2023-05-13T20:36:40.019Z"
      },
      {
        "duration": 189,
        "start_time": "2023-05-13T20:41:14.383Z"
      },
      {
        "duration": 179,
        "start_time": "2023-05-13T20:41:18.967Z"
      },
      {
        "duration": 187,
        "start_time": "2023-05-13T20:41:41.018Z"
      },
      {
        "duration": 1144,
        "start_time": "2023-05-13T20:51:55.966Z"
      },
      {
        "duration": 300,
        "start_time": "2023-05-13T20:52:04.477Z"
      },
      {
        "duration": 36,
        "start_time": "2023-05-13T20:52:25.270Z"
      },
      {
        "duration": 405,
        "start_time": "2023-05-13T20:53:00.302Z"
      },
      {
        "duration": 490,
        "start_time": "2023-05-13T20:53:14.015Z"
      },
      {
        "duration": 439,
        "start_time": "2023-05-13T20:53:31.447Z"
      },
      {
        "duration": 205,
        "start_time": "2023-05-13T20:54:29.340Z"
      },
      {
        "duration": 230,
        "start_time": "2023-05-13T20:54:48.545Z"
      },
      {
        "duration": 24,
        "start_time": "2023-05-13T20:58:25.517Z"
      },
      {
        "duration": 305,
        "start_time": "2023-05-13T20:58:26.340Z"
      },
      {
        "duration": 27,
        "start_time": "2023-05-13T20:58:28.317Z"
      },
      {
        "duration": 208,
        "start_time": "2023-05-13T20:58:29.189Z"
      },
      {
        "duration": 11,
        "start_time": "2023-05-13T20:58:40.574Z"
      },
      {
        "duration": 1075,
        "start_time": "2023-05-13T20:58:52.714Z"
      },
      {
        "duration": 3,
        "start_time": "2023-05-13T20:58:53.791Z"
      },
      {
        "duration": 190,
        "start_time": "2023-05-13T20:58:53.795Z"
      },
      {
        "duration": 11,
        "start_time": "2023-05-13T20:58:53.987Z"
      },
      {
        "duration": 40,
        "start_time": "2023-05-13T20:58:54.001Z"
      },
      {
        "duration": 104,
        "start_time": "2023-05-13T20:58:54.043Z"
      },
      {
        "duration": 108,
        "start_time": "2023-05-13T20:58:54.149Z"
      },
      {
        "duration": 108,
        "start_time": "2023-05-13T20:58:54.258Z"
      },
      {
        "duration": 22,
        "start_time": "2023-05-13T20:58:54.379Z"
      },
      {
        "duration": 111,
        "start_time": "2023-05-13T20:58:54.403Z"
      },
      {
        "duration": 26,
        "start_time": "2023-05-13T20:58:54.515Z"
      },
      {
        "duration": 3,
        "start_time": "2023-05-13T20:58:54.542Z"
      },
      {
        "duration": 20,
        "start_time": "2023-05-13T20:58:54.550Z"
      },
      {
        "duration": 7,
        "start_time": "2023-05-13T20:58:54.584Z"
      },
      {
        "duration": 25,
        "start_time": "2023-05-13T20:58:54.593Z"
      },
      {
        "duration": 298,
        "start_time": "2023-05-13T20:58:54.620Z"
      },
      {
        "duration": 49,
        "start_time": "2023-05-13T20:58:54.919Z"
      },
      {
        "duration": 215,
        "start_time": "2023-05-13T20:58:54.971Z"
      },
      {
        "duration": 9,
        "start_time": "2023-05-13T20:58:55.188Z"
      },
      {
        "duration": 17,
        "start_time": "2023-05-13T21:03:28.878Z"
      },
      {
        "duration": 13,
        "start_time": "2023-05-13T21:03:54.978Z"
      },
      {
        "duration": 16,
        "start_time": "2023-05-13T21:04:29.948Z"
      },
      {
        "duration": 5,
        "start_time": "2023-05-13T21:06:14.191Z"
      },
      {
        "duration": 4,
        "start_time": "2023-05-13T21:06:19.191Z"
      },
      {
        "duration": 4,
        "start_time": "2023-05-13T21:06:48.624Z"
      },
      {
        "duration": 4,
        "start_time": "2023-05-13T21:08:29.402Z"
      },
      {
        "duration": 5,
        "start_time": "2023-05-13T21:08:44.684Z"
      },
      {
        "duration": 5,
        "start_time": "2023-05-13T21:09:39.587Z"
      },
      {
        "duration": 4,
        "start_time": "2023-05-13T21:10:01.197Z"
      },
      {
        "duration": 5,
        "start_time": "2023-05-13T21:11:13.293Z"
      },
      {
        "duration": 127,
        "start_time": "2023-05-13T21:12:15.815Z"
      },
      {
        "duration": 4,
        "start_time": "2023-05-13T21:13:41.305Z"
      },
      {
        "duration": 1363,
        "start_time": "2023-05-14T11:53:49.416Z"
      },
      {
        "duration": 4,
        "start_time": "2023-05-14T11:53:50.781Z"
      },
      {
        "duration": 669,
        "start_time": "2023-05-14T11:53:50.787Z"
      },
      {
        "duration": 8,
        "start_time": "2023-05-14T11:53:51.458Z"
      },
      {
        "duration": 28,
        "start_time": "2023-05-14T11:53:51.468Z"
      },
      {
        "duration": 70,
        "start_time": "2023-05-14T11:53:51.498Z"
      },
      {
        "duration": 94,
        "start_time": "2023-05-14T11:53:51.569Z"
      },
      {
        "duration": 90,
        "start_time": "2023-05-14T11:53:51.664Z"
      },
      {
        "duration": 15,
        "start_time": "2023-05-14T11:53:51.756Z"
      },
      {
        "duration": 114,
        "start_time": "2023-05-14T11:53:51.774Z"
      },
      {
        "duration": 38,
        "start_time": "2023-05-14T11:53:51.889Z"
      },
      {
        "duration": 31,
        "start_time": "2023-05-14T11:53:51.929Z"
      },
      {
        "duration": 31,
        "start_time": "2023-05-14T11:53:51.961Z"
      },
      {
        "duration": 22,
        "start_time": "2023-05-14T11:53:51.994Z"
      },
      {
        "duration": 114,
        "start_time": "2023-05-14T11:53:52.018Z"
      },
      {
        "duration": 675,
        "start_time": "2023-05-14T11:53:52.138Z"
      },
      {
        "duration": 46,
        "start_time": "2023-05-14T11:53:52.815Z"
      },
      {
        "duration": 318,
        "start_time": "2023-05-14T11:53:52.863Z"
      },
      {
        "duration": 54,
        "start_time": "2023-05-14T11:53:53.184Z"
      },
      {
        "duration": 15,
        "start_time": "2023-05-14T11:53:53.241Z"
      },
      {
        "duration": 56,
        "start_time": "2023-05-14T11:53:53.258Z"
      },
      {
        "duration": 166,
        "start_time": "2023-05-14T12:02:45.319Z"
      },
      {
        "duration": 21,
        "start_time": "2023-05-14T12:03:03.868Z"
      },
      {
        "duration": 258,
        "start_time": "2023-05-14T12:03:52.210Z"
      },
      {
        "duration": 37,
        "start_time": "2023-05-14T12:05:32.246Z"
      },
      {
        "duration": 40,
        "start_time": "2023-05-14T12:05:48.454Z"
      },
      {
        "duration": 41,
        "start_time": "2023-05-14T12:05:53.885Z"
      },
      {
        "duration": 59,
        "start_time": "2023-05-14T12:06:28.218Z"
      },
      {
        "duration": 40,
        "start_time": "2023-05-14T12:08:20.732Z"
      },
      {
        "duration": 29,
        "start_time": "2023-05-14T12:08:28.143Z"
      },
      {
        "duration": 134,
        "start_time": "2023-05-14T12:08:48.988Z"
      },
      {
        "duration": 24,
        "start_time": "2023-05-14T12:08:59.656Z"
      },
      {
        "duration": 33,
        "start_time": "2023-05-14T12:09:07.951Z"
      },
      {
        "duration": 21,
        "start_time": "2023-05-14T12:09:15.168Z"
      },
      {
        "duration": 23,
        "start_time": "2023-05-14T12:09:22.273Z"
      },
      {
        "duration": 10,
        "start_time": "2023-05-14T12:18:35.250Z"
      },
      {
        "duration": 96,
        "start_time": "2023-05-14T12:22:23.006Z"
      },
      {
        "duration": 11,
        "start_time": "2023-05-14T12:26:42.629Z"
      },
      {
        "duration": 63,
        "start_time": "2023-05-14T12:26:46.958Z"
      },
      {
        "duration": 74,
        "start_time": "2023-05-14T12:27:05.918Z"
      },
      {
        "duration": 51,
        "start_time": "2023-05-14T12:27:34.140Z"
      },
      {
        "duration": 74,
        "start_time": "2023-05-14T12:27:37.818Z"
      },
      {
        "duration": 80,
        "start_time": "2023-05-14T12:28:01.352Z"
      },
      {
        "duration": 13,
        "start_time": "2023-05-14T12:48:47.086Z"
      },
      {
        "duration": 76,
        "start_time": "2023-05-14T12:49:39.103Z"
      },
      {
        "duration": 68,
        "start_time": "2023-05-14T12:49:59.467Z"
      },
      {
        "duration": 69,
        "start_time": "2023-05-14T12:50:41.793Z"
      },
      {
        "duration": 88,
        "start_time": "2023-05-14T12:50:50.560Z"
      },
      {
        "duration": 9,
        "start_time": "2023-05-14T12:56:51.709Z"
      },
      {
        "duration": 72,
        "start_time": "2023-05-14T12:57:00.733Z"
      },
      {
        "duration": 67,
        "start_time": "2023-05-14T12:57:12.183Z"
      },
      {
        "duration": 7,
        "start_time": "2023-05-14T12:57:12.282Z"
      },
      {
        "duration": 7,
        "start_time": "2023-05-14T12:57:16.389Z"
      },
      {
        "duration": 11,
        "start_time": "2023-05-14T12:57:27.373Z"
      },
      {
        "duration": 11,
        "start_time": "2023-05-14T12:57:43.046Z"
      },
      {
        "duration": 15,
        "start_time": "2023-05-14T12:58:03.285Z"
      },
      {
        "duration": 10,
        "start_time": "2023-05-14T12:58:32.069Z"
      },
      {
        "duration": 9,
        "start_time": "2023-05-14T13:01:35.188Z"
      },
      {
        "duration": 68,
        "start_time": "2023-05-14T13:01:38.026Z"
      },
      {
        "duration": 13,
        "start_time": "2023-05-14T13:01:38.284Z"
      },
      {
        "duration": 60,
        "start_time": "2023-05-14T13:02:27.939Z"
      },
      {
        "duration": 12,
        "start_time": "2023-05-14T13:02:38.891Z"
      },
      {
        "duration": 6,
        "start_time": "2023-05-14T13:06:00.143Z"
      },
      {
        "duration": 82,
        "start_time": "2023-05-14T13:07:21.474Z"
      },
      {
        "duration": 72,
        "start_time": "2023-05-14T13:07:56.785Z"
      },
      {
        "duration": 16,
        "start_time": "2023-05-14T15:00:42.366Z"
      },
      {
        "duration": 12,
        "start_time": "2023-05-14T15:01:03.022Z"
      },
      {
        "duration": 7,
        "start_time": "2023-05-14T15:17:43.050Z"
      },
      {
        "duration": 12,
        "start_time": "2023-05-14T15:18:02.190Z"
      },
      {
        "duration": 10,
        "start_time": "2023-05-14T15:18:34.515Z"
      },
      {
        "duration": 10,
        "start_time": "2023-05-14T15:19:39.636Z"
      },
      {
        "duration": 9,
        "start_time": "2023-05-14T15:28:21.711Z"
      },
      {
        "duration": 10,
        "start_time": "2023-05-14T15:28:42.815Z"
      },
      {
        "duration": 1172,
        "start_time": "2023-05-14T15:29:35.396Z"
      },
      {
        "duration": 3,
        "start_time": "2023-05-14T15:29:36.570Z"
      },
      {
        "duration": 195,
        "start_time": "2023-05-14T15:29:36.574Z"
      },
      {
        "duration": 7,
        "start_time": "2023-05-14T15:29:36.771Z"
      },
      {
        "duration": 23,
        "start_time": "2023-05-14T15:29:36.779Z"
      },
      {
        "duration": 79,
        "start_time": "2023-05-14T15:29:36.804Z"
      },
      {
        "duration": 90,
        "start_time": "2023-05-14T15:29:36.884Z"
      },
      {
        "duration": 67,
        "start_time": "2023-05-14T15:29:36.976Z"
      },
      {
        "duration": 15,
        "start_time": "2023-05-14T15:29:37.046Z"
      },
      {
        "duration": 100,
        "start_time": "2023-05-14T15:29:37.064Z"
      },
      {
        "duration": 32,
        "start_time": "2023-05-14T15:29:37.165Z"
      },
      {
        "duration": 4,
        "start_time": "2023-05-14T15:29:37.199Z"
      },
      {
        "duration": 14,
        "start_time": "2023-05-14T15:29:37.224Z"
      },
      {
        "duration": 11,
        "start_time": "2023-05-14T15:29:37.241Z"
      },
      {
        "duration": 33,
        "start_time": "2023-05-14T15:29:37.253Z"
      },
      {
        "duration": 310,
        "start_time": "2023-05-14T15:29:37.288Z"
      },
      {
        "duration": 45,
        "start_time": "2023-05-14T15:29:37.599Z"
      },
      {
        "duration": 217,
        "start_time": "2023-05-14T15:29:37.646Z"
      },
      {
        "duration": 11,
        "start_time": "2023-05-14T15:29:37.864Z"
      },
      {
        "duration": 3,
        "start_time": "2023-05-14T15:29:37.877Z"
      },
      {
        "duration": 6,
        "start_time": "2023-05-14T15:29:37.882Z"
      },
      {
        "duration": 59,
        "start_time": "2023-05-14T15:29:37.889Z"
      },
      {
        "duration": 64,
        "start_time": "2023-05-14T15:29:37.949Z"
      },
      {
        "duration": 15,
        "start_time": "2023-05-14T15:29:38.015Z"
      },
      {
        "duration": 28,
        "start_time": "2023-05-14T15:29:38.032Z"
      },
      {
        "duration": 9,
        "start_time": "2023-05-14T15:29:38.062Z"
      },
      {
        "duration": 12,
        "start_time": "2023-05-14T15:29:38.072Z"
      },
      {
        "duration": 54,
        "start_time": "2023-05-14T15:32:44.194Z"
      },
      {
        "duration": 93,
        "start_time": "2023-05-14T15:33:14.517Z"
      },
      {
        "duration": 1132,
        "start_time": "2023-05-14T15:33:42.779Z"
      },
      {
        "duration": 4,
        "start_time": "2023-05-14T15:33:43.913Z"
      },
      {
        "duration": 181,
        "start_time": "2023-05-14T15:33:43.919Z"
      },
      {
        "duration": 10,
        "start_time": "2023-05-14T15:33:44.102Z"
      },
      {
        "duration": 21,
        "start_time": "2023-05-14T15:33:44.126Z"
      },
      {
        "duration": 81,
        "start_time": "2023-05-14T15:33:44.149Z"
      },
      {
        "duration": 73,
        "start_time": "2023-05-14T15:33:44.232Z"
      },
      {
        "duration": 71,
        "start_time": "2023-05-14T15:33:44.307Z"
      },
      {
        "duration": 13,
        "start_time": "2023-05-14T15:33:44.380Z"
      },
      {
        "duration": 94,
        "start_time": "2023-05-14T15:33:44.395Z"
      },
      {
        "duration": 42,
        "start_time": "2023-05-14T15:33:44.491Z"
      },
      {
        "duration": 3,
        "start_time": "2023-05-14T15:33:44.535Z"
      },
      {
        "duration": 10,
        "start_time": "2023-05-14T15:33:44.539Z"
      },
      {
        "duration": 9,
        "start_time": "2023-05-14T15:33:44.551Z"
      },
      {
        "duration": 29,
        "start_time": "2023-05-14T15:33:44.561Z"
      },
      {
        "duration": 352,
        "start_time": "2023-05-14T15:33:44.592Z"
      },
      {
        "duration": 28,
        "start_time": "2023-05-14T15:33:44.946Z"
      },
      {
        "duration": 202,
        "start_time": "2023-05-14T15:33:44.975Z"
      },
      {
        "duration": 11,
        "start_time": "2023-05-14T15:33:45.178Z"
      },
      {
        "duration": 4,
        "start_time": "2023-05-14T15:33:45.190Z"
      },
      {
        "duration": 15,
        "start_time": "2023-05-14T15:33:45.196Z"
      },
      {
        "duration": 24,
        "start_time": "2023-05-14T15:33:45.224Z"
      },
      {
        "duration": 82,
        "start_time": "2023-05-14T15:33:45.249Z"
      },
      {
        "duration": 101,
        "start_time": "2023-05-14T15:33:45.332Z"
      },
      {
        "duration": 0,
        "start_time": "2023-05-14T15:33:45.434Z"
      },
      {
        "duration": 0,
        "start_time": "2023-05-14T15:33:45.436Z"
      },
      {
        "duration": 0,
        "start_time": "2023-05-14T15:33:45.437Z"
      },
      {
        "duration": 10,
        "start_time": "2023-05-14T15:34:08.303Z"
      },
      {
        "duration": 9,
        "start_time": "2023-05-14T15:34:25.000Z"
      },
      {
        "duration": 11,
        "start_time": "2023-05-14T15:35:40.105Z"
      },
      {
        "duration": 9,
        "start_time": "2023-05-14T15:36:42.002Z"
      },
      {
        "duration": 13,
        "start_time": "2023-05-14T15:37:39.277Z"
      },
      {
        "duration": 4,
        "start_time": "2023-05-14T15:41:12.271Z"
      },
      {
        "duration": 17,
        "start_time": "2023-05-14T15:41:49.841Z"
      },
      {
        "duration": 45,
        "start_time": "2023-05-14T15:45:28.885Z"
      },
      {
        "duration": 53,
        "start_time": "2023-05-14T15:45:34.867Z"
      },
      {
        "duration": 49,
        "start_time": "2023-05-14T15:45:45.404Z"
      },
      {
        "duration": 41,
        "start_time": "2023-05-14T15:45:46.870Z"
      },
      {
        "duration": 10,
        "start_time": "2023-05-14T15:47:55.832Z"
      },
      {
        "duration": 10,
        "start_time": "2023-05-14T15:48:19.025Z"
      },
      {
        "duration": 11,
        "start_time": "2023-05-14T15:48:27.289Z"
      },
      {
        "duration": 13,
        "start_time": "2023-05-14T15:49:53.136Z"
      },
      {
        "duration": 1097,
        "start_time": "2023-05-14T15:50:06.448Z"
      },
      {
        "duration": 3,
        "start_time": "2023-05-14T15:50:07.549Z"
      },
      {
        "duration": 230,
        "start_time": "2023-05-14T15:50:07.553Z"
      },
      {
        "duration": 9,
        "start_time": "2023-05-14T15:50:07.786Z"
      },
      {
        "duration": 58,
        "start_time": "2023-05-14T15:50:07.797Z"
      },
      {
        "duration": 92,
        "start_time": "2023-05-14T15:50:07.857Z"
      },
      {
        "duration": 78,
        "start_time": "2023-05-14T15:50:07.952Z"
      },
      {
        "duration": 63,
        "start_time": "2023-05-14T15:50:08.032Z"
      },
      {
        "duration": 37,
        "start_time": "2023-05-14T15:50:08.098Z"
      },
      {
        "duration": 88,
        "start_time": "2023-05-14T15:50:08.137Z"
      },
      {
        "duration": 28,
        "start_time": "2023-05-14T15:50:08.227Z"
      },
      {
        "duration": 4,
        "start_time": "2023-05-14T15:50:08.257Z"
      },
      {
        "duration": 28,
        "start_time": "2023-05-14T15:50:08.262Z"
      },
      {
        "duration": 34,
        "start_time": "2023-05-14T15:50:08.293Z"
      },
      {
        "duration": 86,
        "start_time": "2023-05-14T15:50:08.329Z"
      },
      {
        "duration": 273,
        "start_time": "2023-05-14T15:50:08.417Z"
      },
      {
        "duration": 53,
        "start_time": "2023-05-14T15:50:08.692Z"
      },
      {
        "duration": 227,
        "start_time": "2023-05-14T15:50:08.747Z"
      },
      {
        "duration": 11,
        "start_time": "2023-05-14T15:50:08.976Z"
      },
      {
        "duration": 15,
        "start_time": "2023-05-14T15:50:08.988Z"
      },
      {
        "duration": 37,
        "start_time": "2023-05-14T15:50:09.004Z"
      },
      {
        "duration": 37,
        "start_time": "2023-05-14T15:50:09.042Z"
      },
      {
        "duration": 98,
        "start_time": "2023-05-14T15:50:09.080Z"
      },
      {
        "duration": 9,
        "start_time": "2023-05-14T15:50:09.180Z"
      },
      {
        "duration": 33,
        "start_time": "2023-05-14T15:50:09.191Z"
      },
      {
        "duration": 29,
        "start_time": "2023-05-14T15:50:09.227Z"
      },
      {
        "duration": 35,
        "start_time": "2023-05-14T15:50:09.258Z"
      },
      {
        "duration": 1199,
        "start_time": "2023-05-14T15:51:10.777Z"
      },
      {
        "duration": 3,
        "start_time": "2023-05-14T15:51:11.978Z"
      },
      {
        "duration": 208,
        "start_time": "2023-05-14T15:51:11.983Z"
      },
      {
        "duration": 8,
        "start_time": "2023-05-14T15:51:12.192Z"
      },
      {
        "duration": 56,
        "start_time": "2023-05-14T15:51:12.202Z"
      },
      {
        "duration": 97,
        "start_time": "2023-05-14T15:51:12.259Z"
      },
      {
        "duration": 99,
        "start_time": "2023-05-14T15:51:12.358Z"
      },
      {
        "duration": 67,
        "start_time": "2023-05-14T15:51:12.459Z"
      },
      {
        "duration": 17,
        "start_time": "2023-05-14T15:51:12.529Z"
      },
      {
        "duration": 93,
        "start_time": "2023-05-14T15:51:12.548Z"
      },
      {
        "duration": 37,
        "start_time": "2023-05-14T15:51:12.642Z"
      },
      {
        "duration": 5,
        "start_time": "2023-05-14T15:51:12.681Z"
      },
      {
        "duration": 16,
        "start_time": "2023-05-14T15:51:12.687Z"
      },
      {
        "duration": 23,
        "start_time": "2023-05-14T15:51:12.706Z"
      },
      {
        "duration": 59,
        "start_time": "2023-05-14T15:51:12.731Z"
      },
      {
        "duration": 304,
        "start_time": "2023-05-14T15:51:12.792Z"
      },
      {
        "duration": 43,
        "start_time": "2023-05-14T15:51:13.098Z"
      },
      {
        "duration": 213,
        "start_time": "2023-05-14T15:51:13.143Z"
      },
      {
        "duration": 10,
        "start_time": "2023-05-14T15:51:13.359Z"
      },
      {
        "duration": 4,
        "start_time": "2023-05-14T15:51:13.371Z"
      },
      {
        "duration": 6,
        "start_time": "2023-05-14T15:51:13.377Z"
      },
      {
        "duration": 58,
        "start_time": "2023-05-14T15:51:13.385Z"
      },
      {
        "duration": 43,
        "start_time": "2023-05-14T15:51:13.444Z"
      },
      {
        "duration": 0,
        "start_time": "2023-05-14T15:51:13.489Z"
      },
      {
        "duration": 0,
        "start_time": "2023-05-14T15:51:13.490Z"
      },
      {
        "duration": 0,
        "start_time": "2023-05-14T15:51:13.492Z"
      },
      {
        "duration": 0,
        "start_time": "2023-05-14T15:51:13.493Z"
      },
      {
        "duration": 62,
        "start_time": "2023-05-14T15:51:34.445Z"
      },
      {
        "duration": 1199,
        "start_time": "2023-05-14T15:51:41.702Z"
      },
      {
        "duration": 4,
        "start_time": "2023-05-14T15:51:42.903Z"
      },
      {
        "duration": 206,
        "start_time": "2023-05-14T15:51:42.909Z"
      },
      {
        "duration": 14,
        "start_time": "2023-05-14T15:51:43.118Z"
      },
      {
        "duration": 31,
        "start_time": "2023-05-14T15:51:43.135Z"
      },
      {
        "duration": 79,
        "start_time": "2023-05-14T15:51:43.168Z"
      },
      {
        "duration": 91,
        "start_time": "2023-05-14T15:51:43.249Z"
      },
      {
        "duration": 55,
        "start_time": "2023-05-14T15:51:43.342Z"
      },
      {
        "duration": 27,
        "start_time": "2023-05-14T15:51:43.398Z"
      },
      {
        "duration": 79,
        "start_time": "2023-05-14T15:51:43.429Z"
      },
      {
        "duration": 48,
        "start_time": "2023-05-14T15:51:43.510Z"
      },
      {
        "duration": 3,
        "start_time": "2023-05-14T15:51:43.560Z"
      },
      {
        "duration": 10,
        "start_time": "2023-05-14T15:51:43.565Z"
      },
      {
        "duration": 7,
        "start_time": "2023-05-14T15:51:43.577Z"
      },
      {
        "duration": 62,
        "start_time": "2023-05-14T15:51:43.586Z"
      },
      {
        "duration": 276,
        "start_time": "2023-05-14T15:51:43.650Z"
      },
      {
        "duration": 36,
        "start_time": "2023-05-14T15:51:43.928Z"
      },
      {
        "duration": 207,
        "start_time": "2023-05-14T15:51:43.965Z"
      },
      {
        "duration": 10,
        "start_time": "2023-05-14T15:51:44.173Z"
      },
      {
        "duration": 4,
        "start_time": "2023-05-14T15:51:44.185Z"
      },
      {
        "duration": 16,
        "start_time": "2023-05-14T15:51:44.191Z"
      },
      {
        "duration": 40,
        "start_time": "2023-05-14T15:51:44.208Z"
      },
      {
        "duration": 60,
        "start_time": "2023-05-14T15:51:44.250Z"
      },
      {
        "duration": 13,
        "start_time": "2023-05-14T15:51:44.328Z"
      },
      {
        "duration": 19,
        "start_time": "2023-05-14T15:51:44.343Z"
      },
      {
        "duration": 11,
        "start_time": "2023-05-14T15:51:44.363Z"
      },
      {
        "duration": 14,
        "start_time": "2023-05-14T15:51:44.375Z"
      },
      {
        "duration": 10,
        "start_time": "2023-05-14T15:53:07.143Z"
      },
      {
        "duration": 11,
        "start_time": "2023-05-14T15:53:42.000Z"
      },
      {
        "duration": 8,
        "start_time": "2023-05-14T15:59:35.615Z"
      },
      {
        "duration": 870,
        "start_time": "2023-05-14T15:59:44.230Z"
      },
      {
        "duration": 0,
        "start_time": "2023-05-14T15:59:45.102Z"
      },
      {
        "duration": 10,
        "start_time": "2023-05-14T16:00:37.169Z"
      },
      {
        "duration": 14,
        "start_time": "2023-05-14T16:00:37.935Z"
      },
      {
        "duration": 13,
        "start_time": "2023-05-14T16:00:40.263Z"
      },
      {
        "duration": 9,
        "start_time": "2023-05-14T16:00:41.567Z"
      },
      {
        "duration": 5,
        "start_time": "2023-05-14T16:05:40.366Z"
      },
      {
        "duration": 4,
        "start_time": "2023-05-14T16:06:06.421Z"
      },
      {
        "duration": 5,
        "start_time": "2023-05-14T16:06:14.246Z"
      },
      {
        "duration": 5,
        "start_time": "2023-05-14T16:06:22.709Z"
      },
      {
        "duration": 5,
        "start_time": "2023-05-14T16:06:26.150Z"
      },
      {
        "duration": 3,
        "start_time": "2023-05-14T16:10:47.123Z"
      },
      {
        "duration": 4,
        "start_time": "2023-05-14T16:10:54.420Z"
      },
      {
        "duration": 6,
        "start_time": "2023-05-14T16:11:00.220Z"
      },
      {
        "duration": 8,
        "start_time": "2023-05-14T16:12:09.981Z"
      },
      {
        "duration": 9,
        "start_time": "2023-05-14T16:13:17.601Z"
      },
      {
        "duration": 15,
        "start_time": "2023-05-14T16:13:38.126Z"
      },
      {
        "duration": 5,
        "start_time": "2023-05-14T16:13:43.015Z"
      },
      {
        "duration": 13,
        "start_time": "2023-05-14T16:13:45.759Z"
      },
      {
        "duration": 13,
        "start_time": "2023-05-14T16:13:56.511Z"
      },
      {
        "duration": 11,
        "start_time": "2023-05-14T16:14:01.855Z"
      },
      {
        "duration": 4,
        "start_time": "2023-05-14T16:15:48.666Z"
      },
      {
        "duration": 6,
        "start_time": "2023-05-14T16:15:58.153Z"
      },
      {
        "duration": 10,
        "start_time": "2023-05-14T16:16:03.210Z"
      },
      {
        "duration": 11,
        "start_time": "2023-05-14T16:16:18.225Z"
      },
      {
        "duration": 11,
        "start_time": "2023-05-14T16:17:34.251Z"
      },
      {
        "duration": 14,
        "start_time": "2023-05-14T16:17:57.348Z"
      },
      {
        "duration": 13,
        "start_time": "2023-05-14T16:18:21.045Z"
      },
      {
        "duration": 50,
        "start_time": "2023-05-14T16:19:07.117Z"
      },
      {
        "duration": 13,
        "start_time": "2023-05-14T16:19:10.814Z"
      },
      {
        "duration": 5,
        "start_time": "2023-05-14T16:20:12.582Z"
      },
      {
        "duration": 818,
        "start_time": "2023-05-14T16:20:43.007Z"
      },
      {
        "duration": 5,
        "start_time": "2023-05-14T16:20:51.368Z"
      },
      {
        "duration": 10,
        "start_time": "2023-05-14T16:21:44.058Z"
      },
      {
        "duration": 9,
        "start_time": "2023-05-14T16:21:58.433Z"
      },
      {
        "duration": 12,
        "start_time": "2023-05-14T16:22:02.066Z"
      },
      {
        "duration": 9,
        "start_time": "2023-05-14T16:22:36.514Z"
      },
      {
        "duration": 12,
        "start_time": "2023-05-14T16:22:40.194Z"
      },
      {
        "duration": 12,
        "start_time": "2023-05-14T16:22:42.042Z"
      },
      {
        "duration": 5,
        "start_time": "2023-05-14T16:23:09.898Z"
      },
      {
        "duration": 5,
        "start_time": "2023-05-14T16:23:46.299Z"
      },
      {
        "duration": 4,
        "start_time": "2023-05-14T16:24:04.203Z"
      },
      {
        "duration": 8,
        "start_time": "2023-05-14T16:26:37.767Z"
      },
      {
        "duration": 4,
        "start_time": "2023-05-14T16:27:22.263Z"
      },
      {
        "duration": 64,
        "start_time": "2023-05-14T16:27:48.464Z"
      },
      {
        "duration": 46,
        "start_time": "2023-05-14T16:27:52.608Z"
      },
      {
        "duration": 64,
        "start_time": "2023-05-14T16:28:01.840Z"
      },
      {
        "duration": 82,
        "start_time": "2023-05-14T16:28:14.368Z"
      },
      {
        "duration": 49,
        "start_time": "2023-05-14T16:28:34.769Z"
      },
      {
        "duration": 45,
        "start_time": "2023-05-14T16:28:38.561Z"
      },
      {
        "duration": 59,
        "start_time": "2023-05-14T16:28:55.665Z"
      },
      {
        "duration": 4,
        "start_time": "2023-05-14T16:28:59.477Z"
      },
      {
        "duration": 49,
        "start_time": "2023-05-14T16:29:18.146Z"
      },
      {
        "duration": 44,
        "start_time": "2023-05-14T16:29:37.586Z"
      },
      {
        "duration": 81,
        "start_time": "2023-05-14T16:30:07.315Z"
      },
      {
        "duration": 4,
        "start_time": "2023-05-14T16:30:19.748Z"
      },
      {
        "duration": 53,
        "start_time": "2023-05-14T16:30:30.804Z"
      },
      {
        "duration": 45,
        "start_time": "2023-05-14T16:30:53.468Z"
      },
      {
        "duration": 4,
        "start_time": "2023-05-14T16:32:45.094Z"
      },
      {
        "duration": 52,
        "start_time": "2023-05-14T16:33:07.063Z"
      },
      {
        "duration": 64,
        "start_time": "2023-05-14T16:33:11.415Z"
      },
      {
        "duration": 57,
        "start_time": "2023-05-14T16:33:34.496Z"
      },
      {
        "duration": 43,
        "start_time": "2023-05-14T16:33:37.800Z"
      },
      {
        "duration": 5,
        "start_time": "2023-05-14T16:33:42.288Z"
      },
      {
        "duration": 40,
        "start_time": "2023-05-14T16:33:48.376Z"
      },
      {
        "duration": 82,
        "start_time": "2023-05-14T16:33:51.559Z"
      },
      {
        "duration": 4,
        "start_time": "2023-05-14T16:34:05.088Z"
      },
      {
        "duration": 60,
        "start_time": "2023-05-14T16:34:12.793Z"
      },
      {
        "duration": 65,
        "start_time": "2023-05-14T16:34:18.081Z"
      },
      {
        "duration": 3,
        "start_time": "2023-05-14T16:34:22.745Z"
      },
      {
        "duration": 4,
        "start_time": "2023-05-14T16:34:40.569Z"
      },
      {
        "duration": 4,
        "start_time": "2023-05-14T16:34:46.473Z"
      },
      {
        "duration": 4,
        "start_time": "2023-05-14T16:34:56.833Z"
      },
      {
        "duration": 3,
        "start_time": "2023-05-14T16:35:26.738Z"
      },
      {
        "duration": 4,
        "start_time": "2023-05-14T16:42:01.741Z"
      },
      {
        "duration": 9,
        "start_time": "2023-05-14T16:42:51.579Z"
      },
      {
        "duration": 5,
        "start_time": "2023-05-14T16:43:13.240Z"
      },
      {
        "duration": 4,
        "start_time": "2023-05-14T16:43:35.453Z"
      },
      {
        "duration": 3,
        "start_time": "2023-05-14T16:44:47.599Z"
      },
      {
        "duration": 4,
        "start_time": "2023-05-14T16:44:55.412Z"
      },
      {
        "duration": 4,
        "start_time": "2023-05-14T16:45:01.650Z"
      },
      {
        "duration": 62,
        "start_time": "2023-05-14T16:45:09.524Z"
      },
      {
        "duration": 4,
        "start_time": "2023-05-14T16:45:15.047Z"
      },
      {
        "duration": 4,
        "start_time": "2023-05-14T16:45:19.549Z"
      },
      {
        "duration": 1258,
        "start_time": "2023-05-14T21:23:16.796Z"
      },
      {
        "duration": 24,
        "start_time": "2023-05-14T21:24:36.774Z"
      },
      {
        "duration": 37,
        "start_time": "2023-05-14T21:25:07.071Z"
      },
      {
        "duration": 38,
        "start_time": "2023-05-14T21:30:45.108Z"
      },
      {
        "duration": 34,
        "start_time": "2023-05-14T21:30:57.157Z"
      },
      {
        "duration": 1439,
        "start_time": "2023-05-15T09:15:47.579Z"
      },
      {
        "duration": 4,
        "start_time": "2023-05-15T09:15:49.020Z"
      },
      {
        "duration": 702,
        "start_time": "2023-05-15T09:15:49.025Z"
      },
      {
        "duration": 7,
        "start_time": "2023-05-15T09:15:49.728Z"
      },
      {
        "duration": 23,
        "start_time": "2023-05-15T09:15:49.737Z"
      },
      {
        "duration": 66,
        "start_time": "2023-05-15T09:15:49.762Z"
      },
      {
        "duration": 76,
        "start_time": "2023-05-15T09:15:49.830Z"
      },
      {
        "duration": 67,
        "start_time": "2023-05-15T09:15:49.908Z"
      },
      {
        "duration": 13,
        "start_time": "2023-05-15T09:15:49.977Z"
      },
      {
        "duration": 87,
        "start_time": "2023-05-15T09:15:49.992Z"
      },
      {
        "duration": 28,
        "start_time": "2023-05-15T09:15:50.081Z"
      },
      {
        "duration": 4,
        "start_time": "2023-05-15T09:15:50.114Z"
      },
      {
        "duration": 6,
        "start_time": "2023-05-15T09:15:50.120Z"
      },
      {
        "duration": 5,
        "start_time": "2023-05-15T09:15:50.129Z"
      },
      {
        "duration": 52,
        "start_time": "2023-05-15T09:15:50.136Z"
      },
      {
        "duration": 268,
        "start_time": "2023-05-15T09:15:50.189Z"
      },
      {
        "duration": 31,
        "start_time": "2023-05-15T09:15:50.459Z"
      },
      {
        "duration": 194,
        "start_time": "2023-05-15T09:15:50.492Z"
      },
      {
        "duration": 13,
        "start_time": "2023-05-15T09:15:50.687Z"
      },
      {
        "duration": 12,
        "start_time": "2023-05-15T09:15:50.702Z"
      },
      {
        "duration": 17,
        "start_time": "2023-05-15T09:15:50.715Z"
      },
      {
        "duration": 22,
        "start_time": "2023-05-15T09:15:50.733Z"
      },
      {
        "duration": 87,
        "start_time": "2023-05-15T09:15:50.756Z"
      },
      {
        "duration": 12,
        "start_time": "2023-05-15T09:15:50.845Z"
      },
      {
        "duration": 22,
        "start_time": "2023-05-15T09:15:50.858Z"
      },
      {
        "duration": 9,
        "start_time": "2023-05-15T09:15:50.882Z"
      },
      {
        "duration": 10,
        "start_time": "2023-05-15T09:15:50.893Z"
      },
      {
        "duration": 5,
        "start_time": "2023-05-15T09:15:50.905Z"
      },
      {
        "duration": 39,
        "start_time": "2023-05-15T09:15:50.912Z"
      },
      {
        "duration": 37,
        "start_time": "2023-05-15T09:15:50.974Z"
      },
      {
        "duration": 9,
        "start_time": "2023-05-15T09:15:51.012Z"
      },
      {
        "duration": 100,
        "start_time": "2023-05-15T09:20:20.703Z"
      },
      {
        "duration": 159,
        "start_time": "2023-05-15T09:20:27.109Z"
      },
      {
        "duration": 223,
        "start_time": "2023-05-15T09:22:51.568Z"
      },
      {
        "duration": 168,
        "start_time": "2023-05-15T09:23:00.966Z"
      },
      {
        "duration": 146,
        "start_time": "2023-05-15T09:23:44.468Z"
      },
      {
        "duration": 165,
        "start_time": "2023-05-15T09:24:01.767Z"
      },
      {
        "duration": 243,
        "start_time": "2023-05-15T09:25:43.298Z"
      },
      {
        "duration": 154,
        "start_time": "2023-05-15T09:26:08.562Z"
      },
      {
        "duration": 206,
        "start_time": "2023-05-15T09:26:59.901Z"
      },
      {
        "duration": 154,
        "start_time": "2023-05-15T09:27:43.326Z"
      },
      {
        "duration": 210,
        "start_time": "2023-05-15T09:28:24.751Z"
      },
      {
        "duration": 142,
        "start_time": "2023-05-15T09:28:55.873Z"
      },
      {
        "duration": 145,
        "start_time": "2023-05-15T09:29:37.591Z"
      },
      {
        "duration": 180,
        "start_time": "2023-05-15T09:32:32.780Z"
      },
      {
        "duration": 170,
        "start_time": "2023-05-15T09:32:57.155Z"
      },
      {
        "duration": 6,
        "start_time": "2023-05-15T09:34:20.509Z"
      },
      {
        "duration": 19,
        "start_time": "2023-05-15T09:34:31.703Z"
      },
      {
        "duration": 18,
        "start_time": "2023-05-15T09:34:46.087Z"
      },
      {
        "duration": 4,
        "start_time": "2023-05-15T09:35:07.426Z"
      },
      {
        "duration": 16,
        "start_time": "2023-05-15T09:35:21.416Z"
      },
      {
        "duration": 10,
        "start_time": "2023-05-15T09:35:57.225Z"
      },
      {
        "duration": 1102,
        "start_time": "2023-05-15T09:36:09.498Z"
      },
      {
        "duration": 14,
        "start_time": "2023-05-15T09:36:28.543Z"
      },
      {
        "duration": 4,
        "start_time": "2023-05-15T09:36:39.135Z"
      },
      {
        "duration": 4,
        "start_time": "2023-05-15T09:37:18.472Z"
      },
      {
        "duration": 8,
        "start_time": "2023-05-15T09:37:48.913Z"
      },
      {
        "duration": 8,
        "start_time": "2023-05-15T09:38:09.075Z"
      },
      {
        "duration": 8,
        "start_time": "2023-05-15T09:40:27.303Z"
      },
      {
        "duration": 11,
        "start_time": "2023-05-15T09:40:35.509Z"
      },
      {
        "duration": 5,
        "start_time": "2023-05-15T09:44:55.650Z"
      },
      {
        "duration": 13,
        "start_time": "2023-05-15T09:46:24.077Z"
      },
      {
        "duration": 10,
        "start_time": "2023-05-15T09:49:12.927Z"
      },
      {
        "duration": 9,
        "start_time": "2023-05-15T09:49:26.896Z"
      },
      {
        "duration": 10,
        "start_time": "2023-05-15T09:50:00.912Z"
      },
      {
        "duration": 180,
        "start_time": "2023-05-15T09:50:39.631Z"
      },
      {
        "duration": 177,
        "start_time": "2023-05-15T09:51:02.027Z"
      },
      {
        "duration": 9,
        "start_time": "2023-05-15T09:51:22.634Z"
      },
      {
        "duration": 9,
        "start_time": "2023-05-15T09:53:10.644Z"
      },
      {
        "duration": 8,
        "start_time": "2023-05-15T09:53:35.565Z"
      },
      {
        "duration": 9,
        "start_time": "2023-05-15T09:55:23.978Z"
      },
      {
        "duration": 97,
        "start_time": "2023-05-15T09:57:06.342Z"
      },
      {
        "duration": 5,
        "start_time": "2023-05-15T09:57:16.042Z"
      },
      {
        "duration": 4,
        "start_time": "2023-05-15T09:57:37.091Z"
      },
      {
        "duration": 3,
        "start_time": "2023-05-15T09:57:44.675Z"
      },
      {
        "duration": 4,
        "start_time": "2023-05-15T09:58:01.699Z"
      },
      {
        "duration": 4,
        "start_time": "2023-05-15T09:58:15.291Z"
      },
      {
        "duration": 11,
        "start_time": "2023-05-15T10:36:14.154Z"
      },
      {
        "duration": 12,
        "start_time": "2023-05-15T10:39:20.213Z"
      },
      {
        "duration": 80,
        "start_time": "2023-05-15T10:39:39.062Z"
      },
      {
        "duration": 34,
        "start_time": "2023-05-15T10:42:09.593Z"
      },
      {
        "duration": 48,
        "start_time": "2023-05-15T10:44:10.692Z"
      },
      {
        "duration": 45,
        "start_time": "2023-05-15T10:46:12.326Z"
      },
      {
        "duration": 8,
        "start_time": "2023-05-15T10:47:29.176Z"
      },
      {
        "duration": 72,
        "start_time": "2023-05-15T10:47:34.948Z"
      },
      {
        "duration": 73,
        "start_time": "2023-05-15T10:49:43.522Z"
      },
      {
        "duration": 129,
        "start_time": "2023-05-15T10:54:53.169Z"
      },
      {
        "duration": 568,
        "start_time": "2023-05-15T10:54:59.856Z"
      },
      {
        "duration": 203,
        "start_time": "2023-05-15T10:55:15.713Z"
      },
      {
        "duration": 76,
        "start_time": "2023-05-15T10:55:34.266Z"
      },
      {
        "duration": 78,
        "start_time": "2023-05-15T10:55:41.466Z"
      },
      {
        "duration": 82,
        "start_time": "2023-05-15T10:55:59.347Z"
      },
      {
        "duration": 76,
        "start_time": "2023-05-15T10:56:06.971Z"
      },
      {
        "duration": 95,
        "start_time": "2023-05-15T10:57:03.988Z"
      },
      {
        "duration": 42,
        "start_time": "2023-05-15T10:57:13.284Z"
      },
      {
        "duration": 83,
        "start_time": "2023-05-15T10:57:25.173Z"
      },
      {
        "duration": 79,
        "start_time": "2023-05-15T10:57:31.077Z"
      },
      {
        "duration": 77,
        "start_time": "2023-05-15T10:57:37.732Z"
      },
      {
        "duration": 79,
        "start_time": "2023-05-15T10:58:06.581Z"
      },
      {
        "duration": 87,
        "start_time": "2023-05-15T10:58:22.985Z"
      },
      {
        "duration": 112,
        "start_time": "2023-05-15T10:58:30.582Z"
      },
      {
        "duration": 106,
        "start_time": "2023-05-15T10:58:44.070Z"
      },
      {
        "duration": 76,
        "start_time": "2023-05-15T10:58:47.695Z"
      },
      {
        "duration": 80,
        "start_time": "2023-05-15T10:58:53.254Z"
      },
      {
        "duration": 108,
        "start_time": "2023-05-15T11:00:07.720Z"
      },
      {
        "duration": 11,
        "start_time": "2023-05-15T11:03:04.412Z"
      },
      {
        "duration": 75,
        "start_time": "2023-05-15T11:03:14.245Z"
      },
      {
        "duration": 95,
        "start_time": "2023-05-15T11:04:07.494Z"
      },
      {
        "duration": 773,
        "start_time": "2023-05-15T11:04:14.677Z"
      },
      {
        "duration": 89,
        "start_time": "2023-05-15T11:04:22.389Z"
      },
      {
        "duration": 89,
        "start_time": "2023-05-15T11:05:31.049Z"
      },
      {
        "duration": 79,
        "start_time": "2023-05-15T11:05:42.176Z"
      },
      {
        "duration": 106,
        "start_time": "2023-05-15T11:06:18.001Z"
      },
      {
        "duration": 92,
        "start_time": "2023-05-15T11:06:22.296Z"
      },
      {
        "duration": 66,
        "start_time": "2023-05-15T11:06:38.152Z"
      },
      {
        "duration": 4,
        "start_time": "2023-05-15T11:06:52.680Z"
      },
      {
        "duration": 1028,
        "start_time": "2023-05-15T11:06:57.536Z"
      },
      {
        "duration": 96,
        "start_time": "2023-05-15T11:07:03.241Z"
      },
      {
        "duration": 99,
        "start_time": "2023-05-15T11:07:22.698Z"
      },
      {
        "duration": 98,
        "start_time": "2023-05-15T11:07:26.850Z"
      },
      {
        "duration": 95,
        "start_time": "2023-05-15T11:07:35.472Z"
      },
      {
        "duration": 61,
        "start_time": "2023-05-15T11:08:09.147Z"
      },
      {
        "duration": 63,
        "start_time": "2023-05-15T11:08:21.523Z"
      },
      {
        "duration": 96,
        "start_time": "2023-05-15T11:08:35.212Z"
      },
      {
        "duration": 91,
        "start_time": "2023-05-15T11:09:59.909Z"
      },
      {
        "duration": 79,
        "start_time": "2023-05-15T11:11:20.623Z"
      },
      {
        "duration": 61,
        "start_time": "2023-05-15T11:11:25.567Z"
      },
      {
        "duration": 68,
        "start_time": "2023-05-15T11:11:36.639Z"
      },
      {
        "duration": 66,
        "start_time": "2023-05-15T11:12:02.016Z"
      },
      {
        "duration": 64,
        "start_time": "2023-05-15T11:12:04.664Z"
      },
      {
        "duration": 66,
        "start_time": "2023-05-15T11:12:12.181Z"
      },
      {
        "duration": 8,
        "start_time": "2023-05-15T11:14:09.569Z"
      },
      {
        "duration": 92,
        "start_time": "2023-05-15T11:16:04.709Z"
      },
      {
        "duration": 78,
        "start_time": "2023-05-15T11:16:06.979Z"
      },
      {
        "duration": 88,
        "start_time": "2023-05-15T11:16:19.381Z"
      },
      {
        "duration": 69,
        "start_time": "2023-05-15T11:24:32.893Z"
      },
      {
        "duration": 79,
        "start_time": "2023-05-15T11:24:36.382Z"
      },
      {
        "duration": 44,
        "start_time": "2023-05-15T11:25:08.598Z"
      },
      {
        "duration": 87,
        "start_time": "2023-05-15T11:26:08.079Z"
      },
      {
        "duration": 78,
        "start_time": "2023-05-15T11:26:12.007Z"
      },
      {
        "duration": 44,
        "start_time": "2023-05-15T11:26:19.771Z"
      },
      {
        "duration": 44,
        "start_time": "2023-05-15T11:26:25.424Z"
      },
      {
        "duration": 116,
        "start_time": "2023-05-15T11:44:53.087Z"
      },
      {
        "duration": 117,
        "start_time": "2023-05-15T11:44:59.780Z"
      },
      {
        "duration": 32,
        "start_time": "2023-05-15T11:47:14.869Z"
      },
      {
        "duration": 50,
        "start_time": "2023-05-15T11:48:28.643Z"
      },
      {
        "duration": 12,
        "start_time": "2023-05-15T11:58:12.475Z"
      },
      {
        "duration": 82,
        "start_time": "2023-05-15T11:58:33.070Z"
      },
      {
        "duration": 74,
        "start_time": "2023-05-15T12:00:53.306Z"
      },
      {
        "duration": 76,
        "start_time": "2023-05-15T12:01:05.305Z"
      },
      {
        "duration": 71,
        "start_time": "2023-05-15T12:01:16.052Z"
      },
      {
        "duration": 86,
        "start_time": "2023-05-15T12:01:37.675Z"
      },
      {
        "duration": 82,
        "start_time": "2023-05-15T12:02:28.828Z"
      },
      {
        "duration": 81,
        "start_time": "2023-05-15T12:06:01.569Z"
      },
      {
        "duration": 42,
        "start_time": "2023-05-15T12:06:38.408Z"
      },
      {
        "duration": 37,
        "start_time": "2023-05-15T12:10:49.919Z"
      },
      {
        "duration": 41,
        "start_time": "2023-05-15T12:11:18.153Z"
      },
      {
        "duration": 40,
        "start_time": "2023-05-15T12:17:33.455Z"
      },
      {
        "duration": 46,
        "start_time": "2023-05-15T12:17:39.384Z"
      },
      {
        "duration": 41,
        "start_time": "2023-05-15T12:18:15.409Z"
      },
      {
        "duration": 39,
        "start_time": "2023-05-15T12:19:10.482Z"
      },
      {
        "duration": 38,
        "start_time": "2023-05-15T12:19:14.441Z"
      },
      {
        "duration": 38,
        "start_time": "2023-05-15T12:19:23.553Z"
      },
      {
        "duration": 37,
        "start_time": "2023-05-15T12:19:42.838Z"
      },
      {
        "duration": 42,
        "start_time": "2023-05-15T12:20:16.218Z"
      },
      {
        "duration": 39,
        "start_time": "2023-05-15T12:20:21.706Z"
      },
      {
        "duration": 168,
        "start_time": "2023-05-15T12:20:49.292Z"
      },
      {
        "duration": 399,
        "start_time": "2023-05-15T12:20:59.399Z"
      },
      {
        "duration": 75,
        "start_time": "2023-05-15T12:21:20.395Z"
      },
      {
        "duration": 68,
        "start_time": "2023-05-15T12:21:32.812Z"
      },
      {
        "duration": 71,
        "start_time": "2023-05-15T12:21:36.436Z"
      },
      {
        "duration": 38,
        "start_time": "2023-05-15T13:15:37.815Z"
      },
      {
        "duration": 41,
        "start_time": "2023-05-15T13:15:44.272Z"
      },
      {
        "duration": 74,
        "start_time": "2023-05-15T15:01:06.299Z"
      },
      {
        "duration": 51,
        "start_time": "2023-05-15T15:01:13.151Z"
      },
      {
        "duration": 92,
        "start_time": "2023-05-15T15:03:29.396Z"
      },
      {
        "duration": 48,
        "start_time": "2023-05-15T15:03:29.834Z"
      },
      {
        "duration": 6,
        "start_time": "2023-05-15T15:03:53.154Z"
      },
      {
        "duration": 5,
        "start_time": "2023-05-15T15:04:22.499Z"
      },
      {
        "duration": 5,
        "start_time": "2023-05-15T15:05:25.983Z"
      },
      {
        "duration": 71,
        "start_time": "2023-05-15T15:12:16.293Z"
      },
      {
        "duration": 79,
        "start_time": "2023-05-15T15:12:22.165Z"
      },
      {
        "duration": 78,
        "start_time": "2023-05-15T15:12:26.413Z"
      },
      {
        "duration": 8,
        "start_time": "2023-05-15T16:11:19.120Z"
      },
      {
        "duration": 3,
        "start_time": "2023-05-15T16:12:01.053Z"
      },
      {
        "duration": 1683,
        "start_time": "2023-05-15T16:12:02.519Z"
      },
      {
        "duration": 1199,
        "start_time": "2023-05-15T16:14:06.842Z"
      },
      {
        "duration": 1158,
        "start_time": "2023-05-15T16:14:36.834Z"
      },
      {
        "duration": 1758,
        "start_time": "2023-05-15T16:15:20.671Z"
      },
      {
        "duration": 1202,
        "start_time": "2023-05-15T16:15:27.507Z"
      },
      {
        "duration": 2513,
        "start_time": "2023-05-15T16:15:59.979Z"
      },
      {
        "duration": 5,
        "start_time": "2023-05-15T16:16:35.123Z"
      },
      {
        "duration": 81,
        "start_time": "2023-05-15T16:19:10.987Z"
      },
      {
        "duration": 50,
        "start_time": "2023-05-15T16:19:26.951Z"
      },
      {
        "duration": 78,
        "start_time": "2023-05-15T16:21:14.887Z"
      },
      {
        "duration": 47,
        "start_time": "2023-05-15T16:21:22.961Z"
      },
      {
        "duration": 4,
        "start_time": "2023-05-15T16:21:37.074Z"
      },
      {
        "duration": 4,
        "start_time": "2023-05-15T16:22:02.668Z"
      },
      {
        "duration": 3,
        "start_time": "2023-05-15T16:22:07.915Z"
      },
      {
        "duration": 4,
        "start_time": "2023-05-15T19:07:44.951Z"
      },
      {
        "duration": 3,
        "start_time": "2023-05-15T19:07:46.418Z"
      },
      {
        "duration": 4,
        "start_time": "2023-05-15T19:28:51.144Z"
      },
      {
        "duration": 4,
        "start_time": "2023-05-15T19:28:56.960Z"
      },
      {
        "duration": 5,
        "start_time": "2023-05-15T19:29:00.224Z"
      },
      {
        "duration": 6,
        "start_time": "2023-05-15T19:32:44.275Z"
      },
      {
        "duration": 5,
        "start_time": "2023-05-15T19:32:46.036Z"
      },
      {
        "duration": 5,
        "start_time": "2023-05-15T19:33:35.910Z"
      },
      {
        "duration": 4,
        "start_time": "2023-05-15T19:33:37.102Z"
      },
      {
        "duration": 6,
        "start_time": "2023-05-15T19:35:47.426Z"
      },
      {
        "duration": 5,
        "start_time": "2023-05-15T19:35:48.891Z"
      },
      {
        "duration": 6,
        "start_time": "2023-05-15T19:38:21.206Z"
      },
      {
        "duration": 11,
        "start_time": "2023-05-15T19:38:21.525Z"
      },
      {
        "duration": 3,
        "start_time": "2023-05-15T19:39:55.126Z"
      },
      {
        "duration": 7,
        "start_time": "2023-05-15T19:39:59.788Z"
      },
      {
        "duration": 13,
        "start_time": "2023-05-15T19:40:00.288Z"
      },
      {
        "duration": 6,
        "start_time": "2023-05-15T19:40:10.089Z"
      },
      {
        "duration": 9,
        "start_time": "2023-05-15T19:40:10.326Z"
      },
      {
        "duration": 8,
        "start_time": "2023-05-15T19:49:01.263Z"
      },
      {
        "duration": 14,
        "start_time": "2023-05-15T19:49:01.522Z"
      },
      {
        "duration": 7,
        "start_time": "2023-05-15T19:52:49.888Z"
      },
      {
        "duration": 14,
        "start_time": "2023-05-15T19:52:54.143Z"
      },
      {
        "duration": 9,
        "start_time": "2023-05-15T19:53:19.465Z"
      },
      {
        "duration": 13,
        "start_time": "2023-05-15T19:53:19.952Z"
      },
      {
        "duration": 78,
        "start_time": "2023-05-15T19:53:49.191Z"
      },
      {
        "duration": 10,
        "start_time": "2023-05-15T19:53:49.749Z"
      },
      {
        "duration": 84,
        "start_time": "2023-05-15T19:54:16.410Z"
      },
      {
        "duration": 14,
        "start_time": "2023-05-15T19:54:16.815Z"
      },
      {
        "duration": 80,
        "start_time": "2023-05-15T19:56:38.771Z"
      },
      {
        "duration": 15,
        "start_time": "2023-05-15T19:56:39.051Z"
      },
      {
        "duration": 7,
        "start_time": "2023-05-15T19:57:02.430Z"
      },
      {
        "duration": 11,
        "start_time": "2023-05-15T19:57:02.956Z"
      },
      {
        "duration": 8,
        "start_time": "2023-05-15T20:00:39.692Z"
      },
      {
        "duration": 14,
        "start_time": "2023-05-15T20:00:40.143Z"
      },
      {
        "duration": 17,
        "start_time": "2023-05-15T20:00:52.875Z"
      },
      {
        "duration": 14,
        "start_time": "2023-05-15T20:00:53.225Z"
      },
      {
        "duration": 7,
        "start_time": "2023-05-15T20:01:23.059Z"
      },
      {
        "duration": 15,
        "start_time": "2023-05-15T20:01:23.392Z"
      },
      {
        "duration": 7,
        "start_time": "2023-05-15T20:01:51.202Z"
      },
      {
        "duration": 10,
        "start_time": "2023-05-15T20:01:51.448Z"
      },
      {
        "duration": 7,
        "start_time": "2023-05-15T20:02:28.453Z"
      },
      {
        "duration": 14,
        "start_time": "2023-05-15T20:02:28.702Z"
      },
      {
        "duration": 1413,
        "start_time": "2023-05-16T09:47:49.156Z"
      },
      {
        "duration": 4,
        "start_time": "2023-05-16T09:47:50.572Z"
      },
      {
        "duration": 552,
        "start_time": "2023-05-16T09:47:50.578Z"
      },
      {
        "duration": 8,
        "start_time": "2023-05-16T09:47:51.132Z"
      },
      {
        "duration": 51,
        "start_time": "2023-05-16T09:47:51.142Z"
      },
      {
        "duration": 79,
        "start_time": "2023-05-16T09:47:51.195Z"
      },
      {
        "duration": 95,
        "start_time": "2023-05-16T09:47:51.277Z"
      },
      {
        "duration": 74,
        "start_time": "2023-05-16T09:47:51.374Z"
      },
      {
        "duration": 31,
        "start_time": "2023-05-16T09:47:51.451Z"
      },
      {
        "duration": 98,
        "start_time": "2023-05-16T09:47:51.484Z"
      },
      {
        "duration": 29,
        "start_time": "2023-05-16T09:47:51.585Z"
      },
      {
        "duration": 4,
        "start_time": "2023-05-16T09:47:51.616Z"
      },
      {
        "duration": 28,
        "start_time": "2023-05-16T09:47:51.623Z"
      },
      {
        "duration": 30,
        "start_time": "2023-05-16T09:47:51.656Z"
      },
      {
        "duration": 41,
        "start_time": "2023-05-16T09:47:51.688Z"
      },
      {
        "duration": 304,
        "start_time": "2023-05-16T09:47:51.730Z"
      },
      {
        "duration": 48,
        "start_time": "2023-05-16T09:47:52.036Z"
      },
      {
        "duration": 218,
        "start_time": "2023-05-16T09:47:52.086Z"
      },
      {
        "duration": 12,
        "start_time": "2023-05-16T09:47:52.306Z"
      },
      {
        "duration": 8,
        "start_time": "2023-05-16T09:47:52.320Z"
      },
      {
        "duration": 46,
        "start_time": "2023-05-16T09:47:52.330Z"
      },
      {
        "duration": 35,
        "start_time": "2023-05-16T09:47:52.378Z"
      },
      {
        "duration": 100,
        "start_time": "2023-05-16T09:47:52.415Z"
      },
      {
        "duration": 12,
        "start_time": "2023-05-16T09:47:52.518Z"
      },
      {
        "duration": 37,
        "start_time": "2023-05-16T09:47:52.532Z"
      },
      {
        "duration": 17,
        "start_time": "2023-05-16T09:47:52.571Z"
      },
      {
        "duration": 32,
        "start_time": "2023-05-16T09:47:52.591Z"
      },
      {
        "duration": 36,
        "start_time": "2023-05-16T09:47:52.625Z"
      },
      {
        "duration": 26,
        "start_time": "2023-05-16T09:47:52.664Z"
      },
      {
        "duration": 55,
        "start_time": "2023-05-16T09:47:52.692Z"
      },
      {
        "duration": 43,
        "start_time": "2023-05-16T09:47:52.749Z"
      },
      {
        "duration": 180,
        "start_time": "2023-05-16T09:47:52.794Z"
      },
      {
        "duration": 97,
        "start_time": "2023-05-16T09:47:52.976Z"
      },
      {
        "duration": 49,
        "start_time": "2023-05-16T09:47:53.075Z"
      },
      {
        "duration": 7,
        "start_time": "2023-05-16T09:47:53.127Z"
      },
      {
        "duration": 46,
        "start_time": "2023-05-16T09:47:53.136Z"
      },
      {
        "duration": 99,
        "start_time": "2023-05-16T09:47:53.184Z"
      },
      {
        "duration": 51,
        "start_time": "2023-05-16T09:47:53.285Z"
      },
      {
        "duration": 152,
        "start_time": "2023-05-16T09:47:53.338Z"
      },
      {
        "duration": 48,
        "start_time": "2023-05-16T09:47:53.491Z"
      },
      {
        "duration": 29,
        "start_time": "2023-05-16T09:47:53.542Z"
      },
      {
        "duration": 8,
        "start_time": "2023-05-16T10:15:11.852Z"
      },
      {
        "duration": 10,
        "start_time": "2023-05-16T10:16:42.407Z"
      },
      {
        "duration": 244,
        "start_time": "2023-05-16T10:19:03.890Z"
      },
      {
        "duration": 4,
        "start_time": "2023-05-16T10:19:22.553Z"
      },
      {
        "duration": 7,
        "start_time": "2023-05-16T10:20:11.796Z"
      },
      {
        "duration": 3,
        "start_time": "2023-05-16T10:20:57.573Z"
      },
      {
        "duration": 4,
        "start_time": "2023-05-16T10:21:06.401Z"
      },
      {
        "duration": 4,
        "start_time": "2023-05-16T10:21:38.307Z"
      },
      {
        "duration": 5,
        "start_time": "2023-05-16T10:22:34.265Z"
      },
      {
        "duration": 7,
        "start_time": "2023-05-16T10:23:11.002Z"
      },
      {
        "duration": 9,
        "start_time": "2023-05-16T10:24:59.714Z"
      },
      {
        "duration": 7,
        "start_time": "2023-05-16T10:25:19.312Z"
      },
      {
        "duration": 1108,
        "start_time": "2023-05-16T13:00:14.251Z"
      },
      {
        "duration": 656,
        "start_time": "2023-05-16T13:00:47.811Z"
      },
      {
        "duration": 83,
        "start_time": "2023-05-16T13:07:37.463Z"
      },
      {
        "duration": 742,
        "start_time": "2023-05-16T13:07:44.599Z"
      },
      {
        "duration": 525,
        "start_time": "2023-05-16T13:13:21.423Z"
      },
      {
        "duration": 727,
        "start_time": "2023-05-16T13:13:55.689Z"
      },
      {
        "duration": 1011,
        "start_time": "2023-05-16T13:14:00.659Z"
      },
      {
        "duration": 16,
        "start_time": "2023-05-16T13:15:22.907Z"
      },
      {
        "duration": 28,
        "start_time": "2023-05-16T13:16:00.565Z"
      },
      {
        "duration": 486,
        "start_time": "2023-05-16T13:19:51.751Z"
      },
      {
        "duration": 5,
        "start_time": "2023-05-16T13:21:59.422Z"
      },
      {
        "duration": 599,
        "start_time": "2023-05-16T13:24:57.754Z"
      },
      {
        "duration": 612,
        "start_time": "2023-05-16T13:25:15.282Z"
      },
      {
        "duration": 957,
        "start_time": "2023-05-16T13:25:18.497Z"
      },
      {
        "duration": 559,
        "start_time": "2023-05-16T13:25:35.036Z"
      },
      {
        "duration": 18,
        "start_time": "2023-05-16T13:26:54.453Z"
      },
      {
        "duration": 29,
        "start_time": "2023-05-16T13:27:03.508Z"
      },
      {
        "duration": 17,
        "start_time": "2023-05-16T13:27:18.692Z"
      },
      {
        "duration": 28,
        "start_time": "2023-05-16T13:27:37.519Z"
      },
      {
        "duration": 19,
        "start_time": "2023-05-16T13:28:11.249Z"
      },
      {
        "duration": 20,
        "start_time": "2023-05-16T13:29:10.401Z"
      },
      {
        "duration": 25,
        "start_time": "2023-05-16T13:29:33.053Z"
      },
      {
        "duration": 1288,
        "start_time": "2023-05-16T13:30:23.957Z"
      },
      {
        "duration": 3,
        "start_time": "2023-05-16T13:30:25.248Z"
      },
      {
        "duration": 243,
        "start_time": "2023-05-16T13:30:25.253Z"
      },
      {
        "duration": 13,
        "start_time": "2023-05-16T13:30:25.498Z"
      },
      {
        "duration": 50,
        "start_time": "2023-05-16T13:30:25.514Z"
      },
      {
        "duration": 105,
        "start_time": "2023-05-16T13:30:25.567Z"
      },
      {
        "duration": 100,
        "start_time": "2023-05-16T13:30:25.683Z"
      },
      {
        "duration": 80,
        "start_time": "2023-05-16T13:30:25.787Z"
      },
      {
        "duration": 20,
        "start_time": "2023-05-16T13:30:25.869Z"
      },
      {
        "duration": 157,
        "start_time": "2023-05-16T13:30:25.891Z"
      },
      {
        "duration": 67,
        "start_time": "2023-05-16T13:30:26.050Z"
      },
      {
        "duration": 25,
        "start_time": "2023-05-16T13:30:26.119Z"
      },
      {
        "duration": 73,
        "start_time": "2023-05-16T13:30:26.147Z"
      },
      {
        "duration": 13,
        "start_time": "2023-05-16T13:30:26.225Z"
      },
      {
        "duration": 43,
        "start_time": "2023-05-16T13:30:26.241Z"
      },
      {
        "duration": 424,
        "start_time": "2023-05-16T13:30:26.287Z"
      },
      {
        "duration": 37,
        "start_time": "2023-05-16T13:30:26.713Z"
      },
      {
        "duration": 271,
        "start_time": "2023-05-16T13:30:26.753Z"
      },
      {
        "duration": 18,
        "start_time": "2023-05-16T13:30:27.026Z"
      },
      {
        "duration": 6,
        "start_time": "2023-05-16T13:30:27.047Z"
      },
      {
        "duration": 43,
        "start_time": "2023-05-16T13:30:27.055Z"
      },
      {
        "duration": 39,
        "start_time": "2023-05-16T13:30:27.106Z"
      },
      {
        "duration": 111,
        "start_time": "2023-05-16T13:30:27.147Z"
      },
      {
        "duration": 45,
        "start_time": "2023-05-16T13:30:27.260Z"
      },
      {
        "duration": 30,
        "start_time": "2023-05-16T13:30:27.309Z"
      },
      {
        "duration": 17,
        "start_time": "2023-05-16T13:30:27.343Z"
      },
      {
        "duration": 55,
        "start_time": "2023-05-16T13:30:27.363Z"
      },
      {
        "duration": 26,
        "start_time": "2023-05-16T13:30:27.420Z"
      },
      {
        "duration": 21,
        "start_time": "2023-05-16T13:30:27.449Z"
      },
      {
        "duration": 107,
        "start_time": "2023-05-16T13:30:27.479Z"
      },
      {
        "duration": 75,
        "start_time": "2023-05-16T13:30:27.590Z"
      },
      {
        "duration": 227,
        "start_time": "2023-05-16T13:30:27.671Z"
      },
      {
        "duration": 113,
        "start_time": "2023-05-16T13:30:27.901Z"
      },
      {
        "duration": 67,
        "start_time": "2023-05-16T13:30:28.016Z"
      },
      {
        "duration": 12,
        "start_time": "2023-05-16T13:30:28.085Z"
      },
      {
        "duration": 51,
        "start_time": "2023-05-16T13:30:28.100Z"
      },
      {
        "duration": 26,
        "start_time": "2023-05-16T13:30:28.153Z"
      },
      {
        "duration": 50,
        "start_time": "2023-05-16T13:30:28.181Z"
      },
      {
        "duration": 19,
        "start_time": "2023-05-16T13:30:28.233Z"
      },
      {
        "duration": 11,
        "start_time": "2023-05-16T13:30:28.254Z"
      },
      {
        "duration": 61,
        "start_time": "2023-05-16T13:30:28.269Z"
      },
      {
        "duration": 35,
        "start_time": "2023-05-16T13:31:37.453Z"
      },
      {
        "duration": 1328,
        "start_time": "2023-05-16T13:31:49.753Z"
      },
      {
        "duration": 10,
        "start_time": "2023-05-16T13:31:51.088Z"
      },
      {
        "duration": 216,
        "start_time": "2023-05-16T13:31:51.104Z"
      },
      {
        "duration": 13,
        "start_time": "2023-05-16T13:31:51.323Z"
      },
      {
        "duration": 51,
        "start_time": "2023-05-16T13:31:51.339Z"
      },
      {
        "duration": 81,
        "start_time": "2023-05-16T13:31:51.392Z"
      },
      {
        "duration": 105,
        "start_time": "2023-05-16T13:31:51.481Z"
      },
      {
        "duration": 89,
        "start_time": "2023-05-16T13:31:51.589Z"
      },
      {
        "duration": 22,
        "start_time": "2023-05-16T13:31:51.683Z"
      },
      {
        "duration": 118,
        "start_time": "2023-05-16T13:31:51.707Z"
      },
      {
        "duration": 29,
        "start_time": "2023-05-16T13:31:51.828Z"
      },
      {
        "duration": 9,
        "start_time": "2023-05-16T13:31:51.879Z"
      },
      {
        "duration": 29,
        "start_time": "2023-05-16T13:31:51.893Z"
      },
      {
        "duration": 10,
        "start_time": "2023-05-16T13:31:51.927Z"
      },
      {
        "duration": 72,
        "start_time": "2023-05-16T13:31:51.939Z"
      },
      {
        "duration": 421,
        "start_time": "2023-05-16T13:31:52.014Z"
      },
      {
        "duration": 68,
        "start_time": "2023-05-16T13:31:52.437Z"
      },
      {
        "duration": 287,
        "start_time": "2023-05-16T13:31:52.508Z"
      },
      {
        "duration": 20,
        "start_time": "2023-05-16T13:31:52.797Z"
      },
      {
        "duration": 21,
        "start_time": "2023-05-16T13:31:52.819Z"
      },
      {
        "duration": 37,
        "start_time": "2023-05-16T13:31:52.842Z"
      },
      {
        "duration": 63,
        "start_time": "2023-05-16T13:31:52.881Z"
      },
      {
        "duration": 131,
        "start_time": "2023-05-16T13:31:52.947Z"
      },
      {
        "duration": 18,
        "start_time": "2023-05-16T13:31:53.083Z"
      },
      {
        "duration": 33,
        "start_time": "2023-05-16T13:31:53.104Z"
      },
      {
        "duration": 26,
        "start_time": "2023-05-16T13:31:53.139Z"
      },
      {
        "duration": 56,
        "start_time": "2023-05-16T13:31:53.167Z"
      },
      {
        "duration": 14,
        "start_time": "2023-05-16T13:31:53.226Z"
      },
      {
        "duration": 16,
        "start_time": "2023-05-16T13:31:53.242Z"
      },
      {
        "duration": 139,
        "start_time": "2023-05-16T13:31:53.261Z"
      },
      {
        "duration": 47,
        "start_time": "2023-05-16T13:31:53.410Z"
      },
      {
        "duration": 186,
        "start_time": "2023-05-16T13:31:53.460Z"
      },
      {
        "duration": 142,
        "start_time": "2023-05-16T13:31:53.649Z"
      },
      {
        "duration": 78,
        "start_time": "2023-05-16T13:31:53.795Z"
      },
      {
        "duration": 22,
        "start_time": "2023-05-16T13:31:53.877Z"
      },
      {
        "duration": 68,
        "start_time": "2023-05-16T13:31:53.901Z"
      },
      {
        "duration": 54,
        "start_time": "2023-05-16T13:31:53.972Z"
      },
      {
        "duration": 16,
        "start_time": "2023-05-16T13:31:54.028Z"
      },
      {
        "duration": 20,
        "start_time": "2023-05-16T13:31:54.046Z"
      },
      {
        "duration": 61,
        "start_time": "2023-05-16T13:31:54.068Z"
      },
      {
        "duration": 25,
        "start_time": "2023-05-16T13:31:54.132Z"
      },
      {
        "duration": 13,
        "start_time": "2023-05-16T13:34:17.496Z"
      },
      {
        "duration": 10,
        "start_time": "2023-05-16T13:34:32.298Z"
      },
      {
        "duration": 1341,
        "start_time": "2023-05-16T13:34:41.488Z"
      },
      {
        "duration": 3,
        "start_time": "2023-05-16T13:34:42.831Z"
      },
      {
        "duration": 216,
        "start_time": "2023-05-16T13:34:42.836Z"
      },
      {
        "duration": 10,
        "start_time": "2023-05-16T13:34:43.054Z"
      },
      {
        "duration": 47,
        "start_time": "2023-05-16T13:34:43.074Z"
      },
      {
        "duration": 80,
        "start_time": "2023-05-16T13:34:43.123Z"
      },
      {
        "duration": 102,
        "start_time": "2023-05-16T13:34:43.205Z"
      },
      {
        "duration": 82,
        "start_time": "2023-05-16T13:34:43.309Z"
      },
      {
        "duration": 21,
        "start_time": "2023-05-16T13:34:43.393Z"
      },
      {
        "duration": 152,
        "start_time": "2023-05-16T13:34:43.417Z"
      },
      {
        "duration": 66,
        "start_time": "2023-05-16T13:34:43.573Z"
      },
      {
        "duration": 4,
        "start_time": "2023-05-16T13:34:43.640Z"
      },
      {
        "duration": 68,
        "start_time": "2023-05-16T13:34:43.647Z"
      },
      {
        "duration": 16,
        "start_time": "2023-05-16T13:34:43.717Z"
      },
      {
        "duration": 75,
        "start_time": "2023-05-16T13:34:43.737Z"
      },
      {
        "duration": 386,
        "start_time": "2023-05-16T13:34:43.815Z"
      },
      {
        "duration": 40,
        "start_time": "2023-05-16T13:34:44.203Z"
      },
      {
        "duration": 275,
        "start_time": "2023-05-16T13:34:44.245Z"
      },
      {
        "duration": 14,
        "start_time": "2023-05-16T13:34:44.524Z"
      },
      {
        "duration": 5,
        "start_time": "2023-05-16T13:34:44.540Z"
      },
      {
        "duration": 11,
        "start_time": "2023-05-16T13:34:44.548Z"
      },
      {
        "duration": 65,
        "start_time": "2023-05-16T13:34:44.561Z"
      },
      {
        "duration": 88,
        "start_time": "2023-05-16T13:34:44.628Z"
      },
      {
        "duration": 14,
        "start_time": "2023-05-16T13:34:44.719Z"
      },
      {
        "duration": 17,
        "start_time": "2023-05-16T13:34:44.736Z"
      },
      {
        "duration": 33,
        "start_time": "2023-05-16T13:34:44.755Z"
      },
      {
        "duration": 31,
        "start_time": "2023-05-16T13:34:44.790Z"
      },
      {
        "duration": 22,
        "start_time": "2023-05-16T13:34:44.825Z"
      },
      {
        "duration": 9,
        "start_time": "2023-05-16T13:34:44.848Z"
      },
      {
        "duration": 64,
        "start_time": "2023-05-16T13:34:44.859Z"
      },
      {
        "duration": 87,
        "start_time": "2023-05-16T13:34:44.925Z"
      },
      {
        "duration": 197,
        "start_time": "2023-05-16T13:34:45.017Z"
      },
      {
        "duration": 105,
        "start_time": "2023-05-16T13:34:45.216Z"
      },
      {
        "duration": 62,
        "start_time": "2023-05-16T13:34:45.323Z"
      },
      {
        "duration": 18,
        "start_time": "2023-05-16T13:34:45.388Z"
      },
      {
        "duration": 28,
        "start_time": "2023-05-16T13:34:45.409Z"
      },
      {
        "duration": 25,
        "start_time": "2023-05-16T13:34:45.439Z"
      },
      {
        "duration": 44,
        "start_time": "2023-05-16T13:34:45.466Z"
      },
      {
        "duration": 23,
        "start_time": "2023-05-16T13:34:45.512Z"
      },
      {
        "duration": 13,
        "start_time": "2023-05-16T13:34:45.538Z"
      },
      {
        "duration": 25,
        "start_time": "2023-05-16T13:34:45.553Z"
      },
      {
        "duration": 39,
        "start_time": "2023-05-16T13:34:45.591Z"
      },
      {
        "duration": 130,
        "start_time": "2023-05-16T13:34:45.632Z"
      },
      {
        "duration": 0,
        "start_time": "2023-05-16T13:34:45.772Z"
      },
      {
        "duration": 20,
        "start_time": "2023-05-16T13:35:06.610Z"
      },
      {
        "duration": 1270,
        "start_time": "2023-05-16T13:36:02.019Z"
      },
      {
        "duration": 4,
        "start_time": "2023-05-16T13:36:03.292Z"
      },
      {
        "duration": 214,
        "start_time": "2023-05-16T13:36:03.297Z"
      },
      {
        "duration": 10,
        "start_time": "2023-05-16T13:36:03.514Z"
      },
      {
        "duration": 55,
        "start_time": "2023-05-16T13:36:03.527Z"
      },
      {
        "duration": 103,
        "start_time": "2023-05-16T13:36:03.589Z"
      },
      {
        "duration": 101,
        "start_time": "2023-05-16T13:36:03.695Z"
      },
      {
        "duration": 111,
        "start_time": "2023-05-16T13:36:03.799Z"
      },
      {
        "duration": 19,
        "start_time": "2023-05-16T13:36:03.913Z"
      },
      {
        "duration": 113,
        "start_time": "2023-05-16T13:36:03.934Z"
      },
      {
        "duration": 71,
        "start_time": "2023-05-16T13:36:04.049Z"
      },
      {
        "duration": 7,
        "start_time": "2023-05-16T13:36:04.123Z"
      },
      {
        "duration": 27,
        "start_time": "2023-05-16T13:36:04.134Z"
      },
      {
        "duration": 26,
        "start_time": "2023-05-16T13:36:04.166Z"
      },
      {
        "duration": 41,
        "start_time": "2023-05-16T13:36:04.195Z"
      },
      {
        "duration": 398,
        "start_time": "2023-05-16T13:36:04.238Z"
      },
      {
        "duration": 53,
        "start_time": "2023-05-16T13:36:04.638Z"
      },
      {
        "duration": 260,
        "start_time": "2023-05-16T13:36:04.694Z"
      },
      {
        "duration": 31,
        "start_time": "2023-05-16T13:36:04.957Z"
      },
      {
        "duration": 94,
        "start_time": "2023-05-16T13:36:04.992Z"
      },
      {
        "duration": 29,
        "start_time": "2023-05-16T13:36:05.090Z"
      },
      {
        "duration": 41,
        "start_time": "2023-05-16T13:36:05.121Z"
      },
      {
        "duration": 118,
        "start_time": "2023-05-16T13:36:05.165Z"
      },
      {
        "duration": 18,
        "start_time": "2023-05-16T13:36:05.285Z"
      },
      {
        "duration": 53,
        "start_time": "2023-05-16T13:36:05.306Z"
      },
      {
        "duration": 27,
        "start_time": "2023-05-16T13:36:05.362Z"
      },
      {
        "duration": 31,
        "start_time": "2023-05-16T13:36:05.391Z"
      },
      {
        "duration": 30,
        "start_time": "2023-05-16T13:36:05.425Z"
      },
      {
        "duration": 33,
        "start_time": "2023-05-16T13:36:05.457Z"
      },
      {
        "duration": 60,
        "start_time": "2023-05-16T13:36:05.493Z"
      },
      {
        "duration": 49,
        "start_time": "2023-05-16T13:36:05.555Z"
      },
      {
        "duration": 203,
        "start_time": "2023-05-16T13:36:05.606Z"
      },
      {
        "duration": 115,
        "start_time": "2023-05-16T13:36:05.812Z"
      },
      {
        "duration": 74,
        "start_time": "2023-05-16T13:36:05.930Z"
      },
      {
        "duration": 13,
        "start_time": "2023-05-16T13:36:06.007Z"
      },
      {
        "duration": 620,
        "start_time": "2023-05-16T13:36:06.023Z"
      },
      {
        "duration": 30,
        "start_time": "2023-05-16T13:36:06.645Z"
      },
      {
        "duration": 44,
        "start_time": "2023-05-16T13:36:06.677Z"
      },
      {
        "duration": 20,
        "start_time": "2023-05-16T13:36:06.723Z"
      },
      {
        "duration": 21,
        "start_time": "2023-05-16T13:36:06.745Z"
      },
      {
        "duration": 33,
        "start_time": "2023-05-16T13:36:06.770Z"
      },
      {
        "duration": 23,
        "start_time": "2023-05-16T13:36:06.805Z"
      },
      {
        "duration": 45,
        "start_time": "2023-05-16T13:36:06.830Z"
      },
      {
        "duration": 1288,
        "start_time": "2023-05-16T13:36:22.550Z"
      },
      {
        "duration": 5,
        "start_time": "2023-05-16T13:36:23.841Z"
      },
      {
        "duration": 226,
        "start_time": "2023-05-16T13:36:23.848Z"
      },
      {
        "duration": 14,
        "start_time": "2023-05-16T13:36:24.077Z"
      },
      {
        "duration": 37,
        "start_time": "2023-05-16T13:36:24.098Z"
      },
      {
        "duration": 96,
        "start_time": "2023-05-16T13:36:24.137Z"
      },
      {
        "duration": 106,
        "start_time": "2023-05-16T13:36:24.236Z"
      },
      {
        "duration": 91,
        "start_time": "2023-05-16T13:36:24.344Z"
      },
      {
        "duration": 18,
        "start_time": "2023-05-16T13:36:24.438Z"
      },
      {
        "duration": 88,
        "start_time": "2023-05-16T13:36:24.479Z"
      },
      {
        "duration": 50,
        "start_time": "2023-05-16T13:36:24.580Z"
      },
      {
        "duration": 5,
        "start_time": "2023-05-16T13:36:24.632Z"
      },
      {
        "duration": 20,
        "start_time": "2023-05-16T13:36:24.639Z"
      },
      {
        "duration": 39,
        "start_time": "2023-05-16T13:36:24.663Z"
      },
      {
        "duration": 51,
        "start_time": "2023-05-16T13:36:24.717Z"
      },
      {
        "duration": 388,
        "start_time": "2023-05-16T13:36:24.771Z"
      },
      {
        "duration": 54,
        "start_time": "2023-05-16T13:36:25.162Z"
      },
      {
        "duration": 309,
        "start_time": "2023-05-16T13:36:25.217Z"
      },
      {
        "duration": 18,
        "start_time": "2023-05-16T13:36:25.529Z"
      },
      {
        "duration": 43,
        "start_time": "2023-05-16T13:36:25.550Z"
      },
      {
        "duration": 21,
        "start_time": "2023-05-16T13:36:25.596Z"
      },
      {
        "duration": 81,
        "start_time": "2023-05-16T13:36:25.620Z"
      },
      {
        "duration": 121,
        "start_time": "2023-05-16T13:36:25.704Z"
      },
      {
        "duration": 27,
        "start_time": "2023-05-16T13:36:25.828Z"
      },
      {
        "duration": 65,
        "start_time": "2023-05-16T13:36:25.858Z"
      },
      {
        "duration": 24,
        "start_time": "2023-05-16T13:36:25.925Z"
      },
      {
        "duration": 84,
        "start_time": "2023-05-16T13:36:25.952Z"
      },
      {
        "duration": 81,
        "start_time": "2023-05-16T13:36:26.039Z"
      },
      {
        "duration": 39,
        "start_time": "2023-05-16T13:36:26.122Z"
      },
      {
        "duration": 115,
        "start_time": "2023-05-16T13:36:26.164Z"
      },
      {
        "duration": 69,
        "start_time": "2023-05-16T13:36:26.282Z"
      },
      {
        "duration": 238,
        "start_time": "2023-05-16T13:36:26.353Z"
      },
      {
        "duration": 101,
        "start_time": "2023-05-16T13:36:26.594Z"
      },
      {
        "duration": 51,
        "start_time": "2023-05-16T13:36:26.697Z"
      },
      {
        "duration": 29,
        "start_time": "2023-05-16T13:36:26.750Z"
      },
      {
        "duration": 79,
        "start_time": "2023-05-16T13:36:26.781Z"
      },
      {
        "duration": 68,
        "start_time": "2023-05-16T13:36:26.862Z"
      },
      {
        "duration": 21,
        "start_time": "2023-05-16T13:36:26.933Z"
      },
      {
        "duration": 14,
        "start_time": "2023-05-16T13:36:26.956Z"
      },
      {
        "duration": 30,
        "start_time": "2023-05-16T13:36:26.976Z"
      },
      {
        "duration": 20,
        "start_time": "2023-05-16T13:36:27.010Z"
      },
      {
        "duration": 46,
        "start_time": "2023-05-16T13:36:27.032Z"
      },
      {
        "duration": 49,
        "start_time": "2023-05-16T13:36:27.082Z"
      },
      {
        "duration": 151,
        "start_time": "2023-05-16T13:49:20.006Z"
      },
      {
        "duration": 14,
        "start_time": "2023-05-16T13:50:52.020Z"
      },
      {
        "duration": 14,
        "start_time": "2023-05-16T13:50:55.597Z"
      },
      {
        "duration": 27,
        "start_time": "2023-05-16T13:53:11.324Z"
      },
      {
        "duration": 1694,
        "start_time": "2023-05-16T13:53:25.713Z"
      },
      {
        "duration": 4,
        "start_time": "2023-05-16T13:53:27.414Z"
      },
      {
        "duration": 282,
        "start_time": "2023-05-16T13:53:27.421Z"
      },
      {
        "duration": 19,
        "start_time": "2023-05-16T13:53:27.705Z"
      },
      {
        "duration": 24,
        "start_time": "2023-05-16T13:53:27.727Z"
      },
      {
        "duration": 138,
        "start_time": "2023-05-16T13:53:27.753Z"
      },
      {
        "duration": 137,
        "start_time": "2023-05-16T13:53:27.893Z"
      },
      {
        "duration": 115,
        "start_time": "2023-05-16T13:53:28.034Z"
      },
      {
        "duration": 46,
        "start_time": "2023-05-16T13:53:28.152Z"
      },
      {
        "duration": 134,
        "start_time": "2023-05-16T13:53:28.205Z"
      },
      {
        "duration": 53,
        "start_time": "2023-05-16T13:53:28.342Z"
      },
      {
        "duration": 66,
        "start_time": "2023-05-16T13:53:28.399Z"
      },
      {
        "duration": 72,
        "start_time": "2023-05-16T13:53:28.468Z"
      },
      {
        "duration": 9,
        "start_time": "2023-05-16T13:53:28.545Z"
      },
      {
        "duration": 54,
        "start_time": "2023-05-16T13:53:28.556Z"
      },
      {
        "duration": 408,
        "start_time": "2023-05-16T13:53:28.615Z"
      },
      {
        "duration": 42,
        "start_time": "2023-05-16T13:53:29.029Z"
      },
      {
        "duration": 324,
        "start_time": "2023-05-16T13:53:29.084Z"
      },
      {
        "duration": 21,
        "start_time": "2023-05-16T13:53:29.410Z"
      },
      {
        "duration": 22,
        "start_time": "2023-05-16T13:53:29.438Z"
      },
      {
        "duration": 82,
        "start_time": "2023-05-16T13:53:29.463Z"
      },
      {
        "duration": 66,
        "start_time": "2023-05-16T13:53:29.548Z"
      },
      {
        "duration": 141,
        "start_time": "2023-05-16T13:53:29.618Z"
      },
      {
        "duration": 33,
        "start_time": "2023-05-16T13:53:29.761Z"
      },
      {
        "duration": 83,
        "start_time": "2023-05-16T13:53:29.798Z"
      },
      {
        "duration": 64,
        "start_time": "2023-05-16T13:53:29.885Z"
      },
      {
        "duration": 58,
        "start_time": "2023-05-16T13:53:29.951Z"
      },
      {
        "duration": 41,
        "start_time": "2023-05-16T13:53:30.012Z"
      },
      {
        "duration": 68,
        "start_time": "2023-05-16T13:53:30.056Z"
      },
      {
        "duration": 126,
        "start_time": "2023-05-16T13:53:30.129Z"
      },
      {
        "duration": 123,
        "start_time": "2023-05-16T13:53:30.257Z"
      },
      {
        "duration": 313,
        "start_time": "2023-05-16T13:53:30.382Z"
      },
      {
        "duration": 133,
        "start_time": "2023-05-16T13:53:30.697Z"
      },
      {
        "duration": 196,
        "start_time": "2023-05-16T13:53:30.833Z"
      },
      {
        "duration": 17,
        "start_time": "2023-05-16T13:53:31.031Z"
      },
      {
        "duration": 187,
        "start_time": "2023-05-16T13:53:31.050Z"
      },
      {
        "duration": 95,
        "start_time": "2023-05-16T13:53:31.238Z"
      },
      {
        "duration": 28,
        "start_time": "2023-05-16T13:53:31.335Z"
      },
      {
        "duration": 71,
        "start_time": "2023-05-16T13:53:31.365Z"
      },
      {
        "duration": 90,
        "start_time": "2023-05-16T13:53:31.437Z"
      },
      {
        "duration": 117,
        "start_time": "2023-05-16T13:53:31.532Z"
      },
      {
        "duration": 97,
        "start_time": "2023-05-16T13:53:31.651Z"
      },
      {
        "duration": 64,
        "start_time": "2023-05-16T13:53:31.750Z"
      },
      {
        "duration": 24,
        "start_time": "2023-05-16T13:56:01.925Z"
      },
      {
        "duration": 14,
        "start_time": "2023-05-16T13:56:05.521Z"
      },
      {
        "duration": 1356,
        "start_time": "2023-05-16T13:56:29.254Z"
      },
      {
        "duration": 5,
        "start_time": "2023-05-16T13:56:30.613Z"
      },
      {
        "duration": 339,
        "start_time": "2023-05-16T13:56:30.622Z"
      },
      {
        "duration": 21,
        "start_time": "2023-05-16T13:56:30.964Z"
      },
      {
        "duration": 143,
        "start_time": "2023-05-16T13:56:30.988Z"
      },
      {
        "duration": 140,
        "start_time": "2023-05-16T13:56:31.133Z"
      },
      {
        "duration": 115,
        "start_time": "2023-05-16T13:56:31.275Z"
      },
      {
        "duration": 93,
        "start_time": "2023-05-16T13:56:31.397Z"
      },
      {
        "duration": 20,
        "start_time": "2023-05-16T13:56:31.491Z"
      },
      {
        "duration": 142,
        "start_time": "2023-05-16T13:56:31.514Z"
      },
      {
        "duration": 67,
        "start_time": "2023-05-16T13:56:31.659Z"
      },
      {
        "duration": 5,
        "start_time": "2023-05-16T13:56:31.728Z"
      },
      {
        "duration": 88,
        "start_time": "2023-05-16T13:56:31.735Z"
      },
      {
        "duration": 52,
        "start_time": "2023-05-16T13:56:31.828Z"
      },
      {
        "duration": 76,
        "start_time": "2023-05-16T13:56:31.888Z"
      },
      {
        "duration": 426,
        "start_time": "2023-05-16T13:56:31.966Z"
      },
      {
        "duration": 40,
        "start_time": "2023-05-16T13:56:32.394Z"
      },
      {
        "duration": 261,
        "start_time": "2023-05-16T13:56:32.436Z"
      },
      {
        "duration": 13,
        "start_time": "2023-05-16T13:56:32.699Z"
      },
      {
        "duration": 23,
        "start_time": "2023-05-16T13:56:32.715Z"
      },
      {
        "duration": 14,
        "start_time": "2023-05-16T13:56:32.740Z"
      },
      {
        "duration": 88,
        "start_time": "2023-05-16T13:56:32.756Z"
      },
      {
        "duration": 119,
        "start_time": "2023-05-16T13:56:32.847Z"
      },
      {
        "duration": 20,
        "start_time": "2023-05-16T13:56:32.968Z"
      },
      {
        "duration": 30,
        "start_time": "2023-05-16T13:56:32.991Z"
      },
      {
        "duration": 16,
        "start_time": "2023-05-16T13:56:33.024Z"
      },
      {
        "duration": 18,
        "start_time": "2023-05-16T13:56:33.043Z"
      },
      {
        "duration": 7,
        "start_time": "2023-05-16T13:56:33.072Z"
      },
      {
        "duration": 4,
        "start_time": "2023-05-16T13:56:33.081Z"
      },
      {
        "duration": 99,
        "start_time": "2023-05-16T13:56:33.092Z"
      },
      {
        "duration": 48,
        "start_time": "2023-05-16T13:56:33.192Z"
      },
      {
        "duration": 201,
        "start_time": "2023-05-16T13:56:33.242Z"
      },
      {
        "duration": 110,
        "start_time": "2023-05-16T13:56:33.445Z"
      },
      {
        "duration": 61,
        "start_time": "2023-05-16T13:56:33.557Z"
      },
      {
        "duration": 9,
        "start_time": "2023-05-16T13:56:33.620Z"
      },
      {
        "duration": 112,
        "start_time": "2023-05-16T13:56:33.631Z"
      },
      {
        "duration": 73,
        "start_time": "2023-05-16T13:56:33.746Z"
      },
      {
        "duration": 25,
        "start_time": "2023-05-16T13:56:33.821Z"
      },
      {
        "duration": 22,
        "start_time": "2023-05-16T13:56:33.849Z"
      },
      {
        "duration": 47,
        "start_time": "2023-05-16T13:56:33.873Z"
      },
      {
        "duration": 28,
        "start_time": "2023-05-16T13:56:33.926Z"
      },
      {
        "duration": 45,
        "start_time": "2023-05-16T13:56:33.957Z"
      },
      {
        "duration": 37,
        "start_time": "2023-05-16T13:56:34.005Z"
      },
      {
        "duration": 34,
        "start_time": "2023-05-16T13:56:34.045Z"
      },
      {
        "duration": 27,
        "start_time": "2023-05-16T13:59:16.894Z"
      },
      {
        "duration": 32,
        "start_time": "2023-05-16T13:59:22.251Z"
      },
      {
        "duration": 14,
        "start_time": "2023-05-16T13:59:24.065Z"
      },
      {
        "duration": 41,
        "start_time": "2023-05-16T14:00:09.161Z"
      },
      {
        "duration": 87,
        "start_time": "2023-05-16T14:03:09.264Z"
      },
      {
        "duration": 21,
        "start_time": "2023-05-16T14:03:20.758Z"
      },
      {
        "duration": 22,
        "start_time": "2023-05-16T14:03:33.953Z"
      },
      {
        "duration": 14,
        "start_time": "2023-05-16T14:03:36.321Z"
      },
      {
        "duration": 31,
        "start_time": "2023-05-16T14:04:02.009Z"
      },
      {
        "duration": 14,
        "start_time": "2023-05-16T14:09:46.721Z"
      },
      {
        "duration": 19,
        "start_time": "2023-05-16T14:09:52.717Z"
      },
      {
        "duration": 1622,
        "start_time": "2023-05-16T14:10:09.158Z"
      },
      {
        "duration": 13,
        "start_time": "2023-05-16T14:10:10.789Z"
      },
      {
        "duration": 301,
        "start_time": "2023-05-16T14:10:10.808Z"
      },
      {
        "duration": 25,
        "start_time": "2023-05-16T14:10:11.113Z"
      },
      {
        "duration": 46,
        "start_time": "2023-05-16T14:10:11.142Z"
      },
      {
        "duration": 188,
        "start_time": "2023-05-16T14:10:11.191Z"
      },
      {
        "duration": 128,
        "start_time": "2023-05-16T14:10:11.385Z"
      },
      {
        "duration": 151,
        "start_time": "2023-05-16T14:10:11.520Z"
      },
      {
        "duration": 72,
        "start_time": "2023-05-16T14:10:11.682Z"
      },
      {
        "duration": 224,
        "start_time": "2023-05-16T14:10:11.757Z"
      },
      {
        "duration": 148,
        "start_time": "2023-05-16T14:10:11.983Z"
      },
      {
        "duration": 43,
        "start_time": "2023-05-16T14:10:12.142Z"
      },
      {
        "duration": 163,
        "start_time": "2023-05-16T14:10:12.190Z"
      },
      {
        "duration": 183,
        "start_time": "2023-05-16T14:10:12.359Z"
      },
      {
        "duration": 158,
        "start_time": "2023-05-16T14:10:12.548Z"
      },
      {
        "duration": 572,
        "start_time": "2023-05-16T14:10:12.709Z"
      },
      {
        "duration": 64,
        "start_time": "2023-05-16T14:10:13.284Z"
      },
      {
        "duration": 385,
        "start_time": "2023-05-16T14:10:13.355Z"
      },
      {
        "duration": 27,
        "start_time": "2023-05-16T14:10:13.746Z"
      },
      {
        "duration": 78,
        "start_time": "2023-05-16T14:10:13.780Z"
      },
      {
        "duration": 15,
        "start_time": "2023-05-16T14:10:13.861Z"
      },
      {
        "duration": 163,
        "start_time": "2023-05-16T14:10:13.882Z"
      },
      {
        "duration": 129,
        "start_time": "2023-05-16T14:10:14.052Z"
      },
      {
        "duration": 49,
        "start_time": "2023-05-16T14:10:14.189Z"
      },
      {
        "duration": 94,
        "start_time": "2023-05-16T14:10:14.247Z"
      },
      {
        "duration": 167,
        "start_time": "2023-05-16T14:10:14.344Z"
      },
      {
        "duration": 116,
        "start_time": "2023-05-16T14:10:14.524Z"
      },
      {
        "duration": 29,
        "start_time": "2023-05-16T14:10:14.651Z"
      },
      {
        "duration": 172,
        "start_time": "2023-05-16T14:10:14.687Z"
      },
      {
        "duration": 164,
        "start_time": "2023-05-16T14:10:14.870Z"
      },
      {
        "duration": 102,
        "start_time": "2023-05-16T14:10:15.036Z"
      },
      {
        "duration": 343,
        "start_time": "2023-05-16T14:10:15.140Z"
      },
      {
        "duration": 198,
        "start_time": "2023-05-16T14:10:15.500Z"
      },
      {
        "duration": 80,
        "start_time": "2023-05-16T14:10:15.707Z"
      },
      {
        "duration": 20,
        "start_time": "2023-05-16T14:10:15.795Z"
      },
      {
        "duration": 104,
        "start_time": "2023-05-16T14:10:15.822Z"
      },
      {
        "duration": 122,
        "start_time": "2023-05-16T14:10:15.933Z"
      },
      {
        "duration": 110,
        "start_time": "2023-05-16T14:10:16.057Z"
      },
      {
        "duration": 127,
        "start_time": "2023-05-16T14:10:16.171Z"
      },
      {
        "duration": 62,
        "start_time": "2023-05-16T14:10:16.305Z"
      },
      {
        "duration": 132,
        "start_time": "2023-05-16T14:10:16.371Z"
      },
      {
        "duration": 16,
        "start_time": "2023-05-16T14:23:22.622Z"
      },
      {
        "duration": 5,
        "start_time": "2023-05-16T14:23:24.357Z"
      },
      {
        "duration": 21,
        "start_time": "2023-05-16T14:29:59.258Z"
      },
      {
        "duration": 36,
        "start_time": "2023-05-16T14:41:08.510Z"
      },
      {
        "duration": 5,
        "start_time": "2023-05-16T14:41:09.517Z"
      },
      {
        "duration": 14,
        "start_time": "2023-05-16T14:42:41.016Z"
      },
      {
        "duration": 9,
        "start_time": "2023-05-16T14:42:42.045Z"
      },
      {
        "duration": 10,
        "start_time": "2023-05-16T14:44:44.053Z"
      },
      {
        "duration": 13,
        "start_time": "2023-05-16T14:44:45.216Z"
      },
      {
        "duration": 45,
        "start_time": "2023-05-16T14:45:26.400Z"
      },
      {
        "duration": 7,
        "start_time": "2023-05-16T17:32:47.917Z"
      },
      {
        "duration": 9,
        "start_time": "2023-05-16T17:32:55.909Z"
      },
      {
        "duration": 12,
        "start_time": "2023-05-16T17:32:56.241Z"
      },
      {
        "duration": 113,
        "start_time": "2023-05-16T17:37:23.846Z"
      },
      {
        "duration": 7,
        "start_time": "2023-05-16T17:37:31.994Z"
      },
      {
        "duration": 8,
        "start_time": "2023-05-16T17:37:32.490Z"
      },
      {
        "duration": 5,
        "start_time": "2023-05-16T17:44:00.025Z"
      },
      {
        "duration": 7,
        "start_time": "2023-05-16T17:44:02.188Z"
      },
      {
        "duration": 4,
        "start_time": "2023-05-16T17:44:02.602Z"
      },
      {
        "duration": 10,
        "start_time": "2023-05-16T17:55:08.701Z"
      },
      {
        "duration": 5,
        "start_time": "2023-05-16T17:55:50.041Z"
      },
      {
        "duration": 13,
        "start_time": "2023-05-16T18:06:12.692Z"
      },
      {
        "duration": 33,
        "start_time": "2023-05-16T18:06:17.194Z"
      },
      {
        "duration": 4,
        "start_time": "2023-05-16T18:17:51.835Z"
      },
      {
        "duration": 6,
        "start_time": "2023-05-16T18:28:07.019Z"
      },
      {
        "duration": 20,
        "start_time": "2023-05-16T18:28:07.721Z"
      },
      {
        "duration": 4,
        "start_time": "2023-05-16T18:28:08.942Z"
      },
      {
        "duration": 42,
        "start_time": "2023-05-16T18:28:29.059Z"
      },
      {
        "duration": 6,
        "start_time": "2023-05-16T18:29:14.599Z"
      },
      {
        "duration": 16,
        "start_time": "2023-05-16T18:29:15.253Z"
      },
      {
        "duration": 7,
        "start_time": "2023-05-16T18:29:15.900Z"
      },
      {
        "duration": 5,
        "start_time": "2023-05-16T18:33:32.820Z"
      },
      {
        "duration": 11,
        "start_time": "2023-05-16T18:33:33.728Z"
      },
      {
        "duration": 4,
        "start_time": "2023-05-16T18:33:34.134Z"
      },
      {
        "duration": 5,
        "start_time": "2023-05-16T18:33:52.155Z"
      },
      {
        "duration": 4,
        "start_time": "2023-05-16T18:36:47.286Z"
      },
      {
        "duration": 5,
        "start_time": "2023-05-16T18:37:44.292Z"
      },
      {
        "duration": 11,
        "start_time": "2023-05-16T18:37:44.816Z"
      },
      {
        "duration": 4,
        "start_time": "2023-05-16T18:37:45.246Z"
      },
      {
        "duration": 7,
        "start_time": "2023-05-16T18:40:35.997Z"
      },
      {
        "duration": 11,
        "start_time": "2023-05-16T18:40:36.295Z"
      },
      {
        "duration": 6,
        "start_time": "2023-05-16T18:40:36.893Z"
      },
      {
        "duration": 105,
        "start_time": "2023-05-16T18:42:41.807Z"
      },
      {
        "duration": 15,
        "start_time": "2023-05-16T18:42:42.102Z"
      },
      {
        "duration": 4,
        "start_time": "2023-05-16T18:42:42.806Z"
      },
      {
        "duration": 10,
        "start_time": "2023-05-16T18:42:44.022Z"
      },
      {
        "duration": 5,
        "start_time": "2023-05-16T18:44:33.694Z"
      },
      {
        "duration": 10,
        "start_time": "2023-05-16T18:44:34.263Z"
      },
      {
        "duration": 4,
        "start_time": "2023-05-16T18:44:34.661Z"
      },
      {
        "duration": 11,
        "start_time": "2023-05-16T18:44:35.712Z"
      },
      {
        "duration": 4,
        "start_time": "2023-05-16T18:44:43.954Z"
      },
      {
        "duration": 10,
        "start_time": "2023-05-16T18:44:44.673Z"
      },
      {
        "duration": 1247,
        "start_time": "2023-05-16T18:45:49.444Z"
      },
      {
        "duration": 4,
        "start_time": "2023-05-16T18:45:50.693Z"
      },
      {
        "duration": 200,
        "start_time": "2023-05-16T18:45:50.698Z"
      },
      {
        "duration": 9,
        "start_time": "2023-05-16T18:45:50.900Z"
      },
      {
        "duration": 37,
        "start_time": "2023-05-16T18:45:50.912Z"
      },
      {
        "duration": 84,
        "start_time": "2023-05-16T18:45:50.951Z"
      },
      {
        "duration": 103,
        "start_time": "2023-05-16T18:45:51.037Z"
      },
      {
        "duration": 85,
        "start_time": "2023-05-16T18:45:51.142Z"
      },
      {
        "duration": 17,
        "start_time": "2023-05-16T18:45:51.229Z"
      },
      {
        "duration": 99,
        "start_time": "2023-05-16T18:45:51.247Z"
      },
      {
        "duration": 36,
        "start_time": "2023-05-16T18:45:51.348Z"
      },
      {
        "duration": 4,
        "start_time": "2023-05-16T18:45:51.387Z"
      },
      {
        "duration": 12,
        "start_time": "2023-05-16T18:45:51.393Z"
      },
      {
        "duration": 8,
        "start_time": "2023-05-16T18:45:51.409Z"
      },
      {
        "duration": 58,
        "start_time": "2023-05-16T18:45:51.419Z"
      },
      {
        "duration": 343,
        "start_time": "2023-05-16T18:45:51.480Z"
      },
      {
        "duration": 36,
        "start_time": "2023-05-16T18:45:51.825Z"
      },
      {
        "duration": 239,
        "start_time": "2023-05-16T18:45:51.862Z"
      },
      {
        "duration": 11,
        "start_time": "2023-05-16T18:45:52.103Z"
      },
      {
        "duration": 4,
        "start_time": "2023-05-16T18:45:52.116Z"
      },
      {
        "duration": 8,
        "start_time": "2023-05-16T18:45:52.122Z"
      },
      {
        "duration": 51,
        "start_time": "2023-05-16T18:45:52.132Z"
      },
      {
        "duration": 76,
        "start_time": "2023-05-16T18:45:52.186Z"
      },
      {
        "duration": 19,
        "start_time": "2023-05-16T18:45:52.270Z"
      },
      {
        "duration": 17,
        "start_time": "2023-05-16T18:45:52.291Z"
      },
      {
        "duration": 12,
        "start_time": "2023-05-16T18:45:52.309Z"
      },
      {
        "duration": 11,
        "start_time": "2023-05-16T18:45:52.323Z"
      },
      {
        "duration": 11,
        "start_time": "2023-05-16T18:45:52.336Z"
      },
      {
        "duration": 5,
        "start_time": "2023-05-16T18:45:52.373Z"
      },
      {
        "duration": 78,
        "start_time": "2023-05-16T18:45:52.380Z"
      },
      {
        "duration": 60,
        "start_time": "2023-05-16T18:45:52.461Z"
      },
      {
        "duration": 183,
        "start_time": "2023-05-16T18:45:52.524Z"
      },
      {
        "duration": 103,
        "start_time": "2023-05-16T18:45:52.709Z"
      },
      {
        "duration": 70,
        "start_time": "2023-05-16T18:45:52.814Z"
      },
      {
        "duration": 6,
        "start_time": "2023-05-16T18:45:52.886Z"
      },
      {
        "duration": 13,
        "start_time": "2023-05-16T18:45:52.894Z"
      },
      {
        "duration": 140,
        "start_time": "2023-05-16T18:45:52.909Z"
      },
      {
        "duration": 0,
        "start_time": "2023-05-16T18:45:53.051Z"
      },
      {
        "duration": 0,
        "start_time": "2023-05-16T18:45:53.053Z"
      },
      {
        "duration": 0,
        "start_time": "2023-05-16T18:45:53.055Z"
      },
      {
        "duration": 0,
        "start_time": "2023-05-16T18:45:53.056Z"
      },
      {
        "duration": 0,
        "start_time": "2023-05-16T18:45:53.071Z"
      },
      {
        "duration": 0,
        "start_time": "2023-05-16T18:45:53.074Z"
      },
      {
        "duration": 0,
        "start_time": "2023-05-16T18:45:53.076Z"
      },
      {
        "duration": 8,
        "start_time": "2023-05-16T18:46:58.845Z"
      },
      {
        "duration": 6,
        "start_time": "2023-05-16T18:46:59.212Z"
      },
      {
        "duration": 26,
        "start_time": "2023-05-16T18:47:00.956Z"
      },
      {
        "duration": 6,
        "start_time": "2023-05-16T18:49:43.120Z"
      },
      {
        "duration": 5,
        "start_time": "2023-05-16T18:49:43.402Z"
      },
      {
        "duration": 10,
        "start_time": "2023-05-16T18:49:43.739Z"
      },
      {
        "duration": 26,
        "start_time": "2023-05-16T18:50:34.962Z"
      },
      {
        "duration": 4,
        "start_time": "2023-05-16T18:50:35.353Z"
      },
      {
        "duration": 11,
        "start_time": "2023-05-16T18:50:35.706Z"
      },
      {
        "duration": 1252,
        "start_time": "2023-05-16T18:50:42.211Z"
      },
      {
        "duration": 9,
        "start_time": "2023-05-16T18:50:43.465Z"
      },
      {
        "duration": 200,
        "start_time": "2023-05-16T18:50:43.478Z"
      },
      {
        "duration": 12,
        "start_time": "2023-05-16T18:50:43.681Z"
      },
      {
        "duration": 33,
        "start_time": "2023-05-16T18:50:43.696Z"
      },
      {
        "duration": 79,
        "start_time": "2023-05-16T18:50:43.730Z"
      },
      {
        "duration": 88,
        "start_time": "2023-05-16T18:50:43.810Z"
      },
      {
        "duration": 89,
        "start_time": "2023-05-16T18:50:43.900Z"
      },
      {
        "duration": 17,
        "start_time": "2023-05-16T18:50:43.991Z"
      },
      {
        "duration": 112,
        "start_time": "2023-05-16T18:50:44.010Z"
      },
      {
        "duration": 35,
        "start_time": "2023-05-16T18:50:44.125Z"
      },
      {
        "duration": 10,
        "start_time": "2023-05-16T18:50:44.175Z"
      },
      {
        "duration": 12,
        "start_time": "2023-05-16T18:50:44.189Z"
      },
      {
        "duration": 11,
        "start_time": "2023-05-16T18:50:44.206Z"
      },
      {
        "duration": 29,
        "start_time": "2023-05-16T18:50:44.220Z"
      },
      {
        "duration": 345,
        "start_time": "2023-05-16T18:50:44.252Z"
      },
      {
        "duration": 40,
        "start_time": "2023-05-16T18:50:44.599Z"
      },
      {
        "duration": 226,
        "start_time": "2023-05-16T18:50:44.641Z"
      },
      {
        "duration": 14,
        "start_time": "2023-05-16T18:50:44.871Z"
      },
      {
        "duration": 12,
        "start_time": "2023-05-16T18:50:44.887Z"
      },
      {
        "duration": 11,
        "start_time": "2023-05-16T18:50:44.901Z"
      },
      {
        "duration": 33,
        "start_time": "2023-05-16T18:50:44.914Z"
      },
      {
        "duration": 78,
        "start_time": "2023-05-16T18:50:44.973Z"
      },
      {
        "duration": 29,
        "start_time": "2023-05-16T18:50:45.053Z"
      },
      {
        "duration": 16,
        "start_time": "2023-05-16T18:50:45.085Z"
      },
      {
        "duration": 15,
        "start_time": "2023-05-16T18:50:45.102Z"
      },
      {
        "duration": 20,
        "start_time": "2023-05-16T18:50:45.120Z"
      },
      {
        "duration": 17,
        "start_time": "2023-05-16T18:50:45.142Z"
      },
      {
        "duration": 24,
        "start_time": "2023-05-16T18:50:45.161Z"
      },
      {
        "duration": 68,
        "start_time": "2023-05-16T18:50:45.187Z"
      },
      {
        "duration": 53,
        "start_time": "2023-05-16T18:50:45.257Z"
      },
      {
        "duration": 203,
        "start_time": "2023-05-16T18:50:45.313Z"
      },
      {
        "duration": 97,
        "start_time": "2023-05-16T18:50:45.518Z"
      },
      {
        "duration": 57,
        "start_time": "2023-05-16T18:50:45.617Z"
      },
      {
        "duration": 128,
        "start_time": "2023-05-16T18:50:45.675Z"
      },
      {
        "duration": 0,
        "start_time": "2023-05-16T18:50:45.806Z"
      },
      {
        "duration": 0,
        "start_time": "2023-05-16T18:50:45.808Z"
      },
      {
        "duration": 0,
        "start_time": "2023-05-16T18:50:45.810Z"
      },
      {
        "duration": 0,
        "start_time": "2023-05-16T18:50:45.811Z"
      },
      {
        "duration": 0,
        "start_time": "2023-05-16T18:50:45.813Z"
      },
      {
        "duration": 0,
        "start_time": "2023-05-16T18:50:45.814Z"
      },
      {
        "duration": 0,
        "start_time": "2023-05-16T18:50:45.815Z"
      },
      {
        "duration": 0,
        "start_time": "2023-05-16T18:50:45.817Z"
      },
      {
        "duration": 0,
        "start_time": "2023-05-16T18:50:45.818Z"
      },
      {
        "duration": 1249,
        "start_time": "2023-05-16T18:51:01.928Z"
      },
      {
        "duration": 4,
        "start_time": "2023-05-16T18:51:03.187Z"
      },
      {
        "duration": 210,
        "start_time": "2023-05-16T18:51:03.193Z"
      },
      {
        "duration": 9,
        "start_time": "2023-05-16T18:51:03.405Z"
      },
      {
        "duration": 26,
        "start_time": "2023-05-16T18:51:03.417Z"
      },
      {
        "duration": 94,
        "start_time": "2023-05-16T18:51:03.445Z"
      },
      {
        "duration": 96,
        "start_time": "2023-05-16T18:51:03.541Z"
      },
      {
        "duration": 78,
        "start_time": "2023-05-16T18:51:03.638Z"
      },
      {
        "duration": 15,
        "start_time": "2023-05-16T18:51:03.718Z"
      },
      {
        "duration": 102,
        "start_time": "2023-05-16T18:51:03.735Z"
      },
      {
        "duration": 46,
        "start_time": "2023-05-16T18:51:03.839Z"
      },
      {
        "duration": 4,
        "start_time": "2023-05-16T18:51:03.887Z"
      },
      {
        "duration": 16,
        "start_time": "2023-05-16T18:51:03.893Z"
      },
      {
        "duration": 5,
        "start_time": "2023-05-16T18:51:03.913Z"
      },
      {
        "duration": 34,
        "start_time": "2023-05-16T18:51:03.920Z"
      },
      {
        "duration": 331,
        "start_time": "2023-05-16T18:51:03.972Z"
      },
      {
        "duration": 34,
        "start_time": "2023-05-16T18:51:04.305Z"
      },
      {
        "duration": 252,
        "start_time": "2023-05-16T18:51:04.341Z"
      },
      {
        "duration": 12,
        "start_time": "2023-05-16T18:51:04.595Z"
      },
      {
        "duration": 5,
        "start_time": "2023-05-16T18:51:04.610Z"
      },
      {
        "duration": 10,
        "start_time": "2023-05-16T18:51:04.617Z"
      },
      {
        "duration": 64,
        "start_time": "2023-05-16T18:51:04.629Z"
      },
      {
        "duration": 97,
        "start_time": "2023-05-16T18:51:04.696Z"
      },
      {
        "duration": 11,
        "start_time": "2023-05-16T18:51:04.794Z"
      },
      {
        "duration": 18,
        "start_time": "2023-05-16T18:51:04.807Z"
      },
      {
        "duration": 15,
        "start_time": "2023-05-16T18:51:04.827Z"
      },
      {
        "duration": 30,
        "start_time": "2023-05-16T18:51:04.844Z"
      },
      {
        "duration": 22,
        "start_time": "2023-05-16T18:51:04.878Z"
      },
      {
        "duration": 25,
        "start_time": "2023-05-16T18:51:04.902Z"
      },
      {
        "duration": 66,
        "start_time": "2023-05-16T18:51:04.930Z"
      },
      {
        "duration": 47,
        "start_time": "2023-05-16T18:51:04.998Z"
      },
      {
        "duration": 198,
        "start_time": "2023-05-16T18:51:05.047Z"
      },
      {
        "duration": 104,
        "start_time": "2023-05-16T18:51:05.248Z"
      },
      {
        "duration": 64,
        "start_time": "2023-05-16T18:51:05.354Z"
      },
      {
        "duration": 6,
        "start_time": "2023-05-16T18:51:05.421Z"
      },
      {
        "duration": 13,
        "start_time": "2023-05-16T18:51:05.429Z"
      },
      {
        "duration": 34,
        "start_time": "2023-05-16T18:51:05.444Z"
      },
      {
        "duration": 35,
        "start_time": "2023-05-16T18:51:05.480Z"
      },
      {
        "duration": 9,
        "start_time": "2023-05-16T18:51:05.518Z"
      },
      {
        "duration": 16,
        "start_time": "2023-05-16T18:51:05.529Z"
      },
      {
        "duration": 12,
        "start_time": "2023-05-16T18:51:05.550Z"
      },
      {
        "duration": 30,
        "start_time": "2023-05-16T18:51:05.564Z"
      },
      {
        "duration": 8,
        "start_time": "2023-05-16T18:51:05.596Z"
      },
      {
        "duration": 23,
        "start_time": "2023-05-16T18:51:05.607Z"
      },
      {
        "duration": 9,
        "start_time": "2023-05-16T18:53:58.434Z"
      },
      {
        "duration": 9,
        "start_time": "2023-05-16T18:53:58.736Z"
      },
      {
        "duration": 118,
        "start_time": "2023-05-16T18:56:42.019Z"
      },
      {
        "duration": 4,
        "start_time": "2023-05-16T18:56:42.315Z"
      },
      {
        "duration": 125,
        "start_time": "2023-05-16T18:56:43.233Z"
      },
      {
        "duration": 7,
        "start_time": "2023-05-16T18:57:16.188Z"
      },
      {
        "duration": 5,
        "start_time": "2023-05-16T18:57:16.705Z"
      },
      {
        "duration": 18,
        "start_time": "2023-05-16T18:57:17.322Z"
      },
      {
        "duration": 117,
        "start_time": "2023-05-16T19:00:24.320Z"
      },
      {
        "duration": 5,
        "start_time": "2023-05-16T19:00:24.615Z"
      },
      {
        "duration": 20,
        "start_time": "2023-05-16T19:00:25.829Z"
      },
      {
        "duration": 5,
        "start_time": "2023-05-16T19:00:59.103Z"
      },
      {
        "duration": 4,
        "start_time": "2023-05-16T19:00:59.943Z"
      },
      {
        "duration": 6,
        "start_time": "2023-05-16T19:01:56.495Z"
      },
      {
        "duration": 13,
        "start_time": "2023-05-16T19:01:56.898Z"
      },
      {
        "duration": 11,
        "start_time": "2023-05-16T19:02:05.009Z"
      },
      {
        "duration": 18,
        "start_time": "2023-05-16T19:02:05.713Z"
      },
      {
        "duration": 4,
        "start_time": "2023-05-16T19:02:39.146Z"
      },
      {
        "duration": 16,
        "start_time": "2023-05-16T19:02:40.338Z"
      },
      {
        "duration": 15,
        "start_time": "2023-05-16T19:04:04.507Z"
      },
      {
        "duration": 15,
        "start_time": "2023-05-16T19:04:31.090Z"
      },
      {
        "duration": 11,
        "start_time": "2023-05-16T19:07:12.568Z"
      },
      {
        "duration": 21,
        "start_time": "2023-05-16T19:07:12.790Z"
      },
      {
        "duration": 12,
        "start_time": "2023-05-16T19:07:18.688Z"
      },
      {
        "duration": 194,
        "start_time": "2023-05-16T19:14:00.321Z"
      },
      {
        "duration": 96,
        "start_time": "2023-05-16T19:14:32.091Z"
      },
      {
        "duration": 14,
        "start_time": "2023-05-16T19:15:37.040Z"
      },
      {
        "duration": 7,
        "start_time": "2023-05-16T19:15:39.929Z"
      },
      {
        "duration": 37,
        "start_time": "2023-05-16T19:15:40.189Z"
      },
      {
        "duration": 36,
        "start_time": "2023-05-16T19:16:04.254Z"
      },
      {
        "duration": 20,
        "start_time": "2023-05-16T19:16:18.023Z"
      },
      {
        "duration": 4,
        "start_time": "2023-05-16T19:17:42.244Z"
      },
      {
        "duration": 44,
        "start_time": "2023-05-16T19:17:42.598Z"
      },
      {
        "duration": 6,
        "start_time": "2023-05-16T19:50:52.801Z"
      },
      {
        "duration": 22,
        "start_time": "2023-05-16T19:50:53.245Z"
      },
      {
        "duration": 10,
        "start_time": "2023-05-16T19:52:35.692Z"
      },
      {
        "duration": 23,
        "start_time": "2023-05-16T19:52:35.929Z"
      },
      {
        "duration": 11,
        "start_time": "2023-05-16T19:58:13.191Z"
      },
      {
        "duration": 21,
        "start_time": "2023-05-16T19:58:13.435Z"
      },
      {
        "duration": 7,
        "start_time": "2023-05-16T19:58:48.611Z"
      },
      {
        "duration": 19,
        "start_time": "2023-05-16T19:58:48.919Z"
      },
      {
        "duration": 13,
        "start_time": "2023-05-16T20:00:31.711Z"
      },
      {
        "duration": 21,
        "start_time": "2023-05-16T20:00:31.935Z"
      },
      {
        "duration": 37,
        "start_time": "2023-05-16T20:04:09.293Z"
      },
      {
        "duration": 34,
        "start_time": "2023-05-16T20:04:35.510Z"
      },
      {
        "duration": 19,
        "start_time": "2023-05-16T20:06:00.293Z"
      },
      {
        "duration": 19,
        "start_time": "2023-05-16T20:06:38.790Z"
      },
      {
        "duration": 6,
        "start_time": "2023-05-16T20:09:10.238Z"
      },
      {
        "duration": 25,
        "start_time": "2023-05-16T20:09:10.518Z"
      },
      {
        "duration": 18,
        "start_time": "2023-05-16T20:11:24.145Z"
      },
      {
        "duration": 26,
        "start_time": "2023-05-16T20:11:45.499Z"
      },
      {
        "duration": 9,
        "start_time": "2023-05-16T20:11:54.307Z"
      },
      {
        "duration": 52,
        "start_time": "2023-05-16T20:23:51.713Z"
      },
      {
        "duration": 8,
        "start_time": "2023-05-16T20:24:19.597Z"
      },
      {
        "duration": 10,
        "start_time": "2023-05-16T20:35:06.305Z"
      },
      {
        "duration": 21,
        "start_time": "2023-05-16T20:41:24.626Z"
      },
      {
        "duration": 7,
        "start_time": "2023-05-16T20:41:26.240Z"
      },
      {
        "duration": 28,
        "start_time": "2023-05-16T20:41:26.609Z"
      },
      {
        "duration": 35,
        "start_time": "2023-05-16T20:43:44.201Z"
      },
      {
        "duration": 24,
        "start_time": "2023-05-16T20:44:15.904Z"
      },
      {
        "duration": 20,
        "start_time": "2023-05-16T20:44:49.310Z"
      },
      {
        "duration": 33,
        "start_time": "2023-05-16T20:45:28.545Z"
      },
      {
        "duration": 29,
        "start_time": "2023-05-16T20:45:37.559Z"
      },
      {
        "duration": 7,
        "start_time": "2023-05-16T20:46:10.271Z"
      },
      {
        "duration": 19,
        "start_time": "2023-05-16T20:46:10.715Z"
      },
      {
        "duration": 5,
        "start_time": "2023-05-16T20:46:11.218Z"
      },
      {
        "duration": 22,
        "start_time": "2023-05-16T20:46:35.703Z"
      },
      {
        "duration": 29,
        "start_time": "2023-05-16T20:46:57.801Z"
      },
      {
        "duration": 22,
        "start_time": "2023-05-16T20:47:07.949Z"
      },
      {
        "duration": 26,
        "start_time": "2023-05-16T20:47:13.603Z"
      },
      {
        "duration": 18,
        "start_time": "2023-05-16T20:55:40.739Z"
      },
      {
        "duration": 30,
        "start_time": "2023-05-16T20:55:52.497Z"
      },
      {
        "duration": 18,
        "start_time": "2023-05-16T20:55:59.036Z"
      },
      {
        "duration": 111,
        "start_time": "2023-05-16T21:06:07.299Z"
      },
      {
        "duration": 98,
        "start_time": "2023-05-16T21:06:23.724Z"
      },
      {
        "duration": 18,
        "start_time": "2023-05-16T21:06:47.108Z"
      },
      {
        "duration": 1306,
        "start_time": "2023-05-16T21:07:31.793Z"
      },
      {
        "duration": 4,
        "start_time": "2023-05-16T21:07:33.106Z"
      },
      {
        "duration": 212,
        "start_time": "2023-05-16T21:07:33.113Z"
      },
      {
        "duration": 10,
        "start_time": "2023-05-16T21:07:33.327Z"
      },
      {
        "duration": 44,
        "start_time": "2023-05-16T21:07:33.340Z"
      },
      {
        "duration": 100,
        "start_time": "2023-05-16T21:07:33.395Z"
      },
      {
        "duration": 94,
        "start_time": "2023-05-16T21:07:33.499Z"
      },
      {
        "duration": 90,
        "start_time": "2023-05-16T21:07:33.601Z"
      },
      {
        "duration": 25,
        "start_time": "2023-05-16T21:07:33.692Z"
      },
      {
        "duration": 107,
        "start_time": "2023-05-16T21:07:33.718Z"
      },
      {
        "duration": 47,
        "start_time": "2023-05-16T21:07:33.827Z"
      },
      {
        "duration": 5,
        "start_time": "2023-05-16T21:07:33.877Z"
      },
      {
        "duration": 30,
        "start_time": "2023-05-16T21:07:33.885Z"
      },
      {
        "duration": 7,
        "start_time": "2023-05-16T21:07:33.918Z"
      },
      {
        "duration": 30,
        "start_time": "2023-05-16T21:07:33.926Z"
      },
      {
        "duration": 356,
        "start_time": "2023-05-16T21:07:33.958Z"
      },
      {
        "duration": 35,
        "start_time": "2023-05-16T21:07:34.316Z"
      },
      {
        "duration": 261,
        "start_time": "2023-05-16T21:07:34.352Z"
      },
      {
        "duration": 14,
        "start_time": "2023-05-16T21:07:34.615Z"
      },
      {
        "duration": 4,
        "start_time": "2023-05-16T21:07:34.631Z"
      },
      {
        "duration": 8,
        "start_time": "2023-05-16T21:07:34.637Z"
      },
      {
        "duration": 39,
        "start_time": "2023-05-16T21:07:34.674Z"
      },
      {
        "duration": 95,
        "start_time": "2023-05-16T21:07:34.715Z"
      },
      {
        "duration": 10,
        "start_time": "2023-05-16T21:07:34.812Z"
      },
      {
        "duration": 18,
        "start_time": "2023-05-16T21:07:34.824Z"
      },
      {
        "duration": 33,
        "start_time": "2023-05-16T21:07:34.844Z"
      },
      {
        "duration": 11,
        "start_time": "2023-05-16T21:07:34.886Z"
      },
      {
        "duration": 14,
        "start_time": "2023-05-16T21:07:34.899Z"
      },
      {
        "duration": 7,
        "start_time": "2023-05-16T21:07:34.915Z"
      },
      {
        "duration": 53,
        "start_time": "2023-05-16T21:07:34.924Z"
      },
      {
        "duration": 54,
        "start_time": "2023-05-16T21:07:34.979Z"
      },
      {
        "duration": 189,
        "start_time": "2023-05-16T21:07:35.035Z"
      },
      {
        "duration": 114,
        "start_time": "2023-05-16T21:07:35.226Z"
      },
      {
        "duration": 65,
        "start_time": "2023-05-16T21:07:35.342Z"
      },
      {
        "duration": 7,
        "start_time": "2023-05-16T21:07:35.410Z"
      },
      {
        "duration": 30,
        "start_time": "2023-05-16T21:07:35.420Z"
      },
      {
        "duration": 34,
        "start_time": "2023-05-16T21:07:35.453Z"
      },
      {
        "duration": 22,
        "start_time": "2023-05-16T21:07:35.490Z"
      },
      {
        "duration": 12,
        "start_time": "2023-05-16T21:07:35.514Z"
      },
      {
        "duration": 12,
        "start_time": "2023-05-16T21:07:35.527Z"
      },
      {
        "duration": 40,
        "start_time": "2023-05-16T21:07:35.543Z"
      },
      {
        "duration": 32,
        "start_time": "2023-05-16T21:07:35.589Z"
      },
      {
        "duration": 25,
        "start_time": "2023-05-16T21:07:35.623Z"
      },
      {
        "duration": 12,
        "start_time": "2023-05-16T21:07:35.651Z"
      },
      {
        "duration": 46,
        "start_time": "2023-05-16T21:07:35.664Z"
      },
      {
        "duration": 125,
        "start_time": "2023-05-16T21:07:59.800Z"
      },
      {
        "duration": 15,
        "start_time": "2023-05-16T21:08:05.743Z"
      },
      {
        "duration": 34,
        "start_time": "2023-05-16T21:08:17.063Z"
      },
      {
        "duration": 16,
        "start_time": "2023-05-16T21:09:00.002Z"
      },
      {
        "duration": 5,
        "start_time": "2023-05-16T21:09:26.617Z"
      },
      {
        "duration": 21,
        "start_time": "2023-05-16T21:09:27.210Z"
      },
      {
        "duration": 1283,
        "start_time": "2023-05-16T21:09:43.264Z"
      },
      {
        "duration": 3,
        "start_time": "2023-05-16T21:09:44.550Z"
      },
      {
        "duration": 351,
        "start_time": "2023-05-16T21:09:44.555Z"
      },
      {
        "duration": 10,
        "start_time": "2023-05-16T21:09:44.908Z"
      },
      {
        "duration": 43,
        "start_time": "2023-05-16T21:09:44.920Z"
      },
      {
        "duration": 93,
        "start_time": "2023-05-16T21:09:44.976Z"
      },
      {
        "duration": 111,
        "start_time": "2023-05-16T21:09:45.076Z"
      },
      {
        "duration": 79,
        "start_time": "2023-05-16T21:09:45.198Z"
      },
      {
        "duration": 19,
        "start_time": "2023-05-16T21:09:45.281Z"
      },
      {
        "duration": 135,
        "start_time": "2023-05-16T21:09:45.304Z"
      },
      {
        "duration": 52,
        "start_time": "2023-05-16T21:09:45.441Z"
      },
      {
        "duration": 21,
        "start_time": "2023-05-16T21:09:45.496Z"
      },
      {
        "duration": 13,
        "start_time": "2023-05-16T21:09:45.519Z"
      },
      {
        "duration": 8,
        "start_time": "2023-05-16T21:09:45.534Z"
      },
      {
        "duration": 54,
        "start_time": "2023-05-16T21:09:45.544Z"
      },
      {
        "duration": 344,
        "start_time": "2023-05-16T21:09:45.604Z"
      },
      {
        "duration": 54,
        "start_time": "2023-05-16T21:09:45.950Z"
      },
      {
        "duration": 274,
        "start_time": "2023-05-16T21:09:46.006Z"
      },
      {
        "duration": 19,
        "start_time": "2023-05-16T21:09:46.282Z"
      },
      {
        "duration": 46,
        "start_time": "2023-05-16T21:09:46.306Z"
      },
      {
        "duration": 55,
        "start_time": "2023-05-16T21:09:46.355Z"
      },
      {
        "duration": 49,
        "start_time": "2023-05-16T21:09:46.412Z"
      },
      {
        "duration": 149,
        "start_time": "2023-05-16T21:09:46.463Z"
      },
      {
        "duration": 13,
        "start_time": "2023-05-16T21:09:46.614Z"
      },
      {
        "duration": 20,
        "start_time": "2023-05-16T21:09:46.628Z"
      },
      {
        "duration": 11,
        "start_time": "2023-05-16T21:09:46.650Z"
      },
      {
        "duration": 29,
        "start_time": "2023-05-16T21:09:46.663Z"
      },
      {
        "duration": 21,
        "start_time": "2023-05-16T21:09:46.698Z"
      },
      {
        "duration": 8,
        "start_time": "2023-05-16T21:09:46.721Z"
      },
      {
        "duration": 65,
        "start_time": "2023-05-16T21:09:46.730Z"
      },
      {
        "duration": 45,
        "start_time": "2023-05-16T21:09:46.797Z"
      },
      {
        "duration": 192,
        "start_time": "2023-05-16T21:09:46.844Z"
      },
      {
        "duration": 109,
        "start_time": "2023-05-16T21:09:47.038Z"
      },
      {
        "duration": 73,
        "start_time": "2023-05-16T21:09:47.149Z"
      },
      {
        "duration": 5,
        "start_time": "2023-05-16T21:09:47.225Z"
      },
      {
        "duration": 22,
        "start_time": "2023-05-16T21:09:47.233Z"
      },
      {
        "duration": 18,
        "start_time": "2023-05-16T21:09:47.279Z"
      },
      {
        "duration": 24,
        "start_time": "2023-05-16T21:09:47.299Z"
      },
      {
        "duration": 12,
        "start_time": "2023-05-16T21:09:47.326Z"
      },
      {
        "duration": 22,
        "start_time": "2023-05-16T21:09:47.340Z"
      },
      {
        "duration": 59,
        "start_time": "2023-05-16T21:09:47.364Z"
      },
      {
        "duration": 10,
        "start_time": "2023-05-16T21:09:47.426Z"
      },
      {
        "duration": 17,
        "start_time": "2023-05-16T21:09:47.438Z"
      },
      {
        "duration": 11,
        "start_time": "2023-05-16T21:09:47.457Z"
      },
      {
        "duration": 52,
        "start_time": "2023-05-16T21:09:47.470Z"
      },
      {
        "duration": 140,
        "start_time": "2023-05-16T21:10:29.156Z"
      },
      {
        "duration": 16,
        "start_time": "2023-05-16T21:10:32.307Z"
      },
      {
        "duration": 7,
        "start_time": "2023-05-16T21:10:36.901Z"
      },
      {
        "duration": 21,
        "start_time": "2023-05-16T21:10:37.163Z"
      },
      {
        "duration": 1240,
        "start_time": "2023-05-16T21:10:43.318Z"
      },
      {
        "duration": 3,
        "start_time": "2023-05-16T21:10:44.560Z"
      },
      {
        "duration": 231,
        "start_time": "2023-05-16T21:10:44.571Z"
      },
      {
        "duration": 10,
        "start_time": "2023-05-16T21:10:44.805Z"
      },
      {
        "duration": 24,
        "start_time": "2023-05-16T21:10:44.817Z"
      },
      {
        "duration": 113,
        "start_time": "2023-05-16T21:10:44.842Z"
      },
      {
        "duration": 91,
        "start_time": "2023-05-16T21:10:44.957Z"
      },
      {
        "duration": 91,
        "start_time": "2023-05-16T21:10:45.050Z"
      },
      {
        "duration": 16,
        "start_time": "2023-05-16T21:10:45.143Z"
      },
      {
        "duration": 109,
        "start_time": "2023-05-16T21:10:45.185Z"
      },
      {
        "duration": 40,
        "start_time": "2023-05-16T21:10:45.298Z"
      },
      {
        "duration": 4,
        "start_time": "2023-05-16T21:10:45.339Z"
      },
      {
        "duration": 10,
        "start_time": "2023-05-16T21:10:45.345Z"
      },
      {
        "duration": 15,
        "start_time": "2023-05-16T21:10:45.358Z"
      },
      {
        "duration": 53,
        "start_time": "2023-05-16T21:10:45.383Z"
      },
      {
        "duration": 358,
        "start_time": "2023-05-16T21:10:45.439Z"
      },
      {
        "duration": 34,
        "start_time": "2023-05-16T21:10:45.799Z"
      },
      {
        "duration": 288,
        "start_time": "2023-05-16T21:10:45.835Z"
      },
      {
        "duration": 13,
        "start_time": "2023-05-16T21:10:46.125Z"
      },
      {
        "duration": 29,
        "start_time": "2023-05-16T21:10:46.140Z"
      },
      {
        "duration": 47,
        "start_time": "2023-05-16T21:10:46.171Z"
      },
      {
        "duration": 37,
        "start_time": "2023-05-16T21:10:46.219Z"
      },
      {
        "duration": 111,
        "start_time": "2023-05-16T21:10:46.258Z"
      },
      {
        "duration": 32,
        "start_time": "2023-05-16T21:10:46.380Z"
      },
      {
        "duration": 23,
        "start_time": "2023-05-16T21:10:46.415Z"
      },
      {
        "duration": 21,
        "start_time": "2023-05-16T21:10:46.440Z"
      },
      {
        "duration": 53,
        "start_time": "2023-05-16T21:10:46.464Z"
      },
      {
        "duration": 12,
        "start_time": "2023-05-16T21:10:46.520Z"
      },
      {
        "duration": 12,
        "start_time": "2023-05-16T21:10:46.534Z"
      },
      {
        "duration": 64,
        "start_time": "2023-05-16T21:10:46.547Z"
      },
      {
        "duration": 44,
        "start_time": "2023-05-16T21:10:46.613Z"
      },
      {
        "duration": 189,
        "start_time": "2023-05-16T21:10:46.659Z"
      },
      {
        "duration": 107,
        "start_time": "2023-05-16T21:10:46.850Z"
      },
      {
        "duration": 69,
        "start_time": "2023-05-16T21:10:46.959Z"
      },
      {
        "duration": 5,
        "start_time": "2023-05-16T21:10:47.030Z"
      },
      {
        "duration": 45,
        "start_time": "2023-05-16T21:10:47.037Z"
      },
      {
        "duration": 18,
        "start_time": "2023-05-16T21:10:47.089Z"
      },
      {
        "duration": 9,
        "start_time": "2023-05-16T21:10:47.110Z"
      },
      {
        "duration": 12,
        "start_time": "2023-05-16T21:10:47.122Z"
      },
      {
        "duration": 14,
        "start_time": "2023-05-16T21:10:47.137Z"
      },
      {
        "duration": 44,
        "start_time": "2023-05-16T21:10:47.158Z"
      },
      {
        "duration": 11,
        "start_time": "2023-05-16T21:10:47.205Z"
      },
      {
        "duration": 27,
        "start_time": "2023-05-16T21:10:47.217Z"
      },
      {
        "duration": 8,
        "start_time": "2023-05-16T21:10:47.246Z"
      },
      {
        "duration": 54,
        "start_time": "2023-05-16T21:10:47.256Z"
      },
      {
        "duration": 128,
        "start_time": "2023-05-16T21:11:30.782Z"
      },
      {
        "duration": 19,
        "start_time": "2023-05-16T21:11:32.097Z"
      },
      {
        "duration": 14,
        "start_time": "2023-05-16T21:11:34.317Z"
      },
      {
        "duration": 5,
        "start_time": "2023-05-16T21:11:35.819Z"
      },
      {
        "duration": 19,
        "start_time": "2023-05-16T21:11:36.109Z"
      },
      {
        "duration": 18,
        "start_time": "2023-05-16T21:11:55.200Z"
      },
      {
        "duration": 22,
        "start_time": "2023-05-16T21:16:15.723Z"
      },
      {
        "duration": 22,
        "start_time": "2023-05-16T21:17:15.093Z"
      },
      {
        "duration": 9,
        "start_time": "2023-05-16T21:22:53.195Z"
      },
      {
        "duration": 11,
        "start_time": "2023-05-16T21:23:28.023Z"
      },
      {
        "duration": 8,
        "start_time": "2023-05-16T21:28:08.800Z"
      },
      {
        "duration": 8,
        "start_time": "2023-05-16T21:29:15.834Z"
      },
      {
        "duration": 11,
        "start_time": "2023-05-16T21:30:18.044Z"
      },
      {
        "duration": 1363,
        "start_time": "2023-05-17T09:09:13.715Z"
      },
      {
        "duration": 3,
        "start_time": "2023-05-17T09:09:15.080Z"
      },
      {
        "duration": 488,
        "start_time": "2023-05-17T09:09:15.084Z"
      },
      {
        "duration": 7,
        "start_time": "2023-05-17T09:09:15.575Z"
      },
      {
        "duration": 24,
        "start_time": "2023-05-17T09:09:15.583Z"
      },
      {
        "duration": 71,
        "start_time": "2023-05-17T09:09:15.609Z"
      },
      {
        "duration": 80,
        "start_time": "2023-05-17T09:09:15.682Z"
      },
      {
        "duration": 65,
        "start_time": "2023-05-17T09:09:15.764Z"
      },
      {
        "duration": 11,
        "start_time": "2023-05-17T09:09:15.831Z"
      },
      {
        "duration": 77,
        "start_time": "2023-05-17T09:09:15.845Z"
      },
      {
        "duration": 24,
        "start_time": "2023-05-17T09:09:15.923Z"
      },
      {
        "duration": 3,
        "start_time": "2023-05-17T09:09:15.948Z"
      },
      {
        "duration": 13,
        "start_time": "2023-05-17T09:09:15.953Z"
      },
      {
        "duration": 6,
        "start_time": "2023-05-17T09:09:15.967Z"
      },
      {
        "duration": 48,
        "start_time": "2023-05-17T09:09:15.974Z"
      },
      {
        "duration": 271,
        "start_time": "2023-05-17T09:09:16.024Z"
      },
      {
        "duration": 42,
        "start_time": "2023-05-17T09:09:16.297Z"
      },
      {
        "duration": 182,
        "start_time": "2023-05-17T09:09:16.340Z"
      },
      {
        "duration": 10,
        "start_time": "2023-05-17T09:09:16.524Z"
      },
      {
        "duration": 16,
        "start_time": "2023-05-17T09:09:16.536Z"
      },
      {
        "duration": 21,
        "start_time": "2023-05-17T09:09:16.553Z"
      },
      {
        "duration": 28,
        "start_time": "2023-05-17T09:09:16.576Z"
      },
      {
        "duration": 77,
        "start_time": "2023-05-17T09:09:16.606Z"
      },
      {
        "duration": 10,
        "start_time": "2023-05-17T09:09:16.685Z"
      },
      {
        "duration": 29,
        "start_time": "2023-05-17T09:09:16.697Z"
      },
      {
        "duration": 15,
        "start_time": "2023-05-17T09:09:16.728Z"
      },
      {
        "duration": 38,
        "start_time": "2023-05-17T09:09:16.744Z"
      },
      {
        "duration": 12,
        "start_time": "2023-05-17T09:09:16.786Z"
      },
      {
        "duration": 19,
        "start_time": "2023-05-17T09:09:16.799Z"
      },
      {
        "duration": 70,
        "start_time": "2023-05-17T09:09:16.819Z"
      },
      {
        "duration": 43,
        "start_time": "2023-05-17T09:09:16.890Z"
      },
      {
        "duration": 137,
        "start_time": "2023-05-17T09:09:16.934Z"
      },
      {
        "duration": 86,
        "start_time": "2023-05-17T09:09:17.072Z"
      },
      {
        "duration": 47,
        "start_time": "2023-05-17T09:09:17.159Z"
      },
      {
        "duration": 4,
        "start_time": "2023-05-17T09:09:17.218Z"
      },
      {
        "duration": 28,
        "start_time": "2023-05-17T09:09:17.223Z"
      },
      {
        "duration": 8,
        "start_time": "2023-05-17T09:09:17.252Z"
      },
      {
        "duration": 7,
        "start_time": "2023-05-17T09:09:17.261Z"
      },
      {
        "duration": 10,
        "start_time": "2023-05-17T09:09:17.270Z"
      },
      {
        "duration": 14,
        "start_time": "2023-05-17T09:09:17.281Z"
      },
      {
        "duration": 23,
        "start_time": "2023-05-17T09:09:17.297Z"
      },
      {
        "duration": 18,
        "start_time": "2023-05-17T09:09:17.322Z"
      },
      {
        "duration": 16,
        "start_time": "2023-05-17T09:09:17.341Z"
      },
      {
        "duration": 36,
        "start_time": "2023-05-17T09:09:17.359Z"
      },
      {
        "duration": 6,
        "start_time": "2023-05-17T09:09:17.396Z"
      },
      {
        "duration": 13,
        "start_time": "2023-05-17T09:09:17.404Z"
      },
      {
        "duration": 5,
        "start_time": "2023-05-17T09:10:48.157Z"
      },
      {
        "duration": 5,
        "start_time": "2023-05-17T09:10:53.374Z"
      },
      {
        "duration": 3,
        "start_time": "2023-05-17T09:11:16.295Z"
      },
      {
        "duration": 4,
        "start_time": "2023-05-17T09:12:40.801Z"
      },
      {
        "duration": 52,
        "start_time": "2023-05-17T09:12:49.296Z"
      },
      {
        "duration": 4,
        "start_time": "2023-05-17T09:12:51.689Z"
      },
      {
        "duration": 73,
        "start_time": "2023-05-17T09:20:38.428Z"
      },
      {
        "duration": 6,
        "start_time": "2023-05-17T09:21:01.539Z"
      },
      {
        "duration": 93,
        "start_time": "2023-05-17T09:22:49.608Z"
      },
      {
        "duration": 170,
        "start_time": "2023-05-17T09:23:15.016Z"
      },
      {
        "duration": 49,
        "start_time": "2023-05-17T09:24:31.298Z"
      },
      {
        "duration": 94,
        "start_time": "2023-05-17T09:24:43.957Z"
      },
      {
        "duration": 93,
        "start_time": "2023-05-17T09:25:15.379Z"
      },
      {
        "duration": 287,
        "start_time": "2023-05-17T09:25:53.849Z"
      },
      {
        "duration": 53,
        "start_time": "2023-05-17T09:26:03.636Z"
      },
      {
        "duration": 4,
        "start_time": "2023-05-17T09:26:42.955Z"
      },
      {
        "duration": 70,
        "start_time": "2023-05-17T09:27:00.323Z"
      },
      {
        "duration": 4,
        "start_time": "2023-05-17T09:27:03.221Z"
      },
      {
        "duration": 4,
        "start_time": "2023-05-17T09:27:42.278Z"
      },
      {
        "duration": 4,
        "start_time": "2023-05-17T09:27:55.747Z"
      },
      {
        "duration": 5,
        "start_time": "2023-05-17T09:28:26.116Z"
      },
      {
        "duration": 43,
        "start_time": "2023-05-17T09:29:46.830Z"
      },
      {
        "duration": 4,
        "start_time": "2023-05-17T09:29:49.423Z"
      },
      {
        "duration": 5,
        "start_time": "2023-05-17T09:30:09.623Z"
      },
      {
        "duration": 107,
        "start_time": "2023-05-17T09:30:27.295Z"
      },
      {
        "duration": 4,
        "start_time": "2023-05-17T09:30:50.184Z"
      },
      {
        "duration": 66,
        "start_time": "2023-05-17T09:31:13.786Z"
      },
      {
        "duration": 63,
        "start_time": "2023-05-17T09:31:17.815Z"
      },
      {
        "duration": 420,
        "start_time": "2023-05-17T09:31:22.774Z"
      },
      {
        "duration": 62,
        "start_time": "2023-05-17T09:31:28.721Z"
      },
      {
        "duration": 87,
        "start_time": "2023-05-17T09:31:39.539Z"
      },
      {
        "duration": 267,
        "start_time": "2023-05-17T09:31:48.774Z"
      },
      {
        "duration": 52,
        "start_time": "2023-05-17T09:31:51.387Z"
      },
      {
        "duration": 58,
        "start_time": "2023-05-17T09:31:58.282Z"
      },
      {
        "duration": 113,
        "start_time": "2023-05-17T09:32:03.713Z"
      },
      {
        "duration": 76,
        "start_time": "2023-05-17T09:32:10.887Z"
      },
      {
        "duration": 53,
        "start_time": "2023-05-17T09:32:19.777Z"
      },
      {
        "duration": 3,
        "start_time": "2023-05-17T09:32:31.412Z"
      },
      {
        "duration": 3,
        "start_time": "2023-05-17T09:32:35.874Z"
      },
      {
        "duration": 127,
        "start_time": "2023-05-17T09:32:38.682Z"
      },
      {
        "duration": 63,
        "start_time": "2023-05-17T09:32:41.320Z"
      },
      {
        "duration": 94,
        "start_time": "2023-05-17T09:32:43.025Z"
      },
      {
        "duration": 80,
        "start_time": "2023-05-17T09:32:46.381Z"
      },
      {
        "duration": 85,
        "start_time": "2023-05-17T09:32:53.418Z"
      },
      {
        "duration": 65,
        "start_time": "2023-05-17T09:32:55.820Z"
      },
      {
        "duration": 57,
        "start_time": "2023-05-17T09:33:00.682Z"
      },
      {
        "duration": 3,
        "start_time": "2023-05-17T09:35:37.970Z"
      },
      {
        "duration": 54,
        "start_time": "2023-05-17T09:37:47.201Z"
      },
      {
        "duration": 4,
        "start_time": "2023-05-17T09:38:46.188Z"
      },
      {
        "duration": 5,
        "start_time": "2023-05-17T09:40:57.612Z"
      },
      {
        "duration": 4,
        "start_time": "2023-05-17T09:41:26.589Z"
      },
      {
        "duration": 4,
        "start_time": "2023-05-17T09:41:50.390Z"
      },
      {
        "duration": 4,
        "start_time": "2023-05-17T09:42:13.278Z"
      },
      {
        "duration": 4,
        "start_time": "2023-05-17T09:42:22.278Z"
      },
      {
        "duration": 5,
        "start_time": "2023-05-17T09:42:28.247Z"
      },
      {
        "duration": 5,
        "start_time": "2023-05-17T09:53:39.341Z"
      },
      {
        "duration": 6,
        "start_time": "2023-05-17T09:53:56.972Z"
      },
      {
        "duration": 106,
        "start_time": "2023-05-17T10:43:30.591Z"
      },
      {
        "duration": 12,
        "start_time": "2023-05-17T10:43:52.716Z"
      },
      {
        "duration": 1087,
        "start_time": "2023-05-17T10:44:02.861Z"
      },
      {
        "duration": 3,
        "start_time": "2023-05-17T10:44:03.949Z"
      },
      {
        "duration": 189,
        "start_time": "2023-05-17T10:44:03.954Z"
      },
      {
        "duration": 10,
        "start_time": "2023-05-17T10:44:04.145Z"
      },
      {
        "duration": 23,
        "start_time": "2023-05-17T10:44:04.156Z"
      },
      {
        "duration": 72,
        "start_time": "2023-05-17T10:44:04.181Z"
      },
      {
        "duration": 78,
        "start_time": "2023-05-17T10:44:04.255Z"
      },
      {
        "duration": 57,
        "start_time": "2023-05-17T10:44:04.335Z"
      },
      {
        "duration": 25,
        "start_time": "2023-05-17T10:44:04.393Z"
      },
      {
        "duration": 65,
        "start_time": "2023-05-17T10:44:04.421Z"
      },
      {
        "duration": 36,
        "start_time": "2023-05-17T10:44:04.487Z"
      },
      {
        "duration": 3,
        "start_time": "2023-05-17T10:44:04.525Z"
      },
      {
        "duration": 20,
        "start_time": "2023-05-17T10:44:04.530Z"
      },
      {
        "duration": 17,
        "start_time": "2023-05-17T10:44:04.552Z"
      },
      {
        "duration": 33,
        "start_time": "2023-05-17T10:44:04.571Z"
      },
      {
        "duration": 315,
        "start_time": "2023-05-17T10:44:04.606Z"
      },
      {
        "duration": 31,
        "start_time": "2023-05-17T10:44:04.922Z"
      },
      {
        "duration": 192,
        "start_time": "2023-05-17T10:44:04.954Z"
      },
      {
        "duration": 10,
        "start_time": "2023-05-17T10:44:05.148Z"
      },
      {
        "duration": 27,
        "start_time": "2023-05-17T10:44:05.159Z"
      },
      {
        "duration": 6,
        "start_time": "2023-05-17T10:44:05.188Z"
      },
      {
        "duration": 37,
        "start_time": "2023-05-17T10:44:05.196Z"
      },
      {
        "duration": 66,
        "start_time": "2023-05-17T10:44:05.234Z"
      },
      {
        "duration": 9,
        "start_time": "2023-05-17T10:44:05.301Z"
      },
      {
        "duration": 15,
        "start_time": "2023-05-17T10:44:05.312Z"
      },
      {
        "duration": 9,
        "start_time": "2023-05-17T10:44:05.329Z"
      },
      {
        "duration": 22,
        "start_time": "2023-05-17T10:44:05.340Z"
      },
      {
        "duration": 20,
        "start_time": "2023-05-17T10:44:05.365Z"
      },
      {
        "duration": 6,
        "start_time": "2023-05-17T10:44:05.387Z"
      },
      {
        "duration": 41,
        "start_time": "2023-05-17T10:44:05.394Z"
      },
      {
        "duration": 35,
        "start_time": "2023-05-17T10:44:05.437Z"
      },
      {
        "duration": 149,
        "start_time": "2023-05-17T10:44:05.473Z"
      },
      {
        "duration": 70,
        "start_time": "2023-05-17T10:44:05.624Z"
      },
      {
        "duration": 49,
        "start_time": "2023-05-17T10:44:05.696Z"
      },
      {
        "duration": 4,
        "start_time": "2023-05-17T10:44:05.746Z"
      },
      {
        "duration": 29,
        "start_time": "2023-05-17T10:44:05.752Z"
      },
      {
        "duration": 21,
        "start_time": "2023-05-17T10:44:05.782Z"
      },
      {
        "duration": 9,
        "start_time": "2023-05-17T10:44:05.804Z"
      },
      {
        "duration": 33,
        "start_time": "2023-05-17T10:44:05.814Z"
      },
      {
        "duration": 28,
        "start_time": "2023-05-17T10:44:05.849Z"
      },
      {
        "duration": 34,
        "start_time": "2023-05-17T10:44:05.878Z"
      },
      {
        "duration": 30,
        "start_time": "2023-05-17T10:44:05.913Z"
      },
      {
        "duration": 7,
        "start_time": "2023-05-17T10:44:05.945Z"
      },
      {
        "duration": 15,
        "start_time": "2023-05-17T10:44:05.954Z"
      },
      {
        "duration": 27,
        "start_time": "2023-05-17T10:44:05.971Z"
      },
      {
        "duration": 6,
        "start_time": "2023-05-17T10:44:06.000Z"
      },
      {
        "duration": 26,
        "start_time": "2023-05-17T10:44:06.007Z"
      },
      {
        "duration": 105,
        "start_time": "2023-05-17T10:53:05.352Z"
      },
      {
        "duration": 4,
        "start_time": "2023-05-17T10:53:22.983Z"
      },
      {
        "duration": 16,
        "start_time": "2023-05-17T10:53:23.321Z"
      },
      {
        "duration": 4,
        "start_time": "2023-05-17T10:55:38.256Z"
      },
      {
        "duration": 20,
        "start_time": "2023-05-17T10:55:38.262Z"
      },
      {
        "duration": 15,
        "start_time": "2023-05-17T10:56:24.820Z"
      },
      {
        "duration": 4,
        "start_time": "2023-05-17T10:57:35.605Z"
      },
      {
        "duration": 12,
        "start_time": "2023-05-17T10:57:35.900Z"
      },
      {
        "duration": 12,
        "start_time": "2023-05-17T10:58:17.887Z"
      },
      {
        "duration": 4,
        "start_time": "2023-05-17T10:58:19.829Z"
      },
      {
        "duration": 13,
        "start_time": "2023-05-17T10:58:20.077Z"
      },
      {
        "duration": 12,
        "start_time": "2023-05-17T10:58:30.457Z"
      },
      {
        "duration": 5,
        "start_time": "2023-05-17T11:11:19.958Z"
      },
      {
        "duration": 13,
        "start_time": "2023-05-17T11:11:20.785Z"
      },
      {
        "duration": 10,
        "start_time": "2023-05-17T11:12:26.624Z"
      },
      {
        "duration": 4,
        "start_time": "2023-05-17T11:12:28.199Z"
      },
      {
        "duration": 11,
        "start_time": "2023-05-17T11:12:28.439Z"
      },
      {
        "duration": 10,
        "start_time": "2023-05-17T11:13:10.736Z"
      },
      {
        "duration": 4,
        "start_time": "2023-05-17T11:13:12.179Z"
      },
      {
        "duration": 10,
        "start_time": "2023-05-17T11:13:12.404Z"
      },
      {
        "duration": 5,
        "start_time": "2023-05-17T11:13:22.080Z"
      },
      {
        "duration": 1944,
        "start_time": "2023-05-17T11:13:22.312Z"
      },
      {
        "duration": 4,
        "start_time": "2023-05-17T11:14:25.073Z"
      },
      {
        "duration": 11,
        "start_time": "2023-05-17T11:14:25.330Z"
      },
      {
        "duration": 6,
        "start_time": "2023-05-17T11:28:26.136Z"
      },
      {
        "duration": 8,
        "start_time": "2023-05-17T11:28:26.600Z"
      },
      {
        "duration": 9,
        "start_time": "2023-05-17T11:29:17.985Z"
      },
      {
        "duration": 8,
        "start_time": "2023-05-17T11:29:27.633Z"
      },
      {
        "duration": 7,
        "start_time": "2023-05-17T11:32:20.731Z"
      },
      {
        "duration": 9,
        "start_time": "2023-05-17T11:32:20.994Z"
      },
      {
        "duration": 6,
        "start_time": "2023-05-17T11:51:44.332Z"
      },
      {
        "duration": 10,
        "start_time": "2023-05-17T11:51:44.595Z"
      },
      {
        "duration": 7,
        "start_time": "2023-05-17T11:55:10.195Z"
      },
      {
        "duration": 3,
        "start_time": "2023-05-17T11:56:06.498Z"
      },
      {
        "duration": 8,
        "start_time": "2023-05-17T13:19:10.745Z"
      },
      {
        "duration": 8,
        "start_time": "2023-05-17T13:21:15.545Z"
      },
      {
        "duration": 8,
        "start_time": "2023-05-17T13:21:34.070Z"
      },
      {
        "duration": 8,
        "start_time": "2023-05-17T13:21:46.313Z"
      },
      {
        "duration": 8,
        "start_time": "2023-05-17T13:22:30.114Z"
      },
      {
        "duration": 68,
        "start_time": "2023-05-17T13:29:58.797Z"
      },
      {
        "duration": 65,
        "start_time": "2023-05-17T13:30:05.477Z"
      },
      {
        "duration": 588,
        "start_time": "2023-05-17T13:30:05.686Z"
      },
      {
        "duration": 3,
        "start_time": "2023-05-17T13:30:17.965Z"
      },
      {
        "duration": 587,
        "start_time": "2023-05-17T13:30:18.208Z"
      },
      {
        "duration": 5,
        "start_time": "2023-05-17T13:30:40.917Z"
      },
      {
        "duration": 3,
        "start_time": "2023-05-17T13:30:52.396Z"
      },
      {
        "duration": 3,
        "start_time": "2023-05-17T13:30:53.353Z"
      },
      {
        "duration": 3,
        "start_time": "2023-05-17T13:31:18.801Z"
      },
      {
        "duration": 4,
        "start_time": "2023-05-17T13:31:19.601Z"
      },
      {
        "duration": 8,
        "start_time": "2023-05-17T13:31:49.195Z"
      },
      {
        "duration": 3,
        "start_time": "2023-05-17T13:31:49.991Z"
      },
      {
        "duration": 4,
        "start_time": "2023-05-17T13:31:50.402Z"
      },
      {
        "duration": 8,
        "start_time": "2023-05-17T13:32:48.998Z"
      },
      {
        "duration": 3,
        "start_time": "2023-05-17T13:32:50.003Z"
      },
      {
        "duration": 4,
        "start_time": "2023-05-17T13:32:51.094Z"
      },
      {
        "duration": 3,
        "start_time": "2023-05-17T13:33:09.141Z"
      },
      {
        "duration": 3,
        "start_time": "2023-05-17T13:33:11.613Z"
      },
      {
        "duration": 8,
        "start_time": "2023-05-17T13:34:24.181Z"
      },
      {
        "duration": 4,
        "start_time": "2023-05-17T13:34:32.318Z"
      },
      {
        "duration": 4,
        "start_time": "2023-05-17T13:34:32.593Z"
      },
      {
        "duration": 709,
        "start_time": "2023-05-17T13:34:43.395Z"
      },
      {
        "duration": 0,
        "start_time": "2023-05-17T13:34:44.105Z"
      },
      {
        "duration": 288,
        "start_time": "2023-05-17T13:34:49.302Z"
      },
      {
        "duration": 172,
        "start_time": "2023-05-17T13:35:29.680Z"
      },
      {
        "duration": 82,
        "start_time": "2023-05-17T13:35:33.006Z"
      },
      {
        "duration": 3,
        "start_time": "2023-05-17T13:36:11.648Z"
      },
      {
        "duration": 5,
        "start_time": "2023-05-17T13:36:12.593Z"
      },
      {
        "duration": 6,
        "start_time": "2023-05-17T13:36:39.318Z"
      },
      {
        "duration": 6,
        "start_time": "2023-05-17T13:36:53.322Z"
      },
      {
        "duration": 4,
        "start_time": "2023-05-17T13:37:19.531Z"
      },
      {
        "duration": 3,
        "start_time": "2023-05-17T13:37:19.778Z"
      },
      {
        "duration": 5,
        "start_time": "2023-05-17T13:37:20.138Z"
      },
      {
        "duration": 5,
        "start_time": "2023-05-17T13:37:20.393Z"
      },
      {
        "duration": 7,
        "start_time": "2023-05-17T13:37:57.898Z"
      },
      {
        "duration": 4,
        "start_time": "2023-05-17T13:37:58.434Z"
      },
      {
        "duration": 6,
        "start_time": "2023-05-17T13:37:58.818Z"
      },
      {
        "duration": 5,
        "start_time": "2023-05-17T13:37:59.218Z"
      },
      {
        "duration": 4,
        "start_time": "2023-05-17T13:37:59.587Z"
      },
      {
        "duration": 3,
        "start_time": "2023-05-17T13:38:18.700Z"
      },
      {
        "duration": 4,
        "start_time": "2023-05-17T13:38:19.087Z"
      },
      {
        "duration": 9,
        "start_time": "2023-05-17T13:38:19.813Z"
      },
      {
        "duration": 4,
        "start_time": "2023-05-17T13:38:20.200Z"
      },
      {
        "duration": 4,
        "start_time": "2023-05-17T13:38:35.290Z"
      },
      {
        "duration": 6,
        "start_time": "2023-05-17T13:38:35.635Z"
      },
      {
        "duration": 5,
        "start_time": "2023-05-17T13:39:01.918Z"
      },
      {
        "duration": 5,
        "start_time": "2023-05-17T13:39:02.297Z"
      },
      {
        "duration": 6,
        "start_time": "2023-05-17T13:39:03.332Z"
      },
      {
        "duration": 5,
        "start_time": "2023-05-17T13:39:03.576Z"
      },
      {
        "duration": 3,
        "start_time": "2023-05-17T13:39:23.689Z"
      },
      {
        "duration": 5,
        "start_time": "2023-05-17T13:39:23.940Z"
      },
      {
        "duration": 5,
        "start_time": "2023-05-17T13:39:24.301Z"
      },
      {
        "duration": 6,
        "start_time": "2023-05-17T13:39:24.697Z"
      },
      {
        "duration": 4,
        "start_time": "2023-05-17T13:40:58.996Z"
      },
      {
        "duration": 5,
        "start_time": "2023-05-17T13:40:59.593Z"
      },
      {
        "duration": 5,
        "start_time": "2023-05-17T13:41:00.485Z"
      },
      {
        "duration": 7,
        "start_time": "2023-05-17T13:41:00.822Z"
      },
      {
        "duration": 5,
        "start_time": "2023-05-17T13:51:10.085Z"
      },
      {
        "duration": 10,
        "start_time": "2023-05-17T13:51:10.741Z"
      },
      {
        "duration": 9,
        "start_time": "2023-05-17T13:54:13.239Z"
      },
      {
        "duration": 9,
        "start_time": "2023-05-17T13:54:13.598Z"
      },
      {
        "duration": 10,
        "start_time": "2023-05-17T13:54:20.589Z"
      },
      {
        "duration": 9,
        "start_time": "2023-05-17T14:29:29.830Z"
      },
      {
        "duration": 5,
        "start_time": "2023-05-17T14:29:43.706Z"
      },
      {
        "duration": 211,
        "start_time": "2023-05-17T14:31:11.144Z"
      },
      {
        "duration": 292,
        "start_time": "2023-05-17T14:33:34.298Z"
      },
      {
        "duration": 446,
        "start_time": "2023-05-17T14:33:45.312Z"
      },
      {
        "duration": 88,
        "start_time": "2023-05-17T14:34:03.690Z"
      },
      {
        "duration": 19,
        "start_time": "2023-05-17T14:34:14.874Z"
      },
      {
        "duration": 23,
        "start_time": "2023-05-17T14:35:43.205Z"
      },
      {
        "duration": 26,
        "start_time": "2023-05-17T14:36:57.949Z"
      },
      {
        "duration": 13,
        "start_time": "2023-05-17T14:37:02.278Z"
      },
      {
        "duration": 14,
        "start_time": "2023-05-17T14:37:29.174Z"
      },
      {
        "duration": 51,
        "start_time": "2023-05-17T14:37:35.647Z"
      },
      {
        "duration": 14,
        "start_time": "2023-05-17T14:38:25.173Z"
      },
      {
        "duration": 7,
        "start_time": "2023-05-17T14:39:10.086Z"
      },
      {
        "duration": 12,
        "start_time": "2023-05-17T14:39:21.181Z"
      },
      {
        "duration": 19,
        "start_time": "2023-05-17T14:39:26.146Z"
      },
      {
        "duration": 9,
        "start_time": "2023-05-17T14:40:00.178Z"
      },
      {
        "duration": 7,
        "start_time": "2023-05-17T14:40:04.994Z"
      },
      {
        "duration": 4,
        "start_time": "2023-05-17T14:40:21.696Z"
      },
      {
        "duration": 21,
        "start_time": "2023-05-17T14:40:39.248Z"
      },
      {
        "duration": 19,
        "start_time": "2023-05-17T14:40:58.618Z"
      },
      {
        "duration": 15,
        "start_time": "2023-05-17T14:41:58.298Z"
      },
      {
        "duration": 327,
        "start_time": "2023-05-17T14:42:30.207Z"
      },
      {
        "duration": 31,
        "start_time": "2023-05-17T14:42:35.198Z"
      },
      {
        "duration": 22,
        "start_time": "2023-05-17T14:43:28.578Z"
      },
      {
        "duration": 16,
        "start_time": "2023-05-17T14:43:46.797Z"
      },
      {
        "duration": 17,
        "start_time": "2023-05-17T14:44:23.286Z"
      },
      {
        "duration": 16,
        "start_time": "2023-05-17T14:44:26.378Z"
      },
      {
        "duration": 16,
        "start_time": "2023-05-17T14:45:58.182Z"
      },
      {
        "duration": 31,
        "start_time": "2023-05-17T14:46:13.449Z"
      },
      {
        "duration": 28,
        "start_time": "2023-05-17T14:47:14.978Z"
      },
      {
        "duration": 17,
        "start_time": "2023-05-17T14:47:59.994Z"
      },
      {
        "duration": 23,
        "start_time": "2023-05-17T14:48:04.449Z"
      },
      {
        "duration": 130,
        "start_time": "2023-05-17T14:48:12.619Z"
      },
      {
        "duration": 20,
        "start_time": "2023-05-17T14:48:15.545Z"
      },
      {
        "duration": 31,
        "start_time": "2023-05-17T14:51:02.282Z"
      },
      {
        "duration": 52,
        "start_time": "2023-05-17T14:51:07.099Z"
      },
      {
        "duration": 279,
        "start_time": "2023-05-17T14:52:46.444Z"
      },
      {
        "duration": 41,
        "start_time": "2023-05-17T14:52:57.642Z"
      },
      {
        "duration": 272,
        "start_time": "2023-05-17T14:54:04.079Z"
      },
      {
        "duration": 504,
        "start_time": "2023-05-17T14:56:06.970Z"
      },
      {
        "duration": 222,
        "start_time": "2023-05-17T14:56:19.045Z"
      },
      {
        "duration": 17,
        "start_time": "2023-05-17T14:57:21.542Z"
      },
      {
        "duration": 23,
        "start_time": "2023-05-17T14:57:51.891Z"
      },
      {
        "duration": 9,
        "start_time": "2023-05-17T14:58:06.284Z"
      },
      {
        "duration": 25,
        "start_time": "2023-05-17T14:58:38.311Z"
      },
      {
        "duration": 43,
        "start_time": "2023-05-17T14:58:50.304Z"
      },
      {
        "duration": 28,
        "start_time": "2023-05-17T14:58:59.486Z"
      },
      {
        "duration": 44,
        "start_time": "2023-05-17T14:59:22.400Z"
      },
      {
        "duration": 38,
        "start_time": "2023-05-17T14:59:36.607Z"
      },
      {
        "duration": 25,
        "start_time": "2023-05-17T14:59:49.135Z"
      },
      {
        "duration": 27,
        "start_time": "2023-05-17T15:00:00.775Z"
      },
      {
        "duration": 6,
        "start_time": "2023-05-17T20:02:32.239Z"
      },
      {
        "duration": 6,
        "start_time": "2023-05-17T20:13:03.708Z"
      },
      {
        "duration": 69,
        "start_time": "2023-05-17T20:18:03.512Z"
      },
      {
        "duration": 24,
        "start_time": "2023-05-17T20:18:10.203Z"
      },
      {
        "duration": 49,
        "start_time": "2023-05-17T20:21:23.779Z"
      },
      {
        "duration": 24,
        "start_time": "2023-05-17T20:21:41.341Z"
      },
      {
        "duration": 61,
        "start_time": "2023-05-17T20:21:51.204Z"
      },
      {
        "duration": 23,
        "start_time": "2023-05-17T20:21:54.404Z"
      },
      {
        "duration": 21,
        "start_time": "2023-05-17T20:23:47.779Z"
      },
      {
        "duration": 23,
        "start_time": "2023-05-17T20:23:55.605Z"
      },
      {
        "duration": 22,
        "start_time": "2023-05-17T20:24:12.587Z"
      },
      {
        "duration": 22,
        "start_time": "2023-05-17T20:24:47.223Z"
      },
      {
        "duration": 25,
        "start_time": "2023-05-17T20:25:42.683Z"
      },
      {
        "duration": 50,
        "start_time": "2023-05-17T20:25:44.294Z"
      },
      {
        "duration": 24,
        "start_time": "2023-05-17T20:25:56.699Z"
      },
      {
        "duration": 24,
        "start_time": "2023-05-17T20:26:02.024Z"
      },
      {
        "duration": 23,
        "start_time": "2023-05-17T20:26:39.382Z"
      },
      {
        "duration": 24,
        "start_time": "2023-05-17T20:26:48.905Z"
      },
      {
        "duration": 49,
        "start_time": "2023-05-17T20:26:49.114Z"
      },
      {
        "duration": 24,
        "start_time": "2023-05-17T20:26:53.734Z"
      },
      {
        "duration": 9,
        "start_time": "2023-05-17T20:52:56.186Z"
      },
      {
        "duration": 787,
        "start_time": "2023-05-17T20:58:57.889Z"
      },
      {
        "duration": 26,
        "start_time": "2023-05-17T20:59:07.913Z"
      },
      {
        "duration": 3,
        "start_time": "2023-05-17T21:00:12.482Z"
      },
      {
        "duration": 16,
        "start_time": "2023-05-17T21:00:19.824Z"
      },
      {
        "duration": 8,
        "start_time": "2023-05-17T21:07:08.789Z"
      },
      {
        "duration": 4,
        "start_time": "2023-05-17T21:08:28.201Z"
      },
      {
        "duration": 10,
        "start_time": "2023-05-17T21:08:33.706Z"
      },
      {
        "duration": 15,
        "start_time": "2023-05-17T21:08:49.145Z"
      },
      {
        "duration": 3,
        "start_time": "2023-05-17T21:12:20.753Z"
      },
      {
        "duration": 12,
        "start_time": "2023-05-17T21:13:20.155Z"
      },
      {
        "duration": 1155,
        "start_time": "2023-05-17T21:13:33.548Z"
      },
      {
        "duration": 4,
        "start_time": "2023-05-17T21:13:34.705Z"
      },
      {
        "duration": 280,
        "start_time": "2023-05-17T21:13:34.711Z"
      },
      {
        "duration": 7,
        "start_time": "2023-05-17T21:13:34.993Z"
      },
      {
        "duration": 45,
        "start_time": "2023-05-17T21:13:35.002Z"
      },
      {
        "duration": 91,
        "start_time": "2023-05-17T21:13:35.060Z"
      },
      {
        "duration": 77,
        "start_time": "2023-05-17T21:13:35.157Z"
      },
      {
        "duration": 70,
        "start_time": "2023-05-17T21:13:35.237Z"
      },
      {
        "duration": 42,
        "start_time": "2023-05-17T21:13:35.309Z"
      },
      {
        "duration": 102,
        "start_time": "2023-05-17T21:13:35.354Z"
      },
      {
        "duration": 25,
        "start_time": "2023-05-17T21:13:35.461Z"
      },
      {
        "duration": 3,
        "start_time": "2023-05-17T21:13:35.488Z"
      },
      {
        "duration": 12,
        "start_time": "2023-05-17T21:13:35.492Z"
      },
      {
        "duration": 8,
        "start_time": "2023-05-17T21:13:35.506Z"
      },
      {
        "duration": 63,
        "start_time": "2023-05-17T21:13:35.516Z"
      },
      {
        "duration": 305,
        "start_time": "2023-05-17T21:13:35.581Z"
      },
      {
        "duration": 51,
        "start_time": "2023-05-17T21:13:35.888Z"
      },
      {
        "duration": 221,
        "start_time": "2023-05-17T21:13:35.941Z"
      },
      {
        "duration": 14,
        "start_time": "2023-05-17T21:13:36.164Z"
      },
      {
        "duration": 20,
        "start_time": "2023-05-17T21:13:36.180Z"
      },
      {
        "duration": 10,
        "start_time": "2023-05-17T21:13:36.202Z"
      },
      {
        "duration": 38,
        "start_time": "2023-05-17T21:13:36.213Z"
      },
      {
        "duration": 38,
        "start_time": "2023-05-17T21:13:36.253Z"
      },
      {
        "duration": 23,
        "start_time": "2023-05-17T21:13:36.292Z"
      },
      {
        "duration": 39,
        "start_time": "2023-05-17T21:13:36.316Z"
      },
      {
        "duration": 100,
        "start_time": "2023-05-17T21:13:36.356Z"
      },
      {
        "duration": 9,
        "start_time": "2023-05-17T21:13:36.458Z"
      },
      {
        "duration": 15,
        "start_time": "2023-05-17T21:13:36.470Z"
      },
      {
        "duration": 9,
        "start_time": "2023-05-17T21:13:36.486Z"
      },
      {
        "duration": 8,
        "start_time": "2023-05-17T21:13:36.497Z"
      },
      {
        "duration": 5,
        "start_time": "2023-05-17T21:13:36.506Z"
      },
      {
        "duration": 11,
        "start_time": "2023-05-17T21:13:36.512Z"
      },
      {
        "duration": 74,
        "start_time": "2023-05-17T21:13:36.525Z"
      },
      {
        "duration": 59,
        "start_time": "2023-05-17T21:13:36.600Z"
      },
      {
        "duration": 148,
        "start_time": "2023-05-17T21:13:36.661Z"
      },
      {
        "duration": 103,
        "start_time": "2023-05-17T21:13:36.810Z"
      },
      {
        "duration": 64,
        "start_time": "2023-05-17T21:13:36.914Z"
      },
      {
        "duration": 6,
        "start_time": "2023-05-17T21:13:36.980Z"
      },
      {
        "duration": 28,
        "start_time": "2023-05-17T21:13:36.988Z"
      },
      {
        "duration": 37,
        "start_time": "2023-05-17T21:13:37.027Z"
      },
      {
        "duration": 8,
        "start_time": "2023-05-17T21:13:37.065Z"
      },
      {
        "duration": 12,
        "start_time": "2023-05-17T21:13:37.075Z"
      },
      {
        "duration": 14,
        "start_time": "2023-05-17T21:13:37.088Z"
      },
      {
        "duration": 35,
        "start_time": "2023-05-17T21:13:37.104Z"
      },
      {
        "duration": 33,
        "start_time": "2023-05-17T21:13:37.141Z"
      },
      {
        "duration": 12,
        "start_time": "2023-05-17T21:13:37.176Z"
      },
      {
        "duration": 8,
        "start_time": "2023-05-17T21:13:37.189Z"
      },
      {
        "duration": 11,
        "start_time": "2023-05-17T21:13:37.198Z"
      },
      {
        "duration": 6,
        "start_time": "2023-05-17T21:13:37.210Z"
      },
      {
        "duration": 11,
        "start_time": "2023-05-17T21:14:00.594Z"
      },
      {
        "duration": 9,
        "start_time": "2023-05-17T21:18:50.498Z"
      },
      {
        "duration": 7,
        "start_time": "2023-05-17T21:19:10.086Z"
      },
      {
        "duration": 47,
        "start_time": "2023-05-17T21:20:32.443Z"
      },
      {
        "duration": 10,
        "start_time": "2023-05-17T21:20:57.649Z"
      },
      {
        "duration": 9,
        "start_time": "2023-05-17T21:21:12.252Z"
      },
      {
        "duration": 8,
        "start_time": "2023-05-17T21:23:23.598Z"
      },
      {
        "duration": 54,
        "start_time": "2023-05-17T21:24:32.036Z"
      },
      {
        "duration": 53,
        "start_time": "2023-05-17T21:48:18.917Z"
      },
      {
        "duration": 9,
        "start_time": "2023-05-17T21:49:27.095Z"
      },
      {
        "duration": 8,
        "start_time": "2023-05-17T21:50:42.582Z"
      },
      {
        "duration": 10,
        "start_time": "2023-05-17T21:51:02.641Z"
      },
      {
        "duration": 8,
        "start_time": "2023-05-17T21:51:53.138Z"
      },
      {
        "duration": 51,
        "start_time": "2023-05-18T10:14:07.167Z"
      },
      {
        "duration": 1490,
        "start_time": "2023-05-18T10:14:15.311Z"
      },
      {
        "duration": 4,
        "start_time": "2023-05-18T10:14:16.805Z"
      },
      {
        "duration": 826,
        "start_time": "2023-05-18T10:14:16.811Z"
      },
      {
        "duration": 12,
        "start_time": "2023-05-18T10:14:17.640Z"
      },
      {
        "duration": 55,
        "start_time": "2023-05-18T10:14:17.654Z"
      },
      {
        "duration": 67,
        "start_time": "2023-05-18T10:14:17.711Z"
      },
      {
        "duration": 86,
        "start_time": "2023-05-18T10:14:17.781Z"
      },
      {
        "duration": 106,
        "start_time": "2023-05-18T10:14:17.869Z"
      },
      {
        "duration": 17,
        "start_time": "2023-05-18T10:14:17.977Z"
      },
      {
        "duration": 146,
        "start_time": "2023-05-18T10:14:17.996Z"
      },
      {
        "duration": 71,
        "start_time": "2023-05-18T10:14:18.144Z"
      },
      {
        "duration": 4,
        "start_time": "2023-05-18T10:14:18.217Z"
      },
      {
        "duration": 24,
        "start_time": "2023-05-18T10:14:18.223Z"
      },
      {
        "duration": 11,
        "start_time": "2023-05-18T10:14:18.251Z"
      },
      {
        "duration": 56,
        "start_time": "2023-05-18T10:14:18.264Z"
      },
      {
        "duration": 291,
        "start_time": "2023-05-18T10:14:18.325Z"
      },
      {
        "duration": 42,
        "start_time": "2023-05-18T10:14:18.624Z"
      },
      {
        "duration": 245,
        "start_time": "2023-05-18T10:14:18.668Z"
      },
      {
        "duration": 15,
        "start_time": "2023-05-18T10:14:18.915Z"
      },
      {
        "duration": 8,
        "start_time": "2023-05-18T10:14:18.932Z"
      },
      {
        "duration": 17,
        "start_time": "2023-05-18T10:14:18.942Z"
      },
      {
        "duration": 48,
        "start_time": "2023-05-18T10:14:18.961Z"
      },
      {
        "duration": 44,
        "start_time": "2023-05-18T10:14:19.011Z"
      },
      {
        "duration": 32,
        "start_time": "2023-05-18T10:14:19.058Z"
      },
      {
        "duration": 44,
        "start_time": "2023-05-18T10:14:19.092Z"
      },
      {
        "duration": 103,
        "start_time": "2023-05-18T10:14:19.138Z"
      },
      {
        "duration": 11,
        "start_time": "2023-05-18T10:14:19.243Z"
      },
      {
        "duration": 27,
        "start_time": "2023-05-18T10:14:19.256Z"
      },
      {
        "duration": 18,
        "start_time": "2023-05-18T10:14:19.285Z"
      },
      {
        "duration": 26,
        "start_time": "2023-05-18T10:14:19.305Z"
      },
      {
        "duration": 32,
        "start_time": "2023-05-18T10:14:19.334Z"
      },
      {
        "duration": 19,
        "start_time": "2023-05-18T10:14:19.368Z"
      },
      {
        "duration": 58,
        "start_time": "2023-05-18T10:14:19.389Z"
      },
      {
        "duration": 38,
        "start_time": "2023-05-18T10:14:19.449Z"
      },
      {
        "duration": 190,
        "start_time": "2023-05-18T10:14:19.489Z"
      },
      {
        "duration": 127,
        "start_time": "2023-05-18T10:14:19.681Z"
      },
      {
        "duration": 70,
        "start_time": "2023-05-18T10:14:19.811Z"
      },
      {
        "duration": 8,
        "start_time": "2023-05-18T10:14:19.884Z"
      },
      {
        "duration": 42,
        "start_time": "2023-05-18T10:14:19.894Z"
      },
      {
        "duration": 32,
        "start_time": "2023-05-18T10:14:19.939Z"
      },
      {
        "duration": 9,
        "start_time": "2023-05-18T10:14:19.978Z"
      },
      {
        "duration": 53,
        "start_time": "2023-05-18T10:14:19.989Z"
      },
      {
        "duration": 13,
        "start_time": "2023-05-18T10:14:20.044Z"
      },
      {
        "duration": 31,
        "start_time": "2023-05-18T10:14:20.059Z"
      },
      {
        "duration": 26,
        "start_time": "2023-05-18T10:14:20.092Z"
      },
      {
        "duration": 11,
        "start_time": "2023-05-18T10:14:20.119Z"
      },
      {
        "duration": 16,
        "start_time": "2023-05-18T10:14:20.133Z"
      },
      {
        "duration": 17,
        "start_time": "2023-05-18T10:14:20.151Z"
      },
      {
        "duration": 14,
        "start_time": "2023-05-18T10:14:20.171Z"
      },
      {
        "duration": 39,
        "start_time": "2023-05-18T10:14:20.186Z"
      },
      {
        "duration": 11,
        "start_time": "2023-05-18T10:14:20.228Z"
      },
      {
        "duration": 22,
        "start_time": "2023-05-18T10:14:20.241Z"
      },
      {
        "duration": 41,
        "start_time": "2023-05-18T10:14:20.265Z"
      },
      {
        "duration": 16,
        "start_time": "2023-05-18T10:14:20.308Z"
      },
      {
        "duration": 13,
        "start_time": "2023-05-18T10:14:20.326Z"
      },
      {
        "duration": 10,
        "start_time": "2023-05-18T10:17:11.883Z"
      },
      {
        "duration": 12,
        "start_time": "2023-05-18T10:17:18.589Z"
      },
      {
        "duration": 13,
        "start_time": "2023-05-18T10:17:23.992Z"
      },
      {
        "duration": 1235,
        "start_time": "2023-05-18T10:18:19.245Z"
      },
      {
        "duration": 3,
        "start_time": "2023-05-18T10:18:20.482Z"
      },
      {
        "duration": 194,
        "start_time": "2023-05-18T10:18:20.487Z"
      },
      {
        "duration": 12,
        "start_time": "2023-05-18T10:18:20.684Z"
      },
      {
        "duration": 52,
        "start_time": "2023-05-18T10:18:20.700Z"
      },
      {
        "duration": 113,
        "start_time": "2023-05-18T10:18:20.754Z"
      },
      {
        "duration": 116,
        "start_time": "2023-05-18T10:18:20.869Z"
      },
      {
        "duration": 104,
        "start_time": "2023-05-18T10:18:20.987Z"
      },
      {
        "duration": 13,
        "start_time": "2023-05-18T10:18:21.093Z"
      },
      {
        "duration": 102,
        "start_time": "2023-05-18T10:18:21.108Z"
      },
      {
        "duration": 48,
        "start_time": "2023-05-18T10:18:21.212Z"
      },
      {
        "duration": 3,
        "start_time": "2023-05-18T10:18:21.263Z"
      },
      {
        "duration": 31,
        "start_time": "2023-05-18T10:18:21.268Z"
      },
      {
        "duration": 11,
        "start_time": "2023-05-18T10:18:21.304Z"
      },
      {
        "duration": 50,
        "start_time": "2023-05-18T10:18:21.325Z"
      },
      {
        "duration": 317,
        "start_time": "2023-05-18T10:18:21.378Z"
      },
      {
        "duration": 48,
        "start_time": "2023-05-18T10:18:21.697Z"
      },
      {
        "duration": 212,
        "start_time": "2023-05-18T10:18:21.747Z"
      },
      {
        "duration": 11,
        "start_time": "2023-05-18T10:18:21.961Z"
      },
      {
        "duration": 4,
        "start_time": "2023-05-18T10:18:21.974Z"
      },
      {
        "duration": 5,
        "start_time": "2023-05-18T10:18:21.980Z"
      },
      {
        "duration": 60,
        "start_time": "2023-05-18T10:18:21.987Z"
      },
      {
        "duration": 24,
        "start_time": "2023-05-18T10:18:22.049Z"
      },
      {
        "duration": 26,
        "start_time": "2023-05-18T10:18:22.075Z"
      },
      {
        "duration": 25,
        "start_time": "2023-05-18T10:18:22.126Z"
      },
      {
        "duration": 81,
        "start_time": "2023-05-18T10:18:22.153Z"
      },
      {
        "duration": 11,
        "start_time": "2023-05-18T10:18:22.236Z"
      },
      {
        "duration": 18,
        "start_time": "2023-05-18T10:18:22.249Z"
      },
      {
        "duration": 11,
        "start_time": "2023-05-18T10:18:22.268Z"
      },
      {
        "duration": 49,
        "start_time": "2023-05-18T10:18:22.281Z"
      },
      {
        "duration": 11,
        "start_time": "2023-05-18T10:18:22.332Z"
      },
      {
        "duration": 8,
        "start_time": "2023-05-18T10:18:22.345Z"
      },
      {
        "duration": 48,
        "start_time": "2023-05-18T10:18:22.355Z"
      },
      {
        "duration": 57,
        "start_time": "2023-05-18T10:18:22.426Z"
      },
      {
        "duration": 167,
        "start_time": "2023-05-18T10:18:22.485Z"
      },
      {
        "duration": 97,
        "start_time": "2023-05-18T10:18:22.653Z"
      },
      {
        "duration": 49,
        "start_time": "2023-05-18T10:18:22.752Z"
      },
      {
        "duration": 23,
        "start_time": "2023-05-18T10:18:22.803Z"
      },
      {
        "duration": 16,
        "start_time": "2023-05-18T10:18:22.828Z"
      },
      {
        "duration": 24,
        "start_time": "2023-05-18T10:18:22.846Z"
      },
      {
        "duration": 4,
        "start_time": "2023-05-18T10:18:22.877Z"
      },
      {
        "duration": 11,
        "start_time": "2023-05-18T10:18:22.883Z"
      },
      {
        "duration": 34,
        "start_time": "2023-05-18T10:18:22.896Z"
      },
      {
        "duration": 17,
        "start_time": "2023-05-18T10:18:22.933Z"
      },
      {
        "duration": 14,
        "start_time": "2023-05-18T10:18:22.952Z"
      },
      {
        "duration": 31,
        "start_time": "2023-05-18T10:18:22.969Z"
      },
      {
        "duration": 29,
        "start_time": "2023-05-18T10:18:23.002Z"
      },
      {
        "duration": 18,
        "start_time": "2023-05-18T10:18:23.033Z"
      },
      {
        "duration": 13,
        "start_time": "2023-05-18T10:18:23.054Z"
      },
      {
        "duration": 13,
        "start_time": "2023-05-18T10:18:23.070Z"
      },
      {
        "duration": 41,
        "start_time": "2023-05-18T10:18:23.085Z"
      },
      {
        "duration": 13,
        "start_time": "2023-05-18T10:18:23.129Z"
      },
      {
        "duration": 17,
        "start_time": "2023-05-18T10:18:23.144Z"
      },
      {
        "duration": 11,
        "start_time": "2023-05-18T10:18:23.164Z"
      },
      {
        "duration": 49,
        "start_time": "2023-05-18T10:18:23.177Z"
      },
      {
        "duration": 1165,
        "start_time": "2023-05-18T19:13:43.379Z"
      },
      {
        "duration": 3,
        "start_time": "2023-05-18T19:13:44.546Z"
      },
      {
        "duration": 764,
        "start_time": "2023-05-18T19:13:44.550Z"
      },
      {
        "duration": 7,
        "start_time": "2023-05-18T19:13:45.319Z"
      },
      {
        "duration": 18,
        "start_time": "2023-05-18T19:13:45.329Z"
      },
      {
        "duration": 61,
        "start_time": "2023-05-18T19:13:45.348Z"
      },
      {
        "duration": 65,
        "start_time": "2023-05-18T19:13:45.411Z"
      },
      {
        "duration": 54,
        "start_time": "2023-05-18T19:13:45.478Z"
      },
      {
        "duration": 11,
        "start_time": "2023-05-18T19:13:45.534Z"
      },
      {
        "duration": 83,
        "start_time": "2023-05-18T19:13:45.546Z"
      },
      {
        "duration": 22,
        "start_time": "2023-05-18T19:13:45.631Z"
      },
      {
        "duration": 3,
        "start_time": "2023-05-18T19:13:45.654Z"
      },
      {
        "duration": 10,
        "start_time": "2023-05-18T19:13:45.658Z"
      },
      {
        "duration": 8,
        "start_time": "2023-05-18T19:13:45.670Z"
      },
      {
        "duration": 47,
        "start_time": "2023-05-18T19:13:45.680Z"
      },
      {
        "duration": 261,
        "start_time": "2023-05-18T19:13:45.729Z"
      },
      {
        "duration": 37,
        "start_time": "2023-05-18T19:13:45.992Z"
      },
      {
        "duration": 179,
        "start_time": "2023-05-18T19:13:46.030Z"
      },
      {
        "duration": 20,
        "start_time": "2023-05-18T19:13:46.210Z"
      },
      {
        "duration": 4,
        "start_time": "2023-05-18T19:13:46.231Z"
      },
      {
        "duration": 6,
        "start_time": "2023-05-18T19:13:46.236Z"
      },
      {
        "duration": 25,
        "start_time": "2023-05-18T19:13:46.243Z"
      },
      {
        "duration": 19,
        "start_time": "2023-05-18T19:13:46.270Z"
      },
      {
        "duration": 24,
        "start_time": "2023-05-18T19:13:46.306Z"
      },
      {
        "duration": 17,
        "start_time": "2023-05-18T19:13:46.331Z"
      },
      {
        "duration": 92,
        "start_time": "2023-05-18T19:13:46.350Z"
      },
      {
        "duration": 11,
        "start_time": "2023-05-18T19:13:46.444Z"
      },
      {
        "duration": 15,
        "start_time": "2023-05-18T19:13:46.456Z"
      },
      {
        "duration": 13,
        "start_time": "2023-05-18T19:13:46.473Z"
      },
      {
        "duration": 20,
        "start_time": "2023-05-18T19:13:46.487Z"
      },
      {
        "duration": 15,
        "start_time": "2023-05-18T19:13:46.508Z"
      },
      {
        "duration": 4,
        "start_time": "2023-05-18T19:13:46.525Z"
      },
      {
        "duration": 41,
        "start_time": "2023-05-18T19:13:46.530Z"
      },
      {
        "duration": 52,
        "start_time": "2023-05-18T19:13:46.572Z"
      },
      {
        "duration": 139,
        "start_time": "2023-05-18T19:13:46.627Z"
      },
      {
        "duration": 79,
        "start_time": "2023-05-18T19:13:46.768Z"
      },
      {
        "duration": 37,
        "start_time": "2023-05-18T19:13:46.849Z"
      },
      {
        "duration": 27,
        "start_time": "2023-05-18T19:13:46.888Z"
      },
      {
        "duration": 10,
        "start_time": "2023-05-18T19:13:46.916Z"
      },
      {
        "duration": 9,
        "start_time": "2023-05-18T19:13:46.928Z"
      },
      {
        "duration": 4,
        "start_time": "2023-05-18T19:13:46.940Z"
      },
      {
        "duration": 8,
        "start_time": "2023-05-18T19:13:46.946Z"
      },
      {
        "duration": 9,
        "start_time": "2023-05-18T19:13:46.955Z"
      },
      {
        "duration": 19,
        "start_time": "2023-05-18T19:13:46.965Z"
      },
      {
        "duration": 36,
        "start_time": "2023-05-18T19:13:46.985Z"
      },
      {
        "duration": 12,
        "start_time": "2023-05-18T19:13:47.027Z"
      },
      {
        "duration": 7,
        "start_time": "2023-05-18T19:13:47.041Z"
      },
      {
        "duration": 12,
        "start_time": "2023-05-18T19:13:47.049Z"
      },
      {
        "duration": 9,
        "start_time": "2023-05-18T19:13:47.062Z"
      },
      {
        "duration": 9,
        "start_time": "2023-05-18T19:13:47.073Z"
      },
      {
        "duration": 30,
        "start_time": "2023-05-18T19:13:47.084Z"
      },
      {
        "duration": 11,
        "start_time": "2023-05-18T19:13:47.116Z"
      },
      {
        "duration": 15,
        "start_time": "2023-05-18T19:13:47.129Z"
      },
      {
        "duration": 8,
        "start_time": "2023-05-18T19:13:47.146Z"
      },
      {
        "duration": 8,
        "start_time": "2023-05-18T19:13:47.156Z"
      },
      {
        "duration": 1692,
        "start_time": "2023-05-19T11:25:23.507Z"
      },
      {
        "duration": 5,
        "start_time": "2023-05-19T11:25:25.206Z"
      },
      {
        "duration": 1054,
        "start_time": "2023-05-19T11:25:25.217Z"
      },
      {
        "duration": 16,
        "start_time": "2023-05-19T11:25:26.272Z"
      },
      {
        "duration": 50,
        "start_time": "2023-05-19T11:25:26.292Z"
      },
      {
        "duration": 93,
        "start_time": "2023-05-19T11:25:26.347Z"
      },
      {
        "duration": 122,
        "start_time": "2023-05-19T11:25:26.442Z"
      },
      {
        "duration": 0,
        "start_time": "2023-05-19T11:25:26.567Z"
      },
      {
        "duration": 0,
        "start_time": "2023-05-19T11:25:26.568Z"
      },
      {
        "duration": 0,
        "start_time": "2023-05-19T11:25:26.570Z"
      },
      {
        "duration": 0,
        "start_time": "2023-05-19T11:25:26.572Z"
      },
      {
        "duration": 0,
        "start_time": "2023-05-19T11:25:26.573Z"
      },
      {
        "duration": 0,
        "start_time": "2023-05-19T11:25:26.574Z"
      },
      {
        "duration": 0,
        "start_time": "2023-05-19T11:25:26.575Z"
      },
      {
        "duration": 0,
        "start_time": "2023-05-19T11:25:26.579Z"
      },
      {
        "duration": 0,
        "start_time": "2023-05-19T11:25:26.581Z"
      },
      {
        "duration": 0,
        "start_time": "2023-05-19T11:25:26.582Z"
      },
      {
        "duration": 0,
        "start_time": "2023-05-19T11:25:26.583Z"
      },
      {
        "duration": 0,
        "start_time": "2023-05-19T11:25:26.583Z"
      },
      {
        "duration": 0,
        "start_time": "2023-05-19T11:25:26.584Z"
      },
      {
        "duration": 0,
        "start_time": "2023-05-19T11:25:26.585Z"
      },
      {
        "duration": 0,
        "start_time": "2023-05-19T11:25:26.586Z"
      },
      {
        "duration": 0,
        "start_time": "2023-05-19T11:25:26.592Z"
      },
      {
        "duration": 0,
        "start_time": "2023-05-19T11:25:26.593Z"
      },
      {
        "duration": 1,
        "start_time": "2023-05-19T11:25:26.594Z"
      },
      {
        "duration": 0,
        "start_time": "2023-05-19T11:25:26.595Z"
      },
      {
        "duration": 0,
        "start_time": "2023-05-19T11:25:26.596Z"
      },
      {
        "duration": 0,
        "start_time": "2023-05-19T11:25:26.597Z"
      },
      {
        "duration": 0,
        "start_time": "2023-05-19T11:25:26.598Z"
      },
      {
        "duration": 0,
        "start_time": "2023-05-19T11:25:26.602Z"
      },
      {
        "duration": 0,
        "start_time": "2023-05-19T11:25:26.603Z"
      },
      {
        "duration": 0,
        "start_time": "2023-05-19T11:25:26.604Z"
      },
      {
        "duration": 0,
        "start_time": "2023-05-19T11:25:26.605Z"
      },
      {
        "duration": 0,
        "start_time": "2023-05-19T11:25:26.605Z"
      },
      {
        "duration": 0,
        "start_time": "2023-05-19T11:25:26.617Z"
      },
      {
        "duration": 0,
        "start_time": "2023-05-19T11:25:26.619Z"
      },
      {
        "duration": 0,
        "start_time": "2023-05-19T11:25:26.621Z"
      },
      {
        "duration": 0,
        "start_time": "2023-05-19T11:25:26.625Z"
      },
      {
        "duration": 0,
        "start_time": "2023-05-19T11:25:26.626Z"
      },
      {
        "duration": 0,
        "start_time": "2023-05-19T11:25:26.628Z"
      },
      {
        "duration": 0,
        "start_time": "2023-05-19T11:25:26.634Z"
      },
      {
        "duration": 0,
        "start_time": "2023-05-19T11:25:26.636Z"
      },
      {
        "duration": 0,
        "start_time": "2023-05-19T11:25:26.637Z"
      },
      {
        "duration": 0,
        "start_time": "2023-05-19T11:25:26.640Z"
      },
      {
        "duration": 0,
        "start_time": "2023-05-19T11:25:26.641Z"
      },
      {
        "duration": 0,
        "start_time": "2023-05-19T11:25:26.642Z"
      },
      {
        "duration": 0,
        "start_time": "2023-05-19T11:25:26.643Z"
      },
      {
        "duration": 1,
        "start_time": "2023-05-19T11:25:26.644Z"
      },
      {
        "duration": 0,
        "start_time": "2023-05-19T11:25:26.648Z"
      },
      {
        "duration": 0,
        "start_time": "2023-05-19T11:25:26.649Z"
      },
      {
        "duration": 0,
        "start_time": "2023-05-19T11:25:26.650Z"
      },
      {
        "duration": 0,
        "start_time": "2023-05-19T11:25:26.651Z"
      },
      {
        "duration": 0,
        "start_time": "2023-05-19T11:25:26.652Z"
      },
      {
        "duration": 0,
        "start_time": "2023-05-19T11:25:26.652Z"
      },
      {
        "duration": 0,
        "start_time": "2023-05-19T11:25:26.677Z"
      },
      {
        "duration": 0,
        "start_time": "2023-05-19T11:25:26.678Z"
      },
      {
        "duration": 4,
        "start_time": "2023-05-19T11:26:24.160Z"
      },
      {
        "duration": 4,
        "start_time": "2023-05-19T11:26:35.264Z"
      },
      {
        "duration": 4,
        "start_time": "2023-05-19T11:26:39.920Z"
      },
      {
        "duration": 66,
        "start_time": "2023-05-19T11:27:01.231Z"
      },
      {
        "duration": 108,
        "start_time": "2023-05-19T11:28:42.760Z"
      },
      {
        "duration": 115,
        "start_time": "2023-05-19T11:28:46.336Z"
      },
      {
        "duration": 70,
        "start_time": "2023-05-19T11:28:48.519Z"
      },
      {
        "duration": 1255,
        "start_time": "2023-05-19T11:36:31.168Z"
      },
      {
        "duration": 3,
        "start_time": "2023-05-19T11:36:32.425Z"
      },
      {
        "duration": 207,
        "start_time": "2023-05-19T11:36:32.430Z"
      },
      {
        "duration": 7,
        "start_time": "2023-05-19T11:36:32.639Z"
      },
      {
        "duration": 36,
        "start_time": "2023-05-19T11:36:32.649Z"
      },
      {
        "duration": 79,
        "start_time": "2023-05-19T11:36:32.687Z"
      },
      {
        "duration": 98,
        "start_time": "2023-05-19T11:36:32.767Z"
      },
      {
        "duration": 95,
        "start_time": "2023-05-19T11:36:32.867Z"
      },
      {
        "duration": 85,
        "start_time": "2023-05-19T11:36:32.964Z"
      },
      {
        "duration": 14,
        "start_time": "2023-05-19T11:36:33.050Z"
      },
      {
        "duration": 121,
        "start_time": "2023-05-19T11:36:33.066Z"
      },
      {
        "duration": 50,
        "start_time": "2023-05-19T11:36:33.189Z"
      },
      {
        "duration": 9,
        "start_time": "2023-05-19T11:36:33.241Z"
      },
      {
        "duration": 5,
        "start_time": "2023-05-19T11:36:33.252Z"
      },
      {
        "duration": 18,
        "start_time": "2023-05-19T11:36:33.259Z"
      },
      {
        "duration": 54,
        "start_time": "2023-05-19T11:36:33.280Z"
      },
      {
        "duration": 359,
        "start_time": "2023-05-19T11:36:33.336Z"
      },
      {
        "duration": 38,
        "start_time": "2023-05-19T11:36:33.697Z"
      },
      {
        "duration": 251,
        "start_time": "2023-05-19T11:36:33.737Z"
      },
      {
        "duration": 19,
        "start_time": "2023-05-19T11:36:33.990Z"
      },
      {
        "duration": 11,
        "start_time": "2023-05-19T11:36:34.018Z"
      },
      {
        "duration": 5,
        "start_time": "2023-05-19T11:36:34.034Z"
      },
      {
        "duration": 42,
        "start_time": "2023-05-19T11:36:34.042Z"
      },
      {
        "duration": 33,
        "start_time": "2023-05-19T11:36:34.086Z"
      },
      {
        "duration": 33,
        "start_time": "2023-05-19T11:36:34.120Z"
      },
      {
        "duration": 44,
        "start_time": "2023-05-19T11:36:34.155Z"
      },
      {
        "duration": 96,
        "start_time": "2023-05-19T11:36:34.201Z"
      },
      {
        "duration": 13,
        "start_time": "2023-05-19T11:36:34.299Z"
      },
      {
        "duration": 16,
        "start_time": "2023-05-19T11:36:34.314Z"
      },
      {
        "duration": 15,
        "start_time": "2023-05-19T11:36:34.332Z"
      },
      {
        "duration": 38,
        "start_time": "2023-05-19T11:36:34.349Z"
      },
      {
        "duration": 6,
        "start_time": "2023-05-19T11:36:34.389Z"
      },
      {
        "duration": 8,
        "start_time": "2023-05-19T11:36:34.397Z"
      },
      {
        "duration": 72,
        "start_time": "2023-05-19T11:36:34.407Z"
      },
      {
        "duration": 54,
        "start_time": "2023-05-19T11:36:34.481Z"
      },
      {
        "duration": 191,
        "start_time": "2023-05-19T11:36:34.541Z"
      },
      {
        "duration": 102,
        "start_time": "2023-05-19T11:36:34.734Z"
      },
      {
        "duration": 52,
        "start_time": "2023-05-19T11:36:34.838Z"
      },
      {
        "duration": 8,
        "start_time": "2023-05-19T11:36:34.892Z"
      },
      {
        "duration": 12,
        "start_time": "2023-05-19T11:36:34.903Z"
      },
      {
        "duration": 10,
        "start_time": "2023-05-19T11:36:34.921Z"
      },
      {
        "duration": 6,
        "start_time": "2023-05-19T11:36:34.934Z"
      },
      {
        "duration": 8,
        "start_time": "2023-05-19T11:36:34.941Z"
      },
      {
        "duration": 30,
        "start_time": "2023-05-19T11:36:34.950Z"
      },
      {
        "duration": 30,
        "start_time": "2023-05-19T11:36:34.981Z"
      },
      {
        "duration": 10,
        "start_time": "2023-05-19T11:36:35.013Z"
      },
      {
        "duration": 28,
        "start_time": "2023-05-19T11:36:35.024Z"
      },
      {
        "duration": 9,
        "start_time": "2023-05-19T11:36:35.054Z"
      },
      {
        "duration": 47,
        "start_time": "2023-05-19T11:36:35.064Z"
      },
      {
        "duration": 11,
        "start_time": "2023-05-19T11:36:35.115Z"
      },
      {
        "duration": 12,
        "start_time": "2023-05-19T11:36:35.128Z"
      },
      {
        "duration": 11,
        "start_time": "2023-05-19T11:36:35.142Z"
      },
      {
        "duration": 14,
        "start_time": "2023-05-19T11:36:35.154Z"
      },
      {
        "duration": 15,
        "start_time": "2023-05-19T11:36:35.169Z"
      },
      {
        "duration": 19,
        "start_time": "2023-05-19T11:36:35.186Z"
      },
      {
        "duration": 18,
        "start_time": "2023-05-19T11:36:35.207Z"
      },
      {
        "duration": 14,
        "start_time": "2023-05-19T11:42:05.514Z"
      },
      {
        "duration": 58,
        "start_time": "2023-05-19T11:43:18.773Z"
      },
      {
        "duration": 60,
        "start_time": "2023-05-19T11:43:27.870Z"
      },
      {
        "duration": 194,
        "start_time": "2023-05-19T11:44:57.110Z"
      },
      {
        "duration": 141,
        "start_time": "2023-05-19T11:45:33.423Z"
      },
      {
        "duration": 24,
        "start_time": "2023-05-19T11:49:11.732Z"
      },
      {
        "duration": 142,
        "start_time": "2023-05-19T11:49:18.066Z"
      },
      {
        "duration": 109,
        "start_time": "2023-05-19T11:50:02.941Z"
      },
      {
        "duration": 137,
        "start_time": "2023-05-19T11:54:20.354Z"
      },
      {
        "duration": 127,
        "start_time": "2023-05-19T11:56:32.123Z"
      },
      {
        "duration": 242,
        "start_time": "2023-05-19T11:56:53.641Z"
      },
      {
        "duration": 147,
        "start_time": "2023-05-19T11:56:57.595Z"
      },
      {
        "duration": 184,
        "start_time": "2023-05-19T11:57:28.040Z"
      },
      {
        "duration": 145,
        "start_time": "2023-05-19T11:57:31.482Z"
      },
      {
        "duration": 140,
        "start_time": "2023-05-19T11:57:58.650Z"
      },
      {
        "duration": 162,
        "start_time": "2023-05-19T11:58:21.785Z"
      },
      {
        "duration": 130,
        "start_time": "2023-05-19T12:01:22.259Z"
      },
      {
        "duration": 26,
        "start_time": "2023-05-19T12:01:51.280Z"
      },
      {
        "duration": 32,
        "start_time": "2023-05-19T12:02:10.055Z"
      },
      {
        "duration": 35,
        "start_time": "2023-05-19T12:02:39.723Z"
      },
      {
        "duration": 30,
        "start_time": "2023-05-19T12:02:56.198Z"
      },
      {
        "duration": 35,
        "start_time": "2023-05-19T12:03:19.355Z"
      },
      {
        "duration": 22,
        "start_time": "2023-05-19T12:03:25.982Z"
      },
      {
        "duration": 24,
        "start_time": "2023-05-19T12:04:49.704Z"
      },
      {
        "duration": 29,
        "start_time": "2023-05-19T12:05:11.553Z"
      },
      {
        "duration": 235,
        "start_time": "2023-05-19T12:05:12.198Z"
      },
      {
        "duration": 43,
        "start_time": "2023-05-19T12:05:40.794Z"
      },
      {
        "duration": 254,
        "start_time": "2023-05-19T12:45:34.076Z"
      },
      {
        "duration": 194,
        "start_time": "2023-05-19T12:48:25.750Z"
      },
      {
        "duration": 6,
        "start_time": "2023-05-19T12:56:20.671Z"
      },
      {
        "duration": 8,
        "start_time": "2023-05-19T12:57:28.991Z"
      },
      {
        "duration": 5,
        "start_time": "2023-05-19T12:57:36.442Z"
      },
      {
        "duration": 9,
        "start_time": "2023-05-19T12:58:11.994Z"
      },
      {
        "duration": 8,
        "start_time": "2023-05-19T12:58:39.819Z"
      },
      {
        "duration": 7,
        "start_time": "2023-05-19T12:58:48.172Z"
      },
      {
        "duration": 11,
        "start_time": "2023-05-19T12:59:43.189Z"
      },
      {
        "duration": 74,
        "start_time": "2023-05-19T13:03:41.050Z"
      },
      {
        "duration": 78,
        "start_time": "2023-05-19T13:03:44.785Z"
      },
      {
        "duration": 76,
        "start_time": "2023-05-19T13:03:49.802Z"
      },
      {
        "duration": 8,
        "start_time": "2023-05-19T13:04:02.482Z"
      },
      {
        "duration": 9,
        "start_time": "2023-05-19T13:04:17.458Z"
      },
      {
        "duration": 79,
        "start_time": "2023-05-19T13:04:21.971Z"
      },
      {
        "duration": 9,
        "start_time": "2023-05-19T13:04:26.802Z"
      },
      {
        "duration": 8,
        "start_time": "2023-05-19T13:04:30.915Z"
      },
      {
        "duration": 97,
        "start_time": "2023-05-19T13:04:44.555Z"
      },
      {
        "duration": 9,
        "start_time": "2023-05-19T13:05:01.891Z"
      },
      {
        "duration": 67,
        "start_time": "2023-05-19T13:05:08.123Z"
      },
      {
        "duration": 66,
        "start_time": "2023-05-19T13:05:11.731Z"
      },
      {
        "duration": 8,
        "start_time": "2023-05-19T13:05:16.035Z"
      },
      {
        "duration": 13,
        "start_time": "2023-05-19T13:05:22.019Z"
      },
      {
        "duration": 6,
        "start_time": "2023-05-19T13:05:40.012Z"
      },
      {
        "duration": 6,
        "start_time": "2023-05-19T13:05:47.489Z"
      },
      {
        "duration": 11,
        "start_time": "2023-05-19T13:07:21.274Z"
      },
      {
        "duration": 13,
        "start_time": "2023-05-19T13:07:39.895Z"
      },
      {
        "duration": 97,
        "start_time": "2023-05-19T13:07:54.243Z"
      },
      {
        "duration": 9,
        "start_time": "2023-05-19T13:07:59.919Z"
      },
      {
        "duration": 5,
        "start_time": "2023-05-19T13:08:53.751Z"
      },
      {
        "duration": 18,
        "start_time": "2023-05-19T13:09:24.986Z"
      },
      {
        "duration": 7,
        "start_time": "2023-05-19T13:10:04.999Z"
      },
      {
        "duration": 4,
        "start_time": "2023-05-19T13:10:26.258Z"
      },
      {
        "duration": 7,
        "start_time": "2023-05-19T13:10:38.474Z"
      },
      {
        "duration": 5,
        "start_time": "2023-05-19T13:10:59.471Z"
      },
      {
        "duration": 106,
        "start_time": "2023-05-19T13:12:06.621Z"
      },
      {
        "duration": 91,
        "start_time": "2023-05-19T13:12:11.060Z"
      },
      {
        "duration": 102,
        "start_time": "2023-05-19T13:12:26.532Z"
      },
      {
        "duration": 103,
        "start_time": "2023-05-19T13:12:32.317Z"
      },
      {
        "duration": 106,
        "start_time": "2023-05-19T13:13:21.072Z"
      },
      {
        "duration": 9,
        "start_time": "2023-05-19T13:13:30.072Z"
      },
      {
        "duration": 100,
        "start_time": "2023-05-19T13:13:39.023Z"
      },
      {
        "duration": 3,
        "start_time": "2023-05-19T13:13:43.022Z"
      },
      {
        "duration": 3,
        "start_time": "2023-05-19T13:13:45.734Z"
      },
      {
        "duration": 3,
        "start_time": "2023-05-19T13:13:50.846Z"
      },
      {
        "duration": 4,
        "start_time": "2023-05-19T13:14:23.855Z"
      },
      {
        "duration": 7,
        "start_time": "2023-05-19T13:17:24.740Z"
      },
      {
        "duration": 10,
        "start_time": "2023-05-19T13:17:29.748Z"
      },
      {
        "duration": 9,
        "start_time": "2023-05-19T13:17:39.235Z"
      },
      {
        "duration": 14,
        "start_time": "2023-05-19T13:18:00.480Z"
      },
      {
        "duration": 7,
        "start_time": "2023-05-19T13:18:22.860Z"
      },
      {
        "duration": 7,
        "start_time": "2023-05-19T13:18:52.445Z"
      },
      {
        "duration": 139,
        "start_time": "2023-05-19T13:19:52.072Z"
      },
      {
        "duration": 75,
        "start_time": "2023-05-19T13:20:10.085Z"
      },
      {
        "duration": 77,
        "start_time": "2023-05-19T13:20:20.214Z"
      },
      {
        "duration": 3,
        "start_time": "2023-05-19T13:20:27.351Z"
      },
      {
        "duration": 4,
        "start_time": "2023-05-19T13:21:32.839Z"
      },
      {
        "duration": 3,
        "start_time": "2023-05-19T13:21:37.355Z"
      },
      {
        "duration": 5,
        "start_time": "2023-05-19T13:21:56.504Z"
      },
      {
        "duration": 6,
        "start_time": "2023-05-19T13:22:09.771Z"
      },
      {
        "duration": 4,
        "start_time": "2023-05-19T13:23:46.715Z"
      },
      {
        "duration": 3,
        "start_time": "2023-05-19T13:23:58.027Z"
      },
      {
        "duration": 6,
        "start_time": "2023-05-19T13:24:04.275Z"
      },
      {
        "duration": 5,
        "start_time": "2023-05-19T13:25:48.773Z"
      },
      {
        "duration": 4,
        "start_time": "2023-05-19T13:26:00.710Z"
      },
      {
        "duration": 4,
        "start_time": "2023-05-19T13:26:13.541Z"
      },
      {
        "duration": 4,
        "start_time": "2023-05-19T13:26:34.016Z"
      },
      {
        "duration": 19,
        "start_time": "2023-05-19T13:37:08.019Z"
      },
      {
        "duration": 284,
        "start_time": "2023-05-19T13:40:25.030Z"
      },
      {
        "duration": 15,
        "start_time": "2023-05-19T13:41:23.618Z"
      },
      {
        "duration": 82,
        "start_time": "2023-05-19T13:44:52.014Z"
      },
      {
        "duration": 92,
        "start_time": "2023-05-19T13:45:52.310Z"
      },
      {
        "duration": 95,
        "start_time": "2023-05-19T13:45:56.926Z"
      },
      {
        "duration": 12,
        "start_time": "2023-05-19T13:46:08.295Z"
      },
      {
        "duration": 17,
        "start_time": "2023-05-19T13:47:14.562Z"
      },
      {
        "duration": 13,
        "start_time": "2023-05-19T13:48:32.179Z"
      },
      {
        "duration": 14,
        "start_time": "2023-05-19T13:48:42.826Z"
      },
      {
        "duration": 103,
        "start_time": "2023-05-19T13:49:22.756Z"
      },
      {
        "duration": 117,
        "start_time": "2023-05-19T13:49:55.757Z"
      },
      {
        "duration": 102,
        "start_time": "2023-05-19T13:50:22.325Z"
      },
      {
        "duration": 124,
        "start_time": "2023-05-19T13:50:27.476Z"
      },
      {
        "duration": 121,
        "start_time": "2023-05-19T13:50:32.942Z"
      },
      {
        "duration": 13,
        "start_time": "2023-05-19T13:50:36.837Z"
      },
      {
        "duration": 13,
        "start_time": "2023-05-19T13:50:52.191Z"
      },
      {
        "duration": 19,
        "start_time": "2023-05-19T13:51:19.675Z"
      },
      {
        "duration": 11,
        "start_time": "2023-05-19T13:51:31.214Z"
      },
      {
        "duration": 24,
        "start_time": "2023-05-19T13:51:40.174Z"
      },
      {
        "duration": 15,
        "start_time": "2023-05-19T13:51:47.371Z"
      },
      {
        "duration": 139,
        "start_time": "2023-05-19T13:53:25.993Z"
      },
      {
        "duration": 125,
        "start_time": "2023-05-19T13:53:29.032Z"
      },
      {
        "duration": 129,
        "start_time": "2023-05-19T13:53:40.257Z"
      },
      {
        "duration": 24,
        "start_time": "2023-05-19T13:56:59.326Z"
      },
      {
        "duration": 130,
        "start_time": "2023-05-19T13:57:06.715Z"
      },
      {
        "duration": 139,
        "start_time": "2023-05-19T13:57:39.550Z"
      },
      {
        "duration": 16,
        "start_time": "2023-05-19T13:58:13.375Z"
      },
      {
        "duration": 22,
        "start_time": "2023-05-19T13:58:20.944Z"
      },
      {
        "duration": 19,
        "start_time": "2023-05-19T13:58:24.528Z"
      },
      {
        "duration": 13,
        "start_time": "2023-05-19T13:59:56.611Z"
      },
      {
        "duration": 19,
        "start_time": "2023-05-19T14:00:10.058Z"
      },
      {
        "duration": 21,
        "start_time": "2023-05-19T14:02:57.193Z"
      },
      {
        "duration": 17,
        "start_time": "2023-05-19T14:03:55.102Z"
      },
      {
        "duration": 95,
        "start_time": "2023-05-19T14:04:01.550Z"
      },
      {
        "duration": 18,
        "start_time": "2023-05-19T14:04:28.215Z"
      },
      {
        "duration": 101,
        "start_time": "2023-05-19T14:06:24.138Z"
      },
      {
        "duration": 16,
        "start_time": "2023-05-19T14:11:11.228Z"
      },
      {
        "duration": 26,
        "start_time": "2023-05-19T14:11:20.200Z"
      },
      {
        "duration": 28,
        "start_time": "2023-05-19T14:11:24.702Z"
      },
      {
        "duration": 9,
        "start_time": "2023-05-19T14:12:14.232Z"
      },
      {
        "duration": 27,
        "start_time": "2023-05-19T14:12:19.001Z"
      },
      {
        "duration": 18,
        "start_time": "2023-05-19T14:12:24.257Z"
      },
      {
        "duration": 27,
        "start_time": "2023-05-19T14:12:31.372Z"
      },
      {
        "duration": 23,
        "start_time": "2023-05-19T14:13:02.117Z"
      },
      {
        "duration": 12,
        "start_time": "2023-05-19T14:13:06.235Z"
      },
      {
        "duration": 1189,
        "start_time": "2023-05-19T14:25:28.339Z"
      },
      {
        "duration": 3,
        "start_time": "2023-05-19T14:25:29.530Z"
      },
      {
        "duration": 208,
        "start_time": "2023-05-19T14:25:29.535Z"
      },
      {
        "duration": 8,
        "start_time": "2023-05-19T14:25:29.746Z"
      },
      {
        "duration": 32,
        "start_time": "2023-05-19T14:25:29.756Z"
      },
      {
        "duration": 71,
        "start_time": "2023-05-19T14:25:29.794Z"
      },
      {
        "duration": 76,
        "start_time": "2023-05-19T14:25:29.877Z"
      },
      {
        "duration": 90,
        "start_time": "2023-05-19T14:25:29.955Z"
      },
      {
        "duration": 84,
        "start_time": "2023-05-19T14:25:30.047Z"
      },
      {
        "duration": 14,
        "start_time": "2023-05-19T14:25:30.133Z"
      },
      {
        "duration": 109,
        "start_time": "2023-05-19T14:25:30.148Z"
      },
      {
        "duration": 46,
        "start_time": "2023-05-19T14:25:30.258Z"
      },
      {
        "duration": 4,
        "start_time": "2023-05-19T14:25:30.308Z"
      },
      {
        "duration": 35,
        "start_time": "2023-05-19T14:25:30.313Z"
      },
      {
        "duration": 46,
        "start_time": "2023-05-19T14:25:30.350Z"
      },
      {
        "duration": 223,
        "start_time": "2023-05-19T14:25:30.397Z"
      },
      {
        "duration": 25,
        "start_time": "2023-05-19T14:25:30.622Z"
      },
      {
        "duration": 70,
        "start_time": "2023-05-19T14:25:30.649Z"
      },
      {
        "duration": 341,
        "start_time": "2023-05-19T14:25:30.722Z"
      },
      {
        "duration": 46,
        "start_time": "2023-05-19T14:25:31.065Z"
      },
      {
        "duration": 250,
        "start_time": "2023-05-19T14:25:31.112Z"
      },
      {
        "duration": 22,
        "start_time": "2023-05-19T14:25:31.364Z"
      },
      {
        "duration": 19,
        "start_time": "2023-05-19T14:25:31.388Z"
      },
      {
        "duration": 23,
        "start_time": "2023-05-19T14:25:31.409Z"
      },
      {
        "duration": 23,
        "start_time": "2023-05-19T14:25:31.434Z"
      },
      {
        "duration": 19,
        "start_time": "2023-05-19T14:25:31.459Z"
      },
      {
        "duration": 33,
        "start_time": "2023-05-19T14:25:31.480Z"
      },
      {
        "duration": 29,
        "start_time": "2023-05-19T14:25:31.517Z"
      },
      {
        "duration": 43,
        "start_time": "2023-05-19T14:25:31.548Z"
      },
      {
        "duration": 12,
        "start_time": "2023-05-19T14:25:31.593Z"
      },
      {
        "duration": 29,
        "start_time": "2023-05-19T14:25:31.608Z"
      },
      {
        "duration": 10,
        "start_time": "2023-05-19T14:25:31.639Z"
      },
      {
        "duration": 35,
        "start_time": "2023-05-19T14:25:31.650Z"
      },
      {
        "duration": 35,
        "start_time": "2023-05-19T14:25:31.686Z"
      },
      {
        "duration": 30,
        "start_time": "2023-05-19T14:25:31.723Z"
      },
      {
        "duration": 49,
        "start_time": "2023-05-19T14:25:31.756Z"
      },
      {
        "duration": 91,
        "start_time": "2023-05-19T14:25:31.809Z"
      },
      {
        "duration": 20,
        "start_time": "2023-05-19T14:25:31.905Z"
      },
      {
        "duration": 30,
        "start_time": "2023-05-19T14:25:31.927Z"
      },
      {
        "duration": 15,
        "start_time": "2023-05-19T14:25:31.959Z"
      },
      {
        "duration": 23,
        "start_time": "2023-05-19T14:25:31.976Z"
      },
      {
        "duration": 31,
        "start_time": "2023-05-19T14:25:32.000Z"
      },
      {
        "duration": 16,
        "start_time": "2023-05-19T14:25:32.032Z"
      },
      {
        "duration": 99,
        "start_time": "2023-05-19T14:25:32.050Z"
      },
      {
        "duration": 0,
        "start_time": "2023-05-19T14:25:32.151Z"
      },
      {
        "duration": 0,
        "start_time": "2023-05-19T14:25:32.152Z"
      },
      {
        "duration": 0,
        "start_time": "2023-05-19T14:25:32.154Z"
      },
      {
        "duration": 0,
        "start_time": "2023-05-19T14:25:32.155Z"
      },
      {
        "duration": 0,
        "start_time": "2023-05-19T14:25:32.156Z"
      },
      {
        "duration": 0,
        "start_time": "2023-05-19T14:25:32.158Z"
      },
      {
        "duration": 0,
        "start_time": "2023-05-19T14:25:32.159Z"
      },
      {
        "duration": 0,
        "start_time": "2023-05-19T14:25:32.159Z"
      },
      {
        "duration": 0,
        "start_time": "2023-05-19T14:25:32.160Z"
      },
      {
        "duration": 0,
        "start_time": "2023-05-19T14:25:32.162Z"
      },
      {
        "duration": 0,
        "start_time": "2023-05-19T14:25:32.163Z"
      },
      {
        "duration": 0,
        "start_time": "2023-05-19T14:25:32.164Z"
      },
      {
        "duration": 0,
        "start_time": "2023-05-19T14:25:32.165Z"
      },
      {
        "duration": 0,
        "start_time": "2023-05-19T14:25:32.167Z"
      },
      {
        "duration": 0,
        "start_time": "2023-05-19T14:25:32.168Z"
      },
      {
        "duration": 0,
        "start_time": "2023-05-19T14:25:32.169Z"
      },
      {
        "duration": 0,
        "start_time": "2023-05-19T14:25:32.171Z"
      },
      {
        "duration": 0,
        "start_time": "2023-05-19T14:25:32.172Z"
      },
      {
        "duration": 0,
        "start_time": "2023-05-19T14:25:32.174Z"
      },
      {
        "duration": 0,
        "start_time": "2023-05-19T14:25:32.175Z"
      },
      {
        "duration": 3,
        "start_time": "2023-05-19T14:25:32.176Z"
      },
      {
        "duration": 0,
        "start_time": "2023-05-19T14:25:32.182Z"
      },
      {
        "duration": 0,
        "start_time": "2023-05-19T14:25:32.187Z"
      },
      {
        "duration": 257,
        "start_time": "2023-05-19T14:26:30.755Z"
      },
      {
        "duration": 56,
        "start_time": "2023-05-19T14:26:33.301Z"
      },
      {
        "duration": 1280,
        "start_time": "2023-05-19T14:26:39.757Z"
      },
      {
        "duration": 3,
        "start_time": "2023-05-19T14:26:41.039Z"
      },
      {
        "duration": 226,
        "start_time": "2023-05-19T14:26:41.044Z"
      },
      {
        "duration": 29,
        "start_time": "2023-05-19T14:26:41.273Z"
      },
      {
        "duration": 39,
        "start_time": "2023-05-19T14:26:41.306Z"
      },
      {
        "duration": 94,
        "start_time": "2023-05-19T14:26:41.347Z"
      },
      {
        "duration": 110,
        "start_time": "2023-05-19T14:26:41.443Z"
      },
      {
        "duration": 116,
        "start_time": "2023-05-19T14:26:41.555Z"
      },
      {
        "duration": 87,
        "start_time": "2023-05-19T14:26:41.672Z"
      },
      {
        "duration": 25,
        "start_time": "2023-05-19T14:26:41.766Z"
      },
      {
        "duration": 83,
        "start_time": "2023-05-19T14:26:41.800Z"
      },
      {
        "duration": 40,
        "start_time": "2023-05-19T14:26:41.886Z"
      },
      {
        "duration": 4,
        "start_time": "2023-05-19T14:26:41.927Z"
      },
      {
        "duration": 13,
        "start_time": "2023-05-19T14:26:41.932Z"
      },
      {
        "duration": 6,
        "start_time": "2023-05-19T14:26:41.947Z"
      },
      {
        "duration": 210,
        "start_time": "2023-05-19T14:26:41.954Z"
      },
      {
        "duration": 45,
        "start_time": "2023-05-19T14:26:42.166Z"
      },
      {
        "duration": 29,
        "start_time": "2023-05-19T14:26:42.213Z"
      },
      {
        "duration": 380,
        "start_time": "2023-05-19T14:26:42.244Z"
      },
      {
        "duration": 36,
        "start_time": "2023-05-19T14:26:42.627Z"
      },
      {
        "duration": 258,
        "start_time": "2023-05-19T14:26:42.665Z"
      },
      {
        "duration": 10,
        "start_time": "2023-05-19T14:26:42.925Z"
      },
      {
        "duration": 5,
        "start_time": "2023-05-19T14:26:42.937Z"
      },
      {
        "duration": 14,
        "start_time": "2023-05-19T14:26:42.943Z"
      },
      {
        "duration": 17,
        "start_time": "2023-05-19T14:26:42.959Z"
      },
      {
        "duration": 18,
        "start_time": "2023-05-19T14:26:42.984Z"
      },
      {
        "duration": 13,
        "start_time": "2023-05-19T14:26:43.003Z"
      },
      {
        "duration": 3,
        "start_time": "2023-05-19T14:26:43.020Z"
      },
      {
        "duration": 5,
        "start_time": "2023-05-19T14:26:43.025Z"
      },
      {
        "duration": 6,
        "start_time": "2023-05-19T14:26:43.032Z"
      },
      {
        "duration": 7,
        "start_time": "2023-05-19T14:26:43.040Z"
      },
      {
        "duration": 38,
        "start_time": "2023-05-19T14:26:43.049Z"
      },
      {
        "duration": 31,
        "start_time": "2023-05-19T14:26:43.095Z"
      },
      {
        "duration": 33,
        "start_time": "2023-05-19T14:26:43.128Z"
      },
      {
        "duration": 48,
        "start_time": "2023-05-19T14:26:43.162Z"
      },
      {
        "duration": 25,
        "start_time": "2023-05-19T14:26:43.212Z"
      },
      {
        "duration": 86,
        "start_time": "2023-05-19T14:26:43.239Z"
      },
      {
        "duration": 10,
        "start_time": "2023-05-19T14:26:43.326Z"
      },
      {
        "duration": 19,
        "start_time": "2023-05-19T14:26:43.338Z"
      },
      {
        "duration": 35,
        "start_time": "2023-05-19T14:26:43.359Z"
      },
      {
        "duration": 16,
        "start_time": "2023-05-19T14:26:43.398Z"
      },
      {
        "duration": 10,
        "start_time": "2023-05-19T14:26:43.415Z"
      },
      {
        "duration": 16,
        "start_time": "2023-05-19T14:26:43.426Z"
      },
      {
        "duration": 211,
        "start_time": "2023-05-19T14:26:43.443Z"
      },
      {
        "duration": 78,
        "start_time": "2023-05-19T14:26:43.657Z"
      },
      {
        "duration": 96,
        "start_time": "2023-05-19T14:26:43.736Z"
      },
      {
        "duration": 205,
        "start_time": "2023-05-19T14:26:43.875Z"
      },
      {
        "duration": 119,
        "start_time": "2023-05-19T14:26:44.082Z"
      },
      {
        "duration": 63,
        "start_time": "2023-05-19T14:26:44.203Z"
      },
      {
        "duration": 23,
        "start_time": "2023-05-19T14:26:44.268Z"
      },
      {
        "duration": 21,
        "start_time": "2023-05-19T14:26:44.296Z"
      },
      {
        "duration": 12,
        "start_time": "2023-05-19T14:26:44.320Z"
      },
      {
        "duration": 5,
        "start_time": "2023-05-19T14:26:44.335Z"
      },
      {
        "duration": 16,
        "start_time": "2023-05-19T14:26:44.341Z"
      },
      {
        "duration": 29,
        "start_time": "2023-05-19T14:26:44.359Z"
      },
      {
        "duration": 25,
        "start_time": "2023-05-19T14:26:44.390Z"
      },
      {
        "duration": 14,
        "start_time": "2023-05-19T14:26:44.417Z"
      },
      {
        "duration": 13,
        "start_time": "2023-05-19T14:26:44.433Z"
      },
      {
        "duration": 33,
        "start_time": "2023-05-19T14:26:44.448Z"
      },
      {
        "duration": 19,
        "start_time": "2023-05-19T14:26:44.484Z"
      },
      {
        "duration": 14,
        "start_time": "2023-05-19T14:26:44.505Z"
      },
      {
        "duration": 18,
        "start_time": "2023-05-19T14:26:44.523Z"
      },
      {
        "duration": 33,
        "start_time": "2023-05-19T14:26:44.543Z"
      },
      {
        "duration": 19,
        "start_time": "2023-05-19T14:26:44.578Z"
      },
      {
        "duration": 20,
        "start_time": "2023-05-19T14:26:44.599Z"
      },
      {
        "duration": 14,
        "start_time": "2023-05-19T14:26:44.621Z"
      },
      {
        "duration": 12,
        "start_time": "2023-05-19T14:26:44.637Z"
      },
      {
        "duration": 1061,
        "start_time": "2023-05-19T21:44:58.255Z"
      },
      {
        "duration": 2,
        "start_time": "2023-05-19T21:44:59.318Z"
      },
      {
        "duration": 166,
        "start_time": "2023-05-19T21:44:59.322Z"
      },
      {
        "duration": 6,
        "start_time": "2023-05-19T21:44:59.490Z"
      },
      {
        "duration": 21,
        "start_time": "2023-05-19T21:44:59.498Z"
      },
      {
        "duration": 73,
        "start_time": "2023-05-19T21:44:59.521Z"
      },
      {
        "duration": 57,
        "start_time": "2023-05-19T21:44:59.595Z"
      },
      {
        "duration": 80,
        "start_time": "2023-05-19T21:44:59.653Z"
      },
      {
        "duration": 62,
        "start_time": "2023-05-19T21:44:59.734Z"
      },
      {
        "duration": 11,
        "start_time": "2023-05-19T21:44:59.799Z"
      },
      {
        "duration": 77,
        "start_time": "2023-05-19T21:44:59.811Z"
      },
      {
        "duration": 36,
        "start_time": "2023-05-19T21:44:59.889Z"
      },
      {
        "duration": 6,
        "start_time": "2023-05-19T21:44:59.926Z"
      },
      {
        "duration": 13,
        "start_time": "2023-05-19T21:44:59.933Z"
      },
      {
        "duration": 6,
        "start_time": "2023-05-19T21:44:59.947Z"
      },
      {
        "duration": 144,
        "start_time": "2023-05-19T21:44:59.954Z"
      },
      {
        "duration": 18,
        "start_time": "2023-05-19T21:45:00.100Z"
      },
      {
        "duration": 47,
        "start_time": "2023-05-19T21:45:00.120Z"
      },
      {
        "duration": 326,
        "start_time": "2023-05-19T21:45:00.168Z"
      },
      {
        "duration": 29,
        "start_time": "2023-05-19T21:45:00.496Z"
      },
      {
        "duration": 183,
        "start_time": "2023-05-19T21:45:00.526Z"
      },
      {
        "duration": 9,
        "start_time": "2023-05-19T21:45:00.710Z"
      },
      {
        "duration": 45,
        "start_time": "2023-05-19T21:45:00.720Z"
      },
      {
        "duration": 42,
        "start_time": "2023-05-19T21:45:00.766Z"
      },
      {
        "duration": 38,
        "start_time": "2023-05-19T21:45:00.809Z"
      },
      {
        "duration": 38,
        "start_time": "2023-05-19T21:45:00.849Z"
      },
      {
        "duration": 37,
        "start_time": "2023-05-19T21:45:00.888Z"
      },
      {
        "duration": 26,
        "start_time": "2023-05-19T21:45:00.928Z"
      },
      {
        "duration": 26,
        "start_time": "2023-05-19T21:45:00.955Z"
      },
      {
        "duration": 59,
        "start_time": "2023-05-19T21:45:00.982Z"
      },
      {
        "duration": 34,
        "start_time": "2023-05-19T21:45:01.042Z"
      },
      {
        "duration": 51,
        "start_time": "2023-05-19T21:45:01.077Z"
      },
      {
        "duration": 81,
        "start_time": "2023-05-19T21:45:01.129Z"
      },
      {
        "duration": 31,
        "start_time": "2023-05-19T21:45:01.211Z"
      },
      {
        "duration": 37,
        "start_time": "2023-05-19T21:45:01.244Z"
      },
      {
        "duration": 87,
        "start_time": "2023-05-19T21:45:01.282Z"
      },
      {
        "duration": 88,
        "start_time": "2023-05-19T21:45:01.370Z"
      },
      {
        "duration": 26,
        "start_time": "2023-05-19T21:45:01.459Z"
      },
      {
        "duration": 114,
        "start_time": "2023-05-19T21:45:01.487Z"
      },
      {
        "duration": 102,
        "start_time": "2023-05-19T21:45:01.602Z"
      },
      {
        "duration": 107,
        "start_time": "2023-05-19T21:45:01.705Z"
      },
      {
        "duration": 30,
        "start_time": "2023-05-19T21:45:01.814Z"
      },
      {
        "duration": 41,
        "start_time": "2023-05-19T21:45:01.846Z"
      },
      {
        "duration": 284,
        "start_time": "2023-05-19T21:45:01.889Z"
      },
      {
        "duration": 35,
        "start_time": "2023-05-19T21:45:02.174Z"
      },
      {
        "duration": 119,
        "start_time": "2023-05-19T21:45:02.210Z"
      },
      {
        "duration": 128,
        "start_time": "2023-05-19T21:45:02.330Z"
      },
      {
        "duration": 68,
        "start_time": "2023-05-19T21:45:02.459Z"
      },
      {
        "duration": 180,
        "start_time": "2023-05-19T21:45:02.528Z"
      },
      {
        "duration": 18,
        "start_time": "2023-05-19T21:45:02.710Z"
      },
      {
        "duration": 74,
        "start_time": "2023-05-19T21:45:02.729Z"
      },
      {
        "duration": 55,
        "start_time": "2023-05-19T21:45:02.805Z"
      },
      {
        "duration": 118,
        "start_time": "2023-05-19T21:45:02.861Z"
      },
      {
        "duration": 36,
        "start_time": "2023-05-19T21:45:02.981Z"
      },
      {
        "duration": 21,
        "start_time": "2023-05-19T21:45:03.019Z"
      },
      {
        "duration": 17,
        "start_time": "2023-05-19T21:45:03.041Z"
      },
      {
        "duration": 25,
        "start_time": "2023-05-19T21:45:03.060Z"
      },
      {
        "duration": 12,
        "start_time": "2023-05-19T21:45:03.086Z"
      },
      {
        "duration": 12,
        "start_time": "2023-05-19T21:45:03.099Z"
      },
      {
        "duration": 26,
        "start_time": "2023-05-19T21:45:03.112Z"
      },
      {
        "duration": 10,
        "start_time": "2023-05-19T21:45:03.139Z"
      },
      {
        "duration": 7,
        "start_time": "2023-05-19T21:45:03.151Z"
      },
      {
        "duration": 25,
        "start_time": "2023-05-19T21:45:03.160Z"
      },
      {
        "duration": 19,
        "start_time": "2023-05-19T21:45:03.186Z"
      },
      {
        "duration": 17,
        "start_time": "2023-05-19T21:45:03.206Z"
      },
      {
        "duration": 7,
        "start_time": "2023-05-19T21:45:03.224Z"
      },
      {
        "duration": 9,
        "start_time": "2023-05-19T21:45:03.232Z"
      }
    ],
    "kernelspec": {
      "display_name": "Python 3 (ipykernel)",
      "language": "python",
      "name": "python3"
    },
    "language_info": {
      "codemirror_mode": {
        "name": "ipython",
        "version": 3
      },
      "file_extension": ".py",
      "mimetype": "text/x-python",
      "name": "python",
      "nbconvert_exporter": "python",
      "pygments_lexer": "ipython3",
      "version": "3.9.5"
    },
    "toc": {
      "base_numbering": 1,
      "nav_menu": {},
      "number_sections": true,
      "sideBar": true,
      "skip_h1_title": true,
      "title_cell": "Table of Contents",
      "title_sidebar": "Contents",
      "toc_cell": false,
      "toc_position": {
        "height": "calc(100% - 180px)",
        "left": "10px",
        "top": "150px",
        "width": "356.266px"
      },
      "toc_section_display": true,
      "toc_window_display": true
    },
    "colab": {
      "provenance": [],
      "toc_visible": true
    }
  },
  "nbformat": 4,
  "nbformat_minor": 0
}