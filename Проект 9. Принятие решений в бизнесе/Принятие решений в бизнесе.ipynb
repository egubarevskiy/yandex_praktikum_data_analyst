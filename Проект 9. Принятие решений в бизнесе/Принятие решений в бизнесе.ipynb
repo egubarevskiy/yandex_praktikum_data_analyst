{
  "cells": [
    {
      "cell_type": "markdown",
      "metadata": {
        "id": "TmvsRbsyzLAH"
      },
      "source": [
        "# Проект по теме \"Принятие решений в бизнесе\""
      ]
    },
    {
      "cell_type": "markdown",
      "source": [
        "**Описание проекта**\n",
        "\n",
        "Являясь аналитиком крупного интернет-магазина, вы вместе с отделом маркетинга  подготовили список гипотез для увеличения выручки.\n",
        "\n",
        "В нашем распоряжении :\n",
        "- файл `hypothesis.csv` - 9 гипотез по увеличению выручки интернет-магазина с указанными параметрами Reach, Impact, Confidence, Effort;\n",
        "- результаты A/B-теста, которые находятся в файлах `orders.csv` и `visitors.csv`."
      ],
      "metadata": {
        "id": "dVa3y3Wszb3P"
      }
    },
    {
      "cell_type": "markdown",
      "source": [
        "**Цель исследования**\n",
        "\n",
        "Необходимо приоритизировать гипотезы, запустить A/B-тест и проанализировать получившиеся результаты."
      ],
      "metadata": {
        "id": "6X6sAL6zznGm"
      }
    },
    {
      "cell_type": "markdown",
      "metadata": {
        "id": "I3aP25DpzLAJ"
      },
      "source": [
        "**Ход исследования**\n",
        "\n",
        "Исследование пройдёт в три этапа:\n",
        "1. Приоритезация гипотез.\n",
        "2. Анализ A/B-теста.\n",
        "3. Общий вывод."
      ]
    },
    {
      "cell_type": "markdown",
      "metadata": {
        "id": "BnMeTL8bzLAK"
      },
      "source": [
        "## Шаг 1. Приоритизация гипотез."
      ]
    },
    {
      "cell_type": "markdown",
      "metadata": {
        "id": "0CY_NLtMzLAK"
      },
      "source": [
        "### Задание 1.1. Примените фреймворк ICE для приоритизации гипотез. Отсортируйте гипотезы  по убыванию приоритета."
      ]
    },
    {
      "cell_type": "code",
      "execution_count": 157,
      "metadata": {
        "id": "tJSADwDlzLAL"
      },
      "outputs": [],
      "source": [
        "# импортируем необходимые библиотеки\n",
        "import pandas as pd\n",
        "import numpy as np\n",
        "import matplotlib.pyplot as plt\n",
        "import datetime as dt\n",
        "import scipy.stats as stats"
      ]
    },
    {
      "cell_type": "code",
      "execution_count": 158,
      "metadata": {
        "id": "9dXeYe_czLAM"
      },
      "outputs": [],
      "source": [
        "pd.set_option('display.max_columns', None) # код для того, чтобы отображались все столбцы датафрейма при выводе их на экран"
      ]
    },
    {
      "cell_type": "code",
      "execution_count": 159,
      "metadata": {
        "id": "m7ZE1ekezLAM"
      },
      "outputs": [],
      "source": [
        "try:\n",
        "  hypothesis = pd.read_csv('/datasets/hypothesis.csv')  # откроем файл '/datasets/hypothesis.csv'\n",
        "# и сохраним его в переменную hypothesis\n",
        "except:\n",
        "  hypothesis = pd.read_csv('https://code.s3.yandex.net/datasets/hypothesis.csv')"
      ]
    },
    {
      "cell_type": "code",
      "execution_count": 160,
      "metadata": {
        "id": "vNf0bumezLAP"
      },
      "outputs": [],
      "source": [
        "pd.set_option('max_colwidth', 200) # код для того, чтобы вывести названия гипотез целиком"
      ]
    },
    {
      "cell_type": "code",
      "execution_count": 161,
      "metadata": {
        "id": "kejnVvlXzLAQ",
        "outputId": "b9d0f870-e4b7-4867-c885-8ff4f887e5ca",
        "colab": {
          "base_uri": "https://localhost:8080/",
          "height": 332
        }
      },
      "outputs": [
        {
          "output_type": "execute_result",
          "data": {
            "text/plain": [
              "                                                                                                     Hypothesis  \\\n",
              "0            Добавить два новых канала привлечения трафика, что позволит привлекать на 30% больше пользователей   \n",
              "1                                     Запустить собственную службу доставки, что сократит срок доставки заказов   \n",
              "2  Добавить блоки рекомендаций товаров на сайт интернет магазина, чтобы повысить конверсию и средний чек заказа   \n",
              "3           Изменить структура категорий, что увеличит конверсию, т.к. пользователи быстрее найдут нужный товар   \n",
              "4                              Изменить цвет фона главной страницы, чтобы увеличить вовлеченность пользователей   \n",
              "5                      Добавить страницу отзывов клиентов о магазине, что позволит увеличить количество заказов   \n",
              "6          Показать на главной странице баннеры с актуальными акциями и распродажами, чтобы увеличить конверсию   \n",
              "7              Добавить форму подписки на все основные страницы, чтобы собрать базу клиентов для email-рассылок   \n",
              "8                                                       Запустить акцию, дающую скидку на товар в день рождения   \n",
              "\n",
              "   Reach  Impact  Confidence  Efforts  \n",
              "0      3      10           8        6  \n",
              "1      2       5           4       10  \n",
              "2      8       3           7        3  \n",
              "3      8       3           3        8  \n",
              "4      3       1           1        1  \n",
              "5      3       2           2        3  \n",
              "6      5       3           8        3  \n",
              "7     10       7           8        5  \n",
              "8      1       9           9        5  "
            ],
            "text/html": [
              "\n",
              "  <div id=\"df-a1ce53fb-c011-4cb1-9835-00eaec8d4152\" class=\"colab-df-container\">\n",
              "    <div>\n",
              "<style scoped>\n",
              "    .dataframe tbody tr th:only-of-type {\n",
              "        vertical-align: middle;\n",
              "    }\n",
              "\n",
              "    .dataframe tbody tr th {\n",
              "        vertical-align: top;\n",
              "    }\n",
              "\n",
              "    .dataframe thead th {\n",
              "        text-align: right;\n",
              "    }\n",
              "</style>\n",
              "<table border=\"1\" class=\"dataframe\">\n",
              "  <thead>\n",
              "    <tr style=\"text-align: right;\">\n",
              "      <th></th>\n",
              "      <th>Hypothesis</th>\n",
              "      <th>Reach</th>\n",
              "      <th>Impact</th>\n",
              "      <th>Confidence</th>\n",
              "      <th>Efforts</th>\n",
              "    </tr>\n",
              "  </thead>\n",
              "  <tbody>\n",
              "    <tr>\n",
              "      <th>0</th>\n",
              "      <td>Добавить два новых канала привлечения трафика, что позволит привлекать на 30% больше пользователей</td>\n",
              "      <td>3</td>\n",
              "      <td>10</td>\n",
              "      <td>8</td>\n",
              "      <td>6</td>\n",
              "    </tr>\n",
              "    <tr>\n",
              "      <th>1</th>\n",
              "      <td>Запустить собственную службу доставки, что сократит срок доставки заказов</td>\n",
              "      <td>2</td>\n",
              "      <td>5</td>\n",
              "      <td>4</td>\n",
              "      <td>10</td>\n",
              "    </tr>\n",
              "    <tr>\n",
              "      <th>2</th>\n",
              "      <td>Добавить блоки рекомендаций товаров на сайт интернет магазина, чтобы повысить конверсию и средний чек заказа</td>\n",
              "      <td>8</td>\n",
              "      <td>3</td>\n",
              "      <td>7</td>\n",
              "      <td>3</td>\n",
              "    </tr>\n",
              "    <tr>\n",
              "      <th>3</th>\n",
              "      <td>Изменить структура категорий, что увеличит конверсию, т.к. пользователи быстрее найдут нужный товар</td>\n",
              "      <td>8</td>\n",
              "      <td>3</td>\n",
              "      <td>3</td>\n",
              "      <td>8</td>\n",
              "    </tr>\n",
              "    <tr>\n",
              "      <th>4</th>\n",
              "      <td>Изменить цвет фона главной страницы, чтобы увеличить вовлеченность пользователей</td>\n",
              "      <td>3</td>\n",
              "      <td>1</td>\n",
              "      <td>1</td>\n",
              "      <td>1</td>\n",
              "    </tr>\n",
              "    <tr>\n",
              "      <th>5</th>\n",
              "      <td>Добавить страницу отзывов клиентов о магазине, что позволит увеличить количество заказов</td>\n",
              "      <td>3</td>\n",
              "      <td>2</td>\n",
              "      <td>2</td>\n",
              "      <td>3</td>\n",
              "    </tr>\n",
              "    <tr>\n",
              "      <th>6</th>\n",
              "      <td>Показать на главной странице баннеры с актуальными акциями и распродажами, чтобы увеличить конверсию</td>\n",
              "      <td>5</td>\n",
              "      <td>3</td>\n",
              "      <td>8</td>\n",
              "      <td>3</td>\n",
              "    </tr>\n",
              "    <tr>\n",
              "      <th>7</th>\n",
              "      <td>Добавить форму подписки на все основные страницы, чтобы собрать базу клиентов для email-рассылок</td>\n",
              "      <td>10</td>\n",
              "      <td>7</td>\n",
              "      <td>8</td>\n",
              "      <td>5</td>\n",
              "    </tr>\n",
              "    <tr>\n",
              "      <th>8</th>\n",
              "      <td>Запустить акцию, дающую скидку на товар в день рождения</td>\n",
              "      <td>1</td>\n",
              "      <td>9</td>\n",
              "      <td>9</td>\n",
              "      <td>5</td>\n",
              "    </tr>\n",
              "  </tbody>\n",
              "</table>\n",
              "</div>\n",
              "    <div class=\"colab-df-buttons\">\n",
              "\n",
              "  <div class=\"colab-df-container\">\n",
              "    <button class=\"colab-df-convert\" onclick=\"convertToInteractive('df-a1ce53fb-c011-4cb1-9835-00eaec8d4152')\"\n",
              "            title=\"Convert this dataframe to an interactive table.\"\n",
              "            style=\"display:none;\">\n",
              "\n",
              "  <svg xmlns=\"http://www.w3.org/2000/svg\" height=\"24px\" viewBox=\"0 -960 960 960\">\n",
              "    <path d=\"M120-120v-720h720v720H120Zm60-500h600v-160H180v160Zm220 220h160v-160H400v160Zm0 220h160v-160H400v160ZM180-400h160v-160H180v160Zm440 0h160v-160H620v160ZM180-180h160v-160H180v160Zm440 0h160v-160H620v160Z\"/>\n",
              "  </svg>\n",
              "    </button>\n",
              "\n",
              "  <style>\n",
              "    .colab-df-container {\n",
              "      display:flex;\n",
              "      gap: 12px;\n",
              "    }\n",
              "\n",
              "    .colab-df-convert {\n",
              "      background-color: #E8F0FE;\n",
              "      border: none;\n",
              "      border-radius: 50%;\n",
              "      cursor: pointer;\n",
              "      display: none;\n",
              "      fill: #1967D2;\n",
              "      height: 32px;\n",
              "      padding: 0 0 0 0;\n",
              "      width: 32px;\n",
              "    }\n",
              "\n",
              "    .colab-df-convert:hover {\n",
              "      background-color: #E2EBFA;\n",
              "      box-shadow: 0px 1px 2px rgba(60, 64, 67, 0.3), 0px 1px 3px 1px rgba(60, 64, 67, 0.15);\n",
              "      fill: #174EA6;\n",
              "    }\n",
              "\n",
              "    .colab-df-buttons div {\n",
              "      margin-bottom: 4px;\n",
              "    }\n",
              "\n",
              "    [theme=dark] .colab-df-convert {\n",
              "      background-color: #3B4455;\n",
              "      fill: #D2E3FC;\n",
              "    }\n",
              "\n",
              "    [theme=dark] .colab-df-convert:hover {\n",
              "      background-color: #434B5C;\n",
              "      box-shadow: 0px 1px 3px 1px rgba(0, 0, 0, 0.15);\n",
              "      filter: drop-shadow(0px 1px 2px rgba(0, 0, 0, 0.3));\n",
              "      fill: #FFFFFF;\n",
              "    }\n",
              "  </style>\n",
              "\n",
              "    <script>\n",
              "      const buttonEl =\n",
              "        document.querySelector('#df-a1ce53fb-c011-4cb1-9835-00eaec8d4152 button.colab-df-convert');\n",
              "      buttonEl.style.display =\n",
              "        google.colab.kernel.accessAllowed ? 'block' : 'none';\n",
              "\n",
              "      async function convertToInteractive(key) {\n",
              "        const element = document.querySelector('#df-a1ce53fb-c011-4cb1-9835-00eaec8d4152');\n",
              "        const dataTable =\n",
              "          await google.colab.kernel.invokeFunction('convertToInteractive',\n",
              "                                                    [key], {});\n",
              "        if (!dataTable) return;\n",
              "\n",
              "        const docLinkHtml = 'Like what you see? Visit the ' +\n",
              "          '<a target=\"_blank\" href=https://colab.research.google.com/notebooks/data_table.ipynb>data table notebook</a>'\n",
              "          + ' to learn more about interactive tables.';\n",
              "        element.innerHTML = '';\n",
              "        dataTable['output_type'] = 'display_data';\n",
              "        await google.colab.output.renderOutput(dataTable, element);\n",
              "        const docLink = document.createElement('div');\n",
              "        docLink.innerHTML = docLinkHtml;\n",
              "        element.appendChild(docLink);\n",
              "      }\n",
              "    </script>\n",
              "  </div>\n",
              "\n",
              "\n",
              "<div id=\"df-d5b92316-5d8f-4a58-a810-1cafccd69575\">\n",
              "  <button class=\"colab-df-quickchart\" onclick=\"quickchart('df-d5b92316-5d8f-4a58-a810-1cafccd69575')\"\n",
              "            title=\"Suggest charts.\"\n",
              "            style=\"display:none;\">\n",
              "\n",
              "<svg xmlns=\"http://www.w3.org/2000/svg\" height=\"24px\"viewBox=\"0 0 24 24\"\n",
              "     width=\"24px\">\n",
              "    <g>\n",
              "        <path d=\"M19 3H5c-1.1 0-2 .9-2 2v14c0 1.1.9 2 2 2h14c1.1 0 2-.9 2-2V5c0-1.1-.9-2-2-2zM9 17H7v-7h2v7zm4 0h-2V7h2v10zm4 0h-2v-4h2v4z\"/>\n",
              "    </g>\n",
              "</svg>\n",
              "  </button>\n",
              "\n",
              "<style>\n",
              "  .colab-df-quickchart {\n",
              "      --bg-color: #E8F0FE;\n",
              "      --fill-color: #1967D2;\n",
              "      --hover-bg-color: #E2EBFA;\n",
              "      --hover-fill-color: #174EA6;\n",
              "      --disabled-fill-color: #AAA;\n",
              "      --disabled-bg-color: #DDD;\n",
              "  }\n",
              "\n",
              "  [theme=dark] .colab-df-quickchart {\n",
              "      --bg-color: #3B4455;\n",
              "      --fill-color: #D2E3FC;\n",
              "      --hover-bg-color: #434B5C;\n",
              "      --hover-fill-color: #FFFFFF;\n",
              "      --disabled-bg-color: #3B4455;\n",
              "      --disabled-fill-color: #666;\n",
              "  }\n",
              "\n",
              "  .colab-df-quickchart {\n",
              "    background-color: var(--bg-color);\n",
              "    border: none;\n",
              "    border-radius: 50%;\n",
              "    cursor: pointer;\n",
              "    display: none;\n",
              "    fill: var(--fill-color);\n",
              "    height: 32px;\n",
              "    padding: 0;\n",
              "    width: 32px;\n",
              "  }\n",
              "\n",
              "  .colab-df-quickchart:hover {\n",
              "    background-color: var(--hover-bg-color);\n",
              "    box-shadow: 0 1px 2px rgba(60, 64, 67, 0.3), 0 1px 3px 1px rgba(60, 64, 67, 0.15);\n",
              "    fill: var(--button-hover-fill-color);\n",
              "  }\n",
              "\n",
              "  .colab-df-quickchart-complete:disabled,\n",
              "  .colab-df-quickchart-complete:disabled:hover {\n",
              "    background-color: var(--disabled-bg-color);\n",
              "    fill: var(--disabled-fill-color);\n",
              "    box-shadow: none;\n",
              "  }\n",
              "\n",
              "  .colab-df-spinner {\n",
              "    border: 2px solid var(--fill-color);\n",
              "    border-color: transparent;\n",
              "    border-bottom-color: var(--fill-color);\n",
              "    animation:\n",
              "      spin 1s steps(1) infinite;\n",
              "  }\n",
              "\n",
              "  @keyframes spin {\n",
              "    0% {\n",
              "      border-color: transparent;\n",
              "      border-bottom-color: var(--fill-color);\n",
              "      border-left-color: var(--fill-color);\n",
              "    }\n",
              "    20% {\n",
              "      border-color: transparent;\n",
              "      border-left-color: var(--fill-color);\n",
              "      border-top-color: var(--fill-color);\n",
              "    }\n",
              "    30% {\n",
              "      border-color: transparent;\n",
              "      border-left-color: var(--fill-color);\n",
              "      border-top-color: var(--fill-color);\n",
              "      border-right-color: var(--fill-color);\n",
              "    }\n",
              "    40% {\n",
              "      border-color: transparent;\n",
              "      border-right-color: var(--fill-color);\n",
              "      border-top-color: var(--fill-color);\n",
              "    }\n",
              "    60% {\n",
              "      border-color: transparent;\n",
              "      border-right-color: var(--fill-color);\n",
              "    }\n",
              "    80% {\n",
              "      border-color: transparent;\n",
              "      border-right-color: var(--fill-color);\n",
              "      border-bottom-color: var(--fill-color);\n",
              "    }\n",
              "    90% {\n",
              "      border-color: transparent;\n",
              "      border-bottom-color: var(--fill-color);\n",
              "    }\n",
              "  }\n",
              "</style>\n",
              "\n",
              "  <script>\n",
              "    async function quickchart(key) {\n",
              "      const quickchartButtonEl =\n",
              "        document.querySelector('#' + key + ' button');\n",
              "      quickchartButtonEl.disabled = true;  // To prevent multiple clicks.\n",
              "      quickchartButtonEl.classList.add('colab-df-spinner');\n",
              "      try {\n",
              "        const charts = await google.colab.kernel.invokeFunction(\n",
              "            'suggestCharts', [key], {});\n",
              "      } catch (error) {\n",
              "        console.error('Error during call to suggestCharts:', error);\n",
              "      }\n",
              "      quickchartButtonEl.classList.remove('colab-df-spinner');\n",
              "      quickchartButtonEl.classList.add('colab-df-quickchart-complete');\n",
              "    }\n",
              "    (() => {\n",
              "      let quickchartButtonEl =\n",
              "        document.querySelector('#df-d5b92316-5d8f-4a58-a810-1cafccd69575 button');\n",
              "      quickchartButtonEl.style.display =\n",
              "        google.colab.kernel.accessAllowed ? 'block' : 'none';\n",
              "    })();\n",
              "  </script>\n",
              "</div>\n",
              "    </div>\n",
              "  </div>\n"
            ]
          },
          "metadata": {},
          "execution_count": 161
        }
      ],
      "source": [
        "hypothesis # отобразим датафрейм hypothesis"
      ]
    },
    {
      "cell_type": "markdown",
      "metadata": {
        "id": "y0Ie3um9zLAR"
      },
      "source": [
        "Видим, чо шкала для приоритизации гипотез выбрана от 0 до 10.\n",
        "Применим фреймворк ICE для приоритизации гипотез, а затем отсортируем гипотезы по убыванию приоритета."
      ]
    },
    {
      "cell_type": "code",
      "execution_count": 162,
      "metadata": {
        "id": "4mnFcSEPzLAR",
        "outputId": "4ce7e607-4e7d-46e8-f2dc-c2496a1699d0",
        "colab": {
          "base_uri": "https://localhost:8080/",
          "height": 332
        }
      },
      "outputs": [
        {
          "output_type": "execute_result",
          "data": {
            "text/plain": [
              "                                                                                                     Hypothesis  \\\n",
              "8                                                       Запустить акцию, дающую скидку на товар в день рождения   \n",
              "0            Добавить два новых канала привлечения трафика, что позволит привлекать на 30% больше пользователей   \n",
              "7              Добавить форму подписки на все основные страницы, чтобы собрать базу клиентов для email-рассылок   \n",
              "6          Показать на главной странице баннеры с актуальными акциями и распродажами, чтобы увеличить конверсию   \n",
              "2  Добавить блоки рекомендаций товаров на сайт интернет магазина, чтобы повысить конверсию и средний чек заказа   \n",
              "1                                     Запустить собственную службу доставки, что сократит срок доставки заказов   \n",
              "5                      Добавить страницу отзывов клиентов о магазине, что позволит увеличить количество заказов   \n",
              "3           Изменить структура категорий, что увеличит конверсию, т.к. пользователи быстрее найдут нужный товар   \n",
              "4                              Изменить цвет фона главной страницы, чтобы увеличить вовлеченность пользователей   \n",
              "\n",
              "   Reach  Impact  Confidence  Efforts    ICE  \n",
              "8      1       9           9        5  16.20  \n",
              "0      3      10           8        6  13.33  \n",
              "7     10       7           8        5  11.20  \n",
              "6      5       3           8        3   8.00  \n",
              "2      8       3           7        3   7.00  \n",
              "1      2       5           4       10   2.00  \n",
              "5      3       2           2        3   1.33  \n",
              "3      8       3           3        8   1.12  \n",
              "4      3       1           1        1   1.00  "
            ],
            "text/html": [
              "\n",
              "  <div id=\"df-196d9f55-d468-41e1-ba6c-8ce241c75731\" class=\"colab-df-container\">\n",
              "    <div>\n",
              "<style scoped>\n",
              "    .dataframe tbody tr th:only-of-type {\n",
              "        vertical-align: middle;\n",
              "    }\n",
              "\n",
              "    .dataframe tbody tr th {\n",
              "        vertical-align: top;\n",
              "    }\n",
              "\n",
              "    .dataframe thead th {\n",
              "        text-align: right;\n",
              "    }\n",
              "</style>\n",
              "<table border=\"1\" class=\"dataframe\">\n",
              "  <thead>\n",
              "    <tr style=\"text-align: right;\">\n",
              "      <th></th>\n",
              "      <th>Hypothesis</th>\n",
              "      <th>Reach</th>\n",
              "      <th>Impact</th>\n",
              "      <th>Confidence</th>\n",
              "      <th>Efforts</th>\n",
              "      <th>ICE</th>\n",
              "    </tr>\n",
              "  </thead>\n",
              "  <tbody>\n",
              "    <tr>\n",
              "      <th>8</th>\n",
              "      <td>Запустить акцию, дающую скидку на товар в день рождения</td>\n",
              "      <td>1</td>\n",
              "      <td>9</td>\n",
              "      <td>9</td>\n",
              "      <td>5</td>\n",
              "      <td>16.20</td>\n",
              "    </tr>\n",
              "    <tr>\n",
              "      <th>0</th>\n",
              "      <td>Добавить два новых канала привлечения трафика, что позволит привлекать на 30% больше пользователей</td>\n",
              "      <td>3</td>\n",
              "      <td>10</td>\n",
              "      <td>8</td>\n",
              "      <td>6</td>\n",
              "      <td>13.33</td>\n",
              "    </tr>\n",
              "    <tr>\n",
              "      <th>7</th>\n",
              "      <td>Добавить форму подписки на все основные страницы, чтобы собрать базу клиентов для email-рассылок</td>\n",
              "      <td>10</td>\n",
              "      <td>7</td>\n",
              "      <td>8</td>\n",
              "      <td>5</td>\n",
              "      <td>11.20</td>\n",
              "    </tr>\n",
              "    <tr>\n",
              "      <th>6</th>\n",
              "      <td>Показать на главной странице баннеры с актуальными акциями и распродажами, чтобы увеличить конверсию</td>\n",
              "      <td>5</td>\n",
              "      <td>3</td>\n",
              "      <td>8</td>\n",
              "      <td>3</td>\n",
              "      <td>8.00</td>\n",
              "    </tr>\n",
              "    <tr>\n",
              "      <th>2</th>\n",
              "      <td>Добавить блоки рекомендаций товаров на сайт интернет магазина, чтобы повысить конверсию и средний чек заказа</td>\n",
              "      <td>8</td>\n",
              "      <td>3</td>\n",
              "      <td>7</td>\n",
              "      <td>3</td>\n",
              "      <td>7.00</td>\n",
              "    </tr>\n",
              "    <tr>\n",
              "      <th>1</th>\n",
              "      <td>Запустить собственную службу доставки, что сократит срок доставки заказов</td>\n",
              "      <td>2</td>\n",
              "      <td>5</td>\n",
              "      <td>4</td>\n",
              "      <td>10</td>\n",
              "      <td>2.00</td>\n",
              "    </tr>\n",
              "    <tr>\n",
              "      <th>5</th>\n",
              "      <td>Добавить страницу отзывов клиентов о магазине, что позволит увеличить количество заказов</td>\n",
              "      <td>3</td>\n",
              "      <td>2</td>\n",
              "      <td>2</td>\n",
              "      <td>3</td>\n",
              "      <td>1.33</td>\n",
              "    </tr>\n",
              "    <tr>\n",
              "      <th>3</th>\n",
              "      <td>Изменить структура категорий, что увеличит конверсию, т.к. пользователи быстрее найдут нужный товар</td>\n",
              "      <td>8</td>\n",
              "      <td>3</td>\n",
              "      <td>3</td>\n",
              "      <td>8</td>\n",
              "      <td>1.12</td>\n",
              "    </tr>\n",
              "    <tr>\n",
              "      <th>4</th>\n",
              "      <td>Изменить цвет фона главной страницы, чтобы увеличить вовлеченность пользователей</td>\n",
              "      <td>3</td>\n",
              "      <td>1</td>\n",
              "      <td>1</td>\n",
              "      <td>1</td>\n",
              "      <td>1.00</td>\n",
              "    </tr>\n",
              "  </tbody>\n",
              "</table>\n",
              "</div>\n",
              "    <div class=\"colab-df-buttons\">\n",
              "\n",
              "  <div class=\"colab-df-container\">\n",
              "    <button class=\"colab-df-convert\" onclick=\"convertToInteractive('df-196d9f55-d468-41e1-ba6c-8ce241c75731')\"\n",
              "            title=\"Convert this dataframe to an interactive table.\"\n",
              "            style=\"display:none;\">\n",
              "\n",
              "  <svg xmlns=\"http://www.w3.org/2000/svg\" height=\"24px\" viewBox=\"0 -960 960 960\">\n",
              "    <path d=\"M120-120v-720h720v720H120Zm60-500h600v-160H180v160Zm220 220h160v-160H400v160Zm0 220h160v-160H400v160ZM180-400h160v-160H180v160Zm440 0h160v-160H620v160ZM180-180h160v-160H180v160Zm440 0h160v-160H620v160Z\"/>\n",
              "  </svg>\n",
              "    </button>\n",
              "\n",
              "  <style>\n",
              "    .colab-df-container {\n",
              "      display:flex;\n",
              "      gap: 12px;\n",
              "    }\n",
              "\n",
              "    .colab-df-convert {\n",
              "      background-color: #E8F0FE;\n",
              "      border: none;\n",
              "      border-radius: 50%;\n",
              "      cursor: pointer;\n",
              "      display: none;\n",
              "      fill: #1967D2;\n",
              "      height: 32px;\n",
              "      padding: 0 0 0 0;\n",
              "      width: 32px;\n",
              "    }\n",
              "\n",
              "    .colab-df-convert:hover {\n",
              "      background-color: #E2EBFA;\n",
              "      box-shadow: 0px 1px 2px rgba(60, 64, 67, 0.3), 0px 1px 3px 1px rgba(60, 64, 67, 0.15);\n",
              "      fill: #174EA6;\n",
              "    }\n",
              "\n",
              "    .colab-df-buttons div {\n",
              "      margin-bottom: 4px;\n",
              "    }\n",
              "\n",
              "    [theme=dark] .colab-df-convert {\n",
              "      background-color: #3B4455;\n",
              "      fill: #D2E3FC;\n",
              "    }\n",
              "\n",
              "    [theme=dark] .colab-df-convert:hover {\n",
              "      background-color: #434B5C;\n",
              "      box-shadow: 0px 1px 3px 1px rgba(0, 0, 0, 0.15);\n",
              "      filter: drop-shadow(0px 1px 2px rgba(0, 0, 0, 0.3));\n",
              "      fill: #FFFFFF;\n",
              "    }\n",
              "  </style>\n",
              "\n",
              "    <script>\n",
              "      const buttonEl =\n",
              "        document.querySelector('#df-196d9f55-d468-41e1-ba6c-8ce241c75731 button.colab-df-convert');\n",
              "      buttonEl.style.display =\n",
              "        google.colab.kernel.accessAllowed ? 'block' : 'none';\n",
              "\n",
              "      async function convertToInteractive(key) {\n",
              "        const element = document.querySelector('#df-196d9f55-d468-41e1-ba6c-8ce241c75731');\n",
              "        const dataTable =\n",
              "          await google.colab.kernel.invokeFunction('convertToInteractive',\n",
              "                                                    [key], {});\n",
              "        if (!dataTable) return;\n",
              "\n",
              "        const docLinkHtml = 'Like what you see? Visit the ' +\n",
              "          '<a target=\"_blank\" href=https://colab.research.google.com/notebooks/data_table.ipynb>data table notebook</a>'\n",
              "          + ' to learn more about interactive tables.';\n",
              "        element.innerHTML = '';\n",
              "        dataTable['output_type'] = 'display_data';\n",
              "        await google.colab.output.renderOutput(dataTable, element);\n",
              "        const docLink = document.createElement('div');\n",
              "        docLink.innerHTML = docLinkHtml;\n",
              "        element.appendChild(docLink);\n",
              "      }\n",
              "    </script>\n",
              "  </div>\n",
              "\n",
              "\n",
              "<div id=\"df-06311862-91a6-42df-8dbf-85b3fdb1ed36\">\n",
              "  <button class=\"colab-df-quickchart\" onclick=\"quickchart('df-06311862-91a6-42df-8dbf-85b3fdb1ed36')\"\n",
              "            title=\"Suggest charts.\"\n",
              "            style=\"display:none;\">\n",
              "\n",
              "<svg xmlns=\"http://www.w3.org/2000/svg\" height=\"24px\"viewBox=\"0 0 24 24\"\n",
              "     width=\"24px\">\n",
              "    <g>\n",
              "        <path d=\"M19 3H5c-1.1 0-2 .9-2 2v14c0 1.1.9 2 2 2h14c1.1 0 2-.9 2-2V5c0-1.1-.9-2-2-2zM9 17H7v-7h2v7zm4 0h-2V7h2v10zm4 0h-2v-4h2v4z\"/>\n",
              "    </g>\n",
              "</svg>\n",
              "  </button>\n",
              "\n",
              "<style>\n",
              "  .colab-df-quickchart {\n",
              "      --bg-color: #E8F0FE;\n",
              "      --fill-color: #1967D2;\n",
              "      --hover-bg-color: #E2EBFA;\n",
              "      --hover-fill-color: #174EA6;\n",
              "      --disabled-fill-color: #AAA;\n",
              "      --disabled-bg-color: #DDD;\n",
              "  }\n",
              "\n",
              "  [theme=dark] .colab-df-quickchart {\n",
              "      --bg-color: #3B4455;\n",
              "      --fill-color: #D2E3FC;\n",
              "      --hover-bg-color: #434B5C;\n",
              "      --hover-fill-color: #FFFFFF;\n",
              "      --disabled-bg-color: #3B4455;\n",
              "      --disabled-fill-color: #666;\n",
              "  }\n",
              "\n",
              "  .colab-df-quickchart {\n",
              "    background-color: var(--bg-color);\n",
              "    border: none;\n",
              "    border-radius: 50%;\n",
              "    cursor: pointer;\n",
              "    display: none;\n",
              "    fill: var(--fill-color);\n",
              "    height: 32px;\n",
              "    padding: 0;\n",
              "    width: 32px;\n",
              "  }\n",
              "\n",
              "  .colab-df-quickchart:hover {\n",
              "    background-color: var(--hover-bg-color);\n",
              "    box-shadow: 0 1px 2px rgba(60, 64, 67, 0.3), 0 1px 3px 1px rgba(60, 64, 67, 0.15);\n",
              "    fill: var(--button-hover-fill-color);\n",
              "  }\n",
              "\n",
              "  .colab-df-quickchart-complete:disabled,\n",
              "  .colab-df-quickchart-complete:disabled:hover {\n",
              "    background-color: var(--disabled-bg-color);\n",
              "    fill: var(--disabled-fill-color);\n",
              "    box-shadow: none;\n",
              "  }\n",
              "\n",
              "  .colab-df-spinner {\n",
              "    border: 2px solid var(--fill-color);\n",
              "    border-color: transparent;\n",
              "    border-bottom-color: var(--fill-color);\n",
              "    animation:\n",
              "      spin 1s steps(1) infinite;\n",
              "  }\n",
              "\n",
              "  @keyframes spin {\n",
              "    0% {\n",
              "      border-color: transparent;\n",
              "      border-bottom-color: var(--fill-color);\n",
              "      border-left-color: var(--fill-color);\n",
              "    }\n",
              "    20% {\n",
              "      border-color: transparent;\n",
              "      border-left-color: var(--fill-color);\n",
              "      border-top-color: var(--fill-color);\n",
              "    }\n",
              "    30% {\n",
              "      border-color: transparent;\n",
              "      border-left-color: var(--fill-color);\n",
              "      border-top-color: var(--fill-color);\n",
              "      border-right-color: var(--fill-color);\n",
              "    }\n",
              "    40% {\n",
              "      border-color: transparent;\n",
              "      border-right-color: var(--fill-color);\n",
              "      border-top-color: var(--fill-color);\n",
              "    }\n",
              "    60% {\n",
              "      border-color: transparent;\n",
              "      border-right-color: var(--fill-color);\n",
              "    }\n",
              "    80% {\n",
              "      border-color: transparent;\n",
              "      border-right-color: var(--fill-color);\n",
              "      border-bottom-color: var(--fill-color);\n",
              "    }\n",
              "    90% {\n",
              "      border-color: transparent;\n",
              "      border-bottom-color: var(--fill-color);\n",
              "    }\n",
              "  }\n",
              "</style>\n",
              "\n",
              "  <script>\n",
              "    async function quickchart(key) {\n",
              "      const quickchartButtonEl =\n",
              "        document.querySelector('#' + key + ' button');\n",
              "      quickchartButtonEl.disabled = true;  // To prevent multiple clicks.\n",
              "      quickchartButtonEl.classList.add('colab-df-spinner');\n",
              "      try {\n",
              "        const charts = await google.colab.kernel.invokeFunction(\n",
              "            'suggestCharts', [key], {});\n",
              "      } catch (error) {\n",
              "        console.error('Error during call to suggestCharts:', error);\n",
              "      }\n",
              "      quickchartButtonEl.classList.remove('colab-df-spinner');\n",
              "      quickchartButtonEl.classList.add('colab-df-quickchart-complete');\n",
              "    }\n",
              "    (() => {\n",
              "      let quickchartButtonEl =\n",
              "        document.querySelector('#df-06311862-91a6-42df-8dbf-85b3fdb1ed36 button');\n",
              "      quickchartButtonEl.style.display =\n",
              "        google.colab.kernel.accessAllowed ? 'block' : 'none';\n",
              "    })();\n",
              "  </script>\n",
              "</div>\n",
              "    </div>\n",
              "  </div>\n"
            ]
          },
          "metadata": {},
          "execution_count": 162
        }
      ],
      "source": [
        "hypothesis['ICE'] = round(hypothesis['Impact'] * hypothesis['Confidence'] / hypothesis['Efforts'],2)\n",
        "hypothesis.sort_values(by='ICE', ascending=False)"
      ]
    },
    {
      "cell_type": "markdown",
      "metadata": {
        "id": "ceU8efB2zLAS"
      },
      "source": [
        "### Задание 1.2. Примените фреймворк RICE для приоритизации гипотез. Отсортируйте гипотезы по убыванию приоритета."
      ]
    },
    {
      "cell_type": "code",
      "execution_count": 163,
      "metadata": {
        "id": "OU59dEXTzLAS",
        "outputId": "e9d5fe1c-b2d2-4f9e-cca1-e0287338b8b1",
        "colab": {
          "base_uri": "https://localhost:8080/",
          "height": 332
        }
      },
      "outputs": [
        {
          "output_type": "execute_result",
          "data": {
            "text/plain": [
              "                                                                                                     Hypothesis  \\\n",
              "7              Добавить форму подписки на все основные страницы, чтобы собрать базу клиентов для email-рассылок   \n",
              "2  Добавить блоки рекомендаций товаров на сайт интернет магазина, чтобы повысить конверсию и средний чек заказа   \n",
              "0            Добавить два новых канала привлечения трафика, что позволит привлекать на 30% больше пользователей   \n",
              "6          Показать на главной странице баннеры с актуальными акциями и распродажами, чтобы увеличить конверсию   \n",
              "8                                                       Запустить акцию, дающую скидку на товар в день рождения   \n",
              "3           Изменить структура категорий, что увеличит конверсию, т.к. пользователи быстрее найдут нужный товар   \n",
              "1                                     Запустить собственную службу доставки, что сократит срок доставки заказов   \n",
              "5                      Добавить страницу отзывов клиентов о магазине, что позволит увеличить количество заказов   \n",
              "4                              Изменить цвет фона главной страницы, чтобы увеличить вовлеченность пользователей   \n",
              "\n",
              "   Reach  Impact  Confidence  Efforts    ICE   RICE  \n",
              "7     10       7           8        5  11.20  112.0  \n",
              "2      8       3           7        3   7.00   56.0  \n",
              "0      3      10           8        6  13.33   40.0  \n",
              "6      5       3           8        3   8.00   40.0  \n",
              "8      1       9           9        5  16.20   16.2  \n",
              "3      8       3           3        8   1.12    9.0  \n",
              "1      2       5           4       10   2.00    4.0  \n",
              "5      3       2           2        3   1.33    4.0  \n",
              "4      3       1           1        1   1.00    3.0  "
            ],
            "text/html": [
              "\n",
              "  <div id=\"df-9de95ff1-5334-48fb-a071-738e69d817e9\" class=\"colab-df-container\">\n",
              "    <div>\n",
              "<style scoped>\n",
              "    .dataframe tbody tr th:only-of-type {\n",
              "        vertical-align: middle;\n",
              "    }\n",
              "\n",
              "    .dataframe tbody tr th {\n",
              "        vertical-align: top;\n",
              "    }\n",
              "\n",
              "    .dataframe thead th {\n",
              "        text-align: right;\n",
              "    }\n",
              "</style>\n",
              "<table border=\"1\" class=\"dataframe\">\n",
              "  <thead>\n",
              "    <tr style=\"text-align: right;\">\n",
              "      <th></th>\n",
              "      <th>Hypothesis</th>\n",
              "      <th>Reach</th>\n",
              "      <th>Impact</th>\n",
              "      <th>Confidence</th>\n",
              "      <th>Efforts</th>\n",
              "      <th>ICE</th>\n",
              "      <th>RICE</th>\n",
              "    </tr>\n",
              "  </thead>\n",
              "  <tbody>\n",
              "    <tr>\n",
              "      <th>7</th>\n",
              "      <td>Добавить форму подписки на все основные страницы, чтобы собрать базу клиентов для email-рассылок</td>\n",
              "      <td>10</td>\n",
              "      <td>7</td>\n",
              "      <td>8</td>\n",
              "      <td>5</td>\n",
              "      <td>11.20</td>\n",
              "      <td>112.0</td>\n",
              "    </tr>\n",
              "    <tr>\n",
              "      <th>2</th>\n",
              "      <td>Добавить блоки рекомендаций товаров на сайт интернет магазина, чтобы повысить конверсию и средний чек заказа</td>\n",
              "      <td>8</td>\n",
              "      <td>3</td>\n",
              "      <td>7</td>\n",
              "      <td>3</td>\n",
              "      <td>7.00</td>\n",
              "      <td>56.0</td>\n",
              "    </tr>\n",
              "    <tr>\n",
              "      <th>0</th>\n",
              "      <td>Добавить два новых канала привлечения трафика, что позволит привлекать на 30% больше пользователей</td>\n",
              "      <td>3</td>\n",
              "      <td>10</td>\n",
              "      <td>8</td>\n",
              "      <td>6</td>\n",
              "      <td>13.33</td>\n",
              "      <td>40.0</td>\n",
              "    </tr>\n",
              "    <tr>\n",
              "      <th>6</th>\n",
              "      <td>Показать на главной странице баннеры с актуальными акциями и распродажами, чтобы увеличить конверсию</td>\n",
              "      <td>5</td>\n",
              "      <td>3</td>\n",
              "      <td>8</td>\n",
              "      <td>3</td>\n",
              "      <td>8.00</td>\n",
              "      <td>40.0</td>\n",
              "    </tr>\n",
              "    <tr>\n",
              "      <th>8</th>\n",
              "      <td>Запустить акцию, дающую скидку на товар в день рождения</td>\n",
              "      <td>1</td>\n",
              "      <td>9</td>\n",
              "      <td>9</td>\n",
              "      <td>5</td>\n",
              "      <td>16.20</td>\n",
              "      <td>16.2</td>\n",
              "    </tr>\n",
              "    <tr>\n",
              "      <th>3</th>\n",
              "      <td>Изменить структура категорий, что увеличит конверсию, т.к. пользователи быстрее найдут нужный товар</td>\n",
              "      <td>8</td>\n",
              "      <td>3</td>\n",
              "      <td>3</td>\n",
              "      <td>8</td>\n",
              "      <td>1.12</td>\n",
              "      <td>9.0</td>\n",
              "    </tr>\n",
              "    <tr>\n",
              "      <th>1</th>\n",
              "      <td>Запустить собственную службу доставки, что сократит срок доставки заказов</td>\n",
              "      <td>2</td>\n",
              "      <td>5</td>\n",
              "      <td>4</td>\n",
              "      <td>10</td>\n",
              "      <td>2.00</td>\n",
              "      <td>4.0</td>\n",
              "    </tr>\n",
              "    <tr>\n",
              "      <th>5</th>\n",
              "      <td>Добавить страницу отзывов клиентов о магазине, что позволит увеличить количество заказов</td>\n",
              "      <td>3</td>\n",
              "      <td>2</td>\n",
              "      <td>2</td>\n",
              "      <td>3</td>\n",
              "      <td>1.33</td>\n",
              "      <td>4.0</td>\n",
              "    </tr>\n",
              "    <tr>\n",
              "      <th>4</th>\n",
              "      <td>Изменить цвет фона главной страницы, чтобы увеличить вовлеченность пользователей</td>\n",
              "      <td>3</td>\n",
              "      <td>1</td>\n",
              "      <td>1</td>\n",
              "      <td>1</td>\n",
              "      <td>1.00</td>\n",
              "      <td>3.0</td>\n",
              "    </tr>\n",
              "  </tbody>\n",
              "</table>\n",
              "</div>\n",
              "    <div class=\"colab-df-buttons\">\n",
              "\n",
              "  <div class=\"colab-df-container\">\n",
              "    <button class=\"colab-df-convert\" onclick=\"convertToInteractive('df-9de95ff1-5334-48fb-a071-738e69d817e9')\"\n",
              "            title=\"Convert this dataframe to an interactive table.\"\n",
              "            style=\"display:none;\">\n",
              "\n",
              "  <svg xmlns=\"http://www.w3.org/2000/svg\" height=\"24px\" viewBox=\"0 -960 960 960\">\n",
              "    <path d=\"M120-120v-720h720v720H120Zm60-500h600v-160H180v160Zm220 220h160v-160H400v160Zm0 220h160v-160H400v160ZM180-400h160v-160H180v160Zm440 0h160v-160H620v160ZM180-180h160v-160H180v160Zm440 0h160v-160H620v160Z\"/>\n",
              "  </svg>\n",
              "    </button>\n",
              "\n",
              "  <style>\n",
              "    .colab-df-container {\n",
              "      display:flex;\n",
              "      gap: 12px;\n",
              "    }\n",
              "\n",
              "    .colab-df-convert {\n",
              "      background-color: #E8F0FE;\n",
              "      border: none;\n",
              "      border-radius: 50%;\n",
              "      cursor: pointer;\n",
              "      display: none;\n",
              "      fill: #1967D2;\n",
              "      height: 32px;\n",
              "      padding: 0 0 0 0;\n",
              "      width: 32px;\n",
              "    }\n",
              "\n",
              "    .colab-df-convert:hover {\n",
              "      background-color: #E2EBFA;\n",
              "      box-shadow: 0px 1px 2px rgba(60, 64, 67, 0.3), 0px 1px 3px 1px rgba(60, 64, 67, 0.15);\n",
              "      fill: #174EA6;\n",
              "    }\n",
              "\n",
              "    .colab-df-buttons div {\n",
              "      margin-bottom: 4px;\n",
              "    }\n",
              "\n",
              "    [theme=dark] .colab-df-convert {\n",
              "      background-color: #3B4455;\n",
              "      fill: #D2E3FC;\n",
              "    }\n",
              "\n",
              "    [theme=dark] .colab-df-convert:hover {\n",
              "      background-color: #434B5C;\n",
              "      box-shadow: 0px 1px 3px 1px rgba(0, 0, 0, 0.15);\n",
              "      filter: drop-shadow(0px 1px 2px rgba(0, 0, 0, 0.3));\n",
              "      fill: #FFFFFF;\n",
              "    }\n",
              "  </style>\n",
              "\n",
              "    <script>\n",
              "      const buttonEl =\n",
              "        document.querySelector('#df-9de95ff1-5334-48fb-a071-738e69d817e9 button.colab-df-convert');\n",
              "      buttonEl.style.display =\n",
              "        google.colab.kernel.accessAllowed ? 'block' : 'none';\n",
              "\n",
              "      async function convertToInteractive(key) {\n",
              "        const element = document.querySelector('#df-9de95ff1-5334-48fb-a071-738e69d817e9');\n",
              "        const dataTable =\n",
              "          await google.colab.kernel.invokeFunction('convertToInteractive',\n",
              "                                                    [key], {});\n",
              "        if (!dataTable) return;\n",
              "\n",
              "        const docLinkHtml = 'Like what you see? Visit the ' +\n",
              "          '<a target=\"_blank\" href=https://colab.research.google.com/notebooks/data_table.ipynb>data table notebook</a>'\n",
              "          + ' to learn more about interactive tables.';\n",
              "        element.innerHTML = '';\n",
              "        dataTable['output_type'] = 'display_data';\n",
              "        await google.colab.output.renderOutput(dataTable, element);\n",
              "        const docLink = document.createElement('div');\n",
              "        docLink.innerHTML = docLinkHtml;\n",
              "        element.appendChild(docLink);\n",
              "      }\n",
              "    </script>\n",
              "  </div>\n",
              "\n",
              "\n",
              "<div id=\"df-0170b2df-5154-4c8f-ba2a-4d4d448f91bd\">\n",
              "  <button class=\"colab-df-quickchart\" onclick=\"quickchart('df-0170b2df-5154-4c8f-ba2a-4d4d448f91bd')\"\n",
              "            title=\"Suggest charts.\"\n",
              "            style=\"display:none;\">\n",
              "\n",
              "<svg xmlns=\"http://www.w3.org/2000/svg\" height=\"24px\"viewBox=\"0 0 24 24\"\n",
              "     width=\"24px\">\n",
              "    <g>\n",
              "        <path d=\"M19 3H5c-1.1 0-2 .9-2 2v14c0 1.1.9 2 2 2h14c1.1 0 2-.9 2-2V5c0-1.1-.9-2-2-2zM9 17H7v-7h2v7zm4 0h-2V7h2v10zm4 0h-2v-4h2v4z\"/>\n",
              "    </g>\n",
              "</svg>\n",
              "  </button>\n",
              "\n",
              "<style>\n",
              "  .colab-df-quickchart {\n",
              "      --bg-color: #E8F0FE;\n",
              "      --fill-color: #1967D2;\n",
              "      --hover-bg-color: #E2EBFA;\n",
              "      --hover-fill-color: #174EA6;\n",
              "      --disabled-fill-color: #AAA;\n",
              "      --disabled-bg-color: #DDD;\n",
              "  }\n",
              "\n",
              "  [theme=dark] .colab-df-quickchart {\n",
              "      --bg-color: #3B4455;\n",
              "      --fill-color: #D2E3FC;\n",
              "      --hover-bg-color: #434B5C;\n",
              "      --hover-fill-color: #FFFFFF;\n",
              "      --disabled-bg-color: #3B4455;\n",
              "      --disabled-fill-color: #666;\n",
              "  }\n",
              "\n",
              "  .colab-df-quickchart {\n",
              "    background-color: var(--bg-color);\n",
              "    border: none;\n",
              "    border-radius: 50%;\n",
              "    cursor: pointer;\n",
              "    display: none;\n",
              "    fill: var(--fill-color);\n",
              "    height: 32px;\n",
              "    padding: 0;\n",
              "    width: 32px;\n",
              "  }\n",
              "\n",
              "  .colab-df-quickchart:hover {\n",
              "    background-color: var(--hover-bg-color);\n",
              "    box-shadow: 0 1px 2px rgba(60, 64, 67, 0.3), 0 1px 3px 1px rgba(60, 64, 67, 0.15);\n",
              "    fill: var(--button-hover-fill-color);\n",
              "  }\n",
              "\n",
              "  .colab-df-quickchart-complete:disabled,\n",
              "  .colab-df-quickchart-complete:disabled:hover {\n",
              "    background-color: var(--disabled-bg-color);\n",
              "    fill: var(--disabled-fill-color);\n",
              "    box-shadow: none;\n",
              "  }\n",
              "\n",
              "  .colab-df-spinner {\n",
              "    border: 2px solid var(--fill-color);\n",
              "    border-color: transparent;\n",
              "    border-bottom-color: var(--fill-color);\n",
              "    animation:\n",
              "      spin 1s steps(1) infinite;\n",
              "  }\n",
              "\n",
              "  @keyframes spin {\n",
              "    0% {\n",
              "      border-color: transparent;\n",
              "      border-bottom-color: var(--fill-color);\n",
              "      border-left-color: var(--fill-color);\n",
              "    }\n",
              "    20% {\n",
              "      border-color: transparent;\n",
              "      border-left-color: var(--fill-color);\n",
              "      border-top-color: var(--fill-color);\n",
              "    }\n",
              "    30% {\n",
              "      border-color: transparent;\n",
              "      border-left-color: var(--fill-color);\n",
              "      border-top-color: var(--fill-color);\n",
              "      border-right-color: var(--fill-color);\n",
              "    }\n",
              "    40% {\n",
              "      border-color: transparent;\n",
              "      border-right-color: var(--fill-color);\n",
              "      border-top-color: var(--fill-color);\n",
              "    }\n",
              "    60% {\n",
              "      border-color: transparent;\n",
              "      border-right-color: var(--fill-color);\n",
              "    }\n",
              "    80% {\n",
              "      border-color: transparent;\n",
              "      border-right-color: var(--fill-color);\n",
              "      border-bottom-color: var(--fill-color);\n",
              "    }\n",
              "    90% {\n",
              "      border-color: transparent;\n",
              "      border-bottom-color: var(--fill-color);\n",
              "    }\n",
              "  }\n",
              "</style>\n",
              "\n",
              "  <script>\n",
              "    async function quickchart(key) {\n",
              "      const quickchartButtonEl =\n",
              "        document.querySelector('#' + key + ' button');\n",
              "      quickchartButtonEl.disabled = true;  // To prevent multiple clicks.\n",
              "      quickchartButtonEl.classList.add('colab-df-spinner');\n",
              "      try {\n",
              "        const charts = await google.colab.kernel.invokeFunction(\n",
              "            'suggestCharts', [key], {});\n",
              "      } catch (error) {\n",
              "        console.error('Error during call to suggestCharts:', error);\n",
              "      }\n",
              "      quickchartButtonEl.classList.remove('colab-df-spinner');\n",
              "      quickchartButtonEl.classList.add('colab-df-quickchart-complete');\n",
              "    }\n",
              "    (() => {\n",
              "      let quickchartButtonEl =\n",
              "        document.querySelector('#df-0170b2df-5154-4c8f-ba2a-4d4d448f91bd button');\n",
              "      quickchartButtonEl.style.display =\n",
              "        google.colab.kernel.accessAllowed ? 'block' : 'none';\n",
              "    })();\n",
              "  </script>\n",
              "</div>\n",
              "    </div>\n",
              "  </div>\n"
            ]
          },
          "metadata": {},
          "execution_count": 163
        }
      ],
      "source": [
        "hypothesis['RICE'] = hypothesis['Reach'] * hypothesis['Impact'] * hypothesis['Confidence'] / hypothesis['Efforts']\n",
        "hypothesis.sort_values(by='RICE', ascending=False)"
      ]
    },
    {
      "cell_type": "markdown",
      "metadata": {
        "id": "a1DGSE-czLAS"
      },
      "source": [
        "### Задание 1.3. Укажите, как изменилась приоритизация гипотез при применении RICE вместо ICE. Объясните, почему так произошло."
      ]
    },
    {
      "cell_type": "markdown",
      "metadata": {
        "id": "pwGgWC7zzLAT"
      },
      "source": [
        "В датафрейме hypothesis отображены 9 гипотез по увеличению выручки интернет-магазина. При использовании фреймворка ICE самыми приоритетными гипотезами стали гипотезы под номером 8,0,7. При использовании фреймворка RICE самыми приоритетными гипотезами стали гипотезы под номером 7, 2, 0 и 6.   \n",
        "Данные различия в двух видах приоритизации гипотез объясняются тем,что в методе RICE в отличие от ICE помимо таких компонентов, как Impact (влияние), Confidence (уверенность) и Efforts (усилия), применяется компонент Reach (охват). Параметр Reach (охват) показывает, скольких пользователей затронет изменение, которое хотим внести.\n",
        "Первой рекомендую тестировать гипотезу под номером 7, так как она на первом месте при применении метода приоритизации RICE. Рекомендую использовать метод RICE для приоритизации гипотез, так как этот метод учитывает дополнительно такой параметр, как Reach, в отличие от ICE, что даёт более полную картину при приоритизации гипотез."
      ]
    },
    {
      "cell_type": "markdown",
      "metadata": {
        "id": "zl7M-DfGzLAT"
      },
      "source": [
        "**Вывод к шагу 1**  \n",
        "При использовании фреймворка ICE самыми приоритетными гипотезами стали гипотезы под номером 8,0,7. При использовании фреймворка RICE самыми приоритетными гипотезами стали гипотезы под номером 7, 2, 0 и 6.  \n",
        "Данные различия в двух видах приоритизации гипотез объясняются тем,что в методе RICE в отличие от ICE помимо таких компонентов, как Impact (влияние), Confidence (уверенность) и Efforts (усилия), применяется компонент Reach (охват)."
      ]
    },
    {
      "cell_type": "markdown",
      "metadata": {
        "id": "GMRZLx5SzLAT"
      },
      "source": [
        "## Шаг 2. Анализ A/B-теста"
      ]
    },
    {
      "cell_type": "markdown",
      "source": [
        "### Загрузка датафреймов orders и visitors и предобработка данных"
      ],
      "metadata": {
        "id": "WZ1_jo2XNjZx"
      }
    },
    {
      "cell_type": "markdown",
      "source": [
        "**Загрузим датафрейм orders**"
      ],
      "metadata": {
        "id": "AWMPV5XGPzyN"
      }
    },
    {
      "cell_type": "code",
      "execution_count": 164,
      "metadata": {
        "id": "HcTcegE2zLAU"
      },
      "outputs": [],
      "source": [
        "try:\n",
        "  orders = pd.read_csv('/datasets/orders.csv')  # откроем файл '/datasets/orders.csv' и сохраним его в переменную orders\n",
        "except:\n",
        "  orders = pd.read_csv('https://code.s3.yandex.net/datasets/orders.csv')"
      ]
    },
    {
      "cell_type": "code",
      "execution_count": 165,
      "metadata": {
        "scrolled": false,
        "id": "BufKTRrAzLAU",
        "outputId": "2c177dda-b685-4831-ee62-ee1e21ad8f31",
        "colab": {
          "base_uri": "https://localhost:8080/",
          "height": 206
        }
      },
      "outputs": [
        {
          "output_type": "execute_result",
          "data": {
            "text/plain": [
              "   transactionId   visitorId        date  revenue group\n",
              "0     3667963787  3312258926  2019-08-15     1650     B\n",
              "1     2804400009  3642806036  2019-08-15      730     B\n",
              "2     2961555356  4069496402  2019-08-15      400     A\n",
              "3     3797467345  1196621759  2019-08-15     9759     B\n",
              "4     2282983706  2322279887  2019-08-15     2308     B"
            ],
            "text/html": [
              "\n",
              "  <div id=\"df-9a175fc9-e80b-45d5-b449-2083fc00dc4e\" class=\"colab-df-container\">\n",
              "    <div>\n",
              "<style scoped>\n",
              "    .dataframe tbody tr th:only-of-type {\n",
              "        vertical-align: middle;\n",
              "    }\n",
              "\n",
              "    .dataframe tbody tr th {\n",
              "        vertical-align: top;\n",
              "    }\n",
              "\n",
              "    .dataframe thead th {\n",
              "        text-align: right;\n",
              "    }\n",
              "</style>\n",
              "<table border=\"1\" class=\"dataframe\">\n",
              "  <thead>\n",
              "    <tr style=\"text-align: right;\">\n",
              "      <th></th>\n",
              "      <th>transactionId</th>\n",
              "      <th>visitorId</th>\n",
              "      <th>date</th>\n",
              "      <th>revenue</th>\n",
              "      <th>group</th>\n",
              "    </tr>\n",
              "  </thead>\n",
              "  <tbody>\n",
              "    <tr>\n",
              "      <th>0</th>\n",
              "      <td>3667963787</td>\n",
              "      <td>3312258926</td>\n",
              "      <td>2019-08-15</td>\n",
              "      <td>1650</td>\n",
              "      <td>B</td>\n",
              "    </tr>\n",
              "    <tr>\n",
              "      <th>1</th>\n",
              "      <td>2804400009</td>\n",
              "      <td>3642806036</td>\n",
              "      <td>2019-08-15</td>\n",
              "      <td>730</td>\n",
              "      <td>B</td>\n",
              "    </tr>\n",
              "    <tr>\n",
              "      <th>2</th>\n",
              "      <td>2961555356</td>\n",
              "      <td>4069496402</td>\n",
              "      <td>2019-08-15</td>\n",
              "      <td>400</td>\n",
              "      <td>A</td>\n",
              "    </tr>\n",
              "    <tr>\n",
              "      <th>3</th>\n",
              "      <td>3797467345</td>\n",
              "      <td>1196621759</td>\n",
              "      <td>2019-08-15</td>\n",
              "      <td>9759</td>\n",
              "      <td>B</td>\n",
              "    </tr>\n",
              "    <tr>\n",
              "      <th>4</th>\n",
              "      <td>2282983706</td>\n",
              "      <td>2322279887</td>\n",
              "      <td>2019-08-15</td>\n",
              "      <td>2308</td>\n",
              "      <td>B</td>\n",
              "    </tr>\n",
              "  </tbody>\n",
              "</table>\n",
              "</div>\n",
              "    <div class=\"colab-df-buttons\">\n",
              "\n",
              "  <div class=\"colab-df-container\">\n",
              "    <button class=\"colab-df-convert\" onclick=\"convertToInteractive('df-9a175fc9-e80b-45d5-b449-2083fc00dc4e')\"\n",
              "            title=\"Convert this dataframe to an interactive table.\"\n",
              "            style=\"display:none;\">\n",
              "\n",
              "  <svg xmlns=\"http://www.w3.org/2000/svg\" height=\"24px\" viewBox=\"0 -960 960 960\">\n",
              "    <path d=\"M120-120v-720h720v720H120Zm60-500h600v-160H180v160Zm220 220h160v-160H400v160Zm0 220h160v-160H400v160ZM180-400h160v-160H180v160Zm440 0h160v-160H620v160ZM180-180h160v-160H180v160Zm440 0h160v-160H620v160Z\"/>\n",
              "  </svg>\n",
              "    </button>\n",
              "\n",
              "  <style>\n",
              "    .colab-df-container {\n",
              "      display:flex;\n",
              "      gap: 12px;\n",
              "    }\n",
              "\n",
              "    .colab-df-convert {\n",
              "      background-color: #E8F0FE;\n",
              "      border: none;\n",
              "      border-radius: 50%;\n",
              "      cursor: pointer;\n",
              "      display: none;\n",
              "      fill: #1967D2;\n",
              "      height: 32px;\n",
              "      padding: 0 0 0 0;\n",
              "      width: 32px;\n",
              "    }\n",
              "\n",
              "    .colab-df-convert:hover {\n",
              "      background-color: #E2EBFA;\n",
              "      box-shadow: 0px 1px 2px rgba(60, 64, 67, 0.3), 0px 1px 3px 1px rgba(60, 64, 67, 0.15);\n",
              "      fill: #174EA6;\n",
              "    }\n",
              "\n",
              "    .colab-df-buttons div {\n",
              "      margin-bottom: 4px;\n",
              "    }\n",
              "\n",
              "    [theme=dark] .colab-df-convert {\n",
              "      background-color: #3B4455;\n",
              "      fill: #D2E3FC;\n",
              "    }\n",
              "\n",
              "    [theme=dark] .colab-df-convert:hover {\n",
              "      background-color: #434B5C;\n",
              "      box-shadow: 0px 1px 3px 1px rgba(0, 0, 0, 0.15);\n",
              "      filter: drop-shadow(0px 1px 2px rgba(0, 0, 0, 0.3));\n",
              "      fill: #FFFFFF;\n",
              "    }\n",
              "  </style>\n",
              "\n",
              "    <script>\n",
              "      const buttonEl =\n",
              "        document.querySelector('#df-9a175fc9-e80b-45d5-b449-2083fc00dc4e button.colab-df-convert');\n",
              "      buttonEl.style.display =\n",
              "        google.colab.kernel.accessAllowed ? 'block' : 'none';\n",
              "\n",
              "      async function convertToInteractive(key) {\n",
              "        const element = document.querySelector('#df-9a175fc9-e80b-45d5-b449-2083fc00dc4e');\n",
              "        const dataTable =\n",
              "          await google.colab.kernel.invokeFunction('convertToInteractive',\n",
              "                                                    [key], {});\n",
              "        if (!dataTable) return;\n",
              "\n",
              "        const docLinkHtml = 'Like what you see? Visit the ' +\n",
              "          '<a target=\"_blank\" href=https://colab.research.google.com/notebooks/data_table.ipynb>data table notebook</a>'\n",
              "          + ' to learn more about interactive tables.';\n",
              "        element.innerHTML = '';\n",
              "        dataTable['output_type'] = 'display_data';\n",
              "        await google.colab.output.renderOutput(dataTable, element);\n",
              "        const docLink = document.createElement('div');\n",
              "        docLink.innerHTML = docLinkHtml;\n",
              "        element.appendChild(docLink);\n",
              "      }\n",
              "    </script>\n",
              "  </div>\n",
              "\n",
              "\n",
              "<div id=\"df-d94a51f3-fc58-415f-8784-3b8489f8dfcd\">\n",
              "  <button class=\"colab-df-quickchart\" onclick=\"quickchart('df-d94a51f3-fc58-415f-8784-3b8489f8dfcd')\"\n",
              "            title=\"Suggest charts.\"\n",
              "            style=\"display:none;\">\n",
              "\n",
              "<svg xmlns=\"http://www.w3.org/2000/svg\" height=\"24px\"viewBox=\"0 0 24 24\"\n",
              "     width=\"24px\">\n",
              "    <g>\n",
              "        <path d=\"M19 3H5c-1.1 0-2 .9-2 2v14c0 1.1.9 2 2 2h14c1.1 0 2-.9 2-2V5c0-1.1-.9-2-2-2zM9 17H7v-7h2v7zm4 0h-2V7h2v10zm4 0h-2v-4h2v4z\"/>\n",
              "    </g>\n",
              "</svg>\n",
              "  </button>\n",
              "\n",
              "<style>\n",
              "  .colab-df-quickchart {\n",
              "      --bg-color: #E8F0FE;\n",
              "      --fill-color: #1967D2;\n",
              "      --hover-bg-color: #E2EBFA;\n",
              "      --hover-fill-color: #174EA6;\n",
              "      --disabled-fill-color: #AAA;\n",
              "      --disabled-bg-color: #DDD;\n",
              "  }\n",
              "\n",
              "  [theme=dark] .colab-df-quickchart {\n",
              "      --bg-color: #3B4455;\n",
              "      --fill-color: #D2E3FC;\n",
              "      --hover-bg-color: #434B5C;\n",
              "      --hover-fill-color: #FFFFFF;\n",
              "      --disabled-bg-color: #3B4455;\n",
              "      --disabled-fill-color: #666;\n",
              "  }\n",
              "\n",
              "  .colab-df-quickchart {\n",
              "    background-color: var(--bg-color);\n",
              "    border: none;\n",
              "    border-radius: 50%;\n",
              "    cursor: pointer;\n",
              "    display: none;\n",
              "    fill: var(--fill-color);\n",
              "    height: 32px;\n",
              "    padding: 0;\n",
              "    width: 32px;\n",
              "  }\n",
              "\n",
              "  .colab-df-quickchart:hover {\n",
              "    background-color: var(--hover-bg-color);\n",
              "    box-shadow: 0 1px 2px rgba(60, 64, 67, 0.3), 0 1px 3px 1px rgba(60, 64, 67, 0.15);\n",
              "    fill: var(--button-hover-fill-color);\n",
              "  }\n",
              "\n",
              "  .colab-df-quickchart-complete:disabled,\n",
              "  .colab-df-quickchart-complete:disabled:hover {\n",
              "    background-color: var(--disabled-bg-color);\n",
              "    fill: var(--disabled-fill-color);\n",
              "    box-shadow: none;\n",
              "  }\n",
              "\n",
              "  .colab-df-spinner {\n",
              "    border: 2px solid var(--fill-color);\n",
              "    border-color: transparent;\n",
              "    border-bottom-color: var(--fill-color);\n",
              "    animation:\n",
              "      spin 1s steps(1) infinite;\n",
              "  }\n",
              "\n",
              "  @keyframes spin {\n",
              "    0% {\n",
              "      border-color: transparent;\n",
              "      border-bottom-color: var(--fill-color);\n",
              "      border-left-color: var(--fill-color);\n",
              "    }\n",
              "    20% {\n",
              "      border-color: transparent;\n",
              "      border-left-color: var(--fill-color);\n",
              "      border-top-color: var(--fill-color);\n",
              "    }\n",
              "    30% {\n",
              "      border-color: transparent;\n",
              "      border-left-color: var(--fill-color);\n",
              "      border-top-color: var(--fill-color);\n",
              "      border-right-color: var(--fill-color);\n",
              "    }\n",
              "    40% {\n",
              "      border-color: transparent;\n",
              "      border-right-color: var(--fill-color);\n",
              "      border-top-color: var(--fill-color);\n",
              "    }\n",
              "    60% {\n",
              "      border-color: transparent;\n",
              "      border-right-color: var(--fill-color);\n",
              "    }\n",
              "    80% {\n",
              "      border-color: transparent;\n",
              "      border-right-color: var(--fill-color);\n",
              "      border-bottom-color: var(--fill-color);\n",
              "    }\n",
              "    90% {\n",
              "      border-color: transparent;\n",
              "      border-bottom-color: var(--fill-color);\n",
              "    }\n",
              "  }\n",
              "</style>\n",
              "\n",
              "  <script>\n",
              "    async function quickchart(key) {\n",
              "      const quickchartButtonEl =\n",
              "        document.querySelector('#' + key + ' button');\n",
              "      quickchartButtonEl.disabled = true;  // To prevent multiple clicks.\n",
              "      quickchartButtonEl.classList.add('colab-df-spinner');\n",
              "      try {\n",
              "        const charts = await google.colab.kernel.invokeFunction(\n",
              "            'suggestCharts', [key], {});\n",
              "      } catch (error) {\n",
              "        console.error('Error during call to suggestCharts:', error);\n",
              "      }\n",
              "      quickchartButtonEl.classList.remove('colab-df-spinner');\n",
              "      quickchartButtonEl.classList.add('colab-df-quickchart-complete');\n",
              "    }\n",
              "    (() => {\n",
              "      let quickchartButtonEl =\n",
              "        document.querySelector('#df-d94a51f3-fc58-415f-8784-3b8489f8dfcd button');\n",
              "      quickchartButtonEl.style.display =\n",
              "        google.colab.kernel.accessAllowed ? 'block' : 'none';\n",
              "    })();\n",
              "  </script>\n",
              "</div>\n",
              "    </div>\n",
              "  </div>\n"
            ]
          },
          "metadata": {},
          "execution_count": 165
        }
      ],
      "source": [
        "orders.head()  # отобразим первые 5 строк датафрейма orders"
      ]
    },
    {
      "cell_type": "code",
      "source": [
        "orders.info() # отобразим информацию о датафрейме orders"
      ],
      "metadata": {
        "colab": {
          "base_uri": "https://localhost:8080/"
        },
        "id": "8uP2F8kUNLbz",
        "outputId": "d449be68-fd61-421a-97f3-1f3df5af4392"
      },
      "execution_count": 166,
      "outputs": [
        {
          "output_type": "stream",
          "name": "stdout",
          "text": [
            "<class 'pandas.core.frame.DataFrame'>\n",
            "RangeIndex: 1197 entries, 0 to 1196\n",
            "Data columns (total 5 columns):\n",
            " #   Column         Non-Null Count  Dtype \n",
            "---  ------         --------------  ----- \n",
            " 0   transactionId  1197 non-null   int64 \n",
            " 1   visitorId      1197 non-null   int64 \n",
            " 2   date           1197 non-null   object\n",
            " 3   revenue        1197 non-null   int64 \n",
            " 4   group          1197 non-null   object\n",
            "dtypes: int64(3), object(2)\n",
            "memory usage: 46.9+ KB\n"
          ]
        }
      ]
    },
    {
      "cell_type": "markdown",
      "source": [
        "Изменим тип данных для столбца `date` в датафрейме orders."
      ],
      "metadata": {
        "id": "ZGGrRKzPNVop"
      }
    },
    {
      "cell_type": "code",
      "execution_count": 167,
      "metadata": {
        "id": "BQgK-7-vzLAU"
      },
      "outputs": [],
      "source": [
        "orders['date'] = orders['date'].map(\n",
        "    lambda x: dt.datetime.strptime(x, '%Y-%m-%d')\n",
        ")"
      ]
    },
    {
      "cell_type": "code",
      "execution_count": 168,
      "metadata": {
        "scrolled": false,
        "id": "cI-T2LblzLAV",
        "outputId": "264e4496-40b8-4e30-c022-09109a2e6a68",
        "colab": {
          "base_uri": "https://localhost:8080/"
        }
      },
      "outputs": [
        {
          "output_type": "stream",
          "name": "stdout",
          "text": [
            "<class 'pandas.core.frame.DataFrame'>\n",
            "RangeIndex: 1197 entries, 0 to 1196\n",
            "Data columns (total 5 columns):\n",
            " #   Column         Non-Null Count  Dtype         \n",
            "---  ------         --------------  -----         \n",
            " 0   transactionId  1197 non-null   int64         \n",
            " 1   visitorId      1197 non-null   int64         \n",
            " 2   date           1197 non-null   datetime64[ns]\n",
            " 3   revenue        1197 non-null   int64         \n",
            " 4   group          1197 non-null   object        \n",
            "dtypes: datetime64[ns](1), int64(3), object(1)\n",
            "memory usage: 46.9+ KB\n"
          ]
        }
      ],
      "source": [
        "orders.info() # убедимся, что в датафрейме orders нет пропусков"
      ]
    },
    {
      "cell_type": "markdown",
      "source": [
        "Выполним проверку данных на наличие явных дубликатов"
      ],
      "metadata": {
        "id": "dQS2iiC6J_gZ"
      }
    },
    {
      "cell_type": "code",
      "execution_count": 169,
      "metadata": {
        "id": "DQYasQY6zLAW",
        "outputId": "9bf5408b-4be0-47d2-ee43-60e15c5c19a0",
        "colab": {
          "base_uri": "https://localhost:8080/"
        }
      },
      "outputs": [
        {
          "output_type": "execute_result",
          "data": {
            "text/plain": [
              "0"
            ]
          },
          "metadata": {},
          "execution_count": 169
        }
      ],
      "source": [
        "orders.duplicated().sum()"
      ]
    },
    {
      "cell_type": "markdown",
      "metadata": {
        "id": "RNMscIL0zLAW"
      },
      "source": [
        "Явных дубликатов в датафрейме orders не обнаружено."
      ]
    },
    {
      "cell_type": "markdown",
      "source": [
        "**Загрузим датафрейм visitors**"
      ],
      "metadata": {
        "id": "sXSmQ4IvPo6F"
      }
    },
    {
      "cell_type": "code",
      "execution_count": 170,
      "metadata": {
        "id": "FbxW-887zLAW"
      },
      "outputs": [],
      "source": [
        "try:\n",
        "  visitors = pd.read_csv('/datasets/visitors.csv')  # откроем файл '/datasets/visitors.csv' и сохраним его в переменную visitors\n",
        "except:\n",
        "  visitors = pd.read_csv('https://code.s3.yandex.net//datasets/visitors.csv')"
      ]
    },
    {
      "cell_type": "code",
      "execution_count": 171,
      "metadata": {
        "id": "UpJ3lLRSzLAX",
        "outputId": "43812918-7c7f-4ec0-de9d-198aa4a17799",
        "colab": {
          "base_uri": "https://localhost:8080/",
          "height": 206
        }
      },
      "outputs": [
        {
          "output_type": "execute_result",
          "data": {
            "text/plain": [
              "         date group  visitors\n",
              "0  2019-08-01     A       719\n",
              "1  2019-08-02     A       619\n",
              "2  2019-08-03     A       507\n",
              "3  2019-08-04     A       717\n",
              "4  2019-08-05     A       756"
            ],
            "text/html": [
              "\n",
              "  <div id=\"df-89afdd25-426a-470d-8e7b-e66120d39195\" class=\"colab-df-container\">\n",
              "    <div>\n",
              "<style scoped>\n",
              "    .dataframe tbody tr th:only-of-type {\n",
              "        vertical-align: middle;\n",
              "    }\n",
              "\n",
              "    .dataframe tbody tr th {\n",
              "        vertical-align: top;\n",
              "    }\n",
              "\n",
              "    .dataframe thead th {\n",
              "        text-align: right;\n",
              "    }\n",
              "</style>\n",
              "<table border=\"1\" class=\"dataframe\">\n",
              "  <thead>\n",
              "    <tr style=\"text-align: right;\">\n",
              "      <th></th>\n",
              "      <th>date</th>\n",
              "      <th>group</th>\n",
              "      <th>visitors</th>\n",
              "    </tr>\n",
              "  </thead>\n",
              "  <tbody>\n",
              "    <tr>\n",
              "      <th>0</th>\n",
              "      <td>2019-08-01</td>\n",
              "      <td>A</td>\n",
              "      <td>719</td>\n",
              "    </tr>\n",
              "    <tr>\n",
              "      <th>1</th>\n",
              "      <td>2019-08-02</td>\n",
              "      <td>A</td>\n",
              "      <td>619</td>\n",
              "    </tr>\n",
              "    <tr>\n",
              "      <th>2</th>\n",
              "      <td>2019-08-03</td>\n",
              "      <td>A</td>\n",
              "      <td>507</td>\n",
              "    </tr>\n",
              "    <tr>\n",
              "      <th>3</th>\n",
              "      <td>2019-08-04</td>\n",
              "      <td>A</td>\n",
              "      <td>717</td>\n",
              "    </tr>\n",
              "    <tr>\n",
              "      <th>4</th>\n",
              "      <td>2019-08-05</td>\n",
              "      <td>A</td>\n",
              "      <td>756</td>\n",
              "    </tr>\n",
              "  </tbody>\n",
              "</table>\n",
              "</div>\n",
              "    <div class=\"colab-df-buttons\">\n",
              "\n",
              "  <div class=\"colab-df-container\">\n",
              "    <button class=\"colab-df-convert\" onclick=\"convertToInteractive('df-89afdd25-426a-470d-8e7b-e66120d39195')\"\n",
              "            title=\"Convert this dataframe to an interactive table.\"\n",
              "            style=\"display:none;\">\n",
              "\n",
              "  <svg xmlns=\"http://www.w3.org/2000/svg\" height=\"24px\" viewBox=\"0 -960 960 960\">\n",
              "    <path d=\"M120-120v-720h720v720H120Zm60-500h600v-160H180v160Zm220 220h160v-160H400v160Zm0 220h160v-160H400v160ZM180-400h160v-160H180v160Zm440 0h160v-160H620v160ZM180-180h160v-160H180v160Zm440 0h160v-160H620v160Z\"/>\n",
              "  </svg>\n",
              "    </button>\n",
              "\n",
              "  <style>\n",
              "    .colab-df-container {\n",
              "      display:flex;\n",
              "      gap: 12px;\n",
              "    }\n",
              "\n",
              "    .colab-df-convert {\n",
              "      background-color: #E8F0FE;\n",
              "      border: none;\n",
              "      border-radius: 50%;\n",
              "      cursor: pointer;\n",
              "      display: none;\n",
              "      fill: #1967D2;\n",
              "      height: 32px;\n",
              "      padding: 0 0 0 0;\n",
              "      width: 32px;\n",
              "    }\n",
              "\n",
              "    .colab-df-convert:hover {\n",
              "      background-color: #E2EBFA;\n",
              "      box-shadow: 0px 1px 2px rgba(60, 64, 67, 0.3), 0px 1px 3px 1px rgba(60, 64, 67, 0.15);\n",
              "      fill: #174EA6;\n",
              "    }\n",
              "\n",
              "    .colab-df-buttons div {\n",
              "      margin-bottom: 4px;\n",
              "    }\n",
              "\n",
              "    [theme=dark] .colab-df-convert {\n",
              "      background-color: #3B4455;\n",
              "      fill: #D2E3FC;\n",
              "    }\n",
              "\n",
              "    [theme=dark] .colab-df-convert:hover {\n",
              "      background-color: #434B5C;\n",
              "      box-shadow: 0px 1px 3px 1px rgba(0, 0, 0, 0.15);\n",
              "      filter: drop-shadow(0px 1px 2px rgba(0, 0, 0, 0.3));\n",
              "      fill: #FFFFFF;\n",
              "    }\n",
              "  </style>\n",
              "\n",
              "    <script>\n",
              "      const buttonEl =\n",
              "        document.querySelector('#df-89afdd25-426a-470d-8e7b-e66120d39195 button.colab-df-convert');\n",
              "      buttonEl.style.display =\n",
              "        google.colab.kernel.accessAllowed ? 'block' : 'none';\n",
              "\n",
              "      async function convertToInteractive(key) {\n",
              "        const element = document.querySelector('#df-89afdd25-426a-470d-8e7b-e66120d39195');\n",
              "        const dataTable =\n",
              "          await google.colab.kernel.invokeFunction('convertToInteractive',\n",
              "                                                    [key], {});\n",
              "        if (!dataTable) return;\n",
              "\n",
              "        const docLinkHtml = 'Like what you see? Visit the ' +\n",
              "          '<a target=\"_blank\" href=https://colab.research.google.com/notebooks/data_table.ipynb>data table notebook</a>'\n",
              "          + ' to learn more about interactive tables.';\n",
              "        element.innerHTML = '';\n",
              "        dataTable['output_type'] = 'display_data';\n",
              "        await google.colab.output.renderOutput(dataTable, element);\n",
              "        const docLink = document.createElement('div');\n",
              "        docLink.innerHTML = docLinkHtml;\n",
              "        element.appendChild(docLink);\n",
              "      }\n",
              "    </script>\n",
              "  </div>\n",
              "\n",
              "\n",
              "<div id=\"df-65388e43-555d-4d23-aa6b-9ac6bb47f48d\">\n",
              "  <button class=\"colab-df-quickchart\" onclick=\"quickchart('df-65388e43-555d-4d23-aa6b-9ac6bb47f48d')\"\n",
              "            title=\"Suggest charts.\"\n",
              "            style=\"display:none;\">\n",
              "\n",
              "<svg xmlns=\"http://www.w3.org/2000/svg\" height=\"24px\"viewBox=\"0 0 24 24\"\n",
              "     width=\"24px\">\n",
              "    <g>\n",
              "        <path d=\"M19 3H5c-1.1 0-2 .9-2 2v14c0 1.1.9 2 2 2h14c1.1 0 2-.9 2-2V5c0-1.1-.9-2-2-2zM9 17H7v-7h2v7zm4 0h-2V7h2v10zm4 0h-2v-4h2v4z\"/>\n",
              "    </g>\n",
              "</svg>\n",
              "  </button>\n",
              "\n",
              "<style>\n",
              "  .colab-df-quickchart {\n",
              "      --bg-color: #E8F0FE;\n",
              "      --fill-color: #1967D2;\n",
              "      --hover-bg-color: #E2EBFA;\n",
              "      --hover-fill-color: #174EA6;\n",
              "      --disabled-fill-color: #AAA;\n",
              "      --disabled-bg-color: #DDD;\n",
              "  }\n",
              "\n",
              "  [theme=dark] .colab-df-quickchart {\n",
              "      --bg-color: #3B4455;\n",
              "      --fill-color: #D2E3FC;\n",
              "      --hover-bg-color: #434B5C;\n",
              "      --hover-fill-color: #FFFFFF;\n",
              "      --disabled-bg-color: #3B4455;\n",
              "      --disabled-fill-color: #666;\n",
              "  }\n",
              "\n",
              "  .colab-df-quickchart {\n",
              "    background-color: var(--bg-color);\n",
              "    border: none;\n",
              "    border-radius: 50%;\n",
              "    cursor: pointer;\n",
              "    display: none;\n",
              "    fill: var(--fill-color);\n",
              "    height: 32px;\n",
              "    padding: 0;\n",
              "    width: 32px;\n",
              "  }\n",
              "\n",
              "  .colab-df-quickchart:hover {\n",
              "    background-color: var(--hover-bg-color);\n",
              "    box-shadow: 0 1px 2px rgba(60, 64, 67, 0.3), 0 1px 3px 1px rgba(60, 64, 67, 0.15);\n",
              "    fill: var(--button-hover-fill-color);\n",
              "  }\n",
              "\n",
              "  .colab-df-quickchart-complete:disabled,\n",
              "  .colab-df-quickchart-complete:disabled:hover {\n",
              "    background-color: var(--disabled-bg-color);\n",
              "    fill: var(--disabled-fill-color);\n",
              "    box-shadow: none;\n",
              "  }\n",
              "\n",
              "  .colab-df-spinner {\n",
              "    border: 2px solid var(--fill-color);\n",
              "    border-color: transparent;\n",
              "    border-bottom-color: var(--fill-color);\n",
              "    animation:\n",
              "      spin 1s steps(1) infinite;\n",
              "  }\n",
              "\n",
              "  @keyframes spin {\n",
              "    0% {\n",
              "      border-color: transparent;\n",
              "      border-bottom-color: var(--fill-color);\n",
              "      border-left-color: var(--fill-color);\n",
              "    }\n",
              "    20% {\n",
              "      border-color: transparent;\n",
              "      border-left-color: var(--fill-color);\n",
              "      border-top-color: var(--fill-color);\n",
              "    }\n",
              "    30% {\n",
              "      border-color: transparent;\n",
              "      border-left-color: var(--fill-color);\n",
              "      border-top-color: var(--fill-color);\n",
              "      border-right-color: var(--fill-color);\n",
              "    }\n",
              "    40% {\n",
              "      border-color: transparent;\n",
              "      border-right-color: var(--fill-color);\n",
              "      border-top-color: var(--fill-color);\n",
              "    }\n",
              "    60% {\n",
              "      border-color: transparent;\n",
              "      border-right-color: var(--fill-color);\n",
              "    }\n",
              "    80% {\n",
              "      border-color: transparent;\n",
              "      border-right-color: var(--fill-color);\n",
              "      border-bottom-color: var(--fill-color);\n",
              "    }\n",
              "    90% {\n",
              "      border-color: transparent;\n",
              "      border-bottom-color: var(--fill-color);\n",
              "    }\n",
              "  }\n",
              "</style>\n",
              "\n",
              "  <script>\n",
              "    async function quickchart(key) {\n",
              "      const quickchartButtonEl =\n",
              "        document.querySelector('#' + key + ' button');\n",
              "      quickchartButtonEl.disabled = true;  // To prevent multiple clicks.\n",
              "      quickchartButtonEl.classList.add('colab-df-spinner');\n",
              "      try {\n",
              "        const charts = await google.colab.kernel.invokeFunction(\n",
              "            'suggestCharts', [key], {});\n",
              "      } catch (error) {\n",
              "        console.error('Error during call to suggestCharts:', error);\n",
              "      }\n",
              "      quickchartButtonEl.classList.remove('colab-df-spinner');\n",
              "      quickchartButtonEl.classList.add('colab-df-quickchart-complete');\n",
              "    }\n",
              "    (() => {\n",
              "      let quickchartButtonEl =\n",
              "        document.querySelector('#df-65388e43-555d-4d23-aa6b-9ac6bb47f48d button');\n",
              "      quickchartButtonEl.style.display =\n",
              "        google.colab.kernel.accessAllowed ? 'block' : 'none';\n",
              "    })();\n",
              "  </script>\n",
              "</div>\n",
              "    </div>\n",
              "  </div>\n"
            ]
          },
          "metadata": {},
          "execution_count": 171
        }
      ],
      "source": [
        "visitors.head() # отобразим первые 5 строк датафрейма visitors"
      ]
    },
    {
      "cell_type": "code",
      "execution_count": 172,
      "metadata": {
        "scrolled": true,
        "id": "pkK90x0rzLAX",
        "outputId": "d96bdd79-f76f-4b1c-dc9e-02621597df82",
        "colab": {
          "base_uri": "https://localhost:8080/"
        }
      },
      "outputs": [
        {
          "output_type": "stream",
          "name": "stdout",
          "text": [
            "<class 'pandas.core.frame.DataFrame'>\n",
            "RangeIndex: 62 entries, 0 to 61\n",
            "Data columns (total 3 columns):\n",
            " #   Column    Non-Null Count  Dtype \n",
            "---  ------    --------------  ----- \n",
            " 0   date      62 non-null     object\n",
            " 1   group     62 non-null     object\n",
            " 2   visitors  62 non-null     int64 \n",
            "dtypes: int64(1), object(2)\n",
            "memory usage: 1.6+ KB\n"
          ]
        }
      ],
      "source": [
        "visitors.info() # отобразим основную информацию о датафрейме visitors и убедимся, что в нём отсутствуют пропуски"
      ]
    },
    {
      "cell_type": "markdown",
      "source": [
        "Изменим тип данных столбца `date` датафрейма visitors."
      ],
      "metadata": {
        "id": "dL25PqcWQahr"
      }
    },
    {
      "cell_type": "code",
      "execution_count": 173,
      "metadata": {
        "id": "UHafWoHTzLAX"
      },
      "outputs": [],
      "source": [
        "visitors['date'] = visitors['date'].map(\n",
        "    lambda x: dt.datetime.strptime(x, '%Y-%m-%d')\n",
        ")"
      ]
    },
    {
      "cell_type": "markdown",
      "source": [
        "Выполним проверку данных на наличие явных дубликатов"
      ],
      "metadata": {
        "id": "o2IIUbEOQnm7"
      }
    },
    {
      "cell_type": "code",
      "execution_count": 174,
      "metadata": {
        "id": "GcyWFja1zLAX",
        "outputId": "c0234d0b-3691-4210-c309-75f7bdf2deba",
        "colab": {
          "base_uri": "https://localhost:8080/"
        }
      },
      "outputs": [
        {
          "output_type": "execute_result",
          "data": {
            "text/plain": [
              "0"
            ]
          },
          "metadata": {},
          "execution_count": 174
        }
      ],
      "source": [
        "visitors.duplicated().sum()"
      ]
    },
    {
      "cell_type": "markdown",
      "metadata": {
        "id": "7TZVesRvzLAY"
      },
      "source": [
        "В датафрейме visitors явных дубликатов не обнаружено"
      ]
    },
    {
      "cell_type": "markdown",
      "source": [
        "**Посмотрим, есть ли повторяющиеся пользователи, которые относятся и к группе A, и к группе B**"
      ],
      "metadata": {
        "id": "mG-adNsyT7Pd"
      }
    },
    {
      "cell_type": "code",
      "execution_count": 175,
      "metadata": {
        "scrolled": true,
        "id": "9ZWIg_p7zLAY",
        "outputId": "b08d8cbe-5908-4de6-fb0a-6a19be57ec22",
        "colab": {
          "base_uri": "https://localhost:8080/"
        }
      },
      "outputs": [
        {
          "output_type": "stream",
          "name": "stdout",
          "text": [
            "Количество покупателей, которые участвовали и в группе A, и в группе B, составляет: 58 человек\n"
          ]
        }
      ],
      "source": [
        "mergedVisitors = orders[orders['group']=='A'].merge(orders[orders['group']=='B'], on='visitorId',suffixes=('A','B'))\n",
        "\n",
        "print(f\"Количество покупателей, которые участвовали и в группе A, и в группе B, составляет: \\\n",
        "{len(mergedVisitors['visitorId'].unique())} человек\")"
      ]
    },
    {
      "cell_type": "code",
      "execution_count": 176,
      "metadata": {
        "id": "rTX6sDFuzLAY",
        "outputId": "4f939f01-e1c3-4b07-cc4d-f5228f7a3e2c",
        "colab": {
          "base_uri": "https://localhost:8080/"
        }
      },
      "outputs": [
        {
          "output_type": "stream",
          "name": "stdout",
          "text": [
            "Процент покупателей, относящихся и к группе A, и к группе B к общему числу уникальных покупателей из группы A, составляет: 11.53%\n"
          ]
        }
      ],
      "source": [
        "print(f\"Процент покупателей, относящихся и к группе A, и к группе B к общему числу уникальных покупателей из группы A, \\\n",
        "составляет: {len(mergedVisitors['visitorId'].unique()) / len(orders[orders['group']=='A']['visitorId'].unique()):.2%}\")"
      ]
    },
    {
      "cell_type": "code",
      "execution_count": 177,
      "metadata": {
        "id": "6WO4KFBXzLAZ",
        "outputId": "4ccb23bb-6a6a-470d-86ba-a592acaf3c3a",
        "colab": {
          "base_uri": "https://localhost:8080/"
        }
      },
      "outputs": [
        {
          "output_type": "stream",
          "name": "stdout",
          "text": [
            "Процент покупателей, относящихся и к группе A, и к группе B к общему числу уникальных покупателей из группы B, составляет: 9.90%\n"
          ]
        }
      ],
      "source": [
        "print(f\"Процент покупателей, относящихся и к группе A, и к группе B к общему числу уникальных покупателей из группы B, \\\n",
        "составляет: {len(mergedVisitors['visitorId'].unique()) / len(orders[orders['group']=='B']['visitorId'].unique()):.2%}\")"
      ]
    },
    {
      "cell_type": "markdown",
      "metadata": {
        "id": "JN6cwlw4zLAZ"
      },
      "source": [
        "Поскольку таблица с визитами у нас содержит уже агрегированные данные, можно оставить таких пользователей в тесте."
      ]
    },
    {
      "cell_type": "markdown",
      "metadata": {
        "id": "mWB6R0r0zLAU"
      },
      "source": [
        "### Задание 2.1. Постройте график кумулятивной выручки по группам. Сделайте выводы и предположения."
      ]
    },
    {
      "cell_type": "code",
      "execution_count": 178,
      "metadata": {
        "id": "0WS1YxmRzLAZ"
      },
      "outputs": [],
      "source": [
        "# создаем массив уникальных пар значений дат и групп теста\n",
        "datesGroups = orders[['date','group']].drop_duplicates()"
      ]
    },
    {
      "cell_type": "code",
      "execution_count": 179,
      "metadata": {
        "id": "a1tvV0oxzLAa"
      },
      "outputs": [],
      "source": [
        "# соберём агрегированные кумулятивные по дням данные о заказах\n",
        "ordersAggregated = datesGroups.apply(lambda x: orders[np.logical_and(orders['date'] <= x['date'],\n",
        "                                                                     orders['group'] == x['group'])]\n",
        ".agg({'date' : 'max', 'group' : 'max', 'transactionId' : 'nunique', 'visitorId' : 'nunique', 'revenue' : 'sum'}), axis=1)\\\n",
        ".sort_values(by=['date','group'])"
      ]
    },
    {
      "cell_type": "code",
      "execution_count": 180,
      "metadata": {
        "id": "a-FBPBPszLAa",
        "outputId": "11b7c9d3-4471-483d-ad25-c530ed974244",
        "colab": {
          "base_uri": "https://localhost:8080/",
          "height": 206
        }
      },
      "outputs": [
        {
          "output_type": "execute_result",
          "data": {
            "text/plain": [
              "          date group  transactionId  visitorId  revenue\n",
              "55  2019-08-01     A             24         20   148579\n",
              "66  2019-08-01     B             21         20   101217\n",
              "175 2019-08-02     A             44         38   242401\n",
              "173 2019-08-02     B             45         43   266748\n",
              "291 2019-08-03     A             68         62   354874"
            ],
            "text/html": [
              "\n",
              "  <div id=\"df-92a21e1c-63e5-48b0-b372-4d6066ecf359\" class=\"colab-df-container\">\n",
              "    <div>\n",
              "<style scoped>\n",
              "    .dataframe tbody tr th:only-of-type {\n",
              "        vertical-align: middle;\n",
              "    }\n",
              "\n",
              "    .dataframe tbody tr th {\n",
              "        vertical-align: top;\n",
              "    }\n",
              "\n",
              "    .dataframe thead th {\n",
              "        text-align: right;\n",
              "    }\n",
              "</style>\n",
              "<table border=\"1\" class=\"dataframe\">\n",
              "  <thead>\n",
              "    <tr style=\"text-align: right;\">\n",
              "      <th></th>\n",
              "      <th>date</th>\n",
              "      <th>group</th>\n",
              "      <th>transactionId</th>\n",
              "      <th>visitorId</th>\n",
              "      <th>revenue</th>\n",
              "    </tr>\n",
              "  </thead>\n",
              "  <tbody>\n",
              "    <tr>\n",
              "      <th>55</th>\n",
              "      <td>2019-08-01</td>\n",
              "      <td>A</td>\n",
              "      <td>24</td>\n",
              "      <td>20</td>\n",
              "      <td>148579</td>\n",
              "    </tr>\n",
              "    <tr>\n",
              "      <th>66</th>\n",
              "      <td>2019-08-01</td>\n",
              "      <td>B</td>\n",
              "      <td>21</td>\n",
              "      <td>20</td>\n",
              "      <td>101217</td>\n",
              "    </tr>\n",
              "    <tr>\n",
              "      <th>175</th>\n",
              "      <td>2019-08-02</td>\n",
              "      <td>A</td>\n",
              "      <td>44</td>\n",
              "      <td>38</td>\n",
              "      <td>242401</td>\n",
              "    </tr>\n",
              "    <tr>\n",
              "      <th>173</th>\n",
              "      <td>2019-08-02</td>\n",
              "      <td>B</td>\n",
              "      <td>45</td>\n",
              "      <td>43</td>\n",
              "      <td>266748</td>\n",
              "    </tr>\n",
              "    <tr>\n",
              "      <th>291</th>\n",
              "      <td>2019-08-03</td>\n",
              "      <td>A</td>\n",
              "      <td>68</td>\n",
              "      <td>62</td>\n",
              "      <td>354874</td>\n",
              "    </tr>\n",
              "  </tbody>\n",
              "</table>\n",
              "</div>\n",
              "    <div class=\"colab-df-buttons\">\n",
              "\n",
              "  <div class=\"colab-df-container\">\n",
              "    <button class=\"colab-df-convert\" onclick=\"convertToInteractive('df-92a21e1c-63e5-48b0-b372-4d6066ecf359')\"\n",
              "            title=\"Convert this dataframe to an interactive table.\"\n",
              "            style=\"display:none;\">\n",
              "\n",
              "  <svg xmlns=\"http://www.w3.org/2000/svg\" height=\"24px\" viewBox=\"0 -960 960 960\">\n",
              "    <path d=\"M120-120v-720h720v720H120Zm60-500h600v-160H180v160Zm220 220h160v-160H400v160Zm0 220h160v-160H400v160ZM180-400h160v-160H180v160Zm440 0h160v-160H620v160ZM180-180h160v-160H180v160Zm440 0h160v-160H620v160Z\"/>\n",
              "  </svg>\n",
              "    </button>\n",
              "\n",
              "  <style>\n",
              "    .colab-df-container {\n",
              "      display:flex;\n",
              "      gap: 12px;\n",
              "    }\n",
              "\n",
              "    .colab-df-convert {\n",
              "      background-color: #E8F0FE;\n",
              "      border: none;\n",
              "      border-radius: 50%;\n",
              "      cursor: pointer;\n",
              "      display: none;\n",
              "      fill: #1967D2;\n",
              "      height: 32px;\n",
              "      padding: 0 0 0 0;\n",
              "      width: 32px;\n",
              "    }\n",
              "\n",
              "    .colab-df-convert:hover {\n",
              "      background-color: #E2EBFA;\n",
              "      box-shadow: 0px 1px 2px rgba(60, 64, 67, 0.3), 0px 1px 3px 1px rgba(60, 64, 67, 0.15);\n",
              "      fill: #174EA6;\n",
              "    }\n",
              "\n",
              "    .colab-df-buttons div {\n",
              "      margin-bottom: 4px;\n",
              "    }\n",
              "\n",
              "    [theme=dark] .colab-df-convert {\n",
              "      background-color: #3B4455;\n",
              "      fill: #D2E3FC;\n",
              "    }\n",
              "\n",
              "    [theme=dark] .colab-df-convert:hover {\n",
              "      background-color: #434B5C;\n",
              "      box-shadow: 0px 1px 3px 1px rgba(0, 0, 0, 0.15);\n",
              "      filter: drop-shadow(0px 1px 2px rgba(0, 0, 0, 0.3));\n",
              "      fill: #FFFFFF;\n",
              "    }\n",
              "  </style>\n",
              "\n",
              "    <script>\n",
              "      const buttonEl =\n",
              "        document.querySelector('#df-92a21e1c-63e5-48b0-b372-4d6066ecf359 button.colab-df-convert');\n",
              "      buttonEl.style.display =\n",
              "        google.colab.kernel.accessAllowed ? 'block' : 'none';\n",
              "\n",
              "      async function convertToInteractive(key) {\n",
              "        const element = document.querySelector('#df-92a21e1c-63e5-48b0-b372-4d6066ecf359');\n",
              "        const dataTable =\n",
              "          await google.colab.kernel.invokeFunction('convertToInteractive',\n",
              "                                                    [key], {});\n",
              "        if (!dataTable) return;\n",
              "\n",
              "        const docLinkHtml = 'Like what you see? Visit the ' +\n",
              "          '<a target=\"_blank\" href=https://colab.research.google.com/notebooks/data_table.ipynb>data table notebook</a>'\n",
              "          + ' to learn more about interactive tables.';\n",
              "        element.innerHTML = '';\n",
              "        dataTable['output_type'] = 'display_data';\n",
              "        await google.colab.output.renderOutput(dataTable, element);\n",
              "        const docLink = document.createElement('div');\n",
              "        docLink.innerHTML = docLinkHtml;\n",
              "        element.appendChild(docLink);\n",
              "      }\n",
              "    </script>\n",
              "  </div>\n",
              "\n",
              "\n",
              "<div id=\"df-32fa75fc-420c-47a2-88fc-aea8281e0e63\">\n",
              "  <button class=\"colab-df-quickchart\" onclick=\"quickchart('df-32fa75fc-420c-47a2-88fc-aea8281e0e63')\"\n",
              "            title=\"Suggest charts.\"\n",
              "            style=\"display:none;\">\n",
              "\n",
              "<svg xmlns=\"http://www.w3.org/2000/svg\" height=\"24px\"viewBox=\"0 0 24 24\"\n",
              "     width=\"24px\">\n",
              "    <g>\n",
              "        <path d=\"M19 3H5c-1.1 0-2 .9-2 2v14c0 1.1.9 2 2 2h14c1.1 0 2-.9 2-2V5c0-1.1-.9-2-2-2zM9 17H7v-7h2v7zm4 0h-2V7h2v10zm4 0h-2v-4h2v4z\"/>\n",
              "    </g>\n",
              "</svg>\n",
              "  </button>\n",
              "\n",
              "<style>\n",
              "  .colab-df-quickchart {\n",
              "      --bg-color: #E8F0FE;\n",
              "      --fill-color: #1967D2;\n",
              "      --hover-bg-color: #E2EBFA;\n",
              "      --hover-fill-color: #174EA6;\n",
              "      --disabled-fill-color: #AAA;\n",
              "      --disabled-bg-color: #DDD;\n",
              "  }\n",
              "\n",
              "  [theme=dark] .colab-df-quickchart {\n",
              "      --bg-color: #3B4455;\n",
              "      --fill-color: #D2E3FC;\n",
              "      --hover-bg-color: #434B5C;\n",
              "      --hover-fill-color: #FFFFFF;\n",
              "      --disabled-bg-color: #3B4455;\n",
              "      --disabled-fill-color: #666;\n",
              "  }\n",
              "\n",
              "  .colab-df-quickchart {\n",
              "    background-color: var(--bg-color);\n",
              "    border: none;\n",
              "    border-radius: 50%;\n",
              "    cursor: pointer;\n",
              "    display: none;\n",
              "    fill: var(--fill-color);\n",
              "    height: 32px;\n",
              "    padding: 0;\n",
              "    width: 32px;\n",
              "  }\n",
              "\n",
              "  .colab-df-quickchart:hover {\n",
              "    background-color: var(--hover-bg-color);\n",
              "    box-shadow: 0 1px 2px rgba(60, 64, 67, 0.3), 0 1px 3px 1px rgba(60, 64, 67, 0.15);\n",
              "    fill: var(--button-hover-fill-color);\n",
              "  }\n",
              "\n",
              "  .colab-df-quickchart-complete:disabled,\n",
              "  .colab-df-quickchart-complete:disabled:hover {\n",
              "    background-color: var(--disabled-bg-color);\n",
              "    fill: var(--disabled-fill-color);\n",
              "    box-shadow: none;\n",
              "  }\n",
              "\n",
              "  .colab-df-spinner {\n",
              "    border: 2px solid var(--fill-color);\n",
              "    border-color: transparent;\n",
              "    border-bottom-color: var(--fill-color);\n",
              "    animation:\n",
              "      spin 1s steps(1) infinite;\n",
              "  }\n",
              "\n",
              "  @keyframes spin {\n",
              "    0% {\n",
              "      border-color: transparent;\n",
              "      border-bottom-color: var(--fill-color);\n",
              "      border-left-color: var(--fill-color);\n",
              "    }\n",
              "    20% {\n",
              "      border-color: transparent;\n",
              "      border-left-color: var(--fill-color);\n",
              "      border-top-color: var(--fill-color);\n",
              "    }\n",
              "    30% {\n",
              "      border-color: transparent;\n",
              "      border-left-color: var(--fill-color);\n",
              "      border-top-color: var(--fill-color);\n",
              "      border-right-color: var(--fill-color);\n",
              "    }\n",
              "    40% {\n",
              "      border-color: transparent;\n",
              "      border-right-color: var(--fill-color);\n",
              "      border-top-color: var(--fill-color);\n",
              "    }\n",
              "    60% {\n",
              "      border-color: transparent;\n",
              "      border-right-color: var(--fill-color);\n",
              "    }\n",
              "    80% {\n",
              "      border-color: transparent;\n",
              "      border-right-color: var(--fill-color);\n",
              "      border-bottom-color: var(--fill-color);\n",
              "    }\n",
              "    90% {\n",
              "      border-color: transparent;\n",
              "      border-bottom-color: var(--fill-color);\n",
              "    }\n",
              "  }\n",
              "</style>\n",
              "\n",
              "  <script>\n",
              "    async function quickchart(key) {\n",
              "      const quickchartButtonEl =\n",
              "        document.querySelector('#' + key + ' button');\n",
              "      quickchartButtonEl.disabled = true;  // To prevent multiple clicks.\n",
              "      quickchartButtonEl.classList.add('colab-df-spinner');\n",
              "      try {\n",
              "        const charts = await google.colab.kernel.invokeFunction(\n",
              "            'suggestCharts', [key], {});\n",
              "      } catch (error) {\n",
              "        console.error('Error during call to suggestCharts:', error);\n",
              "      }\n",
              "      quickchartButtonEl.classList.remove('colab-df-spinner');\n",
              "      quickchartButtonEl.classList.add('colab-df-quickchart-complete');\n",
              "    }\n",
              "    (() => {\n",
              "      let quickchartButtonEl =\n",
              "        document.querySelector('#df-32fa75fc-420c-47a2-88fc-aea8281e0e63 button');\n",
              "      quickchartButtonEl.style.display =\n",
              "        google.colab.kernel.accessAllowed ? 'block' : 'none';\n",
              "    })();\n",
              "  </script>\n",
              "</div>\n",
              "    </div>\n",
              "  </div>\n"
            ]
          },
          "metadata": {},
          "execution_count": 180
        }
      ],
      "source": [
        "ordersAggregated.head()"
      ]
    },
    {
      "cell_type": "code",
      "execution_count": 181,
      "metadata": {
        "id": "4mfOkwivzLAa"
      },
      "outputs": [],
      "source": [
        "# получаем агрегированные кумулятивные по дням данные о посетителях интернет-магазина\n",
        "visitorsAggregated = datesGroups.apply(lambda x: visitors[np.logical_and(visitors['date'] <= x['date'],\n",
        "                                                                         visitors['group'] == x['group'])]\n",
        "                                       .agg({'date' : 'max', 'group' : 'max', 'visitors' : 'sum'}), axis=1)\\\n",
        ".sort_values(by=['date','group'])"
      ]
    },
    {
      "cell_type": "code",
      "execution_count": 182,
      "metadata": {
        "id": "GQdj84C4zLAa",
        "outputId": "2a215632-55a6-4cc9-da04-42d49956c807",
        "colab": {
          "base_uri": "https://localhost:8080/",
          "height": 206
        }
      },
      "outputs": [
        {
          "output_type": "execute_result",
          "data": {
            "text/plain": [
              "          date group  visitors\n",
              "55  2019-08-01     A       719\n",
              "66  2019-08-01     B       713\n",
              "175 2019-08-02     A      1338\n",
              "173 2019-08-02     B      1294\n",
              "291 2019-08-03     A      1845"
            ],
            "text/html": [
              "\n",
              "  <div id=\"df-eb54fa4f-a0f5-4bf9-8858-63954aab391a\" class=\"colab-df-container\">\n",
              "    <div>\n",
              "<style scoped>\n",
              "    .dataframe tbody tr th:only-of-type {\n",
              "        vertical-align: middle;\n",
              "    }\n",
              "\n",
              "    .dataframe tbody tr th {\n",
              "        vertical-align: top;\n",
              "    }\n",
              "\n",
              "    .dataframe thead th {\n",
              "        text-align: right;\n",
              "    }\n",
              "</style>\n",
              "<table border=\"1\" class=\"dataframe\">\n",
              "  <thead>\n",
              "    <tr style=\"text-align: right;\">\n",
              "      <th></th>\n",
              "      <th>date</th>\n",
              "      <th>group</th>\n",
              "      <th>visitors</th>\n",
              "    </tr>\n",
              "  </thead>\n",
              "  <tbody>\n",
              "    <tr>\n",
              "      <th>55</th>\n",
              "      <td>2019-08-01</td>\n",
              "      <td>A</td>\n",
              "      <td>719</td>\n",
              "    </tr>\n",
              "    <tr>\n",
              "      <th>66</th>\n",
              "      <td>2019-08-01</td>\n",
              "      <td>B</td>\n",
              "      <td>713</td>\n",
              "    </tr>\n",
              "    <tr>\n",
              "      <th>175</th>\n",
              "      <td>2019-08-02</td>\n",
              "      <td>A</td>\n",
              "      <td>1338</td>\n",
              "    </tr>\n",
              "    <tr>\n",
              "      <th>173</th>\n",
              "      <td>2019-08-02</td>\n",
              "      <td>B</td>\n",
              "      <td>1294</td>\n",
              "    </tr>\n",
              "    <tr>\n",
              "      <th>291</th>\n",
              "      <td>2019-08-03</td>\n",
              "      <td>A</td>\n",
              "      <td>1845</td>\n",
              "    </tr>\n",
              "  </tbody>\n",
              "</table>\n",
              "</div>\n",
              "    <div class=\"colab-df-buttons\">\n",
              "\n",
              "  <div class=\"colab-df-container\">\n",
              "    <button class=\"colab-df-convert\" onclick=\"convertToInteractive('df-eb54fa4f-a0f5-4bf9-8858-63954aab391a')\"\n",
              "            title=\"Convert this dataframe to an interactive table.\"\n",
              "            style=\"display:none;\">\n",
              "\n",
              "  <svg xmlns=\"http://www.w3.org/2000/svg\" height=\"24px\" viewBox=\"0 -960 960 960\">\n",
              "    <path d=\"M120-120v-720h720v720H120Zm60-500h600v-160H180v160Zm220 220h160v-160H400v160Zm0 220h160v-160H400v160ZM180-400h160v-160H180v160Zm440 0h160v-160H620v160ZM180-180h160v-160H180v160Zm440 0h160v-160H620v160Z\"/>\n",
              "  </svg>\n",
              "    </button>\n",
              "\n",
              "  <style>\n",
              "    .colab-df-container {\n",
              "      display:flex;\n",
              "      gap: 12px;\n",
              "    }\n",
              "\n",
              "    .colab-df-convert {\n",
              "      background-color: #E8F0FE;\n",
              "      border: none;\n",
              "      border-radius: 50%;\n",
              "      cursor: pointer;\n",
              "      display: none;\n",
              "      fill: #1967D2;\n",
              "      height: 32px;\n",
              "      padding: 0 0 0 0;\n",
              "      width: 32px;\n",
              "    }\n",
              "\n",
              "    .colab-df-convert:hover {\n",
              "      background-color: #E2EBFA;\n",
              "      box-shadow: 0px 1px 2px rgba(60, 64, 67, 0.3), 0px 1px 3px 1px rgba(60, 64, 67, 0.15);\n",
              "      fill: #174EA6;\n",
              "    }\n",
              "\n",
              "    .colab-df-buttons div {\n",
              "      margin-bottom: 4px;\n",
              "    }\n",
              "\n",
              "    [theme=dark] .colab-df-convert {\n",
              "      background-color: #3B4455;\n",
              "      fill: #D2E3FC;\n",
              "    }\n",
              "\n",
              "    [theme=dark] .colab-df-convert:hover {\n",
              "      background-color: #434B5C;\n",
              "      box-shadow: 0px 1px 3px 1px rgba(0, 0, 0, 0.15);\n",
              "      filter: drop-shadow(0px 1px 2px rgba(0, 0, 0, 0.3));\n",
              "      fill: #FFFFFF;\n",
              "    }\n",
              "  </style>\n",
              "\n",
              "    <script>\n",
              "      const buttonEl =\n",
              "        document.querySelector('#df-eb54fa4f-a0f5-4bf9-8858-63954aab391a button.colab-df-convert');\n",
              "      buttonEl.style.display =\n",
              "        google.colab.kernel.accessAllowed ? 'block' : 'none';\n",
              "\n",
              "      async function convertToInteractive(key) {\n",
              "        const element = document.querySelector('#df-eb54fa4f-a0f5-4bf9-8858-63954aab391a');\n",
              "        const dataTable =\n",
              "          await google.colab.kernel.invokeFunction('convertToInteractive',\n",
              "                                                    [key], {});\n",
              "        if (!dataTable) return;\n",
              "\n",
              "        const docLinkHtml = 'Like what you see? Visit the ' +\n",
              "          '<a target=\"_blank\" href=https://colab.research.google.com/notebooks/data_table.ipynb>data table notebook</a>'\n",
              "          + ' to learn more about interactive tables.';\n",
              "        element.innerHTML = '';\n",
              "        dataTable['output_type'] = 'display_data';\n",
              "        await google.colab.output.renderOutput(dataTable, element);\n",
              "        const docLink = document.createElement('div');\n",
              "        docLink.innerHTML = docLinkHtml;\n",
              "        element.appendChild(docLink);\n",
              "      }\n",
              "    </script>\n",
              "  </div>\n",
              "\n",
              "\n",
              "<div id=\"df-4079218b-ff14-45c4-9798-02a2f6070777\">\n",
              "  <button class=\"colab-df-quickchart\" onclick=\"quickchart('df-4079218b-ff14-45c4-9798-02a2f6070777')\"\n",
              "            title=\"Suggest charts.\"\n",
              "            style=\"display:none;\">\n",
              "\n",
              "<svg xmlns=\"http://www.w3.org/2000/svg\" height=\"24px\"viewBox=\"0 0 24 24\"\n",
              "     width=\"24px\">\n",
              "    <g>\n",
              "        <path d=\"M19 3H5c-1.1 0-2 .9-2 2v14c0 1.1.9 2 2 2h14c1.1 0 2-.9 2-2V5c0-1.1-.9-2-2-2zM9 17H7v-7h2v7zm4 0h-2V7h2v10zm4 0h-2v-4h2v4z\"/>\n",
              "    </g>\n",
              "</svg>\n",
              "  </button>\n",
              "\n",
              "<style>\n",
              "  .colab-df-quickchart {\n",
              "      --bg-color: #E8F0FE;\n",
              "      --fill-color: #1967D2;\n",
              "      --hover-bg-color: #E2EBFA;\n",
              "      --hover-fill-color: #174EA6;\n",
              "      --disabled-fill-color: #AAA;\n",
              "      --disabled-bg-color: #DDD;\n",
              "  }\n",
              "\n",
              "  [theme=dark] .colab-df-quickchart {\n",
              "      --bg-color: #3B4455;\n",
              "      --fill-color: #D2E3FC;\n",
              "      --hover-bg-color: #434B5C;\n",
              "      --hover-fill-color: #FFFFFF;\n",
              "      --disabled-bg-color: #3B4455;\n",
              "      --disabled-fill-color: #666;\n",
              "  }\n",
              "\n",
              "  .colab-df-quickchart {\n",
              "    background-color: var(--bg-color);\n",
              "    border: none;\n",
              "    border-radius: 50%;\n",
              "    cursor: pointer;\n",
              "    display: none;\n",
              "    fill: var(--fill-color);\n",
              "    height: 32px;\n",
              "    padding: 0;\n",
              "    width: 32px;\n",
              "  }\n",
              "\n",
              "  .colab-df-quickchart:hover {\n",
              "    background-color: var(--hover-bg-color);\n",
              "    box-shadow: 0 1px 2px rgba(60, 64, 67, 0.3), 0 1px 3px 1px rgba(60, 64, 67, 0.15);\n",
              "    fill: var(--button-hover-fill-color);\n",
              "  }\n",
              "\n",
              "  .colab-df-quickchart-complete:disabled,\n",
              "  .colab-df-quickchart-complete:disabled:hover {\n",
              "    background-color: var(--disabled-bg-color);\n",
              "    fill: var(--disabled-fill-color);\n",
              "    box-shadow: none;\n",
              "  }\n",
              "\n",
              "  .colab-df-spinner {\n",
              "    border: 2px solid var(--fill-color);\n",
              "    border-color: transparent;\n",
              "    border-bottom-color: var(--fill-color);\n",
              "    animation:\n",
              "      spin 1s steps(1) infinite;\n",
              "  }\n",
              "\n",
              "  @keyframes spin {\n",
              "    0% {\n",
              "      border-color: transparent;\n",
              "      border-bottom-color: var(--fill-color);\n",
              "      border-left-color: var(--fill-color);\n",
              "    }\n",
              "    20% {\n",
              "      border-color: transparent;\n",
              "      border-left-color: var(--fill-color);\n",
              "      border-top-color: var(--fill-color);\n",
              "    }\n",
              "    30% {\n",
              "      border-color: transparent;\n",
              "      border-left-color: var(--fill-color);\n",
              "      border-top-color: var(--fill-color);\n",
              "      border-right-color: var(--fill-color);\n",
              "    }\n",
              "    40% {\n",
              "      border-color: transparent;\n",
              "      border-right-color: var(--fill-color);\n",
              "      border-top-color: var(--fill-color);\n",
              "    }\n",
              "    60% {\n",
              "      border-color: transparent;\n",
              "      border-right-color: var(--fill-color);\n",
              "    }\n",
              "    80% {\n",
              "      border-color: transparent;\n",
              "      border-right-color: var(--fill-color);\n",
              "      border-bottom-color: var(--fill-color);\n",
              "    }\n",
              "    90% {\n",
              "      border-color: transparent;\n",
              "      border-bottom-color: var(--fill-color);\n",
              "    }\n",
              "  }\n",
              "</style>\n",
              "\n",
              "  <script>\n",
              "    async function quickchart(key) {\n",
              "      const quickchartButtonEl =\n",
              "        document.querySelector('#' + key + ' button');\n",
              "      quickchartButtonEl.disabled = true;  // To prevent multiple clicks.\n",
              "      quickchartButtonEl.classList.add('colab-df-spinner');\n",
              "      try {\n",
              "        const charts = await google.colab.kernel.invokeFunction(\n",
              "            'suggestCharts', [key], {});\n",
              "      } catch (error) {\n",
              "        console.error('Error during call to suggestCharts:', error);\n",
              "      }\n",
              "      quickchartButtonEl.classList.remove('colab-df-spinner');\n",
              "      quickchartButtonEl.classList.add('colab-df-quickchart-complete');\n",
              "    }\n",
              "    (() => {\n",
              "      let quickchartButtonEl =\n",
              "        document.querySelector('#df-4079218b-ff14-45c4-9798-02a2f6070777 button');\n",
              "      quickchartButtonEl.style.display =\n",
              "        google.colab.kernel.accessAllowed ? 'block' : 'none';\n",
              "    })();\n",
              "  </script>\n",
              "</div>\n",
              "    </div>\n",
              "  </div>\n"
            ]
          },
          "metadata": {},
          "execution_count": 182
        }
      ],
      "source": [
        "visitorsAggregated.head()"
      ]
    },
    {
      "cell_type": "code",
      "execution_count": 183,
      "metadata": {
        "id": "x64I9FjzzLAb",
        "outputId": "33e3f638-f07f-4e57-e6de-63bde6369111",
        "colab": {
          "base_uri": "https://localhost:8080/",
          "height": 206
        }
      },
      "outputs": [
        {
          "output_type": "execute_result",
          "data": {
            "text/plain": [
              "        date group  orders  buyers  revenue  visitors\n",
              "0 2019-08-01     A      24      20   148579       719\n",
              "1 2019-08-01     B      21      20   101217       713\n",
              "2 2019-08-02     A      44      38   242401      1338\n",
              "3 2019-08-02     B      45      43   266748      1294\n",
              "4 2019-08-03     A      68      62   354874      1845"
            ],
            "text/html": [
              "\n",
              "  <div id=\"df-7185fc03-6c2c-481c-b9cf-1aec5201346a\" class=\"colab-df-container\">\n",
              "    <div>\n",
              "<style scoped>\n",
              "    .dataframe tbody tr th:only-of-type {\n",
              "        vertical-align: middle;\n",
              "    }\n",
              "\n",
              "    .dataframe tbody tr th {\n",
              "        vertical-align: top;\n",
              "    }\n",
              "\n",
              "    .dataframe thead th {\n",
              "        text-align: right;\n",
              "    }\n",
              "</style>\n",
              "<table border=\"1\" class=\"dataframe\">\n",
              "  <thead>\n",
              "    <tr style=\"text-align: right;\">\n",
              "      <th></th>\n",
              "      <th>date</th>\n",
              "      <th>group</th>\n",
              "      <th>orders</th>\n",
              "      <th>buyers</th>\n",
              "      <th>revenue</th>\n",
              "      <th>visitors</th>\n",
              "    </tr>\n",
              "  </thead>\n",
              "  <tbody>\n",
              "    <tr>\n",
              "      <th>0</th>\n",
              "      <td>2019-08-01</td>\n",
              "      <td>A</td>\n",
              "      <td>24</td>\n",
              "      <td>20</td>\n",
              "      <td>148579</td>\n",
              "      <td>719</td>\n",
              "    </tr>\n",
              "    <tr>\n",
              "      <th>1</th>\n",
              "      <td>2019-08-01</td>\n",
              "      <td>B</td>\n",
              "      <td>21</td>\n",
              "      <td>20</td>\n",
              "      <td>101217</td>\n",
              "      <td>713</td>\n",
              "    </tr>\n",
              "    <tr>\n",
              "      <th>2</th>\n",
              "      <td>2019-08-02</td>\n",
              "      <td>A</td>\n",
              "      <td>44</td>\n",
              "      <td>38</td>\n",
              "      <td>242401</td>\n",
              "      <td>1338</td>\n",
              "    </tr>\n",
              "    <tr>\n",
              "      <th>3</th>\n",
              "      <td>2019-08-02</td>\n",
              "      <td>B</td>\n",
              "      <td>45</td>\n",
              "      <td>43</td>\n",
              "      <td>266748</td>\n",
              "      <td>1294</td>\n",
              "    </tr>\n",
              "    <tr>\n",
              "      <th>4</th>\n",
              "      <td>2019-08-03</td>\n",
              "      <td>A</td>\n",
              "      <td>68</td>\n",
              "      <td>62</td>\n",
              "      <td>354874</td>\n",
              "      <td>1845</td>\n",
              "    </tr>\n",
              "  </tbody>\n",
              "</table>\n",
              "</div>\n",
              "    <div class=\"colab-df-buttons\">\n",
              "\n",
              "  <div class=\"colab-df-container\">\n",
              "    <button class=\"colab-df-convert\" onclick=\"convertToInteractive('df-7185fc03-6c2c-481c-b9cf-1aec5201346a')\"\n",
              "            title=\"Convert this dataframe to an interactive table.\"\n",
              "            style=\"display:none;\">\n",
              "\n",
              "  <svg xmlns=\"http://www.w3.org/2000/svg\" height=\"24px\" viewBox=\"0 -960 960 960\">\n",
              "    <path d=\"M120-120v-720h720v720H120Zm60-500h600v-160H180v160Zm220 220h160v-160H400v160Zm0 220h160v-160H400v160ZM180-400h160v-160H180v160Zm440 0h160v-160H620v160ZM180-180h160v-160H180v160Zm440 0h160v-160H620v160Z\"/>\n",
              "  </svg>\n",
              "    </button>\n",
              "\n",
              "  <style>\n",
              "    .colab-df-container {\n",
              "      display:flex;\n",
              "      gap: 12px;\n",
              "    }\n",
              "\n",
              "    .colab-df-convert {\n",
              "      background-color: #E8F0FE;\n",
              "      border: none;\n",
              "      border-radius: 50%;\n",
              "      cursor: pointer;\n",
              "      display: none;\n",
              "      fill: #1967D2;\n",
              "      height: 32px;\n",
              "      padding: 0 0 0 0;\n",
              "      width: 32px;\n",
              "    }\n",
              "\n",
              "    .colab-df-convert:hover {\n",
              "      background-color: #E2EBFA;\n",
              "      box-shadow: 0px 1px 2px rgba(60, 64, 67, 0.3), 0px 1px 3px 1px rgba(60, 64, 67, 0.15);\n",
              "      fill: #174EA6;\n",
              "    }\n",
              "\n",
              "    .colab-df-buttons div {\n",
              "      margin-bottom: 4px;\n",
              "    }\n",
              "\n",
              "    [theme=dark] .colab-df-convert {\n",
              "      background-color: #3B4455;\n",
              "      fill: #D2E3FC;\n",
              "    }\n",
              "\n",
              "    [theme=dark] .colab-df-convert:hover {\n",
              "      background-color: #434B5C;\n",
              "      box-shadow: 0px 1px 3px 1px rgba(0, 0, 0, 0.15);\n",
              "      filter: drop-shadow(0px 1px 2px rgba(0, 0, 0, 0.3));\n",
              "      fill: #FFFFFF;\n",
              "    }\n",
              "  </style>\n",
              "\n",
              "    <script>\n",
              "      const buttonEl =\n",
              "        document.querySelector('#df-7185fc03-6c2c-481c-b9cf-1aec5201346a button.colab-df-convert');\n",
              "      buttonEl.style.display =\n",
              "        google.colab.kernel.accessAllowed ? 'block' : 'none';\n",
              "\n",
              "      async function convertToInteractive(key) {\n",
              "        const element = document.querySelector('#df-7185fc03-6c2c-481c-b9cf-1aec5201346a');\n",
              "        const dataTable =\n",
              "          await google.colab.kernel.invokeFunction('convertToInteractive',\n",
              "                                                    [key], {});\n",
              "        if (!dataTable) return;\n",
              "\n",
              "        const docLinkHtml = 'Like what you see? Visit the ' +\n",
              "          '<a target=\"_blank\" href=https://colab.research.google.com/notebooks/data_table.ipynb>data table notebook</a>'\n",
              "          + ' to learn more about interactive tables.';\n",
              "        element.innerHTML = '';\n",
              "        dataTable['output_type'] = 'display_data';\n",
              "        await google.colab.output.renderOutput(dataTable, element);\n",
              "        const docLink = document.createElement('div');\n",
              "        docLink.innerHTML = docLinkHtml;\n",
              "        element.appendChild(docLink);\n",
              "      }\n",
              "    </script>\n",
              "  </div>\n",
              "\n",
              "\n",
              "<div id=\"df-5d3618f7-057f-42f4-b2df-c032a4cdbeef\">\n",
              "  <button class=\"colab-df-quickchart\" onclick=\"quickchart('df-5d3618f7-057f-42f4-b2df-c032a4cdbeef')\"\n",
              "            title=\"Suggest charts.\"\n",
              "            style=\"display:none;\">\n",
              "\n",
              "<svg xmlns=\"http://www.w3.org/2000/svg\" height=\"24px\"viewBox=\"0 0 24 24\"\n",
              "     width=\"24px\">\n",
              "    <g>\n",
              "        <path d=\"M19 3H5c-1.1 0-2 .9-2 2v14c0 1.1.9 2 2 2h14c1.1 0 2-.9 2-2V5c0-1.1-.9-2-2-2zM9 17H7v-7h2v7zm4 0h-2V7h2v10zm4 0h-2v-4h2v4z\"/>\n",
              "    </g>\n",
              "</svg>\n",
              "  </button>\n",
              "\n",
              "<style>\n",
              "  .colab-df-quickchart {\n",
              "      --bg-color: #E8F0FE;\n",
              "      --fill-color: #1967D2;\n",
              "      --hover-bg-color: #E2EBFA;\n",
              "      --hover-fill-color: #174EA6;\n",
              "      --disabled-fill-color: #AAA;\n",
              "      --disabled-bg-color: #DDD;\n",
              "  }\n",
              "\n",
              "  [theme=dark] .colab-df-quickchart {\n",
              "      --bg-color: #3B4455;\n",
              "      --fill-color: #D2E3FC;\n",
              "      --hover-bg-color: #434B5C;\n",
              "      --hover-fill-color: #FFFFFF;\n",
              "      --disabled-bg-color: #3B4455;\n",
              "      --disabled-fill-color: #666;\n",
              "  }\n",
              "\n",
              "  .colab-df-quickchart {\n",
              "    background-color: var(--bg-color);\n",
              "    border: none;\n",
              "    border-radius: 50%;\n",
              "    cursor: pointer;\n",
              "    display: none;\n",
              "    fill: var(--fill-color);\n",
              "    height: 32px;\n",
              "    padding: 0;\n",
              "    width: 32px;\n",
              "  }\n",
              "\n",
              "  .colab-df-quickchart:hover {\n",
              "    background-color: var(--hover-bg-color);\n",
              "    box-shadow: 0 1px 2px rgba(60, 64, 67, 0.3), 0 1px 3px 1px rgba(60, 64, 67, 0.15);\n",
              "    fill: var(--button-hover-fill-color);\n",
              "  }\n",
              "\n",
              "  .colab-df-quickchart-complete:disabled,\n",
              "  .colab-df-quickchart-complete:disabled:hover {\n",
              "    background-color: var(--disabled-bg-color);\n",
              "    fill: var(--disabled-fill-color);\n",
              "    box-shadow: none;\n",
              "  }\n",
              "\n",
              "  .colab-df-spinner {\n",
              "    border: 2px solid var(--fill-color);\n",
              "    border-color: transparent;\n",
              "    border-bottom-color: var(--fill-color);\n",
              "    animation:\n",
              "      spin 1s steps(1) infinite;\n",
              "  }\n",
              "\n",
              "  @keyframes spin {\n",
              "    0% {\n",
              "      border-color: transparent;\n",
              "      border-bottom-color: var(--fill-color);\n",
              "      border-left-color: var(--fill-color);\n",
              "    }\n",
              "    20% {\n",
              "      border-color: transparent;\n",
              "      border-left-color: var(--fill-color);\n",
              "      border-top-color: var(--fill-color);\n",
              "    }\n",
              "    30% {\n",
              "      border-color: transparent;\n",
              "      border-left-color: var(--fill-color);\n",
              "      border-top-color: var(--fill-color);\n",
              "      border-right-color: var(--fill-color);\n",
              "    }\n",
              "    40% {\n",
              "      border-color: transparent;\n",
              "      border-right-color: var(--fill-color);\n",
              "      border-top-color: var(--fill-color);\n",
              "    }\n",
              "    60% {\n",
              "      border-color: transparent;\n",
              "      border-right-color: var(--fill-color);\n",
              "    }\n",
              "    80% {\n",
              "      border-color: transparent;\n",
              "      border-right-color: var(--fill-color);\n",
              "      border-bottom-color: var(--fill-color);\n",
              "    }\n",
              "    90% {\n",
              "      border-color: transparent;\n",
              "      border-bottom-color: var(--fill-color);\n",
              "    }\n",
              "  }\n",
              "</style>\n",
              "\n",
              "  <script>\n",
              "    async function quickchart(key) {\n",
              "      const quickchartButtonEl =\n",
              "        document.querySelector('#' + key + ' button');\n",
              "      quickchartButtonEl.disabled = true;  // To prevent multiple clicks.\n",
              "      quickchartButtonEl.classList.add('colab-df-spinner');\n",
              "      try {\n",
              "        const charts = await google.colab.kernel.invokeFunction(\n",
              "            'suggestCharts', [key], {});\n",
              "      } catch (error) {\n",
              "        console.error('Error during call to suggestCharts:', error);\n",
              "      }\n",
              "      quickchartButtonEl.classList.remove('colab-df-spinner');\n",
              "      quickchartButtonEl.classList.add('colab-df-quickchart-complete');\n",
              "    }\n",
              "    (() => {\n",
              "      let quickchartButtonEl =\n",
              "        document.querySelector('#df-5d3618f7-057f-42f4-b2df-c032a4cdbeef button');\n",
              "      quickchartButtonEl.style.display =\n",
              "        google.colab.kernel.accessAllowed ? 'block' : 'none';\n",
              "    })();\n",
              "  </script>\n",
              "</div>\n",
              "    </div>\n",
              "  </div>\n"
            ]
          },
          "metadata": {},
          "execution_count": 183
        }
      ],
      "source": [
        "# объединяем кумулятивные данные в одной таблице и присваиваем ее столбцам понятные названия\n",
        "cumulativeData = ordersAggregated.merge(visitorsAggregated, left_on=['date', 'group'], right_on=['date', 'group'])\n",
        "cumulativeData.columns = ['date', 'group', 'orders', 'buyers', 'revenue', 'visitors']\n",
        "cumulativeData.head()"
      ]
    },
    {
      "cell_type": "markdown",
      "metadata": {
        "id": "HD4e01HrzLAb"
      },
      "source": [
        "Проверим, корректно ли был создан датафрейм cumulativeData. Например, совпадают ли минимальная и максимальная даты в этом датафрейме с минимальной и максимальной датой в исходных данных."
      ]
    },
    {
      "cell_type": "code",
      "execution_count": 184,
      "metadata": {
        "id": "MxqFx_BbzLAb",
        "outputId": "b11ee492-bb47-426b-9f82-9c036f44ddfe",
        "colab": {
          "base_uri": "https://localhost:8080/"
        }
      },
      "outputs": [
        {
          "output_type": "stream",
          "name": "stdout",
          "text": [
            "Минимильная и максимальная дата в датафрейме orders: 2019-08-01, 2019-08-31\n",
            "Минимильная и максимальная дата в датафрейме visitors: 2019-08-01, 2019-08-31\n",
            "Минимильная и максимальная дата в датафрейме cumulativeData: 2019-08-01, 2019-08-31\n",
            "Минимальные даты в датафрейме cumulativeData и в исходных датафреймах совпадают.\n",
            "Максимальные даты в датафрейме cumulativeData и в исходных датафреймах совпадают.\n"
          ]
        }
      ],
      "source": [
        "print(f\"Минимильная и максимальная дата в датафрейме orders: \\\n",
        "{orders['date'].min().date()}, {orders['date'].max().date()}\")\n",
        "\n",
        "print(f\"Минимильная и максимальная дата в датафрейме visitors: \\\n",
        "{visitors['date'].min().date()}, {visitors['date'].max().date()}\")\n",
        "\n",
        "print(f\"Минимильная и максимальная дата в датафрейме cumulativeData: \\\n",
        "{cumulativeData['date'].min().date()}, {cumulativeData['date'].max().date()}\")\n",
        "\n",
        "if orders['date'].min().date() == visitors['date'].min().date() == cumulativeData['date'].min().date():\n",
        "    print('Минимальные даты в датафрейме cumulativeData и в исходных датафреймах совпадают.')\n",
        "else:\n",
        "    print('Минимальные даты в датафрейме cumulativeData и в исходных датафреймах не совпадают.')\n",
        "\n",
        "if orders['date'].max().date() == visitors['date'].max().date() == cumulativeData['date'].max().date():\n",
        "    print('Максимальные даты в датафрейме cumulativeData и в исходных датафреймах совпадают.')\n",
        "else:\n",
        "    print('Максимальные даты в датафрейме cumulativeData и в исходных датафреймах не совпадают.')"
      ]
    },
    {
      "cell_type": "code",
      "execution_count": 185,
      "metadata": {
        "id": "Zs9KyqlMzLAc",
        "outputId": "eb39b3c1-1b98-4207-bb05-1204e90ca5f2",
        "colab": {
          "base_uri": "https://localhost:8080/",
          "height": 569
        }
      },
      "outputs": [
        {
          "output_type": "display_data",
          "data": {
            "text/plain": [
              "<Figure size 1400x600 with 1 Axes>"
            ],
            "image/png": "[encoded data removed]"
          },
          "metadata": {}
        }
      ],
      "source": [
        "# Построим графики кумулятивной выручки по дням и группам A/B-тестирования:\n",
        "\n",
        "plt.figure(figsize=(14, 6))\n",
        "\n",
        "# датафрейм с кумулятивным количеством заказов и кумулятивной выручкой по дням в группе А\n",
        "cumulativeRevenueA = cumulativeData[cumulativeData['group']=='A'][['date','revenue', 'orders']]\n",
        "\n",
        "# датафрейм с кумулятивным количеством заказов и кумулятивной выручкой по дням в группе B\n",
        "cumulativeRevenueB = cumulativeData[cumulativeData['group']=='B'][['date','revenue', 'orders']]\n",
        "\n",
        "# Строим график выручки группы А\n",
        "plt.plot(cumulativeRevenueA['date'], cumulativeRevenueA['revenue'], label='A')\n",
        "\n",
        "# Строим график выручки группы B\n",
        "plt.plot(cumulativeRevenueB['date'], cumulativeRevenueB['revenue'], label='B')\n",
        "\n",
        "plt.legend()\n",
        "plt.title('График кумулятивной выручки по группам', fontsize=14)\n",
        "plt.xlabel(\"Дата\", fontsize=12)\n",
        "plt.ylabel(\"Кумулятивная выручка, рубли\", fontsize=12);"
      ]
    },
    {
      "cell_type": "markdown",
      "metadata": {
        "id": "fjJj-XZ1zLAd"
      },
      "source": [
        "Видим, что на графике кумулятивной выручки группа B выглядит лучше, чем группа A. Но на графике кумулятивной выручки группы B есть резкое увеличение. Это может быть связано с аномальными значениями или с ошибками в данных."
      ]
    },
    {
      "cell_type": "markdown",
      "metadata": {
        "id": "qNX4FXR_zLAd"
      },
      "source": [
        "### Задание 2.2. Постройте график кумулятивного среднего чека по группам. Сделайте выводы и предположения."
      ]
    },
    {
      "cell_type": "code",
      "execution_count": 186,
      "metadata": {
        "id": "zlsHVmm4zLAe",
        "outputId": "5ba47416-9620-4231-e49b-ad20ace4e334",
        "colab": {
          "base_uri": "https://localhost:8080/",
          "height": 569
        }
      },
      "outputs": [
        {
          "output_type": "display_data",
          "data": {
            "text/plain": [
              "<Figure size 1400x600 with 1 Axes>"
            ],
            "image/png": "[encoded data removed]"
          },
          "metadata": {}
        }
      ],
      "source": [
        "plt.figure(figsize=(14, 6))\n",
        "\n",
        "plt.plot(cumulativeRevenueA['date'], cumulativeRevenueA['revenue']/cumulativeRevenueA['orders'], label='A')\n",
        "plt.plot(cumulativeRevenueB['date'], cumulativeRevenueB['revenue']/cumulativeRevenueB['orders'], label='B')\n",
        "plt.legend()\n",
        "plt.title('График кумулятивного среднего чека по группам', fontsize=14)\n",
        "plt.xlabel(\"Дата\", fontsize=12)\n",
        "plt.ylabel(\"Кумулятивный средний чек, рубли\", fontsize=12);"
      ]
    },
    {
      "cell_type": "markdown",
      "metadata": {
        "id": "uQK7DxjzzLAe"
      },
      "source": [
        "На графике кумулятиного среднего чека по группам видим, что кумулятивное значение среднего чека для группы B выше, чем для группы A. Заметно резкое увеличение среднего чека для группы B."
      ]
    },
    {
      "cell_type": "markdown",
      "metadata": {
        "id": "03_bbwVGzLAe"
      },
      "source": [
        "### Задание 2.3. Постройте график относительного изменения кумулятивного среднего чека группы B к группе A. Сделайте выводы и предположения."
      ]
    },
    {
      "cell_type": "code",
      "execution_count": 187,
      "metadata": {
        "id": "m2XUondtzLAe",
        "outputId": "15019680-e3b2-4251-d6f6-f9091b54fcd7",
        "colab": {
          "base_uri": "https://localhost:8080/",
          "height": 565
        }
      },
      "outputs": [
        {
          "output_type": "display_data",
          "data": {
            "text/plain": [
              "<Figure size 1400x600 with 1 Axes>"
            ],
            "image/png": "[encoded data removed]"
          },
          "metadata": {}
        }
      ],
      "source": [
        "plt.figure(figsize=(14, 6))\n",
        "\n",
        "# собираем данные в одном датафрейме\n",
        "mergedCumulativeRevenue = cumulativeRevenueA.merge(cumulativeRevenueB, left_on='date', right_on='date', how='left',\n",
        "                                                   suffixes=['A', 'B'])\n",
        "\n",
        "# cтроим отношение средних чеков\n",
        "plt.plot(mergedCumulativeRevenue['date'], (mergedCumulativeRevenue['revenueB']/mergedCumulativeRevenue['ordersB'])/\n",
        "         (mergedCumulativeRevenue['revenueA']/mergedCumulativeRevenue['ordersA'])-1)\n",
        "\n",
        "# добавляем ось X\n",
        "plt.axhline(y=0, color='black', linestyle='--')\n",
        "\n",
        "plt.axhline(y=0.25, color='grey', linestyle='--')\n",
        "plt.title('График относительного изменения кумулятивного среднего чека группы B к группе A', fontsize=14)\n",
        "plt.xlabel(\"Дата\", fontsize=10)\n",
        "plt.ylabel('''Относительное изменение кумулятивного среднего чека\n",
        "группы B к группе A''', fontsize=10);"
      ]
    },
    {
      "cell_type": "markdown",
      "metadata": {
        "id": "mWogNUMSzLAf"
      },
      "source": [
        "В нескольких точках график различия между сегментами резко «скачет». Значит есть крупные заказы и выбросы."
      ]
    },
    {
      "cell_type": "markdown",
      "metadata": {
        "id": "BFbY7wRTzLAf"
      },
      "source": [
        "### Задание 2.4. Постройте график кумулятивного среднего количества заказов на посетителя по группам. Сделайте выводы и предположения."
      ]
    },
    {
      "cell_type": "code",
      "execution_count": 188,
      "metadata": {
        "id": "BsmcAFZLzLAg",
        "outputId": "3dfbddad-b19e-4962-d323-b06115e34d0e",
        "colab": {
          "base_uri": "https://localhost:8080/",
          "height": 565
        }
      },
      "outputs": [
        {
          "output_type": "display_data",
          "data": {
            "text/plain": [
              "<Figure size 1400x600 with 1 Axes>"
            ],
            "image/png": "[encoded data removed]"
          },
          "metadata": {}
        }
      ],
      "source": [
        "plt.figure(figsize=(14, 6))\n",
        "\n",
        "# считаем кумулятивное среднее количество заказов на посетителя по группам\n",
        "cumulativeData['ordersPerVisitor'] = cumulativeData['orders']/cumulativeData['visitors']\n",
        "\n",
        "# отделяем данные по группе A\n",
        "cumulativeDataA = cumulativeData[cumulativeData['group']=='A']\n",
        "\n",
        "# отделяем данные по группе B\n",
        "cumulativeDataB = cumulativeData[cumulativeData['group']=='B']\n",
        "\n",
        "# строим графики\n",
        "plt.plot(cumulativeDataA['date'], cumulativeDataA['ordersPerVisitor'], label='A')\n",
        "plt.plot(cumulativeDataB['date'], cumulativeDataB['ordersPerVisitor'], label='B')\n",
        "plt.legend()\n",
        "\n",
        "# задаем масштаб осей\n",
        "plt.axis([pd.to_datetime('2019-08-01'), pd.to_datetime('2019-08-31'), 0.02, 0.05])\n",
        "plt.title('График кумулятивного среднего количества заказов на посетителя по группам', fontsize=14)\n",
        "plt.xlabel(\"Дата\", fontsize=10)\n",
        "plt.ylabel(\"Кумулятивное среднее количество заказов на посетителя\", fontsize=10);"
      ]
    },
    {
      "cell_type": "markdown",
      "metadata": {
        "id": "hDus0MJOzLAg"
      },
      "source": [
        "По сравнению с началом теста кумулятивное среднее количество заказов на посетителя для группы A к концу теста просело и зафиксировалось в районе 0.03. По сревнению с началом теста кумулятивное среднее количество заказов на посетителя для группы B к концу теста возрасло и зафиксировалось в районе 0.035."
      ]
    },
    {
      "cell_type": "markdown",
      "metadata": {
        "id": "NETx6EMvzLAg"
      },
      "source": [
        "### Задание 2.5. Постройте график относительного изменения кумулятивного среднего количества заказов на посетителя группы B к группе A. Сделайте выводы и предположения."
      ]
    },
    {
      "cell_type": "code",
      "execution_count": 189,
      "metadata": {
        "id": "g4wvQi0OzLAg",
        "outputId": "142352c5-33fd-4b25-de29-e89fcd48341d",
        "colab": {
          "base_uri": "https://localhost:8080/",
          "height": 565
        }
      },
      "outputs": [
        {
          "output_type": "display_data",
          "data": {
            "text/plain": [
              "<Figure size 1400x600 with 1 Axes>"
            ],
            "image/png": "[encoded data removed]"
          },
          "metadata": {}
        }
      ],
      "source": [
        "plt.figure(figsize=(14, 6))\n",
        "\n",
        "mergedCumulativeOrdersPerVisitor = cumulativeDataA[['date','ordersPerVisitor']].merge(\n",
        "    cumulativeDataB[['date','ordersPerVisitor']], left_on='date', right_on='date', how='left', suffixes=['A', 'B']\n",
        ")\n",
        "\n",
        "plt.plot(mergedCumulativeOrdersPerVisitor['date'], mergedCumulativeOrdersPerVisitor['ordersPerVisitorB']/\n",
        "         mergedCumulativeOrdersPerVisitor['ordersPerVisitorA']-1)\n",
        "\n",
        "plt.axhline(y=0, color='black', linestyle='--')\n",
        "plt.axhline(y=0.15, color='grey', linestyle='--')\n",
        "plt.axis([pd.to_datetime('2019-08-01'), pd.to_datetime('2019-08-31'), -0.25, 0.25])\n",
        "plt.title('График относительного различия кумулятивного среднего количества заказов посетителя группы B относительно \\\n",
        "группы A', fontsize=14)\n",
        "plt.xlabel(\"Дата\", fontsize=10)\n",
        "plt.ylabel('''Относительное различие кумулятивного среднего количества\n",
        "заказов на посетителя группы B относительно группы A''', fontsize=10);"
      ]
    },
    {
      "cell_type": "markdown",
      "metadata": {
        "id": "ZxWjQLbnzLAh"
      },
      "source": [
        "В начале теста группа B проигрывала группе A, затем  вырвалась вперёд. Значение относительного изменения кумулятивного среднего количества заказов на посетителя для группы B относительно группы A к концу теста стабилизировалось на отметке 0.15."
      ]
    },
    {
      "cell_type": "markdown",
      "metadata": {
        "id": "iRALetqAzLAh"
      },
      "source": [
        "### Задание 2.6. Постройте точечный график количества заказов по пользователям. Сделайте выводы и предположения."
      ]
    },
    {
      "cell_type": "code",
      "execution_count": 190,
      "metadata": {
        "id": "io3b3x_QzLAh",
        "outputId": "d3ba3945-60c6-405a-af48-ce6a5bd61e8e",
        "colab": {
          "base_uri": "https://localhost:8080/"
        }
      },
      "outputs": [
        {
          "output_type": "stream",
          "name": "stdout",
          "text": [
            "          userId  orders\n",
            "1023  4256040402      11\n",
            "591   2458001652      11\n",
            "569   2378935119       9\n",
            "487   2038680547       8\n",
            "44     199603092       5\n",
            "744   3062433592       5\n",
            "55     237748145       5\n",
            "917   3803269165       5\n",
            "299   1230306981       5\n",
            "897   3717692402       5\n"
          ]
        }
      ],
      "source": [
        "# подсчитаем количество заказов по пользователям и посмотрим на результат\n",
        "\n",
        "ordersByUsers = (orders.groupby('visitorId', as_index=False)\n",
        "    .agg({'transactionId': 'nunique'})\n",
        ")\n",
        "\n",
        "ordersByUsers.columns = ['userId', 'orders']\n",
        "\n",
        "print(ordersByUsers.sort_values(by='orders', ascending=False).head(10))"
      ]
    },
    {
      "cell_type": "code",
      "execution_count": 191,
      "metadata": {
        "id": "Z57xdrdJzLAi",
        "outputId": "0691ae2a-9989-4de2-ba8f-88b8f97bc6f7",
        "colab": {
          "base_uri": "https://localhost:8080/",
          "height": 569
        }
      },
      "outputs": [
        {
          "output_type": "display_data",
          "data": {
            "text/plain": [
              "<Figure size 1400x600 with 1 Axes>"
            ],
            "image/png": "[encoded data removed]"
          },
          "metadata": {}
        }
      ],
      "source": [
        "# Построим точечную диаграмму числа заказов на одного пользователя\n",
        "\n",
        "x_values = pd.Series(range(0,len(ordersByUsers)))\n",
        "plt.figure(figsize=(14, 6))\n",
        "plt.scatter(x_values, ordersByUsers['orders'])\n",
        "\n",
        "plt.title(\"Точечная диаграмма количества заказов на пользователя\", fontsize=14)\n",
        "plt.xlabel(\"Порядковый номер пользователя\", fontsize=12)\n",
        "plt.ylabel(\"Число заказов на пользователя\", fontsize=12);"
      ]
    },
    {
      "cell_type": "markdown",
      "metadata": {
        "id": "VQNuxbNBzLAi"
      },
      "source": [
        "Видим, что у большинства пользователей по одному заказу. Пользователи с количеством заказов до 5 встречаются чаще, чем пользователи, у которых большее число заказов. Максимальное число заказов, которое встречается у одного пользователя, равно 11. Пользователи, у которых заказов от 5 до 11, встречаются редко.  "
      ]
    },
    {
      "cell_type": "markdown",
      "metadata": {
        "id": "_5MGEVhMzLAi"
      },
      "source": [
        "### Задание 2.7. Посчитайте 95-й и 99-й перцентили количества заказов на пользователя. Выберите границу для определения аномальных пользователей."
      ]
    },
    {
      "cell_type": "code",
      "execution_count": 192,
      "metadata": {
        "id": "1Olm8xTwzLAj",
        "outputId": "d0dea7f7-4dab-4c1c-bc64-61e3274a2873",
        "colab": {
          "base_uri": "https://localhost:8080/"
        }
      },
      "outputs": [
        {
          "output_type": "execute_result",
          "data": {
            "text/plain": [
              "array([2., 4.])"
            ]
          },
          "metadata": {},
          "execution_count": 192
        }
      ],
      "source": [
        "np.percentile(ordersByUsers['orders'], [95, 99])"
      ]
    },
    {
      "cell_type": "markdown",
      "metadata": {
        "id": "gBBRDgn3zLAj"
      },
      "source": [
        "Не более 5% пользователей заказывали больше, чем 2 заказа. Не более 1% пользователей заказывали больше 4 заказов.\n",
        "Выберем 4 заказа на одного пользователя за верхнюю границу числа заказов и отсеим аномальных пользователей по ней."
      ]
    },
    {
      "cell_type": "markdown",
      "metadata": {
        "id": "GTF5E-wSzLAj"
      },
      "source": [
        "### Задание 2.8. Постройте точечный график стоимостей заказов. Сделайте выводы и предположения."
      ]
    },
    {
      "cell_type": "code",
      "execution_count": 193,
      "metadata": {
        "scrolled": false,
        "id": "cVUP9HFMzLAj",
        "outputId": "0bf734e3-653d-443c-8d3d-d167ff9fe32a",
        "colab": {
          "base_uri": "https://localhost:8080/",
          "height": 569
        }
      },
      "outputs": [
        {
          "output_type": "display_data",
          "data": {
            "text/plain": [
              "<Figure size 1400x600 with 1 Axes>"
            ],
            "image/png": "[encoded data removed]"
          },
          "metadata": {}
        }
      ],
      "source": [
        "x_values = pd.Series(range(0,len(orders['revenue'])))\n",
        "plt.figure(figsize=(14, 6))\n",
        "plt.scatter(x_values, orders['revenue'])\n",
        "\n",
        "plt.title(\"Точечная диаграмма стоимостей заказов\", fontsize=14)\n",
        "plt.xlabel(\"Порядковый номер заказа\", fontsize=12)\n",
        "plt.ylabel(\"Сумма заказа, рубли\", fontsize=12);"
      ]
    },
    {
      "cell_type": "markdown",
      "metadata": {
        "id": "dHZ0SJBlzLAk"
      },
      "source": [
        "Видим, что есть один аномальный заказ, который сильно отличается от всех остальных."
      ]
    },
    {
      "cell_type": "markdown",
      "metadata": {
        "id": "QaJ-I7IjzLAk"
      },
      "source": [
        "Добавим еще один график, ограничив значения по оси Y. Чтобы двух явных выбросов не было видно, а мы могли рассмотреть основную часть заказов.\n"
      ]
    },
    {
      "cell_type": "code",
      "execution_count": 194,
      "metadata": {
        "id": "WpCG5CArzLAk",
        "outputId": "59f5ed97-3f0b-4b6c-c327-3d6038a961eb",
        "colab": {
          "base_uri": "https://localhost:8080/",
          "height": 570
        }
      },
      "outputs": [
        {
          "output_type": "display_data",
          "data": {
            "text/plain": [
              "<Figure size 1400x600 with 1 Axes>"
            ],
            "image/png": "[encoded data removed]"
          },
          "metadata": {}
        }
      ],
      "source": [
        "# Ограничим точечную диаграмму по оси Y до 150 тыс. рублей, чтобы детальнее увидеть основную часть значений\n",
        "\n",
        "x_values = pd.Series(range(0,len(orders['revenue'])))\n",
        "plt.figure(figsize=(14, 6))\n",
        "plt.scatter(x_values, orders['revenue'])\n",
        "plt.ylim(0, 150000)\n",
        "\n",
        "plt.title(\"Точечная диаграмма стоимостей заказов, ограниченная по оси Y до 150 тыс. рублей\", fontsize=14)\n",
        "plt.xlabel(\"Порядковый номер заказа\", fontsize=12)\n",
        "plt.ylabel(\"Сумма заказа, рубли\", fontsize=12);"
      ]
    },
    {
      "cell_type": "markdown",
      "metadata": {
        "id": "czBY3D-GzLAl"
      },
      "source": [
        "### Задание 2.9. Посчитайте 95-й и 99-й перцентили стоимости заказов. Выберите границу для определения аномальных заказов."
      ]
    },
    {
      "cell_type": "code",
      "execution_count": 195,
      "metadata": {
        "id": "u0RC7mdrzLAl",
        "outputId": "1a618075-bd53-4ca2-a85d-23070e39e373",
        "colab": {
          "base_uri": "https://localhost:8080/"
        }
      },
      "outputs": [
        {
          "output_type": "execute_result",
          "data": {
            "text/plain": [
              "array([28000. , 58233.2])"
            ]
          },
          "metadata": {},
          "execution_count": 195
        }
      ],
      "source": [
        "np.percentile(orders['revenue'], [95, 99])"
      ]
    },
    {
      "cell_type": "markdown",
      "metadata": {
        "id": "JPCXQRGJzLAl"
      },
      "source": [
        "Не более 5% заказов дороже 28000 рублей. Не более 1% заказов дороже 58234 рублей. Если удалим заказы, сумма которых больше 95 или 99 перцентиля, удалится только один аномальный заказ.\n",
        "Выберем 58234 рублей за верхнюю границу суммы заказов и отсеим аномальные заказы по ней."
      ]
    },
    {
      "cell_type": "markdown",
      "metadata": {
        "id": "e8-ZflAkzLAm"
      },
      "source": [
        "### Задание 2.10. Посчитайте статистическую значимость различий в среднем количестве заказов на посетителя между группами по «сырым» данным. Сделайте выводы и предположения."
      ]
    },
    {
      "cell_type": "markdown",
      "metadata": {
        "id": "RkWCIvu1zLAm"
      },
      "source": [
        "Сформулируем гипотезы.\n",
        "\n",
        "**Нулевая гипотеза**: Статистически значимых различий в среднем количестве заказов на посетителя между группами по «сырым» данным нет.\n",
        "\n",
        "**Альтернативная гипотеза**: Статистически значимые различия в среднем количестве заказов на посетителя между группами по «сырым» данным есть.  \n",
        "\n",
        "Примем уровень статистической значимости, равный 5%.\n",
        "\n",
        "Применим статистический критерий Манна-Уитни при проверке гипотезы. Применяем данный критерий из-за того, что в таких выборках, как среднее количество заказов на посетителя, есть большие выбросы по сравнению с нормальным распределением."
      ]
    },
    {
      "cell_type": "code",
      "execution_count": 196,
      "metadata": {
        "id": "90md_oXEzLAn"
      },
      "outputs": [],
      "source": [
        "# Создадим переменные ordersByUsersA и ordersByUsersB со столбцами ['userId', 'orders']. В них для пользователей, которые\n",
        "# заказывали хотя бы 1 раз, укажем число совершённых заказов.\n",
        "\n",
        "ordersByUsersA = (\n",
        "    orders[orders['group'] == 'A']\n",
        "    .groupby('visitorId', as_index=False)\n",
        "    .agg({'transactionId': pd.Series.nunique})\n",
        ")\n",
        "ordersByUsersA.columns = ['userId', 'orders']\n",
        "\n",
        "ordersByUsersB = (\n",
        "    orders[orders['group'] == 'B']\n",
        "    .groupby('visitorId', as_index=False)\n",
        "    .agg({'transactionId': pd.Series.nunique})\n",
        ")\n",
        "ordersByUsersB.columns = ['userId', 'orders']"
      ]
    },
    {
      "cell_type": "code",
      "execution_count": 197,
      "metadata": {
        "id": "R7KnsjM3zLAo",
        "outputId": "1548d295-7969-4d57-8e76-b75e4aa7cf50",
        "colab": {
          "base_uri": "https://localhost:8080/"
        }
      },
      "outputs": [
        {
          "output_type": "stream",
          "name": "stdout",
          "text": [
            "P-value: 0.017\n",
            "Относительный прирост среднего числа заказов группы B относительно группы A по \"сырым\" данным: 0.138\n"
          ]
        }
      ],
      "source": [
        "# Объявим переменные sampleA и sampleB, в которых пользователям из разных групп будет соответствовать количество заказов. Тем,\n",
        "# кто ничего не заказал, будут соответствовать нули. Это нужно, чтобы подготовить выборки к проверке критерием Манна-Уитни.\n",
        "\n",
        "sampleA = pd.concat(\n",
        "    [\n",
        "        ordersByUsersA['orders'],\n",
        "        pd.Series(\n",
        "            0,\n",
        "            index=np.arange(\n",
        "                visitors[visitors['group']=='A']['visitors'].sum() - len(ordersByUsersA['orders'])\n",
        "            ),\n",
        "            name='orders',\n",
        "        ),\n",
        "    ],\n",
        "    axis=0,\n",
        ")\n",
        "\n",
        "sampleB = pd.concat(\n",
        "    [\n",
        "        ordersByUsersB['orders'],\n",
        "        pd.Series(\n",
        "            0,\n",
        "            index=np.arange(\n",
        "                visitors[visitors['group']=='B']['visitors'].sum() - len(ordersByUsersB['orders'])\n",
        "            ),\n",
        "            name='orders',\n",
        "        ),\n",
        "    ],\n",
        "    axis=0,\n",
        ")\n",
        "\n",
        "print(\"P-value: {0:.3f}\".format(stats.mannwhitneyu(sampleA, sampleB)[1])) # проверяем гипотезу при помощи непараметрического\n",
        "# теста Уилкоксона-Манна-Уитни. Примем уровень статистической значимости равным 5%.\n",
        "\n",
        "\n",
        "# Выведем относительный прирост среднего числа заказов группы B относительно группы A по \"сырым\" данным\n",
        "print('Относительный прирост среднего числа заказов группы B относительно группы A по \"сырым\" данным: {0:.3f}'\n",
        "      .format(sampleB.mean() / sampleA.mean() - 1))"
      ]
    },
    {
      "cell_type": "markdown",
      "metadata": {
        "id": "R9HhHSyMzLAp"
      },
      "source": [
        "Вывод: по «сырым» данным в среднем числе заказов групп A и B различия есть. pvalue = 0.017 меньше 0.05.  Значит, нулевую гипотезу о том, что статистически значимых различий в среднем числе заказов между группами нет, отвергаем."
      ]
    },
    {
      "cell_type": "markdown",
      "metadata": {
        "id": "dNjIV-kHzLAp"
      },
      "source": [
        "### Задание 2.11. Посчитайте статистическую значимость различий в среднем чеке заказа между группами по «сырым» данным. Сделайте выводы и предположения."
      ]
    },
    {
      "cell_type": "markdown",
      "metadata": {
        "id": "7d4y2TkBzLAq"
      },
      "source": [
        "**Нулевая гипотеза**: Статистически значимых различий в среднем чеке между группами по «сырым» данным нет.   \n",
        "**Альтернативная гипотеза**: Статистически значимые различия в среднем чеке между группами по «сырым» данным есть.\n",
        "\n",
        "Примем уровень статистической значимости, равный 5%.  \n",
        "Применим статистический критерий Манна-Уитни при проверке гипотезы. Применяем данный критерий из-за того, что в таких выборках, как средный чек, есть большие выбросы по сравнению с нормальным распределением.\n"
      ]
    },
    {
      "cell_type": "code",
      "execution_count": 198,
      "metadata": {
        "id": "GoR1_VG9zLAq",
        "outputId": "5dcf2203-67c4-426e-b84d-fa1b953ed929",
        "colab": {
          "base_uri": "https://localhost:8080/"
        }
      },
      "outputs": [
        {
          "output_type": "stream",
          "name": "stdout",
          "text": [
            "P-value: 0.729\n",
            "Относительный прирост в среднем чеке между группами B и A по \"сырым\" данным: 0.259\n"
          ]
        }
      ],
      "source": [
        "# Чтобы рассчитать статистическую значимость различий в среднем чеке, передадим критерию mannwhitneyu() данные о выручке\n",
        "# с заказов.\n",
        "\n",
        "print('P-value: {0:.3f}'.format(stats.mannwhitneyu(orders[orders['group']=='A']['revenue'],\n",
        "                                                   orders[orders['group']=='B']['revenue'])[1]))\n",
        "\n",
        "\n",
        "# Выведем относительный прирост в среднем чеке между группами B и A по \"сырым\" данным\n",
        "print('Относительный прирост в среднем чеке между группами B и A по \"сырым\" данным: {0:.3f}'\n",
        "      .format(orders[orders['group']=='B']['revenue'].mean()/orders[orders['group']=='A']['revenue'].mean()-1))"
      ]
    },
    {
      "cell_type": "markdown",
      "metadata": {
        "id": "UctYTWBhzLAr"
      },
      "source": [
        "P-value значительно больше 0.05. Значит, причин отвергать нулевую гипотезу и считать, что в среднем чеке есть различия, нет. Даже несмотря на то, что относительный прирост в среднем чеке между группами B и A составляет 25.9%."
      ]
    },
    {
      "cell_type": "markdown",
      "metadata": {
        "id": "0LOq3k72zLAr"
      },
      "source": [
        "### Задание 2.12. Посчитайте статистическую значимость различий в среднем количестве заказов на посетителя между группами по «очищенным» данным. Сделайте выводы и предположения."
      ]
    },
    {
      "cell_type": "markdown",
      "metadata": {
        "id": "9n_OmmOezLAr"
      },
      "source": [
        "Найденные ранее 95-й и 99-й перцентили средних чеков равны 28 000 и 58 234 рубля. А 95-й и 99-й перцентили количества заказов на одного пользователя равны 2 и 4 заказа на пользователя.\n",
        "Примем за аномальных пользователей тех, кто совершил от 4 заказов или совершил заказ дороже 58 234 рублей. Так мы уберём 1% пользователей с наибольшим числом заказов и 1% пользователей с дорогими заказами. Сделаем срезы пользователей с числом заказов больше 4 — usersWithManyOrders и пользователей, совершивших заказы дороже 58 234 — usersWithExpensiveOrders. Объединим их в таблице abnormalUsers."
      ]
    },
    {
      "cell_type": "code",
      "execution_count": 199,
      "metadata": {
        "id": "gYl4Nj0wzLAs",
        "outputId": "ef11664a-59bc-4d5b-9999-f350684c71c7",
        "colab": {
          "base_uri": "https://localhost:8080/"
        }
      },
      "outputs": [
        {
          "output_type": "stream",
          "name": "stdout",
          "text": [
            "1099     148427295\n",
            "949      887908475\n",
            "744      888512513\n",
            "1103    1164614297\n",
            "1136    1307669133\n",
            "dtype: int64\n",
            "15\n"
          ]
        }
      ],
      "source": [
        "usersWithManyOrders = pd.concat(\n",
        "    [\n",
        "        ordersByUsersA[ordersByUsersA['orders'] > np.percentile(ordersByUsers['orders'], 99)]['userId'],\n",
        "        ordersByUsersB[ordersByUsersB['orders'] > np.percentile(ordersByUsers['orders'], 99)]['userId'],\n",
        "    ],\n",
        "    axis=0,\n",
        ")\n",
        "usersWithExpensiveOrders = orders[orders['revenue'] > np.percentile(orders['revenue'], 99)]['visitorId']\n",
        "abnormalUsers = (\n",
        "    pd.concat([usersWithManyOrders, usersWithExpensiveOrders], axis=0)\n",
        "    .drop_duplicates()\n",
        "    .sort_values()\n",
        ")\n",
        "print(abnormalUsers.head(5))\n",
        "print(abnormalUsers.shape[0])"
      ]
    },
    {
      "cell_type": "markdown",
      "metadata": {
        "id": "OxSurT0yzLAt"
      },
      "source": [
        "Всего 15 аномальных пользователей.\n",
        "Узнаем, как их действия повлияли на результаты теста. Посчитаем статистическую значимость различий в среднем количестве заказов между группами теста по очищенным данным. Сначала подготовим выборки количества заказов по пользователям по группам теста:"
      ]
    },
    {
      "cell_type": "code",
      "execution_count": 200,
      "metadata": {
        "id": "D80lVGfCzLAt"
      },
      "outputs": [],
      "source": [
        "sampleAFiltered = pd.concat(\n",
        "    [\n",
        "        ordersByUsersA[\n",
        "            np.logical_not(ordersByUsersA['userId'].isin(abnormalUsers))\n",
        "        ]['orders'],\n",
        "        pd.Series(\n",
        "            0,\n",
        "            index=np.arange(\n",
        "                visitors[visitors['group']=='A']['visitors'].sum() - len(ordersByUsersA['orders'])\n",
        "            ),\n",
        "            name='orders',\n",
        "        ),\n",
        "    ],\n",
        "    axis=0,\n",
        ")\n",
        "\n",
        "sampleBFiltered = pd.concat(\n",
        "    [\n",
        "        ordersByUsersB[\n",
        "            np.logical_not(ordersByUsersB['userId'].isin(abnormalUsers))\n",
        "        ]['orders'],\n",
        "        pd.Series(\n",
        "            0,\n",
        "            index=np.arange(\n",
        "                visitors[visitors['group']=='B']['visitors'].sum() - len(ordersByUsersB['orders'])\n",
        "            ),\n",
        "            name='orders',\n",
        "        ),\n",
        "    ],\n",
        "    axis=0,\n",
        ")"
      ]
    },
    {
      "cell_type": "markdown",
      "metadata": {
        "id": "9My_JCUOzLAu"
      },
      "source": [
        "**Нулевая гипотеза**: Статистически значимых различий в среднем количестве заказов на посетителя между группами по «очищеным» данным нет.  \n",
        "**Альтернативная гипотеза**: Статистически значимые различия в среднем количестве заказов на посетителя между группами по «очищеным» данным есть.  \n",
        "\n",
        "Примем уровень статистической значимости, равный 5%.  \n",
        "Применим статистический критерий Манна-Уитни при проверке гипотезы. Применяем данный критерий из-за того, что в таких выборках, как среднее количество заказов на посетителя, есть большие выбросы по сравнению с нормальным распределением.\n"
      ]
    },
    {
      "cell_type": "code",
      "execution_count": 201,
      "metadata": {
        "id": "-JbWND3KzLAu",
        "outputId": "335dfb66-ed9e-4f9d-c0fb-6112e356c6b6",
        "colab": {
          "base_uri": "https://localhost:8080/"
        }
      },
      "outputs": [
        {
          "output_type": "stream",
          "name": "stdout",
          "text": [
            "P-value: 0.014\n",
            "Относительный прирост среднего числа заказов группы B относительно группы A по \"очищенным\" данным: 0.153\n"
          ]
        }
      ],
      "source": [
        "# Применим статистический критерий Манна-Уитни к полученным выборкам. Уровень статистической значимости равен 5%.\n",
        "\n",
        "print('P-value: {0:.3f}'.format(stats.mannwhitneyu(sampleAFiltered, sampleBFiltered)[1]))\n",
        "\n",
        "\n",
        "# Выведем относительный прирост среднего числа заказов группы B относительно группы A по очищенным данным\n",
        "print('Относительный прирост среднего числа заказов группы B относительно группы A по \"очищенным\" данным: {0:.3f}'\n",
        "      .format(sampleBFiltered.mean()/sampleAFiltered.mean()-1))"
      ]
    },
    {
      "cell_type": "markdown",
      "metadata": {
        "id": "4DCJQucJzLAv"
      },
      "source": [
        "Результаты по среднему количеству заказов практически не изменились, pvalue = 0.014. Отвергаем нулевую гипотезу о том, что статистически значимых различий в среднем числе заказов между группами нет."
      ]
    },
    {
      "cell_type": "markdown",
      "metadata": {
        "id": "SlLQhY2yzLAv"
      },
      "source": [
        "### Задание 2.13. Посчитайте статистическую значимость различий в среднем чеке заказа между группами по «очищенным» данным. Сделайте выводы и предположения."
      ]
    },
    {
      "cell_type": "markdown",
      "metadata": {
        "id": "tCcs6LOxzLAw"
      },
      "source": [
        "**Нулевая гипотеза**: Статистически значимых различий в среднем чеке между группами по «очищенным» данным нет.  \n",
        "**Альтернативная гипотеза**: Статистически значимые различия в среднем чеке между группами по «очищенным» данным есть.  \n",
        "\n",
        "Примем уровень статистической значимости, равный 5%.  \n",
        "Применим статистический критерий Манна-Уитни при проверке гипотезы. Применяем данный критерий из-за того, что в таких выборках, как средный чек, есть большие выбросы по сравнению с нормальным распределением.\n"
      ]
    },
    {
      "cell_type": "code",
      "execution_count": 202,
      "metadata": {
        "id": "ORrETaQ8zLAw",
        "outputId": "007706cd-d9b1-454f-e0a0-d3a96f061623",
        "colab": {
          "base_uri": "https://localhost:8080/"
        }
      },
      "outputs": [
        {
          "output_type": "stream",
          "name": "stdout",
          "text": [
            "P-value: 0.851\n",
            "Относительный прирост в среднем чеке между группами B и A по \"очищенным\" данным: -0.006\n"
          ]
        }
      ],
      "source": [
        "# Применим статистический критерий Манна-Уитни к полученной выборке. Уровень статистической значимости равен 5%.\n",
        "print(\n",
        "    'P-value: {0:.3f}'.format(\n",
        "        stats.mannwhitneyu(\n",
        "            orders[\n",
        "                np.logical_and(\n",
        "                    orders['group'] == 'A',\n",
        "                    np.logical_not(orders['visitorId'].isin(abnormalUsers)),\n",
        "                )\n",
        "            ]['revenue'],\n",
        "            orders[\n",
        "                np.logical_and(\n",
        "                    orders['group'] == 'B',\n",
        "                    np.logical_not(orders['visitorId'].isin(abnormalUsers)),\n",
        "                )\n",
        "            ]['revenue'],\n",
        "        )[1]\n",
        "    )\n",
        ")\n",
        "\n",
        "# Посчитаем относительный прирост среднего числа заказов группы B в сравнении с группой A по очищенным данным\n",
        "print(\n",
        "    'Относительный прирост в среднем чеке между группами B и A по \"очищенным\" данным: {0:.3f}'.format(\n",
        "        orders[\n",
        "            np.logical_and(\n",
        "                orders['group'] == 'B',\n",
        "                np.logical_not(orders['visitorId'].isin(abnormalUsers)),\n",
        "            )\n",
        "        ]['revenue'].mean()\n",
        "        / orders[\n",
        "            np.logical_and(\n",
        "                orders['group'] == 'A',\n",
        "                np.logical_not(orders['visitorId'].isin(abnormalUsers)),\n",
        "            )\n",
        "        ]['revenue'].mean()\n",
        "        - 1\n",
        "    )\n",
        ")"
      ]
    },
    {
      "cell_type": "markdown",
      "metadata": {
        "id": "A7UMeYIYzLAw"
      },
      "source": [
        "P-value увеличился и стал равен 0.851 по очищенным данным. Причин отвергать нулевую гипотезу и считать, что в среднем чеке есть различия, нет."
      ]
    },
    {
      "cell_type": "markdown",
      "metadata": {
        "id": "gDaN9rN1zLAx"
      },
      "source": [
        "### Задание 2.14. Примите решение по результатам теста и объясните его. Варианты решений:\n",
        "1. Остановить тест, зафиксировать победу одной из групп.\n",
        "2. Остановить тест, зафиксировать отсутствие различий между группами.\n",
        "3. Продолжить тест."
      ]
    },
    {
      "cell_type": "markdown",
      "metadata": {
        "id": "UX3J_lu-zLAx"
      },
      "source": [
        "Остановим тест, зафиксируем победу одной из групп, а именно группы B относительно группы A.  \n",
        "\n",
        "Мы получили следующие результаты A/B-теста:  \n",
        "    - Есть статистически значимое различие по среднему количеству заказов на посетителя между группами как по сырым данным, так и после фильтрации аномалий.  \n",
        "    - По сырым и по очищенным данным нет статистически значимого различия по среднему чеку между группами. Даже несмотря на то, что относительный прирост в среднем чеке между группами B и A по \"сырым\" данным составляет 25.9%.  \n",
        "    - График различия по среднему количеству заказов на посетителя между группами сообщает, что результаты группы B лучше группы A и зафиксировались в районе 15%.  \n",
        "    - График различия среднего чека колеблется. Сделать из этого графика определённые выводы нельзя.  "
      ]
    },
    {
      "cell_type": "markdown",
      "metadata": {
        "id": "px6wJWUJzLAx"
      },
      "source": [
        "**Вывод к шагу 2**  \n",
        "Мы получили следующие результаты успешно проведённого A/B-теста:  \n",
        "- Есть статистически значимое различие по среднему количеству заказов на посетителя между группами как по сырым данным, так и после фильтрации аномалий.  \n",
        "- По сырым и по очищенным данным нет статистически значимого различия по среднему чеку между группами. Даже несмотря на то, что относительный прирост в среднем чеке между группами B и A по \"сырым\" данным составляет 25.9%.  \n",
        "- График различия конверсии между группами сообщает, что результаты группы B лучше группы A и зафиксировались в районе 15%.\n",
        "- График различия среднего чека колеблется. Сделать из этого графика определённые выводы нельзя.  \n",
        "\n",
        "Также важно отметить, что количество покупателей, которые участвовали и в группе A, и в группе B, составляет: 58 человек."
      ]
    },
    {
      "cell_type": "markdown",
      "metadata": {
        "id": "mjUx2awyzLAx"
      },
      "source": [
        "## Шаг 3. Общий вывод  \n"
      ]
    },
    {
      "cell_type": "markdown",
      "metadata": {
        "id": "ewdrRCRqzLAy"
      },
      "source": [
        "На первом шаге проекта мы занимались приоритизацией гипотез. При использовании фреймворка ICE самыми приоритетными гипотезами стали гипотезы под номером 8,0,7. При использовании фреймворка RICE самыми приоритетными гипотезами стали гипотезы под номером 7, 2, 0 и 6.\n",
        "Данные различия в двух видах приоритизации гипотез объясняются тем,что в методе RICE в отличие от ICE помимо таких компонентов, как Impact (влияние), Confidence (уверенность) и Efforts (усилия), применяется компонент Reach (охват). Параметр Reach (охват) показывает, скольких пользователей затронет изменение, которое хотим внести. Первой рекомендую тестировать гипотезу под номером 7, так как она на первом месте при применении метода приоритизации RICE. Рекомендую использовать метод RICE для приоритизации гипотез, так как этот метод учитывает дополнительно такой параметр, как Reach, в отличие от ICE, что даёт более полную картину при приоритизации гипотез.\n",
        "\n",
        "На втором шаге проекта мы проводили A/B-тест. Получили следующие результаты успешно проведённого A/B-теста:  \n",
        "- Есть статистически значимое различие по среднему количеству заказов на посетителя между группами как по сырым данным, так и после фильтрации аномалий.  \n",
        "- По сырым и по очищенным данным нет статистически значимого различия по среднему чеку между группами. Даже несмотря на то, что относительный прирост в среднем чеке между группами B и A по \"сырым\" данным составляет 25.9%.  \n",
        "- График различия по среднему количеству заказов на посетителя между группами сообщает, что результаты группы B лучше группы A и зафиксировались в районе 15%.  \n",
        "- График различия среднего чека колеблется. Сделать из этого графика определённые выводы нельзя.  \n",
        "\n",
        "Также важно отметить, что количество покупателей, которые участвовали и в группе A, и в группе B, составляет: 58 человек, что является нарушением в распределении пользователей по группам. Поскольку таблица с визитами содержит уже агрегированные данные, можно оставить таких пользователей в тесте."
      ]
    }
  ],
  "metadata": {
    "ExecuteTimeLog": [
      {
        "duration": 757,
        "start_time": "2023-05-09T11:03:41.740Z"
      },
      {
        "duration": 78,
        "start_time": "2023-05-09T11:04:56.764Z"
      },
      {
        "duration": 11,
        "start_time": "2023-05-09T11:05:10.524Z"
      },
      {
        "duration": 8,
        "start_time": "2023-05-09T11:05:15.061Z"
      },
      {
        "duration": 3,
        "start_time": "2023-05-09T11:05:50.555Z"
      },
      {
        "duration": 26,
        "start_time": "2023-05-09T11:06:57.095Z"
      },
      {
        "duration": 25,
        "start_time": "2023-05-09T11:07:06.407Z"
      },
      {
        "duration": 8,
        "start_time": "2023-05-09T13:26:18.424Z"
      },
      {
        "duration": 9,
        "start_time": "2023-05-09T13:26:23.864Z"
      },
      {
        "duration": 16,
        "start_time": "2023-05-09T13:27:05.978Z"
      },
      {
        "duration": 5,
        "start_time": "2023-05-09T13:30:58.304Z"
      },
      {
        "duration": 673,
        "start_time": "2023-05-09T13:31:18.205Z"
      },
      {
        "duration": 3,
        "start_time": "2023-05-09T13:31:18.881Z"
      },
      {
        "duration": 32,
        "start_time": "2023-05-09T13:31:18.886Z"
      },
      {
        "duration": 14,
        "start_time": "2023-05-09T13:31:18.920Z"
      },
      {
        "duration": 18,
        "start_time": "2023-05-09T13:31:18.937Z"
      },
      {
        "duration": 5,
        "start_time": "2023-05-09T13:31:18.957Z"
      },
      {
        "duration": 970,
        "start_time": "2023-05-09T13:31:44.372Z"
      },
      {
        "duration": 853,
        "start_time": "2023-05-09T13:31:59.432Z"
      },
      {
        "duration": 4,
        "start_time": "2023-05-09T13:32:05.191Z"
      },
      {
        "duration": 758,
        "start_time": "2023-05-09T13:34:18.610Z"
      },
      {
        "duration": 4,
        "start_time": "2023-05-09T13:34:50.698Z"
      },
      {
        "duration": 18,
        "start_time": "2023-05-09T13:35:37.988Z"
      },
      {
        "duration": 96,
        "start_time": "2023-05-09T14:04:45.148Z"
      },
      {
        "duration": 11,
        "start_time": "2023-05-09T14:05:08.757Z"
      },
      {
        "duration": 71,
        "start_time": "2023-05-09T14:06:51.712Z"
      },
      {
        "duration": 11,
        "start_time": "2023-05-09T14:06:58.872Z"
      },
      {
        "duration": 13,
        "start_time": "2023-05-09T14:09:03.922Z"
      },
      {
        "duration": 12,
        "start_time": "2023-05-09T14:12:07.158Z"
      },
      {
        "duration": 11,
        "start_time": "2023-05-09T14:12:41.511Z"
      },
      {
        "duration": 8,
        "start_time": "2023-05-09T14:13:36.128Z"
      },
      {
        "duration": 7,
        "start_time": "2023-05-09T14:29:53.299Z"
      },
      {
        "duration": 7,
        "start_time": "2023-05-09T14:30:43.046Z"
      },
      {
        "duration": 3,
        "start_time": "2023-05-09T14:33:48.286Z"
      },
      {
        "duration": 11,
        "start_time": "2023-05-09T14:34:24.348Z"
      },
      {
        "duration": 10,
        "start_time": "2023-05-09T14:34:24.845Z"
      },
      {
        "duration": 13,
        "start_time": "2023-05-09T14:34:28.233Z"
      },
      {
        "duration": 333,
        "start_time": "2023-05-09T14:36:15.819Z"
      },
      {
        "duration": 8,
        "start_time": "2023-05-09T14:36:16.197Z"
      },
      {
        "duration": 11,
        "start_time": "2023-05-09T14:36:18.239Z"
      },
      {
        "duration": 5,
        "start_time": "2023-05-09T14:37:17.683Z"
      },
      {
        "duration": 9,
        "start_time": "2023-05-09T14:37:18.944Z"
      },
      {
        "duration": 9,
        "start_time": "2023-05-09T14:37:19.473Z"
      },
      {
        "duration": 76,
        "start_time": "2023-05-09T14:38:05.006Z"
      },
      {
        "duration": 8,
        "start_time": "2023-05-09T14:40:18.944Z"
      },
      {
        "duration": 93,
        "start_time": "2023-05-09T14:47:08.091Z"
      },
      {
        "duration": 9,
        "start_time": "2023-05-09T14:47:23.810Z"
      },
      {
        "duration": 5,
        "start_time": "2023-05-09T14:47:29.770Z"
      },
      {
        "duration": 174,
        "start_time": "2023-05-09T14:47:30.106Z"
      },
      {
        "duration": 8,
        "start_time": "2023-05-09T14:47:49.506Z"
      },
      {
        "duration": 152,
        "start_time": "2023-05-09T14:49:11.204Z"
      },
      {
        "duration": 7,
        "start_time": "2023-05-09T14:49:11.660Z"
      },
      {
        "duration": 10,
        "start_time": "2023-05-09T14:51:20.735Z"
      },
      {
        "duration": 57,
        "start_time": "2023-05-09T14:52:37.256Z"
      },
      {
        "duration": 118,
        "start_time": "2023-05-09T14:52:49.329Z"
      },
      {
        "duration": 109,
        "start_time": "2023-05-09T14:52:57.465Z"
      },
      {
        "duration": 51,
        "start_time": "2023-05-09T14:53:10.329Z"
      },
      {
        "duration": 110,
        "start_time": "2023-05-09T14:53:21.243Z"
      },
      {
        "duration": 106,
        "start_time": "2023-05-09T14:54:00.219Z"
      },
      {
        "duration": 118,
        "start_time": "2023-05-09T14:54:02.538Z"
      },
      {
        "duration": 7,
        "start_time": "2023-05-09T14:54:17.412Z"
      },
      {
        "duration": 15,
        "start_time": "2023-05-09T14:55:08.867Z"
      },
      {
        "duration": 14,
        "start_time": "2023-05-09T14:56:19.117Z"
      },
      {
        "duration": 151,
        "start_time": "2023-05-09T14:58:51.215Z"
      },
      {
        "duration": 8,
        "start_time": "2023-05-09T14:58:52.350Z"
      },
      {
        "duration": 230,
        "start_time": "2023-05-09T15:07:09.667Z"
      },
      {
        "duration": 156,
        "start_time": "2023-05-09T15:07:20.362Z"
      },
      {
        "duration": 202,
        "start_time": "2023-05-09T15:09:38.900Z"
      },
      {
        "duration": 165,
        "start_time": "2023-05-09T15:10:00.190Z"
      },
      {
        "duration": 154,
        "start_time": "2023-05-09T15:10:08.070Z"
      },
      {
        "duration": 167,
        "start_time": "2023-05-09T15:10:13.598Z"
      },
      {
        "duration": 165,
        "start_time": "2023-05-09T15:10:22.510Z"
      },
      {
        "duration": 339,
        "start_time": "2023-05-09T15:11:29.320Z"
      },
      {
        "duration": 280,
        "start_time": "2023-05-09T15:11:48.240Z"
      },
      {
        "duration": 288,
        "start_time": "2023-05-09T15:12:00.977Z"
      },
      {
        "duration": 176,
        "start_time": "2023-05-09T15:12:26.345Z"
      },
      {
        "duration": 183,
        "start_time": "2023-05-09T15:12:36.089Z"
      },
      {
        "duration": 211,
        "start_time": "2023-05-09T15:12:47.290Z"
      },
      {
        "duration": 258,
        "start_time": "2023-05-09T15:12:57.874Z"
      },
      {
        "duration": 183,
        "start_time": "2023-05-09T16:42:38.012Z"
      },
      {
        "duration": 177,
        "start_time": "2023-05-09T16:42:43.493Z"
      },
      {
        "duration": 12,
        "start_time": "2023-05-09T16:43:43.607Z"
      },
      {
        "duration": 183,
        "start_time": "2023-05-09T16:44:13.471Z"
      },
      {
        "duration": 168,
        "start_time": "2023-05-09T16:44:22.097Z"
      },
      {
        "duration": 169,
        "start_time": "2023-05-09T16:44:42.760Z"
      },
      {
        "duration": 168,
        "start_time": "2023-05-09T16:44:56.039Z"
      },
      {
        "duration": 189,
        "start_time": "2023-05-09T16:45:27.136Z"
      },
      {
        "duration": 188,
        "start_time": "2023-05-09T16:45:45.384Z"
      },
      {
        "duration": 170,
        "start_time": "2023-05-09T16:45:50.272Z"
      },
      {
        "duration": 247,
        "start_time": "2023-05-09T16:46:41.658Z"
      },
      {
        "duration": 184,
        "start_time": "2023-05-09T16:48:53.621Z"
      },
      {
        "duration": 198,
        "start_time": "2023-05-09T16:49:03.605Z"
      },
      {
        "duration": 191,
        "start_time": "2023-05-09T16:56:01.620Z"
      },
      {
        "duration": 222,
        "start_time": "2023-05-09T16:56:18.724Z"
      },
      {
        "duration": 171,
        "start_time": "2023-05-09T16:56:32.773Z"
      },
      {
        "duration": 277,
        "start_time": "2023-05-09T17:03:05.703Z"
      },
      {
        "duration": 270,
        "start_time": "2023-05-09T17:03:22.398Z"
      },
      {
        "duration": 265,
        "start_time": "2023-05-09T17:06:41.760Z"
      },
      {
        "duration": 259,
        "start_time": "2023-05-09T17:06:53.898Z"
      },
      {
        "duration": 297,
        "start_time": "2023-05-09T17:08:20.203Z"
      },
      {
        "duration": 341,
        "start_time": "2023-05-09T17:08:51.020Z"
      },
      {
        "duration": 184,
        "start_time": "2023-05-09T17:09:48.781Z"
      },
      {
        "duration": 227,
        "start_time": "2023-05-09T17:10:29.262Z"
      },
      {
        "duration": 10,
        "start_time": "2023-05-09T17:35:11.140Z"
      },
      {
        "duration": 12,
        "start_time": "2023-05-09T17:35:31.092Z"
      },
      {
        "duration": 691,
        "start_time": "2023-05-09T17:37:59.050Z"
      },
      {
        "duration": 4,
        "start_time": "2023-05-09T17:37:59.743Z"
      },
      {
        "duration": 35,
        "start_time": "2023-05-09T17:37:59.751Z"
      },
      {
        "duration": 11,
        "start_time": "2023-05-09T17:37:59.788Z"
      },
      {
        "duration": 27,
        "start_time": "2023-05-09T17:37:59.801Z"
      },
      {
        "duration": 30,
        "start_time": "2023-05-09T17:37:59.830Z"
      },
      {
        "duration": 40,
        "start_time": "2023-05-09T17:37:59.861Z"
      },
      {
        "duration": 11,
        "start_time": "2023-05-09T17:37:59.903Z"
      },
      {
        "duration": 17,
        "start_time": "2023-05-09T17:37:59.915Z"
      },
      {
        "duration": 12,
        "start_time": "2023-05-09T17:37:59.934Z"
      },
      {
        "duration": 21,
        "start_time": "2023-05-09T17:37:59.948Z"
      },
      {
        "duration": 21,
        "start_time": "2023-05-09T17:37:59.971Z"
      },
      {
        "duration": 5,
        "start_time": "2023-05-09T17:37:59.994Z"
      },
      {
        "duration": 35,
        "start_time": "2023-05-09T17:38:00.002Z"
      },
      {
        "duration": 36,
        "start_time": "2023-05-09T17:38:00.048Z"
      },
      {
        "duration": 16,
        "start_time": "2023-05-09T17:38:00.086Z"
      },
      {
        "duration": 203,
        "start_time": "2023-05-09T17:38:00.104Z"
      },
      {
        "duration": 8,
        "start_time": "2023-05-09T17:38:00.309Z"
      },
      {
        "duration": 152,
        "start_time": "2023-05-09T17:38:00.334Z"
      },
      {
        "duration": 19,
        "start_time": "2023-05-09T17:38:00.488Z"
      },
      {
        "duration": 32,
        "start_time": "2023-05-09T17:38:00.509Z"
      },
      {
        "duration": 329,
        "start_time": "2023-05-09T17:38:00.543Z"
      },
      {
        "duration": 261,
        "start_time": "2023-05-09T17:38:00.874Z"
      },
      {
        "duration": 377,
        "start_time": "2023-05-09T17:38:01.137Z"
      },
      {
        "duration": 8,
        "start_time": "2023-05-09T17:38:34.407Z"
      },
      {
        "duration": 659,
        "start_time": "2023-05-09T17:43:26.859Z"
      },
      {
        "duration": 3,
        "start_time": "2023-05-09T17:43:27.520Z"
      },
      {
        "duration": 34,
        "start_time": "2023-05-09T17:43:27.525Z"
      },
      {
        "duration": 12,
        "start_time": "2023-05-09T17:43:27.560Z"
      },
      {
        "duration": 12,
        "start_time": "2023-05-09T17:43:27.574Z"
      },
      {
        "duration": 12,
        "start_time": "2023-05-09T17:43:27.588Z"
      },
      {
        "duration": 38,
        "start_time": "2023-05-09T17:43:27.601Z"
      },
      {
        "duration": 13,
        "start_time": "2023-05-09T17:43:27.640Z"
      },
      {
        "duration": 20,
        "start_time": "2023-05-09T17:43:27.655Z"
      },
      {
        "duration": 21,
        "start_time": "2023-05-09T17:43:27.677Z"
      },
      {
        "duration": 22,
        "start_time": "2023-05-09T17:43:27.700Z"
      },
      {
        "duration": 4,
        "start_time": "2023-05-09T17:43:27.724Z"
      },
      {
        "duration": 12,
        "start_time": "2023-05-09T17:43:27.730Z"
      },
      {
        "duration": 11,
        "start_time": "2023-05-09T17:43:27.745Z"
      },
      {
        "duration": 8,
        "start_time": "2023-05-09T17:43:27.757Z"
      },
      {
        "duration": 183,
        "start_time": "2023-05-09T17:43:27.767Z"
      },
      {
        "duration": 8,
        "start_time": "2023-05-09T17:43:27.952Z"
      },
      {
        "duration": 138,
        "start_time": "2023-05-09T17:43:27.961Z"
      },
      {
        "duration": 42,
        "start_time": "2023-05-09T17:43:28.100Z"
      },
      {
        "duration": 38,
        "start_time": "2023-05-09T17:43:28.143Z"
      },
      {
        "duration": 323,
        "start_time": "2023-05-09T17:43:28.183Z"
      },
      {
        "duration": 222,
        "start_time": "2023-05-09T17:43:28.508Z"
      },
      {
        "duration": 353,
        "start_time": "2023-05-09T17:43:28.734Z"
      },
      {
        "duration": 252,
        "start_time": "2023-05-09T17:52:14.848Z"
      },
      {
        "duration": 149,
        "start_time": "2023-05-09T21:24:43.988Z"
      },
      {
        "duration": 592,
        "start_time": "2023-05-09T21:25:08.131Z"
      },
      {
        "duration": 10,
        "start_time": "2023-05-09T21:25:08.725Z"
      },
      {
        "duration": 39,
        "start_time": "2023-05-09T21:25:08.737Z"
      },
      {
        "duration": 10,
        "start_time": "2023-05-09T21:25:08.778Z"
      },
      {
        "duration": 17,
        "start_time": "2023-05-09T21:25:08.789Z"
      },
      {
        "duration": 10,
        "start_time": "2023-05-09T21:25:08.807Z"
      },
      {
        "duration": 38,
        "start_time": "2023-05-09T21:25:08.818Z"
      },
      {
        "duration": 10,
        "start_time": "2023-05-09T21:25:08.858Z"
      },
      {
        "duration": 9,
        "start_time": "2023-05-09T21:25:08.870Z"
      },
      {
        "duration": 11,
        "start_time": "2023-05-09T21:25:08.881Z"
      },
      {
        "duration": 19,
        "start_time": "2023-05-09T21:25:08.893Z"
      },
      {
        "duration": 3,
        "start_time": "2023-05-09T21:25:08.913Z"
      },
      {
        "duration": 14,
        "start_time": "2023-05-09T21:25:08.917Z"
      },
      {
        "duration": 19,
        "start_time": "2023-05-09T21:25:08.932Z"
      },
      {
        "duration": 12,
        "start_time": "2023-05-09T21:25:08.952Z"
      },
      {
        "duration": 157,
        "start_time": "2023-05-09T21:25:08.965Z"
      },
      {
        "duration": 12,
        "start_time": "2023-05-09T21:25:09.123Z"
      },
      {
        "duration": 116,
        "start_time": "2023-05-09T21:25:09.137Z"
      },
      {
        "duration": 13,
        "start_time": "2023-05-09T21:25:09.255Z"
      },
      {
        "duration": 18,
        "start_time": "2023-05-09T21:25:09.270Z"
      },
      {
        "duration": 269,
        "start_time": "2023-05-09T21:25:09.289Z"
      },
      {
        "duration": 184,
        "start_time": "2023-05-09T21:25:09.559Z"
      },
      {
        "duration": 296,
        "start_time": "2023-05-09T21:25:09.745Z"
      },
      {
        "duration": 209,
        "start_time": "2023-05-09T21:25:10.042Z"
      },
      {
        "duration": 119,
        "start_time": "2023-05-09T21:25:23.094Z"
      },
      {
        "duration": 10,
        "start_time": "2023-05-09T21:33:06.328Z"
      },
      {
        "duration": 799,
        "start_time": "2023-05-10T08:14:58.603Z"
      },
      {
        "duration": 3,
        "start_time": "2023-05-10T08:14:59.405Z"
      },
      {
        "duration": 122,
        "start_time": "2023-05-10T08:14:59.410Z"
      },
      {
        "duration": 12,
        "start_time": "2023-05-10T08:14:59.533Z"
      },
      {
        "duration": 47,
        "start_time": "2023-05-10T08:14:59.547Z"
      },
      {
        "duration": 23,
        "start_time": "2023-05-10T08:14:59.596Z"
      },
      {
        "duration": 79,
        "start_time": "2023-05-10T08:14:59.621Z"
      },
      {
        "duration": 13,
        "start_time": "2023-05-10T08:14:59.702Z"
      },
      {
        "duration": 16,
        "start_time": "2023-05-10T08:14:59.716Z"
      },
      {
        "duration": 12,
        "start_time": "2023-05-10T08:14:59.734Z"
      },
      {
        "duration": 77,
        "start_time": "2023-05-10T08:14:59.747Z"
      },
      {
        "duration": 5,
        "start_time": "2023-05-10T08:14:59.826Z"
      },
      {
        "duration": 12,
        "start_time": "2023-05-10T08:14:59.833Z"
      },
      {
        "duration": 10,
        "start_time": "2023-05-10T08:14:59.848Z"
      },
      {
        "duration": 7,
        "start_time": "2023-05-10T08:14:59.860Z"
      },
      {
        "duration": 159,
        "start_time": "2023-05-10T08:14:59.868Z"
      },
      {
        "duration": 8,
        "start_time": "2023-05-10T08:15:00.028Z"
      },
      {
        "duration": 139,
        "start_time": "2023-05-10T08:15:00.037Z"
      },
      {
        "duration": 7,
        "start_time": "2023-05-10T08:15:00.178Z"
      },
      {
        "duration": 37,
        "start_time": "2023-05-10T08:15:00.186Z"
      },
      {
        "duration": 302,
        "start_time": "2023-05-10T08:15:00.224Z"
      },
      {
        "duration": 214,
        "start_time": "2023-05-10T08:15:00.528Z"
      },
      {
        "duration": 335,
        "start_time": "2023-05-10T08:15:00.744Z"
      },
      {
        "duration": 147,
        "start_time": "2023-05-10T08:15:01.081Z"
      },
      {
        "duration": 10,
        "start_time": "2023-05-10T08:15:01.229Z"
      },
      {
        "duration": 12,
        "start_time": "2023-05-10T09:01:04.718Z"
      },
      {
        "duration": 362,
        "start_time": "2023-05-10T09:58:13.210Z"
      },
      {
        "duration": 217,
        "start_time": "2023-05-10T10:02:51.520Z"
      },
      {
        "duration": 208,
        "start_time": "2023-05-10T10:05:25.035Z"
      },
      {
        "duration": 229,
        "start_time": "2023-05-10T10:05:54.251Z"
      },
      {
        "duration": 201,
        "start_time": "2023-05-10T10:06:26.459Z"
      },
      {
        "duration": 228,
        "start_time": "2023-05-10T10:06:58.309Z"
      },
      {
        "duration": 238,
        "start_time": "2023-05-10T10:08:39.008Z"
      },
      {
        "duration": 181,
        "start_time": "2023-05-10T10:10:06.208Z"
      },
      {
        "duration": 186,
        "start_time": "2023-05-10T10:10:30.033Z"
      },
      {
        "duration": 193,
        "start_time": "2023-05-10T10:10:37.953Z"
      },
      {
        "duration": 204,
        "start_time": "2023-05-10T10:11:43.266Z"
      },
      {
        "duration": 246,
        "start_time": "2023-05-10T10:11:55.128Z"
      },
      {
        "duration": 162,
        "start_time": "2023-05-10T10:12:09.929Z"
      },
      {
        "duration": 326,
        "start_time": "2023-05-10T10:12:18.355Z"
      },
      {
        "duration": 205,
        "start_time": "2023-05-10T10:12:24.163Z"
      },
      {
        "duration": 183,
        "start_time": "2023-05-10T10:12:38.753Z"
      },
      {
        "duration": 180,
        "start_time": "2023-05-10T10:12:59.706Z"
      },
      {
        "duration": 189,
        "start_time": "2023-05-10T10:13:49.605Z"
      },
      {
        "duration": 368,
        "start_time": "2023-05-10T10:32:20.283Z"
      },
      {
        "duration": 7,
        "start_time": "2023-05-10T10:32:55.494Z"
      },
      {
        "duration": 376,
        "start_time": "2023-05-10T10:32:58.035Z"
      },
      {
        "duration": 385,
        "start_time": "2023-05-10T10:33:54.013Z"
      },
      {
        "duration": 405,
        "start_time": "2023-05-10T10:34:08.217Z"
      },
      {
        "duration": 516,
        "start_time": "2023-05-10T10:34:24.170Z"
      },
      {
        "duration": 330,
        "start_time": "2023-05-10T10:34:45.157Z"
      },
      {
        "duration": 319,
        "start_time": "2023-05-10T10:34:48.022Z"
      },
      {
        "duration": 79,
        "start_time": "2023-05-10T10:34:58.885Z"
      },
      {
        "duration": 303,
        "start_time": "2023-05-10T10:35:02.412Z"
      },
      {
        "duration": 324,
        "start_time": "2023-05-10T10:35:28.367Z"
      },
      {
        "duration": 363,
        "start_time": "2023-05-10T10:36:35.273Z"
      },
      {
        "duration": 328,
        "start_time": "2023-05-10T10:36:40.609Z"
      },
      {
        "duration": 336,
        "start_time": "2023-05-10T10:37:06.046Z"
      },
      {
        "duration": 281,
        "start_time": "2023-05-10T10:37:21.943Z"
      },
      {
        "duration": 9,
        "start_time": "2023-05-10T10:38:11.672Z"
      },
      {
        "duration": 308,
        "start_time": "2023-05-10T10:39:33.325Z"
      },
      {
        "duration": 314,
        "start_time": "2023-05-10T10:41:19.069Z"
      },
      {
        "duration": 79,
        "start_time": "2023-05-10T10:41:35.088Z"
      },
      {
        "duration": 74,
        "start_time": "2023-05-10T10:41:40.192Z"
      },
      {
        "duration": 413,
        "start_time": "2023-05-10T10:42:11.505Z"
      },
      {
        "duration": 72,
        "start_time": "2023-05-10T10:42:17.441Z"
      },
      {
        "duration": 315,
        "start_time": "2023-05-10T10:42:27.161Z"
      },
      {
        "duration": 303,
        "start_time": "2023-05-10T10:42:35.368Z"
      },
      {
        "duration": 77,
        "start_time": "2023-05-10T10:42:44.370Z"
      },
      {
        "duration": 269,
        "start_time": "2023-05-10T10:43:08.033Z"
      },
      {
        "duration": 76,
        "start_time": "2023-05-10T10:43:29.713Z"
      },
      {
        "duration": 77,
        "start_time": "2023-05-10T10:43:37.755Z"
      },
      {
        "duration": 74,
        "start_time": "2023-05-10T10:43:41.483Z"
      },
      {
        "duration": 73,
        "start_time": "2023-05-10T10:43:47.049Z"
      },
      {
        "duration": 332,
        "start_time": "2023-05-10T10:43:52.385Z"
      },
      {
        "duration": 352,
        "start_time": "2023-05-10T10:43:56.971Z"
      },
      {
        "duration": 265,
        "start_time": "2023-05-10T10:44:02.836Z"
      },
      {
        "duration": 315,
        "start_time": "2023-05-10T10:44:08.715Z"
      },
      {
        "duration": 140,
        "start_time": "2023-05-10T12:24:47.229Z"
      },
      {
        "duration": 10,
        "start_time": "2023-05-10T12:27:09.586Z"
      },
      {
        "duration": 13,
        "start_time": "2023-05-10T12:28:43.459Z"
      },
      {
        "duration": 12,
        "start_time": "2023-05-10T12:29:20.011Z"
      },
      {
        "duration": 132,
        "start_time": "2023-05-10T12:30:52.158Z"
      },
      {
        "duration": 116,
        "start_time": "2023-05-10T12:30:59.949Z"
      },
      {
        "duration": 8,
        "start_time": "2023-05-10T12:39:22.520Z"
      },
      {
        "duration": 6,
        "start_time": "2023-05-10T12:53:10.381Z"
      },
      {
        "duration": 148,
        "start_time": "2023-05-10T12:56:37.957Z"
      },
      {
        "duration": 234,
        "start_time": "2023-05-10T12:57:11.726Z"
      },
      {
        "duration": 189,
        "start_time": "2023-05-10T12:57:19.283Z"
      },
      {
        "duration": 147,
        "start_time": "2023-05-10T12:57:36.113Z"
      },
      {
        "duration": 221,
        "start_time": "2023-05-10T12:57:44.287Z"
      },
      {
        "duration": 148,
        "start_time": "2023-05-10T12:57:58.255Z"
      },
      {
        "duration": 6,
        "start_time": "2023-05-10T13:06:26.124Z"
      },
      {
        "duration": 410,
        "start_time": "2023-05-10T13:34:28.305Z"
      },
      {
        "duration": 228,
        "start_time": "2023-05-10T13:39:54.728Z"
      },
      {
        "duration": 160,
        "start_time": "2023-05-10T13:46:36.099Z"
      },
      {
        "duration": 234,
        "start_time": "2023-05-10T13:48:25.282Z"
      },
      {
        "duration": 219,
        "start_time": "2023-05-10T13:48:46.236Z"
      },
      {
        "duration": 144,
        "start_time": "2023-05-10T13:59:08.072Z"
      },
      {
        "duration": 29,
        "start_time": "2023-05-10T14:01:10.508Z"
      },
      {
        "duration": 21,
        "start_time": "2023-05-10T14:06:49.580Z"
      },
      {
        "duration": 2,
        "start_time": "2023-05-10T14:17:15.982Z"
      },
      {
        "duration": 8,
        "start_time": "2023-05-10T14:17:49.074Z"
      },
      {
        "duration": 10,
        "start_time": "2023-05-10T14:22:15.028Z"
      },
      {
        "duration": 8,
        "start_time": "2023-05-10T14:22:38.268Z"
      },
      {
        "duration": 1208,
        "start_time": "2023-05-10T14:41:44.130Z"
      },
      {
        "duration": 8,
        "start_time": "2023-05-10T14:43:12.989Z"
      },
      {
        "duration": 8,
        "start_time": "2023-05-10T14:43:29.997Z"
      },
      {
        "duration": 9,
        "start_time": "2023-05-10T14:44:46.577Z"
      },
      {
        "duration": 8,
        "start_time": "2023-05-10T14:47:58.675Z"
      },
      {
        "duration": 9,
        "start_time": "2023-05-10T14:48:06.268Z"
      },
      {
        "duration": 8,
        "start_time": "2023-05-10T14:48:08.355Z"
      },
      {
        "duration": 10,
        "start_time": "2023-05-10T14:49:35.430Z"
      },
      {
        "duration": 32,
        "start_time": "2023-05-10T14:50:15.215Z"
      },
      {
        "duration": 1385,
        "start_time": "2023-05-10T14:53:00.043Z"
      },
      {
        "duration": 15,
        "start_time": "2023-05-10T14:54:35.655Z"
      },
      {
        "duration": 23,
        "start_time": "2023-05-10T14:54:57.981Z"
      },
      {
        "duration": 9,
        "start_time": "2023-05-10T14:55:01.261Z"
      },
      {
        "duration": 46,
        "start_time": "2023-05-10T20:36:29.945Z"
      },
      {
        "duration": 8,
        "start_time": "2023-05-10T20:36:52.922Z"
      },
      {
        "duration": 1179,
        "start_time": "2023-05-10T20:37:25.239Z"
      },
      {
        "duration": 3,
        "start_time": "2023-05-10T20:37:26.421Z"
      },
      {
        "duration": 88,
        "start_time": "2023-05-10T20:37:26.426Z"
      },
      {
        "duration": 14,
        "start_time": "2023-05-10T20:37:26.516Z"
      },
      {
        "duration": 13,
        "start_time": "2023-05-10T20:37:26.533Z"
      },
      {
        "duration": 12,
        "start_time": "2023-05-10T20:37:26.548Z"
      },
      {
        "duration": 86,
        "start_time": "2023-05-10T20:37:26.562Z"
      },
      {
        "duration": 12,
        "start_time": "2023-05-10T20:37:26.649Z"
      },
      {
        "duration": 11,
        "start_time": "2023-05-10T20:37:26.662Z"
      },
      {
        "duration": 12,
        "start_time": "2023-05-10T20:37:26.675Z"
      },
      {
        "duration": 64,
        "start_time": "2023-05-10T20:37:26.689Z"
      },
      {
        "duration": 4,
        "start_time": "2023-05-10T20:37:26.754Z"
      },
      {
        "duration": 16,
        "start_time": "2023-05-10T20:37:26.760Z"
      },
      {
        "duration": 17,
        "start_time": "2023-05-10T20:37:26.779Z"
      },
      {
        "duration": 20,
        "start_time": "2023-05-10T20:37:26.798Z"
      },
      {
        "duration": 156,
        "start_time": "2023-05-10T20:37:26.820Z"
      },
      {
        "duration": 8,
        "start_time": "2023-05-10T20:37:26.977Z"
      },
      {
        "duration": 132,
        "start_time": "2023-05-10T20:37:26.987Z"
      },
      {
        "duration": 10,
        "start_time": "2023-05-10T20:37:27.121Z"
      },
      {
        "duration": 13,
        "start_time": "2023-05-10T20:37:27.133Z"
      },
      {
        "duration": 270,
        "start_time": "2023-05-10T20:37:27.148Z"
      },
      {
        "duration": 205,
        "start_time": "2023-05-10T20:37:27.420Z"
      },
      {
        "duration": 347,
        "start_time": "2023-05-10T20:37:27.626Z"
      },
      {
        "duration": 188,
        "start_time": "2023-05-10T20:37:27.975Z"
      },
      {
        "duration": 305,
        "start_time": "2023-05-10T20:37:28.165Z"
      },
      {
        "duration": 9,
        "start_time": "2023-05-10T20:37:28.472Z"
      },
      {
        "duration": 131,
        "start_time": "2023-05-10T20:37:28.482Z"
      },
      {
        "duration": 5,
        "start_time": "2023-05-10T20:37:28.614Z"
      },
      {
        "duration": 156,
        "start_time": "2023-05-10T20:37:28.621Z"
      },
      {
        "duration": 5,
        "start_time": "2023-05-10T20:37:28.779Z"
      },
      {
        "duration": 219,
        "start_time": "2023-05-10T20:37:28.785Z"
      },
      {
        "duration": 139,
        "start_time": "2023-05-10T20:37:29.005Z"
      },
      {
        "duration": 24,
        "start_time": "2023-05-10T20:37:29.146Z"
      },
      {
        "duration": 26,
        "start_time": "2023-05-10T20:37:29.172Z"
      },
      {
        "duration": 9,
        "start_time": "2023-05-10T20:37:29.199Z"
      },
      {
        "duration": 11,
        "start_time": "2023-05-10T20:37:29.209Z"
      },
      {
        "duration": 7,
        "start_time": "2023-05-10T20:37:29.222Z"
      },
      {
        "duration": 21,
        "start_time": "2023-05-10T20:37:29.230Z"
      },
      {
        "duration": 12,
        "start_time": "2023-05-10T20:37:29.252Z"
      },
      {
        "duration": 23,
        "start_time": "2023-05-10T20:38:09.104Z"
      },
      {
        "duration": 25,
        "start_time": "2023-05-10T20:42:13.964Z"
      },
      {
        "duration": 10,
        "start_time": "2023-05-10T20:43:55.620Z"
      },
      {
        "duration": 93,
        "start_time": "2023-05-10T21:30:07.144Z"
      },
      {
        "duration": 9,
        "start_time": "2023-05-10T21:32:32.741Z"
      },
      {
        "duration": 12,
        "start_time": "2023-05-10T21:32:44.763Z"
      },
      {
        "duration": 12,
        "start_time": "2023-05-10T21:33:08.417Z"
      },
      {
        "duration": 21,
        "start_time": "2023-05-10T21:34:19.989Z"
      },
      {
        "duration": 21,
        "start_time": "2023-05-10T21:35:10.633Z"
      },
      {
        "duration": 9,
        "start_time": "2023-05-10T21:35:57.613Z"
      },
      {
        "duration": 10,
        "start_time": "2023-05-10T21:36:00.832Z"
      },
      {
        "duration": 20,
        "start_time": "2023-05-10T21:36:08.775Z"
      },
      {
        "duration": 8,
        "start_time": "2023-05-10T21:36:45.624Z"
      },
      {
        "duration": 5,
        "start_time": "2023-05-10T21:36:52.335Z"
      },
      {
        "duration": 4,
        "start_time": "2023-05-10T21:37:00.855Z"
      },
      {
        "duration": 50,
        "start_time": "2023-05-10T21:39:42.160Z"
      },
      {
        "duration": 66,
        "start_time": "2023-05-10T21:39:59.309Z"
      },
      {
        "duration": 149,
        "start_time": "2023-05-10T21:40:15.568Z"
      },
      {
        "duration": 56,
        "start_time": "2023-05-10T21:40:26.616Z"
      },
      {
        "duration": 60,
        "start_time": "2023-05-10T21:41:10.633Z"
      },
      {
        "duration": 4,
        "start_time": "2023-05-10T21:43:22.442Z"
      },
      {
        "duration": 5,
        "start_time": "2023-05-10T21:43:34.720Z"
      },
      {
        "duration": 4,
        "start_time": "2023-05-10T21:43:41.651Z"
      },
      {
        "duration": 11,
        "start_time": "2023-05-10T21:44:44.817Z"
      },
      {
        "duration": 9,
        "start_time": "2023-05-10T21:44:50.364Z"
      },
      {
        "duration": 10,
        "start_time": "2023-05-10T21:45:20.668Z"
      },
      {
        "duration": 11,
        "start_time": "2023-05-10T21:45:35.912Z"
      },
      {
        "duration": 370,
        "start_time": "2023-05-10T21:45:51.341Z"
      },
      {
        "duration": 265,
        "start_time": "2023-05-10T21:45:59.037Z"
      },
      {
        "duration": 52,
        "start_time": "2023-05-10T21:47:52.958Z"
      },
      {
        "duration": 6,
        "start_time": "2023-05-10T21:51:33.112Z"
      },
      {
        "duration": 5,
        "start_time": "2023-05-10T21:51:41.922Z"
      },
      {
        "duration": 6,
        "start_time": "2023-05-10T21:52:04.968Z"
      },
      {
        "duration": 58,
        "start_time": "2023-05-10T21:54:47.781Z"
      },
      {
        "duration": 59,
        "start_time": "2023-05-10T21:55:10.963Z"
      },
      {
        "duration": 6,
        "start_time": "2023-05-10T21:55:40.312Z"
      },
      {
        "duration": 7,
        "start_time": "2023-05-10T21:55:51.006Z"
      },
      {
        "duration": 5,
        "start_time": "2023-05-10T21:56:26.829Z"
      },
      {
        "duration": 10,
        "start_time": "2023-05-10T21:56:34.712Z"
      },
      {
        "duration": 5,
        "start_time": "2023-05-10T21:56:51.319Z"
      },
      {
        "duration": 5,
        "start_time": "2023-05-10T21:57:43.966Z"
      },
      {
        "duration": 6,
        "start_time": "2023-05-10T21:57:48.603Z"
      },
      {
        "duration": 7,
        "start_time": "2023-05-10T21:58:02.582Z"
      },
      {
        "duration": 6,
        "start_time": "2023-05-10T21:58:16.809Z"
      },
      {
        "duration": 59,
        "start_time": "2023-05-10T22:08:47.017Z"
      },
      {
        "duration": 5,
        "start_time": "2023-05-10T22:08:53.115Z"
      },
      {
        "duration": 4,
        "start_time": "2023-05-10T22:08:57.171Z"
      },
      {
        "duration": 5,
        "start_time": "2023-05-10T22:09:57.436Z"
      },
      {
        "duration": 5,
        "start_time": "2023-05-10T22:10:30.269Z"
      },
      {
        "duration": 136,
        "start_time": "2023-05-10T22:10:52.765Z"
      },
      {
        "duration": 79,
        "start_time": "2023-05-10T22:11:05.966Z"
      },
      {
        "duration": 80,
        "start_time": "2023-05-10T22:11:17.484Z"
      },
      {
        "duration": 192,
        "start_time": "2023-05-10T22:12:05.383Z"
      },
      {
        "duration": 6,
        "start_time": "2023-05-10T22:12:30.911Z"
      },
      {
        "duration": 228,
        "start_time": "2023-05-10T22:12:36.319Z"
      },
      {
        "duration": 6,
        "start_time": "2023-05-10T22:12:40.240Z"
      },
      {
        "duration": 5,
        "start_time": "2023-05-10T22:12:43.985Z"
      },
      {
        "duration": 1392,
        "start_time": "2023-05-11T12:08:31.227Z"
      },
      {
        "duration": 3,
        "start_time": "2023-05-11T12:08:32.621Z"
      },
      {
        "duration": 74,
        "start_time": "2023-05-11T12:08:32.626Z"
      },
      {
        "duration": 17,
        "start_time": "2023-05-11T12:08:32.701Z"
      },
      {
        "duration": 19,
        "start_time": "2023-05-11T12:08:32.722Z"
      },
      {
        "duration": 20,
        "start_time": "2023-05-11T12:08:32.742Z"
      },
      {
        "duration": 66,
        "start_time": "2023-05-11T12:08:32.765Z"
      },
      {
        "duration": 12,
        "start_time": "2023-05-11T12:08:32.832Z"
      },
      {
        "duration": 15,
        "start_time": "2023-05-11T12:08:32.846Z"
      },
      {
        "duration": 20,
        "start_time": "2023-05-11T12:08:32.862Z"
      },
      {
        "duration": 72,
        "start_time": "2023-05-11T12:08:32.885Z"
      },
      {
        "duration": 6,
        "start_time": "2023-05-11T12:08:32.959Z"
      },
      {
        "duration": 9,
        "start_time": "2023-05-11T12:08:32.968Z"
      },
      {
        "duration": 22,
        "start_time": "2023-05-11T12:08:32.980Z"
      },
      {
        "duration": 17,
        "start_time": "2023-05-11T12:08:33.004Z"
      },
      {
        "duration": 12,
        "start_time": "2023-05-11T12:08:33.023Z"
      },
      {
        "duration": 7,
        "start_time": "2023-05-11T12:08:33.036Z"
      },
      {
        "duration": 14,
        "start_time": "2023-05-11T12:08:33.045Z"
      },
      {
        "duration": 167,
        "start_time": "2023-05-11T12:08:33.061Z"
      },
      {
        "duration": 9,
        "start_time": "2023-05-11T12:08:33.230Z"
      },
      {
        "duration": 148,
        "start_time": "2023-05-11T12:08:33.241Z"
      },
      {
        "duration": 14,
        "start_time": "2023-05-11T12:08:33.391Z"
      },
      {
        "duration": 17,
        "start_time": "2023-05-11T12:08:33.407Z"
      },
      {
        "duration": 308,
        "start_time": "2023-05-11T12:08:33.426Z"
      },
      {
        "duration": 233,
        "start_time": "2023-05-11T12:08:33.735Z"
      },
      {
        "duration": 402,
        "start_time": "2023-05-11T12:08:33.972Z"
      },
      {
        "duration": 230,
        "start_time": "2023-05-11T12:08:34.376Z"
      },
      {
        "duration": 379,
        "start_time": "2023-05-11T12:08:34.608Z"
      },
      {
        "duration": 11,
        "start_time": "2023-05-11T12:08:34.989Z"
      },
      {
        "duration": 149,
        "start_time": "2023-05-11T12:08:35.002Z"
      },
      {
        "duration": 7,
        "start_time": "2023-05-11T12:08:35.153Z"
      },
      {
        "duration": 167,
        "start_time": "2023-05-11T12:08:35.162Z"
      },
      {
        "duration": 5,
        "start_time": "2023-05-11T12:08:35.331Z"
      },
      {
        "duration": 278,
        "start_time": "2023-05-11T12:08:35.338Z"
      },
      {
        "duration": 201,
        "start_time": "2023-05-11T12:08:35.618Z"
      },
      {
        "duration": 51,
        "start_time": "2023-05-11T12:08:35.821Z"
      },
      {
        "duration": 12,
        "start_time": "2023-05-11T12:08:35.874Z"
      },
      {
        "duration": 16,
        "start_time": "2023-05-11T12:08:35.889Z"
      },
      {
        "duration": 18,
        "start_time": "2023-05-11T12:08:35.908Z"
      },
      {
        "duration": 49,
        "start_time": "2023-05-11T12:08:35.928Z"
      },
      {
        "duration": 23,
        "start_time": "2023-05-11T12:08:35.982Z"
      },
      {
        "duration": 1637,
        "start_time": "2023-05-11T13:02:45.432Z"
      },
      {
        "duration": 4,
        "start_time": "2023-05-11T13:02:47.072Z"
      },
      {
        "duration": 79,
        "start_time": "2023-05-11T13:02:47.078Z"
      },
      {
        "duration": 20,
        "start_time": "2023-05-11T13:02:48.104Z"
      },
      {
        "duration": 3,
        "start_time": "2023-05-11T13:03:09.840Z"
      },
      {
        "duration": 26,
        "start_time": "2023-05-11T13:03:10.024Z"
      },
      {
        "duration": 10,
        "start_time": "2023-05-11T13:03:10.672Z"
      },
      {
        "duration": 3,
        "start_time": "2023-05-11T13:07:23.790Z"
      },
      {
        "duration": 10,
        "start_time": "2023-05-11T13:07:24.315Z"
      },
      {
        "duration": 17,
        "start_time": "2023-05-11T13:09:38.389Z"
      },
      {
        "duration": 25,
        "start_time": "2023-05-11T13:12:15.063Z"
      },
      {
        "duration": 3,
        "start_time": "2023-05-11T13:12:15.660Z"
      },
      {
        "duration": 10,
        "start_time": "2023-05-11T13:12:16.436Z"
      },
      {
        "duration": 20,
        "start_time": "2023-05-11T13:12:19.047Z"
      },
      {
        "duration": 16,
        "start_time": "2023-05-11T13:12:29.478Z"
      },
      {
        "duration": 78,
        "start_time": "2023-05-11T13:28:57.598Z"
      },
      {
        "duration": 13,
        "start_time": "2023-05-11T13:28:58.142Z"
      },
      {
        "duration": 10,
        "start_time": "2023-05-11T13:29:04.376Z"
      },
      {
        "duration": 13,
        "start_time": "2023-05-11T13:29:09.541Z"
      },
      {
        "duration": 96,
        "start_time": "2023-05-11T13:30:24.655Z"
      },
      {
        "duration": 7,
        "start_time": "2023-05-11T13:31:09.487Z"
      },
      {
        "duration": 43,
        "start_time": "2023-05-11T14:33:45.008Z"
      },
      {
        "duration": 14,
        "start_time": "2023-05-11T14:33:45.268Z"
      },
      {
        "duration": 13,
        "start_time": "2023-05-11T14:33:45.833Z"
      },
      {
        "duration": 12,
        "start_time": "2023-05-11T14:33:46.475Z"
      },
      {
        "duration": 6,
        "start_time": "2023-05-11T14:33:49.676Z"
      },
      {
        "duration": 69,
        "start_time": "2023-05-11T14:33:51.936Z"
      },
      {
        "duration": 7,
        "start_time": "2023-05-11T14:34:49.071Z"
      },
      {
        "duration": 23,
        "start_time": "2023-05-11T14:34:50.506Z"
      },
      {
        "duration": 5,
        "start_time": "2023-05-11T14:34:50.786Z"
      },
      {
        "duration": 10,
        "start_time": "2023-05-11T14:34:51.068Z"
      },
      {
        "duration": 11,
        "start_time": "2023-05-11T14:34:51.641Z"
      },
      {
        "duration": 6,
        "start_time": "2023-05-11T14:35:14.554Z"
      },
      {
        "duration": 16,
        "start_time": "2023-05-11T14:35:51.148Z"
      },
      {
        "duration": 7,
        "start_time": "2023-05-11T14:35:51.451Z"
      },
      {
        "duration": 8,
        "start_time": "2023-05-11T14:35:51.707Z"
      },
      {
        "duration": 7,
        "start_time": "2023-05-11T14:42:10.279Z"
      },
      {
        "duration": 205,
        "start_time": "2023-05-11T14:42:10.525Z"
      },
      {
        "duration": 9,
        "start_time": "2023-05-11T14:42:10.732Z"
      },
      {
        "duration": 144,
        "start_time": "2023-05-11T14:42:10.925Z"
      },
      {
        "duration": 9,
        "start_time": "2023-05-11T14:42:11.427Z"
      },
      {
        "duration": 15,
        "start_time": "2023-05-11T14:42:12.501Z"
      },
      {
        "duration": 5,
        "start_time": "2023-05-11T14:45:49.824Z"
      },
      {
        "duration": 6,
        "start_time": "2023-05-11T14:46:28.833Z"
      },
      {
        "duration": 4,
        "start_time": "2023-05-11T14:46:58.267Z"
      },
      {
        "duration": 94,
        "start_time": "2023-05-11T14:49:31.091Z"
      },
      {
        "duration": 77,
        "start_time": "2023-05-11T14:49:36.411Z"
      },
      {
        "duration": 101,
        "start_time": "2023-05-11T14:49:40.324Z"
      },
      {
        "duration": 4,
        "start_time": "2023-05-11T14:49:45.517Z"
      },
      {
        "duration": 148,
        "start_time": "2023-05-11T14:49:51.691Z"
      },
      {
        "duration": 168,
        "start_time": "2023-05-11T14:49:58.187Z"
      },
      {
        "duration": 76,
        "start_time": "2023-05-11T14:50:05.813Z"
      },
      {
        "duration": 80,
        "start_time": "2023-05-11T14:50:10.475Z"
      },
      {
        "duration": 82,
        "start_time": "2023-05-11T14:50:23.924Z"
      },
      {
        "duration": 76,
        "start_time": "2023-05-11T14:50:27.604Z"
      },
      {
        "duration": 113,
        "start_time": "2023-05-11T14:50:35.220Z"
      },
      {
        "duration": 5,
        "start_time": "2023-05-11T14:50:41.462Z"
      },
      {
        "duration": 95,
        "start_time": "2023-05-11T14:52:44.312Z"
      },
      {
        "duration": 6,
        "start_time": "2023-05-11T14:52:58.058Z"
      },
      {
        "duration": 91,
        "start_time": "2023-05-11T14:53:45.552Z"
      },
      {
        "duration": 6,
        "start_time": "2023-05-11T14:53:51.479Z"
      },
      {
        "duration": 84,
        "start_time": "2023-05-11T14:55:05.809Z"
      },
      {
        "duration": 11,
        "start_time": "2023-05-11T14:55:36.575Z"
      },
      {
        "duration": 7,
        "start_time": "2023-05-11T14:56:01.724Z"
      },
      {
        "duration": 12,
        "start_time": "2023-05-11T14:57:06.213Z"
      },
      {
        "duration": 17,
        "start_time": "2023-05-11T14:57:10.557Z"
      },
      {
        "duration": 6,
        "start_time": "2023-05-11T14:57:16.844Z"
      },
      {
        "duration": 10,
        "start_time": "2023-05-11T14:57:53.862Z"
      },
      {
        "duration": 7,
        "start_time": "2023-05-11T14:58:03.846Z"
      },
      {
        "duration": 5,
        "start_time": "2023-05-11T14:58:16.572Z"
      },
      {
        "duration": 5,
        "start_time": "2023-05-11T14:58:24.504Z"
      },
      {
        "duration": 5,
        "start_time": "2023-05-11T14:59:32.478Z"
      },
      {
        "duration": 4,
        "start_time": "2023-05-11T14:59:38.292Z"
      },
      {
        "duration": 5,
        "start_time": "2023-05-11T15:08:14.644Z"
      },
      {
        "duration": 5,
        "start_time": "2023-05-11T15:08:57.156Z"
      },
      {
        "duration": 7,
        "start_time": "2023-05-11T15:09:10.375Z"
      },
      {
        "duration": 9,
        "start_time": "2023-05-11T15:16:41.192Z"
      },
      {
        "duration": 8,
        "start_time": "2023-05-11T15:17:39.390Z"
      },
      {
        "duration": 8,
        "start_time": "2023-05-11T15:22:16.230Z"
      },
      {
        "duration": 383,
        "start_time": "2023-05-11T15:25:08.705Z"
      },
      {
        "duration": 228,
        "start_time": "2023-05-11T15:25:39.285Z"
      },
      {
        "duration": 88,
        "start_time": "2023-05-11T15:26:31.357Z"
      },
      {
        "duration": 225,
        "start_time": "2023-05-11T15:26:47.619Z"
      },
      {
        "duration": 217,
        "start_time": "2023-05-11T15:27:03.797Z"
      },
      {
        "duration": 252,
        "start_time": "2023-05-11T15:27:16.159Z"
      },
      {
        "duration": 227,
        "start_time": "2023-05-11T15:27:24.332Z"
      },
      {
        "duration": 239,
        "start_time": "2023-05-11T15:27:31.382Z"
      },
      {
        "duration": 237,
        "start_time": "2023-05-11T15:27:39.157Z"
      },
      {
        "duration": 327,
        "start_time": "2023-05-11T15:27:54.353Z"
      },
      {
        "duration": 78,
        "start_time": "2023-05-11T15:28:59.782Z"
      },
      {
        "duration": 212,
        "start_time": "2023-05-11T15:29:04.427Z"
      },
      {
        "duration": 347,
        "start_time": "2023-05-11T15:31:39.194Z"
      },
      {
        "duration": 93,
        "start_time": "2023-05-11T15:31:53.930Z"
      },
      {
        "duration": 316,
        "start_time": "2023-05-11T15:31:57.288Z"
      },
      {
        "duration": 344,
        "start_time": "2023-05-11T15:32:10.490Z"
      },
      {
        "duration": 357,
        "start_time": "2023-05-11T15:34:39.877Z"
      },
      {
        "duration": 319,
        "start_time": "2023-05-11T15:34:45.276Z"
      },
      {
        "duration": 247,
        "start_time": "2023-05-11T15:35:29.719Z"
      },
      {
        "duration": 239,
        "start_time": "2023-05-11T15:36:06.950Z"
      },
      {
        "duration": 250,
        "start_time": "2023-05-11T15:36:11.077Z"
      },
      {
        "duration": 256,
        "start_time": "2023-05-11T15:36:19.356Z"
      },
      {
        "duration": 413,
        "start_time": "2023-05-11T15:37:02.865Z"
      },
      {
        "duration": 221,
        "start_time": "2023-05-11T15:39:04.472Z"
      },
      {
        "duration": 257,
        "start_time": "2023-05-11T15:39:18.874Z"
      },
      {
        "duration": 318,
        "start_time": "2023-05-11T15:40:04.197Z"
      },
      {
        "duration": 333,
        "start_time": "2023-05-11T15:40:17.298Z"
      },
      {
        "duration": 307,
        "start_time": "2023-05-11T15:40:24.275Z"
      },
      {
        "duration": 241,
        "start_time": "2023-05-11T15:41:48.493Z"
      },
      {
        "duration": 11,
        "start_time": "2023-05-11T15:43:47.049Z"
      },
      {
        "duration": 1151,
        "start_time": "2023-05-11T15:44:07.387Z"
      },
      {
        "duration": 4,
        "start_time": "2023-05-11T15:44:08.539Z"
      },
      {
        "duration": 29,
        "start_time": "2023-05-11T15:44:08.544Z"
      },
      {
        "duration": 3,
        "start_time": "2023-05-11T15:44:08.574Z"
      },
      {
        "duration": 12,
        "start_time": "2023-05-11T15:44:08.581Z"
      },
      {
        "duration": 13,
        "start_time": "2023-05-11T15:44:08.595Z"
      },
      {
        "duration": 12,
        "start_time": "2023-05-11T15:44:08.610Z"
      },
      {
        "duration": 46,
        "start_time": "2023-05-11T15:44:08.624Z"
      },
      {
        "duration": 13,
        "start_time": "2023-05-11T15:44:08.672Z"
      },
      {
        "duration": 10,
        "start_time": "2023-05-11T15:44:08.687Z"
      },
      {
        "duration": 13,
        "start_time": "2023-05-11T15:44:08.699Z"
      },
      {
        "duration": 7,
        "start_time": "2023-05-11T15:44:08.714Z"
      },
      {
        "duration": 14,
        "start_time": "2023-05-11T15:44:08.722Z"
      },
      {
        "duration": 16,
        "start_time": "2023-05-11T15:44:08.740Z"
      },
      {
        "duration": 10,
        "start_time": "2023-05-11T15:44:08.758Z"
      },
      {
        "duration": 11,
        "start_time": "2023-05-11T15:44:08.770Z"
      },
      {
        "duration": 7,
        "start_time": "2023-05-11T15:44:08.783Z"
      },
      {
        "duration": 15,
        "start_time": "2023-05-11T15:44:08.792Z"
      },
      {
        "duration": 12,
        "start_time": "2023-05-11T15:44:08.809Z"
      },
      {
        "duration": 34,
        "start_time": "2023-05-11T15:44:08.824Z"
      },
      {
        "duration": 8,
        "start_time": "2023-05-11T15:44:08.860Z"
      },
      {
        "duration": 245,
        "start_time": "2023-05-11T15:44:08.870Z"
      },
      {
        "duration": 10,
        "start_time": "2023-05-11T15:44:09.117Z"
      },
      {
        "duration": 158,
        "start_time": "2023-05-11T15:44:09.129Z"
      },
      {
        "duration": 8,
        "start_time": "2023-05-11T15:44:09.289Z"
      },
      {
        "duration": 28,
        "start_time": "2023-05-11T15:44:09.298Z"
      },
      {
        "duration": 10,
        "start_time": "2023-05-11T15:44:09.328Z"
      },
      {
        "duration": 302,
        "start_time": "2023-05-11T15:44:09.340Z"
      },
      {
        "duration": 229,
        "start_time": "2023-05-11T15:44:09.644Z"
      },
      {
        "duration": 339,
        "start_time": "2023-05-11T15:44:09.875Z"
      },
      {
        "duration": 219,
        "start_time": "2023-05-11T15:44:10.217Z"
      },
      {
        "duration": 357,
        "start_time": "2023-05-11T15:44:10.438Z"
      },
      {
        "duration": 11,
        "start_time": "2023-05-11T15:44:10.797Z"
      },
      {
        "duration": 167,
        "start_time": "2023-05-11T15:44:10.810Z"
      },
      {
        "duration": 6,
        "start_time": "2023-05-11T15:44:10.978Z"
      },
      {
        "duration": 176,
        "start_time": "2023-05-11T15:44:10.985Z"
      },
      {
        "duration": 5,
        "start_time": "2023-05-11T15:44:11.163Z"
      },
      {
        "duration": 246,
        "start_time": "2023-05-11T15:44:11.170Z"
      },
      {
        "duration": 135,
        "start_time": "2023-05-11T15:44:11.418Z"
      },
      {
        "duration": 26,
        "start_time": "2023-05-11T15:44:11.556Z"
      },
      {
        "duration": 12,
        "start_time": "2023-05-11T15:44:11.586Z"
      },
      {
        "duration": 12,
        "start_time": "2023-05-11T15:44:11.600Z"
      },
      {
        "duration": 43,
        "start_time": "2023-05-11T15:44:11.614Z"
      },
      {
        "duration": 22,
        "start_time": "2023-05-11T15:44:11.659Z"
      },
      {
        "duration": 17,
        "start_time": "2023-05-11T15:44:11.683Z"
      },
      {
        "duration": 156,
        "start_time": "2023-05-11T15:44:46.152Z"
      },
      {
        "duration": 261,
        "start_time": "2023-05-11T15:47:00.506Z"
      },
      {
        "duration": 169,
        "start_time": "2023-05-11T15:48:03.324Z"
      },
      {
        "duration": 147,
        "start_time": "2023-05-11T15:49:10.485Z"
      },
      {
        "duration": 154,
        "start_time": "2023-05-11T15:49:14.455Z"
      },
      {
        "duration": 171,
        "start_time": "2023-05-11T15:50:23.799Z"
      },
      {
        "duration": 165,
        "start_time": "2023-05-11T15:50:53.345Z"
      },
      {
        "duration": 167,
        "start_time": "2023-05-11T15:51:24.040Z"
      },
      {
        "duration": 160,
        "start_time": "2023-05-11T15:51:40.625Z"
      },
      {
        "duration": 184,
        "start_time": "2023-05-11T15:52:22.922Z"
      },
      {
        "duration": 192,
        "start_time": "2023-05-11T16:11:43.139Z"
      },
      {
        "duration": 188,
        "start_time": "2023-05-11T16:11:56.057Z"
      },
      {
        "duration": 183,
        "start_time": "2023-05-11T16:12:21.986Z"
      },
      {
        "duration": 305,
        "start_time": "2023-05-11T16:12:57.151Z"
      },
      {
        "duration": 186,
        "start_time": "2023-05-11T16:15:13.157Z"
      },
      {
        "duration": 174,
        "start_time": "2023-05-11T16:15:58.438Z"
      },
      {
        "duration": 176,
        "start_time": "2023-05-11T16:16:16.593Z"
      },
      {
        "duration": 178,
        "start_time": "2023-05-11T16:16:24.343Z"
      },
      {
        "duration": 190,
        "start_time": "2023-05-11T16:17:08.402Z"
      },
      {
        "duration": 171,
        "start_time": "2023-05-11T16:17:57.447Z"
      },
      {
        "duration": 158,
        "start_time": "2023-05-11T16:18:09.410Z"
      },
      {
        "duration": 183,
        "start_time": "2023-05-11T16:18:45.938Z"
      },
      {
        "duration": 172,
        "start_time": "2023-05-11T16:19:28.591Z"
      },
      {
        "duration": 93,
        "start_time": "2023-05-11T20:07:13.122Z"
      },
      {
        "duration": 72,
        "start_time": "2023-05-11T20:07:16.487Z"
      },
      {
        "duration": 74,
        "start_time": "2023-05-11T20:07:28.901Z"
      },
      {
        "duration": 94,
        "start_time": "2023-05-11T20:07:47.221Z"
      },
      {
        "duration": 24,
        "start_time": "2023-05-11T20:07:50.892Z"
      },
      {
        "duration": 25,
        "start_time": "2023-05-11T20:08:02.682Z"
      },
      {
        "duration": 25,
        "start_time": "2023-05-11T20:08:26.720Z"
      },
      {
        "duration": 11,
        "start_time": "2023-05-11T20:18:15.848Z"
      },
      {
        "duration": 10,
        "start_time": "2023-05-11T20:19:51.330Z"
      },
      {
        "duration": 11,
        "start_time": "2023-05-11T20:20:02.055Z"
      },
      {
        "duration": 11,
        "start_time": "2023-05-11T20:20:05.097Z"
      },
      {
        "duration": 10,
        "start_time": "2023-05-11T20:22:43.641Z"
      },
      {
        "duration": 12,
        "start_time": "2023-05-11T20:30:02.382Z"
      },
      {
        "duration": 9,
        "start_time": "2023-05-11T20:33:45.059Z"
      },
      {
        "duration": 9,
        "start_time": "2023-05-11T20:36:09.560Z"
      },
      {
        "duration": 23,
        "start_time": "2023-05-11T20:36:18.165Z"
      },
      {
        "duration": 19,
        "start_time": "2023-05-11T20:43:39.944Z"
      },
      {
        "duration": 21,
        "start_time": "2023-05-11T20:44:05.184Z"
      },
      {
        "duration": 15,
        "start_time": "2023-05-11T20:50:31.279Z"
      },
      {
        "duration": 79,
        "start_time": "2023-05-11T20:50:50.876Z"
      },
      {
        "duration": 14,
        "start_time": "2023-05-11T20:51:09.495Z"
      },
      {
        "duration": 15,
        "start_time": "2023-05-11T20:51:22.481Z"
      },
      {
        "duration": 1148,
        "start_time": "2023-05-11T21:11:45.474Z"
      },
      {
        "duration": 3,
        "start_time": "2023-05-11T21:11:46.624Z"
      },
      {
        "duration": 31,
        "start_time": "2023-05-11T21:11:46.628Z"
      },
      {
        "duration": 3,
        "start_time": "2023-05-11T21:11:46.660Z"
      },
      {
        "duration": 11,
        "start_time": "2023-05-11T21:11:46.666Z"
      },
      {
        "duration": 12,
        "start_time": "2023-05-11T21:11:46.678Z"
      },
      {
        "duration": 15,
        "start_time": "2023-05-11T21:11:46.691Z"
      },
      {
        "duration": 33,
        "start_time": "2023-05-11T21:11:46.708Z"
      },
      {
        "duration": 11,
        "start_time": "2023-05-11T21:11:46.743Z"
      },
      {
        "duration": 18,
        "start_time": "2023-05-11T21:11:46.756Z"
      },
      {
        "duration": 19,
        "start_time": "2023-05-11T21:11:46.775Z"
      },
      {
        "duration": 16,
        "start_time": "2023-05-11T21:11:46.795Z"
      },
      {
        "duration": 14,
        "start_time": "2023-05-11T21:11:46.813Z"
      },
      {
        "duration": 19,
        "start_time": "2023-05-11T21:11:46.830Z"
      },
      {
        "duration": 18,
        "start_time": "2023-05-11T21:11:46.851Z"
      },
      {
        "duration": 18,
        "start_time": "2023-05-11T21:11:46.871Z"
      },
      {
        "duration": 15,
        "start_time": "2023-05-11T21:11:46.890Z"
      },
      {
        "duration": 14,
        "start_time": "2023-05-11T21:11:46.906Z"
      },
      {
        "duration": 15,
        "start_time": "2023-05-11T21:11:46.921Z"
      },
      {
        "duration": 18,
        "start_time": "2023-05-11T21:11:46.937Z"
      },
      {
        "duration": 10,
        "start_time": "2023-05-11T21:11:46.956Z"
      },
      {
        "duration": 171,
        "start_time": "2023-05-11T21:11:46.968Z"
      },
      {
        "duration": 15,
        "start_time": "2023-05-11T21:11:47.141Z"
      },
      {
        "duration": 147,
        "start_time": "2023-05-11T21:11:47.158Z"
      },
      {
        "duration": 8,
        "start_time": "2023-05-11T21:11:47.307Z"
      },
      {
        "duration": 17,
        "start_time": "2023-05-11T21:11:47.316Z"
      },
      {
        "duration": 27,
        "start_time": "2023-05-11T21:11:47.335Z"
      },
      {
        "duration": 320,
        "start_time": "2023-05-11T21:11:47.364Z"
      },
      {
        "duration": 223,
        "start_time": "2023-05-11T21:11:47.686Z"
      },
      {
        "duration": 301,
        "start_time": "2023-05-11T21:11:47.910Z"
      },
      {
        "duration": 227,
        "start_time": "2023-05-11T21:11:48.213Z"
      },
      {
        "duration": 326,
        "start_time": "2023-05-11T21:11:48.442Z"
      },
      {
        "duration": 11,
        "start_time": "2023-05-11T21:11:48.770Z"
      },
      {
        "duration": 231,
        "start_time": "2023-05-11T21:11:48.782Z"
      },
      {
        "duration": 5,
        "start_time": "2023-05-11T21:11:49.014Z"
      },
      {
        "duration": 187,
        "start_time": "2023-05-11T21:11:49.021Z"
      },
      {
        "duration": 181,
        "start_time": "2023-05-11T21:11:49.210Z"
      },
      {
        "duration": 5,
        "start_time": "2023-05-11T21:11:49.393Z"
      },
      {
        "duration": 320,
        "start_time": "2023-05-11T21:11:49.400Z"
      },
      {
        "duration": 138,
        "start_time": "2023-05-11T21:11:49.722Z"
      },
      {
        "duration": 24,
        "start_time": "2023-05-11T21:11:49.863Z"
      },
      {
        "duration": 26,
        "start_time": "2023-05-11T21:11:49.889Z"
      },
      {
        "duration": 12,
        "start_time": "2023-05-11T21:11:49.917Z"
      },
      {
        "duration": 11,
        "start_time": "2023-05-11T21:11:49.957Z"
      },
      {
        "duration": 9,
        "start_time": "2023-05-11T21:11:49.970Z"
      },
      {
        "duration": 10,
        "start_time": "2023-05-11T21:11:49.981Z"
      },
      {
        "duration": 9,
        "start_time": "2023-05-11T21:11:49.993Z"
      },
      {
        "duration": 11,
        "start_time": "2023-05-11T21:11:50.004Z"
      },
      {
        "duration": 57,
        "start_time": "2023-05-11T21:11:50.017Z"
      },
      {
        "duration": 22,
        "start_time": "2023-05-11T21:11:50.075Z"
      },
      {
        "duration": 26,
        "start_time": "2023-05-11T21:11:50.099Z"
      },
      {
        "duration": 17,
        "start_time": "2023-05-11T21:11:50.126Z"
      },
      {
        "duration": 302,
        "start_time": "2023-05-11T21:18:45.780Z"
      },
      {
        "duration": 278,
        "start_time": "2023-05-11T21:19:01.098Z"
      },
      {
        "duration": 283,
        "start_time": "2023-05-11T21:19:08.897Z"
      },
      {
        "duration": 342,
        "start_time": "2023-05-11T21:19:25.641Z"
      },
      {
        "duration": 334,
        "start_time": "2023-05-11T21:23:54.624Z"
      },
      {
        "duration": 327,
        "start_time": "2023-05-11T21:24:41.173Z"
      },
      {
        "duration": 335,
        "start_time": "2023-05-11T21:24:53.024Z"
      },
      {
        "duration": 147,
        "start_time": "2023-05-11T21:26:14.755Z"
      },
      {
        "duration": 1399,
        "start_time": "2023-05-11T22:33:19.353Z"
      },
      {
        "duration": 2,
        "start_time": "2023-05-11T22:33:20.755Z"
      },
      {
        "duration": 68,
        "start_time": "2023-05-11T22:33:20.759Z"
      },
      {
        "duration": 3,
        "start_time": "2023-05-11T22:33:20.829Z"
      },
      {
        "duration": 17,
        "start_time": "2023-05-11T22:33:20.835Z"
      },
      {
        "duration": 12,
        "start_time": "2023-05-11T22:33:20.854Z"
      },
      {
        "duration": 15,
        "start_time": "2023-05-11T22:33:20.868Z"
      },
      {
        "duration": 86,
        "start_time": "2023-05-11T22:33:20.884Z"
      },
      {
        "duration": 22,
        "start_time": "2023-05-11T22:33:20.972Z"
      },
      {
        "duration": 23,
        "start_time": "2023-05-11T22:33:20.998Z"
      },
      {
        "duration": 24,
        "start_time": "2023-05-11T22:33:21.022Z"
      },
      {
        "duration": 8,
        "start_time": "2023-05-11T22:33:21.047Z"
      },
      {
        "duration": 92,
        "start_time": "2023-05-11T22:33:21.057Z"
      },
      {
        "duration": 5,
        "start_time": "2023-05-11T22:33:21.150Z"
      },
      {
        "duration": 10,
        "start_time": "2023-05-11T22:33:21.156Z"
      },
      {
        "duration": 16,
        "start_time": "2023-05-11T22:33:21.167Z"
      },
      {
        "duration": 7,
        "start_time": "2023-05-11T22:33:21.188Z"
      },
      {
        "duration": 15,
        "start_time": "2023-05-11T22:33:21.197Z"
      },
      {
        "duration": 10,
        "start_time": "2023-05-11T22:33:21.214Z"
      },
      {
        "duration": 6,
        "start_time": "2023-05-11T22:33:21.226Z"
      },
      {
        "duration": 5,
        "start_time": "2023-05-11T22:33:21.234Z"
      },
      {
        "duration": 191,
        "start_time": "2023-05-11T22:33:21.241Z"
      },
      {
        "duration": 9,
        "start_time": "2023-05-11T22:33:21.434Z"
      },
      {
        "duration": 144,
        "start_time": "2023-05-11T22:33:21.444Z"
      },
      {
        "duration": 9,
        "start_time": "2023-05-11T22:33:21.590Z"
      },
      {
        "duration": 40,
        "start_time": "2023-05-11T22:33:21.601Z"
      },
      {
        "duration": 9,
        "start_time": "2023-05-11T22:33:21.643Z"
      },
      {
        "duration": 332,
        "start_time": "2023-05-11T22:33:21.656Z"
      },
      {
        "duration": 239,
        "start_time": "2023-05-11T22:33:21.990Z"
      },
      {
        "duration": 382,
        "start_time": "2023-05-11T22:33:22.231Z"
      },
      {
        "duration": 237,
        "start_time": "2023-05-11T22:33:22.614Z"
      },
      {
        "duration": 363,
        "start_time": "2023-05-11T22:33:22.852Z"
      },
      {
        "duration": 9,
        "start_time": "2023-05-11T22:33:23.217Z"
      },
      {
        "duration": 179,
        "start_time": "2023-05-11T22:33:23.227Z"
      },
      {
        "duration": 6,
        "start_time": "2023-05-11T22:33:23.408Z"
      },
      {
        "duration": 200,
        "start_time": "2023-05-11T22:33:23.416Z"
      },
      {
        "duration": 204,
        "start_time": "2023-05-11T22:33:23.618Z"
      },
      {
        "duration": 5,
        "start_time": "2023-05-11T22:33:23.823Z"
      },
      {
        "duration": 350,
        "start_time": "2023-05-11T22:33:23.831Z"
      },
      {
        "duration": 176,
        "start_time": "2023-05-11T22:33:24.194Z"
      },
      {
        "duration": 34,
        "start_time": "2023-05-11T22:33:24.373Z"
      },
      {
        "duration": 29,
        "start_time": "2023-05-11T22:33:24.408Z"
      },
      {
        "duration": 10,
        "start_time": "2023-05-11T22:33:24.439Z"
      },
      {
        "duration": 40,
        "start_time": "2023-05-11T22:33:24.451Z"
      },
      {
        "duration": 39,
        "start_time": "2023-05-11T22:33:24.493Z"
      },
      {
        "duration": 22,
        "start_time": "2023-05-11T22:33:24.534Z"
      },
      {
        "duration": 34,
        "start_time": "2023-05-11T22:33:24.557Z"
      },
      {
        "duration": 12,
        "start_time": "2023-05-11T22:33:24.595Z"
      },
      {
        "duration": 33,
        "start_time": "2023-05-11T22:33:24.609Z"
      },
      {
        "duration": 20,
        "start_time": "2023-05-11T22:33:24.643Z"
      },
      {
        "duration": 13,
        "start_time": "2023-05-11T22:33:24.665Z"
      },
      {
        "duration": 54,
        "start_time": "2023-05-11T22:33:24.679Z"
      }
    ],
    "kernelspec": {
      "display_name": "Python 3 (ipykernel)",
      "language": "python",
      "name": "python3"
    },
    "language_info": {
      "codemirror_mode": {
        "name": "ipython",
        "version": 3
      },
      "file_extension": ".py",
      "mimetype": "text/x-python",
      "name": "python",
      "nbconvert_exporter": "python",
      "pygments_lexer": "ipython3",
      "version": "3.9.5"
    },
    "toc": {
      "base_numbering": 1,
      "nav_menu": {},
      "number_sections": true,
      "sideBar": true,
      "skip_h1_title": true,
      "title_cell": "Table of Contents",
      "title_sidebar": "Contents",
      "toc_cell": false,
      "toc_position": {
        "height": "calc(100% - 180px)",
        "left": "10px",
        "top": "150px",
        "width": "345.391px"
      },
      "toc_section_display": true,
      "toc_window_display": true
    },
    "colab": {
      "provenance": [],
      "toc_visible": true
    }
  },
  "nbformat": 4,
  "nbformat_minor": 0
}