{
  "cells": [
    {
      "cell_type": "markdown",
      "id": "8a4bca55",
      "metadata": {
        "deletable": false,
        "editable": false,
        "id": "8a4bca55"
      },
      "source": [
        "# Исследование надежности заемщиков\n"
      ]
    },
    {
      "cell_type": "markdown",
      "source": [
        ">[Исследование надежности заемщиков](#scrollTo=8a4bca55)\n",
        "\n",
        ">>[Шаг 1. Откройте таблицу и изучите общую информацию о данных](#scrollTo=cc2556d1)\n",
        "\n",
        ">>[Шаг 2. Предобработка данных](#scrollTo=2ce073bb)\n",
        "\n",
        ">>>[Удаление пропусков](#scrollTo=c6dc5bb4)\n",
        "\n",
        ">>>[Обработка аномальных значений](#scrollTo=343e4aaa)\n",
        "\n",
        ">>>[Удаление пропусков (продолжение)](#scrollTo=fdd026fa)\n",
        "\n",
        ">>>[Изменение типов данных](#scrollTo=eb274538)\n",
        "\n",
        ">>>[Обработка дубликатов](#scrollTo=56510894)\n",
        "\n",
        ">>>[Категоризация данных](#scrollTo=178164a5)\n",
        "\n",
        ">>[Шаг 3. Исследуйте данные и ответьте на вопросы](#scrollTo=e1512691)\n",
        "\n",
        ">>>>[3.1 Есть ли зависимость между количеством детей и возвратом кредита в срок?](#scrollTo=a7f0cf20)\n",
        "\n",
        ">>>>[3.2 Есть ли зависимость между семейным положением и возвратом кредита в срок?](#scrollTo=a86c41fb)\n",
        "\n",
        ">>>>[3.3 Есть ли зависимость между уровнем дохода и возвратом кредита в срок?](#scrollTo=6f2d99ac)\n",
        "\n",
        ">>>>[3.4 Как разные цели кредита влияют на его возврат в срок?](#scrollTo=052eff6c)\n",
        "\n",
        ">>>>[3.5 Приведите возможные причины появления пропусков в исходных данных.](#scrollTo=590d4639)\n",
        "\n",
        ">>>>[3.6 Объясните, почему заполнить пропуски медианным значением — лучшее решение для количественных переменных.](#scrollTo=6d7f3b07)\n",
        "\n",
        ">>[Шаг 4: общий вывод.](#scrollTo=65f50b41)\n",
        "\n"
      ],
      "metadata": {
        "colab_type": "toc",
        "id": "k3N1-cFkz5Hs"
      },
      "id": "k3N1-cFkz5Hs"
    },
    {
      "cell_type": "markdown",
      "source": [
        "Заказчик — кредитный отдел банка. Нужно разобраться, влияет ли семейное положение и количество детей клиента на факт погашения кредита в срок. Входные данные от банка — статистика о платёжеспособности клиентов. Результаты исследования будут учтены при построении модели кредитного скоринга — специальной системы, которая оценивает способность потенциального заёмщика вернуть кредит банку.\n",
        "\n",
        "Основная цель проекта: определить как различные данные клиента банка, такие как количество детей, семейное положение, уровень дохода и разные цели кредита, влияют на его возврат в срок. Эта информация понадобится в дальнейшем для определения основных критериев, по которым будут выдаваться кредиты.\n",
        "\n",
        "Для начала исходную таблицу нужно привести в такой вид, чтобы с ней было комфортно работать. Для этого необходимо произвести предобработку данных, чтобы затем перейти к анализу данных с целью обнаружения закономерностей, которые полностью бы отвечали на вопросы, поднятые в основной цели проекта."
      ],
      "metadata": {
        "id": "IIeUSETXR5rh"
      },
      "id": "IIeUSETXR5rh"
    },
    {
      "cell_type": "markdown",
      "id": "cc2556d1",
      "metadata": {
        "deletable": false,
        "editable": false,
        "id": "cc2556d1"
      },
      "source": [
        "## Шаг 1. Откройте таблицу и изучите общую информацию о данных"
      ]
    },
    {
      "cell_type": "markdown",
      "id": "c3232a50",
      "metadata": {
        "deletable": false,
        "editable": false,
        "id": "c3232a50"
      },
      "source": [
        "**Импортируйте библиотеку pandas. Считайте данные из csv-файла в датафрейм и сохраните в переменную `data`. Путь к файлу:**\n",
        "\n",
        "`/datasets/data.csv`"
      ]
    },
    {
      "cell_type": "code",
      "execution_count": null,
      "id": "5ea8efab",
      "metadata": {
        "deletable": false,
        "id": "5ea8efab"
      },
      "outputs": [],
      "source": [
        "import pandas as pd"
      ]
    },
    {
      "cell_type": "code",
      "execution_count": null,
      "id": "de8a61b9",
      "metadata": {
        "id": "de8a61b9"
      },
      "outputs": [],
      "source": [
        "data = pd.read_csv('/datasets/data.csv')"
      ]
    },
    {
      "cell_type": "markdown",
      "id": "5f12bb2b",
      "metadata": {
        "deletable": false,
        "editable": false,
        "id": "5f12bb2b"
      },
      "source": [
        "**Выведите первые 20 строчек датафрейма `data` на экран.**"
      ]
    },
    {
      "cell_type": "code",
      "execution_count": null,
      "id": "276d6d8f",
      "metadata": {
        "deletable": false,
        "id": "276d6d8f",
        "outputId": "90ece36c-5111-4d77-bc92-997584e2568a",
        "colab": {
          "base_uri": "https://localhost:8080/",
          "height": 677
        }
      },
      "outputs": [
        {
          "output_type": "execute_result",
          "data": {
            "text/plain": [
              "    children  days_employed  dob_years            education  education_id  \\\n",
              "0          1   -8437.673028         42               высшее             0   \n",
              "1          1   -4024.803754         36              среднее             1   \n",
              "2          0   -5623.422610         33              Среднее             1   \n",
              "3          3   -4124.747207         32              среднее             1   \n",
              "4          0  340266.072047         53              среднее             1   \n",
              "5          0    -926.185831         27               высшее             0   \n",
              "6          0   -2879.202052         43               высшее             0   \n",
              "7          0    -152.779569         50              СРЕДНЕЕ             1   \n",
              "8          2   -6929.865299         35               ВЫСШЕЕ             0   \n",
              "9          0   -2188.756445         41              среднее             1   \n",
              "10         2   -4171.483647         36               высшее             0   \n",
              "11         0    -792.701887         40              среднее             1   \n",
              "12         0            NaN         65              среднее             1   \n",
              "13         0   -1846.641941         54  неоконченное высшее             2   \n",
              "14         0   -1844.956182         56               высшее             0   \n",
              "15         1    -972.364419         26              среднее             1   \n",
              "16         0   -1719.934226         35              среднее             1   \n",
              "17         0   -2369.999720         33               высшее             0   \n",
              "18         0  400281.136913         53              среднее             1   \n",
              "19         0  -10038.818549         48              СРЕДНЕЕ             1   \n",
              "\n",
              "       family_status  family_status_id gender income_type  debt  \\\n",
              "0    женат / замужем                 0      F   сотрудник     0   \n",
              "1    женат / замужем                 0      F   сотрудник     0   \n",
              "2    женат / замужем                 0      M   сотрудник     0   \n",
              "3    женат / замужем                 0      M   сотрудник     0   \n",
              "4   гражданский брак                 1      F   пенсионер     0   \n",
              "5   гражданский брак                 1      M   компаньон     0   \n",
              "6    женат / замужем                 0      F   компаньон     0   \n",
              "7    женат / замужем                 0      M   сотрудник     0   \n",
              "8   гражданский брак                 1      F   сотрудник     0   \n",
              "9    женат / замужем                 0      M   сотрудник     0   \n",
              "10   женат / замужем                 0      M   компаньон     0   \n",
              "11   женат / замужем                 0      F   сотрудник     0   \n",
              "12  гражданский брак                 1      M   пенсионер     0   \n",
              "13   женат / замужем                 0      F   сотрудник     0   \n",
              "14  гражданский брак                 1      F   компаньон     1   \n",
              "15   женат / замужем                 0      F   сотрудник     0   \n",
              "16   женат / замужем                 0      F   сотрудник     0   \n",
              "17  гражданский брак                 1      M   сотрудник     0   \n",
              "18    вдовец / вдова                 2      F   пенсионер     0   \n",
              "19         в разводе                 3      F   сотрудник     0   \n",
              "\n",
              "     total_income                                 purpose  \n",
              "0   253875.639453                           покупка жилья  \n",
              "1   112080.014102                 приобретение автомобиля  \n",
              "2   145885.952297                           покупка жилья  \n",
              "3   267628.550329              дополнительное образование  \n",
              "4   158616.077870                         сыграть свадьбу  \n",
              "5   255763.565419                           покупка жилья  \n",
              "6   240525.971920                       операции с жильем  \n",
              "7   135823.934197                             образование  \n",
              "8    95856.832424                   на проведение свадьбы  \n",
              "9   144425.938277                 покупка жилья для семьи  \n",
              "10  113943.491460                    покупка недвижимости  \n",
              "11   77069.234271       покупка коммерческой недвижимости  \n",
              "12            NaN                         сыграть свадьбу  \n",
              "13  130458.228857                 приобретение автомобиля  \n",
              "14  165127.911772              покупка жилой недвижимости  \n",
              "15  116820.904450  строительство собственной недвижимости  \n",
              "16  289202.704229                            недвижимость  \n",
              "17   90410.586745              строительство недвижимости  \n",
              "18   56823.777243      на покупку подержанного автомобиля  \n",
              "19  242831.107982            на покупку своего автомобиля  "
            ],
            "text/html": [
              "\n",
              "  <div id=\"df-e066067f-b363-4365-a7af-cbf9b9ff9927\" class=\"colab-df-container\">\n",
              "    <div>\n",
              "<style scoped>\n",
              "    .dataframe tbody tr th:only-of-type {\n",
              "        vertical-align: middle;\n",
              "    }\n",
              "\n",
              "    .dataframe tbody tr th {\n",
              "        vertical-align: top;\n",
              "    }\n",
              "\n",
              "    .dataframe thead th {\n",
              "        text-align: right;\n",
              "    }\n",
              "</style>\n",
              "<table border=\"1\" class=\"dataframe\">\n",
              "  <thead>\n",
              "    <tr style=\"text-align: right;\">\n",
              "      <th></th>\n",
              "      <th>children</th>\n",
              "      <th>days_employed</th>\n",
              "      <th>dob_years</th>\n",
              "      <th>education</th>\n",
              "      <th>education_id</th>\n",
              "      <th>family_status</th>\n",
              "      <th>family_status_id</th>\n",
              "      <th>gender</th>\n",
              "      <th>income_type</th>\n",
              "      <th>debt</th>\n",
              "      <th>total_income</th>\n",
              "      <th>purpose</th>\n",
              "    </tr>\n",
              "  </thead>\n",
              "  <tbody>\n",
              "    <tr>\n",
              "      <th>0</th>\n",
              "      <td>1</td>\n",
              "      <td>-8437.673028</td>\n",
              "      <td>42</td>\n",
              "      <td>высшее</td>\n",
              "      <td>0</td>\n",
              "      <td>женат / замужем</td>\n",
              "      <td>0</td>\n",
              "      <td>F</td>\n",
              "      <td>сотрудник</td>\n",
              "      <td>0</td>\n",
              "      <td>253875.639453</td>\n",
              "      <td>покупка жилья</td>\n",
              "    </tr>\n",
              "    <tr>\n",
              "      <th>1</th>\n",
              "      <td>1</td>\n",
              "      <td>-4024.803754</td>\n",
              "      <td>36</td>\n",
              "      <td>среднее</td>\n",
              "      <td>1</td>\n",
              "      <td>женат / замужем</td>\n",
              "      <td>0</td>\n",
              "      <td>F</td>\n",
              "      <td>сотрудник</td>\n",
              "      <td>0</td>\n",
              "      <td>112080.014102</td>\n",
              "      <td>приобретение автомобиля</td>\n",
              "    </tr>\n",
              "    <tr>\n",
              "      <th>2</th>\n",
              "      <td>0</td>\n",
              "      <td>-5623.422610</td>\n",
              "      <td>33</td>\n",
              "      <td>Среднее</td>\n",
              "      <td>1</td>\n",
              "      <td>женат / замужем</td>\n",
              "      <td>0</td>\n",
              "      <td>M</td>\n",
              "      <td>сотрудник</td>\n",
              "      <td>0</td>\n",
              "      <td>145885.952297</td>\n",
              "      <td>покупка жилья</td>\n",
              "    </tr>\n",
              "    <tr>\n",
              "      <th>3</th>\n",
              "      <td>3</td>\n",
              "      <td>-4124.747207</td>\n",
              "      <td>32</td>\n",
              "      <td>среднее</td>\n",
              "      <td>1</td>\n",
              "      <td>женат / замужем</td>\n",
              "      <td>0</td>\n",
              "      <td>M</td>\n",
              "      <td>сотрудник</td>\n",
              "      <td>0</td>\n",
              "      <td>267628.550329</td>\n",
              "      <td>дополнительное образование</td>\n",
              "    </tr>\n",
              "    <tr>\n",
              "      <th>4</th>\n",
              "      <td>0</td>\n",
              "      <td>340266.072047</td>\n",
              "      <td>53</td>\n",
              "      <td>среднее</td>\n",
              "      <td>1</td>\n",
              "      <td>гражданский брак</td>\n",
              "      <td>1</td>\n",
              "      <td>F</td>\n",
              "      <td>пенсионер</td>\n",
              "      <td>0</td>\n",
              "      <td>158616.077870</td>\n",
              "      <td>сыграть свадьбу</td>\n",
              "    </tr>\n",
              "    <tr>\n",
              "      <th>5</th>\n",
              "      <td>0</td>\n",
              "      <td>-926.185831</td>\n",
              "      <td>27</td>\n",
              "      <td>высшее</td>\n",
              "      <td>0</td>\n",
              "      <td>гражданский брак</td>\n",
              "      <td>1</td>\n",
              "      <td>M</td>\n",
              "      <td>компаньон</td>\n",
              "      <td>0</td>\n",
              "      <td>255763.565419</td>\n",
              "      <td>покупка жилья</td>\n",
              "    </tr>\n",
              "    <tr>\n",
              "      <th>6</th>\n",
              "      <td>0</td>\n",
              "      <td>-2879.202052</td>\n",
              "      <td>43</td>\n",
              "      <td>высшее</td>\n",
              "      <td>0</td>\n",
              "      <td>женат / замужем</td>\n",
              "      <td>0</td>\n",
              "      <td>F</td>\n",
              "      <td>компаньон</td>\n",
              "      <td>0</td>\n",
              "      <td>240525.971920</td>\n",
              "      <td>операции с жильем</td>\n",
              "    </tr>\n",
              "    <tr>\n",
              "      <th>7</th>\n",
              "      <td>0</td>\n",
              "      <td>-152.779569</td>\n",
              "      <td>50</td>\n",
              "      <td>СРЕДНЕЕ</td>\n",
              "      <td>1</td>\n",
              "      <td>женат / замужем</td>\n",
              "      <td>0</td>\n",
              "      <td>M</td>\n",
              "      <td>сотрудник</td>\n",
              "      <td>0</td>\n",
              "      <td>135823.934197</td>\n",
              "      <td>образование</td>\n",
              "    </tr>\n",
              "    <tr>\n",
              "      <th>8</th>\n",
              "      <td>2</td>\n",
              "      <td>-6929.865299</td>\n",
              "      <td>35</td>\n",
              "      <td>ВЫСШЕЕ</td>\n",
              "      <td>0</td>\n",
              "      <td>гражданский брак</td>\n",
              "      <td>1</td>\n",
              "      <td>F</td>\n",
              "      <td>сотрудник</td>\n",
              "      <td>0</td>\n",
              "      <td>95856.832424</td>\n",
              "      <td>на проведение свадьбы</td>\n",
              "    </tr>\n",
              "    <tr>\n",
              "      <th>9</th>\n",
              "      <td>0</td>\n",
              "      <td>-2188.756445</td>\n",
              "      <td>41</td>\n",
              "      <td>среднее</td>\n",
              "      <td>1</td>\n",
              "      <td>женат / замужем</td>\n",
              "      <td>0</td>\n",
              "      <td>M</td>\n",
              "      <td>сотрудник</td>\n",
              "      <td>0</td>\n",
              "      <td>144425.938277</td>\n",
              "      <td>покупка жилья для семьи</td>\n",
              "    </tr>\n",
              "    <tr>\n",
              "      <th>10</th>\n",
              "      <td>2</td>\n",
              "      <td>-4171.483647</td>\n",
              "      <td>36</td>\n",
              "      <td>высшее</td>\n",
              "      <td>0</td>\n",
              "      <td>женат / замужем</td>\n",
              "      <td>0</td>\n",
              "      <td>M</td>\n",
              "      <td>компаньон</td>\n",
              "      <td>0</td>\n",
              "      <td>113943.491460</td>\n",
              "      <td>покупка недвижимости</td>\n",
              "    </tr>\n",
              "    <tr>\n",
              "      <th>11</th>\n",
              "      <td>0</td>\n",
              "      <td>-792.701887</td>\n",
              "      <td>40</td>\n",
              "      <td>среднее</td>\n",
              "      <td>1</td>\n",
              "      <td>женат / замужем</td>\n",
              "      <td>0</td>\n",
              "      <td>F</td>\n",
              "      <td>сотрудник</td>\n",
              "      <td>0</td>\n",
              "      <td>77069.234271</td>\n",
              "      <td>покупка коммерческой недвижимости</td>\n",
              "    </tr>\n",
              "    <tr>\n",
              "      <th>12</th>\n",
              "      <td>0</td>\n",
              "      <td>NaN</td>\n",
              "      <td>65</td>\n",
              "      <td>среднее</td>\n",
              "      <td>1</td>\n",
              "      <td>гражданский брак</td>\n",
              "      <td>1</td>\n",
              "      <td>M</td>\n",
              "      <td>пенсионер</td>\n",
              "      <td>0</td>\n",
              "      <td>NaN</td>\n",
              "      <td>сыграть свадьбу</td>\n",
              "    </tr>\n",
              "    <tr>\n",
              "      <th>13</th>\n",
              "      <td>0</td>\n",
              "      <td>-1846.641941</td>\n",
              "      <td>54</td>\n",
              "      <td>неоконченное высшее</td>\n",
              "      <td>2</td>\n",
              "      <td>женат / замужем</td>\n",
              "      <td>0</td>\n",
              "      <td>F</td>\n",
              "      <td>сотрудник</td>\n",
              "      <td>0</td>\n",
              "      <td>130458.228857</td>\n",
              "      <td>приобретение автомобиля</td>\n",
              "    </tr>\n",
              "    <tr>\n",
              "      <th>14</th>\n",
              "      <td>0</td>\n",
              "      <td>-1844.956182</td>\n",
              "      <td>56</td>\n",
              "      <td>высшее</td>\n",
              "      <td>0</td>\n",
              "      <td>гражданский брак</td>\n",
              "      <td>1</td>\n",
              "      <td>F</td>\n",
              "      <td>компаньон</td>\n",
              "      <td>1</td>\n",
              "      <td>165127.911772</td>\n",
              "      <td>покупка жилой недвижимости</td>\n",
              "    </tr>\n",
              "    <tr>\n",
              "      <th>15</th>\n",
              "      <td>1</td>\n",
              "      <td>-972.364419</td>\n",
              "      <td>26</td>\n",
              "      <td>среднее</td>\n",
              "      <td>1</td>\n",
              "      <td>женат / замужем</td>\n",
              "      <td>0</td>\n",
              "      <td>F</td>\n",
              "      <td>сотрудник</td>\n",
              "      <td>0</td>\n",
              "      <td>116820.904450</td>\n",
              "      <td>строительство собственной недвижимости</td>\n",
              "    </tr>\n",
              "    <tr>\n",
              "      <th>16</th>\n",
              "      <td>0</td>\n",
              "      <td>-1719.934226</td>\n",
              "      <td>35</td>\n",
              "      <td>среднее</td>\n",
              "      <td>1</td>\n",
              "      <td>женат / замужем</td>\n",
              "      <td>0</td>\n",
              "      <td>F</td>\n",
              "      <td>сотрудник</td>\n",
              "      <td>0</td>\n",
              "      <td>289202.704229</td>\n",
              "      <td>недвижимость</td>\n",
              "    </tr>\n",
              "    <tr>\n",
              "      <th>17</th>\n",
              "      <td>0</td>\n",
              "      <td>-2369.999720</td>\n",
              "      <td>33</td>\n",
              "      <td>высшее</td>\n",
              "      <td>0</td>\n",
              "      <td>гражданский брак</td>\n",
              "      <td>1</td>\n",
              "      <td>M</td>\n",
              "      <td>сотрудник</td>\n",
              "      <td>0</td>\n",
              "      <td>90410.586745</td>\n",
              "      <td>строительство недвижимости</td>\n",
              "    </tr>\n",
              "    <tr>\n",
              "      <th>18</th>\n",
              "      <td>0</td>\n",
              "      <td>400281.136913</td>\n",
              "      <td>53</td>\n",
              "      <td>среднее</td>\n",
              "      <td>1</td>\n",
              "      <td>вдовец / вдова</td>\n",
              "      <td>2</td>\n",
              "      <td>F</td>\n",
              "      <td>пенсионер</td>\n",
              "      <td>0</td>\n",
              "      <td>56823.777243</td>\n",
              "      <td>на покупку подержанного автомобиля</td>\n",
              "    </tr>\n",
              "    <tr>\n",
              "      <th>19</th>\n",
              "      <td>0</td>\n",
              "      <td>-10038.818549</td>\n",
              "      <td>48</td>\n",
              "      <td>СРЕДНЕЕ</td>\n",
              "      <td>1</td>\n",
              "      <td>в разводе</td>\n",
              "      <td>3</td>\n",
              "      <td>F</td>\n",
              "      <td>сотрудник</td>\n",
              "      <td>0</td>\n",
              "      <td>242831.107982</td>\n",
              "      <td>на покупку своего автомобиля</td>\n",
              "    </tr>\n",
              "  </tbody>\n",
              "</table>\n",
              "</div>\n",
              "    <div class=\"colab-df-buttons\">\n",
              "\n",
              "  <div class=\"colab-df-container\">\n",
              "    <button class=\"colab-df-convert\" onclick=\"convertToInteractive('df-e066067f-b363-4365-a7af-cbf9b9ff9927')\"\n",
              "            title=\"Convert this dataframe to an interactive table.\"\n",
              "            style=\"display:none;\">\n",
              "\n",
              "  <svg xmlns=\"http://www.w3.org/2000/svg\" height=\"24px\" viewBox=\"0 -960 960 960\">\n",
              "    <path d=\"M120-120v-720h720v720H120Zm60-500h600v-160H180v160Zm220 220h160v-160H400v160Zm0 220h160v-160H400v160ZM180-400h160v-160H180v160Zm440 0h160v-160H620v160ZM180-180h160v-160H180v160Zm440 0h160v-160H620v160Z\"/>\n",
              "  </svg>\n",
              "    </button>\n",
              "\n",
              "  <style>\n",
              "    .colab-df-container {\n",
              "      display:flex;\n",
              "      gap: 12px;\n",
              "    }\n",
              "\n",
              "    .colab-df-convert {\n",
              "      background-color: #E8F0FE;\n",
              "      border: none;\n",
              "      border-radius: 50%;\n",
              "      cursor: pointer;\n",
              "      display: none;\n",
              "      fill: #1967D2;\n",
              "      height: 32px;\n",
              "      padding: 0 0 0 0;\n",
              "      width: 32px;\n",
              "    }\n",
              "\n",
              "    .colab-df-convert:hover {\n",
              "      background-color: #E2EBFA;\n",
              "      box-shadow: 0px 1px 2px rgba(60, 64, 67, 0.3), 0px 1px 3px 1px rgba(60, 64, 67, 0.15);\n",
              "      fill: #174EA6;\n",
              "    }\n",
              "\n",
              "    .colab-df-buttons div {\n",
              "      margin-bottom: 4px;\n",
              "    }\n",
              "\n",
              "    [theme=dark] .colab-df-convert {\n",
              "      background-color: #3B4455;\n",
              "      fill: #D2E3FC;\n",
              "    }\n",
              "\n",
              "    [theme=dark] .colab-df-convert:hover {\n",
              "      background-color: #434B5C;\n",
              "      box-shadow: 0px 1px 3px 1px rgba(0, 0, 0, 0.15);\n",
              "      filter: drop-shadow(0px 1px 2px rgba(0, 0, 0, 0.3));\n",
              "      fill: #FFFFFF;\n",
              "    }\n",
              "  </style>\n",
              "\n",
              "    <script>\n",
              "      const buttonEl =\n",
              "        document.querySelector('#df-e066067f-b363-4365-a7af-cbf9b9ff9927 button.colab-df-convert');\n",
              "      buttonEl.style.display =\n",
              "        google.colab.kernel.accessAllowed ? 'block' : 'none';\n",
              "\n",
              "      async function convertToInteractive(key) {\n",
              "        const element = document.querySelector('#df-e066067f-b363-4365-a7af-cbf9b9ff9927');\n",
              "        const dataTable =\n",
              "          await google.colab.kernel.invokeFunction('convertToInteractive',\n",
              "                                                    [key], {});\n",
              "        if (!dataTable) return;\n",
              "\n",
              "        const docLinkHtml = 'Like what you see? Visit the ' +\n",
              "          '<a target=\"_blank\" href=https://colab.research.google.com/notebooks/data_table.ipynb>data table notebook</a>'\n",
              "          + ' to learn more about interactive tables.';\n",
              "        element.innerHTML = '';\n",
              "        dataTable['output_type'] = 'display_data';\n",
              "        await google.colab.output.renderOutput(dataTable, element);\n",
              "        const docLink = document.createElement('div');\n",
              "        docLink.innerHTML = docLinkHtml;\n",
              "        element.appendChild(docLink);\n",
              "      }\n",
              "    </script>\n",
              "  </div>\n",
              "\n",
              "\n",
              "<div id=\"df-5a856a0a-be44-49c9-8946-ae9069eb675b\">\n",
              "  <button class=\"colab-df-quickchart\" onclick=\"quickchart('df-5a856a0a-be44-49c9-8946-ae9069eb675b')\"\n",
              "            title=\"Suggest charts.\"\n",
              "            style=\"display:none;\">\n",
              "\n",
              "<svg xmlns=\"http://www.w3.org/2000/svg\" height=\"24px\"viewBox=\"0 0 24 24\"\n",
              "     width=\"24px\">\n",
              "    <g>\n",
              "        <path d=\"M19 3H5c-1.1 0-2 .9-2 2v14c0 1.1.9 2 2 2h14c1.1 0 2-.9 2-2V5c0-1.1-.9-2-2-2zM9 17H7v-7h2v7zm4 0h-2V7h2v10zm4 0h-2v-4h2v4z\"/>\n",
              "    </g>\n",
              "</svg>\n",
              "  </button>\n",
              "\n",
              "<style>\n",
              "  .colab-df-quickchart {\n",
              "      --bg-color: #E8F0FE;\n",
              "      --fill-color: #1967D2;\n",
              "      --hover-bg-color: #E2EBFA;\n",
              "      --hover-fill-color: #174EA6;\n",
              "      --disabled-fill-color: #AAA;\n",
              "      --disabled-bg-color: #DDD;\n",
              "  }\n",
              "\n",
              "  [theme=dark] .colab-df-quickchart {\n",
              "      --bg-color: #3B4455;\n",
              "      --fill-color: #D2E3FC;\n",
              "      --hover-bg-color: #434B5C;\n",
              "      --hover-fill-color: #FFFFFF;\n",
              "      --disabled-bg-color: #3B4455;\n",
              "      --disabled-fill-color: #666;\n",
              "  }\n",
              "\n",
              "  .colab-df-quickchart {\n",
              "    background-color: var(--bg-color);\n",
              "    border: none;\n",
              "    border-radius: 50%;\n",
              "    cursor: pointer;\n",
              "    display: none;\n",
              "    fill: var(--fill-color);\n",
              "    height: 32px;\n",
              "    padding: 0;\n",
              "    width: 32px;\n",
              "  }\n",
              "\n",
              "  .colab-df-quickchart:hover {\n",
              "    background-color: var(--hover-bg-color);\n",
              "    box-shadow: 0 1px 2px rgba(60, 64, 67, 0.3), 0 1px 3px 1px rgba(60, 64, 67, 0.15);\n",
              "    fill: var(--button-hover-fill-color);\n",
              "  }\n",
              "\n",
              "  .colab-df-quickchart-complete:disabled,\n",
              "  .colab-df-quickchart-complete:disabled:hover {\n",
              "    background-color: var(--disabled-bg-color);\n",
              "    fill: var(--disabled-fill-color);\n",
              "    box-shadow: none;\n",
              "  }\n",
              "\n",
              "  .colab-df-spinner {\n",
              "    border: 2px solid var(--fill-color);\n",
              "    border-color: transparent;\n",
              "    border-bottom-color: var(--fill-color);\n",
              "    animation:\n",
              "      spin 1s steps(1) infinite;\n",
              "  }\n",
              "\n",
              "  @keyframes spin {\n",
              "    0% {\n",
              "      border-color: transparent;\n",
              "      border-bottom-color: var(--fill-color);\n",
              "      border-left-color: var(--fill-color);\n",
              "    }\n",
              "    20% {\n",
              "      border-color: transparent;\n",
              "      border-left-color: var(--fill-color);\n",
              "      border-top-color: var(--fill-color);\n",
              "    }\n",
              "    30% {\n",
              "      border-color: transparent;\n",
              "      border-left-color: var(--fill-color);\n",
              "      border-top-color: var(--fill-color);\n",
              "      border-right-color: var(--fill-color);\n",
              "    }\n",
              "    40% {\n",
              "      border-color: transparent;\n",
              "      border-right-color: var(--fill-color);\n",
              "      border-top-color: var(--fill-color);\n",
              "    }\n",
              "    60% {\n",
              "      border-color: transparent;\n",
              "      border-right-color: var(--fill-color);\n",
              "    }\n",
              "    80% {\n",
              "      border-color: transparent;\n",
              "      border-right-color: var(--fill-color);\n",
              "      border-bottom-color: var(--fill-color);\n",
              "    }\n",
              "    90% {\n",
              "      border-color: transparent;\n",
              "      border-bottom-color: var(--fill-color);\n",
              "    }\n",
              "  }\n",
              "</style>\n",
              "\n",
              "  <script>\n",
              "    async function quickchart(key) {\n",
              "      const quickchartButtonEl =\n",
              "        document.querySelector('#' + key + ' button');\n",
              "      quickchartButtonEl.disabled = true;  // To prevent multiple clicks.\n",
              "      quickchartButtonEl.classList.add('colab-df-spinner');\n",
              "      try {\n",
              "        const charts = await google.colab.kernel.invokeFunction(\n",
              "            'suggestCharts', [key], {});\n",
              "      } catch (error) {\n",
              "        console.error('Error during call to suggestCharts:', error);\n",
              "      }\n",
              "      quickchartButtonEl.classList.remove('colab-df-spinner');\n",
              "      quickchartButtonEl.classList.add('colab-df-quickchart-complete');\n",
              "    }\n",
              "    (() => {\n",
              "      let quickchartButtonEl =\n",
              "        document.querySelector('#df-5a856a0a-be44-49c9-8946-ae9069eb675b button');\n",
              "      quickchartButtonEl.style.display =\n",
              "        google.colab.kernel.accessAllowed ? 'block' : 'none';\n",
              "    })();\n",
              "  </script>\n",
              "</div>\n",
              "    </div>\n",
              "  </div>\n"
            ]
          },
          "metadata": {},
          "execution_count": 35
        }
      ],
      "source": [
        "data.head(20)"
      ]
    },
    {
      "cell_type": "markdown",
      "id": "5624c77c",
      "metadata": {
        "deletable": false,
        "editable": false,
        "id": "5624c77c"
      },
      "source": [
        "**Выведите основную информацию о датафрейме с помощью метода `info()`.**"
      ]
    },
    {
      "cell_type": "code",
      "execution_count": null,
      "id": "97c3e95c",
      "metadata": {
        "deletable": false,
        "id": "97c3e95c",
        "outputId": "edfe4b90-7eb3-4b9c-be81-9220219ffc88",
        "colab": {
          "base_uri": "https://localhost:8080/"
        }
      },
      "outputs": [
        {
          "output_type": "stream",
          "name": "stdout",
          "text": [
            "<class 'pandas.core.frame.DataFrame'>\n",
            "RangeIndex: 21525 entries, 0 to 21524\n",
            "Data columns (total 12 columns):\n",
            " #   Column            Non-Null Count  Dtype  \n",
            "---  ------            --------------  -----  \n",
            " 0   children          21525 non-null  int64  \n",
            " 1   days_employed     19351 non-null  float64\n",
            " 2   dob_years         21525 non-null  int64  \n",
            " 3   education         21525 non-null  object \n",
            " 4   education_id      21525 non-null  int64  \n",
            " 5   family_status     21525 non-null  object \n",
            " 6   family_status_id  21525 non-null  int64  \n",
            " 7   gender            21525 non-null  object \n",
            " 8   income_type       21525 non-null  object \n",
            " 9   debt              21525 non-null  int64  \n",
            " 10  total_income      19351 non-null  float64\n",
            " 11  purpose           21525 non-null  object \n",
            "dtypes: float64(2), int64(5), object(5)\n",
            "memory usage: 2.0+ MB\n"
          ]
        }
      ],
      "source": [
        "data.info()"
      ]
    },
    {
      "cell_type": "markdown",
      "id": "e7589d6b",
      "metadata": {
        "id": "e7589d6b"
      },
      "source": [
        "**Выводы**  \n",
        "В датафрейме 'data' находится информация о заёмщиках. В столбцах 'days_employed' и 'total_income' встречаются пропуски в данных. В колонке 'days_employed' есть отрицательные значения."
      ]
    },
    {
      "cell_type": "markdown",
      "id": "2ce073bb",
      "metadata": {
        "deletable": false,
        "editable": false,
        "id": "2ce073bb"
      },
      "source": [
        "## Шаг 2. Предобработка данных"
      ]
    },
    {
      "cell_type": "markdown",
      "id": "c6dc5bb4",
      "metadata": {
        "deletable": false,
        "editable": false,
        "id": "c6dc5bb4"
      },
      "source": [
        "### Удаление пропусков"
      ]
    },
    {
      "cell_type": "markdown",
      "id": "83809d1f",
      "metadata": {
        "deletable": false,
        "editable": false,
        "id": "83809d1f"
      },
      "source": [
        "**Выведите количество пропущенных значений для каждого столбца. Используйте комбинацию двух методов.**"
      ]
    },
    {
      "cell_type": "code",
      "execution_count": null,
      "id": "ac551ec5",
      "metadata": {
        "deletable": false,
        "id": "ac551ec5",
        "outputId": "7dfd67bb-453a-4c47-d6fc-55d0851b62c0",
        "colab": {
          "base_uri": "https://localhost:8080/"
        }
      },
      "outputs": [
        {
          "output_type": "execute_result",
          "data": {
            "text/plain": [
              "children               0\n",
              "days_employed       2174\n",
              "dob_years              0\n",
              "education              0\n",
              "education_id           0\n",
              "family_status          0\n",
              "family_status_id       0\n",
              "gender                 0\n",
              "income_type            0\n",
              "debt                   0\n",
              "total_income        2174\n",
              "purpose                0\n",
              "dtype: int64"
            ]
          },
          "metadata": {},
          "execution_count": 37
        }
      ],
      "source": [
        "data.isna().sum()"
      ]
    },
    {
      "cell_type": "markdown",
      "id": "0a497dbe",
      "metadata": {
        "deletable": false,
        "editable": false,
        "id": "0a497dbe"
      },
      "source": [
        "**В двух столбцах есть пропущенные значения. Один из них — `days_employed`. Пропуски в этом столбце вы обработаете на следующем этапе. Другой столбец с пропущенными значениями — `total_income` — хранит данные о доходах. На сумму дохода сильнее всего влияет тип занятости, поэтому заполнить пропуски в этом столбце нужно медианным значением по каждому типу из столбца `income_type`. Например, у человека с типом занятости `сотрудник` пропуск в столбце `total_income` должен быть заполнен медианным доходом среди всех записей с тем же типом.**"
      ]
    },
    {
      "cell_type": "code",
      "execution_count": null,
      "id": "18bf1f4c",
      "metadata": {
        "deletable": false,
        "id": "18bf1f4c"
      },
      "outputs": [],
      "source": [
        "for t in data['income_type'].unique():\n",
        "    data.loc[(data['income_type'] == t) & (data['total_income'].isna()), 'total_income'] = \\\n",
        "    data.loc[(data['income_type'] == t), 'total_income'].median()"
      ]
    },
    {
      "cell_type": "markdown",
      "id": "343e4aaa",
      "metadata": {
        "deletable": false,
        "editable": false,
        "id": "343e4aaa"
      },
      "source": [
        "### Обработка аномальных значений"
      ]
    },
    {
      "cell_type": "markdown",
      "id": "5709043e",
      "metadata": {
        "deletable": false,
        "editable": false,
        "id": "5709043e"
      },
      "source": [
        "**В данных могут встречаться артефакты (аномалии) — значения, которые не отражают действительность и появились по какой-то ошибке. Таким артефактом будет отрицательное количество дней трудового стажа в столбце `days_employed`. Для реальных данных это нормально. Обработайте значения в этом столбце: замените все отрицательные значения положительными с помощью метода `abs()`.**"
      ]
    },
    {
      "cell_type": "code",
      "execution_count": null,
      "id": "f2bb036e",
      "metadata": {
        "deletable": false,
        "id": "f2bb036e"
      },
      "outputs": [],
      "source": [
        "data['days_employed'] = data['days_employed'].abs()"
      ]
    },
    {
      "cell_type": "markdown",
      "id": "78628a4a",
      "metadata": {
        "deletable": false,
        "editable": false,
        "id": "78628a4a"
      },
      "source": [
        "**Для каждого типа занятости выведите медианное значение трудового стажа `days_employed` в днях.**"
      ]
    },
    {
      "cell_type": "code",
      "execution_count": null,
      "id": "82cb13d0",
      "metadata": {
        "deletable": false,
        "id": "82cb13d0",
        "outputId": "df1f8b2b-69aa-4b54-9520-3d8eeb76558e",
        "colab": {
          "base_uri": "https://localhost:8080/"
        }
      },
      "outputs": [
        {
          "output_type": "execute_result",
          "data": {
            "text/plain": [
              "income_type\n",
              "безработный        366413.652744\n",
              "в декрете            3296.759962\n",
              "госслужащий          2689.368353\n",
              "компаньон            1547.382223\n",
              "пенсионер          365213.306266\n",
              "предприниматель       520.848083\n",
              "сотрудник            1574.202821\n",
              "студент               578.751554\n",
              "Name: days_employed, dtype: float64"
            ]
          },
          "metadata": {},
          "execution_count": 40
        }
      ],
      "source": [
        "data.groupby('income_type')['days_employed'].agg('median')"
      ]
    },
    {
      "cell_type": "markdown",
      "id": "9af68e52",
      "metadata": {
        "deletable": false,
        "editable": false,
        "id": "9af68e52"
      },
      "source": [
        "У двух типов (безработные и пенсионеры) получатся аномально большие значения. Исправить такие значения сложно, поэтому оставьте их как есть. Тем более этот столбец не понадобится вам для исследования."
      ]
    },
    {
      "cell_type": "markdown",
      "id": "1d70f2fe",
      "metadata": {
        "deletable": false,
        "editable": false,
        "id": "1d70f2fe"
      },
      "source": [
        "**Выведите перечень уникальных значений столбца `children`.**"
      ]
    },
    {
      "cell_type": "code",
      "execution_count": null,
      "id": "70c15993",
      "metadata": {
        "deletable": false,
        "id": "70c15993",
        "outputId": "816dad6a-7be1-455a-dfcd-d9d34cc4e149",
        "colab": {
          "base_uri": "https://localhost:8080/"
        }
      },
      "outputs": [
        {
          "output_type": "execute_result",
          "data": {
            "text/plain": [
              "array([ 1,  0,  3,  2, -1,  4, 20,  5])"
            ]
          },
          "metadata": {},
          "execution_count": 41
        }
      ],
      "source": [
        "data['children'].unique()"
      ]
    },
    {
      "cell_type": "markdown",
      "id": "20a7a9b5",
      "metadata": {
        "deletable": false,
        "editable": false,
        "id": "20a7a9b5"
      },
      "source": [
        "**В столбце `children` есть два аномальных значения. Удалите строки, в которых встречаются такие аномальные значения из датафрейма `data`.**"
      ]
    },
    {
      "cell_type": "code",
      "execution_count": null,
      "id": "406f4192",
      "metadata": {
        "deletable": false,
        "id": "406f4192"
      },
      "outputs": [],
      "source": [
        "data = data[(data['children'] != -1) & (data['children'] != 20)]"
      ]
    },
    {
      "cell_type": "markdown",
      "id": "c27bf70f",
      "metadata": {
        "deletable": false,
        "editable": false,
        "id": "c27bf70f"
      },
      "source": [
        "**Ещё раз выведите перечень уникальных значений столбца `children`, чтобы убедиться, что артефакты удалены.**"
      ]
    },
    {
      "cell_type": "code",
      "execution_count": null,
      "id": "4a4b17b7",
      "metadata": {
        "deletable": false,
        "id": "4a4b17b7",
        "outputId": "d09ca9c5-57ab-4691-bde7-eae9a35bbcdb",
        "colab": {
          "base_uri": "https://localhost:8080/"
        }
      },
      "outputs": [
        {
          "output_type": "execute_result",
          "data": {
            "text/plain": [
              "array([1, 0, 3, 2, 4, 5])"
            ]
          },
          "metadata": {},
          "execution_count": 43
        }
      ],
      "source": [
        "data['children'].unique()"
      ]
    },
    {
      "cell_type": "markdown",
      "id": "fdd026fa",
      "metadata": {
        "deletable": false,
        "editable": false,
        "id": "fdd026fa"
      },
      "source": [
        "### Удаление пропусков (продолжение)"
      ]
    },
    {
      "cell_type": "markdown",
      "id": "3621a1c0",
      "metadata": {
        "deletable": false,
        "editable": false,
        "id": "3621a1c0"
      },
      "source": [
        "**Заполните пропуски в столбце `days_employed` медианными значениями по каждого типа занятости `income_type`.**"
      ]
    },
    {
      "cell_type": "code",
      "execution_count": null,
      "id": "99731121",
      "metadata": {
        "deletable": false,
        "id": "99731121"
      },
      "outputs": [],
      "source": [
        "for t in data['income_type'].unique():\n",
        "    data.loc[(data['income_type'] == t) & (data['days_employed'].isna()), 'days_employed'] = \\\n",
        "    data.loc[(data['income_type'] == t), 'days_employed'].median()"
      ]
    },
    {
      "cell_type": "markdown",
      "id": "4b92fdc9",
      "metadata": {
        "deletable": false,
        "editable": false,
        "id": "4b92fdc9"
      },
      "source": [
        "**Убедитесь, что все пропуски заполнены. Проверьте себя и ещё раз выведите количество пропущенных значений для каждого столбца с помощью двух методов.**"
      ]
    },
    {
      "cell_type": "code",
      "execution_count": null,
      "id": "c9957d61",
      "metadata": {
        "deletable": false,
        "id": "c9957d61",
        "outputId": "e5d1322a-ea56-40f5-e2c6-b76db0ac0ef5",
        "colab": {
          "base_uri": "https://localhost:8080/"
        }
      },
      "outputs": [
        {
          "output_type": "execute_result",
          "data": {
            "text/plain": [
              "children            0\n",
              "days_employed       0\n",
              "dob_years           0\n",
              "education           0\n",
              "education_id        0\n",
              "family_status       0\n",
              "family_status_id    0\n",
              "gender              0\n",
              "income_type         0\n",
              "debt                0\n",
              "total_income        0\n",
              "purpose             0\n",
              "dtype: int64"
            ]
          },
          "metadata": {},
          "execution_count": 45
        }
      ],
      "source": [
        "data.isna().sum()"
      ]
    },
    {
      "cell_type": "markdown",
      "id": "eb274538",
      "metadata": {
        "deletable": false,
        "editable": false,
        "id": "eb274538"
      },
      "source": [
        "### Изменение типов данных"
      ]
    },
    {
      "cell_type": "markdown",
      "id": "f0c6d661",
      "metadata": {
        "deletable": false,
        "editable": false,
        "id": "f0c6d661"
      },
      "source": [
        "**Замените вещественный тип данных в столбце `total_income` на целочисленный с помощью метода `astype()`.**"
      ]
    },
    {
      "cell_type": "code",
      "execution_count": null,
      "id": "2b6ccbcc",
      "metadata": {
        "deletable": false,
        "id": "2b6ccbcc"
      },
      "outputs": [],
      "source": [
        "data['total_income'] = data['total_income'].astype(int)"
      ]
    },
    {
      "cell_type": "markdown",
      "id": "56510894",
      "metadata": {
        "deletable": false,
        "editable": false,
        "id": "56510894"
      },
      "source": [
        "### Обработка дубликатов"
      ]
    },
    {
      "cell_type": "markdown",
      "id": "6ba3a90c",
      "metadata": {
        "deletable": false,
        "editable": false,
        "id": "6ba3a90c"
      },
      "source": [
        "**Обработайте неявные дубликаты в столбце `education`. В этом столбце есть одни и те же значения, но записанные по-разному: с использованием заглавных и строчных букв. Приведите их к нижнему регистру.**"
      ]
    },
    {
      "cell_type": "code",
      "execution_count": null,
      "id": "e55968ae",
      "metadata": {
        "deletable": false,
        "id": "e55968ae"
      },
      "outputs": [],
      "source": [
        "data['education'] = data['education'].str.lower()"
      ]
    },
    {
      "cell_type": "markdown",
      "id": "a80ba14c",
      "metadata": {
        "deletable": false,
        "editable": false,
        "id": "a80ba14c"
      },
      "source": [
        "**Выведите на экран количество строк-дубликатов в данных. Если такие строки присутствуют, удалите их.**"
      ]
    },
    {
      "cell_type": "code",
      "execution_count": null,
      "id": "2067e66f",
      "metadata": {
        "deletable": false,
        "id": "2067e66f",
        "outputId": "4399513f-fcdf-41f7-9f72-23063f82f6ce",
        "colab": {
          "base_uri": "https://localhost:8080/"
        }
      },
      "outputs": [
        {
          "output_type": "execute_result",
          "data": {
            "text/plain": [
              "71"
            ]
          },
          "metadata": {},
          "execution_count": 48
        }
      ],
      "source": [
        "data.duplicated().sum()"
      ]
    },
    {
      "cell_type": "code",
      "execution_count": null,
      "id": "6415629e",
      "metadata": {
        "deletable": false,
        "id": "6415629e"
      },
      "outputs": [],
      "source": [
        "data = data.drop_duplicates()"
      ]
    },
    {
      "cell_type": "markdown",
      "id": "178164a5",
      "metadata": {
        "deletable": false,
        "editable": false,
        "id": "178164a5"
      },
      "source": [
        "### Категоризация данных"
      ]
    },
    {
      "cell_type": "markdown",
      "id": "646cbbb2",
      "metadata": {
        "deletable": false,
        "editable": false,
        "id": "646cbbb2"
      },
      "source": [
        "**На основании диапазонов, указанных ниже, создайте в датафрейме `data` столбец `total_income_category` с категориями:**\n",
        "\n",
        "- 0–30000 — `'E'`;\n",
        "- 30001–50000 — `'D'`;\n",
        "- 50001–200000 — `'C'`;\n",
        "- 200001–1000000 — `'B'`;\n",
        "- 1000001 и выше — `'A'`.\n",
        "\n",
        "\n",
        "**Например, кредитополучателю с доходом 25000 нужно назначить категорию `'E'`, а клиенту, получающему 235000, — `'B'`. Используйте собственную функцию с именем `categorize_income()` и метод `apply()`.**"
      ]
    },
    {
      "cell_type": "code",
      "execution_count": null,
      "id": "50fd3139",
      "metadata": {
        "deletable": false,
        "id": "50fd3139"
      },
      "outputs": [],
      "source": [
        "def categorize_income(income):\n",
        "    try:\n",
        "        if 0 <= income <= 30000:\n",
        "            return 'E'\n",
        "        elif 30001 <= income <= 50000:\n",
        "            return 'D'\n",
        "        elif 50001 <= income <= 200000:\n",
        "            return 'C'\n",
        "        elif 200001 <= income <= 1000000:\n",
        "            return 'B'\n",
        "        elif income >= 1000001:\n",
        "            return 'A'\n",
        "    except:\n",
        "        pass"
      ]
    },
    {
      "cell_type": "code",
      "execution_count": null,
      "id": "769af877",
      "metadata": {
        "deletable": false,
        "id": "769af877",
        "colab": {
          "base_uri": "https://localhost:8080/"
        },
        "outputId": "1570fa2d-260a-4fa2-9d12-26e9cb550fc7"
      },
      "outputs": [
        {
          "output_type": "stream",
          "name": "stderr",
          "text": [
            "<ipython-input-51-0bc713f3049f>:1: SettingWithCopyWarning: \n",
            "A value is trying to be set on a copy of a slice from a DataFrame.\n",
            "Try using .loc[row_indexer,col_indexer] = value instead\n",
            "\n",
            "See the caveats in the documentation: https://pandas.pydata.org/pandas-docs/stable/user_guide/indexing.html#returning-a-view-versus-a-copy\n",
            "  data['total_income_category'] = data['total_income'].apply(categorize_income)\n"
          ]
        }
      ],
      "source": [
        "data['total_income_category'] = data['total_income'].apply(categorize_income)"
      ]
    },
    {
      "cell_type": "markdown",
      "id": "cf44fdcf",
      "metadata": {
        "deletable": false,
        "editable": false,
        "id": "cf44fdcf"
      },
      "source": [
        "**Выведите на экран перечень уникальных целей взятия кредита из столбца `purpose`.**"
      ]
    },
    {
      "cell_type": "code",
      "execution_count": null,
      "id": "27411549",
      "metadata": {
        "deletable": false,
        "id": "27411549",
        "outputId": "b2611bdb-5509-4133-d4ac-47d23bd283d5",
        "colab": {
          "base_uri": "https://localhost:8080/"
        }
      },
      "outputs": [
        {
          "output_type": "execute_result",
          "data": {
            "text/plain": [
              "array(['покупка жилья', 'приобретение автомобиля',\n",
              "       'дополнительное образование', 'сыграть свадьбу',\n",
              "       'операции с жильем', 'образование', 'на проведение свадьбы',\n",
              "       'покупка жилья для семьи', 'покупка недвижимости',\n",
              "       'покупка коммерческой недвижимости', 'покупка жилой недвижимости',\n",
              "       'строительство собственной недвижимости', 'недвижимость',\n",
              "       'строительство недвижимости', 'на покупку подержанного автомобиля',\n",
              "       'на покупку своего автомобиля',\n",
              "       'операции с коммерческой недвижимостью',\n",
              "       'строительство жилой недвижимости', 'жилье',\n",
              "       'операции со своей недвижимостью', 'автомобили',\n",
              "       'заняться образованием', 'сделка с подержанным автомобилем',\n",
              "       'получение образования', 'автомобиль', 'свадьба',\n",
              "       'получение дополнительного образования', 'покупка своего жилья',\n",
              "       'операции с недвижимостью', 'получение высшего образования',\n",
              "       'свой автомобиль', 'сделка с автомобилем',\n",
              "       'профильное образование', 'высшее образование',\n",
              "       'покупка жилья для сдачи', 'на покупку автомобиля', 'ремонт жилью',\n",
              "       'заняться высшим образованием'], dtype=object)"
            ]
          },
          "metadata": {},
          "execution_count": 52
        }
      ],
      "source": [
        "data['purpose'].unique()"
      ]
    },
    {
      "cell_type": "markdown",
      "id": "c86f3f09",
      "metadata": {
        "deletable": false,
        "editable": false,
        "id": "c86f3f09"
      },
      "source": [
        "**Создайте функцию, которая на основании данных из столбца `purpose` сформирует новый столбец `purpose_category`, в который войдут следующие категории:**\n",
        "\n",
        "- `'операции с автомобилем'`,\n",
        "- `'операции с недвижимостью'`,\n",
        "- `'проведение свадьбы'`,\n",
        "- `'получение образования'`.\n",
        "\n",
        "**Например, если в столбце `purpose` находится подстрока `'на покупку автомобиля'`, то в столбце `purpose_category` должна появиться строка `'операции с автомобилем'`.**\n",
        "\n",
        "**Используйте собственную функцию с именем `categorize_purpose()` и метод `apply()`. Изучите данные в столбце `purpose` и определите, какие подстроки помогут вам правильно определить категорию.**"
      ]
    },
    {
      "cell_type": "code",
      "execution_count": null,
      "id": "c5d31e0e",
      "metadata": {
        "deletable": false,
        "id": "c5d31e0e"
      },
      "outputs": [],
      "source": [
        "def categorize_purpose(row):\n",
        "    try:\n",
        "        if 'автом' in row:\n",
        "            return 'операции с автомобилем'\n",
        "        elif 'жил' in row or 'недвиж' in row:\n",
        "            return 'операции с недвижимостью'\n",
        "        elif 'свад' in row:\n",
        "            return 'проведение свадьбы'\n",
        "        elif 'образов' in row:\n",
        "            return 'получение образования'\n",
        "    except:\n",
        "        return 'нет категории'"
      ]
    },
    {
      "cell_type": "code",
      "execution_count": null,
      "id": "ffb83f52",
      "metadata": {
        "deletable": false,
        "id": "ffb83f52",
        "colab": {
          "base_uri": "https://localhost:8080/"
        },
        "outputId": "aa0ffb1c-8423-47ee-d373-a073654f8316"
      },
      "outputs": [
        {
          "output_type": "stream",
          "name": "stderr",
          "text": [
            "<ipython-input-54-ecf9d79505dd>:1: SettingWithCopyWarning: \n",
            "A value is trying to be set on a copy of a slice from a DataFrame.\n",
            "Try using .loc[row_indexer,col_indexer] = value instead\n",
            "\n",
            "See the caveats in the documentation: https://pandas.pydata.org/pandas-docs/stable/user_guide/indexing.html#returning-a-view-versus-a-copy\n",
            "  data['purpose_category'] = data['purpose'].apply(categorize_purpose)\n"
          ]
        }
      ],
      "source": [
        "data['purpose_category'] = data['purpose'].apply(categorize_purpose)"
      ]
    },
    {
      "cell_type": "markdown",
      "id": "845f26ea",
      "metadata": {
        "id": "845f26ea"
      },
      "source": [
        "\n",
        "**Выводы**\n",
        "- Мы избавились от пропусков в данных. Для колонки 'total_income' заполнили пропуски медианным значением в зависимости от типа занятости.\n",
        "- Для колонки 'days_employed' изменили отрицательные значения на положительные. Удалили строки, в которых встречаются аномальные значения в столбце 'children'. Заполнили пропуски в столбце 'days_employed' медианными значениями в зависимости от типа занятости 'income_type'.\n",
        "- Удалили строки с неявными дубликатами, приведя данные в столбце education к нижнему регистру.\n",
        "- Создали колонку 'total_income_category' с целью категоризации данных в зависимости от уровня доходов заёмщиков.\n",
        "- Создали колонку 'purpose_category' для категоризации данных о целях кредита."
      ]
    },
    {
      "cell_type": "markdown",
      "id": "e1512691",
      "metadata": {
        "deletable": false,
        "editable": false,
        "id": "e1512691"
      },
      "source": [
        "## Шаг 3. Исследуйте данные и ответьте на вопросы"
      ]
    },
    {
      "cell_type": "markdown",
      "id": "a7f0cf20",
      "metadata": {
        "deletable": false,
        "editable": false,
        "id": "a7f0cf20"
      },
      "source": [
        "#### 3.1 Есть ли зависимость между количеством детей и возвратом кредита в срок?"
      ]
    },
    {
      "cell_type": "code",
      "execution_count": null,
      "id": "560e113a",
      "metadata": {
        "colab": {
          "base_uri": "https://localhost:8080/",
          "height": 269
        },
        "id": "560e113a",
        "outputId": "c802eb92-092b-4061-af0b-34eedf20b422"
      },
      "outputs": [
        {
          "output_type": "execute_result",
          "data": {
            "text/plain": [
              "          Всего кредитополучателей  Всего должников  Процент должников\n",
              "children                                                              \n",
              "0                            14091             1063           7.543822\n",
              "1                             4808              444           9.234609\n",
              "2                             2052              194           9.454191\n",
              "3                              330               27           8.181818\n",
              "4                               41                4           9.756098\n",
              "5                                9                0           0.000000"
            ],
            "text/html": [
              "\n",
              "  <div id=\"df-450c399e-68ec-4f5c-be98-3d81e85f4c87\" class=\"colab-df-container\">\n",
              "    <div>\n",
              "<style scoped>\n",
              "    .dataframe tbody tr th:only-of-type {\n",
              "        vertical-align: middle;\n",
              "    }\n",
              "\n",
              "    .dataframe tbody tr th {\n",
              "        vertical-align: top;\n",
              "    }\n",
              "\n",
              "    .dataframe thead th {\n",
              "        text-align: right;\n",
              "    }\n",
              "</style>\n",
              "<table border=\"1\" class=\"dataframe\">\n",
              "  <thead>\n",
              "    <tr style=\"text-align: right;\">\n",
              "      <th></th>\n",
              "      <th>Всего кредитополучателей</th>\n",
              "      <th>Всего должников</th>\n",
              "      <th>Процент должников</th>\n",
              "    </tr>\n",
              "    <tr>\n",
              "      <th>children</th>\n",
              "      <th></th>\n",
              "      <th></th>\n",
              "      <th></th>\n",
              "    </tr>\n",
              "  </thead>\n",
              "  <tbody>\n",
              "    <tr>\n",
              "      <th>0</th>\n",
              "      <td>14091</td>\n",
              "      <td>1063</td>\n",
              "      <td>7.543822</td>\n",
              "    </tr>\n",
              "    <tr>\n",
              "      <th>1</th>\n",
              "      <td>4808</td>\n",
              "      <td>444</td>\n",
              "      <td>9.234609</td>\n",
              "    </tr>\n",
              "    <tr>\n",
              "      <th>2</th>\n",
              "      <td>2052</td>\n",
              "      <td>194</td>\n",
              "      <td>9.454191</td>\n",
              "    </tr>\n",
              "    <tr>\n",
              "      <th>3</th>\n",
              "      <td>330</td>\n",
              "      <td>27</td>\n",
              "      <td>8.181818</td>\n",
              "    </tr>\n",
              "    <tr>\n",
              "      <th>4</th>\n",
              "      <td>41</td>\n",
              "      <td>4</td>\n",
              "      <td>9.756098</td>\n",
              "    </tr>\n",
              "    <tr>\n",
              "      <th>5</th>\n",
              "      <td>9</td>\n",
              "      <td>0</td>\n",
              "      <td>0.000000</td>\n",
              "    </tr>\n",
              "  </tbody>\n",
              "</table>\n",
              "</div>\n",
              "    <div class=\"colab-df-buttons\">\n",
              "\n",
              "  <div class=\"colab-df-container\">\n",
              "    <button class=\"colab-df-convert\" onclick=\"convertToInteractive('df-450c399e-68ec-4f5c-be98-3d81e85f4c87')\"\n",
              "            title=\"Convert this dataframe to an interactive table.\"\n",
              "            style=\"display:none;\">\n",
              "\n",
              "  <svg xmlns=\"http://www.w3.org/2000/svg\" height=\"24px\" viewBox=\"0 -960 960 960\">\n",
              "    <path d=\"M120-120v-720h720v720H120Zm60-500h600v-160H180v160Zm220 220h160v-160H400v160Zm0 220h160v-160H400v160ZM180-400h160v-160H180v160Zm440 0h160v-160H620v160ZM180-180h160v-160H180v160Zm440 0h160v-160H620v160Z\"/>\n",
              "  </svg>\n",
              "    </button>\n",
              "\n",
              "  <style>\n",
              "    .colab-df-container {\n",
              "      display:flex;\n",
              "      gap: 12px;\n",
              "    }\n",
              "\n",
              "    .colab-df-convert {\n",
              "      background-color: #E8F0FE;\n",
              "      border: none;\n",
              "      border-radius: 50%;\n",
              "      cursor: pointer;\n",
              "      display: none;\n",
              "      fill: #1967D2;\n",
              "      height: 32px;\n",
              "      padding: 0 0 0 0;\n",
              "      width: 32px;\n",
              "    }\n",
              "\n",
              "    .colab-df-convert:hover {\n",
              "      background-color: #E2EBFA;\n",
              "      box-shadow: 0px 1px 2px rgba(60, 64, 67, 0.3), 0px 1px 3px 1px rgba(60, 64, 67, 0.15);\n",
              "      fill: #174EA6;\n",
              "    }\n",
              "\n",
              "    .colab-df-buttons div {\n",
              "      margin-bottom: 4px;\n",
              "    }\n",
              "\n",
              "    [theme=dark] .colab-df-convert {\n",
              "      background-color: #3B4455;\n",
              "      fill: #D2E3FC;\n",
              "    }\n",
              "\n",
              "    [theme=dark] .colab-df-convert:hover {\n",
              "      background-color: #434B5C;\n",
              "      box-shadow: 0px 1px 3px 1px rgba(0, 0, 0, 0.15);\n",
              "      filter: drop-shadow(0px 1px 2px rgba(0, 0, 0, 0.3));\n",
              "      fill: #FFFFFF;\n",
              "    }\n",
              "  </style>\n",
              "\n",
              "    <script>\n",
              "      const buttonEl =\n",
              "        document.querySelector('#df-450c399e-68ec-4f5c-be98-3d81e85f4c87 button.colab-df-convert');\n",
              "      buttonEl.style.display =\n",
              "        google.colab.kernel.accessAllowed ? 'block' : 'none';\n",
              "\n",
              "      async function convertToInteractive(key) {\n",
              "        const element = document.querySelector('#df-450c399e-68ec-4f5c-be98-3d81e85f4c87');\n",
              "        const dataTable =\n",
              "          await google.colab.kernel.invokeFunction('convertToInteractive',\n",
              "                                                    [key], {});\n",
              "        if (!dataTable) return;\n",
              "\n",
              "        const docLinkHtml = 'Like what you see? Visit the ' +\n",
              "          '<a target=\"_blank\" href=https://colab.research.google.com/notebooks/data_table.ipynb>data table notebook</a>'\n",
              "          + ' to learn more about interactive tables.';\n",
              "        element.innerHTML = '';\n",
              "        dataTable['output_type'] = 'display_data';\n",
              "        await google.colab.output.renderOutput(dataTable, element);\n",
              "        const docLink = document.createElement('div');\n",
              "        docLink.innerHTML = docLinkHtml;\n",
              "        element.appendChild(docLink);\n",
              "      }\n",
              "    </script>\n",
              "  </div>\n",
              "\n",
              "\n",
              "<div id=\"df-49270331-19f2-4d17-b8c4-a22ffb03446f\">\n",
              "  <button class=\"colab-df-quickchart\" onclick=\"quickchart('df-49270331-19f2-4d17-b8c4-a22ffb03446f')\"\n",
              "            title=\"Suggest charts.\"\n",
              "            style=\"display:none;\">\n",
              "\n",
              "<svg xmlns=\"http://www.w3.org/2000/svg\" height=\"24px\"viewBox=\"0 0 24 24\"\n",
              "     width=\"24px\">\n",
              "    <g>\n",
              "        <path d=\"M19 3H5c-1.1 0-2 .9-2 2v14c0 1.1.9 2 2 2h14c1.1 0 2-.9 2-2V5c0-1.1-.9-2-2-2zM9 17H7v-7h2v7zm4 0h-2V7h2v10zm4 0h-2v-4h2v4z\"/>\n",
              "    </g>\n",
              "</svg>\n",
              "  </button>\n",
              "\n",
              "<style>\n",
              "  .colab-df-quickchart {\n",
              "      --bg-color: #E8F0FE;\n",
              "      --fill-color: #1967D2;\n",
              "      --hover-bg-color: #E2EBFA;\n",
              "      --hover-fill-color: #174EA6;\n",
              "      --disabled-fill-color: #AAA;\n",
              "      --disabled-bg-color: #DDD;\n",
              "  }\n",
              "\n",
              "  [theme=dark] .colab-df-quickchart {\n",
              "      --bg-color: #3B4455;\n",
              "      --fill-color: #D2E3FC;\n",
              "      --hover-bg-color: #434B5C;\n",
              "      --hover-fill-color: #FFFFFF;\n",
              "      --disabled-bg-color: #3B4455;\n",
              "      --disabled-fill-color: #666;\n",
              "  }\n",
              "\n",
              "  .colab-df-quickchart {\n",
              "    background-color: var(--bg-color);\n",
              "    border: none;\n",
              "    border-radius: 50%;\n",
              "    cursor: pointer;\n",
              "    display: none;\n",
              "    fill: var(--fill-color);\n",
              "    height: 32px;\n",
              "    padding: 0;\n",
              "    width: 32px;\n",
              "  }\n",
              "\n",
              "  .colab-df-quickchart:hover {\n",
              "    background-color: var(--hover-bg-color);\n",
              "    box-shadow: 0 1px 2px rgba(60, 64, 67, 0.3), 0 1px 3px 1px rgba(60, 64, 67, 0.15);\n",
              "    fill: var(--button-hover-fill-color);\n",
              "  }\n",
              "\n",
              "  .colab-df-quickchart-complete:disabled,\n",
              "  .colab-df-quickchart-complete:disabled:hover {\n",
              "    background-color: var(--disabled-bg-color);\n",
              "    fill: var(--disabled-fill-color);\n",
              "    box-shadow: none;\n",
              "  }\n",
              "\n",
              "  .colab-df-spinner {\n",
              "    border: 2px solid var(--fill-color);\n",
              "    border-color: transparent;\n",
              "    border-bottom-color: var(--fill-color);\n",
              "    animation:\n",
              "      spin 1s steps(1) infinite;\n",
              "  }\n",
              "\n",
              "  @keyframes spin {\n",
              "    0% {\n",
              "      border-color: transparent;\n",
              "      border-bottom-color: var(--fill-color);\n",
              "      border-left-color: var(--fill-color);\n",
              "    }\n",
              "    20% {\n",
              "      border-color: transparent;\n",
              "      border-left-color: var(--fill-color);\n",
              "      border-top-color: var(--fill-color);\n",
              "    }\n",
              "    30% {\n",
              "      border-color: transparent;\n",
              "      border-left-color: var(--fill-color);\n",
              "      border-top-color: var(--fill-color);\n",
              "      border-right-color: var(--fill-color);\n",
              "    }\n",
              "    40% {\n",
              "      border-color: transparent;\n",
              "      border-right-color: var(--fill-color);\n",
              "      border-top-color: var(--fill-color);\n",
              "    }\n",
              "    60% {\n",
              "      border-color: transparent;\n",
              "      border-right-color: var(--fill-color);\n",
              "    }\n",
              "    80% {\n",
              "      border-color: transparent;\n",
              "      border-right-color: var(--fill-color);\n",
              "      border-bottom-color: var(--fill-color);\n",
              "    }\n",
              "    90% {\n",
              "      border-color: transparent;\n",
              "      border-bottom-color: var(--fill-color);\n",
              "    }\n",
              "  }\n",
              "</style>\n",
              "\n",
              "  <script>\n",
              "    async function quickchart(key) {\n",
              "      const quickchartButtonEl =\n",
              "        document.querySelector('#' + key + ' button');\n",
              "      quickchartButtonEl.disabled = true;  // To prevent multiple clicks.\n",
              "      quickchartButtonEl.classList.add('colab-df-spinner');\n",
              "      try {\n",
              "        const charts = await google.colab.kernel.invokeFunction(\n",
              "            'suggestCharts', [key], {});\n",
              "      } catch (error) {\n",
              "        console.error('Error during call to suggestCharts:', error);\n",
              "      }\n",
              "      quickchartButtonEl.classList.remove('colab-df-spinner');\n",
              "      quickchartButtonEl.classList.add('colab-df-quickchart-complete');\n",
              "    }\n",
              "    (() => {\n",
              "      let quickchartButtonEl =\n",
              "        document.querySelector('#df-49270331-19f2-4d17-b8c4-a22ffb03446f button');\n",
              "      quickchartButtonEl.style.display =\n",
              "        google.colab.kernel.accessAllowed ? 'block' : 'none';\n",
              "    })();\n",
              "  </script>\n",
              "</div>\n",
              "    </div>\n",
              "  </div>\n"
            ]
          },
          "metadata": {},
          "execution_count": 55
        }
      ],
      "source": [
        "# Построим сводную таблицу, где отобразим количество кредитополучателей, количество должников и процент должников в зависимости\n",
        "# от того, сколько у клиентов детей.\n",
        "\n",
        "pivot_table_children = data.pivot_table(\n",
        "    index=['children'],\n",
        "    values='debt',\n",
        "    aggfunc= ['count', 'sum', 'mean']\n",
        ")\n",
        "\n",
        "pivot_table_children.columns = ['Всего кредитополучателей', 'Всего должников', 'Процент должников']\n",
        "pivot_table_children['Процент должников'] = pivot_table_children['Процент должников'] * 100\n",
        "pivot_table_children"
      ]
    },
    {
      "cell_type": "markdown",
      "id": "5963d20e",
      "metadata": {
        "id": "5963d20e"
      },
      "source": [
        "**Вывод:** Для клиентов, у которых 4 и 5 детей, выборка непрезентативная. Из числа клиентов, для которых выборка является репрезентативной, процент должников меньше всего у людей, у которых нет детей. Среди клиентов, у которых 2 ребёнка, процент должников самый высокий.  "
      ]
    },
    {
      "cell_type": "markdown",
      "id": "a86c41fb",
      "metadata": {
        "deletable": false,
        "editable": false,
        "id": "a86c41fb"
      },
      "source": [
        "#### 3.2 Есть ли зависимость между семейным положением и возвратом кредита в срок?"
      ]
    },
    {
      "cell_type": "code",
      "execution_count": null,
      "id": "b4f9f37d",
      "metadata": {
        "colab": {
          "base_uri": "https://localhost:8080/",
          "height": 238
        },
        "id": "b4f9f37d",
        "outputId": "3038f8e4-dd75-4a3d-dd03-574d5bd348b1"
      },
      "outputs": [
        {
          "output_type": "execute_result",
          "data": {
            "text/plain": [
              "                       Всего кредитополучателей  Всего должников  \\\n",
              "family_status                                                      \n",
              "Не женат / не замужем                      2796              273   \n",
              "в разводе                                  1189               84   \n",
              "вдовец / вдова                              951               63   \n",
              "гражданский брак                           4134              385   \n",
              "женат / замужем                           12261              927   \n",
              "\n",
              "                       Процент должников  \n",
              "family_status                             \n",
              "Не женат / не замужем           9.763948  \n",
              "в разводе                       7.064760  \n",
              "вдовец / вдова                  6.624606  \n",
              "гражданский брак                9.313014  \n",
              "женат / замужем                 7.560558  "
            ],
            "text/html": [
              "\n",
              "  <div id=\"df-121d6f07-e64c-49b2-a9b4-3eec56a69da1\" class=\"colab-df-container\">\n",
              "    <div>\n",
              "<style scoped>\n",
              "    .dataframe tbody tr th:only-of-type {\n",
              "        vertical-align: middle;\n",
              "    }\n",
              "\n",
              "    .dataframe tbody tr th {\n",
              "        vertical-align: top;\n",
              "    }\n",
              "\n",
              "    .dataframe thead th {\n",
              "        text-align: right;\n",
              "    }\n",
              "</style>\n",
              "<table border=\"1\" class=\"dataframe\">\n",
              "  <thead>\n",
              "    <tr style=\"text-align: right;\">\n",
              "      <th></th>\n",
              "      <th>Всего кредитополучателей</th>\n",
              "      <th>Всего должников</th>\n",
              "      <th>Процент должников</th>\n",
              "    </tr>\n",
              "    <tr>\n",
              "      <th>family_status</th>\n",
              "      <th></th>\n",
              "      <th></th>\n",
              "      <th></th>\n",
              "    </tr>\n",
              "  </thead>\n",
              "  <tbody>\n",
              "    <tr>\n",
              "      <th>Не женат / не замужем</th>\n",
              "      <td>2796</td>\n",
              "      <td>273</td>\n",
              "      <td>9.763948</td>\n",
              "    </tr>\n",
              "    <tr>\n",
              "      <th>в разводе</th>\n",
              "      <td>1189</td>\n",
              "      <td>84</td>\n",
              "      <td>7.064760</td>\n",
              "    </tr>\n",
              "    <tr>\n",
              "      <th>вдовец / вдова</th>\n",
              "      <td>951</td>\n",
              "      <td>63</td>\n",
              "      <td>6.624606</td>\n",
              "    </tr>\n",
              "    <tr>\n",
              "      <th>гражданский брак</th>\n",
              "      <td>4134</td>\n",
              "      <td>385</td>\n",
              "      <td>9.313014</td>\n",
              "    </tr>\n",
              "    <tr>\n",
              "      <th>женат / замужем</th>\n",
              "      <td>12261</td>\n",
              "      <td>927</td>\n",
              "      <td>7.560558</td>\n",
              "    </tr>\n",
              "  </tbody>\n",
              "</table>\n",
              "</div>\n",
              "    <div class=\"colab-df-buttons\">\n",
              "\n",
              "  <div class=\"colab-df-container\">\n",
              "    <button class=\"colab-df-convert\" onclick=\"convertToInteractive('df-121d6f07-e64c-49b2-a9b4-3eec56a69da1')\"\n",
              "            title=\"Convert this dataframe to an interactive table.\"\n",
              "            style=\"display:none;\">\n",
              "\n",
              "  <svg xmlns=\"http://www.w3.org/2000/svg\" height=\"24px\" viewBox=\"0 -960 960 960\">\n",
              "    <path d=\"M120-120v-720h720v720H120Zm60-500h600v-160H180v160Zm220 220h160v-160H400v160Zm0 220h160v-160H400v160ZM180-400h160v-160H180v160Zm440 0h160v-160H620v160ZM180-180h160v-160H180v160Zm440 0h160v-160H620v160Z\"/>\n",
              "  </svg>\n",
              "    </button>\n",
              "\n",
              "  <style>\n",
              "    .colab-df-container {\n",
              "      display:flex;\n",
              "      gap: 12px;\n",
              "    }\n",
              "\n",
              "    .colab-df-convert {\n",
              "      background-color: #E8F0FE;\n",
              "      border: none;\n",
              "      border-radius: 50%;\n",
              "      cursor: pointer;\n",
              "      display: none;\n",
              "      fill: #1967D2;\n",
              "      height: 32px;\n",
              "      padding: 0 0 0 0;\n",
              "      width: 32px;\n",
              "    }\n",
              "\n",
              "    .colab-df-convert:hover {\n",
              "      background-color: #E2EBFA;\n",
              "      box-shadow: 0px 1px 2px rgba(60, 64, 67, 0.3), 0px 1px 3px 1px rgba(60, 64, 67, 0.15);\n",
              "      fill: #174EA6;\n",
              "    }\n",
              "\n",
              "    .colab-df-buttons div {\n",
              "      margin-bottom: 4px;\n",
              "    }\n",
              "\n",
              "    [theme=dark] .colab-df-convert {\n",
              "      background-color: #3B4455;\n",
              "      fill: #D2E3FC;\n",
              "    }\n",
              "\n",
              "    [theme=dark] .colab-df-convert:hover {\n",
              "      background-color: #434B5C;\n",
              "      box-shadow: 0px 1px 3px 1px rgba(0, 0, 0, 0.15);\n",
              "      filter: drop-shadow(0px 1px 2px rgba(0, 0, 0, 0.3));\n",
              "      fill: #FFFFFF;\n",
              "    }\n",
              "  </style>\n",
              "\n",
              "    <script>\n",
              "      const buttonEl =\n",
              "        document.querySelector('#df-121d6f07-e64c-49b2-a9b4-3eec56a69da1 button.colab-df-convert');\n",
              "      buttonEl.style.display =\n",
              "        google.colab.kernel.accessAllowed ? 'block' : 'none';\n",
              "\n",
              "      async function convertToInteractive(key) {\n",
              "        const element = document.querySelector('#df-121d6f07-e64c-49b2-a9b4-3eec56a69da1');\n",
              "        const dataTable =\n",
              "          await google.colab.kernel.invokeFunction('convertToInteractive',\n",
              "                                                    [key], {});\n",
              "        if (!dataTable) return;\n",
              "\n",
              "        const docLinkHtml = 'Like what you see? Visit the ' +\n",
              "          '<a target=\"_blank\" href=https://colab.research.google.com/notebooks/data_table.ipynb>data table notebook</a>'\n",
              "          + ' to learn more about interactive tables.';\n",
              "        element.innerHTML = '';\n",
              "        dataTable['output_type'] = 'display_data';\n",
              "        await google.colab.output.renderOutput(dataTable, element);\n",
              "        const docLink = document.createElement('div');\n",
              "        docLink.innerHTML = docLinkHtml;\n",
              "        element.appendChild(docLink);\n",
              "      }\n",
              "    </script>\n",
              "  </div>\n",
              "\n",
              "\n",
              "<div id=\"df-300a51ca-752b-4505-9579-601731bbfbdd\">\n",
              "  <button class=\"colab-df-quickchart\" onclick=\"quickchart('df-300a51ca-752b-4505-9579-601731bbfbdd')\"\n",
              "            title=\"Suggest charts.\"\n",
              "            style=\"display:none;\">\n",
              "\n",
              "<svg xmlns=\"http://www.w3.org/2000/svg\" height=\"24px\"viewBox=\"0 0 24 24\"\n",
              "     width=\"24px\">\n",
              "    <g>\n",
              "        <path d=\"M19 3H5c-1.1 0-2 .9-2 2v14c0 1.1.9 2 2 2h14c1.1 0 2-.9 2-2V5c0-1.1-.9-2-2-2zM9 17H7v-7h2v7zm4 0h-2V7h2v10zm4 0h-2v-4h2v4z\"/>\n",
              "    </g>\n",
              "</svg>\n",
              "  </button>\n",
              "\n",
              "<style>\n",
              "  .colab-df-quickchart {\n",
              "      --bg-color: #E8F0FE;\n",
              "      --fill-color: #1967D2;\n",
              "      --hover-bg-color: #E2EBFA;\n",
              "      --hover-fill-color: #174EA6;\n",
              "      --disabled-fill-color: #AAA;\n",
              "      --disabled-bg-color: #DDD;\n",
              "  }\n",
              "\n",
              "  [theme=dark] .colab-df-quickchart {\n",
              "      --bg-color: #3B4455;\n",
              "      --fill-color: #D2E3FC;\n",
              "      --hover-bg-color: #434B5C;\n",
              "      --hover-fill-color: #FFFFFF;\n",
              "      --disabled-bg-color: #3B4455;\n",
              "      --disabled-fill-color: #666;\n",
              "  }\n",
              "\n",
              "  .colab-df-quickchart {\n",
              "    background-color: var(--bg-color);\n",
              "    border: none;\n",
              "    border-radius: 50%;\n",
              "    cursor: pointer;\n",
              "    display: none;\n",
              "    fill: var(--fill-color);\n",
              "    height: 32px;\n",
              "    padding: 0;\n",
              "    width: 32px;\n",
              "  }\n",
              "\n",
              "  .colab-df-quickchart:hover {\n",
              "    background-color: var(--hover-bg-color);\n",
              "    box-shadow: 0 1px 2px rgba(60, 64, 67, 0.3), 0 1px 3px 1px rgba(60, 64, 67, 0.15);\n",
              "    fill: var(--button-hover-fill-color);\n",
              "  }\n",
              "\n",
              "  .colab-df-quickchart-complete:disabled,\n",
              "  .colab-df-quickchart-complete:disabled:hover {\n",
              "    background-color: var(--disabled-bg-color);\n",
              "    fill: var(--disabled-fill-color);\n",
              "    box-shadow: none;\n",
              "  }\n",
              "\n",
              "  .colab-df-spinner {\n",
              "    border: 2px solid var(--fill-color);\n",
              "    border-color: transparent;\n",
              "    border-bottom-color: var(--fill-color);\n",
              "    animation:\n",
              "      spin 1s steps(1) infinite;\n",
              "  }\n",
              "\n",
              "  @keyframes spin {\n",
              "    0% {\n",
              "      border-color: transparent;\n",
              "      border-bottom-color: var(--fill-color);\n",
              "      border-left-color: var(--fill-color);\n",
              "    }\n",
              "    20% {\n",
              "      border-color: transparent;\n",
              "      border-left-color: var(--fill-color);\n",
              "      border-top-color: var(--fill-color);\n",
              "    }\n",
              "    30% {\n",
              "      border-color: transparent;\n",
              "      border-left-color: var(--fill-color);\n",
              "      border-top-color: var(--fill-color);\n",
              "      border-right-color: var(--fill-color);\n",
              "    }\n",
              "    40% {\n",
              "      border-color: transparent;\n",
              "      border-right-color: var(--fill-color);\n",
              "      border-top-color: var(--fill-color);\n",
              "    }\n",
              "    60% {\n",
              "      border-color: transparent;\n",
              "      border-right-color: var(--fill-color);\n",
              "    }\n",
              "    80% {\n",
              "      border-color: transparent;\n",
              "      border-right-color: var(--fill-color);\n",
              "      border-bottom-color: var(--fill-color);\n",
              "    }\n",
              "    90% {\n",
              "      border-color: transparent;\n",
              "      border-bottom-color: var(--fill-color);\n",
              "    }\n",
              "  }\n",
              "</style>\n",
              "\n",
              "  <script>\n",
              "    async function quickchart(key) {\n",
              "      const quickchartButtonEl =\n",
              "        document.querySelector('#' + key + ' button');\n",
              "      quickchartButtonEl.disabled = true;  // To prevent multiple clicks.\n",
              "      quickchartButtonEl.classList.add('colab-df-spinner');\n",
              "      try {\n",
              "        const charts = await google.colab.kernel.invokeFunction(\n",
              "            'suggestCharts', [key], {});\n",
              "      } catch (error) {\n",
              "        console.error('Error during call to suggestCharts:', error);\n",
              "      }\n",
              "      quickchartButtonEl.classList.remove('colab-df-spinner');\n",
              "      quickchartButtonEl.classList.add('colab-df-quickchart-complete');\n",
              "    }\n",
              "    (() => {\n",
              "      let quickchartButtonEl =\n",
              "        document.querySelector('#df-300a51ca-752b-4505-9579-601731bbfbdd button');\n",
              "      quickchartButtonEl.style.display =\n",
              "        google.colab.kernel.accessAllowed ? 'block' : 'none';\n",
              "    })();\n",
              "  </script>\n",
              "</div>\n",
              "    </div>\n",
              "  </div>\n"
            ]
          },
          "metadata": {},
          "execution_count": 56
        }
      ],
      "source": [
        "# Построим сводную таблицу, где отобразим количество кредитополучателей, количество должников и процент должников в зависимости\n",
        "# от того, какое у клиентов семейное положение.\n",
        "\n",
        "pivot_table_family_status = data.pivot_table(\n",
        "    index='family_status',\n",
        "    values='debt',\n",
        "    aggfunc=['count', 'sum', 'mean']\n",
        ")\n",
        "\n",
        "pivot_table_family_status.columns = ['Всего кредитополучателей', 'Всего должников', 'Процент должников']\n",
        "pivot_table_family_status['Процент должников'] = pivot_table_family_status['Процент должников'] * 100\n",
        "pivot_table_family_status"
      ]
    },
    {
      "cell_type": "markdown",
      "id": "271b3404",
      "metadata": {
        "deletable": false,
        "id": "271b3404"
      },
      "source": [
        "**Вывод:** Вдовцы / вдовы имеют наибольшее отношение отсутствия задолженности по возврату кредитов к общему количеству выданных кредитов. Те, кто не женаты/ не замужем и клиенты, находящиеся в гражданском браке, имеют наименьший показатель отсутствия задолженности по возврату кредитов к общему количеству выданных кредитов."
      ]
    },
    {
      "cell_type": "markdown",
      "id": "6f2d99ac",
      "metadata": {
        "deletable": false,
        "editable": false,
        "id": "6f2d99ac"
      },
      "source": [
        "#### 3.3 Есть ли зависимость между уровнем дохода и возвратом кредита в срок?"
      ]
    },
    {
      "cell_type": "code",
      "execution_count": null,
      "id": "03b46d05",
      "metadata": {
        "colab": {
          "base_uri": "https://localhost:8080/",
          "height": 238
        },
        "id": "03b46d05",
        "outputId": "7c8d23cb-9f5c-4d8e-8ef6-bcdbba609962"
      },
      "outputs": [
        {
          "output_type": "execute_result",
          "data": {
            "text/plain": [
              "                       Всего кредитополучателей  Всего должников  \\\n",
              "total_income_category                                              \n",
              "A                                            25                2   \n",
              "B                                          5014              354   \n",
              "C                                         15921             1353   \n",
              "D                                           349               21   \n",
              "E                                            22                2   \n",
              "\n",
              "                       Процент должников  \n",
              "total_income_category                     \n",
              "A                               8.000000  \n",
              "B                               7.060231  \n",
              "C                               8.498210  \n",
              "D                               6.017192  \n",
              "E                               9.090909  "
            ],
            "text/html": [
              "\n",
              "  <div id=\"df-8d7f432c-74c0-4047-bfc5-1e393a1cd8f4\" class=\"colab-df-container\">\n",
              "    <div>\n",
              "<style scoped>\n",
              "    .dataframe tbody tr th:only-of-type {\n",
              "        vertical-align: middle;\n",
              "    }\n",
              "\n",
              "    .dataframe tbody tr th {\n",
              "        vertical-align: top;\n",
              "    }\n",
              "\n",
              "    .dataframe thead th {\n",
              "        text-align: right;\n",
              "    }\n",
              "</style>\n",
              "<table border=\"1\" class=\"dataframe\">\n",
              "  <thead>\n",
              "    <tr style=\"text-align: right;\">\n",
              "      <th></th>\n",
              "      <th>Всего кредитополучателей</th>\n",
              "      <th>Всего должников</th>\n",
              "      <th>Процент должников</th>\n",
              "    </tr>\n",
              "    <tr>\n",
              "      <th>total_income_category</th>\n",
              "      <th></th>\n",
              "      <th></th>\n",
              "      <th></th>\n",
              "    </tr>\n",
              "  </thead>\n",
              "  <tbody>\n",
              "    <tr>\n",
              "      <th>A</th>\n",
              "      <td>25</td>\n",
              "      <td>2</td>\n",
              "      <td>8.000000</td>\n",
              "    </tr>\n",
              "    <tr>\n",
              "      <th>B</th>\n",
              "      <td>5014</td>\n",
              "      <td>354</td>\n",
              "      <td>7.060231</td>\n",
              "    </tr>\n",
              "    <tr>\n",
              "      <th>C</th>\n",
              "      <td>15921</td>\n",
              "      <td>1353</td>\n",
              "      <td>8.498210</td>\n",
              "    </tr>\n",
              "    <tr>\n",
              "      <th>D</th>\n",
              "      <td>349</td>\n",
              "      <td>21</td>\n",
              "      <td>6.017192</td>\n",
              "    </tr>\n",
              "    <tr>\n",
              "      <th>E</th>\n",
              "      <td>22</td>\n",
              "      <td>2</td>\n",
              "      <td>9.090909</td>\n",
              "    </tr>\n",
              "  </tbody>\n",
              "</table>\n",
              "</div>\n",
              "    <div class=\"colab-df-buttons\">\n",
              "\n",
              "  <div class=\"colab-df-container\">\n",
              "    <button class=\"colab-df-convert\" onclick=\"convertToInteractive('df-8d7f432c-74c0-4047-bfc5-1e393a1cd8f4')\"\n",
              "            title=\"Convert this dataframe to an interactive table.\"\n",
              "            style=\"display:none;\">\n",
              "\n",
              "  <svg xmlns=\"http://www.w3.org/2000/svg\" height=\"24px\" viewBox=\"0 -960 960 960\">\n",
              "    <path d=\"M120-120v-720h720v720H120Zm60-500h600v-160H180v160Zm220 220h160v-160H400v160Zm0 220h160v-160H400v160ZM180-400h160v-160H180v160Zm440 0h160v-160H620v160ZM180-180h160v-160H180v160Zm440 0h160v-160H620v160Z\"/>\n",
              "  </svg>\n",
              "    </button>\n",
              "\n",
              "  <style>\n",
              "    .colab-df-container {\n",
              "      display:flex;\n",
              "      gap: 12px;\n",
              "    }\n",
              "\n",
              "    .colab-df-convert {\n",
              "      background-color: #E8F0FE;\n",
              "      border: none;\n",
              "      border-radius: 50%;\n",
              "      cursor: pointer;\n",
              "      display: none;\n",
              "      fill: #1967D2;\n",
              "      height: 32px;\n",
              "      padding: 0 0 0 0;\n",
              "      width: 32px;\n",
              "    }\n",
              "\n",
              "    .colab-df-convert:hover {\n",
              "      background-color: #E2EBFA;\n",
              "      box-shadow: 0px 1px 2px rgba(60, 64, 67, 0.3), 0px 1px 3px 1px rgba(60, 64, 67, 0.15);\n",
              "      fill: #174EA6;\n",
              "    }\n",
              "\n",
              "    .colab-df-buttons div {\n",
              "      margin-bottom: 4px;\n",
              "    }\n",
              "\n",
              "    [theme=dark] .colab-df-convert {\n",
              "      background-color: #3B4455;\n",
              "      fill: #D2E3FC;\n",
              "    }\n",
              "\n",
              "    [theme=dark] .colab-df-convert:hover {\n",
              "      background-color: #434B5C;\n",
              "      box-shadow: 0px 1px 3px 1px rgba(0, 0, 0, 0.15);\n",
              "      filter: drop-shadow(0px 1px 2px rgba(0, 0, 0, 0.3));\n",
              "      fill: #FFFFFF;\n",
              "    }\n",
              "  </style>\n",
              "\n",
              "    <script>\n",
              "      const buttonEl =\n",
              "        document.querySelector('#df-8d7f432c-74c0-4047-bfc5-1e393a1cd8f4 button.colab-df-convert');\n",
              "      buttonEl.style.display =\n",
              "        google.colab.kernel.accessAllowed ? 'block' : 'none';\n",
              "\n",
              "      async function convertToInteractive(key) {\n",
              "        const element = document.querySelector('#df-8d7f432c-74c0-4047-bfc5-1e393a1cd8f4');\n",
              "        const dataTable =\n",
              "          await google.colab.kernel.invokeFunction('convertToInteractive',\n",
              "                                                    [key], {});\n",
              "        if (!dataTable) return;\n",
              "\n",
              "        const docLinkHtml = 'Like what you see? Visit the ' +\n",
              "          '<a target=\"_blank\" href=https://colab.research.google.com/notebooks/data_table.ipynb>data table notebook</a>'\n",
              "          + ' to learn more about interactive tables.';\n",
              "        element.innerHTML = '';\n",
              "        dataTable['output_type'] = 'display_data';\n",
              "        await google.colab.output.renderOutput(dataTable, element);\n",
              "        const docLink = document.createElement('div');\n",
              "        docLink.innerHTML = docLinkHtml;\n",
              "        element.appendChild(docLink);\n",
              "      }\n",
              "    </script>\n",
              "  </div>\n",
              "\n",
              "\n",
              "<div id=\"df-ca763079-4473-47d4-ba86-daa0d79f62cd\">\n",
              "  <button class=\"colab-df-quickchart\" onclick=\"quickchart('df-ca763079-4473-47d4-ba86-daa0d79f62cd')\"\n",
              "            title=\"Suggest charts.\"\n",
              "            style=\"display:none;\">\n",
              "\n",
              "<svg xmlns=\"http://www.w3.org/2000/svg\" height=\"24px\"viewBox=\"0 0 24 24\"\n",
              "     width=\"24px\">\n",
              "    <g>\n",
              "        <path d=\"M19 3H5c-1.1 0-2 .9-2 2v14c0 1.1.9 2 2 2h14c1.1 0 2-.9 2-2V5c0-1.1-.9-2-2-2zM9 17H7v-7h2v7zm4 0h-2V7h2v10zm4 0h-2v-4h2v4z\"/>\n",
              "    </g>\n",
              "</svg>\n",
              "  </button>\n",
              "\n",
              "<style>\n",
              "  .colab-df-quickchart {\n",
              "      --bg-color: #E8F0FE;\n",
              "      --fill-color: #1967D2;\n",
              "      --hover-bg-color: #E2EBFA;\n",
              "      --hover-fill-color: #174EA6;\n",
              "      --disabled-fill-color: #AAA;\n",
              "      --disabled-bg-color: #DDD;\n",
              "  }\n",
              "\n",
              "  [theme=dark] .colab-df-quickchart {\n",
              "      --bg-color: #3B4455;\n",
              "      --fill-color: #D2E3FC;\n",
              "      --hover-bg-color: #434B5C;\n",
              "      --hover-fill-color: #FFFFFF;\n",
              "      --disabled-bg-color: #3B4455;\n",
              "      --disabled-fill-color: #666;\n",
              "  }\n",
              "\n",
              "  .colab-df-quickchart {\n",
              "    background-color: var(--bg-color);\n",
              "    border: none;\n",
              "    border-radius: 50%;\n",
              "    cursor: pointer;\n",
              "    display: none;\n",
              "    fill: var(--fill-color);\n",
              "    height: 32px;\n",
              "    padding: 0;\n",
              "    width: 32px;\n",
              "  }\n",
              "\n",
              "  .colab-df-quickchart:hover {\n",
              "    background-color: var(--hover-bg-color);\n",
              "    box-shadow: 0 1px 2px rgba(60, 64, 67, 0.3), 0 1px 3px 1px rgba(60, 64, 67, 0.15);\n",
              "    fill: var(--button-hover-fill-color);\n",
              "  }\n",
              "\n",
              "  .colab-df-quickchart-complete:disabled,\n",
              "  .colab-df-quickchart-complete:disabled:hover {\n",
              "    background-color: var(--disabled-bg-color);\n",
              "    fill: var(--disabled-fill-color);\n",
              "    box-shadow: none;\n",
              "  }\n",
              "\n",
              "  .colab-df-spinner {\n",
              "    border: 2px solid var(--fill-color);\n",
              "    border-color: transparent;\n",
              "    border-bottom-color: var(--fill-color);\n",
              "    animation:\n",
              "      spin 1s steps(1) infinite;\n",
              "  }\n",
              "\n",
              "  @keyframes spin {\n",
              "    0% {\n",
              "      border-color: transparent;\n",
              "      border-bottom-color: var(--fill-color);\n",
              "      border-left-color: var(--fill-color);\n",
              "    }\n",
              "    20% {\n",
              "      border-color: transparent;\n",
              "      border-left-color: var(--fill-color);\n",
              "      border-top-color: var(--fill-color);\n",
              "    }\n",
              "    30% {\n",
              "      border-color: transparent;\n",
              "      border-left-color: var(--fill-color);\n",
              "      border-top-color: var(--fill-color);\n",
              "      border-right-color: var(--fill-color);\n",
              "    }\n",
              "    40% {\n",
              "      border-color: transparent;\n",
              "      border-right-color: var(--fill-color);\n",
              "      border-top-color: var(--fill-color);\n",
              "    }\n",
              "    60% {\n",
              "      border-color: transparent;\n",
              "      border-right-color: var(--fill-color);\n",
              "    }\n",
              "    80% {\n",
              "      border-color: transparent;\n",
              "      border-right-color: var(--fill-color);\n",
              "      border-bottom-color: var(--fill-color);\n",
              "    }\n",
              "    90% {\n",
              "      border-color: transparent;\n",
              "      border-bottom-color: var(--fill-color);\n",
              "    }\n",
              "  }\n",
              "</style>\n",
              "\n",
              "  <script>\n",
              "    async function quickchart(key) {\n",
              "      const quickchartButtonEl =\n",
              "        document.querySelector('#' + key + ' button');\n",
              "      quickchartButtonEl.disabled = true;  // To prevent multiple clicks.\n",
              "      quickchartButtonEl.classList.add('colab-df-spinner');\n",
              "      try {\n",
              "        const charts = await google.colab.kernel.invokeFunction(\n",
              "            'suggestCharts', [key], {});\n",
              "      } catch (error) {\n",
              "        console.error('Error during call to suggestCharts:', error);\n",
              "      }\n",
              "      quickchartButtonEl.classList.remove('colab-df-spinner');\n",
              "      quickchartButtonEl.classList.add('colab-df-quickchart-complete');\n",
              "    }\n",
              "    (() => {\n",
              "      let quickchartButtonEl =\n",
              "        document.querySelector('#df-ca763079-4473-47d4-ba86-daa0d79f62cd button');\n",
              "      quickchartButtonEl.style.display =\n",
              "        google.colab.kernel.accessAllowed ? 'block' : 'none';\n",
              "    })();\n",
              "  </script>\n",
              "</div>\n",
              "    </div>\n",
              "  </div>\n"
            ]
          },
          "metadata": {},
          "execution_count": 57
        }
      ],
      "source": [
        "# Построим сводную таблицу, где отобразим количество кредитополучателей, количество должников и процент должников в зависимости\n",
        "# от того, к какой категории по доходам относится клиент.\n",
        "\n",
        "pivot_table_total_income_category = data.pivot_table(index='total_income_category',\n",
        "                                                    values='debt',\n",
        "                                                    aggfunc=['count', 'sum', 'mean']\n",
        ")\n",
        "pivot_table_total_income_category.columns = ['Всего кредитополучателей', 'Всего должников', 'Процент должников']\n",
        "pivot_table_total_income_category['Процент должников'] = pivot_table_total_income_category['Процент должников'] * 100\n",
        "pivot_table_total_income_category"
      ]
    },
    {
      "cell_type": "markdown",
      "id": "650636e1",
      "metadata": {
        "id": "650636e1"
      },
      "source": [
        "**Вывод:** Для клиентов, у которых категория дохода 'A' и 'E', выборка непрезентативная. Из числа клиентов, для которых выборка является репрезентативной, процент должников меньше всего у людей, у которых категория доходов D . Для клиентов, у которых категория доходов C, процент должников самый высокий.  \n",
        "Таким образом, если сравнить самые большие категории B и C, можно сказать, что заемщики с более высоким доходом платят кредиты вовремя лучше."
      ]
    },
    {
      "cell_type": "markdown",
      "id": "052eff6c",
      "metadata": {
        "deletable": false,
        "editable": false,
        "id": "052eff6c"
      },
      "source": [
        "#### 3.4 Как разные цели кредита влияют на его возврат в срок?"
      ]
    },
    {
      "cell_type": "code",
      "execution_count": null,
      "id": "f287262e",
      "metadata": {
        "colab": {
          "base_uri": "https://localhost:8080/",
          "height": 206
        },
        "id": "f287262e",
        "outputId": "f619e088-9af1-4512-c2fa-344a41ea30c0"
      },
      "outputs": [
        {
          "output_type": "execute_result",
          "data": {
            "text/plain": [
              "                          Всего кредитополучателей  Всего должников  \\\n",
              "purpose_category                                                      \n",
              "операции с автомобилем                        4279              400   \n",
              "операции с недвижимостью                     10751              780   \n",
              "получение образования                         3988              369   \n",
              "проведение свадьбы                            2313              183   \n",
              "\n",
              "                          Процент должников  \n",
              "purpose_category                             \n",
              "операции с автомобилем             9.347978  \n",
              "операции с недвижимостью           7.255139  \n",
              "получение образования              9.252758  \n",
              "проведение свадьбы                 7.911803  "
            ],
            "text/html": [
              "\n",
              "  <div id=\"df-8b1546a4-0cef-4de6-9c3d-944ea1a8d005\" class=\"colab-df-container\">\n",
              "    <div>\n",
              "<style scoped>\n",
              "    .dataframe tbody tr th:only-of-type {\n",
              "        vertical-align: middle;\n",
              "    }\n",
              "\n",
              "    .dataframe tbody tr th {\n",
              "        vertical-align: top;\n",
              "    }\n",
              "\n",
              "    .dataframe thead th {\n",
              "        text-align: right;\n",
              "    }\n",
              "</style>\n",
              "<table border=\"1\" class=\"dataframe\">\n",
              "  <thead>\n",
              "    <tr style=\"text-align: right;\">\n",
              "      <th></th>\n",
              "      <th>Всего кредитополучателей</th>\n",
              "      <th>Всего должников</th>\n",
              "      <th>Процент должников</th>\n",
              "    </tr>\n",
              "    <tr>\n",
              "      <th>purpose_category</th>\n",
              "      <th></th>\n",
              "      <th></th>\n",
              "      <th></th>\n",
              "    </tr>\n",
              "  </thead>\n",
              "  <tbody>\n",
              "    <tr>\n",
              "      <th>операции с автомобилем</th>\n",
              "      <td>4279</td>\n",
              "      <td>400</td>\n",
              "      <td>9.347978</td>\n",
              "    </tr>\n",
              "    <tr>\n",
              "      <th>операции с недвижимостью</th>\n",
              "      <td>10751</td>\n",
              "      <td>780</td>\n",
              "      <td>7.255139</td>\n",
              "    </tr>\n",
              "    <tr>\n",
              "      <th>получение образования</th>\n",
              "      <td>3988</td>\n",
              "      <td>369</td>\n",
              "      <td>9.252758</td>\n",
              "    </tr>\n",
              "    <tr>\n",
              "      <th>проведение свадьбы</th>\n",
              "      <td>2313</td>\n",
              "      <td>183</td>\n",
              "      <td>7.911803</td>\n",
              "    </tr>\n",
              "  </tbody>\n",
              "</table>\n",
              "</div>\n",
              "    <div class=\"colab-df-buttons\">\n",
              "\n",
              "  <div class=\"colab-df-container\">\n",
              "    <button class=\"colab-df-convert\" onclick=\"convertToInteractive('df-8b1546a4-0cef-4de6-9c3d-944ea1a8d005')\"\n",
              "            title=\"Convert this dataframe to an interactive table.\"\n",
              "            style=\"display:none;\">\n",
              "\n",
              "  <svg xmlns=\"http://www.w3.org/2000/svg\" height=\"24px\" viewBox=\"0 -960 960 960\">\n",
              "    <path d=\"M120-120v-720h720v720H120Zm60-500h600v-160H180v160Zm220 220h160v-160H400v160Zm0 220h160v-160H400v160ZM180-400h160v-160H180v160Zm440 0h160v-160H620v160ZM180-180h160v-160H180v160Zm440 0h160v-160H620v160Z\"/>\n",
              "  </svg>\n",
              "    </button>\n",
              "\n",
              "  <style>\n",
              "    .colab-df-container {\n",
              "      display:flex;\n",
              "      gap: 12px;\n",
              "    }\n",
              "\n",
              "    .colab-df-convert {\n",
              "      background-color: #E8F0FE;\n",
              "      border: none;\n",
              "      border-radius: 50%;\n",
              "      cursor: pointer;\n",
              "      display: none;\n",
              "      fill: #1967D2;\n",
              "      height: 32px;\n",
              "      padding: 0 0 0 0;\n",
              "      width: 32px;\n",
              "    }\n",
              "\n",
              "    .colab-df-convert:hover {\n",
              "      background-color: #E2EBFA;\n",
              "      box-shadow: 0px 1px 2px rgba(60, 64, 67, 0.3), 0px 1px 3px 1px rgba(60, 64, 67, 0.15);\n",
              "      fill: #174EA6;\n",
              "    }\n",
              "\n",
              "    .colab-df-buttons div {\n",
              "      margin-bottom: 4px;\n",
              "    }\n",
              "\n",
              "    [theme=dark] .colab-df-convert {\n",
              "      background-color: #3B4455;\n",
              "      fill: #D2E3FC;\n",
              "    }\n",
              "\n",
              "    [theme=dark] .colab-df-convert:hover {\n",
              "      background-color: #434B5C;\n",
              "      box-shadow: 0px 1px 3px 1px rgba(0, 0, 0, 0.15);\n",
              "      filter: drop-shadow(0px 1px 2px rgba(0, 0, 0, 0.3));\n",
              "      fill: #FFFFFF;\n",
              "    }\n",
              "  </style>\n",
              "\n",
              "    <script>\n",
              "      const buttonEl =\n",
              "        document.querySelector('#df-8b1546a4-0cef-4de6-9c3d-944ea1a8d005 button.colab-df-convert');\n",
              "      buttonEl.style.display =\n",
              "        google.colab.kernel.accessAllowed ? 'block' : 'none';\n",
              "\n",
              "      async function convertToInteractive(key) {\n",
              "        const element = document.querySelector('#df-8b1546a4-0cef-4de6-9c3d-944ea1a8d005');\n",
              "        const dataTable =\n",
              "          await google.colab.kernel.invokeFunction('convertToInteractive',\n",
              "                                                    [key], {});\n",
              "        if (!dataTable) return;\n",
              "\n",
              "        const docLinkHtml = 'Like what you see? Visit the ' +\n",
              "          '<a target=\"_blank\" href=https://colab.research.google.com/notebooks/data_table.ipynb>data table notebook</a>'\n",
              "          + ' to learn more about interactive tables.';\n",
              "        element.innerHTML = '';\n",
              "        dataTable['output_type'] = 'display_data';\n",
              "        await google.colab.output.renderOutput(dataTable, element);\n",
              "        const docLink = document.createElement('div');\n",
              "        docLink.innerHTML = docLinkHtml;\n",
              "        element.appendChild(docLink);\n",
              "      }\n",
              "    </script>\n",
              "  </div>\n",
              "\n",
              "\n",
              "<div id=\"df-cb71ca59-bb8a-44f9-acca-57d560a43b59\">\n",
              "  <button class=\"colab-df-quickchart\" onclick=\"quickchart('df-cb71ca59-bb8a-44f9-acca-57d560a43b59')\"\n",
              "            title=\"Suggest charts.\"\n",
              "            style=\"display:none;\">\n",
              "\n",
              "<svg xmlns=\"http://www.w3.org/2000/svg\" height=\"24px\"viewBox=\"0 0 24 24\"\n",
              "     width=\"24px\">\n",
              "    <g>\n",
              "        <path d=\"M19 3H5c-1.1 0-2 .9-2 2v14c0 1.1.9 2 2 2h14c1.1 0 2-.9 2-2V5c0-1.1-.9-2-2-2zM9 17H7v-7h2v7zm4 0h-2V7h2v10zm4 0h-2v-4h2v4z\"/>\n",
              "    </g>\n",
              "</svg>\n",
              "  </button>\n",
              "\n",
              "<style>\n",
              "  .colab-df-quickchart {\n",
              "      --bg-color: #E8F0FE;\n",
              "      --fill-color: #1967D2;\n",
              "      --hover-bg-color: #E2EBFA;\n",
              "      --hover-fill-color: #174EA6;\n",
              "      --disabled-fill-color: #AAA;\n",
              "      --disabled-bg-color: #DDD;\n",
              "  }\n",
              "\n",
              "  [theme=dark] .colab-df-quickchart {\n",
              "      --bg-color: #3B4455;\n",
              "      --fill-color: #D2E3FC;\n",
              "      --hover-bg-color: #434B5C;\n",
              "      --hover-fill-color: #FFFFFF;\n",
              "      --disabled-bg-color: #3B4455;\n",
              "      --disabled-fill-color: #666;\n",
              "  }\n",
              "\n",
              "  .colab-df-quickchart {\n",
              "    background-color: var(--bg-color);\n",
              "    border: none;\n",
              "    border-radius: 50%;\n",
              "    cursor: pointer;\n",
              "    display: none;\n",
              "    fill: var(--fill-color);\n",
              "    height: 32px;\n",
              "    padding: 0;\n",
              "    width: 32px;\n",
              "  }\n",
              "\n",
              "  .colab-df-quickchart:hover {\n",
              "    background-color: var(--hover-bg-color);\n",
              "    box-shadow: 0 1px 2px rgba(60, 64, 67, 0.3), 0 1px 3px 1px rgba(60, 64, 67, 0.15);\n",
              "    fill: var(--button-hover-fill-color);\n",
              "  }\n",
              "\n",
              "  .colab-df-quickchart-complete:disabled,\n",
              "  .colab-df-quickchart-complete:disabled:hover {\n",
              "    background-color: var(--disabled-bg-color);\n",
              "    fill: var(--disabled-fill-color);\n",
              "    box-shadow: none;\n",
              "  }\n",
              "\n",
              "  .colab-df-spinner {\n",
              "    border: 2px solid var(--fill-color);\n",
              "    border-color: transparent;\n",
              "    border-bottom-color: var(--fill-color);\n",
              "    animation:\n",
              "      spin 1s steps(1) infinite;\n",
              "  }\n",
              "\n",
              "  @keyframes spin {\n",
              "    0% {\n",
              "      border-color: transparent;\n",
              "      border-bottom-color: var(--fill-color);\n",
              "      border-left-color: var(--fill-color);\n",
              "    }\n",
              "    20% {\n",
              "      border-color: transparent;\n",
              "      border-left-color: var(--fill-color);\n",
              "      border-top-color: var(--fill-color);\n",
              "    }\n",
              "    30% {\n",
              "      border-color: transparent;\n",
              "      border-left-color: var(--fill-color);\n",
              "      border-top-color: var(--fill-color);\n",
              "      border-right-color: var(--fill-color);\n",
              "    }\n",
              "    40% {\n",
              "      border-color: transparent;\n",
              "      border-right-color: var(--fill-color);\n",
              "      border-top-color: var(--fill-color);\n",
              "    }\n",
              "    60% {\n",
              "      border-color: transparent;\n",
              "      border-right-color: var(--fill-color);\n",
              "    }\n",
              "    80% {\n",
              "      border-color: transparent;\n",
              "      border-right-color: var(--fill-color);\n",
              "      border-bottom-color: var(--fill-color);\n",
              "    }\n",
              "    90% {\n",
              "      border-color: transparent;\n",
              "      border-bottom-color: var(--fill-color);\n",
              "    }\n",
              "  }\n",
              "</style>\n",
              "\n",
              "  <script>\n",
              "    async function quickchart(key) {\n",
              "      const quickchartButtonEl =\n",
              "        document.querySelector('#' + key + ' button');\n",
              "      quickchartButtonEl.disabled = true;  // To prevent multiple clicks.\n",
              "      quickchartButtonEl.classList.add('colab-df-spinner');\n",
              "      try {\n",
              "        const charts = await google.colab.kernel.invokeFunction(\n",
              "            'suggestCharts', [key], {});\n",
              "      } catch (error) {\n",
              "        console.error('Error during call to suggestCharts:', error);\n",
              "      }\n",
              "      quickchartButtonEl.classList.remove('colab-df-spinner');\n",
              "      quickchartButtonEl.classList.add('colab-df-quickchart-complete');\n",
              "    }\n",
              "    (() => {\n",
              "      let quickchartButtonEl =\n",
              "        document.querySelector('#df-cb71ca59-bb8a-44f9-acca-57d560a43b59 button');\n",
              "      quickchartButtonEl.style.display =\n",
              "        google.colab.kernel.accessAllowed ? 'block' : 'none';\n",
              "    })();\n",
              "  </script>\n",
              "</div>\n",
              "    </div>\n",
              "  </div>\n"
            ]
          },
          "metadata": {},
          "execution_count": 58
        }
      ],
      "source": [
        "# Построим сводную таблицу, где отобразим количество кредитополучателей, количество должников и процент должников в зависимости\n",
        "# от целей кредита.\n",
        "\n",
        "pivot_table_purpose_category = data.pivot_table(index='purpose_category',\n",
        "                                                    values='debt',\n",
        "                                                    aggfunc=['count', 'sum', 'mean']\n",
        ")\n",
        "pivot_table_purpose_category.columns = ['Всего кредитополучателей', 'Всего должников', 'Процент должников']\n",
        "pivot_table_purpose_category['Процент должников'] = pivot_table_purpose_category['Процент должников'] * 100\n",
        "pivot_table_purpose_category"
      ]
    },
    {
      "cell_type": "markdown",
      "id": "c914acad",
      "metadata": {
        "deletable": false,
        "id": "c914acad"
      },
      "source": [
        "**Вывод:** Для целей кредита \"операции с недвижимостью\" и \"проведение свадьбы\" чаще всего отсутствует задолженность. Отношение отсутствия задолженности к числу выданных кредитов составляят 0.927449 и 0.920882 для двух данных категорий, соответственно.\n",
        "    Для целей кредита \"операции с автомобилем \" и \"получение образования\" чаще присутствует задолженность. Отношение отсутствия задолженности к числу выданных кредитов составляет 0.906520 и 0.907472 для двух данных категорий, соответственно."
      ]
    },
    {
      "cell_type": "markdown",
      "id": "590d4639",
      "metadata": {
        "deletable": false,
        "editable": false,
        "id": "590d4639"
      },
      "source": [
        "#### 3.5 Приведите возможные причины появления пропусков в исходных данных."
      ]
    },
    {
      "cell_type": "markdown",
      "id": "7daccff2",
      "metadata": {
        "deletable": false,
        "id": "7daccff2"
      },
      "source": [
        "*Ответ:* Количество пропущенных значений в столбцах 'days_employed' и 'total_income' одинаково - 2174. Из-за этого можно предположить, что возможной причиной появления пропусков в исходных данных является техническая причина.  \n",
        "Кроме технических ошибок причиной возникновения пропусков в данных может быть человеческий фактор."
      ]
    },
    {
      "cell_type": "markdown",
      "id": "6d7f3b07",
      "metadata": {
        "deletable": false,
        "editable": false,
        "id": "6d7f3b07"
      },
      "source": [
        "#### 3.6 Объясните, почему заполнить пропуски медианным значением — лучшее решение для количественных переменных."
      ]
    },
    {
      "cell_type": "markdown",
      "id": "71ea86d1",
      "metadata": {
        "deletable": false,
        "id": "71ea86d1"
      },
      "source": [
        "*Ответ:* Заполнение пропусков медианным значением для количественных переменных является лучшим решением, так как оторванные  от основной массы значения смещают средний показатель вверх. Медиана менее чувствительна к выбросам.  \n",
        "Для примера рассчитаем эти метрики для столбца `days_employed`, где есть выбросы."
      ]
    },
    {
      "cell_type": "code",
      "execution_count": null,
      "id": "ae60437e",
      "metadata": {
        "colab": {
          "base_uri": "https://localhost:8080/"
        },
        "id": "ae60437e",
        "outputId": "a421d4b4-c58a-48c2-964f-76ab7289d189"
      },
      "outputs": [
        {
          "output_type": "stream",
          "name": "stdout",
          "text": [
            "Среднее значение столбца \"days_employed\": 67148.97\n",
            "Медианное значение столбца \"days_employed\": 1996.73\n"
          ]
        }
      ],
      "source": [
        "print(f'Среднее значение столбца \"days_employed\": {data[\"days_employed\"].mean():.2f}')\n",
        "print(f'Медианное значение столбца \"days_employed\": {data[\"days_employed\"].median():.2f}')"
      ]
    },
    {
      "cell_type": "markdown",
      "id": "65f50b41",
      "metadata": {
        "deletable": false,
        "editable": false,
        "id": "65f50b41"
      },
      "source": [
        "## Шаг 4: общий вывод."
      ]
    },
    {
      "cell_type": "markdown",
      "id": "7116fb70",
      "metadata": {
        "id": "7116fb70"
      },
      "source": [
        "По итогу исследования можно сделать следующие выводы:\n",
        "\n",
        "- Из числа клиентов по количеству детей, для которых выборка является репрезентативной, процент должников меньше всего у людей, у которых нет детей. Среди клиентов, у которых 2 ребёнка, процент должников самый высокий. Для клиентов, у которых есть 4 или 5 ребёнка, выборка непрезентативная.\n",
        "- Состоящие или состоявшие в браке заемщики реже допускают просрочки.\n",
        "- Процент должников наименьший среди клиентов с категорией доходов 'D' (30001–50000). Самый высокий процент должников среди клиентов категории 'C' (50001–200000). Выборка оказалась нерепрезентативной для клиентов с категорие доходов 'A' (1000001 и выше) и 'E' (0–30000).\n",
        "- Для целей кредита \"операции с недвижимостью\" и \"проведение свадьбы\" чаще всего отсутствует задолженность по возврату кредита. Для целей кредита \"операции с автомобилем \" и \"получение образования\" задолженность присутствует чаще, чем для остальных целей."
      ]
    }
  ],
  "metadata": {
    "ExecuteTimeLog": [
      {
        "duration": 530,
        "start_time": "2023-01-09T13:37:51.417Z"
      },
      {
        "duration": 22,
        "start_time": "2023-01-09T13:37:51.949Z"
      },
      {
        "duration": 26,
        "start_time": "2023-01-09T13:37:51.972Z"
      },
      {
        "duration": 9,
        "start_time": "2023-01-09T13:37:52.000Z"
      },
      {
        "duration": 32,
        "start_time": "2023-01-09T13:37:52.011Z"
      },
      {
        "duration": 3,
        "start_time": "2023-01-09T13:37:52.045Z"
      },
      {
        "duration": 13,
        "start_time": "2023-01-09T13:37:52.049Z"
      },
      {
        "duration": 4,
        "start_time": "2023-01-09T13:37:52.064Z"
      },
      {
        "duration": 6,
        "start_time": "2023-01-09T13:37:52.078Z"
      },
      {
        "duration": 4,
        "start_time": "2023-01-09T13:37:52.087Z"
      },
      {
        "duration": 33,
        "start_time": "2023-01-09T13:37:52.093Z"
      },
      {
        "duration": 8,
        "start_time": "2023-01-09T13:37:52.128Z"
      },
      {
        "duration": 4,
        "start_time": "2023-01-09T13:37:52.138Z"
      },
      {
        "duration": 36,
        "start_time": "2023-01-09T13:37:52.143Z"
      },
      {
        "duration": 17,
        "start_time": "2023-01-09T13:37:52.181Z"
      },
      {
        "duration": 15,
        "start_time": "2023-01-09T13:37:52.200Z"
      },
      {
        "duration": 4,
        "start_time": "2023-01-09T13:37:52.217Z"
      },
      {
        "duration": 22,
        "start_time": "2023-01-09T13:37:52.223Z"
      },
      {
        "duration": 10,
        "start_time": "2023-01-09T13:37:52.246Z"
      },
      {
        "duration": 21,
        "start_time": "2023-01-09T13:37:52.258Z"
      },
      {
        "duration": 15,
        "start_time": "2023-01-09T13:37:52.281Z"
      },
      {
        "duration": 3,
        "start_time": "2023-01-09T13:37:52.298Z"
      },
      {
        "duration": 5,
        "start_time": "2023-01-09T13:37:52.302Z"
      },
      {
        "duration": 10,
        "start_time": "2023-01-09T13:37:52.308Z"
      },
      {
        "duration": 6,
        "start_time": "2023-01-09T13:37:52.319Z"
      },
      {
        "duration": 2,
        "start_time": "2023-01-09T13:38:05.413Z"
      },
      {
        "duration": 9,
        "start_time": "2023-01-09T13:38:26.791Z"
      },
      {
        "duration": 10,
        "start_time": "2023-01-09T13:58:21.527Z"
      },
      {
        "duration": 13,
        "start_time": "2023-01-09T13:58:26.911Z"
      },
      {
        "duration": 11,
        "start_time": "2023-01-09T14:00:24.363Z"
      },
      {
        "duration": 8,
        "start_time": "2023-01-09T14:01:02.331Z"
      },
      {
        "duration": 10,
        "start_time": "2023-01-09T14:03:50.757Z"
      },
      {
        "duration": 14,
        "start_time": "2023-01-09T14:04:46.575Z"
      },
      {
        "duration": 16,
        "start_time": "2023-01-09T14:04:58.156Z"
      },
      {
        "duration": 68,
        "start_time": "2023-01-09T14:06:13.064Z"
      },
      {
        "duration": 71,
        "start_time": "2023-01-09T14:06:32.143Z"
      },
      {
        "duration": 16,
        "start_time": "2023-01-09T14:06:42.633Z"
      },
      {
        "duration": 90,
        "start_time": "2023-01-09T14:06:51.768Z"
      },
      {
        "duration": 29,
        "start_time": "2023-01-09T14:07:12.851Z"
      },
      {
        "duration": 9,
        "start_time": "2023-01-09T14:08:00.091Z"
      },
      {
        "duration": 14,
        "start_time": "2023-01-09T14:08:07.625Z"
      },
      {
        "duration": 68,
        "start_time": "2023-01-09T14:11:58.238Z"
      },
      {
        "duration": 8,
        "start_time": "2023-01-09T14:12:06.670Z"
      },
      {
        "duration": 9,
        "start_time": "2023-01-09T14:13:31.674Z"
      },
      {
        "duration": 10,
        "start_time": "2023-01-09T14:14:24.921Z"
      },
      {
        "duration": 8,
        "start_time": "2023-01-09T14:36:34.572Z"
      },
      {
        "duration": 8,
        "start_time": "2023-01-09T14:48:04.273Z"
      },
      {
        "duration": 73,
        "start_time": "2023-01-09T14:48:45.059Z"
      },
      {
        "duration": 7,
        "start_time": "2023-01-09T14:48:53.451Z"
      },
      {
        "duration": 11,
        "start_time": "2023-01-09T15:06:00.410Z"
      },
      {
        "duration": 14,
        "start_time": "2023-01-09T15:06:38.219Z"
      },
      {
        "duration": 6,
        "start_time": "2023-01-09T15:08:55.164Z"
      },
      {
        "duration": 7,
        "start_time": "2023-01-09T15:09:40.621Z"
      },
      {
        "duration": 8,
        "start_time": "2023-01-09T15:09:57.357Z"
      },
      {
        "duration": 25,
        "start_time": "2023-01-09T15:15:13.444Z"
      },
      {
        "duration": 8,
        "start_time": "2023-01-09T15:15:22.229Z"
      },
      {
        "duration": 8,
        "start_time": "2023-01-09T15:16:58.365Z"
      },
      {
        "duration": 8,
        "start_time": "2023-01-09T15:18:14.932Z"
      },
      {
        "duration": 72,
        "start_time": "2023-01-09T15:19:47.770Z"
      },
      {
        "duration": 74,
        "start_time": "2023-01-09T15:19:54.025Z"
      },
      {
        "duration": 10,
        "start_time": "2023-01-09T15:19:56.506Z"
      },
      {
        "duration": 12,
        "start_time": "2023-01-09T15:22:27.765Z"
      },
      {
        "duration": 5,
        "start_time": "2023-01-09T15:27:27.748Z"
      },
      {
        "duration": 8,
        "start_time": "2023-01-09T15:27:40.883Z"
      },
      {
        "duration": 9,
        "start_time": "2023-01-09T15:42:10.885Z"
      },
      {
        "duration": 9,
        "start_time": "2023-01-09T15:43:59.285Z"
      },
      {
        "duration": 8,
        "start_time": "2023-01-09T15:44:35.470Z"
      },
      {
        "duration": 8,
        "start_time": "2023-01-09T15:44:36.070Z"
      },
      {
        "duration": 12,
        "start_time": "2023-01-09T15:47:06.787Z"
      },
      {
        "duration": 75,
        "start_time": "2023-01-09T15:48:17.067Z"
      },
      {
        "duration": 78,
        "start_time": "2023-01-09T15:48:25.531Z"
      },
      {
        "duration": 77,
        "start_time": "2023-01-09T15:49:03.707Z"
      },
      {
        "duration": 65,
        "start_time": "2023-01-09T15:49:11.868Z"
      },
      {
        "duration": 95,
        "start_time": "2023-01-09T15:49:33.356Z"
      },
      {
        "duration": 72,
        "start_time": "2023-01-09T15:49:39.548Z"
      },
      {
        "duration": 89,
        "start_time": "2023-01-09T15:49:47.356Z"
      },
      {
        "duration": 6,
        "start_time": "2023-01-09T15:49:57.661Z"
      },
      {
        "duration": 13,
        "start_time": "2023-01-09T15:50:21.505Z"
      },
      {
        "duration": 9,
        "start_time": "2023-01-09T15:50:44.150Z"
      },
      {
        "duration": 9,
        "start_time": "2023-01-09T15:50:48.278Z"
      },
      {
        "duration": 8,
        "start_time": "2023-01-09T15:50:48.816Z"
      },
      {
        "duration": 11,
        "start_time": "2023-01-09T15:53:34.707Z"
      },
      {
        "duration": 11,
        "start_time": "2023-01-09T15:53:48.057Z"
      },
      {
        "duration": 14,
        "start_time": "2023-01-09T15:54:03.129Z"
      },
      {
        "duration": 11,
        "start_time": "2023-01-09T15:54:47.795Z"
      },
      {
        "duration": 74,
        "start_time": "2023-01-09T15:54:55.180Z"
      },
      {
        "duration": 11,
        "start_time": "2023-01-09T15:54:59.198Z"
      },
      {
        "duration": 11,
        "start_time": "2023-01-09T15:57:12.078Z"
      },
      {
        "duration": 12,
        "start_time": "2023-01-09T16:02:02.493Z"
      },
      {
        "duration": 10,
        "start_time": "2023-01-09T16:30:21.982Z"
      },
      {
        "duration": 11,
        "start_time": "2023-01-09T16:30:31.062Z"
      },
      {
        "duration": 11,
        "start_time": "2023-01-09T16:30:38.304Z"
      },
      {
        "duration": 12,
        "start_time": "2023-01-09T16:31:41.417Z"
      },
      {
        "duration": 16,
        "start_time": "2023-01-09T16:33:29.802Z"
      },
      {
        "duration": 90,
        "start_time": "2023-01-09T16:34:32.453Z"
      },
      {
        "duration": 12,
        "start_time": "2023-01-09T16:34:34.942Z"
      },
      {
        "duration": 11,
        "start_time": "2023-01-09T16:34:53.356Z"
      },
      {
        "duration": 12,
        "start_time": "2023-01-09T16:35:47.693Z"
      },
      {
        "duration": 22,
        "start_time": "2023-01-09T16:37:54.057Z"
      },
      {
        "duration": 14,
        "start_time": "2023-01-09T16:38:04.152Z"
      },
      {
        "duration": 16,
        "start_time": "2023-01-09T16:38:43.025Z"
      },
      {
        "duration": 17,
        "start_time": "2023-01-09T16:39:11.473Z"
      },
      {
        "duration": 16,
        "start_time": "2023-01-09T16:39:41.722Z"
      },
      {
        "duration": 68,
        "start_time": "2023-01-09T16:39:52.089Z"
      },
      {
        "duration": 76,
        "start_time": "2023-01-09T16:40:00.058Z"
      },
      {
        "duration": 10,
        "start_time": "2023-01-09T16:40:02.706Z"
      },
      {
        "duration": 10,
        "start_time": "2023-01-09T16:40:06.379Z"
      },
      {
        "duration": 14,
        "start_time": "2023-01-09T16:40:20.715Z"
      },
      {
        "duration": 16,
        "start_time": "2023-01-09T16:41:34.301Z"
      },
      {
        "duration": 76,
        "start_time": "2023-01-09T16:41:42.429Z"
      },
      {
        "duration": 70,
        "start_time": "2023-01-09T16:42:46.358Z"
      },
      {
        "duration": 17,
        "start_time": "2023-01-09T16:43:03.928Z"
      },
      {
        "duration": 24,
        "start_time": "2023-01-09T16:45:33.794Z"
      },
      {
        "duration": 20,
        "start_time": "2023-01-09T16:45:40.185Z"
      },
      {
        "duration": 20,
        "start_time": "2023-01-09T16:45:47.306Z"
      },
      {
        "duration": 23,
        "start_time": "2023-01-09T16:46:18.658Z"
      },
      {
        "duration": 13,
        "start_time": "2023-01-09T16:46:55.619Z"
      },
      {
        "duration": 16,
        "start_time": "2023-01-09T16:46:59.051Z"
      },
      {
        "duration": 13,
        "start_time": "2023-01-09T16:49:06.822Z"
      },
      {
        "duration": 14,
        "start_time": "2023-01-09T16:49:54.655Z"
      },
      {
        "duration": 13,
        "start_time": "2023-01-09T16:50:16.087Z"
      },
      {
        "duration": 18,
        "start_time": "2023-01-09T16:50:36.872Z"
      },
      {
        "duration": 10,
        "start_time": "2023-01-09T16:50:54.544Z"
      },
      {
        "duration": 72,
        "start_time": "2023-01-09T16:51:10.904Z"
      },
      {
        "duration": 13,
        "start_time": "2023-01-09T16:51:14.648Z"
      },
      {
        "duration": 46,
        "start_time": "2023-01-10T10:32:44.361Z"
      },
      {
        "duration": 707,
        "start_time": "2023-01-10T10:32:58.736Z"
      },
      {
        "duration": 21,
        "start_time": "2023-01-10T10:32:59.444Z"
      },
      {
        "duration": 14,
        "start_time": "2023-01-10T10:32:59.467Z"
      },
      {
        "duration": 16,
        "start_time": "2023-01-10T10:32:59.483Z"
      },
      {
        "duration": 33,
        "start_time": "2023-01-10T10:32:59.500Z"
      },
      {
        "duration": 3,
        "start_time": "2023-01-10T10:32:59.535Z"
      },
      {
        "duration": 12,
        "start_time": "2023-01-10T10:32:59.539Z"
      },
      {
        "duration": 21,
        "start_time": "2023-01-10T10:32:59.552Z"
      },
      {
        "duration": 24,
        "start_time": "2023-01-10T10:32:59.574Z"
      },
      {
        "duration": 4,
        "start_time": "2023-01-10T10:32:59.601Z"
      },
      {
        "duration": 41,
        "start_time": "2023-01-10T10:32:59.607Z"
      },
      {
        "duration": 9,
        "start_time": "2023-01-10T10:32:59.650Z"
      },
      {
        "duration": 6,
        "start_time": "2023-01-10T10:32:59.661Z"
      },
      {
        "duration": 15,
        "start_time": "2023-01-10T10:32:59.668Z"
      },
      {
        "duration": 24,
        "start_time": "2023-01-10T10:32:59.684Z"
      },
      {
        "duration": 21,
        "start_time": "2023-01-10T10:32:59.709Z"
      },
      {
        "duration": 3,
        "start_time": "2023-01-10T10:32:59.732Z"
      },
      {
        "duration": 21,
        "start_time": "2023-01-10T10:32:59.737Z"
      },
      {
        "duration": 5,
        "start_time": "2023-01-10T10:32:59.760Z"
      },
      {
        "duration": 3,
        "start_time": "2023-01-10T10:32:59.767Z"
      },
      {
        "duration": 17,
        "start_time": "2023-01-10T10:32:59.771Z"
      },
      {
        "duration": 6,
        "start_time": "2023-01-10T10:32:59.790Z"
      },
      {
        "duration": 24,
        "start_time": "2023-01-10T10:32:59.797Z"
      },
      {
        "duration": 9,
        "start_time": "2023-01-10T10:32:59.822Z"
      },
      {
        "duration": 11,
        "start_time": "2023-01-10T10:32:59.833Z"
      },
      {
        "duration": 14,
        "start_time": "2023-01-10T10:32:59.846Z"
      },
      {
        "duration": 8,
        "start_time": "2023-01-10T10:36:37.836Z"
      },
      {
        "duration": 60,
        "start_time": "2023-01-10T10:36:51.218Z"
      },
      {
        "duration": 8,
        "start_time": "2023-01-10T10:37:01.243Z"
      },
      {
        "duration": 10,
        "start_time": "2023-01-10T10:39:23.151Z"
      },
      {
        "duration": 8,
        "start_time": "2023-01-10T10:50:52.229Z"
      },
      {
        "duration": 7,
        "start_time": "2023-01-10T10:51:07.133Z"
      },
      {
        "duration": 7,
        "start_time": "2023-01-10T10:51:08.197Z"
      },
      {
        "duration": 516,
        "start_time": "2023-01-10T11:06:36.045Z"
      },
      {
        "duration": 22,
        "start_time": "2023-01-10T11:06:36.564Z"
      },
      {
        "duration": 15,
        "start_time": "2023-01-10T11:06:36.588Z"
      },
      {
        "duration": 20,
        "start_time": "2023-01-10T11:06:36.605Z"
      },
      {
        "duration": 38,
        "start_time": "2023-01-10T11:06:36.627Z"
      },
      {
        "duration": 5,
        "start_time": "2023-01-10T11:06:36.667Z"
      },
      {
        "duration": 10,
        "start_time": "2023-01-10T11:06:36.673Z"
      },
      {
        "duration": 13,
        "start_time": "2023-01-10T11:06:36.685Z"
      },
      {
        "duration": 17,
        "start_time": "2023-01-10T11:06:36.700Z"
      },
      {
        "duration": 14,
        "start_time": "2023-01-10T11:06:36.720Z"
      },
      {
        "duration": 47,
        "start_time": "2023-01-10T11:06:36.735Z"
      },
      {
        "duration": 11,
        "start_time": "2023-01-10T11:06:36.784Z"
      },
      {
        "duration": 7,
        "start_time": "2023-01-10T11:06:36.797Z"
      },
      {
        "duration": 19,
        "start_time": "2023-01-10T11:06:36.805Z"
      },
      {
        "duration": 28,
        "start_time": "2023-01-10T11:06:36.825Z"
      },
      {
        "duration": 16,
        "start_time": "2023-01-10T11:06:36.854Z"
      },
      {
        "duration": 8,
        "start_time": "2023-01-10T11:06:36.871Z"
      },
      {
        "duration": 16,
        "start_time": "2023-01-10T11:06:36.881Z"
      },
      {
        "duration": 5,
        "start_time": "2023-01-10T11:06:36.899Z"
      },
      {
        "duration": 3,
        "start_time": "2023-01-10T11:06:36.905Z"
      },
      {
        "duration": 9,
        "start_time": "2023-01-10T11:06:36.915Z"
      },
      {
        "duration": 7,
        "start_time": "2023-01-10T11:06:36.925Z"
      },
      {
        "duration": 14,
        "start_time": "2023-01-10T11:06:36.933Z"
      },
      {
        "duration": 14,
        "start_time": "2023-01-10T11:06:36.948Z"
      },
      {
        "duration": 9,
        "start_time": "2023-01-10T11:06:36.964Z"
      },
      {
        "duration": 8,
        "start_time": "2023-01-10T11:06:36.975Z"
      },
      {
        "duration": 450,
        "start_time": "2023-01-10T13:56:33.684Z"
      },
      {
        "duration": 23,
        "start_time": "2023-01-10T13:56:34.136Z"
      },
      {
        "duration": 19,
        "start_time": "2023-01-10T13:56:34.161Z"
      },
      {
        "duration": 13,
        "start_time": "2023-01-10T13:56:34.183Z"
      },
      {
        "duration": 57,
        "start_time": "2023-01-10T13:56:34.197Z"
      },
      {
        "duration": 3,
        "start_time": "2023-01-10T13:56:34.256Z"
      },
      {
        "duration": 13,
        "start_time": "2023-01-10T13:56:34.261Z"
      },
      {
        "duration": 9,
        "start_time": "2023-01-10T13:56:34.276Z"
      },
      {
        "duration": 10,
        "start_time": "2023-01-10T13:56:34.286Z"
      },
      {
        "duration": 10,
        "start_time": "2023-01-10T13:56:34.300Z"
      },
      {
        "duration": 54,
        "start_time": "2023-01-10T13:56:34.312Z"
      },
      {
        "duration": 11,
        "start_time": "2023-01-10T13:56:34.367Z"
      },
      {
        "duration": 8,
        "start_time": "2023-01-10T13:56:34.379Z"
      },
      {
        "duration": 22,
        "start_time": "2023-01-10T13:56:34.388Z"
      },
      {
        "duration": 29,
        "start_time": "2023-01-10T13:56:34.412Z"
      },
      {
        "duration": 18,
        "start_time": "2023-01-10T13:56:34.443Z"
      },
      {
        "duration": 10,
        "start_time": "2023-01-10T13:56:34.463Z"
      },
      {
        "duration": 23,
        "start_time": "2023-01-10T13:56:34.475Z"
      },
      {
        "duration": 9,
        "start_time": "2023-01-10T13:56:34.500Z"
      },
      {
        "duration": 5,
        "start_time": "2023-01-10T13:56:34.511Z"
      },
      {
        "duration": 21,
        "start_time": "2023-01-10T13:56:34.518Z"
      },
      {
        "duration": 23,
        "start_time": "2023-01-10T13:56:34.541Z"
      },
      {
        "duration": 7,
        "start_time": "2023-01-10T13:56:34.566Z"
      },
      {
        "duration": 19,
        "start_time": "2023-01-10T13:56:34.575Z"
      },
      {
        "duration": 9,
        "start_time": "2023-01-10T13:56:34.596Z"
      },
      {
        "duration": 14,
        "start_time": "2023-01-10T13:56:34.607Z"
      },
      {
        "duration": 69,
        "start_time": "2023-01-10T14:01:50.406Z"
      },
      {
        "duration": 449,
        "start_time": "2023-01-11T07:16:35.290Z"
      },
      {
        "duration": 149,
        "start_time": "2023-01-11T07:16:35.740Z"
      },
      {
        "duration": 33,
        "start_time": "2023-01-11T07:16:35.891Z"
      },
      {
        "duration": 33,
        "start_time": "2023-01-11T07:16:35.926Z"
      },
      {
        "duration": 10,
        "start_time": "2023-01-11T07:16:35.961Z"
      },
      {
        "duration": 54,
        "start_time": "2023-01-11T07:16:35.972Z"
      },
      {
        "duration": 5,
        "start_time": "2023-01-11T07:16:36.027Z"
      },
      {
        "duration": 17,
        "start_time": "2023-01-11T07:16:36.033Z"
      },
      {
        "duration": 10,
        "start_time": "2023-01-11T07:16:36.052Z"
      },
      {
        "duration": 9,
        "start_time": "2023-01-11T07:16:36.066Z"
      },
      {
        "duration": 7,
        "start_time": "2023-01-11T07:16:36.077Z"
      },
      {
        "duration": 54,
        "start_time": "2023-01-11T07:16:36.086Z"
      },
      {
        "duration": 12,
        "start_time": "2023-01-11T07:16:36.143Z"
      },
      {
        "duration": 6,
        "start_time": "2023-01-11T07:16:36.157Z"
      },
      {
        "duration": 16,
        "start_time": "2023-01-11T07:16:36.164Z"
      },
      {
        "duration": 41,
        "start_time": "2023-01-11T07:16:36.206Z"
      },
      {
        "duration": 17,
        "start_time": "2023-01-11T07:16:36.249Z"
      },
      {
        "duration": 3,
        "start_time": "2023-01-11T07:16:36.268Z"
      },
      {
        "duration": 14,
        "start_time": "2023-01-11T07:16:36.273Z"
      },
      {
        "duration": 29,
        "start_time": "2023-01-11T07:16:36.288Z"
      },
      {
        "duration": 14,
        "start_time": "2023-01-11T07:16:36.321Z"
      },
      {
        "duration": 22,
        "start_time": "2023-01-11T07:16:36.337Z"
      },
      {
        "duration": 10,
        "start_time": "2023-01-11T07:16:36.361Z"
      },
      {
        "duration": 13,
        "start_time": "2023-01-11T07:16:36.373Z"
      },
      {
        "duration": 10,
        "start_time": "2023-01-11T07:16:36.388Z"
      },
      {
        "duration": 33,
        "start_time": "2023-01-11T07:16:36.399Z"
      },
      {
        "duration": 12,
        "start_time": "2023-01-11T07:16:36.433Z"
      },
      {
        "duration": 427,
        "start_time": "2023-01-11T07:17:30.356Z"
      },
      {
        "duration": 81,
        "start_time": "2023-01-11T07:17:30.786Z"
      },
      {
        "duration": 84,
        "start_time": "2023-01-11T07:17:30.868Z"
      },
      {
        "duration": 0,
        "start_time": "2023-01-11T07:17:30.954Z"
      },
      {
        "duration": 0,
        "start_time": "2023-01-11T07:17:30.955Z"
      },
      {
        "duration": 0,
        "start_time": "2023-01-11T07:17:30.956Z"
      },
      {
        "duration": 0,
        "start_time": "2023-01-11T07:17:30.958Z"
      },
      {
        "duration": 0,
        "start_time": "2023-01-11T07:17:30.958Z"
      },
      {
        "duration": 0,
        "start_time": "2023-01-11T07:17:30.959Z"
      },
      {
        "duration": 0,
        "start_time": "2023-01-11T07:17:30.961Z"
      },
      {
        "duration": 0,
        "start_time": "2023-01-11T07:17:30.961Z"
      },
      {
        "duration": 0,
        "start_time": "2023-01-11T07:17:30.962Z"
      },
      {
        "duration": 0,
        "start_time": "2023-01-11T07:17:30.963Z"
      },
      {
        "duration": 0,
        "start_time": "2023-01-11T07:17:30.964Z"
      },
      {
        "duration": 0,
        "start_time": "2023-01-11T07:17:30.965Z"
      },
      {
        "duration": 0,
        "start_time": "2023-01-11T07:17:30.967Z"
      },
      {
        "duration": 0,
        "start_time": "2023-01-11T07:17:30.968Z"
      },
      {
        "duration": 0,
        "start_time": "2023-01-11T07:17:30.969Z"
      },
      {
        "duration": 0,
        "start_time": "2023-01-11T07:17:30.970Z"
      },
      {
        "duration": 0,
        "start_time": "2023-01-11T07:17:30.972Z"
      },
      {
        "duration": 0,
        "start_time": "2023-01-11T07:17:30.973Z"
      },
      {
        "duration": 0,
        "start_time": "2023-01-11T07:17:30.974Z"
      },
      {
        "duration": 0,
        "start_time": "2023-01-11T07:17:30.975Z"
      },
      {
        "duration": 0,
        "start_time": "2023-01-11T07:17:30.977Z"
      },
      {
        "duration": 0,
        "start_time": "2023-01-11T07:17:30.978Z"
      },
      {
        "duration": 0,
        "start_time": "2023-01-11T07:17:30.979Z"
      },
      {
        "duration": 0,
        "start_time": "2023-01-11T07:17:30.980Z"
      },
      {
        "duration": 0,
        "start_time": "2023-01-11T07:17:30.981Z"
      },
      {
        "duration": 451,
        "start_time": "2023-01-11T07:18:15.089Z"
      },
      {
        "duration": 85,
        "start_time": "2023-01-11T07:18:15.542Z"
      },
      {
        "duration": 25,
        "start_time": "2023-01-11T07:18:15.628Z"
      },
      {
        "duration": 23,
        "start_time": "2023-01-11T07:18:15.655Z"
      },
      {
        "duration": 43,
        "start_time": "2023-01-11T07:18:15.681Z"
      },
      {
        "duration": 40,
        "start_time": "2023-01-11T07:18:15.726Z"
      },
      {
        "duration": 3,
        "start_time": "2023-01-11T07:18:15.768Z"
      },
      {
        "duration": 16,
        "start_time": "2023-01-11T07:18:15.773Z"
      },
      {
        "duration": 4,
        "start_time": "2023-01-11T07:18:15.791Z"
      },
      {
        "duration": 14,
        "start_time": "2023-01-11T07:18:15.810Z"
      },
      {
        "duration": 16,
        "start_time": "2023-01-11T07:18:15.826Z"
      },
      {
        "duration": 57,
        "start_time": "2023-01-11T07:18:15.843Z"
      },
      {
        "duration": 23,
        "start_time": "2023-01-11T07:18:15.901Z"
      },
      {
        "duration": 22,
        "start_time": "2023-01-11T07:18:15.927Z"
      },
      {
        "duration": 13,
        "start_time": "2023-01-11T07:18:15.951Z"
      },
      {
        "duration": 29,
        "start_time": "2023-01-11T07:18:15.966Z"
      },
      {
        "duration": 27,
        "start_time": "2023-01-11T07:18:15.997Z"
      },
      {
        "duration": 15,
        "start_time": "2023-01-11T07:18:16.026Z"
      },
      {
        "duration": 12,
        "start_time": "2023-01-11T07:18:16.043Z"
      },
      {
        "duration": 6,
        "start_time": "2023-01-11T07:18:16.057Z"
      },
      {
        "duration": 5,
        "start_time": "2023-01-11T07:18:16.065Z"
      },
      {
        "duration": 13,
        "start_time": "2023-01-11T07:18:16.071Z"
      },
      {
        "duration": 18,
        "start_time": "2023-01-11T07:18:16.107Z"
      },
      {
        "duration": 25,
        "start_time": "2023-01-11T07:18:16.127Z"
      },
      {
        "duration": 16,
        "start_time": "2023-01-11T07:18:16.157Z"
      },
      {
        "duration": 12,
        "start_time": "2023-01-11T07:18:16.175Z"
      },
      {
        "duration": 20,
        "start_time": "2023-01-11T07:18:16.189Z"
      },
      {
        "duration": 74,
        "start_time": "2023-01-11T07:34:27.442Z"
      },
      {
        "duration": 12,
        "start_time": "2023-01-11T07:43:33.809Z"
      },
      {
        "duration": 17,
        "start_time": "2023-01-11T08:00:27.222Z"
      },
      {
        "duration": 8,
        "start_time": "2023-01-11T08:00:38.871Z"
      },
      {
        "duration": 18,
        "start_time": "2023-01-11T08:00:41.462Z"
      },
      {
        "duration": 75,
        "start_time": "2023-01-11T08:42:12.232Z"
      },
      {
        "duration": 101,
        "start_time": "2023-01-11T08:42:37.002Z"
      },
      {
        "duration": 91,
        "start_time": "2023-01-11T08:43:40.626Z"
      },
      {
        "duration": 81,
        "start_time": "2023-01-11T08:43:51.834Z"
      },
      {
        "duration": 106,
        "start_time": "2023-01-11T08:43:55.718Z"
      },
      {
        "duration": 69,
        "start_time": "2023-01-11T08:44:15.827Z"
      },
      {
        "duration": 76,
        "start_time": "2023-01-11T08:44:35.422Z"
      },
      {
        "duration": 87,
        "start_time": "2023-01-11T08:44:53.564Z"
      },
      {
        "duration": 77,
        "start_time": "2023-01-11T08:45:51.069Z"
      },
      {
        "duration": 77,
        "start_time": "2023-01-11T08:46:16.570Z"
      },
      {
        "duration": 8,
        "start_time": "2023-01-11T08:46:30.232Z"
      },
      {
        "duration": 8,
        "start_time": "2023-01-11T08:47:31.343Z"
      },
      {
        "duration": 10,
        "start_time": "2023-01-11T08:47:32.999Z"
      },
      {
        "duration": 8,
        "start_time": "2023-01-11T08:47:51.080Z"
      },
      {
        "duration": 23,
        "start_time": "2023-01-11T08:48:49.719Z"
      },
      {
        "duration": 13,
        "start_time": "2023-01-11T08:49:47.633Z"
      },
      {
        "duration": 9,
        "start_time": "2023-01-11T08:50:11.564Z"
      },
      {
        "duration": 7,
        "start_time": "2023-01-11T09:11:53.451Z"
      },
      {
        "duration": 28,
        "start_time": "2023-01-11T09:12:25.128Z"
      },
      {
        "duration": 25,
        "start_time": "2023-01-11T09:12:58.734Z"
      },
      {
        "duration": 27,
        "start_time": "2023-01-11T09:13:42.331Z"
      },
      {
        "duration": 20,
        "start_time": "2023-01-11T09:14:14.015Z"
      },
      {
        "duration": 22,
        "start_time": "2023-01-11T09:14:29.099Z"
      },
      {
        "duration": 23,
        "start_time": "2023-01-11T09:14:41.542Z"
      },
      {
        "duration": 21,
        "start_time": "2023-01-11T09:16:26.227Z"
      },
      {
        "duration": 35,
        "start_time": "2023-01-11T09:16:41.880Z"
      },
      {
        "duration": 21,
        "start_time": "2023-01-11T09:17:24.234Z"
      },
      {
        "duration": 31,
        "start_time": "2023-01-11T09:17:35.621Z"
      },
      {
        "duration": 94,
        "start_time": "2023-01-11T09:29:28.238Z"
      },
      {
        "duration": 26,
        "start_time": "2023-01-11T09:29:41.574Z"
      },
      {
        "duration": 25,
        "start_time": "2023-01-11T09:31:25.427Z"
      },
      {
        "duration": 25,
        "start_time": "2023-01-11T09:31:49.978Z"
      },
      {
        "duration": 25,
        "start_time": "2023-01-11T09:32:35.076Z"
      },
      {
        "duration": 25,
        "start_time": "2023-01-11T09:32:39.363Z"
      },
      {
        "duration": 28,
        "start_time": "2023-01-11T09:32:42.771Z"
      },
      {
        "duration": 31,
        "start_time": "2023-01-11T09:33:11.035Z"
      },
      {
        "duration": 42,
        "start_time": "2023-01-11T09:33:22.008Z"
      },
      {
        "duration": 27,
        "start_time": "2023-01-11T09:34:07.433Z"
      },
      {
        "duration": 32,
        "start_time": "2023-01-11T09:35:46.595Z"
      },
      {
        "duration": 73,
        "start_time": "2023-01-11T09:40:47.631Z"
      },
      {
        "duration": 37,
        "start_time": "2023-01-11T10:06:31.085Z"
      },
      {
        "duration": 32,
        "start_time": "2023-01-11T10:08:06.501Z"
      },
      {
        "duration": 8,
        "start_time": "2023-01-11T10:10:51.444Z"
      },
      {
        "duration": 11,
        "start_time": "2023-01-11T10:12:57.965Z"
      },
      {
        "duration": 29,
        "start_time": "2023-01-11T10:14:46.265Z"
      },
      {
        "duration": 29,
        "start_time": "2023-01-11T10:24:22.890Z"
      },
      {
        "duration": 32,
        "start_time": "2023-01-11T10:34:45.367Z"
      },
      {
        "duration": 396,
        "start_time": "2023-01-11T10:38:44.151Z"
      },
      {
        "duration": 88,
        "start_time": "2023-01-11T10:38:44.549Z"
      },
      {
        "duration": 22,
        "start_time": "2023-01-11T10:38:44.639Z"
      },
      {
        "duration": 129,
        "start_time": "2023-01-11T10:38:44.663Z"
      },
      {
        "duration": 27,
        "start_time": "2023-01-11T10:38:44.795Z"
      },
      {
        "duration": 72,
        "start_time": "2023-01-11T10:38:44.824Z"
      },
      {
        "duration": 5,
        "start_time": "2023-01-11T10:38:44.898Z"
      },
      {
        "duration": 60,
        "start_time": "2023-01-11T10:38:44.904Z"
      },
      {
        "duration": 25,
        "start_time": "2023-01-11T10:38:44.967Z"
      },
      {
        "duration": 47,
        "start_time": "2023-01-11T10:38:44.994Z"
      },
      {
        "duration": 14,
        "start_time": "2023-01-11T10:38:45.043Z"
      },
      {
        "duration": 54,
        "start_time": "2023-01-11T10:38:45.059Z"
      },
      {
        "duration": 21,
        "start_time": "2023-01-11T10:38:45.120Z"
      },
      {
        "duration": 19,
        "start_time": "2023-01-11T10:38:45.144Z"
      },
      {
        "duration": 29,
        "start_time": "2023-01-11T10:38:45.165Z"
      },
      {
        "duration": 91,
        "start_time": "2023-01-11T10:38:45.196Z"
      },
      {
        "duration": 26,
        "start_time": "2023-01-11T10:38:45.288Z"
      },
      {
        "duration": 22,
        "start_time": "2023-01-11T10:38:45.319Z"
      },
      {
        "duration": 24,
        "start_time": "2023-01-11T10:38:45.348Z"
      },
      {
        "duration": 11,
        "start_time": "2023-01-11T10:38:45.374Z"
      },
      {
        "duration": 14,
        "start_time": "2023-01-11T10:38:45.386Z"
      },
      {
        "duration": 40,
        "start_time": "2023-01-11T10:38:45.402Z"
      },
      {
        "duration": 10,
        "start_time": "2023-01-11T10:38:45.443Z"
      },
      {
        "duration": 10,
        "start_time": "2023-01-11T10:38:45.455Z"
      },
      {
        "duration": 30,
        "start_time": "2023-01-11T10:38:45.467Z"
      },
      {
        "duration": 12,
        "start_time": "2023-01-11T10:38:45.498Z"
      },
      {
        "duration": 58,
        "start_time": "2023-01-11T10:38:45.511Z"
      },
      {
        "duration": 10,
        "start_time": "2023-01-11T10:38:45.572Z"
      },
      {
        "duration": 44,
        "start_time": "2023-01-11T10:38:45.584Z"
      },
      {
        "duration": 17,
        "start_time": "2023-01-11T10:38:45.636Z"
      },
      {
        "duration": 35,
        "start_time": "2023-01-11T10:38:45.655Z"
      },
      {
        "duration": 383,
        "start_time": "2023-01-11T10:39:52.272Z"
      },
      {
        "duration": 88,
        "start_time": "2023-01-11T10:39:52.657Z"
      },
      {
        "duration": 22,
        "start_time": "2023-01-11T10:39:52.746Z"
      },
      {
        "duration": 15,
        "start_time": "2023-01-11T10:39:52.769Z"
      },
      {
        "duration": 58,
        "start_time": "2023-01-11T10:39:52.786Z"
      },
      {
        "duration": 38,
        "start_time": "2023-01-11T10:39:52.845Z"
      },
      {
        "duration": 3,
        "start_time": "2023-01-11T10:39:52.885Z"
      },
      {
        "duration": 13,
        "start_time": "2023-01-11T10:39:52.890Z"
      },
      {
        "duration": 30,
        "start_time": "2023-01-11T10:39:52.904Z"
      },
      {
        "duration": 41,
        "start_time": "2023-01-11T10:39:52.939Z"
      },
      {
        "duration": 54,
        "start_time": "2023-01-11T10:39:52.981Z"
      },
      {
        "duration": 85,
        "start_time": "2023-01-11T10:39:53.038Z"
      },
      {
        "duration": 16,
        "start_time": "2023-01-11T10:39:53.128Z"
      },
      {
        "duration": 12,
        "start_time": "2023-01-11T10:39:53.147Z"
      },
      {
        "duration": 41,
        "start_time": "2023-01-11T10:39:53.160Z"
      },
      {
        "duration": 57,
        "start_time": "2023-01-11T10:39:53.203Z"
      },
      {
        "duration": 19,
        "start_time": "2023-01-11T10:39:53.261Z"
      },
      {
        "duration": 3,
        "start_time": "2023-01-11T10:39:53.282Z"
      },
      {
        "duration": 51,
        "start_time": "2023-01-11T10:39:53.287Z"
      },
      {
        "duration": 10,
        "start_time": "2023-01-11T10:39:53.340Z"
      },
      {
        "duration": 8,
        "start_time": "2023-01-11T10:39:53.351Z"
      },
      {
        "duration": 16,
        "start_time": "2023-01-11T10:39:53.361Z"
      },
      {
        "duration": 24,
        "start_time": "2023-01-11T10:39:53.378Z"
      },
      {
        "duration": 45,
        "start_time": "2023-01-11T10:39:53.403Z"
      },
      {
        "duration": 49,
        "start_time": "2023-01-11T10:39:53.450Z"
      },
      {
        "duration": 20,
        "start_time": "2023-01-11T10:39:53.501Z"
      },
      {
        "duration": 58,
        "start_time": "2023-01-11T10:39:53.525Z"
      },
      {
        "duration": 29,
        "start_time": "2023-01-11T10:39:53.584Z"
      },
      {
        "duration": 66,
        "start_time": "2023-01-11T10:39:53.615Z"
      },
      {
        "duration": 14,
        "start_time": "2023-01-11T10:39:53.682Z"
      },
      {
        "duration": 73,
        "start_time": "2023-01-11T10:39:53.697Z"
      },
      {
        "duration": 31,
        "start_time": "2023-01-11T10:41:20.784Z"
      },
      {
        "duration": 45,
        "start_time": "2023-01-11T10:43:05.203Z"
      },
      {
        "duration": 43,
        "start_time": "2023-01-11T10:49:18.490Z"
      },
      {
        "duration": 9,
        "start_time": "2023-01-11T10:50:07.928Z"
      },
      {
        "duration": 104,
        "start_time": "2023-01-11T10:50:58.068Z"
      },
      {
        "duration": 115,
        "start_time": "2023-01-11T10:51:21.749Z"
      },
      {
        "duration": 79,
        "start_time": "2023-01-11T10:52:02.756Z"
      },
      {
        "duration": 101,
        "start_time": "2023-01-11T10:53:02.287Z"
      },
      {
        "duration": 4,
        "start_time": "2023-01-11T10:54:19.073Z"
      },
      {
        "duration": 74,
        "start_time": "2023-01-11T10:54:31.944Z"
      },
      {
        "duration": 5,
        "start_time": "2023-01-11T10:54:54.732Z"
      },
      {
        "duration": 4,
        "start_time": "2023-01-11T10:55:13.866Z"
      },
      {
        "duration": 105,
        "start_time": "2023-01-11T10:56:17.330Z"
      },
      {
        "duration": 4,
        "start_time": "2023-01-11T10:56:32.652Z"
      },
      {
        "duration": 4,
        "start_time": "2023-01-11T10:56:40.884Z"
      },
      {
        "duration": 6,
        "start_time": "2023-01-11T10:56:56.987Z"
      },
      {
        "duration": 5,
        "start_time": "2023-01-11T10:57:20.277Z"
      },
      {
        "duration": 432,
        "start_time": "2023-01-11T10:59:06.225Z"
      },
      {
        "duration": 90,
        "start_time": "2023-01-11T10:59:06.659Z"
      },
      {
        "duration": 24,
        "start_time": "2023-01-11T10:59:06.751Z"
      },
      {
        "duration": 38,
        "start_time": "2023-01-11T10:59:06.776Z"
      },
      {
        "duration": 18,
        "start_time": "2023-01-11T10:59:06.822Z"
      },
      {
        "duration": 35,
        "start_time": "2023-01-11T10:59:06.842Z"
      },
      {
        "duration": 3,
        "start_time": "2023-01-11T10:59:06.879Z"
      },
      {
        "duration": 11,
        "start_time": "2023-01-11T10:59:06.884Z"
      },
      {
        "duration": 23,
        "start_time": "2023-01-11T10:59:06.897Z"
      },
      {
        "duration": 19,
        "start_time": "2023-01-11T10:59:06.921Z"
      },
      {
        "duration": 7,
        "start_time": "2023-01-11T10:59:06.942Z"
      },
      {
        "duration": 47,
        "start_time": "2023-01-11T10:59:06.951Z"
      },
      {
        "duration": 33,
        "start_time": "2023-01-11T10:59:06.999Z"
      },
      {
        "duration": 10,
        "start_time": "2023-01-11T10:59:07.037Z"
      },
      {
        "duration": 19,
        "start_time": "2023-01-11T10:59:07.049Z"
      },
      {
        "duration": 20,
        "start_time": "2023-01-11T10:59:07.070Z"
      },
      {
        "duration": 22,
        "start_time": "2023-01-11T10:59:07.092Z"
      },
      {
        "duration": 12,
        "start_time": "2023-01-11T10:59:07.126Z"
      },
      {
        "duration": 13,
        "start_time": "2023-01-11T10:59:07.139Z"
      },
      {
        "duration": 15,
        "start_time": "2023-01-11T10:59:07.153Z"
      },
      {
        "duration": 5,
        "start_time": "2023-01-11T10:59:07.169Z"
      },
      {
        "duration": 13,
        "start_time": "2023-01-11T10:59:07.175Z"
      },
      {
        "duration": 7,
        "start_time": "2023-01-11T10:59:07.191Z"
      },
      {
        "duration": 38,
        "start_time": "2023-01-11T10:59:07.200Z"
      },
      {
        "duration": 29,
        "start_time": "2023-01-11T10:59:07.239Z"
      },
      {
        "duration": 10,
        "start_time": "2023-01-11T10:59:07.269Z"
      },
      {
        "duration": 48,
        "start_time": "2023-01-11T10:59:07.280Z"
      },
      {
        "duration": 14,
        "start_time": "2023-01-11T10:59:07.336Z"
      },
      {
        "duration": 46,
        "start_time": "2023-01-11T10:59:07.352Z"
      },
      {
        "duration": 23,
        "start_time": "2023-01-11T10:59:07.401Z"
      },
      {
        "duration": 59,
        "start_time": "2023-01-11T10:59:07.425Z"
      },
      {
        "duration": 9,
        "start_time": "2023-01-11T10:59:07.485Z"
      },
      {
        "duration": 101,
        "start_time": "2023-01-11T10:59:07.496Z"
      },
      {
        "duration": 439,
        "start_time": "2023-01-11T13:29:09.183Z"
      },
      {
        "duration": 77,
        "start_time": "2023-01-11T13:29:09.624Z"
      },
      {
        "duration": 24,
        "start_time": "2023-01-11T13:29:09.703Z"
      },
      {
        "duration": 20,
        "start_time": "2023-01-11T13:29:09.729Z"
      },
      {
        "duration": 12,
        "start_time": "2023-01-11T13:29:09.751Z"
      },
      {
        "duration": 62,
        "start_time": "2023-01-11T13:29:09.764Z"
      },
      {
        "duration": 5,
        "start_time": "2023-01-11T13:29:09.827Z"
      },
      {
        "duration": 31,
        "start_time": "2023-01-11T13:29:09.834Z"
      },
      {
        "duration": 5,
        "start_time": "2023-01-11T13:29:09.867Z"
      },
      {
        "duration": 7,
        "start_time": "2023-01-11T13:29:09.876Z"
      },
      {
        "duration": 5,
        "start_time": "2023-01-11T13:29:09.885Z"
      },
      {
        "duration": 46,
        "start_time": "2023-01-11T13:29:09.891Z"
      },
      {
        "duration": 10,
        "start_time": "2023-01-11T13:29:09.938Z"
      },
      {
        "duration": 4,
        "start_time": "2023-01-11T13:29:09.950Z"
      },
      {
        "duration": 16,
        "start_time": "2023-01-11T13:29:09.955Z"
      },
      {
        "duration": 42,
        "start_time": "2023-01-11T13:29:09.973Z"
      },
      {
        "duration": 18,
        "start_time": "2023-01-11T13:29:10.017Z"
      },
      {
        "duration": 3,
        "start_time": "2023-01-11T13:29:10.037Z"
      },
      {
        "duration": 16,
        "start_time": "2023-01-11T13:29:10.042Z"
      },
      {
        "duration": 12,
        "start_time": "2023-01-11T13:29:10.060Z"
      },
      {
        "duration": 3,
        "start_time": "2023-01-11T13:29:10.074Z"
      },
      {
        "duration": 33,
        "start_time": "2023-01-11T13:29:10.079Z"
      },
      {
        "duration": 12,
        "start_time": "2023-01-11T13:29:10.113Z"
      },
      {
        "duration": 7,
        "start_time": "2023-01-11T13:29:10.127Z"
      },
      {
        "duration": 44,
        "start_time": "2023-01-11T13:29:10.135Z"
      },
      {
        "duration": 28,
        "start_time": "2023-01-11T13:29:10.181Z"
      },
      {
        "duration": 30,
        "start_time": "2023-01-11T13:29:10.211Z"
      },
      {
        "duration": 10,
        "start_time": "2023-01-11T13:29:10.245Z"
      },
      {
        "duration": 59,
        "start_time": "2023-01-11T13:29:10.256Z"
      },
      {
        "duration": 10,
        "start_time": "2023-01-11T13:29:10.317Z"
      },
      {
        "duration": 36,
        "start_time": "2023-01-11T13:29:10.329Z"
      },
      {
        "duration": 6,
        "start_time": "2023-01-11T13:29:10.367Z"
      },
      {
        "duration": 1081,
        "start_time": "2023-01-11T13:39:10.885Z"
      },
      {
        "duration": 72,
        "start_time": "2023-01-11T13:41:42.985Z"
      },
      {
        "duration": 8,
        "start_time": "2023-01-11T13:42:48.018Z"
      },
      {
        "duration": 3,
        "start_time": "2023-01-11T13:42:55.114Z"
      },
      {
        "duration": 6,
        "start_time": "2023-01-11T13:46:19.142Z"
      },
      {
        "duration": 25,
        "start_time": "2023-01-11T13:49:27.493Z"
      },
      {
        "duration": 27,
        "start_time": "2023-01-11T13:53:43.598Z"
      },
      {
        "duration": 9,
        "start_time": "2023-01-11T13:54:25.257Z"
      },
      {
        "duration": 130,
        "start_time": "2023-01-11T13:54:49.119Z"
      },
      {
        "duration": 93,
        "start_time": "2023-01-11T13:55:08.937Z"
      },
      {
        "duration": 414,
        "start_time": "2023-01-11T13:55:32.499Z"
      },
      {
        "duration": 77,
        "start_time": "2023-01-11T13:55:32.915Z"
      },
      {
        "duration": 24,
        "start_time": "2023-01-11T13:55:32.994Z"
      },
      {
        "duration": 16,
        "start_time": "2023-01-11T13:55:33.019Z"
      },
      {
        "duration": 10,
        "start_time": "2023-01-11T13:55:33.038Z"
      },
      {
        "duration": 58,
        "start_time": "2023-01-11T13:55:33.050Z"
      },
      {
        "duration": 4,
        "start_time": "2023-01-11T13:55:33.109Z"
      },
      {
        "duration": 9,
        "start_time": "2023-01-11T13:55:33.115Z"
      },
      {
        "duration": 4,
        "start_time": "2023-01-11T13:55:33.126Z"
      },
      {
        "duration": 8,
        "start_time": "2023-01-11T13:55:33.132Z"
      },
      {
        "duration": 5,
        "start_time": "2023-01-11T13:55:33.141Z"
      },
      {
        "duration": 68,
        "start_time": "2023-01-11T13:55:33.147Z"
      },
      {
        "duration": 11,
        "start_time": "2023-01-11T13:55:33.217Z"
      },
      {
        "duration": 4,
        "start_time": "2023-01-11T13:55:33.231Z"
      },
      {
        "duration": 15,
        "start_time": "2023-01-11T13:55:33.236Z"
      },
      {
        "duration": 23,
        "start_time": "2023-01-11T13:55:33.253Z"
      },
      {
        "duration": 38,
        "start_time": "2023-01-11T13:55:33.278Z"
      },
      {
        "duration": 4,
        "start_time": "2023-01-11T13:55:33.317Z"
      },
      {
        "duration": 15,
        "start_time": "2023-01-11T13:55:33.323Z"
      },
      {
        "duration": 14,
        "start_time": "2023-01-11T13:55:33.340Z"
      },
      {
        "duration": 14,
        "start_time": "2023-01-11T13:55:33.356Z"
      },
      {
        "duration": 14,
        "start_time": "2023-01-11T13:55:33.371Z"
      },
      {
        "duration": 20,
        "start_time": "2023-01-11T13:55:33.386Z"
      },
      {
        "duration": 10,
        "start_time": "2023-01-11T13:55:33.408Z"
      },
      {
        "duration": 28,
        "start_time": "2023-01-11T13:55:33.420Z"
      },
      {
        "duration": 9,
        "start_time": "2023-01-11T13:55:33.450Z"
      },
      {
        "duration": 55,
        "start_time": "2023-01-11T13:55:33.461Z"
      },
      {
        "duration": 9,
        "start_time": "2023-01-11T13:55:33.518Z"
      },
      {
        "duration": 29,
        "start_time": "2023-01-11T13:55:33.529Z"
      },
      {
        "duration": 11,
        "start_time": "2023-01-11T13:55:33.559Z"
      },
      {
        "duration": 57,
        "start_time": "2023-01-11T13:55:33.571Z"
      },
      {
        "duration": 5,
        "start_time": "2023-01-11T13:55:33.629Z"
      },
      {
        "duration": 418,
        "start_time": "2023-01-12T06:39:38.231Z"
      },
      {
        "duration": 141,
        "start_time": "2023-01-12T06:39:38.651Z"
      },
      {
        "duration": 23,
        "start_time": "2023-01-12T06:39:38.794Z"
      },
      {
        "duration": 27,
        "start_time": "2023-01-12T06:39:38.821Z"
      },
      {
        "duration": 51,
        "start_time": "2023-01-12T06:39:38.850Z"
      },
      {
        "duration": 57,
        "start_time": "2023-01-12T06:39:38.903Z"
      },
      {
        "duration": 22,
        "start_time": "2023-01-12T06:39:38.962Z"
      },
      {
        "duration": 87,
        "start_time": "2023-01-12T06:39:38.986Z"
      },
      {
        "duration": 45,
        "start_time": "2023-01-12T06:39:39.075Z"
      },
      {
        "duration": 32,
        "start_time": "2023-01-12T06:39:39.122Z"
      },
      {
        "duration": 43,
        "start_time": "2023-01-12T06:39:39.156Z"
      },
      {
        "duration": 74,
        "start_time": "2023-01-12T06:39:39.201Z"
      },
      {
        "duration": 31,
        "start_time": "2023-01-12T06:39:39.277Z"
      },
      {
        "duration": 23,
        "start_time": "2023-01-12T06:39:39.310Z"
      },
      {
        "duration": 34,
        "start_time": "2023-01-12T06:39:39.335Z"
      },
      {
        "duration": 54,
        "start_time": "2023-01-12T06:39:39.371Z"
      },
      {
        "duration": 68,
        "start_time": "2023-01-12T06:39:39.427Z"
      },
      {
        "duration": 24,
        "start_time": "2023-01-12T06:39:39.497Z"
      },
      {
        "duration": 78,
        "start_time": "2023-01-12T06:39:39.523Z"
      },
      {
        "duration": 37,
        "start_time": "2023-01-12T06:39:39.604Z"
      },
      {
        "duration": 53,
        "start_time": "2023-01-12T06:39:39.643Z"
      },
      {
        "duration": 48,
        "start_time": "2023-01-12T06:39:39.698Z"
      },
      {
        "duration": 29,
        "start_time": "2023-01-12T06:39:39.748Z"
      },
      {
        "duration": 29,
        "start_time": "2023-01-12T06:39:39.779Z"
      },
      {
        "duration": 42,
        "start_time": "2023-01-12T06:39:39.810Z"
      },
      {
        "duration": 22,
        "start_time": "2023-01-12T06:39:39.854Z"
      },
      {
        "duration": 61,
        "start_time": "2023-01-12T06:39:39.878Z"
      },
      {
        "duration": 24,
        "start_time": "2023-01-12T06:39:39.943Z"
      },
      {
        "duration": 46,
        "start_time": "2023-01-12T06:39:39.969Z"
      },
      {
        "duration": 46,
        "start_time": "2023-01-12T06:39:40.017Z"
      },
      {
        "duration": 60,
        "start_time": "2023-01-12T06:39:40.064Z"
      },
      {
        "duration": 40,
        "start_time": "2023-01-12T06:39:40.126Z"
      }
    ],
    "colab": {
      "provenance": [],
      "toc_visible": true
    },
    "kernelspec": {
      "display_name": "Python 3 (ipykernel)",
      "language": "python",
      "name": "python3"
    },
    "language_info": {
      "codemirror_mode": {
        "name": "ipython",
        "version": 3
      },
      "file_extension": ".py",
      "mimetype": "text/x-python",
      "name": "python",
      "nbconvert_exporter": "python",
      "pygments_lexer": "ipython3",
      "version": "3.9.5"
    },
    "toc": {
      "base_numbering": 1,
      "nav_menu": {},
      "number_sections": true,
      "sideBar": true,
      "skip_h1_title": true,
      "title_cell": "Table of Contents",
      "title_sidebar": "Contents",
      "toc_cell": false,
      "toc_position": {},
      "toc_section_display": true,
      "toc_window_display": true
    }
  },
  "nbformat": 4,
  "nbformat_minor": 5
}